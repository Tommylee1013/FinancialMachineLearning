{
 "cells": [
  {
   "cell_type": "markdown",
   "source": [
    "### Explainable Neural Networks"
   ],
   "metadata": {
    "collapsed": false
   },
   "id": "9c745fa659c5c709"
  },
  {
   "cell_type": "code",
   "execution_count": 2,
   "id": "initial_id",
   "metadata": {
    "collapsed": true,
    "ExecuteTime": {
     "end_time": "2023-12-18T16:08:48.620859Z",
     "start_time": "2023-12-18T16:08:47.705002Z"
    }
   },
   "outputs": [],
   "source": [
    "import numpy as np\n",
    "from tensorflow.keras.models import Sequential\n",
    "from tensorflow.keras.layers import Dense\n",
    "from tensorflow.keras.callbacks import EarlyStopping\n",
    "from tensorflow.keras.wrappers.scikit_learn import KerasRegressor\n",
    "import statsmodels.api as sm\n",
    "import sklearn"
   ]
  },
  {
   "cell_type": "markdown",
   "source": [
    "#### Simple Data Generation Process"
   ],
   "metadata": {
    "collapsed": false
   },
   "id": "5fffd872f699665d"
  },
  {
   "cell_type": "code",
   "execution_count": 70,
   "outputs": [],
   "source": [
    "def generateProcess(\n",
    "    number : int = 5000,\n",
    "    random_sate : int = 42,\n",
    "    number_of_X : int = 2,\n",
    ") -> np.array :\n",
    "    np.random.seed(random_sate) # Set NumPy's random seed for reproducibility\n",
    "    X = np.zeros(shape = (number, number_of_X))\n",
    "    for i in range(number_of_X) :\n",
    "        X[:int(number/2), i] = np.random.randn(int(number/2))\n",
    "        # Use antithetic sampling to reduce the bias in the mean\n",
    "        X[int(number/2):, i] = -X[:int(number/2), i]\n",
    "    \n",
    "    eps = np.zeros(shape=(number,1))\n",
    "    eps[:int(number/2)] = np.random.randn(int(number/2), 1)\n",
    "    eps[int(number/2):] = -eps[:int(number/2)]\n",
    "    \n",
    "    Y = 0\n",
    "    \n",
    "    for i in range(number_of_X) : \n",
    "        Y += X[:, i]\n",
    "        \n",
    "    Y += eps.flatten()\n",
    "    \n",
    "    return Y, X;"
   ],
   "metadata": {
    "collapsed": false,
    "ExecuteTime": {
     "end_time": "2023-12-18T16:36:49.781891Z",
     "start_time": "2023-12-18T16:36:49.764300Z"
    }
   },
   "id": "c5957a0937b14cf0"
  },
  {
   "cell_type": "code",
   "execution_count": 71,
   "outputs": [],
   "source": [
    "Y, X = generateProcess(number_of_X = 2)"
   ],
   "metadata": {
    "collapsed": false,
    "ExecuteTime": {
     "end_time": "2023-12-18T16:36:50.077161Z",
     "start_time": "2023-12-18T16:36:50.066564Z"
    }
   },
   "id": "4f1ce61b170edfb3"
  },
  {
   "cell_type": "code",
   "execution_count": 72,
   "outputs": [
    {
     "data": {
      "text/plain": "array([ 0.64356747,  0.37650625, -1.47926302, ..., -4.95770626,\n        1.17540685,  0.68763402])"
     },
     "execution_count": 72,
     "metadata": {},
     "output_type": "execute_result"
    }
   ],
   "source": [
    "Y"
   ],
   "metadata": {
    "collapsed": false,
    "ExecuteTime": {
     "end_time": "2023-12-18T16:36:50.425964Z",
     "start_time": "2023-12-18T16:36:50.416604Z"
    }
   },
   "id": "a10b4f6f8013c2f1"
  },
  {
   "cell_type": "markdown",
   "source": [
    "#### OLS\n",
    "\n",
    "use OLS to fit a linear model to the data"
   ],
   "metadata": {
    "collapsed": false
   },
   "id": "b9f0a6e32b44460d"
  },
  {
   "cell_type": "code",
   "execution_count": 73,
   "outputs": [],
   "source": [
    "ols_result = sm.OLS(\n",
    "    Y, \n",
    "    sm.add_constant(X)\n",
    ").fit()"
   ],
   "metadata": {
    "collapsed": false,
    "ExecuteTime": {
     "end_time": "2023-12-18T16:36:52.024895Z",
     "start_time": "2023-12-18T16:36:52.010068Z"
    }
   },
   "id": "56f38b73a4798b4e"
  },
  {
   "cell_type": "code",
   "execution_count": 74,
   "outputs": [
    {
     "name": "stdout",
     "output_type": "stream",
     "text": [
      "                            OLS Regression Results                            \n",
      "==============================================================================\n",
      "Dep. Variable:                      y   R-squared:                       0.642\n",
      "Model:                            OLS   Adj. R-squared:                  0.642\n",
      "Method:                 Least Squares   F-statistic:                     4479.\n",
      "Date:                Tue, 19 Dec 2023   Prob (F-statistic):               0.00\n",
      "Time:                        01:36:52   Log-Likelihood:                -7205.3\n",
      "No. Observations:                5000   AIC:                         1.442e+04\n",
      "Df Residuals:                    4997   BIC:                         1.444e+04\n",
      "Df Model:                           2                                         \n",
      "Covariance Type:            nonrobust                                         \n",
      "==============================================================================\n",
      "                 coef    std err          t      P>|t|      [0.025      0.975]\n",
      "------------------------------------------------------------------------------\n",
      "const      -1.435e-17      0.014  -9.92e-16      1.000      -0.028       0.028\n",
      "x1             0.9909      0.015     67.360      0.000       0.962       1.020\n",
      "x2             0.9636      0.014     67.245      0.000       0.935       0.992\n",
      "==============================================================================\n",
      "Omnibus:                        0.226   Durbin-Watson:                   2.074\n",
      "Prob(Omnibus):                  0.893   Jarque-Bera (JB):                0.267\n",
      "Skew:                           0.000   Prob(JB):                        0.875\n",
      "Kurtosis:                       2.964   Cond. No.                         1.03\n",
      "==============================================================================\n",
      "\n",
      "Notes:\n",
      "[1] Standard Errors assume that the covariance matrix of the errors is correctly specified.\n"
     ]
    }
   ],
   "source": [
    "print(ols_result.summary())"
   ],
   "metadata": {
    "collapsed": false,
    "ExecuteTime": {
     "end_time": "2023-12-18T16:36:52.797007Z",
     "start_time": "2023-12-18T16:36:52.723305Z"
    }
   },
   "id": "ba0338dfcc6a4faa"
  },
  {
   "cell_type": "code",
   "execution_count": 75,
   "outputs": [],
   "source": [
    "y_ols = ols_result.predict(sm.add_constant(X))"
   ],
   "metadata": {
    "collapsed": false,
    "ExecuteTime": {
     "end_time": "2023-12-18T16:36:53.383826Z",
     "start_time": "2023-12-18T16:36:53.336367Z"
    }
   },
   "id": "f3190218c7fb3d40"
  },
  {
   "cell_type": "code",
   "execution_count": 76,
   "outputs": [
    {
     "data": {
      "text/plain": "<Figure size 640x480 with 1 Axes>",
      "image/png": "[encoded data removed]"
     },
     "metadata": {},
     "output_type": "display_data"
    }
   ],
   "source": [
    "import matplotlib.pyplot as plt\n",
    "plt.plot(Y.cumsum(), label = 'OLS_real')\n",
    "plt.plot(y_ols.cumsum(), label = 'OLS_estimated')\n",
    "plt.legend()\n",
    "plt.grid(False)"
   ],
   "metadata": {
    "collapsed": false,
    "ExecuteTime": {
     "end_time": "2023-12-18T16:36:54.008950Z",
     "start_time": "2023-12-18T16:36:53.909481Z"
    }
   },
   "id": "c3a4aa49dde8d2fb"
  },
  {
   "cell_type": "markdown",
   "source": [
    "#### Neural Network"
   ],
   "metadata": {
    "collapsed": false
   },
   "id": "ec0649e71dbd74d"
  },
  {
   "cell_type": "code",
   "execution_count": 78,
   "outputs": [],
   "source": [
    "def linear_NN0_model(l1_reg = .0, num_X_input : int = 2) :\n",
    "    model = Sequential()\n",
    "    model.add(\n",
    "        Dense(1, input_dim = num_X_input, kernel_initializer = 'normal')\n",
    "    )\n",
    "    model.compile(\n",
    "        loss = 'mean_squared_error',\n",
    "        optimizer = 'adam',\n",
    "        metrics = ['mae','mse']\n",
    "    )\n",
    "    return model;"
   ],
   "metadata": {
    "collapsed": false,
    "ExecuteTime": {
     "end_time": "2023-12-18T16:36:59.072168Z",
     "start_time": "2023-12-18T16:36:59.054407Z"
    }
   },
   "id": "156da3bde09e11f6"
  },
  {
   "cell_type": "code",
   "execution_count": 79,
   "outputs": [],
   "source": [
    "es = EarlyStopping(monitor = 'loss', mode = 'min', verbose = 0, patience = 10)"
   ],
   "metadata": {
    "collapsed": false,
    "ExecuteTime": {
     "end_time": "2023-12-18T16:36:59.489445Z",
     "start_time": "2023-12-18T16:36:59.485531Z"
    }
   },
   "id": "f234f453940bad86"
  },
  {
   "cell_type": "code",
   "execution_count": 80,
   "outputs": [
    {
     "name": "stderr",
     "output_type": "stream",
     "text": [
      "/var/folders/1q/pl9tj55n57s9jg28npxw61n80000gn/T/ipykernel_15562/4154843586.py:1: DeprecationWarning: KerasRegressor is deprecated, use Sci-Keras (https://github.com/adriangb/scikeras) instead. See https://www.adriangb.com/scikeras/stable/migration.html for help migrating.\n",
      "  linear_neural_network = KerasRegressor(\n"
     ]
    }
   ],
   "source": [
    "linear_neural_network = KerasRegressor(\n",
    "    build_fn = linear_NN0_model, \n",
    "    epochs = 40,\n",
    "    batch_size = 10, \n",
    "    verbose = 0, \n",
    "    callbacks = [es]\n",
    ")"
   ],
   "metadata": {
    "collapsed": false,
    "ExecuteTime": {
     "end_time": "2023-12-18T16:36:59.927676Z",
     "start_time": "2023-12-18T16:36:59.923486Z"
    }
   },
   "id": "28ee54ff1e60d896"
  },
  {
   "cell_type": "code",
   "execution_count": 81,
   "outputs": [
    {
     "data": {
      "text/plain": "<keras.callbacks.History at 0x168b7ac50>"
     },
     "execution_count": 81,
     "metadata": {},
     "output_type": "execute_result"
    }
   ],
   "source": [
    "linear_neural_network.fit(X, Y)"
   ],
   "metadata": {
    "collapsed": false,
    "ExecuteTime": {
     "end_time": "2023-12-18T16:37:04.453478Z",
     "start_time": "2023-12-18T16:37:00.697131Z"
    }
   },
   "id": "9002bc69465682b0"
  },
  {
   "cell_type": "code",
   "execution_count": 82,
   "outputs": [
    {
     "name": "stdout",
     "output_type": "stream",
     "text": [
      "weights: [[0.9893442]\n",
      " [0.9585765]]\n",
      "bias: [0.00113693]\n"
     ]
    }
   ],
   "source": [
    "print(\"weights: \" + str(linear_neural_network.model.layers[0].get_weights()[0]))\n",
    "print(\"bias: \" + str(linear_neural_network.model.layers[0].get_weights()[1]))"
   ],
   "metadata": {
    "collapsed": false,
    "ExecuteTime": {
     "end_time": "2023-12-18T16:37:04.920053Z",
     "start_time": "2023-12-18T16:37:04.907814Z"
    }
   },
   "id": "7126a0b25da6a1f5"
  },
  {
   "cell_type": "code",
   "execution_count": 83,
   "outputs": [
    {
     "data": {
      "text/plain": "array([-1.43529314e-17,  9.90927451e-01,  9.63554999e-01])"
     },
     "execution_count": 83,
     "metadata": {},
     "output_type": "execute_result"
    }
   ],
   "source": [
    "ols_result.params"
   ],
   "metadata": {
    "collapsed": false,
    "ExecuteTime": {
     "end_time": "2023-12-18T16:37:06.577275Z",
     "start_time": "2023-12-18T16:37:06.560169Z"
    }
   },
   "id": "6811fb796d655837"
  },
  {
   "cell_type": "markdown",
   "source": [
    "#### Multi Layer Perceptron"
   ],
   "metadata": {
    "collapsed": false
   },
   "id": "1ba5f753106ac845"
  },
  {
   "cell_type": "code",
   "execution_count": 84,
   "outputs": [],
   "source": [
    "def linear_NN1_model(l1_reg = .0, num_X_input : int = 2) :\n",
    "    model = Sequential()\n",
    "    model.add(\n",
    "        Dense(10, input_dim = num_X_input, kernel_initializer = 'normal')\n",
    "    )\n",
    "    model.add(\n",
    "        Dense(1, kernel_initializer = 'normal', activation = 'linear')\n",
    "    )\n",
    "    model.compile(\n",
    "        loss = 'mean_squared_error',\n",
    "        optimizer = 'adam',\n",
    "        metrics = ['mae','mse']\n",
    "    )\n",
    "    return model;"
   ],
   "metadata": {
    "collapsed": false,
    "ExecuteTime": {
     "end_time": "2023-12-18T16:37:18.311727Z",
     "start_time": "2023-12-18T16:37:18.292392Z"
    }
   },
   "id": "b306bc506c2c4eda"
  },
  {
   "cell_type": "code",
   "execution_count": 85,
   "outputs": [
    {
     "name": "stderr",
     "output_type": "stream",
     "text": [
      "/var/folders/1q/pl9tj55n57s9jg28npxw61n80000gn/T/ipykernel_15562/1859029875.py:1: DeprecationWarning: KerasRegressor is deprecated, use Sci-Keras (https://github.com/adriangb/scikeras) instead. See https://www.adriangb.com/scikeras/stable/migration.html for help migrating.\n",
      "  linear_neural_network = KerasRegressor(\n"
     ]
    }
   ],
   "source": [
    "linear_neural_network = KerasRegressor(\n",
    "    build_fn = linear_NN1_model, \n",
    "    epochs = 50,\n",
    "    batch_size = 10, \n",
    "    verbose = 0, \n",
    "    callbacks = [es]\n",
    ")"
   ],
   "metadata": {
    "collapsed": false,
    "ExecuteTime": {
     "end_time": "2023-12-18T16:37:19.793872Z",
     "start_time": "2023-12-18T16:37:19.780287Z"
    }
   },
   "id": "da4092e74341bad3"
  },
  {
   "cell_type": "code",
   "execution_count": 86,
   "outputs": [
    {
     "data": {
      "text/plain": "<keras.callbacks.History at 0x168e1ebc0>"
     },
     "execution_count": 86,
     "metadata": {},
     "output_type": "execute_result"
    }
   ],
   "source": [
    "linear_neural_network.fit(X, Y)"
   ],
   "metadata": {
    "collapsed": false,
    "ExecuteTime": {
     "end_time": "2023-12-18T16:37:23.827323Z",
     "start_time": "2023-12-18T16:37:20.984629Z"
    }
   },
   "id": "71aa73ad48ec0d4c"
  },
  {
   "cell_type": "code",
   "execution_count": 87,
   "outputs": [
    {
     "name": "stdout",
     "output_type": "stream",
     "text": [
      "[[-0.22381437  0.2937237   0.25400138 -0.3218427   0.3153786   0.33155686\n",
      "   0.3743086   0.29085907  0.3600886  -0.3369728 ]\n",
      " [-0.29346284  0.3017529   0.28752938 -0.34315485  0.3601747   0.27026507\n",
      "   0.30321383  0.21623786  0.15348275 -0.32774606]] [[-0.4385401 ]\n",
      " [ 0.35734177]\n",
      " [ 0.39351556]\n",
      " [-0.31941134]\n",
      " [ 0.31224388]\n",
      " [ 0.31645763]\n",
      " [ 0.32245484]\n",
      " [ 0.3655264 ]\n",
      " [ 0.22246222]\n",
      " [-0.31997493]]\n"
     ]
    }
   ],
   "source": [
    "W1 = linear_neural_network.model.get_weights()[0]\n",
    "b1 = linear_neural_network.model.get_weights()[1]\n",
    "W2 = linear_neural_network.model.get_weights()[2]\n",
    "b2 = linear_neural_network.model.get_weights()[3]\n",
    "print(W1, W2)"
   ],
   "metadata": {
    "collapsed": false,
    "ExecuteTime": {
     "end_time": "2023-12-18T16:37:24.869245Z",
     "start_time": "2023-12-18T16:37:24.853697Z"
    }
   },
   "id": "3ae8229927d53074"
  },
  {
   "cell_type": "code",
   "execution_count": 88,
   "outputs": [],
   "source": [
    "beta_0 = np.dot(np.transpose(W2), b1) + b2\n",
    "beta_1 = np.dot(np.transpose(W2), W1[0])\n",
    "beta_2 = np.dot(np.transpose(W2), W1[1])"
   ],
   "metadata": {
    "collapsed": false,
    "ExecuteTime": {
     "end_time": "2023-12-18T16:37:27.765672Z",
     "start_time": "2023-12-18T16:37:27.755544Z"
    }
   },
   "id": "df926596ee79a62"
  },
  {
   "cell_type": "code",
   "execution_count": 89,
   "outputs": [
    {
     "name": "stdout",
     "output_type": "stream",
     "text": [
      "[-0.03120065] [1.0242071] [0.9730968]\n"
     ]
    }
   ],
   "source": [
    "print(beta_0, beta_1, beta_2)"
   ],
   "metadata": {
    "collapsed": false,
    "ExecuteTime": {
     "end_time": "2023-12-18T16:37:28.611427Z",
     "start_time": "2023-12-18T16:37:28.600275Z"
    }
   },
   "id": "56f9bc3260518a71"
  },
  {
   "cell_type": "code",
   "execution_count": 90,
   "outputs": [
    {
     "data": {
      "text/plain": "array([-1.43529314e-17,  9.90927451e-01,  9.63554999e-01])"
     },
     "execution_count": 90,
     "metadata": {},
     "output_type": "execute_result"
    }
   ],
   "source": [
    "ols_result.params"
   ],
   "metadata": {
    "collapsed": false,
    "ExecuteTime": {
     "end_time": "2023-12-18T16:37:39.286003Z",
     "start_time": "2023-12-18T16:37:39.269519Z"
    }
   },
   "id": "71911e687461ac4"
  },
  {
   "cell_type": "markdown",
   "source": [
    "#### feedforward Neural Network\n",
    "\n",
    "using $\\tanh$ activation function"
   ],
   "metadata": {
    "collapsed": false
   },
   "id": "3f6bccfe69f22ba3"
  },
  {
   "cell_type": "code",
   "execution_count": 91,
   "outputs": [],
   "source": [
    "def linear_NN1_model_act(l1_reg = .0, num_X_input : int = 2) :\n",
    "    model = Sequential()\n",
    "    model.add(\n",
    "        Dense(10, input_dim = num_X_input, kernel_initializer = 'normal', activation = 'tanh')\n",
    "    )\n",
    "    model.add(\n",
    "        Dense(1, kernel_initializer = 'normal')\n",
    "    )\n",
    "    model.compile(\n",
    "        loss = 'mean_squared_error',\n",
    "        optimizer = 'adam',\n",
    "        metrics = ['mae','mse']\n",
    "    )\n",
    "    return model;"
   ],
   "metadata": {
    "collapsed": false,
    "ExecuteTime": {
     "end_time": "2023-12-18T16:40:12.670873Z",
     "start_time": "2023-12-18T16:40:12.646033Z"
    }
   },
   "id": "a1d5a8854d349c0d"
  },
  {
   "cell_type": "code",
   "execution_count": 92,
   "outputs": [
    {
     "name": "stderr",
     "output_type": "stream",
     "text": [
      "/var/folders/1q/pl9tj55n57s9jg28npxw61n80000gn/T/ipykernel_15562/3029664705.py:1: DeprecationWarning: KerasRegressor is deprecated, use Sci-Keras (https://github.com/adriangb/scikeras) instead. See https://www.adriangb.com/scikeras/stable/migration.html for help migrating.\n",
      "  linear_neural_network = KerasRegressor(\n"
     ]
    }
   ],
   "source": [
    "linear_neural_network = KerasRegressor(\n",
    "    build_fn = linear_NN1_model_act, \n",
    "    epochs = 50,\n",
    "    batch_size = 10, \n",
    "    verbose = 0, \n",
    "    callbacks = [es]\n",
    ")"
   ],
   "metadata": {
    "collapsed": false,
    "ExecuteTime": {
     "end_time": "2023-12-18T16:40:31.844926Z",
     "start_time": "2023-12-18T16:40:31.818314Z"
    }
   },
   "id": "473825f493ab5f29"
  },
  {
   "cell_type": "code",
   "execution_count": 93,
   "outputs": [
    {
     "data": {
      "text/plain": "<keras.callbacks.History at 0x168e9ffa0>"
     },
     "execution_count": 93,
     "metadata": {},
     "output_type": "execute_result"
    }
   ],
   "source": [
    "linear_neural_network.fit(X, Y)"
   ],
   "metadata": {
    "collapsed": false,
    "ExecuteTime": {
     "end_time": "2023-12-18T16:40:48.803074Z",
     "start_time": "2023-12-18T16:40:40.286845Z"
    }
   },
   "id": "6cd5af2cbffc9d3b"
  },
  {
   "cell_type": "code",
   "execution_count": 94,
   "outputs": [
    {
     "name": "stdout",
     "output_type": "stream",
     "text": [
      "[[ 0.15984647  0.14963858  0.16746126 -0.14234158 -0.2277824  -0.17488919\n",
      "  -0.141768   -0.16895789  0.1562501  -0.19259238]\n",
      " [ 0.17036904  0.18898699  0.15737641 -0.2011269  -0.07054006 -0.14617404\n",
      "  -0.20372848 -0.15498866  0.17631906 -0.1200993 ]] [[ 0.6069987 ]\n",
      " [ 0.70819676]\n",
      " [ 0.55581886]\n",
      " [-0.5753532 ]\n",
      " [-0.591009  ]\n",
      " [-0.64659715]\n",
      " [-0.60462743]\n",
      " [-0.561211  ]\n",
      " [ 0.5661717 ]\n",
      " [-0.73286885]]\n"
     ]
    }
   ],
   "source": [
    "W1 = linear_neural_network.model.get_weights()[0]\n",
    "b1 = linear_neural_network.model.get_weights()[1]\n",
    "W2 = linear_neural_network.model.get_weights()[2]\n",
    "b2 = linear_neural_network.model.get_weights()[3]\n",
    "print(W1, W2)"
   ],
   "metadata": {
    "collapsed": false,
    "ExecuteTime": {
     "end_time": "2023-12-18T16:40:58.033397Z",
     "start_time": "2023-12-18T16:40:58.009961Z"
    }
   },
   "id": "dbabc555ea8d6aa4"
  },
  {
   "cell_type": "code",
   "execution_count": 95,
   "outputs": [],
   "source": [
    "beta_0 = np.dot(np.transpose(W2), b1) + b2\n",
    "beta_1 = np.dot(np.transpose(W2), W1[0])\n",
    "beta_2 = np.dot(np.transpose(W2), W1[1])"
   ],
   "metadata": {
    "collapsed": false,
    "ExecuteTime": {
     "end_time": "2023-12-18T16:41:06.260809Z",
     "start_time": "2023-12-18T16:41:06.241705Z"
    }
   },
   "id": "dcb8f0d07f17ea4e"
  },
  {
   "cell_type": "code",
   "execution_count": 96,
   "outputs": [
    {
     "name": "stdout",
     "output_type": "stream",
     "text": [
      "[0.04025559] [1.0358264] [0.97465616]\n"
     ]
    }
   ],
   "source": [
    "print(beta_0, beta_1, beta_2)"
   ],
   "metadata": {
    "collapsed": false,
    "ExecuteTime": {
     "end_time": "2023-12-18T16:41:11.714798Z",
     "start_time": "2023-12-18T16:41:11.693867Z"
    }
   },
   "id": "31db86f6d5d94f70"
  },
  {
   "cell_type": "code",
   "execution_count": 97,
   "outputs": [
    {
     "data": {
      "text/plain": "array([-1.43529314e-17,  9.90927451e-01,  9.63554999e-01])"
     },
     "execution_count": 97,
     "metadata": {},
     "output_type": "execute_result"
    }
   ],
   "source": [
    "ols_result.params"
   ],
   "metadata": {
    "collapsed": false,
    "ExecuteTime": {
     "end_time": "2023-12-18T16:41:16.950432Z",
     "start_time": "2023-12-18T16:41:16.921798Z"
    }
   },
   "id": "eaaa48d02a596116"
  },
  {
   "cell_type": "markdown",
   "source": [
    "#### Sensitivities"
   ],
   "metadata": {
    "collapsed": false
   },
   "id": "e005f8849afd32f6"
  },
  {
   "cell_type": "code",
   "execution_count": 109,
   "outputs": [],
   "source": [
    "def sensitivities(model, X) :\n",
    "    W1 = model.model.get_weights()[0]\n",
    "    b1 = model.model.get_weights()[1]\n",
    "    W2 = model.model.get_weights()[2]\n",
    "    b2 = model.model.get_weights()[3]\n",
    "    \n",
    "    M = np.shape(X)[0]\n",
    "    p = np.shape(X)[1]\n",
    "    \n",
    "    beta = np.array(\n",
    "        [0] * M * (p+1),\n",
    "        dtype = 'float64'\n",
    "    ).reshape(M, p + 1)\n",
    "    \n",
    "    beta[:, 0] = (np.dot(np.transpose(W2), np.tanh(b1)) + b2)[0]\n",
    "    for i in range(M) :\n",
    "        Z1 = np.tanh(\n",
    "            np.dot(\n",
    "                np.transpose(W1), np.transpose(X[i,])\n",
    "            ) + b1\n",
    "        )\n",
    "        D = np.diag(1 - Z1 ** 2);\n",
    "        \n",
    "        for j in range(p) :\n",
    "            beta[i, j+1] = np.dot(np.transpose(W2), np.dot(D, W1[j]))\n",
    "    \n",
    "    return beta"
   ],
   "metadata": {
    "collapsed": false,
    "ExecuteTime": {
     "end_time": "2023-12-18T16:48:26.671670Z",
     "start_time": "2023-12-18T16:48:26.653827Z"
    }
   },
   "id": "57ad1324dbe107cf"
  },
  {
   "cell_type": "code",
   "execution_count": 110,
   "outputs": [],
   "source": [
    "beta = sensitivities(linear_neural_network, X)"
   ],
   "metadata": {
    "collapsed": false,
    "ExecuteTime": {
     "end_time": "2023-12-18T16:48:27.106835Z",
     "start_time": "2023-12-18T16:48:27.061963Z"
    }
   },
   "id": "ecbc9d429aab7729"
  },
  {
   "cell_type": "markdown",
   "source": [
    "Check that the intercept is close to one and the coefficients are close to one"
   ],
   "metadata": {
    "collapsed": false
   },
   "id": "bf34096786998ed7"
  },
  {
   "cell_type": "code",
   "execution_count": 111,
   "outputs": [
    {
     "name": "stdout",
     "output_type": "stream",
     "text": [
      "[0.04025503 0.98492193 0.9261213 ]\n"
     ]
    }
   ],
   "source": [
    "print(np.mean(beta, axis = 0))"
   ],
   "metadata": {
    "collapsed": false,
    "ExecuteTime": {
     "end_time": "2023-12-18T16:48:33.784678Z",
     "start_time": "2023-12-18T16:48:33.753147Z"
    }
   },
   "id": "818c0977ce093b43"
  },
  {
   "cell_type": "code",
   "execution_count": 112,
   "outputs": [
    {
     "name": "stdout",
     "output_type": "stream",
     "text": [
      "[0.         0.06260128 0.06093119]\n"
     ]
    }
   ],
   "source": [
    "print(np.std(beta, axis = 0))"
   ],
   "metadata": {
    "collapsed": false,
    "ExecuteTime": {
     "end_time": "2023-12-18T16:48:56.423797Z",
     "start_time": "2023-12-18T16:48:56.394587Z"
    }
   },
   "id": "e0987dd19a2ec9f5"
  },
  {
   "cell_type": "code",
   "execution_count": 113,
   "outputs": [
    {
     "data": {
      "text/plain": "array([-1.43529314e-17,  9.90927451e-01,  9.63554999e-01])"
     },
     "execution_count": 113,
     "metadata": {},
     "output_type": "execute_result"
    }
   ],
   "source": [
    "ols_result.params"
   ],
   "metadata": {
    "collapsed": false,
    "ExecuteTime": {
     "end_time": "2023-12-18T16:49:38.971863Z",
     "start_time": "2023-12-18T16:49:38.934403Z"
    }
   },
   "id": "f65ffc18884acec8"
  }
 ],
 "metadata": {
  "kernelspec": {
   "display_name": "Python 3",
   "language": "python",
   "name": "python3"
  },
  "language_info": {
   "codemirror_mode": {
    "name": "ipython",
    "version": 2
   },
   "file_extension": ".py",
   "mimetype": "text/x-python",
   "name": "python",
   "nbconvert_exporter": "python",
   "pygments_lexer": "ipython2",
   "version": "2.7.6"
  }
 },
 "nbformat": 4,
 "nbformat_minor": 5
}
