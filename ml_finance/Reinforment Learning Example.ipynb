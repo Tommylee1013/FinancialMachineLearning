{
 "cells": [
  {
   "cell_type": "code",
   "execution_count": 9,
   "id": "initial_id",
   "metadata": {
    "collapsed": true,
    "ExecuteTime": {
     "end_time": "2024-03-03T11:21:03.936085Z",
     "start_time": "2024-03-03T11:21:03.928217Z"
    }
   },
   "outputs": [],
   "source": [
    "import random\n",
    "\n",
    "class GridWorld : # environmet\n",
    "    def __init__(self) :\n",
    "        self.x = 0\n",
    "        self.y = 0\n",
    "        \n",
    "    def step(self, a):\n",
    "        if a == 0 :\n",
    "            self.move_right()\n",
    "        elif a == 1 :\n",
    "            self.move_left()\n",
    "        elif a == 2 :\n",
    "            self.move_up()\n",
    "        elif a == 3 :\n",
    "            self.move_down()\n",
    "        reward = -1\n",
    "        done = self.is_done()\n",
    "        return (self.x, self.y), reward, done\n",
    "    \n",
    "    def move_right(self) :\n",
    "        self.y += 1\n",
    "        if self.y > 3 : self.y = 3\n",
    "    \n",
    "    def move_left(self) :\n",
    "        self.y -= 1\n",
    "        if self.y < 0 : self.y = 0\n",
    "    \n",
    "    def move_up(self) :\n",
    "        self.x -= 1\n",
    "        if self.x < 0 : self.x = 0\n",
    "    \n",
    "    def move_down(self) :\n",
    "        self.x += 1\n",
    "        if self.x > 3 : self.x = 3\n",
    "    \n",
    "    def is_done(self) :\n",
    "        if self.x == 3 and self.y == 3 : return True\n",
    "        else : return False\n",
    "    \n",
    "    def get_state(self) : return (self.x, self.y)\n",
    "    \n",
    "    def reset(self) :\n",
    "        self.x = 0\n",
    "        self.y = 0\n",
    "        return (self.x, self.y)\n",
    "\n",
    "class Agent :\n",
    "    def __init__(self) :\n",
    "        pass\n",
    "    \n",
    "    def select_action(self) :\n",
    "        coin = random.random()\n",
    "        if coin < 0.25 : action = 0\n",
    "        elif coin < 0.5 : action = 1\n",
    "        elif coin < 0.75 : action = 2\n",
    "        else : action = 3\n",
    "        return action\n",
    "\n",
    "def main() :\n",
    "    env = GridWorld()\n",
    "    agent = Agent()\n",
    "    data = [\n",
    "        [0,0,0,0],\n",
    "        [0,0,0,0],\n",
    "        [0,0,0,0],\n",
    "        [0,0,0,0]\n",
    "    ]\n",
    "    gamma = 1\n",
    "    alpha = 0.0001\n",
    "    \n",
    "    for k in range(50000) :\n",
    "        done = False\n",
    "        history = []\n",
    "        while not done :\n",
    "            action = agent.select_action()\n",
    "            (x, y), reward, done = env.step(action)\n",
    "            history.append((x, y, reward))\n",
    "        env.reset()\n",
    "        \n",
    "        cum_reward = 0\n",
    "        for transition in history[::-1] :\n",
    "            x, y, reward = transition\n",
    "            data[x][y] = data[x][y] + alpha * (cum_reward - data[x][y])\n",
    "            cum_reward = reward + gamma * cum_reward\n",
    "    \n",
    "    for row in data : print(row)"
   ]
  },
  {
   "cell_type": "code",
   "outputs": [
    {
     "name": "stdout",
     "output_type": "stream",
     "text": [
      "[-58.78542887534158, -56.1814500031028, -52.82614830138516, -52.144612878322036]\n",
      "[-56.04417749285425, -53.67684332580297, -49.339898529956834, -45.03130685788562]\n",
      "[-53.116310267612334, -49.48502932036026, -40.91614690590327, -30.148705147135924]\n",
      "[-50.81118392680081, -45.60522658964856, -30.09931732114166, 0.0]\n"
     ]
    }
   ],
   "source": [
    "if __name__ == '__main__' : main()"
   ],
   "metadata": {
    "collapsed": false,
    "ExecuteTime": {
     "end_time": "2024-03-03T11:21:06.240563Z",
     "start_time": "2024-03-03T11:21:04.528634Z"
    }
   },
   "id": "f30795e201bc1b08",
   "execution_count": 10
  },
  {
   "cell_type": "code",
   "outputs": [],
   "source": [
    "def main() :\n",
    "    import seaborn as sns\n",
    "    import numpy as np\n",
    "    import matplotlib.pyplot as plt\n",
    "    \n",
    "    env = GridWorld()\n",
    "    agent = Agent()\n",
    "    data = [\n",
    "        [0,0,0,0],\n",
    "        [0,0,0,0],\n",
    "        [0,0,0,0],\n",
    "        [0,0,0,0]\n",
    "    ]\n",
    "    gamma = 1\n",
    "    alpha = 0.0001\n",
    "    \n",
    "    for k in range(50000) :\n",
    "        done = False\n",
    "        history = []\n",
    "        while not done :\n",
    "            action = agent.select_action()\n",
    "            (x, y), reward, done = env.step(action)\n",
    "            history.append((x, y, reward))\n",
    "        env.reset()\n",
    "        \n",
    "        cum_reward = 0\n",
    "        for transition in history[::-1] :\n",
    "            x, y, reward = transition\n",
    "            data[x][y] = data[x][y] + alpha * (cum_reward - data[x][y])\n",
    "            cum_reward = reward + gamma * cum_reward\n",
    "    \n",
    "    for row in data : print(row)\n",
    "    \n",
    "    sns.heatmap(\n",
    "        np.array(data),\n",
    "        annot = True,\n",
    "        cmap = 'viridis'\n",
    "    )\n",
    "    plt.show()"
   ],
   "metadata": {
    "collapsed": false,
    "ExecuteTime": {
     "end_time": "2024-03-03T11:22:43.423306Z",
     "start_time": "2024-03-03T11:22:43.415879Z"
    }
   },
   "id": "bb7d1aaf7f088ae7",
   "execution_count": 13
  },
  {
   "cell_type": "code",
   "outputs": [
    {
     "name": "stdout",
     "output_type": "stream",
     "text": [
      "[-58.68158286455868, -56.81418505715728, -53.930523700981794, -51.44353454282449]\n",
      "[-57.269122008524164, -54.34329048620266, -49.728468320339815, -44.35388833514733]\n",
      "[-54.321161931237185, -49.390209474952954, -40.77681221920721, -29.775971341576632]\n",
      "[-50.62443562829836, -45.01973898279289, -30.198305211360903, 0.0]\n"
     ]
    },
    {
     "data": {
      "text/plain": "<Figure size 640x480 with 2 Axes>",
      "image/png": "[encoded data removed]"
     },
     "metadata": {},
     "output_type": "display_data"
    }
   ],
   "source": [
    "if __name__ == '__main__' : main()"
   ],
   "metadata": {
    "collapsed": false,
    "ExecuteTime": {
     "end_time": "2024-03-03T11:22:45.962820Z",
     "start_time": "2024-03-03T11:22:44.143021Z"
    }
   },
   "id": "62563d1b1f7b7ea5",
   "execution_count": 14
  },
  {
   "cell_type": "code",
   "outputs": [],
   "source": [],
   "metadata": {
    "collapsed": false
   },
   "id": "e2630449853f5a4b"
  }
 ],
 "metadata": {
  "kernelspec": {
   "display_name": "Python 3",
   "language": "python",
   "name": "python3"
  },
  "language_info": {
   "codemirror_mode": {
    "name": "ipython",
    "version": 2
   },
   "file_extension": ".py",
   "mimetype": "text/x-python",
   "name": "python",
   "nbconvert_exporter": "python",
   "pygments_lexer": "ipython2",
   "version": "2.7.6"
  }
 },
 "nbformat": 4,
 "nbformat_minor": 5
}
