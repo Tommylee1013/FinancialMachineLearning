{
 "cells": [
  {
   "cell_type": "markdown",
   "source": [
    "### Neural Network Interaction"
   ],
   "metadata": {
    "collapsed": false
   },
   "id": "72d7da49ca10ad97"
  },
  {
   "cell_type": "code",
   "execution_count": 2,
   "id": "initial_id",
   "metadata": {
    "collapsed": true,
    "ExecuteTime": {
     "end_time": "2023-12-19T05:21:39.094833Z",
     "start_time": "2023-12-19T05:21:38.576683Z"
    }
   },
   "outputs": [],
   "source": [
    "import numpy as np\n",
    "from tensorflow.keras.models import Sequential\n",
    "from tensorflow.keras.layers import Dense\n",
    "from tensorflow.keras.callbacks import EarlyStopping\n",
    "from tensorflow.keras.wrappers.scikit_learn import KerasRegressor\n",
    "import statsmodels.api as sm\n",
    "import sklearn"
   ]
  },
  {
   "cell_type": "code",
   "execution_count": 3,
   "outputs": [],
   "source": [
    "def generateProcess(\n",
    "    number : int = 5000,\n",
    "    random_sate : int = 42,\n",
    "    number_of_X : int = 2,\n",
    ") -> np.array :\n",
    "    np.random.seed(random_sate) # Set NumPy's random seed for reproducibility\n",
    "    X = np.zeros(shape = (number, number_of_X))\n",
    "    for i in range(number_of_X) :\n",
    "        X[:int(number/2), i] = np.random.randn(int(number/2))\n",
    "        # Use antithetic sampling to reduce the bias in the mean\n",
    "        X[int(number/2):, i] = -X[:int(number/2), i]\n",
    "    \n",
    "    eps = np.zeros(shape=(number,1))\n",
    "    eps[:int(number/2)] = np.random.randn(int(number/2), 1)\n",
    "    eps[int(number/2):] = -eps[:int(number/2)]\n",
    "    \n",
    "    Y = 0\n",
    "    \n",
    "    for i in range(number_of_X) : \n",
    "        Y += X[:, i]\n",
    "        \n",
    "    Y += eps.flatten()\n",
    "    \n",
    "    return Y, X;"
   ],
   "metadata": {
    "collapsed": false,
    "ExecuteTime": {
     "end_time": "2023-12-19T05:22:10.558299Z",
     "start_time": "2023-12-19T05:22:10.548814Z"
    }
   },
   "id": "17a168c955ad3dd3"
  },
  {
   "cell_type": "code",
   "execution_count": 4,
   "outputs": [],
   "source": [
    "Y, X = generateProcess()"
   ],
   "metadata": {
    "collapsed": false,
    "ExecuteTime": {
     "end_time": "2023-12-19T05:23:25.297104Z",
     "start_time": "2023-12-19T05:23:25.276614Z"
    }
   },
   "id": "a5f663881a6314ff"
  },
  {
   "cell_type": "code",
   "execution_count": 6,
   "outputs": [],
   "source": [
    "ols_results = sm.OLS(\n",
    "    Y,\n",
    "    sm.add_constant(X)\n",
    ").fit()"
   ],
   "metadata": {
    "collapsed": false,
    "ExecuteTime": {
     "end_time": "2023-12-19T05:23:56.379798Z",
     "start_time": "2023-12-19T05:23:56.373413Z"
    }
   },
   "id": "3b5638201bb21506"
  },
  {
   "cell_type": "code",
   "execution_count": 7,
   "outputs": [],
   "source": [
    "y_ols = ols_results.predict(sm.add_constant(X))"
   ],
   "metadata": {
    "collapsed": false,
    "ExecuteTime": {
     "end_time": "2023-12-19T05:23:56.955373Z",
     "start_time": "2023-12-19T05:23:56.911239Z"
    }
   },
   "id": "1d6e8fe379ba0888"
  },
  {
   "cell_type": "code",
   "execution_count": 8,
   "outputs": [
    {
     "name": "stdout",
     "output_type": "stream",
     "text": [
      "                            OLS Regression Results                            \n",
      "==============================================================================\n",
      "Dep. Variable:                      y   R-squared:                       0.642\n",
      "Model:                            OLS   Adj. R-squared:                  0.642\n",
      "Method:                 Least Squares   F-statistic:                     4479.\n",
      "Date:                Tue, 19 Dec 2023   Prob (F-statistic):               0.00\n",
      "Time:                        14:24:02   Log-Likelihood:                -7205.3\n",
      "No. Observations:                5000   AIC:                         1.442e+04\n",
      "Df Residuals:                    4997   BIC:                         1.444e+04\n",
      "Df Model:                           2                                         \n",
      "Covariance Type:            nonrobust                                         \n",
      "==============================================================================\n",
      "                 coef    std err          t      P>|t|      [0.025      0.975]\n",
      "------------------------------------------------------------------------------\n",
      "const      -1.435e-17      0.014  -9.92e-16      1.000      -0.028       0.028\n",
      "x1             0.9909      0.015     67.360      0.000       0.962       1.020\n",
      "x2             0.9636      0.014     67.245      0.000       0.935       0.992\n",
      "==============================================================================\n",
      "Omnibus:                        0.226   Durbin-Watson:                   2.074\n",
      "Prob(Omnibus):                  0.893   Jarque-Bera (JB):                0.267\n",
      "Skew:                           0.000   Prob(JB):                        0.875\n",
      "Kurtosis:                       2.964   Cond. No.                         1.03\n",
      "==============================================================================\n",
      "\n",
      "Notes:\n",
      "[1] Standard Errors assume that the covariance matrix of the errors is correctly specified.\n"
     ]
    }
   ],
   "source": [
    "print(ols_results.summary())"
   ],
   "metadata": {
    "collapsed": false,
    "ExecuteTime": {
     "end_time": "2023-12-19T05:24:02.356607Z",
     "start_time": "2023-12-19T05:24:02.344103Z"
    }
   },
   "id": "d3e588746fe9cbe"
  },
  {
   "cell_type": "markdown",
   "source": [
    "#### Feedforward Neural Network\n",
    "\n",
    "compare with a feedforward neural network with no hidden layers"
   ],
   "metadata": {
    "collapsed": false
   },
   "id": "1091211d8306ca8d"
  },
  {
   "cell_type": "code",
   "execution_count": 9,
   "outputs": [],
   "source": [
    "def linear_NN0_model(l1_reg = .0, num_X_input : int = 2) :\n",
    "    model = Sequential()\n",
    "    model.add(\n",
    "        Dense(1, input_dim = num_X_input, kernel_initializer = 'normal')\n",
    "    )\n",
    "    model.compile(\n",
    "        loss = 'mean_squared_error',\n",
    "        optimizer = 'adam',\n",
    "        metrics = ['mae','mse']\n",
    "    )\n",
    "    return model;"
   ],
   "metadata": {
    "collapsed": false,
    "ExecuteTime": {
     "end_time": "2023-12-19T05:28:27.553851Z",
     "start_time": "2023-12-19T05:28:27.540856Z"
    }
   },
   "id": "81e6e124b81475af"
  },
  {
   "cell_type": "code",
   "execution_count": 10,
   "outputs": [],
   "source": [
    "es = EarlyStopping(monitor = 'loss', mode = 'min', verbose = 0, patience = 10)"
   ],
   "metadata": {
    "collapsed": false,
    "ExecuteTime": {
     "end_time": "2023-12-19T05:28:32.122510Z",
     "start_time": "2023-12-19T05:28:32.105507Z"
    }
   },
   "id": "606826c6bf217274"
  },
  {
   "cell_type": "code",
   "execution_count": 11,
   "outputs": [
    {
     "name": "stderr",
     "output_type": "stream",
     "text": [
      "/var/folders/1q/pl9tj55n57s9jg28npxw61n80000gn/T/ipykernel_16541/4154843586.py:1: DeprecationWarning: KerasRegressor is deprecated, use Sci-Keras (https://github.com/adriangb/scikeras) instead. See https://www.adriangb.com/scikeras/stable/migration.html for help migrating.\n",
      "  linear_neural_network = KerasRegressor(\n"
     ]
    }
   ],
   "source": [
    "linear_neural_network = KerasRegressor(\n",
    "    build_fn = linear_NN0_model, \n",
    "    epochs = 40,\n",
    "    batch_size = 10, \n",
    "    verbose = 0, \n",
    "    callbacks = [es]\n",
    ")"
   ],
   "metadata": {
    "collapsed": false,
    "ExecuteTime": {
     "end_time": "2023-12-19T05:28:41.301547Z",
     "start_time": "2023-12-19T05:28:41.290506Z"
    }
   },
   "id": "b367a5d252f00c09"
  },
  {
   "cell_type": "code",
   "execution_count": 12,
   "outputs": [
    {
     "name": "stderr",
     "output_type": "stream",
     "text": [
      "2023-12-19 14:28:53.843477: W tensorflow/tsl/platform/profile_utils/cpu_utils.cc:128] Failed to get CPU frequency: 0 Hz\n"
     ]
    },
    {
     "data": {
      "text/plain": "<keras.callbacks.History at 0x167f4d750>"
     },
     "execution_count": 12,
     "metadata": {},
     "output_type": "execute_result"
    }
   ],
   "source": [
    "linear_neural_network.fit(X, Y)"
   ],
   "metadata": {
    "collapsed": false,
    "ExecuteTime": {
     "end_time": "2023-12-19T05:28:58.787943Z",
     "start_time": "2023-12-19T05:28:53.786439Z"
    }
   },
   "id": "9a0fd0f79fe4c902"
  },
  {
   "cell_type": "code",
   "execution_count": 13,
   "outputs": [
    {
     "name": "stdout",
     "output_type": "stream",
     "text": [
      "weights: [[0.9890076 ]\n",
      " [0.96185046]]\n",
      "bias: [-0.00270257]\n"
     ]
    }
   ],
   "source": [
    "print(\"weights: \" + str(linear_neural_network.model.layers[0].get_weights()[0]))\n",
    "print(\"bias: \" + str(linear_neural_network.model.layers[0].get_weights()[1]))"
   ],
   "metadata": {
    "collapsed": false,
    "ExecuteTime": {
     "end_time": "2023-12-19T05:29:24.361150Z",
     "start_time": "2023-12-19T05:29:24.348133Z"
    }
   },
   "id": "3a9b35164471409a"
  },
  {
   "cell_type": "code",
   "execution_count": null,
   "outputs": [],
   "source": [],
   "metadata": {
    "collapsed": false
   },
   "id": "47c6335f64c1a734"
  }
 ],
 "metadata": {
  "kernelspec": {
   "display_name": "Python 3",
   "language": "python",
   "name": "python3"
  },
  "language_info": {
   "codemirror_mode": {
    "name": "ipython",
    "version": 2
   },
   "file_extension": ".py",
   "mimetype": "text/x-python",
   "name": "python",
   "nbconvert_exporter": "python",
   "pygments_lexer": "ipython2",
   "version": "2.7.6"
  }
 },
 "nbformat": 4,
 "nbformat_minor": 5
}
