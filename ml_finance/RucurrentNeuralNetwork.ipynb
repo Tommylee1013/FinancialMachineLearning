{
 "cells": [
  {
   "cell_type": "markdown",
   "source": [
    "### Recurrent Neural Networks\n",
    "\n",
    "$\\mathrm{AR}$ 모형의 일반화된 과정으로써의 $\\mathrm{RNN}$ Network를 알아보도록 한다"
   ],
   "metadata": {
    "collapsed": false
   },
   "id": "4d742966e5e91374"
  },
  {
   "cell_type": "code",
   "id": "initial_id",
   "metadata": {
    "collapsed": true,
    "ExecuteTime": {
     "start_time": "2024-04-21T13:55:39.084918Z"
    }
   },
   "source": [
    "import numpy as np\n",
    "import pandas as pd\n",
    "import matplotlib.pyplot as plt\n",
    "import statsmodels.api as sm\n",
    "import tensorflow as tf\n",
    "from datetime import timedelta\n",
    "\n",
    "from sklearn.metrics import mean_squared_error\n",
    "from sklearn.model_selection import KFold, TimeSeriesSplit, GridSearchCV\n",
    "\n",
    "import keras.initializers\n",
    "from keras.layers import Dense, Layer, LSTM, GRU, SimpleRNN, RNN\n",
    "from keras.models import Sequential\n",
    "from keras.models import load_model\n",
    "from keras.regularizers import l1, l2\n",
    "from keras.callbacks import EarlyStopping\n",
    "from keras.wrappers.scikit_learn import KerasRegressor\n",
    "\n",
    "import torch\n",
    "import torch.nn as nn\n",
    "from torch.utils.data import DataLoader, TensorDataset\n",
    "from torch.optim import Adam, SGD\n",
    "from sklearn.model_selection import train_test_split\n",
    "#from skorch import NeuralNetRegressor\n",
    "\n",
    "from recurrent_neural_network import *"
   ],
   "outputs": [],
   "execution_count": null
  },
  {
   "cell_type": "markdown",
   "source": [
    "#### Data Import"
   ],
   "metadata": {
    "collapsed": false
   },
   "id": "9172c371cf796ebd"
  },
  {
   "cell_type": "code",
   "execution_count": 10,
   "outputs": [],
   "source": [
    "df = pd.read_csv('../data/coinbase.csv', index_col = 1)\n",
    "df.index = pd.to_datetime(df.index)"
   ],
   "metadata": {
    "collapsed": false,
    "ExecuteTime": {
     "end_time": "2024-02-19T15:57:35.278897Z",
     "start_time": "2024-02-19T15:57:34.997936Z"
    }
   },
   "id": "d5ad989ac519b315"
  },
  {
   "cell_type": "code",
   "execution_count": 11,
   "outputs": [
    {
     "data": {
      "text/plain": "                              USD\n timestamp                       \n2018-01-01 00:00:00  13598.814422\n2018-01-01 00:01:00  13596.912824\n2018-01-01 00:02:00  13568.356998\n2018-01-01 00:03:00  13560.425182\n2018-01-01 00:04:00  13552.270931\n...                           ...\n2018-11-10 15:56:00   6347.417225\n2018-11-10 15:57:00   6347.419294\n2018-11-10 15:58:00   6347.418653\n2018-11-10 15:59:00   6347.418881\n2018-11-10 16:00:00   6347.417439\n\n[451681 rows x 1 columns]",
      "text/html": "<div>\n<style scoped>\n    .dataframe tbody tr th:only-of-type {\n        vertical-align: middle;\n    }\n\n    .dataframe tbody tr th {\n        vertical-align: top;\n    }\n\n    .dataframe thead th {\n        text-align: right;\n    }\n</style>\n<table border=\"1\" class=\"dataframe\">\n  <thead>\n    <tr style=\"text-align: right;\">\n      <th></th>\n      <th>USD</th>\n    </tr>\n    <tr>\n      <th>timestamp</th>\n      <th></th>\n    </tr>\n  </thead>\n  <tbody>\n    <tr>\n      <th>2018-01-01 00:00:00</th>\n      <td>13598.814422</td>\n    </tr>\n    <tr>\n      <th>2018-01-01 00:01:00</th>\n      <td>13596.912824</td>\n    </tr>\n    <tr>\n      <th>2018-01-01 00:02:00</th>\n      <td>13568.356998</td>\n    </tr>\n    <tr>\n      <th>2018-01-01 00:03:00</th>\n      <td>13560.425182</td>\n    </tr>\n    <tr>\n      <th>2018-01-01 00:04:00</th>\n      <td>13552.270931</td>\n    </tr>\n    <tr>\n      <th>...</th>\n      <td>...</td>\n    </tr>\n    <tr>\n      <th>2018-11-10 15:56:00</th>\n      <td>6347.417225</td>\n    </tr>\n    <tr>\n      <th>2018-11-10 15:57:00</th>\n      <td>6347.419294</td>\n    </tr>\n    <tr>\n      <th>2018-11-10 15:58:00</th>\n      <td>6347.418653</td>\n    </tr>\n    <tr>\n      <th>2018-11-10 15:59:00</th>\n      <td>6347.418881</td>\n    </tr>\n    <tr>\n      <th>2018-11-10 16:00:00</th>\n      <td>6347.417439</td>\n    </tr>\n  </tbody>\n</table>\n<p>451681 rows × 1 columns</p>\n</div>"
     },
     "execution_count": 11,
     "metadata": {},
     "output_type": "execute_result"
    }
   ],
   "source": [
    "df"
   ],
   "metadata": {
    "collapsed": false,
    "ExecuteTime": {
     "end_time": "2024-02-19T15:57:35.678428Z",
     "start_time": "2024-02-19T15:57:35.669336Z"
    }
   },
   "id": "cc3c33ab93d75e9b"
  },
  {
   "cell_type": "markdown",
   "source": [
    "data preprocessing"
   ],
   "metadata": {
    "collapsed": false
   },
   "id": "2c4e838b294a525c"
  },
  {
   "cell_type": "code",
   "execution_count": 12,
   "outputs": [
    {
     "name": "stdout",
     "output_type": "stream",
     "text": [
      "1662 observations are missing.\n",
      "This is 0.368% of the total.\n"
     ]
    }
   ],
   "source": [
    "nof_missing_values = sum(np.isnan(df['USD']))\n",
    "\n",
    "print(nof_missing_values, 'observations are missing.')\n",
    "print('This is {:.3f}% of the total.'.format(nof_missing_values*100/len(df)))"
   ],
   "metadata": {
    "collapsed": false,
    "ExecuteTime": {
     "end_time": "2024-02-19T15:57:36.606153Z",
     "start_time": "2024-02-19T15:57:36.594954Z"
    }
   },
   "id": "89295c8705d73571"
  },
  {
   "cell_type": "code",
   "execution_count": 13,
   "outputs": [
    {
     "name": "stdout",
     "output_type": "stream",
     "text": [
      "Now 0 observations are missing.\n"
     ]
    }
   ],
   "source": [
    "df = df.bfill()\n",
    "nof_missing_values = sum(np.isnan(df['USD']))\n",
    "print('Now', nof_missing_values, 'observations are missing.')"
   ],
   "metadata": {
    "collapsed": false,
    "ExecuteTime": {
     "end_time": "2024-02-19T15:57:37.624340Z",
     "start_time": "2024-02-19T15:57:37.589516Z"
    }
   },
   "id": "714cef8ec421b0d2"
  },
  {
   "cell_type": "markdown",
   "source": [
    "#### RNN Regression\n",
    "\n",
    "시계열이 Data Frame에서 'USD'로 주어지고 각 입력 시퀀스에 대해 미래의 4개의 시간 단계로 값을 예측하는 단변량 예측 문제를 고려한다"
   ],
   "metadata": {
    "collapsed": false
   },
   "id": "6f54c0188d16429"
  },
  {
   "cell_type": "code",
   "execution_count": 14,
   "outputs": [],
   "source": [
    "use_features = ['USD'] # continuous input\n",
    "target = ['USD'] # continuous output\n",
    "n_steps_ahead = 4 # forecasting horizon"
   ],
   "metadata": {
    "collapsed": false,
    "ExecuteTime": {
     "end_time": "2024-02-19T15:57:41.081298Z",
     "start_time": "2024-02-19T15:57:41.074380Z"
    }
   },
   "id": "5d1d89a0ead91b42"
  },
  {
   "cell_type": "code",
   "execution_count": 15,
   "outputs": [],
   "source": [
    "sample = df['USD'][:200000]\n",
    "adf, p, usedlag, nobs, cvs, aic = sm.tsa.stattools.adfuller(sample)"
   ],
   "metadata": {
    "collapsed": false,
    "ExecuteTime": {
     "end_time": "2024-02-19T15:58:35.474036Z",
     "start_time": "2024-02-19T15:57:41.533402Z"
    }
   },
   "id": "d2261659eaccca74"
  },
  {
   "cell_type": "code",
   "execution_count": 16,
   "outputs": [
    {
     "name": "stdout",
     "output_type": "stream",
     "text": [
      "ADF: -2.0945571633757587\n",
      "p-value: 0.2467088183939536,\n",
      "N: 199918, \n",
      "critical values: {'1%': -3.4303827103310676, '5%': -2.8615544575334875, '10%': -2.566777695225296}\n"
     ]
    }
   ],
   "source": [
    "adf_results_string = 'ADF: {}\\np-value: {},\\nN: {}, \\ncritical values: {}'\n",
    "print(adf_results_string.format(adf, p, nobs, cvs))"
   ],
   "metadata": {
    "collapsed": false,
    "ExecuteTime": {
     "end_time": "2024-02-19T15:58:35.491761Z",
     "start_time": "2024-02-19T15:58:35.477819Z"
    }
   },
   "id": "d34ccb18d50bd3cd"
  },
  {
   "cell_type": "markdown",
   "source": [
    "ADF 검정을 통과하지 못하였음으로, 불안정 시계열이다"
   ],
   "metadata": {
    "collapsed": false
   },
   "id": "39b9cfaac7fec9c3"
  },
  {
   "cell_type": "code",
   "execution_count": 18,
   "outputs": [
    {
     "data": {
      "text/plain": "<Figure size 800x400 with 1 Axes>",
      "image/png": "[encoded data removed]"
     },
     "metadata": {},
     "output_type": "display_data"
    }
   ],
   "source": [
    "import matplotlib.pyplot as plt\n",
    "plt.figure(figsize = (8,4))\n",
    "plt.plot(df)\n",
    "plt.grid(False)\n",
    "plt.xticks(rotation = 45)\n",
    "plt.show()"
   ],
   "metadata": {
    "collapsed": false,
    "ExecuteTime": {
     "end_time": "2024-02-19T15:58:50.501579Z",
     "start_time": "2024-02-19T15:58:50.399036Z"
    }
   },
   "id": "11630e2d9d2f3cd"
  },
  {
   "cell_type": "markdown",
   "source": [
    "**Partial Auto-correlation**\n",
    "\n",
    "A partial auto-correlation at lag $h\\geq 2$ is a conditional auto-correlation between a variable, $X_t$, and its $h^{th}$ lag, $X_{t-h}$ under the assumption that we control for the values of the intermediate lags, $X_{t-1},\\dots, X_{t-h+1}$:\n",
    "\n",
    "$$\\begin{align}\\tau_h&:=\\tau(X_t, X_{t-h}; X_{t-1},\\dots, X_{t-h+1})\\\\\n",
    "&:=\\frac{\\gamma(X_t, X_{t-h}; X_{t-1},\\dots, X_{t-h+1})}{\\sqrt{\\gamma(X_t |X_{t-1},\\dots, X_{t-h+1})\\gamma(X_{t-h} |X_{t-1},\\dots, X_{t-h+1}))}},\n",
    "\\end{align}$$\n",
    "where $\\gamma_h:=\\gamma(X_tX_{t-h})$ is the lag-$h$ autocovariance. The partial autocorrelation function $\\tau_h:\\mathbb{N} \\rightarrow [-1,1]$ is a map $h:\\mapsto \\tau_h$\n",
    "\n",
    "The estimated partial auto-correlation function (PACF) can be used to identify the order of an autoregressive time series model. Values of $|\\tau_h|$ greater or equal to $\\frac{\\Phi^{-1}(\\alpha)}{\\sqrt{T}}$, where $T$ is the number of observations and $\\Phi(z)$ is the standard normal CDF, are significant lag $h$ partial autocorelations at the $\\alpha$ confidence level.\n",
    "\n",
    "We use the stattools package to estimate the PACF. The `nlags` parameter is the maximum number of lags used for PACF estimation."
   ],
   "metadata": {
    "collapsed": false
   },
   "id": "1297805ce4470cc8"
  },
  {
   "cell_type": "code",
   "execution_count": 19,
   "outputs": [],
   "source": [
    "pacf = sm.tsa.stattools.pacf(df[use_features], nlags=30)"
   ],
   "metadata": {
    "collapsed": false,
    "ExecuteTime": {
     "end_time": "2024-02-19T15:58:57.835376Z",
     "start_time": "2024-02-19T15:58:57.499985Z"
    }
   },
   "id": "3058e8d6ebf2312b"
  },
  {
   "cell_type": "markdown",
   "source": [
    " $\\Phi^{-1}(0.99) \\simeq 2.58$ 이기 때문에, 다음이 성립한다"
   ],
   "metadata": {
    "collapsed": false
   },
   "id": "431aafd46d1c04bf"
  },
  {
   "cell_type": "code",
   "execution_count": 20,
   "outputs": [],
   "source": [
    "T = len(df[use_features])\n",
    "sig_test = lambda tau_h: np.abs(tau_h) > 2.58/np.sqrt(T)"
   ],
   "metadata": {
    "collapsed": false,
    "ExecuteTime": {
     "end_time": "2024-02-19T15:58:59.593842Z",
     "start_time": "2024-02-19T15:58:59.586782Z"
    }
   },
   "id": "91a2c67ce5725001"
  },
  {
   "cell_type": "code",
   "execution_count": 21,
   "outputs": [
    {
     "name": "stdout",
     "output_type": "stream",
     "text": [
      "n_steps set to 4\n"
     ]
    }
   ],
   "source": [
    "for i in range(len(pacf)):\n",
    "    if sig_test(pacf[i]) == False:\n",
    "        n_steps = i - 1\n",
    "        print('n_steps set to', n_steps)\n",
    "        break"
   ],
   "metadata": {
    "collapsed": false,
    "ExecuteTime": {
     "end_time": "2024-02-19T15:59:00.706932Z",
     "start_time": "2024-02-19T15:59:00.698775Z"
    }
   },
   "id": "c3d226bd3ce990f2"
  },
  {
   "cell_type": "code",
   "execution_count": 23,
   "outputs": [
    {
     "data": {
      "text/plain": "Text(0.5, 1.0, 'Partial Autocorrelation function')"
     },
     "execution_count": 23,
     "metadata": {},
     "output_type": "execute_result"
    },
    {
     "data": {
      "text/plain": "<Figure size 800x400 with 1 Axes>",
      "image/png": "[encoded data removed]"
     },
     "metadata": {},
     "output_type": "display_data"
    }
   ],
   "source": [
    "from statsmodels.graphics.tsaplots import plot_acf, plot_pacf\n",
    "fig, ax = plt.subplots(figsize=(8, 4))\n",
    "plot_pacf(np.log(df), auto_ylims = True, lags = 29, title = 'PACF of KOSPI log Index', ax = ax)\n",
    "plt.xlabel('number of lags')\n",
    "plt.plot([2.58/np.sqrt(T)] * 30, label='99% confidence interval (upper)')\n",
    "plt.plot([-2.58/np.sqrt(T)] * 30, label='99% confidence interval (lower)')\n",
    "plt.grid(False)\n",
    "plt.title('Partial Autocorrelation function')"
   ],
   "metadata": {
    "collapsed": false,
    "ExecuteTime": {
     "end_time": "2024-02-19T15:59:11.375477Z",
     "start_time": "2024-02-19T15:59:10.958687Z"
    }
   },
   "id": "61512f3f1196cd10"
  },
  {
   "cell_type": "markdown",
   "source": [
    "train - test split"
   ],
   "metadata": {
    "collapsed": false
   },
   "id": "8e3feb79a2ccc4b"
  },
  {
   "cell_type": "code",
   "execution_count": 24,
   "outputs": [],
   "source": [
    "train_weight = 0.8\n",
    "split = int(len(df) * train_weight)\n",
    "\n",
    "df_train = df[use_features].iloc[:split]\n",
    "df_test = df[use_features].iloc[split:]"
   ],
   "metadata": {
    "collapsed": false,
    "ExecuteTime": {
     "end_time": "2024-02-19T15:59:26.116429Z",
     "start_time": "2024-02-19T15:59:26.110974Z"
    }
   },
   "id": "6ddd45272938da73"
  },
  {
   "cell_type": "code",
   "execution_count": 27,
   "outputs": [
    {
     "name": "stderr",
     "output_type": "stream",
     "text": [
      "/var/folders/1q/pl9tj55n57s9jg28npxw61n80000gn/T/ipykernel_47063/3391573592.py:3: FutureWarning: Calling float on a single element Series is deprecated and will raise a TypeError in the future. Use float(ser.iloc[0]) instead\n",
      "  mu = np.float64(df_train.mean())\n",
      "/var/folders/1q/pl9tj55n57s9jg28npxw61n80000gn/T/ipykernel_47063/3391573592.py:4: FutureWarning: Calling float on a single element Series is deprecated and will raise a TypeError in the future. Use float(ser.iloc[0]) instead\n",
      "  sigma = np.float64(df_train.std())\n"
     ]
    }
   ],
   "source": [
    "# note that for a multivariate time series, you would need to scale \n",
    "# each variable by its own mean and standard deviation in the training set\n",
    "mu = np.float64(df_train.mean())\n",
    "sigma = np.float64(df_train.std())\n",
    "\n",
    "stdize_input = lambda x: (x - mu) / sigma\n",
    "\n",
    "df_train = df_train.apply(stdize_input)\n",
    "df_test = df_test.apply(stdize_input)"
   ],
   "metadata": {
    "collapsed": false,
    "ExecuteTime": {
     "end_time": "2024-02-19T15:59:45.023827Z",
     "start_time": "2024-02-19T15:59:45.013088Z"
    }
   },
   "id": "c67dd843856f8db5"
  },
  {
   "cell_type": "code",
   "outputs": [],
   "source": [
    "def get_lagged_features(df, n_steps, n_steps_ahead):\n",
    "    \"\"\"\n",
    "    df: pandas DataFrame of time series to be lagged\n",
    "    n_steps: number of lags, i.e. sequence length\n",
    "    n_steps_ahead: forecasting horizon\n",
    "    \"\"\"\n",
    "    lag_list = []\n",
    "    \n",
    "    for lag in range(n_steps + n_steps_ahead - 1, n_steps_ahead - 1, -1):\n",
    "        lag_list.append(df.shift(lag))\n",
    "    lag_array = np.dstack([i[n_steps+n_steps_ahead-1:] for i in lag_list])\n",
    "    # We swap the last two dimensions so each slice along the first dimension\n",
    "    # is the same shape as the corresponding segment of the input time series \n",
    "    lag_array = np.swapaxes(lag_array, 1, -1)\n",
    "    return lag_array"
   ],
   "metadata": {
    "collapsed": false,
    "ExecuteTime": {
     "end_time": "2024-02-19T15:59:58.413368Z",
     "start_time": "2024-02-19T15:59:58.407236Z"
    }
   },
   "id": "858c4e5c282da64b",
   "execution_count": 28
  },
  {
   "cell_type": "code",
   "outputs": [],
   "source": [
    "x_train = get_lagged_features(df_train, n_steps, n_steps_ahead)\n",
    "y_train = df_train.values[n_steps + n_steps_ahead - 1:]\n",
    "y_train_timestamps = df_train.index[n_steps + n_steps_ahead - 1:]\n",
    "\n",
    "x_test = get_lagged_features(df_test, n_steps, n_steps_ahead)\n",
    "y_test =  df_test.values[n_steps + n_steps_ahead - 1:]\n",
    "y_test_timestamps = df_test.index[n_steps + n_steps_ahead - 1:]"
   ],
   "metadata": {
    "collapsed": false,
    "ExecuteTime": {
     "end_time": "2024-02-19T15:59:58.969284Z",
     "start_time": "2024-02-19T15:59:58.958888Z"
    }
   },
   "id": "6764d8db71bfc5a9",
   "execution_count": 29
  },
  {
   "cell_type": "code",
   "outputs": [
    {
     "name": "stdout",
     "output_type": "stream",
     "text": [
      "[(361337, 4, 1), (361337, 1), (90330, 4, 1), (90330, 1)]\n"
     ]
    }
   ],
   "source": [
    "print([tensor.shape for tensor in (x_train, y_train, x_test, y_test)])"
   ],
   "metadata": {
    "collapsed": false,
    "ExecuteTime": {
     "end_time": "2024-02-19T16:00:00.018328Z",
     "start_time": "2024-02-19T16:00:00.011092Z"
    }
   },
   "id": "7a004f5d5d948a49",
   "execution_count": 30
  },
  {
   "cell_type": "code",
   "outputs": [],
   "source": [
    "import torch\n",
    "import torch.nn as nn\n",
    "import numpy as np\n",
    "\n",
    "class AlphatRNNCell(nn.Module):\n",
    "    def __init__(self, input_size, units,\n",
    "                 activation='tanh',\n",
    "                 recurrent_activation='sigmoid',\n",
    "                 use_bias=True,\n",
    "                 dropout=0.,\n",
    "                 recurrent_dropout=0.):\n",
    "        super(AlphatRNNCell, self).__init__()\n",
    "        self.units = units\n",
    "        self.input_size = input_size\n",
    "        self.activation = nn.Tanh() if activation == 'tanh' else nn.ReLU()\n",
    "        self.recurrent_activation = nn.Sigmoid() if recurrent_activation == 'sigmoid' else nn.ReLU()\n",
    "        self.use_bias = use_bias\n",
    "        self.dropout = nn.Dropout(dropout)\n",
    "        self.recurrent_dropout = nn.Dropout(recurrent_dropout)\n",
    "\n",
    "        # Define weights\n",
    "        self.kernel = nn.Linear(input_size, units * 2, bias=use_bias)\n",
    "        self.recurrent_kernel = nn.Linear(units, units * 2, bias=use_bias)\n",
    "\n",
    "    def forward(self, input, states):\n",
    "        h_tm1 = states[0]  # previous memory state\n",
    "\n",
    "        # Apply dropout\n",
    "        input = self.dropout(input)\n",
    "\n",
    "        # Linear mappings\n",
    "        matrix_x = self.kernel(input)\n",
    "        matrix_inner = self.recurrent_kernel(h_tm1)\n",
    "\n",
    "        # Partition weights into alpha and recurrent parts\n",
    "        x_alpha, x_h = matrix_x.chunk(2, -1)\n",
    "        recurrent_alpha, recurrent_h = matrix_inner.chunk(2, -1)\n",
    "\n",
    "        # Activation functions\n",
    "        alpha = self.recurrent_activation(x_alpha + recurrent_alpha)\n",
    "        hh = self.activation(x_h + recurrent_h)\n",
    "\n",
    "        # Compute the current memory state\n",
    "        h = alpha * h_tm1 + (1 - alpha) * hh\n",
    "        return h, [h]\n",
    "\n",
    "class AlphatRNN(nn.Module):\n",
    "    def __init__(self, input_size, units,\n",
    "                 activation='tanh',\n",
    "                 recurrent_activation='sigmoid',\n",
    "                 use_bias=True,\n",
    "                 dropout=0.,\n",
    "                 recurrent_dropout=0.,\n",
    "                 return_sequences=False,\n",
    "                 return_state=False):\n",
    "        super(AlphatRNN, self).__init__()\n",
    "        self.cell = AlphatRNNCell(input_size, units,\n",
    "                                  activation=activation,\n",
    "                                  recurrent_activation=recurrent_activation,\n",
    "                                  use_bias=use_bias,\n",
    "                                  dropout=dropout,\n",
    "                                  recurrent_dropout=recurrent_dropout)\n",
    "        self.return_sequences = return_sequences\n",
    "        self.return_state = return_state\n",
    "\n",
    "    def forward(self, inputs, initial_state=None):\n",
    "        inputs = inputs.unbind(1)  # Convert inputs to a list of time steps\n",
    "        outputs = []\n",
    "\n",
    "        if initial_state is None:\n",
    "            initial_state = torch.zeros(inputs[0].shape[0], self.cell.units, device=inputs[0].device)\n",
    "\n",
    "        states = [initial_state]\n",
    "\n",
    "        for input_t in inputs:\n",
    "            h, states = self.cell(input_t, states)\n",
    "            outputs.append(h)\n",
    "\n",
    "        outputs = torch.stack(outputs, 1)  # (batch, time, units)\n",
    "\n",
    "        if self.return_sequences:\n",
    "            output = outputs\n",
    "        else:\n",
    "            output = outputs[:, -1, :]\n",
    "\n",
    "        if self.return_state:\n",
    "            return output, states\n",
    "        else:\n",
    "            return output"
   ],
   "metadata": {
    "collapsed": false,
    "ExecuteTime": {
     "end_time": "2024-02-19T16:01:01.899141Z",
     "start_time": "2024-02-19T16:01:01.890592Z"
    }
   },
   "id": "d4d1326f649a62d0",
   "execution_count": 31
  },
  {
   "cell_type": "code",
   "outputs": [],
   "source": [
    "import torch\n",
    "import torch.nn as nn\n",
    "import torch.nn.functional as F\n",
    "\n",
    "class AlphaRNN(nn.Module):\n",
    "    def __init__(self, input_size, hidden_size, alpha):\n",
    "        super(AlphaRNN, self).__init__()\n",
    "        self.input_size = input_size\n",
    "        self.hidden_size = hidden_size\n",
    "        self.alpha = alpha\n",
    "        \n",
    "        # 가중치와 바이어스 초기화\n",
    "        self.U_h = nn.Parameter(torch.Tensor(hidden_size, hidden_size))\n",
    "        self.W_h = nn.Parameter(torch.Tensor(hidden_size, input_size))\n",
    "        self.b_h = nn.Parameter(torch.Tensor(hidden_size))\n",
    "        \n",
    "        self.W_y = nn.Parameter(torch.Tensor(hidden_size, hidden_size))\n",
    "        self.b_y = nn.Parameter(torch.Tensor(hidden_size))\n",
    "        \n",
    "        self.init_weights()\n",
    "\n",
    "    def init_weights(self):\n",
    "        stdv = 1.0 / self.hidden_size ** 0.5\n",
    "        for weight in self.parameters():\n",
    "            nn.init.uniform_(weight, -stdv, stdv)\n",
    "\n",
    "    def forward(self, input, hidden_states):\n",
    "        h_tilde_prev, h_hat_prev = hidden_states\n",
    "        \n",
    "        # 혼합 은닉 상태 계산\n",
    "        h_tilde = self.alpha * h_hat_prev + (1 - self.alpha) * h_tilde_prev\n",
    "        \n",
    "        # 현재 은닉 상태 업데이트\n",
    "        h_hat = torch.sigmoid(self.U_h @ h_tilde + self.W_h @ input + self.b_h)\n",
    "        \n",
    "        # 출력 은닉 상태 예측\n",
    "        h_next = self.W_y @ h_hat + self.b_y\n",
    "        \n",
    "        return h_next, (h_tilde, h_hat)\n",
    "\n",
    "    def init_hidden(self):\n",
    "        return (torch.zeros(self.hidden_size), torch.zeros(self.hidden_size))\n"
   ],
   "metadata": {
    "collapsed": false,
    "ExecuteTime": {
     "end_time": "2024-02-20T10:41:37.001481Z",
     "start_time": "2024-02-20T10:41:36.983923Z"
    }
   },
   "id": "ba6ca3bc42f4b4e1",
   "execution_count": 77
  },
  {
   "cell_type": "code",
   "outputs": [],
   "source": [
    "import torch\n",
    "import torch.nn as nn\n",
    "import torch.nn.functional as F\n",
    "\n",
    "def init_weights(m, seed=0, init_type='glorot_uniform'):\n",
    "    torch.manual_seed(seed)\n",
    "    if type(m) == nn.Linear or type(m) == nn.RNN or type(m) == nn.LSTM or type(m) == nn.GRU:\n",
    "        if init_type == 'glorot_uniform':\n",
    "            nn.init.xavier_uniform_(m.weight)\n",
    "        elif init_type == 'orthogonal':\n",
    "            nn.init.orthogonal_(m.weight)\n",
    "        if m.bias is not None:\n",
    "            nn.init.constant_(m.bias, 0)\n",
    "\n",
    "class SequentialModel(nn.Module):\n",
    "    def __init__(self, input_size, hidden_size, output_size=1, rnn_class=nn.RNN, l1_reg=0):\n",
    "        super(SequentialModel, self).__init__()\n",
    "        self.rnn = rnn_class(input_size, hidden_size, batch_first=True)\n",
    "        self.fc = nn.Linear(hidden_size, output_size)\n",
    "        # L1 regularization is not directly supported in PyTorch modules.\n",
    "        # It needs to be manually implemented in the training loop if needed.\n",
    "        self.l1_reg = l1_reg\n",
    "\n",
    "    def forward(self, x):\n",
    "        out, _ = self.rnn(x)\n",
    "        out = self.fc(out[:, -1, :])  # Assuming output_size=1 and taking the last sequence output\n",
    "        return out"
   ],
   "metadata": {
    "collapsed": false,
    "ExecuteTime": {
     "end_time": "2024-02-19T16:07:27.994686Z",
     "start_time": "2024-02-19T16:07:27.984666Z"
    }
   },
   "id": "3896c31ba7ccfd2c",
   "execution_count": 34
  },
  {
   "cell_type": "code",
   "outputs": [],
   "source": [
    "def alpha_t_RNN(input_size, n_units=10, l1_reg=0):\n",
    "    return AlphatRNN(input_size, n_units)\n",
    "\n",
    "def alpha_RNN(input_size, n_units=10, l1_reg=0):\n",
    "    return AlphaRNN(input_size, n_units)\n",
    "\n",
    "def simple_RNN(input_size, n_units=10, l1_reg=0):\n",
    "    return SequentialModel(input_size, n_units, output_size=1, rnn_class=nn.RNN, l1_reg=l1_reg)\n",
    "\n",
    "def gru(input_size, n_units=10, l1_reg=0):\n",
    "    return SequentialModel(input_size, n_units, output_size=1, rnn_class=nn.GRU, l1_reg=l1_reg)\n",
    "\n",
    "def lstm(input_size, n_units=10, l1_reg=0):\n",
    "    return SequentialModel(input_size, n_units, output_size=1, rnn_class=nn.LSTM, l1_reg=l1_reg)"
   ],
   "metadata": {
    "collapsed": false,
    "ExecuteTime": {
     "end_time": "2024-02-20T06:10:32.351470Z",
     "start_time": "2024-02-20T06:10:32.334981Z"
    }
   },
   "id": "2e1a6580dea5b55c",
   "execution_count": 74
  },
  {
   "cell_type": "code",
   "outputs": [],
   "source": [
    "max_epochs = 1000\n",
    "batch_size = 1000"
   ],
   "metadata": {
    "collapsed": false,
    "ExecuteTime": {
     "end_time": "2024-02-19T16:09:21.609677Z",
     "start_time": "2024-02-19T16:09:21.595154Z"
    }
   },
   "id": "db4d5b92d432f35a",
   "execution_count": 36
  },
  {
   "cell_type": "code",
   "outputs": [],
   "source": [
    "import torch\n",
    "import torch.nn as nn\n",
    "from skorch import NeuralNetRegressor\n",
    "from skorch.callbacks import EarlyStopping\n",
    "from sklearn.model_selection import GridSearchCV, TimeSeriesSplit"
   ],
   "metadata": {
    "collapsed": false,
    "ExecuteTime": {
     "end_time": "2024-02-20T03:29:45.748669Z",
     "start_time": "2024-02-20T03:29:45.739017Z"
    }
   },
   "id": "7d7584299507b4a3",
   "execution_count": 42
  },
  {
   "cell_type": "code",
   "outputs": [],
   "source": [
    "es = EarlyStopping(monitor='valid_loss', patience=100, threshold=1e-7, threshold_mode='rel', lower_is_better=True)"
   ],
   "metadata": {
    "collapsed": false,
    "ExecuteTime": {
     "end_time": "2024-02-20T03:29:46.187713Z",
     "start_time": "2024-02-20T03:29:46.181817Z"
    }
   },
   "id": "ce4003712de00c59",
   "execution_count": 43
  },
  {
   "cell_type": "code",
   "outputs": [],
   "source": [
    "x_train = torch.tensor(x_train, dtype=torch.float32)\n",
    "y_train = torch.tensor(y_train, dtype=torch.float32)\n",
    "\n",
    "x_test = torch.tensor(x_test, dtype = torch.float32)\n",
    "y_test = torch.tensor(y_test, dtype = torch.float32)"
   ],
   "metadata": {
    "collapsed": false,
    "ExecuteTime": {
     "end_time": "2024-02-20T03:35:23.362567Z",
     "start_time": "2024-02-20T03:35:23.336400Z"
    }
   },
   "id": "37d765aa30e25ea0",
   "execution_count": 48
  },
  {
   "cell_type": "code",
   "outputs": [
    {
     "name": "stdout",
     "output_type": "stream",
     "text": [
      "  epoch    train_loss    valid_loss     dur\n",
      "-------  ------------  ------------  ------\n",
      "      1        \u001B[36m0.0500\u001B[0m        \u001B[32m0.0803\u001B[0m  0.7368\n",
      "      2        \u001B[36m0.0006\u001B[0m        \u001B[32m0.0409\u001B[0m  0.6553\n",
      "      3        \u001B[36m0.0006\u001B[0m        \u001B[32m0.0271\u001B[0m  0.6511\n",
      "      4        \u001B[36m0.0006\u001B[0m        \u001B[32m0.0219\u001B[0m  0.6557\n",
      "      5        0.0006        \u001B[32m0.0203\u001B[0m  0.6436\n",
      "      6        0.0006        \u001B[32m0.0174\u001B[0m  0.6380\n",
      "      7        0.0006        \u001B[32m0.0162\u001B[0m  0.6420\n",
      "      8        0.0006        \u001B[32m0.0148\u001B[0m  0.6184\n",
      "      9        0.0006        0.0152  0.6205\n",
      "     10        0.0006        \u001B[32m0.0145\u001B[0m  0.6207\n",
      "  epoch    train_loss    valid_loss     dur\n",
      "-------  ------------  ------------  ------\n",
      "      1        \u001B[36m0.0052\u001B[0m        \u001B[32m0.2794\u001B[0m  1.2355\n",
      "      2        \u001B[36m0.0003\u001B[0m        \u001B[32m0.1916\u001B[0m  1.2296\n",
      "      3        0.0003        \u001B[32m0.1554\u001B[0m  1.2352\n",
      "      4        0.0003        0.1641  1.2275\n",
      "      5        \u001B[36m0.0003\u001B[0m        \u001B[32m0.1476\u001B[0m  1.2295\n",
      "      6        0.0003        0.1520  1.2325\n",
      "      7        0.0003        0.1569  1.2344\n",
      "      8        \u001B[36m0.0003\u001B[0m        \u001B[32m0.1329\u001B[0m  1.2276\n",
      "      9        0.0003        0.1569  1.2326\n",
      "     10        0.0003        0.1373  1.2248\n",
      "  epoch    train_loss    valid_loss     dur\n",
      "-------  ------------  ------------  ------\n",
      "      1        \u001B[36m0.0051\u001B[0m        \u001B[32m0.4874\u001B[0m  1.8369\n",
      "      2        \u001B[36m0.0002\u001B[0m        \u001B[32m0.3993\u001B[0m  1.8466\n",
      "      3        \u001B[36m0.0002\u001B[0m        \u001B[32m0.3519\u001B[0m  1.8414\n",
      "      4        \u001B[36m0.0002\u001B[0m        0.3607  1.8379\n",
      "      5        \u001B[36m0.0002\u001B[0m        \u001B[32m0.3441\u001B[0m  1.8420\n",
      "      6        \u001B[36m0.0002\u001B[0m        \u001B[32m0.3075\u001B[0m  1.8431\n",
      "      7        0.0002        \u001B[32m0.3053\u001B[0m  1.8385\n",
      "      8        0.0002        0.3351  1.8411\n",
      "      9        \u001B[36m0.0002\u001B[0m        0.3486  1.8421\n",
      "     10        \u001B[36m0.0002\u001B[0m        0.3715  1.8403\n",
      "  epoch    train_loss    valid_loss     dur\n",
      "-------  ------------  ------------  ------\n",
      "      1        \u001B[36m0.0011\u001B[0m        \u001B[32m0.2280\u001B[0m  2.4520\n",
      "      2        \u001B[36m0.0001\u001B[0m        \u001B[32m0.1619\u001B[0m  2.4489\n",
      "      3        \u001B[36m0.0001\u001B[0m        \u001B[32m0.1589\u001B[0m  2.4427\n",
      "      4        \u001B[36m0.0001\u001B[0m        0.2021  2.4446\n",
      "      5        \u001B[36m0.0001\u001B[0m        0.2077  2.4420\n",
      "      6        \u001B[36m0.0001\u001B[0m        0.2233  2.4660\n",
      "      7        \u001B[36m0.0001\u001B[0m        0.2103  2.4408\n",
      "      8        \u001B[36m0.0001\u001B[0m        0.1739  2.4447\n",
      "      9        0.0001        0.2181  2.4378\n",
      "     10        0.0001        0.1867  2.4449\n",
      "  epoch    train_loss    valid_loss     dur\n",
      "-------  ------------  ------------  ------\n",
      "      1        \u001B[36m0.0019\u001B[0m        \u001B[32m0.3974\u001B[0m  3.0460\n",
      "      2        \u001B[36m0.0001\u001B[0m        \u001B[32m0.3114\u001B[0m  3.0539\n",
      "      3        \u001B[36m0.0001\u001B[0m        \u001B[32m0.2592\u001B[0m  3.0503\n",
      "      4        \u001B[36m0.0001\u001B[0m        \u001B[32m0.2446\u001B[0m  3.0539\n",
      "      5        \u001B[36m0.0001\u001B[0m        0.2971  3.0539\n",
      "      6        \u001B[36m0.0001\u001B[0m        0.3174  3.0510\n",
      "      7        \u001B[36m0.0001\u001B[0m        0.4976  3.0477\n",
      "      8        \u001B[36m0.0001\u001B[0m        0.5059  3.0477\n",
      "      9        0.0001        0.5970  3.0422\n",
      "     10        \u001B[36m0.0001\u001B[0m        0.6434  3.0493\n",
      "  epoch    train_loss    valid_loss     dur\n",
      "-------  ------------  ------------  ------\n",
      "      1        \u001B[36m0.0187\u001B[0m        \u001B[32m0.0430\u001B[0m  0.6259\n",
      "      2        \u001B[36m0.0006\u001B[0m        \u001B[32m0.0247\u001B[0m  0.6280\n",
      "      3        0.0007        \u001B[32m0.0194\u001B[0m  0.6263\n",
      "      4        0.0007        0.0199  0.6795\n",
      "      5        0.0007        \u001B[32m0.0166\u001B[0m  0.6409\n",
      "      6        \u001B[36m0.0006\u001B[0m        \u001B[32m0.0137\u001B[0m  0.6453\n",
      "      7        0.0006        0.0180  0.6378\n",
      "      8        \u001B[36m0.0006\u001B[0m        \u001B[32m0.0136\u001B[0m  0.6332\n",
      "      9        0.0006        0.0173  0.6322\n",
      "     10        0.0006        \u001B[32m0.0111\u001B[0m  0.6247\n",
      "  epoch    train_loss    valid_loss     dur\n",
      "-------  ------------  ------------  ------\n",
      "      1        \u001B[36m0.0026\u001B[0m        \u001B[32m0.1392\u001B[0m  1.2410\n",
      "      2        \u001B[36m0.0003\u001B[0m        \u001B[32m0.1017\u001B[0m  1.2481\n",
      "      3        \u001B[36m0.0003\u001B[0m        \u001B[32m0.0837\u001B[0m  1.2486\n",
      "      4        0.0003        0.0871  1.2469\n",
      "      5        \u001B[36m0.0003\u001B[0m        \u001B[32m0.0818\u001B[0m  1.2715\n",
      "      6        0.0003        0.0992  1.2489\n",
      "      7        \u001B[36m0.0003\u001B[0m        0.0976  1.2418\n",
      "      8        \u001B[36m0.0003\u001B[0m        0.1075  1.2423\n",
      "      9        0.0003        0.1158  1.2405\n",
      "     10        \u001B[36m0.0003\u001B[0m        0.1130  1.2442\n",
      "  epoch    train_loss    valid_loss     dur\n",
      "-------  ------------  ------------  ------\n",
      "      1        \u001B[36m0.0034\u001B[0m        \u001B[32m0.3945\u001B[0m  1.8635\n",
      "      2        \u001B[36m0.0002\u001B[0m        \u001B[32m0.2683\u001B[0m  1.8655\n",
      "      3        \u001B[36m0.0002\u001B[0m        \u001B[32m0.2283\u001B[0m  1.8835\n",
      "      4        \u001B[36m0.0002\u001B[0m        \u001B[32m0.2193\u001B[0m  1.9049\n",
      "      5        \u001B[36m0.0002\u001B[0m        \u001B[32m0.2183\u001B[0m  1.8892\n",
      "      6        \u001B[36m0.0002\u001B[0m        \u001B[32m0.2009\u001B[0m  1.8629\n",
      "      7        \u001B[36m0.0002\u001B[0m        0.2012  1.8616\n",
      "      8        0.0002        0.2310  1.8614\n",
      "      9        0.0002        0.2542  1.8802\n",
      "     10        \u001B[36m0.0002\u001B[0m        0.3713  1.8928\n",
      "  epoch    train_loss    valid_loss     dur\n",
      "-------  ------------  ------------  ------\n",
      "      1        \u001B[36m0.0007\u001B[0m        \u001B[32m0.1396\u001B[0m  2.4919\n",
      "      2        \u001B[36m0.0001\u001B[0m        \u001B[32m0.1064\u001B[0m  2.4738\n",
      "      3        \u001B[36m0.0001\u001B[0m        0.1104  2.4722\n",
      "      4        0.0001        0.1642  2.4674\n",
      "      5        \u001B[36m0.0001\u001B[0m        0.2460  2.4725\n",
      "      6        \u001B[36m0.0001\u001B[0m        0.3096  2.4683\n",
      "      7        \u001B[36m0.0001\u001B[0m        0.3394  2.4662\n",
      "      8        \u001B[36m0.0001\u001B[0m        0.3247  2.4740\n",
      "      9        \u001B[36m0.0001\u001B[0m        0.3389  2.4646\n",
      "     10        0.0001        0.3115  2.4684\n",
      "  epoch    train_loss    valid_loss     dur\n",
      "-------  ------------  ------------  ------\n",
      "      1        \u001B[36m0.0013\u001B[0m        \u001B[32m0.1287\u001B[0m  3.0882\n",
      "      2        \u001B[36m0.0001\u001B[0m        \u001B[32m0.0899\u001B[0m  3.0832\n",
      "      3        \u001B[36m0.0001\u001B[0m        0.1030  3.0714\n",
      "      4        \u001B[36m0.0001\u001B[0m        0.1119  3.2538\n",
      "      5        \u001B[36m0.0001\u001B[0m        0.1135  3.0882\n",
      "      6        \u001B[36m0.0001\u001B[0m        0.1171  3.0886\n",
      "      7        \u001B[36m0.0001\u001B[0m        0.1524  3.0897\n",
      "      8        \u001B[36m0.0001\u001B[0m        0.1549  3.0813\n",
      "      9        \u001B[36m0.0001\u001B[0m        0.1855  3.0845\n",
      "     10        \u001B[36m0.0001\u001B[0m        0.1921  3.0902\n",
      "  epoch    train_loss    valid_loss     dur\n",
      "-------  ------------  ------------  ------\n",
      "      1        \u001B[36m0.0104\u001B[0m        \u001B[32m0.0227\u001B[0m  0.6424\n",
      "      2        \u001B[36m0.0007\u001B[0m        \u001B[32m0.0177\u001B[0m  0.6571\n",
      "      3        \u001B[36m0.0007\u001B[0m        \u001B[32m0.0110\u001B[0m  0.6470\n",
      "      4        \u001B[36m0.0007\u001B[0m        \u001B[32m0.0081\u001B[0m  0.6435\n",
      "      5        0.0007        0.0180  0.6467\n",
      "      6        0.0007        0.0094  0.6461\n",
      "      7        0.0007        \u001B[32m0.0075\u001B[0m  0.6547\n",
      "      8        0.0007        \u001B[32m0.0065\u001B[0m  0.6470\n",
      "      9        \u001B[36m0.0007\u001B[0m        0.0133  0.6458\n",
      "     10        0.0007        0.0069  0.6442\n",
      "  epoch    train_loss    valid_loss     dur\n",
      "-------  ------------  ------------  ------\n",
      "      1        \u001B[36m0.0035\u001B[0m        \u001B[32m0.0896\u001B[0m  1.2821\n",
      "      2        \u001B[36m0.0003\u001B[0m        \u001B[32m0.0589\u001B[0m  1.2812\n",
      "      3        \u001B[36m0.0003\u001B[0m        \u001B[32m0.0364\u001B[0m  1.2843\n",
      "      4        \u001B[36m0.0003\u001B[0m        0.0433  1.2818\n",
      "      5        \u001B[36m0.0003\u001B[0m        0.0403  1.2829\n",
      "      6        \u001B[36m0.0003\u001B[0m        0.0414  1.2809\n",
      "      7        \u001B[36m0.0003\u001B[0m        0.0674  1.2773\n",
      "      8        0.0003        0.0880  1.2779\n",
      "      9        \u001B[36m0.0003\u001B[0m        0.1154  1.2711\n",
      "     10        \u001B[36m0.0003\u001B[0m        0.1298  1.2713\n",
      "  epoch    train_loss    valid_loss     dur\n",
      "-------  ------------  ------------  ------\n",
      "      1        \u001B[36m0.0013\u001B[0m        \u001B[32m0.2171\u001B[0m  1.9125\n",
      "      2        \u001B[36m0.0002\u001B[0m        \u001B[32m0.1292\u001B[0m  1.9192\n",
      "      3        \u001B[36m0.0002\u001B[0m        \u001B[32m0.1008\u001B[0m  1.9129\n",
      "      4        \u001B[36m0.0002\u001B[0m        0.1127  1.9154\n",
      "      5        \u001B[36m0.0002\u001B[0m        0.1147  1.9080\n",
      "      6        \u001B[36m0.0002\u001B[0m        0.1357  1.9042\n",
      "      7        \u001B[36m0.0002\u001B[0m        0.1901  1.9079\n",
      "      8        0.0003        0.2393  1.9029\n",
      "      9        \u001B[36m0.0002\u001B[0m        0.2683  1.9140\n",
      "     10        0.0002        0.3123  1.9071\n",
      "  epoch    train_loss    valid_loss     dur\n",
      "-------  ------------  ------------  ------\n",
      "      1        \u001B[36m0.0007\u001B[0m        \u001B[32m0.0611\u001B[0m  2.5442\n",
      "      2        \u001B[36m0.0001\u001B[0m        \u001B[32m0.0350\u001B[0m  2.5472\n",
      "      3        0.0001        0.0550  2.5446\n",
      "      4        0.0001        0.0824  2.5592\n",
      "      5        0.0002        0.1616  2.5467\n",
      "      6        \u001B[36m0.0001\u001B[0m        0.2291  2.5465\n",
      "      7        0.0001        0.3111  2.5686\n",
      "      8        \u001B[36m0.0001\u001B[0m        0.2557  2.6352\n",
      "      9        \u001B[36m0.0001\u001B[0m        0.2020  2.5987\n",
      "     10        0.0001        0.2373  2.5870\n",
      "  epoch    train_loss    valid_loss     dur\n",
      "-------  ------------  ------------  ------\n",
      "      1        \u001B[36m0.0008\u001B[0m        \u001B[32m0.0630\u001B[0m  3.0390\n",
      "      2        \u001B[36m0.0001\u001B[0m        \u001B[32m0.0417\u001B[0m  3.1791\n",
      "      3        0.0001        0.0714  3.2874\n",
      "      4        \u001B[36m0.0001\u001B[0m        0.0873  3.2118\n",
      "      5        0.0002        0.1287  3.1699\n",
      "      6        \u001B[36m0.0001\u001B[0m        0.2086  3.1783\n",
      "      7        \u001B[36m0.0001\u001B[0m        0.3038  3.1739\n",
      "      8        \u001B[36m0.0001\u001B[0m        0.2112  3.1909\n",
      "      9        0.0001        0.2309  3.1709\n",
      "     10        \u001B[36m0.0001\u001B[0m        0.1885  3.1731\n",
      "  epoch    train_loss    valid_loss     dur\n",
      "-------  ------------  ------------  ------\n",
      "      1        \u001B[36m0.4174\u001B[0m        \u001B[32m0.7900\u001B[0m  0.6181\n",
      "      2        \u001B[36m0.0067\u001B[0m        \u001B[32m0.3622\u001B[0m  0.6201\n",
      "      3        \u001B[36m0.0019\u001B[0m        \u001B[32m0.2586\u001B[0m  0.6217\n",
      "      4        \u001B[36m0.0012\u001B[0m        \u001B[32m0.2000\u001B[0m  0.6221\n",
      "      5        \u001B[36m0.0009\u001B[0m        \u001B[32m0.1601\u001B[0m  0.6191\n",
      "      6        \u001B[36m0.0007\u001B[0m        \u001B[32m0.1321\u001B[0m  0.6208\n",
      "      7        \u001B[36m0.0006\u001B[0m        \u001B[32m0.1119\u001B[0m  0.6220\n",
      "      8        \u001B[36m0.0006\u001B[0m        \u001B[32m0.1010\u001B[0m  0.6209\n",
      "      9        \u001B[36m0.0006\u001B[0m        \u001B[32m0.0885\u001B[0m  0.6210\n",
      "     10        \u001B[36m0.0006\u001B[0m        \u001B[32m0.0784\u001B[0m  0.6207\n",
      "  epoch    train_loss    valid_loss     dur\n",
      "-------  ------------  ------------  ------\n",
      "      1        \u001B[36m0.0941\u001B[0m        \u001B[32m1.1674\u001B[0m  1.2370\n",
      "      2        \u001B[36m0.0012\u001B[0m        \u001B[32m0.6311\u001B[0m  1.2361\n",
      "      3        \u001B[36m0.0004\u001B[0m        \u001B[32m0.5081\u001B[0m  1.2367\n",
      "      4        \u001B[36m0.0003\u001B[0m        \u001B[32m0.4093\u001B[0m  1.2358\n",
      "      5        \u001B[36m0.0003\u001B[0m        \u001B[32m0.3321\u001B[0m  1.2447\n",
      "      6        \u001B[36m0.0003\u001B[0m        \u001B[32m0.2762\u001B[0m  1.2379\n",
      "      7        \u001B[36m0.0003\u001B[0m        \u001B[32m0.2314\u001B[0m  1.2378\n",
      "      8        \u001B[36m0.0003\u001B[0m        \u001B[32m0.2076\u001B[0m  1.2303\n",
      "      9        \u001B[36m0.0003\u001B[0m        \u001B[32m0.1824\u001B[0m  1.2332\n",
      "     10        \u001B[36m0.0003\u001B[0m        \u001B[32m0.1617\u001B[0m  1.2319\n",
      "  epoch    train_loss    valid_loss     dur\n",
      "-------  ------------  ------------  ------\n",
      "      1        \u001B[36m0.0357\u001B[0m        \u001B[32m0.7466\u001B[0m  1.8342\n",
      "      2        \u001B[36m0.0006\u001B[0m        \u001B[32m0.3979\u001B[0m  1.9566\n",
      "      3        \u001B[36m0.0002\u001B[0m        \u001B[32m0.3486\u001B[0m  1.8482\n",
      "      4        \u001B[36m0.0002\u001B[0m        \u001B[32m0.3028\u001B[0m  1.8426\n",
      "      5        \u001B[36m0.0002\u001B[0m        \u001B[32m0.2790\u001B[0m  1.8434\n",
      "      6        \u001B[36m0.0002\u001B[0m        \u001B[32m0.2556\u001B[0m  1.8442\n",
      "      7        \u001B[36m0.0002\u001B[0m        \u001B[32m0.2365\u001B[0m  1.8501\n",
      "      8        \u001B[36m0.0002\u001B[0m        \u001B[32m0.2206\u001B[0m  1.8481\n",
      "      9        \u001B[36m0.0002\u001B[0m        \u001B[32m0.2068\u001B[0m  1.8487\n",
      "     10        \u001B[36m0.0002\u001B[0m        \u001B[32m0.1973\u001B[0m  1.8439\n",
      "  epoch    train_loss    valid_loss     dur\n",
      "-------  ------------  ------------  ------\n",
      "      1        \u001B[36m0.0167\u001B[0m        \u001B[32m0.5251\u001B[0m  2.4518\n",
      "      2        \u001B[36m0.0001\u001B[0m        \u001B[32m0.3942\u001B[0m  2.4480\n",
      "      3        \u001B[36m0.0001\u001B[0m        \u001B[32m0.2988\u001B[0m  2.4523\n",
      "      4        \u001B[36m0.0001\u001B[0m        \u001B[32m0.2526\u001B[0m  2.4529\n",
      "      5        \u001B[36m0.0001\u001B[0m        \u001B[32m0.2326\u001B[0m  2.4504\n",
      "      6        \u001B[36m0.0001\u001B[0m        \u001B[32m0.2242\u001B[0m  2.4478\n",
      "      7        \u001B[36m0.0001\u001B[0m        \u001B[32m0.2163\u001B[0m  2.4491\n",
      "      8        \u001B[36m0.0001\u001B[0m        \u001B[32m0.2134\u001B[0m  2.4514\n",
      "      9        \u001B[36m0.0001\u001B[0m        \u001B[32m0.2075\u001B[0m  2.4563\n",
      "     10        \u001B[36m0.0001\u001B[0m        \u001B[32m0.2064\u001B[0m  2.4535\n",
      "  epoch    train_loss    valid_loss     dur\n",
      "-------  ------------  ------------  ------\n",
      "      1        \u001B[36m0.0057\u001B[0m        \u001B[32m0.3912\u001B[0m  3.0638\n",
      "      2        \u001B[36m0.0001\u001B[0m        \u001B[32m0.2715\u001B[0m  3.0595\n",
      "      3        \u001B[36m0.0001\u001B[0m        \u001B[32m0.2030\u001B[0m  3.0592\n",
      "      4        \u001B[36m0.0001\u001B[0m        \u001B[32m0.1649\u001B[0m  3.0708\n",
      "      5        \u001B[36m0.0001\u001B[0m        \u001B[32m0.1450\u001B[0m  3.0509\n",
      "      6        \u001B[36m0.0001\u001B[0m        \u001B[32m0.1290\u001B[0m  3.0596\n",
      "      7        \u001B[36m0.0001\u001B[0m        \u001B[32m0.1199\u001B[0m  3.0621\n",
      "      8        \u001B[36m0.0001\u001B[0m        \u001B[32m0.1101\u001B[0m  3.0667\n",
      "      9        \u001B[36m0.0001\u001B[0m        \u001B[32m0.1062\u001B[0m  3.1234\n",
      "     10        \u001B[36m0.0001\u001B[0m        \u001B[32m0.1006\u001B[0m  3.0779\n",
      "  epoch    train_loss    valid_loss     dur\n",
      "-------  ------------  ------------  ------\n",
      "      1        \u001B[36m0.0788\u001B[0m        \u001B[32m0.2179\u001B[0m  0.6426\n",
      "      2        \u001B[36m0.0009\u001B[0m        \u001B[32m0.1391\u001B[0m  0.6640\n",
      "      3        \u001B[36m0.0007\u001B[0m        \u001B[32m0.1061\u001B[0m  0.6539\n",
      "      4        \u001B[36m0.0006\u001B[0m        \u001B[32m0.0883\u001B[0m  0.6291\n",
      "      5        \u001B[36m0.0006\u001B[0m        \u001B[32m0.0771\u001B[0m  0.6297\n",
      "      6        0.0006        \u001B[32m0.0686\u001B[0m  0.6291\n",
      "      7        \u001B[36m0.0006\u001B[0m        \u001B[32m0.0610\u001B[0m  0.6314\n",
      "      8        0.0006        \u001B[32m0.0571\u001B[0m  0.6314\n",
      "      9        \u001B[36m0.0006\u001B[0m        \u001B[32m0.0496\u001B[0m  0.6308\n",
      "     10        \u001B[36m0.0006\u001B[0m        \u001B[32m0.0455\u001B[0m  0.6277\n",
      "  epoch    train_loss    valid_loss     dur\n",
      "-------  ------------  ------------  ------\n",
      "      1        \u001B[36m0.0362\u001B[0m        \u001B[32m0.6027\u001B[0m  1.2538\n",
      "      2        \u001B[36m0.0003\u001B[0m        \u001B[32m0.4350\u001B[0m  1.2523\n",
      "      3        \u001B[36m0.0003\u001B[0m        \u001B[32m0.3667\u001B[0m  1.2495\n",
      "      4        \u001B[36m0.0003\u001B[0m        \u001B[32m0.3266\u001B[0m  1.2548\n",
      "      5        \u001B[36m0.0003\u001B[0m        \u001B[32m0.2908\u001B[0m  1.2506\n",
      "      6        \u001B[36m0.0003\u001B[0m        \u001B[32m0.2630\u001B[0m  1.2508\n",
      "      7        \u001B[36m0.0003\u001B[0m        \u001B[32m0.2391\u001B[0m  1.2502\n",
      "      8        \u001B[36m0.0003\u001B[0m        \u001B[32m0.2187\u001B[0m  1.2508\n",
      "      9        \u001B[36m0.0003\u001B[0m        \u001B[32m0.2027\u001B[0m  1.2495\n",
      "     10        \u001B[36m0.0003\u001B[0m        \u001B[32m0.1879\u001B[0m  1.2520\n",
      "  epoch    train_loss    valid_loss     dur\n",
      "-------  ------------  ------------  ------\n",
      "      1        \u001B[36m0.0058\u001B[0m        \u001B[32m0.4301\u001B[0m  1.8688\n",
      "      2        \u001B[36m0.0002\u001B[0m        \u001B[32m0.3880\u001B[0m  1.8729\n",
      "      3        \u001B[36m0.0002\u001B[0m        \u001B[32m0.3444\u001B[0m  1.8750\n",
      "      4        \u001B[36m0.0002\u001B[0m        \u001B[32m0.2972\u001B[0m  1.8705\n",
      "      5        \u001B[36m0.0002\u001B[0m        \u001B[32m0.2634\u001B[0m  1.8653\n",
      "      6        \u001B[36m0.0002\u001B[0m        \u001B[32m0.2362\u001B[0m  1.8719\n",
      "      7        \u001B[36m0.0002\u001B[0m        \u001B[32m0.2147\u001B[0m  1.8672\n",
      "      8        \u001B[36m0.0002\u001B[0m        \u001B[32m0.1877\u001B[0m  1.8728\n",
      "      9        \u001B[36m0.0002\u001B[0m        \u001B[32m0.1688\u001B[0m  1.8764\n",
      "     10        \u001B[36m0.0002\u001B[0m        \u001B[32m0.1530\u001B[0m  1.8935\n",
      "  epoch    train_loss    valid_loss     dur\n",
      "-------  ------------  ------------  ------\n",
      "      1        \u001B[36m0.0136\u001B[0m        \u001B[32m0.2433\u001B[0m  2.5575\n",
      "      2        \u001B[36m0.0001\u001B[0m        \u001B[32m0.2017\u001B[0m  2.4896\n",
      "      3        \u001B[36m0.0001\u001B[0m        \u001B[32m0.1741\u001B[0m  2.4857\n",
      "      4        \u001B[36m0.0001\u001B[0m        \u001B[32m0.1456\u001B[0m  2.4928\n",
      "      5        \u001B[36m0.0001\u001B[0m        \u001B[32m0.1273\u001B[0m  2.4975\n",
      "      6        \u001B[36m0.0001\u001B[0m        \u001B[32m0.1078\u001B[0m  2.5192\n",
      "      7        \u001B[36m0.0001\u001B[0m        \u001B[32m0.0986\u001B[0m  2.4937\n",
      "      8        \u001B[36m0.0001\u001B[0m        \u001B[32m0.0918\u001B[0m  2.4954\n",
      "      9        \u001B[36m0.0001\u001B[0m        \u001B[32m0.0858\u001B[0m  2.4972\n",
      "     10        \u001B[36m0.0001\u001B[0m        \u001B[32m0.0808\u001B[0m  2.4865\n",
      "  epoch    train_loss    valid_loss     dur\n",
      "-------  ------------  ------------  ------\n",
      "      1        \u001B[36m0.0043\u001B[0m        \u001B[32m0.2439\u001B[0m  3.1050\n",
      "      2        \u001B[36m0.0001\u001B[0m        \u001B[32m0.1691\u001B[0m  3.1115\n",
      "      3        \u001B[36m0.0001\u001B[0m        \u001B[32m0.1255\u001B[0m  3.1620\n",
      "      4        \u001B[36m0.0001\u001B[0m        \u001B[32m0.1045\u001B[0m  3.1229\n",
      "      5        \u001B[36m0.0001\u001B[0m        \u001B[32m0.0864\u001B[0m  3.1051\n",
      "      6        \u001B[36m0.0001\u001B[0m        \u001B[32m0.0750\u001B[0m  3.1014\n",
      "      7        \u001B[36m0.0001\u001B[0m        \u001B[32m0.0700\u001B[0m  3.0996\n",
      "      8        \u001B[36m0.0001\u001B[0m        \u001B[32m0.0690\u001B[0m  3.1644\n",
      "      9        \u001B[36m0.0001\u001B[0m        \u001B[32m0.0663\u001B[0m  3.1057\n",
      "     10        0.0001        0.0669  3.1867\n",
      "  epoch    train_loss    valid_loss     dur\n",
      "-------  ------------  ------------  ------\n",
      "      1        \u001B[36m0.2048\u001B[0m        \u001B[32m0.1736\u001B[0m  0.6400\n",
      "      2        \u001B[36m0.0009\u001B[0m        \u001B[32m0.1093\u001B[0m  0.6455\n",
      "      3        \u001B[36m0.0008\u001B[0m        \u001B[32m0.0873\u001B[0m  0.6443\n",
      "      4        \u001B[36m0.0008\u001B[0m        \u001B[32m0.0766\u001B[0m  0.6441\n",
      "      5        \u001B[36m0.0008\u001B[0m        \u001B[32m0.0684\u001B[0m  0.6568\n",
      "      6        \u001B[36m0.0007\u001B[0m        \u001B[32m0.0592\u001B[0m  0.6424\n",
      "      7        \u001B[36m0.0007\u001B[0m        \u001B[32m0.0569\u001B[0m  0.6463\n",
      "      8        \u001B[36m0.0007\u001B[0m        \u001B[32m0.0516\u001B[0m  0.6466\n",
      "      9        0.0007        \u001B[32m0.0457\u001B[0m  0.6449\n",
      "     10        \u001B[36m0.0007\u001B[0m        \u001B[32m0.0404\u001B[0m  0.6466\n",
      "  epoch    train_loss    valid_loss     dur\n",
      "-------  ------------  ------------  ------\n",
      "      1        \u001B[36m0.0134\u001B[0m        \u001B[32m0.2889\u001B[0m  1.2769\n",
      "      2        \u001B[36m0.0004\u001B[0m        \u001B[32m0.1201\u001B[0m  1.2830\n",
      "      3        \u001B[36m0.0003\u001B[0m        \u001B[32m0.0972\u001B[0m  1.2806\n",
      "      4        \u001B[36m0.0003\u001B[0m        \u001B[32m0.0865\u001B[0m  1.2866\n",
      "      5        \u001B[36m0.0003\u001B[0m        \u001B[32m0.0652\u001B[0m  1.2778\n",
      "      6        \u001B[36m0.0003\u001B[0m        \u001B[32m0.0583\u001B[0m  1.2838\n",
      "      7        \u001B[36m0.0003\u001B[0m        \u001B[32m0.0485\u001B[0m  1.2801\n",
      "      8        \u001B[36m0.0003\u001B[0m        \u001B[32m0.0429\u001B[0m  1.2809\n",
      "      9        \u001B[36m0.0003\u001B[0m        \u001B[32m0.0355\u001B[0m  1.2823\n",
      "     10        \u001B[36m0.0003\u001B[0m        \u001B[32m0.0315\u001B[0m  1.2798\n",
      "  epoch    train_loss    valid_loss     dur\n",
      "-------  ------------  ------------  ------\n",
      "      1        \u001B[36m0.0078\u001B[0m        \u001B[32m0.2294\u001B[0m  1.9159\n",
      "      2        \u001B[36m0.0002\u001B[0m        \u001B[32m0.1953\u001B[0m  1.9260\n",
      "      3        \u001B[36m0.0002\u001B[0m        \u001B[32m0.1736\u001B[0m  1.9175\n",
      "      4        \u001B[36m0.0002\u001B[0m        \u001B[32m0.1468\u001B[0m  1.9253\n",
      "      5        \u001B[36m0.0002\u001B[0m        \u001B[32m0.1259\u001B[0m  1.9185\n",
      "      6        \u001B[36m0.0002\u001B[0m        \u001B[32m0.1112\u001B[0m  1.9243\n",
      "      7        \u001B[36m0.0002\u001B[0m        \u001B[32m0.0936\u001B[0m  1.9258\n",
      "      8        \u001B[36m0.0002\u001B[0m        \u001B[32m0.0840\u001B[0m  1.9167\n",
      "      9        \u001B[36m0.0002\u001B[0m        \u001B[32m0.0759\u001B[0m  1.9487\n",
      "     10        \u001B[36m0.0002\u001B[0m        \u001B[32m0.0724\u001B[0m  1.9157\n",
      "  epoch    train_loss    valid_loss     dur\n",
      "-------  ------------  ------------  ------\n",
      "      1        \u001B[36m0.0046\u001B[0m        \u001B[32m0.1720\u001B[0m  2.5389\n",
      "      2        \u001B[36m0.0002\u001B[0m        \u001B[32m0.1712\u001B[0m  2.5519\n",
      "      3        \u001B[36m0.0001\u001B[0m        \u001B[32m0.1492\u001B[0m  2.5562\n",
      "      4        \u001B[36m0.0001\u001B[0m        \u001B[32m0.1234\u001B[0m  2.5502\n",
      "      5        \u001B[36m0.0001\u001B[0m        \u001B[32m0.1034\u001B[0m  2.5514\n",
      "      6        \u001B[36m0.0001\u001B[0m        \u001B[32m0.0862\u001B[0m  2.5479\n",
      "      7        \u001B[36m0.0001\u001B[0m        \u001B[32m0.0695\u001B[0m  2.5706\n",
      "      8        \u001B[36m0.0001\u001B[0m        \u001B[32m0.0550\u001B[0m  2.5485\n",
      "      9        \u001B[36m0.0001\u001B[0m        \u001B[32m0.0516\u001B[0m  2.5525\n",
      "     10        \u001B[36m0.0001\u001B[0m        \u001B[32m0.0495\u001B[0m  2.5444\n",
      "  epoch    train_loss    valid_loss     dur\n",
      "-------  ------------  ------------  ------\n",
      "      1        \u001B[36m0.0034\u001B[0m        \u001B[32m0.1002\u001B[0m  3.1952\n",
      "      2        \u001B[36m0.0001\u001B[0m        \u001B[32m0.0875\u001B[0m  3.1887\n",
      "      3        \u001B[36m0.0001\u001B[0m        \u001B[32m0.0711\u001B[0m  3.2112\n",
      "      4        \u001B[36m0.0001\u001B[0m        \u001B[32m0.0595\u001B[0m  3.2052\n",
      "      5        \u001B[36m0.0001\u001B[0m        \u001B[32m0.0474\u001B[0m  3.2460\n",
      "      6        \u001B[36m0.0001\u001B[0m        \u001B[32m0.0392\u001B[0m  3.1971\n",
      "      7        \u001B[36m0.0001\u001B[0m        \u001B[32m0.0343\u001B[0m  3.2001\n",
      "      8        \u001B[36m0.0001\u001B[0m        \u001B[32m0.0298\u001B[0m  3.1918\n",
      "      9        \u001B[36m0.0001\u001B[0m        \u001B[32m0.0270\u001B[0m  3.1903\n",
      "     10        \u001B[36m0.0001\u001B[0m        \u001B[32m0.0269\u001B[0m  3.1873\n",
      "  epoch    train_loss    valid_loss     dur\n",
      "-------  ------------  ------------  ------\n",
      "      1        \u001B[36m3.0638\u001B[0m       \u001B[32m11.7499\u001B[0m  0.6147\n",
      "      2        \u001B[36m2.0194\u001B[0m        \u001B[32m9.1437\u001B[0m  0.6237\n",
      "      3        \u001B[36m1.4675\u001B[0m        \u001B[32m7.2177\u001B[0m  0.6211\n",
      "      4        \u001B[36m1.0623\u001B[0m        \u001B[32m5.2767\u001B[0m  0.6180\n",
      "      5        \u001B[36m0.7237\u001B[0m        \u001B[32m3.6464\u001B[0m  0.6211\n",
      "      6        \u001B[36m0.3709\u001B[0m        \u001B[32m2.3758\u001B[0m  0.6207\n",
      "      7        \u001B[36m0.1348\u001B[0m        \u001B[32m1.6073\u001B[0m  0.6212\n",
      "      8        \u001B[36m0.0703\u001B[0m        \u001B[32m1.1747\u001B[0m  0.6274\n",
      "      9        \u001B[36m0.0388\u001B[0m        \u001B[32m0.8564\u001B[0m  0.6233\n",
      "     10        \u001B[36m0.0190\u001B[0m        \u001B[32m0.6214\u001B[0m  0.6248\n",
      "  epoch    train_loss    valid_loss     dur\n",
      "-------  ------------  ------------  ------\n",
      "      1        \u001B[36m0.7023\u001B[0m        \u001B[32m5.5336\u001B[0m  1.2354\n",
      "      2        \u001B[36m0.2568\u001B[0m        \u001B[32m3.5995\u001B[0m  1.2310\n",
      "      3        \u001B[36m0.0637\u001B[0m        \u001B[32m2.0650\u001B[0m  1.2370\n",
      "      4        \u001B[36m0.0094\u001B[0m        \u001B[32m1.5737\u001B[0m  1.2309\n",
      "      5        \u001B[36m0.0039\u001B[0m        \u001B[32m1.2058\u001B[0m  1.2349\n",
      "      6        \u001B[36m0.0014\u001B[0m        \u001B[32m0.9337\u001B[0m  1.2333\n",
      "      7        \u001B[36m0.0007\u001B[0m        \u001B[32m0.7540\u001B[0m  1.2311\n",
      "      8        \u001B[36m0.0005\u001B[0m        \u001B[32m0.6275\u001B[0m  1.2361\n",
      "      9        \u001B[36m0.0004\u001B[0m        \u001B[32m0.5423\u001B[0m  1.2319\n",
      "     10        \u001B[36m0.0003\u001B[0m        \u001B[32m0.4865\u001B[0m  1.2333\n",
      "  epoch    train_loss    valid_loss     dur\n",
      "-------  ------------  ------------  ------\n",
      "      1        \u001B[36m0.1001\u001B[0m        \u001B[32m1.0093\u001B[0m  1.8427\n",
      "      2        \u001B[36m0.0032\u001B[0m        \u001B[32m0.9496\u001B[0m  1.8454\n",
      "      3        \u001B[36m0.0015\u001B[0m        \u001B[32m0.7578\u001B[0m  1.8507\n",
      "      4        \u001B[36m0.0004\u001B[0m        \u001B[32m0.5895\u001B[0m  1.8502\n",
      "      5        \u001B[36m0.0002\u001B[0m        \u001B[32m0.5362\u001B[0m  1.8471\n",
      "      6        \u001B[36m0.0002\u001B[0m        \u001B[32m0.4973\u001B[0m  1.8520\n",
      "      7        \u001B[36m0.0002\u001B[0m        \u001B[32m0.4631\u001B[0m  1.8478\n",
      "      8        \u001B[36m0.0002\u001B[0m        \u001B[32m0.4383\u001B[0m  1.8512\n",
      "      9        \u001B[36m0.0002\u001B[0m        \u001B[32m0.4158\u001B[0m  1.8718\n",
      "     10        \u001B[36m0.0002\u001B[0m        \u001B[32m0.3982\u001B[0m  1.9889\n",
      "  epoch    train_loss    valid_loss     dur\n",
      "-------  ------------  ------------  ------\n",
      "      1        \u001B[36m0.2395\u001B[0m        \u001B[32m1.1356\u001B[0m  2.8488\n",
      "      2        \u001B[36m0.0033\u001B[0m        \u001B[32m0.7783\u001B[0m  2.5753\n",
      "      3        \u001B[36m0.0012\u001B[0m        \u001B[32m0.5166\u001B[0m  2.5438\n",
      "      4        \u001B[36m0.0006\u001B[0m        \u001B[32m0.3729\u001B[0m  2.4614\n",
      "      5        \u001B[36m0.0004\u001B[0m        \u001B[32m0.2935\u001B[0m  2.5083\n",
      "      6        \u001B[36m0.0003\u001B[0m        \u001B[32m0.2318\u001B[0m  2.4686\n",
      "      7        \u001B[36m0.0002\u001B[0m        \u001B[32m0.1920\u001B[0m  2.4609\n",
      "      8        \u001B[36m0.0002\u001B[0m        \u001B[32m0.1586\u001B[0m  2.4667\n",
      "      9        \u001B[36m0.0002\u001B[0m        \u001B[32m0.1309\u001B[0m  2.4633\n",
      "     10        \u001B[36m0.0001\u001B[0m        \u001B[32m0.1101\u001B[0m  2.4584\n",
      "  epoch    train_loss    valid_loss     dur\n",
      "-------  ------------  ------------  ------\n",
      "      1        \u001B[36m0.1030\u001B[0m        \u001B[32m0.9650\u001B[0m  3.0673\n",
      "      2        \u001B[36m0.0018\u001B[0m        \u001B[32m0.5649\u001B[0m  3.0753\n",
      "      3        \u001B[36m0.0002\u001B[0m        \u001B[32m0.4426\u001B[0m  3.0780\n",
      "      4        \u001B[36m0.0001\u001B[0m        \u001B[32m0.3705\u001B[0m  3.0730\n",
      "      5        \u001B[36m0.0001\u001B[0m        \u001B[32m0.3383\u001B[0m  3.0744\n",
      "      6        \u001B[36m0.0001\u001B[0m        \u001B[32m0.3231\u001B[0m  3.0759\n",
      "      7        \u001B[36m0.0001\u001B[0m        \u001B[32m0.3137\u001B[0m  3.0706\n",
      "      8        \u001B[36m0.0001\u001B[0m        \u001B[32m0.3067\u001B[0m  3.0721\n",
      "      9        \u001B[36m0.0001\u001B[0m        \u001B[32m0.2995\u001B[0m  3.0772\n",
      "     10        \u001B[36m0.0001\u001B[0m        \u001B[32m0.2938\u001B[0m  3.0779\n",
      "  epoch    train_loss    valid_loss     dur\n",
      "-------  ------------  ------------  ------\n",
      "      1        \u001B[36m1.2746\u001B[0m        \u001B[32m3.7093\u001B[0m  0.6256\n",
      "      2        \u001B[36m0.2128\u001B[0m        \u001B[32m1.2827\u001B[0m  0.6286\n",
      "      3        \u001B[36m0.0524\u001B[0m        \u001B[32m0.8852\u001B[0m  0.6320\n",
      "      4        \u001B[36m0.0314\u001B[0m        \u001B[32m0.6369\u001B[0m  0.6285\n",
      "      5        \u001B[36m0.0166\u001B[0m        \u001B[32m0.4395\u001B[0m  0.6309\n",
      "      6        \u001B[36m0.0075\u001B[0m        \u001B[32m0.2948\u001B[0m  0.6343\n",
      "      7        \u001B[36m0.0035\u001B[0m        \u001B[32m0.2142\u001B[0m  0.6314\n",
      "      8        \u001B[36m0.0020\u001B[0m        \u001B[32m0.1687\u001B[0m  0.6403\n",
      "      9        \u001B[36m0.0012\u001B[0m        \u001B[32m0.1358\u001B[0m  0.6346\n",
      "     10        \u001B[36m0.0009\u001B[0m        \u001B[32m0.1143\u001B[0m  0.6328\n",
      "  epoch    train_loss    valid_loss     dur\n",
      "-------  ------------  ------------  ------\n",
      "      1        \u001B[36m0.2161\u001B[0m        \u001B[32m1.7438\u001B[0m  1.2524\n",
      "      2        \u001B[36m0.0060\u001B[0m        \u001B[32m1.3151\u001B[0m  1.2563\n",
      "      3        \u001B[36m0.0027\u001B[0m        \u001B[32m0.9701\u001B[0m  1.2584\n",
      "      4        \u001B[36m0.0010\u001B[0m        \u001B[32m0.7058\u001B[0m  1.2556\n",
      "      5        \u001B[36m0.0005\u001B[0m        \u001B[32m0.5800\u001B[0m  1.2561\n",
      "      6        \u001B[36m0.0004\u001B[0m        \u001B[32m0.4978\u001B[0m  1.2578\n",
      "      7        \u001B[36m0.0004\u001B[0m        \u001B[32m0.4310\u001B[0m  1.2573\n",
      "      8        \u001B[36m0.0003\u001B[0m        \u001B[32m0.3867\u001B[0m  1.2581\n",
      "      9        \u001B[36m0.0003\u001B[0m        \u001B[32m0.3513\u001B[0m  1.2611\n",
      "     10        \u001B[36m0.0003\u001B[0m        \u001B[32m0.3245\u001B[0m  1.2571\n",
      "  epoch    train_loss    valid_loss     dur\n",
      "-------  ------------  ------------  ------\n",
      "      1        \u001B[36m0.0953\u001B[0m        \u001B[32m1.2721\u001B[0m  1.8825\n",
      "      2        \u001B[36m0.0021\u001B[0m        \u001B[32m0.8285\u001B[0m  1.8803\n",
      "      3        \u001B[36m0.0004\u001B[0m        \u001B[32m0.6165\u001B[0m  1.8796\n",
      "      4        \u001B[36m0.0002\u001B[0m        \u001B[32m0.5491\u001B[0m  1.8819\n",
      "      5        \u001B[36m0.0002\u001B[0m        \u001B[32m0.4952\u001B[0m  1.8828\n",
      "      6        \u001B[36m0.0002\u001B[0m        \u001B[32m0.4574\u001B[0m  1.8804\n",
      "      7        \u001B[36m0.0002\u001B[0m        \u001B[32m0.4254\u001B[0m  1.8828\n",
      "      8        \u001B[36m0.0002\u001B[0m        \u001B[32m0.4003\u001B[0m  1.8810\n",
      "      9        \u001B[36m0.0002\u001B[0m        \u001B[32m0.3827\u001B[0m  1.8774\n",
      "     10        \u001B[36m0.0002\u001B[0m        \u001B[32m0.3614\u001B[0m  1.8759\n",
      "  epoch    train_loss    valid_loss     dur\n",
      "-------  ------------  ------------  ------\n",
      "      1        \u001B[36m0.0918\u001B[0m        \u001B[32m0.8325\u001B[0m  2.4970\n",
      "      2        \u001B[36m0.0012\u001B[0m        \u001B[32m0.4936\u001B[0m  2.4980\n",
      "      3        \u001B[36m0.0002\u001B[0m        \u001B[32m0.3515\u001B[0m  2.4942\n",
      "      4        \u001B[36m0.0002\u001B[0m        \u001B[32m0.3059\u001B[0m  2.4977\n",
      "      5        \u001B[36m0.0001\u001B[0m        \u001B[32m0.2704\u001B[0m  2.4968\n",
      "      6        \u001B[36m0.0001\u001B[0m        \u001B[32m0.2459\u001B[0m  2.4910\n",
      "      7        \u001B[36m0.0001\u001B[0m        \u001B[32m0.2245\u001B[0m  2.4959\n",
      "      8        \u001B[36m0.0001\u001B[0m        \u001B[32m0.2090\u001B[0m  2.4989\n",
      "      9        \u001B[36m0.0001\u001B[0m        \u001B[32m0.1930\u001B[0m  2.4983\n",
      "     10        \u001B[36m0.0001\u001B[0m        \u001B[32m0.1813\u001B[0m  2.4962\n",
      "  epoch    train_loss    valid_loss     dur\n",
      "-------  ------------  ------------  ------\n",
      "      1        \u001B[36m0.0346\u001B[0m        \u001B[32m0.6174\u001B[0m  3.1224\n",
      "      2        \u001B[36m0.0006\u001B[0m        \u001B[32m0.3546\u001B[0m  3.1167\n",
      "      3        \u001B[36m0.0001\u001B[0m        \u001B[32m0.2949\u001B[0m  3.1121\n",
      "      4        \u001B[36m0.0001\u001B[0m        \u001B[32m0.2561\u001B[0m  3.1404\n",
      "      5        \u001B[36m0.0001\u001B[0m        \u001B[32m0.2329\u001B[0m  3.1154\n",
      "      6        \u001B[36m0.0001\u001B[0m        \u001B[32m0.2140\u001B[0m  3.1132\n",
      "      7        \u001B[36m0.0001\u001B[0m        \u001B[32m0.2029\u001B[0m  3.1182\n",
      "      8        \u001B[36m0.0001\u001B[0m        \u001B[32m0.1905\u001B[0m  3.1156\n",
      "      9        \u001B[36m0.0001\u001B[0m        \u001B[32m0.1824\u001B[0m  3.1171\n",
      "     10        \u001B[36m0.0001\u001B[0m        \u001B[32m0.1729\u001B[0m  3.1162\n",
      "  epoch    train_loss    valid_loss     dur\n",
      "-------  ------------  ------------  ------\n",
      "      1        \u001B[36m0.7898\u001B[0m        \u001B[32m1.5168\u001B[0m  0.6421\n",
      "      2        \u001B[36m0.0507\u001B[0m        \u001B[32m0.7553\u001B[0m  0.6452\n",
      "      3        \u001B[36m0.0204\u001B[0m        \u001B[32m0.4440\u001B[0m  0.6477\n",
      "      4        \u001B[36m0.0086\u001B[0m        \u001B[32m0.2761\u001B[0m  0.6433\n",
      "      5        \u001B[36m0.0048\u001B[0m        \u001B[32m0.1907\u001B[0m  0.6494\n",
      "      6        \u001B[36m0.0031\u001B[0m        \u001B[32m0.1492\u001B[0m  0.6455\n",
      "      7        \u001B[36m0.0020\u001B[0m        \u001B[32m0.1076\u001B[0m  0.6460\n",
      "      8        \u001B[36m0.0012\u001B[0m        \u001B[32m0.0826\u001B[0m  0.6468\n",
      "      9        \u001B[36m0.0008\u001B[0m        \u001B[32m0.0629\u001B[0m  0.6467\n",
      "     10        \u001B[36m0.0007\u001B[0m        \u001B[32m0.0528\u001B[0m  0.6481\n",
      "  epoch    train_loss    valid_loss     dur\n",
      "-------  ------------  ------------  ------\n",
      "      1        \u001B[36m0.1247\u001B[0m        \u001B[32m1.1371\u001B[0m  1.2842\n",
      "      2        \u001B[36m0.0035\u001B[0m        \u001B[32m0.8192\u001B[0m  1.2859\n",
      "      3        \u001B[36m0.0016\u001B[0m        \u001B[32m0.5722\u001B[0m  1.2869\n",
      "      4        \u001B[36m0.0008\u001B[0m        \u001B[32m0.3870\u001B[0m  1.2887\n",
      "      5        \u001B[36m0.0005\u001B[0m        \u001B[32m0.2619\u001B[0m  1.2866\n",
      "      6        \u001B[36m0.0003\u001B[0m        \u001B[32m0.1950\u001B[0m  1.2863\n",
      "      7        \u001B[36m0.0003\u001B[0m        \u001B[32m0.1745\u001B[0m  1.2865\n",
      "      8        \u001B[36m0.0003\u001B[0m        \u001B[32m0.1631\u001B[0m  1.2870\n",
      "      9        \u001B[36m0.0003\u001B[0m        \u001B[32m0.1546\u001B[0m  1.2904\n",
      "     10        \u001B[36m0.0003\u001B[0m        \u001B[32m0.1449\u001B[0m  1.2867\n",
      "  epoch    train_loss    valid_loss     dur\n",
      "-------  ------------  ------------  ------\n",
      "      1        \u001B[36m0.0499\u001B[0m        \u001B[32m0.9076\u001B[0m  1.9213\n",
      "      2        \u001B[36m0.0010\u001B[0m        \u001B[32m0.5833\u001B[0m  1.9251\n",
      "      3        \u001B[36m0.0004\u001B[0m        \u001B[32m0.3658\u001B[0m  1.9293\n",
      "      4        \u001B[36m0.0002\u001B[0m        \u001B[32m0.2959\u001B[0m  1.9307\n",
      "      5        \u001B[36m0.0002\u001B[0m        \u001B[32m0.2812\u001B[0m  1.9875\n",
      "      6        \u001B[36m0.0002\u001B[0m        \u001B[32m0.2664\u001B[0m  1.9963\n",
      "      7        \u001B[36m0.0002\u001B[0m        \u001B[32m0.2522\u001B[0m  1.9863\n",
      "      8        \u001B[36m0.0002\u001B[0m        \u001B[32m0.2410\u001B[0m  2.0203\n",
      "      9        \u001B[36m0.0002\u001B[0m        \u001B[32m0.2264\u001B[0m  1.9966\n",
      "     10        \u001B[36m0.0002\u001B[0m        \u001B[32m0.2209\u001B[0m  1.9852\n",
      "  epoch    train_loss    valid_loss     dur\n",
      "-------  ------------  ------------  ------\n",
      "      1        \u001B[36m0.0258\u001B[0m        \u001B[32m0.6123\u001B[0m  2.7301\n",
      "      2        \u001B[36m0.0007\u001B[0m        \u001B[32m0.3396\u001B[0m  2.6279\n",
      "      3        \u001B[36m0.0003\u001B[0m        \u001B[32m0.1963\u001B[0m  2.6121\n",
      "      4        \u001B[36m0.0002\u001B[0m        \u001B[32m0.1308\u001B[0m  2.6494\n",
      "      5        \u001B[36m0.0002\u001B[0m        \u001B[32m0.0862\u001B[0m  2.5981\n",
      "      6        \u001B[36m0.0001\u001B[0m        \u001B[32m0.0598\u001B[0m  2.4736\n",
      "      7        \u001B[36m0.0001\u001B[0m        \u001B[32m0.0538\u001B[0m  2.4696\n",
      "      8        \u001B[36m0.0001\u001B[0m        \u001B[32m0.0535\u001B[0m  2.4605\n",
      "      9        \u001B[36m0.0001\u001B[0m        \u001B[32m0.0514\u001B[0m  2.4721\n",
      "     10        \u001B[36m0.0001\u001B[0m        0.0523  2.5470\n",
      "  epoch    train_loss    valid_loss     dur\n",
      "-------  ------------  ------------  ------\n",
      "      1        \u001B[36m0.0283\u001B[0m        \u001B[32m0.4877\u001B[0m  3.4207\n",
      "      2        \u001B[36m0.0006\u001B[0m        \u001B[32m0.2400\u001B[0m  3.1660\n",
      "      3        \u001B[36m0.0002\u001B[0m        \u001B[32m0.1115\u001B[0m  3.1427\n",
      "      4        \u001B[36m0.0001\u001B[0m        \u001B[32m0.0954\u001B[0m  3.2381\n",
      "      5        \u001B[36m0.0001\u001B[0m        \u001B[32m0.0901\u001B[0m  3.1302\n",
      "      6        \u001B[36m0.0001\u001B[0m        \u001B[32m0.0862\u001B[0m  3.1637\n",
      "      7        \u001B[36m0.0001\u001B[0m        \u001B[32m0.0822\u001B[0m  3.0609\n",
      "      8        \u001B[36m0.0001\u001B[0m        \u001B[32m0.0779\u001B[0m  3.0475\n",
      "      9        \u001B[36m0.0001\u001B[0m        \u001B[32m0.0756\u001B[0m  3.1115\n",
      "     10        \u001B[36m0.0001\u001B[0m        \u001B[32m0.0720\u001B[0m  3.0587\n",
      "  epoch    train_loss    valid_loss     dur\n",
      "-------  ------------  ------------  ------\n",
      "      1        \u001B[36m0.0023\u001B[0m        \u001B[32m0.0961\u001B[0m  3.7558\n",
      "      2        \u001B[36m0.0001\u001B[0m        \u001B[32m0.0807\u001B[0m  4.0717\n",
      "      3        \u001B[36m0.0001\u001B[0m        \u001B[32m0.0633\u001B[0m  4.0439\n",
      "      4        \u001B[36m0.0001\u001B[0m        \u001B[32m0.0573\u001B[0m  3.9597\n",
      "      5        \u001B[36m0.0001\u001B[0m        \u001B[32m0.0472\u001B[0m  3.7624\n",
      "      6        \u001B[36m0.0001\u001B[0m        \u001B[32m0.0348\u001B[0m  3.6286\n",
      "      7        \u001B[36m0.0001\u001B[0m        \u001B[32m0.0306\u001B[0m  3.8835\n",
      "      8        \u001B[36m0.0001\u001B[0m        0.0308  3.7070\n",
      "      9        \u001B[36m0.0001\u001B[0m        \u001B[32m0.0291\u001B[0m  3.6280\n",
      "     10        \u001B[36m0.0001\u001B[0m        0.0292  3.6928\n"
     ]
    },
    {
     "data": {
      "text/plain": "GridSearchCV(cv=TimeSeriesSplit(gap=0, max_train_size=None, n_splits=5, test_size=None),\n             estimator=<class 'skorch.regressor.NeuralNetRegressor'>[uninitialized](\n  module=SequentialModel(\n    (rnn): RNN(4, 10, batch_first=True)\n    (fc): Linear(in_features=10, out_features=1, bias=True)\n  ),\n  module__hidden_size=10,\n  module__input_size=1,\n),\n             param_grid={'lr': [0.01, 0.001, 0.0001],\n                         'module__hidden_size': [5, 10, 20]},\n             scoring='neg_mean_squared_error')",
      "text/html": "<style>#sk-container-id-2 {color: black;background-color: white;}#sk-container-id-2 pre{padding: 0;}#sk-container-id-2 div.sk-toggleable {background-color: white;}#sk-container-id-2 label.sk-toggleable__label {cursor: pointer;display: block;width: 100%;margin-bottom: 0;padding: 0.3em;box-sizing: border-box;text-align: center;}#sk-container-id-2 label.sk-toggleable__label-arrow:before {content: \"▸\";float: left;margin-right: 0.25em;color: #696969;}#sk-container-id-2 label.sk-toggleable__label-arrow:hover:before {color: black;}#sk-container-id-2 div.sk-estimator:hover label.sk-toggleable__label-arrow:before {color: black;}#sk-container-id-2 div.sk-toggleable__content {max-height: 0;max-width: 0;overflow: hidden;text-align: left;background-color: #f0f8ff;}#sk-container-id-2 div.sk-toggleable__content pre {margin: 0.2em;color: black;border-radius: 0.25em;background-color: #f0f8ff;}#sk-container-id-2 input.sk-toggleable__control:checked~div.sk-toggleable__content {max-height: 200px;max-width: 100%;overflow: auto;}#sk-container-id-2 input.sk-toggleable__control:checked~label.sk-toggleable__label-arrow:before {content: \"▾\";}#sk-container-id-2 div.sk-estimator input.sk-toggleable__control:checked~label.sk-toggleable__label {background-color: #d4ebff;}#sk-container-id-2 div.sk-label input.sk-toggleable__control:checked~label.sk-toggleable__label {background-color: #d4ebff;}#sk-container-id-2 input.sk-hidden--visually {border: 0;clip: rect(1px 1px 1px 1px);clip: rect(1px, 1px, 1px, 1px);height: 1px;margin: -1px;overflow: hidden;padding: 0;position: absolute;width: 1px;}#sk-container-id-2 div.sk-estimator {font-family: monospace;background-color: #f0f8ff;border: 1px dotted black;border-radius: 0.25em;box-sizing: border-box;margin-bottom: 0.5em;}#sk-container-id-2 div.sk-estimator:hover {background-color: #d4ebff;}#sk-container-id-2 div.sk-parallel-item::after {content: \"\";width: 100%;border-bottom: 1px solid gray;flex-grow: 1;}#sk-container-id-2 div.sk-label:hover label.sk-toggleable__label {background-color: #d4ebff;}#sk-container-id-2 div.sk-serial::before {content: \"\";position: absolute;border-left: 1px solid gray;box-sizing: border-box;top: 0;bottom: 0;left: 50%;z-index: 0;}#sk-container-id-2 div.sk-serial {display: flex;flex-direction: column;align-items: center;background-color: white;padding-right: 0.2em;padding-left: 0.2em;position: relative;}#sk-container-id-2 div.sk-item {position: relative;z-index: 1;}#sk-container-id-2 div.sk-parallel {display: flex;align-items: stretch;justify-content: center;background-color: white;position: relative;}#sk-container-id-2 div.sk-item::before, #sk-container-id-2 div.sk-parallel-item::before {content: \"\";position: absolute;border-left: 1px solid gray;box-sizing: border-box;top: 0;bottom: 0;left: 50%;z-index: -1;}#sk-container-id-2 div.sk-parallel-item {display: flex;flex-direction: column;z-index: 1;position: relative;background-color: white;}#sk-container-id-2 div.sk-parallel-item:first-child::after {align-self: flex-end;width: 50%;}#sk-container-id-2 div.sk-parallel-item:last-child::after {align-self: flex-start;width: 50%;}#sk-container-id-2 div.sk-parallel-item:only-child::after {width: 0;}#sk-container-id-2 div.sk-dashed-wrapped {border: 1px dashed gray;margin: 0 0.4em 0.5em 0.4em;box-sizing: border-box;padding-bottom: 0.4em;background-color: white;}#sk-container-id-2 div.sk-label label {font-family: monospace;font-weight: bold;display: inline-block;line-height: 1.2em;}#sk-container-id-2 div.sk-label-container {text-align: center;}#sk-container-id-2 div.sk-container {/* jupyter's `normalize.less` sets `[hidden] { display: none; }` but bootstrap.min.css set `[hidden] { display: none !important; }` so we also need the `!important` here to be able to override the default hidden behavior on the sphinx rendered scikit-learn.org. See: https://github.com/scikit-learn/scikit-learn/issues/21755 */display: inline-block !important;position: relative;}#sk-container-id-2 div.sk-text-repr-fallback {display: none;}</style><div id=\"sk-container-id-2\" class=\"sk-top-container\"><div class=\"sk-text-repr-fallback\"><pre>GridSearchCV(cv=TimeSeriesSplit(gap=0, max_train_size=None, n_splits=5, test_size=None),\n             estimator=&lt;class &#x27;skorch.regressor.NeuralNetRegressor&#x27;&gt;[uninitialized](\n  module=SequentialModel(\n    (rnn): RNN(4, 10, batch_first=True)\n    (fc): Linear(in_features=10, out_features=1, bias=True)\n  ),\n  module__hidden_size=10,\n  module__input_size=1,\n),\n             param_grid={&#x27;lr&#x27;: [0.01, 0.001, 0.0001],\n                         &#x27;module__hidden_size&#x27;: [5, 10, 20]},\n             scoring=&#x27;neg_mean_squared_error&#x27;)</pre><b>In a Jupyter environment, please rerun this cell to show the HTML representation or trust the notebook. <br />On GitHub, the HTML representation is unable to render, please try loading this page with nbviewer.org.</b></div><div class=\"sk-container\" hidden><div class=\"sk-item sk-dashed-wrapped\"><div class=\"sk-label-container\"><div class=\"sk-label sk-toggleable\"><input class=\"sk-toggleable__control sk-hidden--visually\" id=\"sk-estimator-id-4\" type=\"checkbox\" ><label for=\"sk-estimator-id-4\" class=\"sk-toggleable__label sk-toggleable__label-arrow\">GridSearchCV</label><div class=\"sk-toggleable__content\"><pre>GridSearchCV(cv=TimeSeriesSplit(gap=0, max_train_size=None, n_splits=5, test_size=None),\n             estimator=&lt;class &#x27;skorch.regressor.NeuralNetRegressor&#x27;&gt;[uninitialized](\n  module=SequentialModel(\n    (rnn): RNN(4, 10, batch_first=True)\n    (fc): Linear(in_features=10, out_features=1, bias=True)\n  ),\n  module__hidden_size=10,\n  module__input_size=1,\n),\n             param_grid={&#x27;lr&#x27;: [0.01, 0.001, 0.0001],\n                         &#x27;module__hidden_size&#x27;: [5, 10, 20]},\n             scoring=&#x27;neg_mean_squared_error&#x27;)</pre></div></div></div><div class=\"sk-parallel\"><div class=\"sk-parallel-item\"><div class=\"sk-item\"><div class=\"sk-label-container\"><div class=\"sk-label sk-toggleable\"><input class=\"sk-toggleable__control sk-hidden--visually\" id=\"sk-estimator-id-5\" type=\"checkbox\" ><label for=\"sk-estimator-id-5\" class=\"sk-toggleable__label sk-toggleable__label-arrow\">estimator: NeuralNetRegressor</label><div class=\"sk-toggleable__content\"><pre>&lt;class &#x27;skorch.regressor.NeuralNetRegressor&#x27;&gt;[uninitialized](\n  module=SequentialModel(\n    (rnn): RNN(4, 10, batch_first=True)\n    (fc): Linear(in_features=10, out_features=1, bias=True)\n  ),\n  module__hidden_size=10,\n  module__input_size=1,\n)</pre></div></div></div><div class=\"sk-serial\"><div class=\"sk-item\"><div class=\"sk-estimator sk-toggleable\"><input class=\"sk-toggleable__control sk-hidden--visually\" id=\"sk-estimator-id-6\" type=\"checkbox\" ><label for=\"sk-estimator-id-6\" class=\"sk-toggleable__label sk-toggleable__label-arrow\">NeuralNetRegressor</label><div class=\"sk-toggleable__content\"><pre>&lt;class &#x27;skorch.regressor.NeuralNetRegressor&#x27;&gt;[uninitialized](\n  module=SequentialModel(\n    (rnn): RNN(4, 10, batch_first=True)\n    (fc): Linear(in_features=10, out_features=1, bias=True)\n  ),\n  module__hidden_size=10,\n  module__input_size=1,\n)</pre></div></div></div></div></div></div></div></div></div></div>"
     },
     "execution_count": 58,
     "metadata": {},
     "output_type": "execute_result"
    }
   ],
   "source": [
    "net = NeuralNetRegressor(\n",
    "    module = simple_RNN(input_size=4),\n",
    "    module__input_size=1,\n",
    "    module__hidden_size=10,  # 초기값, 그리드 서치를 통해 최적화될 예정\n",
    "    criterion=torch.nn.MSELoss,\n",
    "    optimizer=torch.optim.Adam,\n",
    "    max_epochs=10,  # 실제 사용 시 적절한 값으로 조정\n",
    "    callbacks=[es],\n",
    "    batch_size=64,  # 실제 사용 시 적절한 값으로 조정\n",
    "    iterator_train__shuffle=True,\n",
    ")\n",
    "\n",
    "param_grid = {\n",
    "    'module__hidden_size': [5, 10, 20],\n",
    "    'lr': [0.01, 0.001, 0.0001],\n",
    "}\n",
    "\n",
    "tscv = TimeSeriesSplit(n_splits=5)\n",
    "grid = GridSearchCV(net, param_grid, refit=True, cv=tscv, scoring='neg_mean_squared_error')\n",
    "grid.fit(x_train, y_train)  # X_train, y_train은 PyTorch 텐서로 변환되어야 합니다."
   ],
   "metadata": {
    "collapsed": false,
    "ExecuteTime": {
     "end_time": "2024-02-20T05:48:54.036378Z",
     "start_time": "2024-02-20T05:33:51.173705Z"
    }
   },
   "id": "67f7a6ae28587958",
   "execution_count": 58
  },
  {
   "cell_type": "code",
   "outputs": [
    {
     "data": {
      "text/plain": "[<matplotlib.lines.Line2D at 0x2ef8117e0>]"
     },
     "execution_count": 76,
     "metadata": {},
     "output_type": "execute_result"
    },
    {
     "data": {
      "text/plain": "<Figure size 640x480 with 1 Axes>",
      "image/png": "[encoded data removed]"
     },
     "metadata": {},
     "output_type": "display_data"
    }
   ],
   "source": [
    "plt.plot(grid.predict(x_test)[-100:])\n",
    "plt.plot(x_test.numpy()[:,0][-100:])"
   ],
   "metadata": {
    "collapsed": false,
    "ExecuteTime": {
     "end_time": "2024-02-20T06:32:38.565548Z",
     "start_time": "2024-02-20T06:32:37.766380Z"
    }
   },
   "id": "22c4205a0606b2d8",
   "execution_count": 76
  },
  {
   "cell_type": "code",
   "outputs": [],
   "source": [
    "import warnings \n",
    "warnings.filterwarnings('ignore')\n",
    "from torch.utils.data import DataLoader, TensorDataset\n",
    "\n",
    "# 모델, 손실 함수, 옵티마이저 설정\n",
    "model = AlphaRNN(4, 10, 0.5)\n",
    "criterion = torch.nn.MSELoss() \n",
    "optimizer = torch.optim.Adam(model.parameters(), lr=0.01) \n",
    "\n",
    "hidden_states = model.init_hidden()"
   ],
   "metadata": {
    "collapsed": false,
    "ExecuteTime": {
     "end_time": "2024-02-20T10:56:12.874560Z",
     "start_time": "2024-02-20T10:56:12.860468Z"
    }
   },
   "id": "73606124a73d04f5",
   "execution_count": 102
  },
  {
   "cell_type": "code",
   "outputs": [],
   "source": [
    "for t in range(len(x_train)) :\n",
    "    input_t = x_train[t]\n",
    "    output, hidden_states = model(input_t, hidden_states)"
   ],
   "metadata": {
    "collapsed": false,
    "ExecuteTime": {
     "end_time": "2024-02-20T11:03:08.660580Z",
     "start_time": "2024-02-20T11:02:57.098263Z"
    }
   },
   "id": "1c4a68e310285497",
   "execution_count": 144
  },
  {
   "cell_type": "code",
   "outputs": [],
   "source": [
    "# 예측\n",
    "model.eval()  # 평가 모드\n",
    "with torch.no_grad():\n",
    "    predicted_stock_prices, _ = model(x_test, model.init_hidden())"
   ],
   "metadata": {
    "collapsed": false,
    "ExecuteTime": {
     "end_time": "2024-02-20T10:57:40.624263Z",
     "start_time": "2024-02-20T10:57:40.475450Z"
    }
   },
   "id": "44e0626f1da353be",
   "execution_count": 105
  },
  {
   "cell_type": "code",
   "outputs": [
    {
     "data": {
      "text/plain": "[<matplotlib.lines.Line2D at 0x296a6c910>]"
     },
     "execution_count": 149,
     "metadata": {},
     "output_type": "execute_result"
    },
    {
     "data": {
      "text/plain": "<Figure size 640x480 with 1 Axes>",
      "image/png": "[encoded data removed]"
     },
     "metadata": {},
     "output_type": "display_data"
    }
   ],
   "source": [
    "plt.plot(x_test.numpy()[:,0,0])"
   ],
   "metadata": {
    "collapsed": false,
    "ExecuteTime": {
     "end_time": "2024-02-20T11:03:35.533973Z",
     "start_time": "2024-02-20T11:03:35.442034Z"
    }
   },
   "id": "16d5734722483eba",
   "execution_count": 149
  },
  {
   "cell_type": "code",
   "outputs": [
    {
     "data": {
      "text/plain": "[<matplotlib.lines.Line2D at 0x297bbb160>]"
     },
     "execution_count": 153,
     "metadata": {},
     "output_type": "execute_result"
    },
    {
     "data": {
      "text/plain": "<Figure size 640x480 with 1 Axes>",
      "image/png": "[encoded data removed]"
     },
     "metadata": {},
     "output_type": "display_data"
    }
   ],
   "source": [
    "plt.plot(predicted_stock_prices.numpy()[:,1,0])"
   ],
   "metadata": {
    "collapsed": false,
    "ExecuteTime": {
     "end_time": "2024-02-20T11:04:05.812229Z",
     "start_time": "2024-02-20T11:04:05.675688Z"
    }
   },
   "id": "89e934eab4ff1029",
   "execution_count": 153
  },
  {
   "cell_type": "code",
   "outputs": [],
   "source": [],
   "metadata": {
    "collapsed": false
   },
   "id": "a92e5593fdb0b2a",
   "execution_count": null
  }
 ],
 "metadata": {
  "kernelspec": {
   "display_name": "Python 3",
   "language": "python",
   "name": "python3"
  },
  "language_info": {
   "codemirror_mode": {
    "name": "ipython",
    "version": 2
   },
   "file_extension": ".py",
   "mimetype": "text/x-python",
   "name": "python",
   "nbconvert_exporter": "python",
   "pygments_lexer": "ipython2",
   "version": "2.7.6"
  }
 },
 "nbformat": 4,
 "nbformat_minor": 5
}
