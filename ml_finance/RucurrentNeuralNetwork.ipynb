{
 "cells": [
  {
   "cell_type": "markdown",
   "source": [
    "### Recurrent Neural Networks\n",
    "\n",
    "$\\mathrm{AR}$ 모형의 일반화된 과정으로써의 $\\mathrm{RNN}$ Network를 알아보도록 한다"
   ],
   "metadata": {
    "collapsed": false
   },
   "id": "4d742966e5e91374"
  },
  {
   "cell_type": "code",
   "execution_count": 1,
   "id": "initial_id",
   "metadata": {
    "collapsed": true,
    "ExecuteTime": {
     "end_time": "2024-01-09T08:47:28.136468Z",
     "start_time": "2024-01-09T08:47:19.364887Z"
    }
   },
   "outputs": [
    {
     "name": "stderr",
     "output_type": "stream",
     "text": [
      "Using TensorFlow backend.\n",
      "Using TensorFlow backend.\n"
     ]
    },
    {
     "ename": "ImportError",
     "evalue": "cannot import name 'transpose_shape' from 'keras.utils.generic_utils' (/Users/junghunlee/anaconda3/envs/FinancialMachineLearning/lib/python3.10/site-packages/keras/utils/generic_utils.py)",
     "output_type": "error",
     "traceback": [
      "\u001B[0;31m---------------------------------------------------------------------------\u001B[0m",
      "\u001B[0;31mImportError\u001B[0m                               Traceback (most recent call last)",
      "Cell \u001B[0;32mIn[1], line 11\u001B[0m\n\u001B[1;32m      8\u001B[0m \u001B[38;5;28;01mfrom\u001B[39;00m \u001B[38;5;21;01msklearn\u001B[39;00m\u001B[38;5;21;01m.\u001B[39;00m\u001B[38;5;21;01mmetrics\u001B[39;00m \u001B[38;5;28;01mimport\u001B[39;00m mean_squared_error\n\u001B[1;32m      9\u001B[0m \u001B[38;5;28;01mfrom\u001B[39;00m \u001B[38;5;21;01msklearn\u001B[39;00m\u001B[38;5;21;01m.\u001B[39;00m\u001B[38;5;21;01mmodel_selection\u001B[39;00m \u001B[38;5;28;01mimport\u001B[39;00m KFold, TimeSeriesSplit, GridSearchCV\n\u001B[0;32m---> 11\u001B[0m \u001B[38;5;28;01mimport\u001B[39;00m \u001B[38;5;21;01mkeras\u001B[39;00m\u001B[38;5;21;01m.\u001B[39;00m\u001B[38;5;21;01minitializers\u001B[39;00m\n\u001B[1;32m     12\u001B[0m \u001B[38;5;28;01mfrom\u001B[39;00m \u001B[38;5;21;01mkeras\u001B[39;00m\u001B[38;5;21;01m.\u001B[39;00m\u001B[38;5;21;01mlayers\u001B[39;00m \u001B[38;5;28;01mimport\u001B[39;00m Dense, Layer, LSTM, GRU, SimpleRNN, RNN\n\u001B[1;32m     13\u001B[0m \u001B[38;5;28;01mfrom\u001B[39;00m \u001B[38;5;21;01mkeras\u001B[39;00m\u001B[38;5;21;01m.\u001B[39;00m\u001B[38;5;21;01mmodels\u001B[39;00m \u001B[38;5;28;01mimport\u001B[39;00m Sequential\n",
      "File \u001B[0;32m~/anaconda3/envs/FinancialMachineLearning/lib/python3.10/site-packages/keras/__init__.py:21\u001B[0m\n\u001B[1;32m     15\u001B[0m \u001B[38;5;124;03m\"\"\"Implementation of the Keras API, the high-level API of TensorFlow.\u001B[39;00m\n\u001B[1;32m     16\u001B[0m \n\u001B[1;32m     17\u001B[0m \u001B[38;5;124;03mDetailed documentation and user guides are available at\u001B[39;00m\n\u001B[1;32m     18\u001B[0m \u001B[38;5;124;03m[keras.io](https://keras.io).\u001B[39;00m\n\u001B[1;32m     19\u001B[0m \u001B[38;5;124;03m\"\"\"\u001B[39;00m\n\u001B[1;32m     20\u001B[0m \u001B[38;5;28;01mfrom\u001B[39;00m \u001B[38;5;21;01mkeras\u001B[39;00m \u001B[38;5;28;01mimport\u001B[39;00m distribute\n\u001B[0;32m---> 21\u001B[0m \u001B[38;5;28;01mfrom\u001B[39;00m \u001B[38;5;21;01mkeras\u001B[39;00m \u001B[38;5;28;01mimport\u001B[39;00m models\n\u001B[1;32m     22\u001B[0m \u001B[38;5;28;01mfrom\u001B[39;00m \u001B[38;5;21;01mkeras\u001B[39;00m\u001B[38;5;21;01m.\u001B[39;00m\u001B[38;5;21;01mengine\u001B[39;00m\u001B[38;5;21;01m.\u001B[39;00m\u001B[38;5;21;01minput_layer\u001B[39;00m \u001B[38;5;28;01mimport\u001B[39;00m Input\n\u001B[1;32m     23\u001B[0m \u001B[38;5;28;01mfrom\u001B[39;00m \u001B[38;5;21;01mkeras\u001B[39;00m\u001B[38;5;21;01m.\u001B[39;00m\u001B[38;5;21;01mengine\u001B[39;00m\u001B[38;5;21;01m.\u001B[39;00m\u001B[38;5;21;01msequential\u001B[39;00m \u001B[38;5;28;01mimport\u001B[39;00m Sequential\n",
      "File \u001B[0;32m~/anaconda3/envs/FinancialMachineLearning/lib/python3.10/site-packages/keras/models/__init__.py:18\u001B[0m\n\u001B[1;32m      1\u001B[0m \u001B[38;5;66;03m# Copyright 2022 The TensorFlow Authors. All Rights Reserved.\u001B[39;00m\n\u001B[1;32m      2\u001B[0m \u001B[38;5;66;03m#\u001B[39;00m\n\u001B[1;32m      3\u001B[0m \u001B[38;5;66;03m# Licensed under the Apache License, Version 2.0 (the \"License\");\u001B[39;00m\n\u001B[0;32m   (...)\u001B[0m\n\u001B[1;32m     13\u001B[0m \u001B[38;5;66;03m# limitations under the License.\u001B[39;00m\n\u001B[1;32m     14\u001B[0m \u001B[38;5;66;03m# ==============================================================================\u001B[39;00m\n\u001B[1;32m     15\u001B[0m \u001B[38;5;124;03m\"\"\"Keras models API.\"\"\"\u001B[39;00m\n\u001B[0;32m---> 18\u001B[0m \u001B[38;5;28;01mfrom\u001B[39;00m \u001B[38;5;21;01mkeras\u001B[39;00m\u001B[38;5;21;01m.\u001B[39;00m\u001B[38;5;21;01mengine\u001B[39;00m\u001B[38;5;21;01m.\u001B[39;00m\u001B[38;5;21;01mfunctional\u001B[39;00m \u001B[38;5;28;01mimport\u001B[39;00m Functional\n\u001B[1;32m     19\u001B[0m \u001B[38;5;28;01mfrom\u001B[39;00m \u001B[38;5;21;01mkeras\u001B[39;00m\u001B[38;5;21;01m.\u001B[39;00m\u001B[38;5;21;01mengine\u001B[39;00m\u001B[38;5;21;01m.\u001B[39;00m\u001B[38;5;21;01msequential\u001B[39;00m \u001B[38;5;28;01mimport\u001B[39;00m Sequential\n\u001B[1;32m     20\u001B[0m \u001B[38;5;28;01mfrom\u001B[39;00m \u001B[38;5;21;01mkeras\u001B[39;00m\u001B[38;5;21;01m.\u001B[39;00m\u001B[38;5;21;01mengine\u001B[39;00m\u001B[38;5;21;01m.\u001B[39;00m\u001B[38;5;21;01mtraining\u001B[39;00m \u001B[38;5;28;01mimport\u001B[39;00m Model\n",
      "File \u001B[0;32m~/anaconda3/envs/FinancialMachineLearning/lib/python3.10/site-packages/keras/engine/functional.py:26\u001B[0m\n\u001B[1;32m     22\u001B[0m \u001B[38;5;28;01mimport\u001B[39;00m \u001B[38;5;21;01mwarnings\u001B[39;00m\n\u001B[1;32m     24\u001B[0m \u001B[38;5;28;01mimport\u001B[39;00m \u001B[38;5;21;01mtensorflow\u001B[39;00m\u001B[38;5;21;01m.\u001B[39;00m\u001B[38;5;21;01mcompat\u001B[39;00m\u001B[38;5;21;01m.\u001B[39;00m\u001B[38;5;21;01mv2\u001B[39;00m \u001B[38;5;28;01mas\u001B[39;00m \u001B[38;5;21;01mtf\u001B[39;00m\n\u001B[0;32m---> 26\u001B[0m \u001B[38;5;28;01mfrom\u001B[39;00m \u001B[38;5;21;01mkeras\u001B[39;00m \u001B[38;5;28;01mimport\u001B[39;00m backend\n\u001B[1;32m     27\u001B[0m \u001B[38;5;28;01mfrom\u001B[39;00m \u001B[38;5;21;01mkeras\u001B[39;00m\u001B[38;5;21;01m.\u001B[39;00m\u001B[38;5;21;01mdtensor\u001B[39;00m \u001B[38;5;28;01mimport\u001B[39;00m layout_map \u001B[38;5;28;01mas\u001B[39;00m layout_map_lib\n\u001B[1;32m     28\u001B[0m \u001B[38;5;28;01mfrom\u001B[39;00m \u001B[38;5;21;01mkeras\u001B[39;00m\u001B[38;5;21;01m.\u001B[39;00m\u001B[38;5;21;01mengine\u001B[39;00m \u001B[38;5;28;01mimport\u001B[39;00m base_layer\n",
      "File \u001B[0;32m~/anaconda3/envs/FinancialMachineLearning/lib/python3.10/site-packages/keras/backend/__init__.py:1\u001B[0m\n\u001B[0;32m----> 1\u001B[0m \u001B[38;5;28;01mfrom\u001B[39;00m \u001B[38;5;21;01m.\u001B[39;00m\u001B[38;5;21;01mload_backend\u001B[39;00m \u001B[38;5;28;01mimport\u001B[39;00m epsilon\n\u001B[1;32m      2\u001B[0m \u001B[38;5;28;01mfrom\u001B[39;00m \u001B[38;5;21;01m.\u001B[39;00m\u001B[38;5;21;01mload_backend\u001B[39;00m \u001B[38;5;28;01mimport\u001B[39;00m set_epsilon\n\u001B[1;32m      3\u001B[0m \u001B[38;5;28;01mfrom\u001B[39;00m \u001B[38;5;21;01m.\u001B[39;00m\u001B[38;5;21;01mload_backend\u001B[39;00m \u001B[38;5;28;01mimport\u001B[39;00m floatx\n",
      "File \u001B[0;32m~/anaconda3/envs/FinancialMachineLearning/lib/python3.10/site-packages/keras/backend/load_backend.py:90\u001B[0m\n\u001B[1;32m     88\u001B[0m \u001B[38;5;28;01melif\u001B[39;00m _BACKEND \u001B[38;5;241m==\u001B[39m \u001B[38;5;124m'\u001B[39m\u001B[38;5;124mtensorflow\u001B[39m\u001B[38;5;124m'\u001B[39m:\n\u001B[1;32m     89\u001B[0m     sys\u001B[38;5;241m.\u001B[39mstderr\u001B[38;5;241m.\u001B[39mwrite(\u001B[38;5;124m'\u001B[39m\u001B[38;5;124mUsing TensorFlow backend.\u001B[39m\u001B[38;5;130;01m\\n\u001B[39;00m\u001B[38;5;124m'\u001B[39m)\n\u001B[0;32m---> 90\u001B[0m     \u001B[38;5;28;01mfrom\u001B[39;00m \u001B[38;5;21;01m.\u001B[39;00m\u001B[38;5;21;01mtensorflow_backend\u001B[39;00m \u001B[38;5;28;01mimport\u001B[39;00m \u001B[38;5;241m*\u001B[39m\n\u001B[1;32m     91\u001B[0m \u001B[38;5;28;01melse\u001B[39;00m:\n\u001B[1;32m     92\u001B[0m     \u001B[38;5;66;03m# Try and load external backend.\u001B[39;00m\n\u001B[1;32m     93\u001B[0m     \u001B[38;5;28;01mtry\u001B[39;00m:\n",
      "File \u001B[0;32m~/anaconda3/envs/FinancialMachineLearning/lib/python3.10/site-packages/keras/backend/tensorflow_backend.py:25\u001B[0m\n\u001B[1;32m     22\u001B[0m \u001B[38;5;28;01mimport\u001B[39;00m \u001B[38;5;21;01mnumpy\u001B[39;00m \u001B[38;5;28;01mas\u001B[39;00m \u001B[38;5;21;01mnp\u001B[39;00m\n\u001B[1;32m     23\u001B[0m \u001B[38;5;28;01mfrom\u001B[39;00m \u001B[38;5;21;01mdistutils\u001B[39;00m\u001B[38;5;21;01m.\u001B[39;00m\u001B[38;5;21;01mversion\u001B[39;00m \u001B[38;5;28;01mimport\u001B[39;00m StrictVersion\n\u001B[0;32m---> 25\u001B[0m \u001B[38;5;28;01mfrom\u001B[39;00m \u001B[38;5;21;01m.\u001B[39;00m\u001B[38;5;21;01m.\u001B[39;00m\u001B[38;5;21;01mutils\u001B[39;00m\u001B[38;5;21;01m.\u001B[39;00m\u001B[38;5;21;01mgeneric_utils\u001B[39;00m \u001B[38;5;28;01mimport\u001B[39;00m transpose_shape\n\u001B[1;32m     27\u001B[0m py_all \u001B[38;5;241m=\u001B[39m \u001B[38;5;28mall\u001B[39m\n\u001B[1;32m     28\u001B[0m py_any \u001B[38;5;241m=\u001B[39m \u001B[38;5;28many\u001B[39m\n",
      "\u001B[0;31mImportError\u001B[0m: cannot import name 'transpose_shape' from 'keras.utils.generic_utils' (/Users/junghunlee/anaconda3/envs/FinancialMachineLearning/lib/python3.10/site-packages/keras/utils/generic_utils.py)"
     ]
    }
   ],
   "source": [
    "import numpy as np\n",
    "import pandas as pd\n",
    "import matplotlib.pyplot as plt\n",
    "import statsmodels.api as sm\n",
    "import tensorflow as tf\n",
    "from datetime import timedelta\n",
    "\n",
    "from sklearn.metrics import mean_squared_error\n",
    "from sklearn.model_selection import KFold, TimeSeriesSplit, GridSearchCV\n",
    "\n",
    "import keras.initializers\n",
    "from keras.layers import Dense, Layer, LSTM, GRU, SimpleRNN, RNN\n",
    "from keras.models import Sequential\n",
    "from keras.models import load_model\n",
    "from keras.regularizers import l1, l2\n",
    "from keras.callbacks import EarlyStopping\n",
    "from keras.wrappers.scikit_learn import KerasRegressor\n",
    "\n",
    "from recurrent_neural_network import *"
   ]
  },
  {
   "cell_type": "markdown",
   "source": [
    "#### Data Import"
   ],
   "metadata": {
    "collapsed": false
   },
   "id": "9172c371cf796ebd"
  },
  {
   "cell_type": "code",
   "execution_count": 5,
   "outputs": [],
   "source": [
    "df = pd.read_csv('../data/coinbase.csv', index_col = 1)\n",
    "df.index = pd.to_datetime(df.index, infer_datetime_format = True)"
   ],
   "metadata": {
    "collapsed": false,
    "ExecuteTime": {
     "end_time": "2023-12-24T02:53:01.951071Z",
     "start_time": "2023-12-24T02:53:01.683718Z"
    }
   },
   "id": "d5ad989ac519b315"
  },
  {
   "cell_type": "code",
   "execution_count": 6,
   "outputs": [
    {
     "data": {
      "text/plain": "                              USD\n timestamp                       \n2018-01-01 00:00:00  13598.814422\n2018-01-01 00:01:00  13596.912824\n2018-01-01 00:02:00  13568.356998\n2018-01-01 00:03:00  13560.425182\n2018-01-01 00:04:00  13552.270931\n...                           ...\n2018-11-10 15:56:00   6347.417225\n2018-11-10 15:57:00   6347.419294\n2018-11-10 15:58:00   6347.418653\n2018-11-10 15:59:00   6347.418881\n2018-11-10 16:00:00   6347.417439\n\n[451681 rows x 1 columns]",
      "text/html": "<div>\n<style scoped>\n    .dataframe tbody tr th:only-of-type {\n        vertical-align: middle;\n    }\n\n    .dataframe tbody tr th {\n        vertical-align: top;\n    }\n\n    .dataframe thead th {\n        text-align: right;\n    }\n</style>\n<table border=\"1\" class=\"dataframe\">\n  <thead>\n    <tr style=\"text-align: right;\">\n      <th></th>\n      <th>USD</th>\n    </tr>\n    <tr>\n      <th>timestamp</th>\n      <th></th>\n    </tr>\n  </thead>\n  <tbody>\n    <tr>\n      <th>2018-01-01 00:00:00</th>\n      <td>13598.814422</td>\n    </tr>\n    <tr>\n      <th>2018-01-01 00:01:00</th>\n      <td>13596.912824</td>\n    </tr>\n    <tr>\n      <th>2018-01-01 00:02:00</th>\n      <td>13568.356998</td>\n    </tr>\n    <tr>\n      <th>2018-01-01 00:03:00</th>\n      <td>13560.425182</td>\n    </tr>\n    <tr>\n      <th>2018-01-01 00:04:00</th>\n      <td>13552.270931</td>\n    </tr>\n    <tr>\n      <th>...</th>\n      <td>...</td>\n    </tr>\n    <tr>\n      <th>2018-11-10 15:56:00</th>\n      <td>6347.417225</td>\n    </tr>\n    <tr>\n      <th>2018-11-10 15:57:00</th>\n      <td>6347.419294</td>\n    </tr>\n    <tr>\n      <th>2018-11-10 15:58:00</th>\n      <td>6347.418653</td>\n    </tr>\n    <tr>\n      <th>2018-11-10 15:59:00</th>\n      <td>6347.418881</td>\n    </tr>\n    <tr>\n      <th>2018-11-10 16:00:00</th>\n      <td>6347.417439</td>\n    </tr>\n  </tbody>\n</table>\n<p>451681 rows × 1 columns</p>\n</div>"
     },
     "execution_count": 6,
     "metadata": {},
     "output_type": "execute_result"
    }
   ],
   "source": [
    "df"
   ],
   "metadata": {
    "collapsed": false,
    "ExecuteTime": {
     "end_time": "2023-12-24T02:53:03.357558Z",
     "start_time": "2023-12-24T02:53:03.351467Z"
    }
   },
   "id": "cc3c33ab93d75e9b"
  },
  {
   "cell_type": "markdown",
   "source": [
    "data preprocessing"
   ],
   "metadata": {
    "collapsed": false
   },
   "id": "2c4e838b294a525c"
  },
  {
   "cell_type": "code",
   "execution_count": 7,
   "outputs": [
    {
     "name": "stdout",
     "output_type": "stream",
     "text": [
      "1662 observations are missing.\n",
      "This is 0.368% of the total.\n"
     ]
    }
   ],
   "source": [
    "nof_missing_values = sum(np.isnan(df['USD']))\n",
    "\n",
    "print(nof_missing_values, 'observations are missing.')\n",
    "print('This is {:.3f}% of the total.'.format(nof_missing_values*100/len(df)))"
   ],
   "metadata": {
    "collapsed": false,
    "ExecuteTime": {
     "end_time": "2023-12-24T02:53:29.790086Z",
     "start_time": "2023-12-24T02:53:29.784345Z"
    }
   },
   "id": "89295c8705d73571"
  },
  {
   "cell_type": "code",
   "execution_count": 8,
   "outputs": [
    {
     "name": "stdout",
     "output_type": "stream",
     "text": [
      "Now 0 observations are missing.\n"
     ]
    }
   ],
   "source": [
    "df = df.fillna(method=\"backfill\")\n",
    "nof_missing_values = sum(np.isnan(df['USD']))\n",
    "print('Now', nof_missing_values, 'observations are missing.')"
   ],
   "metadata": {
    "collapsed": false,
    "ExecuteTime": {
     "end_time": "2023-12-24T02:53:43.636954Z",
     "start_time": "2023-12-24T02:53:43.609984Z"
    }
   },
   "id": "714cef8ec421b0d2"
  },
  {
   "cell_type": "markdown",
   "source": [
    "#### RNN Regression\n",
    "\n",
    "시계열이 Data Frame에서 'USD'로 주어지고 각 입력 시퀀스에 대해 미래의 4개의 시간 단계로 값을 예측하는 단변량 예측 문제를 고려한다"
   ],
   "metadata": {
    "collapsed": false
   },
   "id": "6f54c0188d16429"
  },
  {
   "cell_type": "code",
   "execution_count": 9,
   "outputs": [],
   "source": [
    "use_features = ['USD'] # continuous input\n",
    "target = ['USD'] # continuous output\n",
    "n_steps_ahead = 4 # forecasting horizon"
   ],
   "metadata": {
    "collapsed": false,
    "ExecuteTime": {
     "end_time": "2023-12-24T02:55:17.112897Z",
     "start_time": "2023-12-24T02:55:17.106869Z"
    }
   },
   "id": "5d1d89a0ead91b42"
  },
  {
   "cell_type": "code",
   "execution_count": 10,
   "outputs": [],
   "source": [
    "sample = df['USD'][:200000]\n",
    "adf, p, usedlag, nobs, cvs, aic = sm.tsa.stattools.adfuller(sample)"
   ],
   "metadata": {
    "collapsed": false,
    "ExecuteTime": {
     "end_time": "2023-12-24T02:56:24.167762Z",
     "start_time": "2023-12-24T02:55:30.153381Z"
    }
   },
   "id": "d2261659eaccca74"
  },
  {
   "cell_type": "code",
   "execution_count": 11,
   "outputs": [
    {
     "name": "stdout",
     "output_type": "stream",
     "text": [
      "ADF: -2.0945571633757587\n",
      "p-value: 0.2467088183939536,\n",
      "N: 199918, \n",
      "critical values: {'1%': -3.4303827103310676, '5%': -2.8615544575334875, '10%': -2.566777695225296}\n"
     ]
    }
   ],
   "source": [
    "adf_results_string = 'ADF: {}\\np-value: {},\\nN: {}, \\ncritical values: {}'\n",
    "print(adf_results_string.format(adf, p, nobs, cvs))"
   ],
   "metadata": {
    "collapsed": false,
    "ExecuteTime": {
     "end_time": "2023-12-24T02:56:26.635854Z",
     "start_time": "2023-12-24T02:56:26.623934Z"
    }
   },
   "id": "d34ccb18d50bd3cd"
  },
  {
   "cell_type": "markdown",
   "source": [
    "ADF 검정을 통과하지 못하였음으로, 불안정 시계열이다"
   ],
   "metadata": {
    "collapsed": false
   },
   "id": "39b9cfaac7fec9c3"
  },
  {
   "cell_type": "code",
   "execution_count": 13,
   "outputs": [
    {
     "data": {
      "text/plain": "<Figure size 800x400 with 1 Axes>",
      "image/png": "[encoded data removed]"
     },
     "metadata": {},
     "output_type": "display_data"
    }
   ],
   "source": [
    "import matplotlib.pyplot as plt\n",
    "plt.figure(figsize = (8,4))\n",
    "plt.plot(df)\n",
    "plt.show()"
   ],
   "metadata": {
    "collapsed": false,
    "ExecuteTime": {
     "end_time": "2023-12-24T02:57:42.495544Z",
     "start_time": "2023-12-24T02:57:42.396533Z"
    }
   },
   "id": "11630e2d9d2f3cd"
  },
  {
   "cell_type": "markdown",
   "source": [
    "**Partial Auto-correlation**\n",
    "\n",
    "A partial auto-correlation at lag $h\\geq 2$ is a conditional auto-correlation between a variable, $X_t$, and its $h^{th}$ lag, $X_{t-h}$ under the assumption that we control for the values of the intermediate lags, $X_{t-1},\\dots, X_{t-h+1}$:\n",
    "\n",
    "$$\\begin{align}\\tau_h&:=\\tau(X_t, X_{t-h}; X_{t-1},\\dots, X_{t-h+1})\\\\\n",
    "&:=\\frac{\\gamma(X_t, X_{t-h}; X_{t-1},\\dots, X_{t-h+1})}{\\sqrt{\\gamma(X_t |X_{t-1},\\dots, X_{t-h+1})\\gamma(X_{t-h} |X_{t-1},\\dots, X_{t-h+1}))}},\n",
    "\\end{align}$$\n",
    "where $\\gamma_h:=\\gamma(X_tX_{t-h})$ is the lag-$h$ autocovariance. The partial autocorrelation function $\\tau_h:\\mathbb{N} \\rightarrow [-1,1]$ is a map $h:\\mapsto \\tau_h$\n",
    "\n",
    "The estimated partial auto-correlation function (PACF) can be used to identify the order of an autoregressive time series model. Values of $|\\tau_h|$ greater or equal to $\\frac{\\Phi^{-1}(\\alpha)}{\\sqrt{T}}$, where $T$ is the number of observations and $\\Phi(z)$ is the standard normal CDF, are significant lag $h$ partial autocorelations at the $\\alpha$ confidence level.\n",
    "\n",
    "We use the stattools package to estimate the PACF. The `nlags` parameter is the maximum number of lags used for PACF estimation."
   ],
   "metadata": {
    "collapsed": false
   },
   "id": "1297805ce4470cc8"
  },
  {
   "cell_type": "code",
   "execution_count": 14,
   "outputs": [],
   "source": [
    "pacf = sm.tsa.stattools.pacf(df[use_features], nlags=30)"
   ],
   "metadata": {
    "collapsed": false,
    "ExecuteTime": {
     "end_time": "2023-12-24T02:58:57.989109Z",
     "start_time": "2023-12-24T02:58:57.428345Z"
    }
   },
   "id": "3058e8d6ebf2312b"
  },
  {
   "cell_type": "markdown",
   "source": [
    " $\\Phi^{-1}(0.99) \\simeq 2.58$ 이기 때문에, 다음이 성립한다"
   ],
   "metadata": {
    "collapsed": false
   },
   "id": "431aafd46d1c04bf"
  },
  {
   "cell_type": "code",
   "execution_count": 15,
   "outputs": [],
   "source": [
    "T = len(df[use_features])\n",
    "sig_test = lambda tau_h: np.abs(tau_h) > 2.58/np.sqrt(T)"
   ],
   "metadata": {
    "collapsed": false,
    "ExecuteTime": {
     "end_time": "2023-12-24T02:59:20.392034Z",
     "start_time": "2023-12-24T02:59:20.378921Z"
    }
   },
   "id": "91a2c67ce5725001"
  },
  {
   "cell_type": "code",
   "execution_count": 16,
   "outputs": [
    {
     "name": "stdout",
     "output_type": "stream",
     "text": [
      "n_steps set to 4\n"
     ]
    }
   ],
   "source": [
    "for i in range(len(pacf)):\n",
    "    if sig_test(pacf[i]) == False:\n",
    "        n_steps = i - 1\n",
    "        print('n_steps set to', n_steps)\n",
    "        break"
   ],
   "metadata": {
    "collapsed": false,
    "ExecuteTime": {
     "end_time": "2023-12-24T02:59:26.948342Z",
     "start_time": "2023-12-24T02:59:26.940291Z"
    }
   },
   "id": "c3d226bd3ce990f2"
  },
  {
   "cell_type": "code",
   "execution_count": 23,
   "outputs": [
    {
     "data": {
      "text/plain": "Text(0.5, 1.0, 'Partial Autocorrelation function')"
     },
     "execution_count": 23,
     "metadata": {},
     "output_type": "execute_result"
    },
    {
     "data": {
      "text/plain": "<Figure size 800x400 with 1 Axes>",
      "image/png": "[encoded data removed]"
     },
     "metadata": {},
     "output_type": "display_data"
    }
   ],
   "source": [
    "from statsmodels.graphics.tsaplots import plot_acf, plot_pacf\n",
    "fig, ax = plt.subplots(figsize=(8, 4))\n",
    "plot_pacf(np.log(df), auto_ylims = True, lags = 29, title = 'PACF of KOSPI log Index', ax = ax)\n",
    "plt.xlabel('number of lags')\n",
    "plt.plot([2.58/np.sqrt(T)] * 30, label='99% confidence interval (upper)')\n",
    "plt.plot([-2.58/np.sqrt(T)] * 30, label='99% confidence interval (lower)')\n",
    "plt.title('Partial Autocorrelation function')"
   ],
   "metadata": {
    "collapsed": false,
    "ExecuteTime": {
     "end_time": "2023-12-24T03:03:08.104458Z",
     "start_time": "2023-12-24T03:03:07.833182Z"
    }
   },
   "id": "61512f3f1196cd10"
  },
  {
   "cell_type": "markdown",
   "source": [
    "train - test split"
   ],
   "metadata": {
    "collapsed": false
   },
   "id": "8e3feb79a2ccc4b"
  },
  {
   "cell_type": "code",
   "execution_count": 24,
   "outputs": [],
   "source": [
    "train_weight = 0.8\n",
    "split = int(len(df) * train_weight)\n",
    "\n",
    "df_train = df[use_features].iloc[:split]\n",
    "df_test = df[use_features].iloc[split:]"
   ],
   "metadata": {
    "collapsed": false,
    "ExecuteTime": {
     "end_time": "2023-12-24T03:03:30.646682Z",
     "start_time": "2023-12-24T03:03:30.628656Z"
    }
   },
   "id": "6ddd45272938da73"
  },
  {
   "cell_type": "code",
   "execution_count": null,
   "outputs": [],
   "source": [],
   "metadata": {
    "collapsed": false
   },
   "id": "c67dd843856f8db5"
  }
 ],
 "metadata": {
  "kernelspec": {
   "display_name": "Python 3",
   "language": "python",
   "name": "python3"
  },
  "language_info": {
   "codemirror_mode": {
    "name": "ipython",
    "version": 2
   },
   "file_extension": ".py",
   "mimetype": "text/x-python",
   "name": "python",
   "nbconvert_exporter": "python",
   "pygments_lexer": "ipython2",
   "version": "2.7.6"
  }
 },
 "nbformat": 4,
 "nbformat_minor": 5
}
