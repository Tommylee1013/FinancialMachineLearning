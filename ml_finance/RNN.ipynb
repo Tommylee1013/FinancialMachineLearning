{
 "cells": [
  {
   "metadata": {
    "ExecuteTime": {
     "end_time": "2024-04-21T14:30:34.200331Z",
     "start_time": "2024-04-21T14:30:30.009295Z"
    }
   },
   "cell_type": "code",
   "source": [
    "import numpy as np\n",
    "import pandas as pd\n",
    "import matplotlib.pyplot as plt\n",
    "import statsmodels.api as sm\n",
    "import tensorflow as tf\n",
    "from datetime import timedelta\n",
    "\n",
    "from sklearn.metrics import mean_squared_error\n",
    "from sklearn.model_selection import KFold, TimeSeriesSplit, GridSearchCV\n",
    "\n",
    "import keras.initializers\n",
    "from keras.layers import Dense, Layer, LSTM, GRU, SimpleRNN, RNN\n",
    "from keras.models import Sequential\n",
    "from keras.models import load_model\n",
    "from keras.regularizers import l1, l2\n",
    "from keras.callbacks import EarlyStopping\n",
    "from keras.wrappers.scikit_learn import KerasRegressor\n",
    "\n",
    "import torch\n",
    "import torch.nn as nn\n",
    "from torch.utils.data import DataLoader, TensorDataset\n",
    "from torch.optim import Adam, SGD\n",
    "from sklearn.model_selection import train_test_split\n",
    "#from skorch import NeuralNetRegressor"
   ],
   "id": "37e798bb88959a8",
   "outputs": [],
   "execution_count": 3
  },
  {
   "cell_type": "code",
   "id": "initial_id",
   "metadata": {
    "collapsed": true,
    "ExecuteTime": {
     "end_time": "2024-04-21T14:29:34.401787Z",
     "start_time": "2024-04-21T14:29:32.070394Z"
    }
   },
   "source": [
    "import tensorflow as tf\n",
    "from tensorflow.keras.layers import Layer, RNN\n",
    "from tensorflow.keras import activations, initializers, regularizers, constraints\n",
    "\n",
    "class AlphaRNNCell(Layer):\n",
    "    \"\"\"Cell class for AlphaRNN.\"\"\"\n",
    "    def __init__(self, units, activation='tanh', use_bias=True,\n",
    "                 kernel_initializer='glorot_uniform',\n",
    "                 recurrent_initializer='orthogonal',\n",
    "                 bias_initializer='zeros',\n",
    "                 kernel_regularizer=None,\n",
    "                 recurrent_regularizer=None,\n",
    "                 bias_regularizer=None,\n",
    "                 kernel_constraint=None,\n",
    "                 recurrent_constraint=None,\n",
    "                 bias_constraint=None,\n",
    "                 dropout=0.,\n",
    "                 recurrent_dropout=0.,\n",
    "                 **kwargs):\n",
    "        super(AlphaRNNCell, self).__init__(**kwargs)\n",
    "        self.units = units\n",
    "        self.activation = activations.get(activation)\n",
    "        self.use_bias = use_bias\n",
    "        self.kernel_initializer = initializers.get(kernel_initializer)\n",
    "        self.recurrent_initializer = initializers.get(recurrent_initializer)\n",
    "        self.bias_initializer = initializers.get(bias_initializer)\n",
    "        self.kernel_regularizer = regularizers.get(kernel_regularizer)\n",
    "        self.recurrent_regularizer = regularizers.get(recurrent_regularizer)\n",
    "        self.bias_regularizer = regularizers.get(bias_regularizer)\n",
    "        self.kernel_constraint = constraints.get(kernel_constraint)\n",
    "        self.recurrent_constraint = constraints.get(recurrent_constraint)\n",
    "        self.bias_constraint = constraints.get(bias_constraint)\n",
    "        self.dropout = dropout\n",
    "        self.recurrent_dropout = recurrent_dropout\n",
    "\n",
    "    def build(self, input_shape):\n",
    "        self.kernel = self.add_weight(shape=(input_shape[-1], self.units),\n",
    "                                      initializer=self.kernel_initializer,\n",
    "                                      name='kernel',\n",
    "                                      regularizer=self.kernel_regularizer,\n",
    "                                      constraint=self.kernel_constraint)\n",
    "        self.recurrent_kernel = self.add_weight(shape=(self.units, self.units),\n",
    "                                                initializer=self.recurrent_initializer,\n",
    "                                                name='recurrent_kernel',\n",
    "                                                regularizer=self.recurrent_regularizer,\n",
    "                                                constraint=self.recurrent_constraint)\n",
    "        if self.use_bias:\n",
    "            self.bias = self.add_weight(shape=(self.units,),\n",
    "                                        initializer=self.bias_initializer,\n",
    "                                        name='bias',\n",
    "                                        regularizer=self.bias_regularizer,\n",
    "                                        constraint=self.bias_constraint)\n",
    "        else:\n",
    "            self.bias = None\n",
    "        self.built = True\n",
    "\n",
    "    def call(self, inputs, states):\n",
    "        prev_output = states[0]\n",
    "        h = tf.matmul(inputs, self.kernel)\n",
    "        if self.use_bias:\n",
    "            h = tf.nn.bias_add(h, self.bias)\n",
    "        output = h + tf.matmul(prev_output, self.recurrent_kernel)\n",
    "        if self.activation is not None:\n",
    "            output = self.activation(output)\n",
    "        return output, [output]\n",
    "\n",
    "    def get_config(self):\n",
    "        return {\n",
    "            'units': self.units,\n",
    "            'activation': activations.serialize(self.activation),\n",
    "            'use_bias': self.use_bias,\n",
    "            'kernel_initializer': initializers.serialize(self.kernel_initializer),\n",
    "            'recurrent_initializer': initializers.serialize(self.recurrent_initializer),\n",
    "            'bias_initializer': initializers.serialize(self.bias_initializer),\n",
    "            'kernel_regularizer': regularizers.serialize(self.kernel_regularizer),\n",
    "            'recurrent_regularizer': regularizers.serialize(self.recurrent_regularizer),\n",
    "            'bias_regularizer': regularizers.serialize(self.bias_regularizer),\n",
    "            'kernel_constraint': constraints.serialize(self.kernel_constraint),\n",
    "            'recurrent_constraint': constraints.serialize(self.recurrent_constraint),\n",
    "            'bias_constraint': constraints.serialize(self.bias_constraint),\n",
    "            'dropout': self.dropout,\n",
    "            'recurrent_dropout': self.recurrent_dropout\n",
    "        }\n",
    "\n",
    "class AlphaRNN(RNN):\n",
    "    \"\"\"Fully-connected RNN where the output is to be fed back to input.\"\"\"\n",
    "    def __init__(self, units, **kwargs):\n",
    "        cell = AlphaRNNCell(units, **kwargs)\n",
    "        super(AlphaRNN, self).__init__(cell, **kwargs)\n",
    "\n",
    "    @property\n",
    "    def units(self):\n",
    "        return self.cell.units\n",
    "\n",
    "    def get_config(self):\n",
    "        config = super(AlphaRNN, self).get_config()\n",
    "        config.update({'units': self.units})\n",
    "        return config"
   ],
   "outputs": [],
   "execution_count": 1
  },
  {
   "metadata": {
    "ExecuteTime": {
     "end_time": "2024-04-21T14:29:37.624639Z",
     "start_time": "2024-04-21T14:29:37.616666Z"
    }
   },
   "cell_type": "code",
   "source": [
    "import tensorflow as tf\n",
    "from tensorflow.keras.layers import Layer, RNN\n",
    "from tensorflow.keras import activations, initializers, regularizers, constraints\n",
    "\n",
    "class AlphatRNNCell(Layer):\n",
    "    \"\"\"Cell class for the AlphatRNN layer.\"\"\"\n",
    "    def __init__(self, units, activation='tanh', recurrent_activation='sigmoid',\n",
    "                 use_bias=True, kernel_initializer='glorot_uniform',\n",
    "                 recurrent_initializer='orthogonal', bias_initializer='zeros',\n",
    "                 kernel_regularizer=None, recurrent_regularizer=None,\n",
    "                 bias_regularizer=None, kernel_constraint=None,\n",
    "                 recurrent_constraint=None, bias_constraint=None,\n",
    "                 dropout=0., recurrent_dropout=0., implementation=2, **kwargs):\n",
    "        super(AlphatRNNCell, self).__init__(**kwargs)\n",
    "        self.units = units\n",
    "        self.activation = activations.get(activation)\n",
    "        self.recurrent_activation = activations.get(recurrent_activation)\n",
    "        self.use_bias = use_bias\n",
    "        self.kernel_initializer = initializers.get(kernel_initializer)\n",
    "        self.recurrent_initializer = initializers.get(recurrent_initializer)\n",
    "        self.bias_initializer = initializers.get(bias_initializer)\n",
    "        self.kernel_regularizer = regularizers.get(kernel_regularizer)\n",
    "        self.recurrent_regularizer = regularizers.get(recurrent_regularizer)\n",
    "        self.bias_regularizer = regularizers.get(bias_regularizer)\n",
    "        self.kernel_constraint = constraints.get(kernel_constraint)\n",
    "        self.recurrent_constraint = constraints.get(recurrent_constraint)\n",
    "        self.bias_constraint = constraints.get(bias_constraint)\n",
    "        self.dropout = dropout\n",
    "        self.recurrent_dropout = recurrent_dropout\n",
    "\n",
    "    def build(self, input_shape):\n",
    "        self.kernel = self.add_weight(shape=(input_shape[-1], self.units),\n",
    "                                      initializer=self.kernel_initializer,\n",
    "                                      name='kernel',\n",
    "                                      regularizer=self.kernel_regularizer,\n",
    "                                      constraint=self.kernel_constraint)\n",
    "        self.recurrent_kernel = self.add_weight(\n",
    "            shape=(self.units, self.units),\n",
    "            initializer=self.recurrent_initializer,\n",
    "            name='recurrent_kernel',\n",
    "            regularizer=self.recurrent_regularizer,\n",
    "            constraint=self.recurrent_constraint)\n",
    "\n",
    "        if self.use_bias:\n",
    "            self.bias = self.add_weight(shape=(2 * self.units,),\n",
    "                                        initializer=self.bias_initializer,\n",
    "                                        name='bias',\n",
    "                                        regularizer=self.bias_regularizer,\n",
    "                                        constraint=self.bias_constraint)\n",
    "        else:\n",
    "            self.bias = None\n",
    "        self.built = True\n",
    "\n",
    "    def call(self, inputs, states):\n",
    "        prev_output = states[0]\n",
    "        dp_mask = None\n",
    "        rec_dp_mask = None\n",
    "\n",
    "        if 0 < self.dropout < 1:\n",
    "            dp_mask = self.dropout_mask(inputs, self.dropout, training=True)\n",
    "        if 0 < self.recurrent_dropout < 1:\n",
    "            rec_dp_mask = self.dropout_mask(prev_output, self.recurrent_dropout, training=True)\n",
    "\n",
    "        h = tf.matmul(inputs, self.kernel)\n",
    "        if dp_mask is not None:\n",
    "            h *= dp_mask\n",
    "\n",
    "        if self.bias is not None:\n",
    "            h = tf.nn.bias_add(h, self.bias[:self.units])\n",
    "\n",
    "        rec_h = tf.matmul(prev_output, self.recurrent_kernel)\n",
    "        if rec_dp_mask is not None:\n",
    "            rec_h *= rec_dp_mask\n",
    "\n",
    "        if self.bias is not None:\n",
    "            rec_h = tf.nn.bias_add(rec_h, self.bias[self.units:])\n",
    "\n",
    "        output = self.activation(h + rec_h)\n",
    "        return output, [output]\n",
    "\n",
    "    def get_config(self):\n",
    "        config = super(AlphatRNNCell, self).get_config()\n",
    "        config.update({\n",
    "            'units': self.units,\n",
    "            'activation': activations.serialize(self.activation),\n",
    "            'recurrent_activation': activations.serialize(self.recurrent_activation),\n",
    "            'use_bias': self.use_bias,\n",
    "            'kernel_initializer': initializers.serialize(self.kernel_initializer),\n",
    "            'recurrent_initializer': initializers.serialize(self.recurrent_initializer),\n",
    "            'bias_initializer': initializers.serialize(self.bias_initializer),\n",
    "            'kernel_regularizer': regularizers.serialize(self.kernel_regularizer),\n",
    "            'recurrent_regularizer': regularizers.serialize(self.recurrent_regularizer),\n",
    "            'bias_regularizer': regularizers.serialize(self.bias_regularizer),\n",
    "            'kernel_constraint': constraints.serialize(self.kernel_constraint),\n",
    "            'recurrent_constraint': constraints.serialize(self.recurrent_constraint),\n",
    "            'bias_constraint': constraints.serialize(self.bias_constraint),\n",
    "            'dropout': self.dropout,\n",
    "            'recurrent_dropout': self.recurrent_dropout\n",
    "        })\n",
    "        return config\n",
    "\n",
    "class AlphatRNN(RNN):\n",
    "    \"\"\"Fully-connected RNN where the output is to be fed back to input.\"\"\"\n",
    "    def __init__(self, units, **kwargs):\n",
    "        cell = AlphatRNNCell(units, **kwargs)\n",
    "        super(AlphatRNN, self).__init__(cell, **kwargs)\n",
    "\n",
    "    def call(self, inputs, mask=None, training=None, initial_state=None):\n",
    "        return super(AlphatRNN, self).call(inputs, mask=mask, training=training, initial_state=initial_state)\n",
    "\n",
    "    def get_config(self):\n",
    "        config = super(AlphatRNN, self).get_config()\n",
    "        return config"
   ],
   "id": "fe34553b85e4f061",
   "outputs": [],
   "execution_count": 2
  },
  {
   "metadata": {
    "ExecuteTime": {
     "end_time": "2024-04-21T14:30:43.887293Z",
     "start_time": "2024-04-21T14:30:43.617454Z"
    }
   },
   "cell_type": "code",
   "source": [
    "df = pd.read_csv('../data/coinbase.csv', index_col = 1)\n",
    "df.index = pd.to_datetime(df.index)"
   ],
   "id": "ef56d0c0e362cb16",
   "outputs": [],
   "execution_count": 4
  },
  {
   "metadata": {
    "ExecuteTime": {
     "end_time": "2024-04-21T14:30:49.312605Z",
     "start_time": "2024-04-21T14:30:49.290035Z"
    }
   },
   "cell_type": "code",
   "source": [
    "nof_missing_values = sum(np.isnan(df['USD']))\n",
    "\n",
    "print(nof_missing_values, 'observations are missing.')\n",
    "print('This is {:.3f}% of the total.'.format(nof_missing_values*100/len(df)))"
   ],
   "id": "89f5c06ee118cc51",
   "outputs": [
    {
     "name": "stdout",
     "output_type": "stream",
     "text": [
      "1662 observations are missing.\n",
      "This is 0.368% of the total.\n"
     ]
    }
   ],
   "execution_count": 5
  },
  {
   "metadata": {
    "ExecuteTime": {
     "end_time": "2024-04-21T14:30:55.489910Z",
     "start_time": "2024-04-21T14:30:55.471974Z"
    }
   },
   "cell_type": "code",
   "source": [
    "df = df.bfill()\n",
    "nof_missing_values = sum(np.isnan(df['USD']))\n",
    "print('Now', nof_missing_values, 'observations are missing.')"
   ],
   "id": "9aeba6bb2ac3ae3",
   "outputs": [
    {
     "name": "stdout",
     "output_type": "stream",
     "text": [
      "Now 0 observations are missing.\n"
     ]
    }
   ],
   "execution_count": 6
  },
  {
   "metadata": {
    "ExecuteTime": {
     "end_time": "2024-04-21T14:31:00.667159Z",
     "start_time": "2024-04-21T14:31:00.665373Z"
    }
   },
   "cell_type": "code",
   "source": [
    "use_features = ['USD'] # continuous input\n",
    "target = ['USD'] # continuous output\n",
    "n_steps_ahead = 4 # forecasting horizon"
   ],
   "id": "614f9ae23f19a516",
   "outputs": [],
   "execution_count": 7
  },
  {
   "metadata": {
    "ExecuteTime": {
     "end_time": "2024-04-21T14:32:11.999801Z",
     "start_time": "2024-04-21T14:31:24.541115Z"
    }
   },
   "cell_type": "code",
   "source": [
    "sample = df['USD'][:200000]\n",
    "adf, p, usedlag, nobs, cvs, aic = sm.tsa.stattools.adfuller(sample)"
   ],
   "id": "c20b20bdc7b2a82f",
   "outputs": [],
   "execution_count": 9
  },
  {
   "metadata": {
    "ExecuteTime": {
     "end_time": "2024-04-21T14:32:12.032295Z",
     "start_time": "2024-04-21T14:32:12.016473Z"
    }
   },
   "cell_type": "code",
   "source": [
    "adf_results_string = 'ADF: {}\\np-value: {},\\nN: {}, \\ncritical values: {}'\n",
    "print(adf_results_string.format(adf, p, nobs, cvs))"
   ],
   "id": "c12e1f2397138aae",
   "outputs": [
    {
     "name": "stdout",
     "output_type": "stream",
     "text": [
      "ADF: -2.0945571633757587\n",
      "p-value: 0.2467088183939536,\n",
      "N: 199918, \n",
      "critical values: {'1%': -3.4303827103310676, '5%': -2.8615544575334875, '10%': -2.566777695225296}\n"
     ]
    }
   ],
   "execution_count": 10
  },
  {
   "metadata": {
    "ExecuteTime": {
     "end_time": "2024-04-21T14:32:12.240557Z",
     "start_time": "2024-04-21T14:32:12.039312Z"
    }
   },
   "cell_type": "code",
   "source": [
    "plt.figure(figsize = (8,4))\n",
    "plt.plot(df)\n",
    "plt.grid(False)\n",
    "plt.xticks(rotation = 45)\n",
    "plt.show()"
   ],
   "id": "76cfbf3a77129f46",
   "outputs": [
    {
     "data": {
      "text/plain": [
       "<Figure size 800x400 with 1 Axes>"
      ],
      "image/png": "[encoded data removed]"
     },
     "metadata": {},
     "output_type": "display_data"
    }
   ],
   "execution_count": 11
  },
  {
   "metadata": {
    "ExecuteTime": {
     "end_time": "2024-04-21T14:33:37.921400Z",
     "start_time": "2024-04-21T14:33:37.654229Z"
    }
   },
   "cell_type": "code",
   "source": "pacf = sm.tsa.stattools.pacf(df[use_features], nlags=30)",
   "id": "56bbbd973c95ae92",
   "outputs": [],
   "execution_count": 12
  },
  {
   "metadata": {
    "ExecuteTime": {
     "end_time": "2024-04-21T14:34:19.533537Z",
     "start_time": "2024-04-21T14:34:19.530597Z"
    }
   },
   "cell_type": "code",
   "source": [
    "T = len(df[use_features])\n",
    "sig_test = lambda tau_h: np.abs(tau_h) > 2.58/np.sqrt(T)"
   ],
   "id": "8f4e3534583e1647",
   "outputs": [],
   "execution_count": 13
  },
  {
   "metadata": {
    "ExecuteTime": {
     "end_time": "2024-04-21T14:34:23.205033Z",
     "start_time": "2024-04-21T14:34:23.203004Z"
    }
   },
   "cell_type": "code",
   "source": [
    "for i in range(len(pacf)):\n",
    "    if sig_test(pacf[i]) == False:\n",
    "        n_steps = i - 1\n",
    "        print('n_steps set to', n_steps)\n",
    "        break"
   ],
   "id": "2dc9ce627bd13d9f",
   "outputs": [
    {
     "name": "stdout",
     "output_type": "stream",
     "text": [
      "n_steps set to 4\n"
     ]
    }
   ],
   "execution_count": 14
  },
  {
   "metadata": {
    "ExecuteTime": {
     "end_time": "2024-04-21T14:34:44.863168Z",
     "start_time": "2024-04-21T14:34:44.461613Z"
    }
   },
   "cell_type": "code",
   "source": [
    "from statsmodels.graphics.tsaplots import plot_acf, plot_pacf\n",
    "fig, ax = plt.subplots(figsize=(8, 4))\n",
    "plot_pacf(np.log(df), auto_ylims = True, lags = range(1, 31), title = 'PACF of KOSPI log Index', ax = ax)\n",
    "plt.xlabel('number of lags')\n",
    "plt.grid(False)\n",
    "plt.title('Partial Autocorrelation function')"
   ],
   "id": "f66ce18bb440a807",
   "outputs": [
    {
     "data": {
      "text/plain": [
       "Text(0.5, 1.0, 'Partial Autocorrelation function')"
      ]
     },
     "execution_count": 16,
     "metadata": {},
     "output_type": "execute_result"
    },
    {
     "data": {
      "text/plain": [
       "<Figure size 800x400 with 1 Axes>"
      ],
      "image/png": "[encoded data removed]"
     },
     "metadata": {},
     "output_type": "display_data"
    }
   ],
   "execution_count": 16
  },
  {
   "metadata": {
    "ExecuteTime": {
     "end_time": "2024-04-21T14:34:52.156261Z",
     "start_time": "2024-04-21T14:34:52.152545Z"
    }
   },
   "cell_type": "code",
   "source": [
    "train_weight = 0.8\n",
    "split = int(len(df) * train_weight)\n",
    "\n",
    "df_train = df[use_features].iloc[:split]\n",
    "df_test = df[use_features].iloc[split:]"
   ],
   "id": "a1118ed590cc4aac",
   "outputs": [],
   "execution_count": 17
  },
  {
   "metadata": {
    "ExecuteTime": {
     "end_time": "2024-04-21T14:34:57.564716Z",
     "start_time": "2024-04-21T14:34:57.556456Z"
    }
   },
   "cell_type": "code",
   "source": [
    "# note that for a multivariate time series, you would need to scale \n",
    "# each variable by its own mean and standard deviation in the training set\n",
    "mu = np.float64(df_train.mean())\n",
    "sigma = np.float64(df_train.std())\n",
    "\n",
    "stdize_input = lambda x: (x - mu) / sigma\n",
    "\n",
    "df_train = df_train.apply(stdize_input)\n",
    "df_test = df_test.apply(stdize_input)"
   ],
   "id": "b1980d3993121a81",
   "outputs": [
    {
     "name": "stderr",
     "output_type": "stream",
     "text": [
      "/var/folders/1q/pl9tj55n57s9jg28npxw61n80000gn/T/ipykernel_35567/3391573592.py:3: FutureWarning: Calling float on a single element Series is deprecated and will raise a TypeError in the future. Use float(ser.iloc[0]) instead\n",
      "  mu = np.float64(df_train.mean())\n",
      "/var/folders/1q/pl9tj55n57s9jg28npxw61n80000gn/T/ipykernel_35567/3391573592.py:4: FutureWarning: Calling float on a single element Series is deprecated and will raise a TypeError in the future. Use float(ser.iloc[0]) instead\n",
      "  sigma = np.float64(df_train.std())\n"
     ]
    }
   ],
   "execution_count": 18
  },
  {
   "metadata": {
    "ExecuteTime": {
     "end_time": "2024-04-21T14:35:03.270765Z",
     "start_time": "2024-04-21T14:35:03.268527Z"
    }
   },
   "cell_type": "code",
   "source": [
    "def get_lagged_features(df, n_steps, n_steps_ahead):\n",
    "    \"\"\"\n",
    "    df: pandas DataFrame of time series to be lagged\n",
    "    n_steps: number of lags, i.e. sequence length\n",
    "    n_steps_ahead: forecasting horizon\n",
    "    \"\"\"\n",
    "    lag_list = []\n",
    "    \n",
    "    for lag in range(n_steps + n_steps_ahead - 1, n_steps_ahead - 1, -1):\n",
    "        lag_list.append(df.shift(lag))\n",
    "    lag_array = np.dstack([i[n_steps+n_steps_ahead-1:] for i in lag_list])\n",
    "    # We swap the last two dimensions so each slice along the first dimension\n",
    "    # is the same shape as the corresponding segment of the input time series \n",
    "    lag_array = np.swapaxes(lag_array, 1, -1)\n",
    "    return lag_array"
   ],
   "id": "39bc7a8fd48a1215",
   "outputs": [],
   "execution_count": 19
  },
  {
   "metadata": {
    "ExecuteTime": {
     "end_time": "2024-04-21T14:35:07.961339Z",
     "start_time": "2024-04-21T14:35:07.953924Z"
    }
   },
   "cell_type": "code",
   "source": [
    "x_train = get_lagged_features(df_train, n_steps, n_steps_ahead)\n",
    "y_train = df_train.values[n_steps + n_steps_ahead - 1:]\n",
    "y_train_timestamps = df_train.index[n_steps + n_steps_ahead - 1:]\n",
    "\n",
    "x_test = get_lagged_features(df_test, n_steps, n_steps_ahead)\n",
    "y_test =  df_test.values[n_steps + n_steps_ahead - 1:]\n",
    "y_test_timestamps = df_test.index[n_steps + n_steps_ahead - 1:]"
   ],
   "id": "d65d401317144f4e",
   "outputs": [],
   "execution_count": 20
  },
  {
   "metadata": {
    "ExecuteTime": {
     "end_time": "2024-04-21T14:35:29.719582Z",
     "start_time": "2024-04-21T14:35:29.717536Z"
    }
   },
   "cell_type": "code",
   "source": "print([tensor.shape for tensor in (x_train, y_train, x_test, y_test)])",
   "id": "3e886b9bccae676f",
   "outputs": [
    {
     "name": "stdout",
     "output_type": "stream",
     "text": [
      "[(361337, 4, 1), (361337, 1), (90330, 4, 1), (90330, 1)]\n"
     ]
    }
   ],
   "execution_count": 21
  },
  {
   "metadata": {
    "ExecuteTime": {
     "end_time": "2024-04-21T14:47:12.913305Z",
     "start_time": "2024-04-21T14:47:12.903443Z"
    }
   },
   "cell_type": "code",
   "source": [
    "def AlphatRNN_(n_units = 10, l1_reg=0, seed=0):\n",
    "    model = Sequential()\n",
    "    model.add(\n",
    "        AlphatRNN(\n",
    "            n_units, \n",
    "            activation='tanh', \n",
    "            recurrent_activation='sigmoid', \n",
    "            kernel_initializer=keras.initializers.glorot_uniform(seed), \n",
    "            bias_initializer=keras.initializers.glorot_uniform(seed), \n",
    "            recurrent_initializer=keras.initializers.orthogonal(seed), \n",
    "            kernel_regularizer=l1(l1_reg), \n",
    "            input_shape=(x_train.shape[1], x_train.shape[-1]), \n",
    "        )\n",
    "    )  \n",
    "    model.add(\n",
    "        Dense(\n",
    "            1, kernel_initializer=keras.initializers.glorot_uniform(seed), \n",
    "            bias_initializer=keras.initializers.glorot_uniform(seed), \n",
    "            kernel_regularizer=l1(l1_reg)\n",
    "        )\n",
    "    )\n",
    "    model.compile(\n",
    "        loss='mean_squared_error', \n",
    "        optimizer='adam'\n",
    "    )\n",
    "    return model\n",
    "\n",
    "def AlphaRNN_(n_units = 10, l1_reg=0, seed=0):\n",
    "    model = Sequential()\n",
    "    model.add(\n",
    "        AlphaRNN(\n",
    "            n_units, \n",
    "            activation='tanh', \n",
    "            kernel_initializer=keras.initializers.glorot_uniform(seed), \n",
    "            bias_initializer=keras.initializers.glorot_uniform(seed), \n",
    "            recurrent_initializer=keras.initializers.orthogonal(seed), \n",
    "            kernel_regularizer=l1(l1_reg), \n",
    "            input_shape=(x_train.shape[1], x_train.shape[-1]), \n",
    "        )\n",
    "    )\n",
    "    model.add(\n",
    "        Dense(\n",
    "            1, kernel_initializer=keras.initializers.glorot_uniform(seed), \n",
    "            bias_initializer=keras.initializers.glorot_uniform(seed), \n",
    "            kernel_regularizer=l1(l1_reg)\n",
    "        )\n",
    "    )\n",
    "    model.compile(\n",
    "        loss='mean_squared_error', \n",
    "        optimizer='adam'\n",
    "    )\n",
    "    return model\n",
    "\n",
    "\n",
    "def SimpleRNN_(n_units = 10, l1_reg=0, seed=0):\n",
    "    model = Sequential()\n",
    "    model.add(\n",
    "        SimpleRNN(\n",
    "            n_units, \n",
    "            activation='tanh', \n",
    "            kernel_initializer=keras.initializers.glorot_uniform(seed), \n",
    "            bias_initializer=keras.initializers.glorot_uniform(seed), \n",
    "            recurrent_initializer=keras.initializers.orthogonal(seed), \n",
    "            kernel_regularizer=l1(l1_reg), \n",
    "            input_shape=(x_train.shape[1], x_train.shape[-1]), \n",
    "            unroll=True, \n",
    "            stateful=False\n",
    "        )\n",
    "    )  \n",
    "    model.add(\n",
    "        Dense(\n",
    "            1, kernel_initializer=keras.initializers.glorot_uniform(seed), \n",
    "            bias_initializer=keras.initializers.glorot_uniform(seed), \n",
    "            kernel_regularizer=l1(l1_reg)\n",
    "        )\n",
    "    )\n",
    "    model.compile(\n",
    "        loss='mean_squared_error', \n",
    "        optimizer='adam'\n",
    "    )\n",
    "    return model\n",
    "\n",
    "\n",
    "def GRU_(n_units = 10, l1_reg=0, seed=0):\n",
    "    model = Sequential()\n",
    "    model.add(\n",
    "        GRU(\n",
    "            n_units, \n",
    "            activation='tanh', \n",
    "            kernel_initializer=keras.initializers.glorot_uniform(seed), \n",
    "            bias_initializer=keras.initializers.glorot_uniform(seed), \n",
    "            recurrent_initializer=keras.initializers.orthogonal(seed), \n",
    "            kernel_regularizer=l1(l1_reg), \n",
    "            input_shape=(x_train.shape[1], x_train.shape[-1]), \n",
    "            unroll=True\n",
    "        )\n",
    "    )  \n",
    "    model.add(\n",
    "        Dense(\n",
    "            1, kernel_initializer=keras.initializers.glorot_uniform(seed), \n",
    "            bias_initializer=keras.initializers.glorot_uniform(seed), \n",
    "            kernel_regularizer=l1(l1_reg)\n",
    "        )\n",
    "    )\n",
    "    model.compile(\n",
    "        loss='mean_squared_error', \n",
    "        optimizer='adam'\n",
    "    )\n",
    "    return model\n",
    "\n",
    "\n",
    "def LSTM_(n_units = 10, l1_reg=0, seed=0):\n",
    "    model = Sequential()\n",
    "    model.add(\n",
    "        LSTM(\n",
    "            n_units, \n",
    "            activation='tanh', \n",
    "            kernel_initializer=keras.initializers.glorot_uniform(seed), \n",
    "            bias_initializer=keras.initializers.glorot_uniform(seed),\n",
    "            recurrent_initializer=keras.initializers.orthogonal(seed), \n",
    "            kernel_regularizer=l1(l1_reg), \n",
    "            input_shape=(x_train.shape[1], x_train.shape[-1]),\n",
    "            unroll=True\n",
    "        )\n",
    "    ) \n",
    "    model.add(\n",
    "        Dense(\n",
    "            1, kernel_initializer=keras.initializers.glorot_uniform(seed), \n",
    "            bias_initializer=keras.initializers.glorot_uniform(seed), \n",
    "            kernel_regularizer=l1(l1_reg)\n",
    "        )\n",
    "    )\n",
    "    model.compile(\n",
    "        loss='mean_squared_error', \n",
    "        optimizer='adam'\n",
    "    )\n",
    "    return model"
   ],
   "id": "d5eb72194aa812b6",
   "outputs": [],
   "execution_count": 32
  },
  {
   "metadata": {
    "ExecuteTime": {
     "end_time": "2024-04-21T14:47:14.468448Z",
     "start_time": "2024-04-21T14:47:14.466239Z"
    }
   },
   "cell_type": "code",
   "source": [
    "max_epochs = 2000\n",
    "batch_size = 1000"
   ],
   "id": "aa0e6605522fbb04",
   "outputs": [],
   "execution_count": 33
  },
  {
   "metadata": {
    "ExecuteTime": {
     "end_time": "2024-04-21T14:47:14.804589Z",
     "start_time": "2024-04-21T14:47:14.802571Z"
    }
   },
   "cell_type": "code",
   "source": "es = EarlyStopping(monitor='loss', mode='min', verbose=1, patience=50, min_delta=3e-5, restore_best_weights=True)",
   "id": "f89dd03394bc3f42",
   "outputs": [],
   "execution_count": 34
  },
  {
   "metadata": {
    "ExecuteTime": {
     "end_time": "2024-04-21T14:47:15.139238Z",
     "start_time": "2024-04-21T14:47:15.136516Z"
    }
   },
   "cell_type": "code",
   "source": [
    "params = {\n",
    "    'rnn': {\n",
    "        'model': None, 'function': SimpleRNN_, 'l1_reg': 0.0, 'H': 20, \n",
    "        'color': 'blue', 'label':'RNN'}, \n",
    "    'alpharnn': {\n",
    "        'model': None, 'function': AlphaRNN_, 'l1_reg': 0.0, 'H': 10, \n",
    "        'color': 'green', 'label': '$\\\\alpha$-RNN' }, \n",
    "    'alphatrnn': {\n",
    "        'model': None, 'function': AlphatRNN_, 'l1_reg': 0.0, 'H': 5, \n",
    "        'color': 'cyan', 'label': '$\\\\alpha_t$-RNN'},\n",
    "    'gru': {\n",
    "        'model': None, 'function': GRU_,'l1_reg': 0.0, 'H': 10, \n",
    "        'color': 'orange', 'label': 'GRU'},\n",
    "    'lstm': {\n",
    "        'model': None, 'function': LSTM_, 'l1_reg': 0.0, 'H': 10, \n",
    "        'color':'red', 'label': 'LSTM'}\n",
    "}"
   ],
   "id": "e317615cd35622e1",
   "outputs": [],
   "execution_count": 35
  },
  {
   "metadata": {
    "ExecuteTime": {
     "end_time": "2024-04-21T14:47:15.522105Z",
     "start_time": "2024-04-21T14:47:15.519921Z"
    }
   },
   "cell_type": "code",
   "source": [
    "do_training = True # Set to False if you wish to train the models\n",
    "if do_training is False:\n",
    "    custom_objects = {'AlphaRNN': AlphaRNN, 'AlphatRNN': AlphatRNN}\n",
    "    for key in params.keys():\n",
    "        params[key]['model'] = load_model('trained-RNNs/RNNs-HFT-' + key + '.hdf5', custom_objects=custom_objects)"
   ],
   "id": "fee6608c5442c488",
   "outputs": [],
   "execution_count": 36
  },
  {
   "metadata": {
    "ExecuteTime": {
     "end_time": "2024-04-21T14:47:16.184446Z",
     "start_time": "2024-04-21T14:47:16.181187Z"
    }
   },
   "cell_type": "code",
   "source": [
    "cross_val = False # WARNING: Changing this to True will take many hours to run\n",
    "\n",
    "if do_training and cross_val:\n",
    "    n_units = [5, 10, 20]\n",
    "    l1_reg = [0, 0.001, 0.01, 0.1]\n",
    "    \n",
    "    # A dictionary containing a list of values to be iterated through\n",
    "    # for each parameter of the model included in the search\n",
    "    param_grid = {'n_units': n_units, 'l1_reg': l1_reg}\n",
    "    \n",
    "    # In the kth split, TimeSeriesSplit returns first k folds\n",
    "    # as training set and the (k+1)th fold as test set.\n",
    "    tscv = TimeSeriesSplit(n_splits = 5)\n",
    "    \n",
    "    # A grid search is performed for each of the models, and the parameter set which\n",
    "    # performs best over all the cross-validation splits is saved in the `params` dictionary\n",
    "    for key in params.keys():\n",
    "        print('Performing cross-validation. Model:', key)\n",
    "        model = KerasRegressor(build_fn=params[key]['function'], epochs=max_epochs, \n",
    "                               batch_size=batch_size, verbose=2)\n",
    "        grid = GridSearchCV(estimator=model, param_grid=param_grid, \n",
    "                            cv=tscv, n_jobs=1, verbose=1)\n",
    "        grid_result = grid.fit(x_train, y_train, callbacks=[es])\n",
    "        print(\"Best: %f using %s\" % (grid_result.best_score_, grid_result.best_params_))\n",
    "        \n",
    "        means = grid_result.cv_results_['mean_test_score']\n",
    "        stds = grid_result.cv_results_['std_test_score']\n",
    "        params_ = grid_result.cv_results_['params']\n",
    "        for mean, stdev, param_ in zip(means, stds, params_):\n",
    "            print(\"%f (%f) with %r\" % (mean, stdev, param_))\n",
    "            \n",
    "        params[key]['H'] = grid_result.best_params_['n_units']\n",
    "        params[key]['l1_reg']= grid_result.best_params_['l1_reg']"
   ],
   "id": "d319cddc1b0d5135",
   "outputs": [],
   "execution_count": 37
  },
  {
   "metadata": {
    "ExecuteTime": {
     "end_time": "2024-04-21T14:47:52.736361Z",
     "start_time": "2024-04-21T14:47:17.273668Z"
    }
   },
   "cell_type": "code",
   "source": [
    "if do_training is True:\n",
    "    for key in params.keys():\n",
    "        tf.random.set_seed(0)\n",
    "        print('Training', key, 'model')\n",
    "        model = params[key]['function'](params[key]['H'], params[key]['l1_reg'])\n",
    "        model.fit(\n",
    "            x_train, \n",
    "            y_train, \n",
    "            epochs=max_epochs, \n",
    "            verbose=0,\n",
    "            batch_size=batch_size, \n",
    "            callbacks=[es], \n",
    "            shuffle=False\n",
    "        )\n",
    "        params[key]['model'] = model"
   ],
   "id": "b106773a67bd5ed3",
   "outputs": [
    {
     "name": "stdout",
     "output_type": "stream",
     "text": [
      "Training rnn model\n",
      "Restoring model weights from the end of the best epoch: 102.\n",
      "Epoch 152: early stopping\n",
      "Training alpharnn model\n"
     ]
    },
    {
     "ename": "ValueError",
     "evalue": "The RNN cell should have a `state_size` attribute (tuple of integers, one integer per RNN state). Received: cell=<__main__.AlphaRNNCell object at 0x30b42e390>",
     "output_type": "error",
     "traceback": [
      "\u001B[0;31m---------------------------------------------------------------------------\u001B[0m",
      "\u001B[0;31mValueError\u001B[0m                                Traceback (most recent call last)",
      "Cell \u001B[0;32mIn[38], line 5\u001B[0m\n\u001B[1;32m      3\u001B[0m tf\u001B[38;5;241m.\u001B[39mrandom\u001B[38;5;241m.\u001B[39mset_seed(\u001B[38;5;241m0\u001B[39m)\n\u001B[1;32m      4\u001B[0m \u001B[38;5;28mprint\u001B[39m(\u001B[38;5;124m'\u001B[39m\u001B[38;5;124mTraining\u001B[39m\u001B[38;5;124m'\u001B[39m, key, \u001B[38;5;124m'\u001B[39m\u001B[38;5;124mmodel\u001B[39m\u001B[38;5;124m'\u001B[39m)\n\u001B[0;32m----> 5\u001B[0m model \u001B[38;5;241m=\u001B[39m params[key][\u001B[38;5;124m'\u001B[39m\u001B[38;5;124mfunction\u001B[39m\u001B[38;5;124m'\u001B[39m](params[key][\u001B[38;5;124m'\u001B[39m\u001B[38;5;124mH\u001B[39m\u001B[38;5;124m'\u001B[39m], params[key][\u001B[38;5;124m'\u001B[39m\u001B[38;5;124ml1_reg\u001B[39m\u001B[38;5;124m'\u001B[39m])\n\u001B[1;32m      6\u001B[0m model\u001B[38;5;241m.\u001B[39mfit(\n\u001B[1;32m      7\u001B[0m     x_train, \n\u001B[1;32m      8\u001B[0m     y_train, \n\u001B[0;32m   (...)\u001B[0m\n\u001B[1;32m     13\u001B[0m     shuffle\u001B[38;5;241m=\u001B[39m\u001B[38;5;28;01mFalse\u001B[39;00m\n\u001B[1;32m     14\u001B[0m )\n\u001B[1;32m     15\u001B[0m params[key][\u001B[38;5;124m'\u001B[39m\u001B[38;5;124mmodel\u001B[39m\u001B[38;5;124m'\u001B[39m] \u001B[38;5;241m=\u001B[39m model\n",
      "Cell \u001B[0;32mIn[32], line 31\u001B[0m, in \u001B[0;36mAlphaRNN_\u001B[0;34m(n_units, l1_reg, seed)\u001B[0m\n\u001B[1;32m     28\u001B[0m \u001B[38;5;28;01mdef\u001B[39;00m \u001B[38;5;21mAlphaRNN_\u001B[39m(n_units \u001B[38;5;241m=\u001B[39m \u001B[38;5;241m10\u001B[39m, l1_reg\u001B[38;5;241m=\u001B[39m\u001B[38;5;241m0\u001B[39m, seed\u001B[38;5;241m=\u001B[39m\u001B[38;5;241m0\u001B[39m):\n\u001B[1;32m     29\u001B[0m     model \u001B[38;5;241m=\u001B[39m Sequential()\n\u001B[1;32m     30\u001B[0m     model\u001B[38;5;241m.\u001B[39madd(\n\u001B[0;32m---> 31\u001B[0m         AlphaRNN(\n\u001B[1;32m     32\u001B[0m             n_units, \n\u001B[1;32m     33\u001B[0m             activation\u001B[38;5;241m=\u001B[39m\u001B[38;5;124m'\u001B[39m\u001B[38;5;124mtanh\u001B[39m\u001B[38;5;124m'\u001B[39m, \n\u001B[1;32m     34\u001B[0m             kernel_initializer\u001B[38;5;241m=\u001B[39mkeras\u001B[38;5;241m.\u001B[39minitializers\u001B[38;5;241m.\u001B[39mglorot_uniform(seed), \n\u001B[1;32m     35\u001B[0m             bias_initializer\u001B[38;5;241m=\u001B[39mkeras\u001B[38;5;241m.\u001B[39minitializers\u001B[38;5;241m.\u001B[39mglorot_uniform(seed), \n\u001B[1;32m     36\u001B[0m             recurrent_initializer\u001B[38;5;241m=\u001B[39mkeras\u001B[38;5;241m.\u001B[39minitializers\u001B[38;5;241m.\u001B[39morthogonal(seed), \n\u001B[1;32m     37\u001B[0m             kernel_regularizer\u001B[38;5;241m=\u001B[39ml1(l1_reg), \n\u001B[1;32m     38\u001B[0m             input_shape\u001B[38;5;241m=\u001B[39m(x_train\u001B[38;5;241m.\u001B[39mshape[\u001B[38;5;241m1\u001B[39m], x_train\u001B[38;5;241m.\u001B[39mshape[\u001B[38;5;241m-\u001B[39m\u001B[38;5;241m1\u001B[39m]), \n\u001B[1;32m     39\u001B[0m         )\n\u001B[1;32m     40\u001B[0m     )\n\u001B[1;32m     41\u001B[0m     model\u001B[38;5;241m.\u001B[39madd(\n\u001B[1;32m     42\u001B[0m         Dense(\n\u001B[1;32m     43\u001B[0m             \u001B[38;5;241m1\u001B[39m, kernel_initializer\u001B[38;5;241m=\u001B[39mkeras\u001B[38;5;241m.\u001B[39minitializers\u001B[38;5;241m.\u001B[39mglorot_uniform(seed), \n\u001B[0;32m   (...)\u001B[0m\n\u001B[1;32m     46\u001B[0m         )\n\u001B[1;32m     47\u001B[0m     )\n\u001B[1;32m     48\u001B[0m     model\u001B[38;5;241m.\u001B[39mcompile(\n\u001B[1;32m     49\u001B[0m         loss\u001B[38;5;241m=\u001B[39m\u001B[38;5;124m'\u001B[39m\u001B[38;5;124mmean_squared_error\u001B[39m\u001B[38;5;124m'\u001B[39m, \n\u001B[1;32m     50\u001B[0m         optimizer\u001B[38;5;241m=\u001B[39m\u001B[38;5;124m'\u001B[39m\u001B[38;5;124madam\u001B[39m\u001B[38;5;124m'\u001B[39m\n\u001B[1;32m     51\u001B[0m     )\n",
      "Cell \u001B[0;32mIn[1], line 89\u001B[0m, in \u001B[0;36mAlphaRNN.__init__\u001B[0;34m(self, units, **kwargs)\u001B[0m\n\u001B[1;32m     87\u001B[0m \u001B[38;5;28;01mdef\u001B[39;00m \u001B[38;5;21m__init__\u001B[39m(\u001B[38;5;28mself\u001B[39m, units, \u001B[38;5;241m*\u001B[39m\u001B[38;5;241m*\u001B[39mkwargs):\n\u001B[1;32m     88\u001B[0m     cell \u001B[38;5;241m=\u001B[39m AlphaRNNCell(units, \u001B[38;5;241m*\u001B[39m\u001B[38;5;241m*\u001B[39mkwargs)\n\u001B[0;32m---> 89\u001B[0m     \u001B[38;5;28msuper\u001B[39m(AlphaRNN, \u001B[38;5;28mself\u001B[39m)\u001B[38;5;241m.\u001B[39m\u001B[38;5;21m__init__\u001B[39m(cell, \u001B[38;5;241m*\u001B[39m\u001B[38;5;241m*\u001B[39mkwargs)\n",
      "File \u001B[0;32m~/anaconda3/envs/FinancialMachineLearning/lib/python3.11/site-packages/keras/layers/rnn/base_rnn.py:252\u001B[0m, in \u001B[0;36mRNN.__init__\u001B[0;34m(self, cell, return_sequences, return_state, go_backwards, stateful, unroll, time_major, **kwargs)\u001B[0m\n\u001B[1;32m    247\u001B[0m     \u001B[38;5;28;01mraise\u001B[39;00m \u001B[38;5;167;01mValueError\u001B[39;00m(\n\u001B[1;32m    248\u001B[0m         \u001B[38;5;124m\"\u001B[39m\u001B[38;5;124mArgument `cell` should have a `call` method. \u001B[39m\u001B[38;5;124m\"\u001B[39m\n\u001B[1;32m    249\u001B[0m         \u001B[38;5;124mf\u001B[39m\u001B[38;5;124m\"\u001B[39m\u001B[38;5;124mThe RNN was passed: cell=\u001B[39m\u001B[38;5;132;01m{\u001B[39;00mcell\u001B[38;5;132;01m}\u001B[39;00m\u001B[38;5;124m\"\u001B[39m\n\u001B[1;32m    250\u001B[0m     )\n\u001B[1;32m    251\u001B[0m \u001B[38;5;28;01mif\u001B[39;00m \u001B[38;5;124m\"\u001B[39m\u001B[38;5;124mstate_size\u001B[39m\u001B[38;5;124m\"\u001B[39m \u001B[38;5;129;01mnot\u001B[39;00m \u001B[38;5;129;01min\u001B[39;00m \u001B[38;5;28mdir\u001B[39m(cell):\n\u001B[0;32m--> 252\u001B[0m     \u001B[38;5;28;01mraise\u001B[39;00m \u001B[38;5;167;01mValueError\u001B[39;00m(\n\u001B[1;32m    253\u001B[0m         \u001B[38;5;124m\"\u001B[39m\u001B[38;5;124mThe RNN cell should have a `state_size` attribute \u001B[39m\u001B[38;5;124m\"\u001B[39m\n\u001B[1;32m    254\u001B[0m         \u001B[38;5;124m\"\u001B[39m\u001B[38;5;124m(tuple of integers, one integer per RNN state). \u001B[39m\u001B[38;5;124m\"\u001B[39m\n\u001B[1;32m    255\u001B[0m         \u001B[38;5;124mf\u001B[39m\u001B[38;5;124m\"\u001B[39m\u001B[38;5;124mReceived: cell=\u001B[39m\u001B[38;5;132;01m{\u001B[39;00mcell\u001B[38;5;132;01m}\u001B[39;00m\u001B[38;5;124m\"\u001B[39m\n\u001B[1;32m    256\u001B[0m     )\n\u001B[1;32m    257\u001B[0m \u001B[38;5;66;03m# If True, the output for masked timestep will be zeros, whereas in the\u001B[39;00m\n\u001B[1;32m    258\u001B[0m \u001B[38;5;66;03m# False case, output from previous timestep is returned for masked\u001B[39;00m\n\u001B[1;32m    259\u001B[0m \u001B[38;5;66;03m# timestep.\u001B[39;00m\n\u001B[1;32m    260\u001B[0m \u001B[38;5;28mself\u001B[39m\u001B[38;5;241m.\u001B[39mzero_output_for_mask \u001B[38;5;241m=\u001B[39m kwargs\u001B[38;5;241m.\u001B[39mpop(\u001B[38;5;124m\"\u001B[39m\u001B[38;5;124mzero_output_for_mask\u001B[39m\u001B[38;5;124m\"\u001B[39m, \u001B[38;5;28;01mFalse\u001B[39;00m)\n",
      "\u001B[0;31mValueError\u001B[0m: The RNN cell should have a `state_size` attribute (tuple of integers, one integer per RNN state). Received: cell=<__main__.AlphaRNNCell object at 0x30b42e390>"
     ]
    }
   ],
   "execution_count": 38
  },
  {
   "metadata": {},
   "cell_type": "code",
   "outputs": [],
   "execution_count": null,
   "source": "",
   "id": "63cfcbaa300d8f3"
  }
 ],
 "metadata": {
  "kernelspec": {
   "display_name": "Python 3",
   "language": "python",
   "name": "python3"
  },
  "language_info": {
   "codemirror_mode": {
    "name": "ipython",
    "version": 2
   },
   "file_extension": ".py",
   "mimetype": "text/x-python",
   "name": "python",
   "nbconvert_exporter": "python",
   "pygments_lexer": "ipython2",
   "version": "2.7.6"
  }
 },
 "nbformat": 4,
 "nbformat_minor": 5
}
