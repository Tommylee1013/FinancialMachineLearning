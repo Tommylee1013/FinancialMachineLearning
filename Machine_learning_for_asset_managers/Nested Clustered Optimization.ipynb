{
 "cells": [
  {
   "cell_type": "markdown",
   "source": [
    "### Nested Clustered Optimization"
   ],
   "metadata": {
    "collapsed": false
   },
   "id": "e967dcf5575e0764"
  },
  {
   "cell_type": "code",
   "execution_count": null,
   "id": "initial_id",
   "metadata": {
    "collapsed": true
   },
   "outputs": [],
   "source": [
    "import numpy as np\n",
    "import pandas as pd\n",
    "import matplotlib.pyplot as plt"
   ]
  }
 ],
 "metadata": {
  "kernelspec": {
   "display_name": "Python 3",
   "language": "python",
   "name": "python3"
  },
  "language_info": {
   "codemirror_mode": {
    "name": "ipython",
    "version": 2
   },
   "file_extension": ".py",
   "mimetype": "text/x-python",
   "name": "python",
   "nbconvert_exporter": "python",
   "pygments_lexer": "ipython2",
   "version": "2.7.6"
  }
 },
 "nbformat": 4,
 "nbformat_minor": 5
}
