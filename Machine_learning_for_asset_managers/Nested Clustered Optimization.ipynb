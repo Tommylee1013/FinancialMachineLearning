{
 "cells": [
  {
   "cell_type": "markdown",
   "source": [
    "### Nested Clustered Optimization"
   ],
   "metadata": {
    "collapsed": false
   },
   "id": "e967dcf5575e0764"
  },
  {
   "cell_type": "code",
   "execution_count": 1,
   "id": "initial_id",
   "metadata": {
    "collapsed": true,
    "ExecuteTime": {
     "end_time": "2024-03-09T10:05:31.728806Z",
     "start_time": "2024-03-09T10:05:31.726698Z"
    }
   },
   "outputs": [],
   "source": [
    "import numpy as np\n",
    "import pandas as pd\n",
    "import matplotlib.pyplot as plt\n",
    "import seaborn as sns"
   ]
  },
  {
   "cell_type": "code",
   "outputs": [],
   "source": [
    "from FinancialMachineLearning.generator.pca_blocks import formBlockMatrix, formTrueMatrix\n",
    "\n",
    "corr0 = formBlockMatrix(nBlocks = 2, bSize = 2, bCorr = 0.5)"
   ],
   "metadata": {
    "collapsed": false,
    "ExecuteTime": {
     "end_time": "2024-03-09T10:07:30.958862Z",
     "start_time": "2024-03-09T10:07:20.969560Z"
    }
   },
   "id": "1bd2fdc8d6397e26",
   "execution_count": 2
  },
  {
   "cell_type": "code",
   "outputs": [],
   "source": [
    "eVal, eVec = np.linalg.eigh(corr0)"
   ],
   "metadata": {
    "collapsed": false,
    "ExecuteTime": {
     "end_time": "2024-03-09T10:08:13.126347Z",
     "start_time": "2024-03-09T10:08:13.120776Z"
    }
   },
   "id": "9f4f94053781714f",
   "execution_count": 3
  },
  {
   "cell_type": "code",
   "outputs": [
    {
     "name": "stdout",
     "output_type": "stream",
     "text": [
      "3.0\n"
     ]
    }
   ],
   "source": [
    "print(max(eVal) / min(eVal))"
   ],
   "metadata": {
    "collapsed": false,
    "ExecuteTime": {
     "end_time": "2024-03-09T10:08:13.753946Z",
     "start_time": "2024-03-09T10:08:13.750520Z"
    }
   },
   "id": "7225758b134b8c4e",
   "execution_count": 4
  },
  {
   "cell_type": "code",
   "outputs": [
    {
     "data": {
      "text/plain": "<Axes: >"
     },
     "execution_count": 5,
     "metadata": {},
     "output_type": "execute_result"
    },
    {
     "data": {
      "text/plain": "<Figure size 640x480 with 2 Axes>",
      "image/png": "[encoded data removed]"
     },
     "metadata": {},
     "output_type": "display_data"
    }
   ],
   "source": [
    "sns.heatmap(corr0, cmap = 'viridis')"
   ],
   "metadata": {
    "collapsed": false,
    "ExecuteTime": {
     "end_time": "2024-03-09T10:08:14.450554Z",
     "start_time": "2024-03-09T10:08:14.246418Z"
    }
   },
   "id": "bcd18f085350705a",
   "execution_count": 5
  },
  {
   "cell_type": "markdown",
   "source": [
    "지배적 블록을 가진 블록 - 대각 상관관계 행렬"
   ],
   "metadata": {
    "collapsed": false
   },
   "id": "a2b37632e94a38f0"
  },
  {
   "cell_type": "code",
   "outputs": [
    {
     "name": "stdout",
     "output_type": "stream",
     "text": [
      "3.0\n"
     ]
    }
   ],
   "source": [
    "from scipy.linalg import block_diag\n",
    "\n",
    "corr0 = block_diag(formBlockMatrix(1, 2, 0.5))\n",
    "corr1 = formBlockMatrix(1, 2, 0)\n",
    "corr0 = block_diag(corr0, corr1)\n",
    "eVal, eVec = np.linalg.eigh(corr0)\n",
    "\n",
    "print(max(eVal) / min(eVal))"
   ],
   "metadata": {
    "collapsed": false,
    "ExecuteTime": {
     "end_time": "2024-03-09T10:08:17.227145Z",
     "start_time": "2024-03-09T10:08:17.218334Z"
    }
   },
   "id": "d9e8696f62614aa5",
   "execution_count": 6
  },
  {
   "cell_type": "code",
   "outputs": [
    {
     "data": {
      "text/plain": "<Axes: >"
     },
     "execution_count": 7,
     "metadata": {},
     "output_type": "execute_result"
    },
    {
     "data": {
      "text/plain": "<Figure size 640x480 with 2 Axes>",
      "image/png": "[encoded data removed]"
     },
     "metadata": {},
     "output_type": "display_data"
    }
   ],
   "source": [
    "sns.heatmap(corr0, cmap = 'viridis')"
   ],
   "metadata": {
    "collapsed": false,
    "ExecuteTime": {
     "end_time": "2024-03-09T10:08:19.016273Z",
     "start_time": "2024-03-09T10:08:18.768054Z"
    }
   },
   "id": "fefcad03efcc56cc",
   "execution_count": 7
  },
  {
   "cell_type": "markdown",
   "source": [
    "#### Nested Clustered Optimization\n",
    "\n",
    "마코위츠의 저주의 근원을 다룬 새로운 머신러닝 기법으로, wrapper라고 알려진 알고리즘의 종류에 속한다. 어떤 효율적 경계의 구성 원소가 계산되는지 여부나 어떤 제약 조건들이 부과되는지 여부에 대해서 무관하다. NCO는 마코위츠의 저주가 기존의 평균-분산 배분 방법에 미치는 영향을 해결하기 위한 전략을 제공한다.\n",
    "\n",
    "**1. correlation clustering**\n",
    "\n",
    "NCO의 첫 번째 단계는 상관 행렬을 군집화하는 것이다. 이 작업에는 최적의 군집 수를 찾는 작업이 포함된다. "
   ],
   "metadata": {
    "collapsed": false
   },
   "id": "fdbba82b00e2e3ff"
  },
  {
   "cell_type": "code",
   "outputs": [],
   "source": [
    "from FinancialMachineLearning.utils.stats import *\n",
    "from FinancialMachineLearning.machine_learning.clustering import getPCA, denoise_constant_residual_eigenvalue, denoise_target_shrinkage, clusterKMeansBase, clusterKMeansTop\n",
    "\n",
    "def deNoiseCov(cov0, q, bWidth):\n",
    "    corr0 = covariance_to_correlation(cov0)\n",
    "    eVal0, eVec0 = getPCA(corr0)\n",
    "    eMax0, var0 = find_max_eval(np.diag(eVal0), q, bWidth)\n",
    "    nFacts0 = eVal0.shape[0] - np.diag(eVal0)[::-1].searchsorted(eMax0)\n",
    "    corr1 = denoise_constant_residual_eigenvalue(eVal0, eVec0, nFacts0)  # denoising by constant residual eigenvalue method\n",
    "    cov1 = correlation_to_covariance(corr1, np.diag(cov0) ** .5)\n",
    "    return cov1"
   ],
   "metadata": {
    "collapsed": false,
    "ExecuteTime": {
     "end_time": "2024-03-09T10:15:31.439279Z",
     "start_time": "2024-03-09T10:15:31.427881Z"
    }
   },
   "id": "8d9df27ddf327b61",
   "execution_count": 9
  },
  {
   "cell_type": "code",
   "outputs": [],
   "source": [
    "nBlocks, bSize, bCorr, q  = 2, 2, .5, 10\n",
    "np.random.seed(42)\n",
    "mu0, cov0 = formTrueMatrix(nBlocks, bSize, bCorr)\n",
    "\n",
    "columns = cov0.columns\n",
    "cov1 = deNoiseCov(cov0, q, bWidth = 0.01)\n",
    "cov1 = pd.DataFrame(cov1, index = columns, columns = columns)\n",
    "corr1 = covariance_to_correlation(cov1)\n",
    "corr1, clusters1, silh = clusterKMeansBase(\n",
    "    corr1, \n",
    "    maxNumClusters = int(corr0.shape[0] / 2),\n",
    "    n_init = 10\n",
    ")"
   ],
   "metadata": {
    "collapsed": false,
    "ExecuteTime": {
     "end_time": "2024-03-09T10:16:16.014275Z",
     "start_time": "2024-03-09T10:16:15.501177Z"
    }
   },
   "id": "c217f17982500bf8",
   "execution_count": 11
  },
  {
   "cell_type": "markdown",
   "source": [
    "**2. 군집 내 비중**"
   ],
   "metadata": {
    "collapsed": false
   },
   "id": "3bae31706eba2644"
  },
  {
   "cell_type": "code",
   "outputs": [],
   "source": [
    "wIntra = pd.DataFrame(0, index = cov1.index, columns = clusters1.keys())\n",
    "for i in clusters1 :\n",
    "    wIntra.loc[clusters1[i], i] = optimizing_portfolio(cov1.loc[clusters1[i], clusters1[i]]).flatten()\n",
    "cov2 = wIntra.T.dot(np.dot(cov1, wIntra))"
   ],
   "metadata": {
    "collapsed": false,
    "ExecuteTime": {
     "end_time": "2024-03-09T10:19:54.451760Z",
     "start_time": "2024-03-09T10:19:54.428924Z"
    }
   },
   "id": "67262fcabb41f067",
   "execution_count": 13
  },
  {
   "cell_type": "code",
   "outputs": [
    {
     "data": {
      "text/plain": "          0         1\n1 -0.024845  0.000000\n3  0.000000  0.017511\n0  1.024845  0.000000\n2  0.000000  0.982489",
      "text/html": "<div>\n<style scoped>\n    .dataframe tbody tr th:only-of-type {\n        vertical-align: middle;\n    }\n\n    .dataframe tbody tr th {\n        vertical-align: top;\n    }\n\n    .dataframe thead th {\n        text-align: right;\n    }\n</style>\n<table border=\"1\" class=\"dataframe\">\n  <thead>\n    <tr style=\"text-align: right;\">\n      <th></th>\n      <th>0</th>\n      <th>1</th>\n    </tr>\n  </thead>\n  <tbody>\n    <tr>\n      <th>1</th>\n      <td>-0.024845</td>\n      <td>0.000000</td>\n    </tr>\n    <tr>\n      <th>3</th>\n      <td>0.000000</td>\n      <td>0.017511</td>\n    </tr>\n    <tr>\n      <th>0</th>\n      <td>1.024845</td>\n      <td>0.000000</td>\n    </tr>\n    <tr>\n      <th>2</th>\n      <td>0.000000</td>\n      <td>0.982489</td>\n    </tr>\n  </tbody>\n</table>\n</div>"
     },
     "execution_count": 15,
     "metadata": {},
     "output_type": "execute_result"
    }
   ],
   "source": [
    "wIntra"
   ],
   "metadata": {
    "collapsed": false,
    "ExecuteTime": {
     "end_time": "2024-03-09T10:21:33.052802Z",
     "start_time": "2024-03-09T10:21:33.019921Z"
    }
   },
   "id": "5d070b1ff83b5a1e",
   "execution_count": 15
  },
  {
   "cell_type": "code",
   "outputs": [
    {
     "data": {
      "text/plain": "          0         1\n0  0.005376  0.000000\n1  0.000000  0.005383",
      "text/html": "<div>\n<style scoped>\n    .dataframe tbody tr th:only-of-type {\n        vertical-align: middle;\n    }\n\n    .dataframe tbody tr th {\n        vertical-align: top;\n    }\n\n    .dataframe thead th {\n        text-align: right;\n    }\n</style>\n<table border=\"1\" class=\"dataframe\">\n  <thead>\n    <tr style=\"text-align: right;\">\n      <th></th>\n      <th>0</th>\n      <th>1</th>\n    </tr>\n  </thead>\n  <tbody>\n    <tr>\n      <th>0</th>\n      <td>0.005376</td>\n      <td>0.000000</td>\n    </tr>\n    <tr>\n      <th>1</th>\n      <td>0.000000</td>\n      <td>0.005383</td>\n    </tr>\n  </tbody>\n</table>\n</div>"
     },
     "execution_count": 14,
     "metadata": {},
     "output_type": "execute_result"
    }
   ],
   "source": [
    "cov2"
   ],
   "metadata": {
    "collapsed": false,
    "ExecuteTime": {
     "end_time": "2024-03-09T10:19:56.510173Z",
     "start_time": "2024-03-09T10:19:56.501843Z"
    }
   },
   "id": "514ed877adff105c",
   "execution_count": 14
  },
  {
   "cell_type": "markdown",
   "source": [
    "**3. 군집 간 비중**"
   ],
   "metadata": {
    "collapsed": false
   },
   "id": "df6b20cbcf9cb417"
  },
  {
   "cell_type": "code",
   "outputs": [],
   "source": [
    "winter = pd.Series(optimizing_portfolio(cov2).flatten(), index = cov2.index)"
   ],
   "metadata": {
    "collapsed": false,
    "ExecuteTime": {
     "end_time": "2024-03-09T10:25:44.794142Z",
     "start_time": "2024-03-09T10:25:44.765336Z"
    }
   },
   "id": "312e8fbe191f10b0",
   "execution_count": 20
  },
  {
   "cell_type": "code",
   "outputs": [
    {
     "data": {
      "text/plain": "0    0.500317\n1    0.499683\ndtype: float64"
     },
     "execution_count": 21,
     "metadata": {},
     "output_type": "execute_result"
    }
   ],
   "source": [
    "winter"
   ],
   "metadata": {
    "collapsed": false,
    "ExecuteTime": {
     "end_time": "2024-03-09T10:25:45.391170Z",
     "start_time": "2024-03-09T10:25:45.385022Z"
    }
   },
   "id": "df30f7405bb6d5a3",
   "execution_count": 21
  },
  {
   "cell_type": "code",
   "outputs": [],
   "source": [
    "wAII0 = wIntra.mul(winter, axis = 1).sum(axis = 1).sort_index()"
   ],
   "metadata": {
    "collapsed": false,
    "ExecuteTime": {
     "end_time": "2024-03-09T10:25:47.574237Z",
     "start_time": "2024-03-09T10:25:47.568150Z"
    }
   },
   "id": "60ea8b2eca09789",
   "execution_count": 22
  },
  {
   "cell_type": "code",
   "outputs": [
    {
     "data": {
      "text/plain": "0    0.512747\n1   -0.012430\n2    0.490933\n3    0.008750\ndtype: float64"
     },
     "execution_count": 23,
     "metadata": {},
     "output_type": "execute_result"
    }
   ],
   "source": [
    "wAII0"
   ],
   "metadata": {
    "collapsed": false,
    "ExecuteTime": {
     "end_time": "2024-03-09T10:25:52.039387Z",
     "start_time": "2024-03-09T10:25:52.024711Z"
    }
   },
   "id": "ce930db9a0d2770a",
   "execution_count": 23
  },
  {
   "cell_type": "markdown",
   "source": [
    "### Montecarlo Simulation"
   ],
   "metadata": {
    "collapsed": false
   },
   "id": "feea4fbbd5f8e931"
  },
  {
   "cell_type": "code",
   "outputs": [],
   "source": [
    "def nested_clustered_optimization(cov, mu = None, maxNumClusters = None) :\n",
    "    cov = pd.DataFrame(cov)\n",
    "    \n",
    "    if mu is not None : mu = pd.Series(mu[:, 0])\n",
    "    \n",
    "    corr1 = covariance_to_correlation(cov)\n",
    "    corr1, clusters, _ = clusterKMeansBase(corr1, maxNumClusters, n_init = 10)\n",
    "    wIntra = pd.DataFrame(0, index = cov.index, columns = clusters.keys())\n",
    "    \n",
    "    for i in clusters :\n",
    "        cov_ = cov.loc[clusters[i], clusters[i]].values\n",
    "        if mu is None : mu_ = None\n",
    "        else : mu_ = mu.loc[clusters[i]].values.reshape(-1, 1)\n",
    "        wIntra.loc[clusters[i], i] = optimizing_portfolio(cov_, mu_).flatten()\n",
    "        \n",
    "    cov_ = wIntra.T.dot(np.dot(cov, wIntra))\n",
    "    mu_ = (None if mu is None else wIntra.T.dot(mu))\n",
    "    \n",
    "    wInter = pd.Series(optimizing_portfolio(cov_, mu_).flatten(), index = cov_.index)\n",
    "    nco = wIntra.mul(wInter, axis = 1).sum(axis = 1).values.reshape(-1, 1)\n",
    "    \n",
    "    return nco"
   ],
   "metadata": {
    "collapsed": false,
    "ExecuteTime": {
     "end_time": "2024-03-10T12:15:02.306195Z",
     "start_time": "2024-03-10T12:15:02.288938Z"
    }
   },
   "id": "8a34ff210848530d",
   "execution_count": 101
  },
  {
   "cell_type": "code",
   "outputs": [],
   "source": [
    "nBlocks = 10\n",
    "block_size = 50\n",
    "block_corr = 0.5\n",
    "np.random.seed(42)\n",
    "\n",
    "mu0, cov0 = formTrueMatrix(nBlocks, block_size, block_corr)"
   ],
   "metadata": {
    "collapsed": false,
    "ExecuteTime": {
     "end_time": "2024-03-10T12:15:09.148328Z",
     "start_time": "2024-03-10T12:15:09.085768Z"
    }
   },
   "id": "2859ac68a75119b6",
   "execution_count": 102
  },
  {
   "cell_type": "code",
   "outputs": [],
   "source": [
    "num_observation = 1000\n",
    "num_sims = 1000\n",
    "shrink = False\n",
    "minVarPortf = True\n",
    "np.random.seed(42)\n",
    "\n",
    "w1 = pd.DataFrame()\n",
    "w1_d = pd.DataFrame()"
   ],
   "metadata": {
    "collapsed": false,
    "ExecuteTime": {
     "end_time": "2024-03-10T13:01:24.350353Z",
     "start_time": "2024-03-10T13:01:24.234158Z"
    }
   },
   "id": "d1aa45304e329570",
   "execution_count": 106
  },
  {
   "cell_type": "code",
   "outputs": [],
   "source": [
    "from sklearn.covariance import LedoitWolf\n",
    "\n",
    "def empirical_covariance_matrix(mu0, cov0, nObs, shrink = False): \n",
    "    x = np.random.multivariate_normal(mu0.flatten(),cov0,size = nObs) \n",
    "    mu1 = x.mean(axis = 0).reshape(-1,1)\n",
    "    if shrink: cov1 = LedoitWolf().fit(x).covariance_ \n",
    "    else: cov1 = np.cov(x, rowvar = 0)\n",
    "    return mu1, cov1"
   ],
   "metadata": {
    "collapsed": false,
    "ExecuteTime": {
     "end_time": "2024-03-10T13:01:25.549634Z",
     "start_time": "2024-03-10T13:01:25.531181Z"
    }
   },
   "id": "a1747c7ba8b70920",
   "execution_count": 107
  },
  {
   "cell_type": "code",
   "outputs": [
    {
     "name": "stderr",
     "output_type": "stream",
     "text": [
      "  0%|          | 1/1000 [29:37<493:17:08, 1777.61s/it]\n"
     ]
    },
    {
     "ename": "KeyboardInterrupt",
     "evalue": "",
     "output_type": "error",
     "traceback": [
      "\u001B[0;31m---------------------------------------------------------------------------\u001B[0m",
      "\u001B[0;31mKeyboardInterrupt\u001B[0m                         Traceback (most recent call last)",
      "Cell \u001B[0;32mIn[108], line 7\u001B[0m\n\u001B[1;32m      5\u001B[0m \u001B[38;5;28;01mif\u001B[39;00m minVarPortf : mu1 \u001B[38;5;241m=\u001B[39m \u001B[38;5;28;01mNone\u001B[39;00m\n\u001B[1;32m      6\u001B[0m w1[\u001B[38;5;124m'\u001B[39m\u001B[38;5;124mweight\u001B[39m\u001B[38;5;124m'\u001B[39m\u001B[38;5;241m+\u001B[39m\u001B[38;5;28mstr\u001B[39m(i)] \u001B[38;5;241m=\u001B[39m optimizing_portfolio(cov1, mu1)\u001B[38;5;241m.\u001B[39mflatten()\n\u001B[0;32m----> 7\u001B[0m w1_d[\u001B[38;5;124m'\u001B[39m\u001B[38;5;124mweight\u001B[39m\u001B[38;5;124m'\u001B[39m\u001B[38;5;241m+\u001B[39m\u001B[38;5;28mstr\u001B[39m(i)] \u001B[38;5;241m=\u001B[39m \u001B[43mnested_clustered_optimization\u001B[49m\u001B[43m(\u001B[49m\n\u001B[1;32m      8\u001B[0m \u001B[43m    \u001B[49m\u001B[43mcov1\u001B[49m\u001B[43m,\u001B[49m\u001B[43m \u001B[49m\u001B[43mmu1\u001B[49m\u001B[43m,\u001B[49m\u001B[43m \u001B[49m\u001B[38;5;28;43mint\u001B[39;49m\u001B[43m(\u001B[49m\u001B[43mcov1\u001B[49m\u001B[38;5;241;43m.\u001B[39;49m\u001B[43mshape\u001B[49m\u001B[43m[\u001B[49m\u001B[38;5;241;43m0\u001B[39;49m\u001B[43m]\u001B[49m\u001B[43m \u001B[49m\u001B[38;5;241;43m/\u001B[39;49m\u001B[43m \u001B[49m\u001B[38;5;241;43m2\u001B[39;49m\u001B[43m)\u001B[49m\n\u001B[1;32m      9\u001B[0m \u001B[43m\u001B[49m\u001B[43m)\u001B[49m\u001B[38;5;241m.\u001B[39mflatten()\n",
      "Cell \u001B[0;32mIn[101], line 7\u001B[0m, in \u001B[0;36mnested_clustered_optimization\u001B[0;34m(cov, mu, maxNumClusters)\u001B[0m\n\u001B[1;32m      4\u001B[0m \u001B[38;5;28;01mif\u001B[39;00m mu \u001B[38;5;129;01mis\u001B[39;00m \u001B[38;5;129;01mnot\u001B[39;00m \u001B[38;5;28;01mNone\u001B[39;00m : mu \u001B[38;5;241m=\u001B[39m pd\u001B[38;5;241m.\u001B[39mSeries(mu[:, \u001B[38;5;241m0\u001B[39m])\n\u001B[1;32m      6\u001B[0m corr1 \u001B[38;5;241m=\u001B[39m covariance_to_correlation(cov)\n\u001B[0;32m----> 7\u001B[0m corr1, clusters, _ \u001B[38;5;241m=\u001B[39m \u001B[43mclusterKMeansBase\u001B[49m\u001B[43m(\u001B[49m\u001B[43mcorr1\u001B[49m\u001B[43m,\u001B[49m\u001B[43m \u001B[49m\u001B[43mmaxNumClusters\u001B[49m\u001B[43m,\u001B[49m\u001B[43m \u001B[49m\u001B[43mn_init\u001B[49m\u001B[43m \u001B[49m\u001B[38;5;241;43m=\u001B[39;49m\u001B[43m \u001B[49m\u001B[38;5;241;43m10\u001B[39;49m\u001B[43m)\u001B[49m\n\u001B[1;32m      8\u001B[0m wIntra \u001B[38;5;241m=\u001B[39m pd\u001B[38;5;241m.\u001B[39mDataFrame(\u001B[38;5;241m0\u001B[39m, index \u001B[38;5;241m=\u001B[39m cov\u001B[38;5;241m.\u001B[39mindex, columns \u001B[38;5;241m=\u001B[39m clusters\u001B[38;5;241m.\u001B[39mkeys())\n\u001B[1;32m     10\u001B[0m \u001B[38;5;28;01mfor\u001B[39;00m i \u001B[38;5;129;01min\u001B[39;00m clusters :\n",
      "File \u001B[0;32m~/Desktop/Pycharm/FinancialMachineLearning/FinancialMachineLearning/machine_learning/clustering.py:22\u001B[0m, in \u001B[0;36mclusterKMeansBase\u001B[0;34m(corr0, maxNumClusters, n_init, verbose)\u001B[0m\n\u001B[1;32m     18\u001B[0m \u001B[38;5;28;01mfor\u001B[39;00m num_clusters \u001B[38;5;129;01min\u001B[39;00m \u001B[38;5;28mrange\u001B[39m(\u001B[38;5;241m2\u001B[39m, maxNumClusters \u001B[38;5;241m+\u001B[39m \u001B[38;5;241m1\u001B[39m):\n\u001B[1;32m     19\u001B[0m     \u001B[38;5;66;03m# (maxNumClusters + 2 - num_clusters) # go in reverse order to view more sub-optimal solutions\u001B[39;00m\n\u001B[1;32m     20\u001B[0m     kmeans_ \u001B[38;5;241m=\u001B[39m KMeans(n_clusters\u001B[38;5;241m=\u001B[39mnum_clusters,\n\u001B[1;32m     21\u001B[0m                      n_init\u001B[38;5;241m=\u001B[39m\u001B[38;5;241m10\u001B[39m)  \u001B[38;5;66;03m# , random_state=3425) #n_jobs=None #n_jobs=None - use all CPUs\u001B[39;00m\n\u001B[0;32m---> 22\u001B[0m     kmeans_ \u001B[38;5;241m=\u001B[39m \u001B[43mkmeans_\u001B[49m\u001B[38;5;241;43m.\u001B[39;49m\u001B[43mfit\u001B[49m\u001B[43m(\u001B[49m\u001B[43mdist_matrix\u001B[49m\u001B[43m)\u001B[49m\n\u001B[1;32m     23\u001B[0m     silh_coef \u001B[38;5;241m=\u001B[39m silhouette_samples(dist_matrix, kmeans_\u001B[38;5;241m.\u001B[39mlabels_)\n\u001B[1;32m     24\u001B[0m     stat \u001B[38;5;241m=\u001B[39m (silh_coef\u001B[38;5;241m.\u001B[39mmean() \u001B[38;5;241m/\u001B[39m silh_coef\u001B[38;5;241m.\u001B[39mstd(), silh_coef_optimal\u001B[38;5;241m.\u001B[39mmean() \u001B[38;5;241m/\u001B[39m silh_coef_optimal\u001B[38;5;241m.\u001B[39mstd())\n",
      "File \u001B[0;32m/opt/anaconda3/envs/FinancialMachineLearning/lib/python3.10/site-packages/sklearn/base.py:1151\u001B[0m, in \u001B[0;36m_fit_context.<locals>.decorator.<locals>.wrapper\u001B[0;34m(estimator, *args, **kwargs)\u001B[0m\n\u001B[1;32m   1144\u001B[0m     estimator\u001B[38;5;241m.\u001B[39m_validate_params()\n\u001B[1;32m   1146\u001B[0m \u001B[38;5;28;01mwith\u001B[39;00m config_context(\n\u001B[1;32m   1147\u001B[0m     skip_parameter_validation\u001B[38;5;241m=\u001B[39m(\n\u001B[1;32m   1148\u001B[0m         prefer_skip_nested_validation \u001B[38;5;129;01mor\u001B[39;00m global_skip_validation\n\u001B[1;32m   1149\u001B[0m     )\n\u001B[1;32m   1150\u001B[0m ):\n\u001B[0;32m-> 1151\u001B[0m     \u001B[38;5;28;01mreturn\u001B[39;00m \u001B[43mfit_method\u001B[49m\u001B[43m(\u001B[49m\u001B[43mestimator\u001B[49m\u001B[43m,\u001B[49m\u001B[43m \u001B[49m\u001B[38;5;241;43m*\u001B[39;49m\u001B[43margs\u001B[49m\u001B[43m,\u001B[49m\u001B[43m \u001B[49m\u001B[38;5;241;43m*\u001B[39;49m\u001B[38;5;241;43m*\u001B[39;49m\u001B[43mkwargs\u001B[49m\u001B[43m)\u001B[49m\n",
      "File \u001B[0;32m/opt/anaconda3/envs/FinancialMachineLearning/lib/python3.10/site-packages/sklearn/cluster/_kmeans.py:1515\u001B[0m, in \u001B[0;36mKMeans.fit\u001B[0;34m(self, X, y, sample_weight)\u001B[0m\n\u001B[1;32m   1511\u001B[0m best_inertia, best_labels \u001B[38;5;241m=\u001B[39m \u001B[38;5;28;01mNone\u001B[39;00m, \u001B[38;5;28;01mNone\u001B[39;00m\n\u001B[1;32m   1513\u001B[0m \u001B[38;5;28;01mfor\u001B[39;00m i \u001B[38;5;129;01min\u001B[39;00m \u001B[38;5;28mrange\u001B[39m(\u001B[38;5;28mself\u001B[39m\u001B[38;5;241m.\u001B[39m_n_init):\n\u001B[1;32m   1514\u001B[0m     \u001B[38;5;66;03m# Initialize centers\u001B[39;00m\n\u001B[0;32m-> 1515\u001B[0m     centers_init \u001B[38;5;241m=\u001B[39m \u001B[38;5;28;43mself\u001B[39;49m\u001B[38;5;241;43m.\u001B[39;49m\u001B[43m_init_centroids\u001B[49m\u001B[43m(\u001B[49m\n\u001B[1;32m   1516\u001B[0m \u001B[43m        \u001B[49m\u001B[43mX\u001B[49m\u001B[43m,\u001B[49m\n\u001B[1;32m   1517\u001B[0m \u001B[43m        \u001B[49m\u001B[43mx_squared_norms\u001B[49m\u001B[38;5;241;43m=\u001B[39;49m\u001B[43mx_squared_norms\u001B[49m\u001B[43m,\u001B[49m\n\u001B[1;32m   1518\u001B[0m \u001B[43m        \u001B[49m\u001B[43minit\u001B[49m\u001B[38;5;241;43m=\u001B[39;49m\u001B[43minit\u001B[49m\u001B[43m,\u001B[49m\n\u001B[1;32m   1519\u001B[0m \u001B[43m        \u001B[49m\u001B[43mrandom_state\u001B[49m\u001B[38;5;241;43m=\u001B[39;49m\u001B[43mrandom_state\u001B[49m\u001B[43m,\u001B[49m\n\u001B[1;32m   1520\u001B[0m \u001B[43m        \u001B[49m\u001B[43msample_weight\u001B[49m\u001B[38;5;241;43m=\u001B[39;49m\u001B[43msample_weight\u001B[49m\u001B[43m,\u001B[49m\n\u001B[1;32m   1521\u001B[0m \u001B[43m    \u001B[49m\u001B[43m)\u001B[49m\n\u001B[1;32m   1522\u001B[0m     \u001B[38;5;28;01mif\u001B[39;00m \u001B[38;5;28mself\u001B[39m\u001B[38;5;241m.\u001B[39mverbose:\n\u001B[1;32m   1523\u001B[0m         \u001B[38;5;28mprint\u001B[39m(\u001B[38;5;124m\"\u001B[39m\u001B[38;5;124mInitialization complete\u001B[39m\u001B[38;5;124m\"\u001B[39m)\n",
      "File \u001B[0;32m/opt/anaconda3/envs/FinancialMachineLearning/lib/python3.10/site-packages/sklearn/cluster/_kmeans.py:1018\u001B[0m, in \u001B[0;36m_BaseKMeans._init_centroids\u001B[0;34m(self, X, x_squared_norms, init, random_state, init_size, n_centroids, sample_weight)\u001B[0m\n\u001B[1;32m   1015\u001B[0m     sample_weight \u001B[38;5;241m=\u001B[39m sample_weight[init_indices]\n\u001B[1;32m   1017\u001B[0m \u001B[38;5;28;01mif\u001B[39;00m \u001B[38;5;28misinstance\u001B[39m(init, \u001B[38;5;28mstr\u001B[39m) \u001B[38;5;129;01mand\u001B[39;00m init \u001B[38;5;241m==\u001B[39m \u001B[38;5;124m\"\u001B[39m\u001B[38;5;124mk-means++\u001B[39m\u001B[38;5;124m\"\u001B[39m:\n\u001B[0;32m-> 1018\u001B[0m     centers, _ \u001B[38;5;241m=\u001B[39m \u001B[43m_kmeans_plusplus\u001B[49m\u001B[43m(\u001B[49m\n\u001B[1;32m   1019\u001B[0m \u001B[43m        \u001B[49m\u001B[43mX\u001B[49m\u001B[43m,\u001B[49m\n\u001B[1;32m   1020\u001B[0m \u001B[43m        \u001B[49m\u001B[43mn_clusters\u001B[49m\u001B[43m,\u001B[49m\n\u001B[1;32m   1021\u001B[0m \u001B[43m        \u001B[49m\u001B[43mrandom_state\u001B[49m\u001B[38;5;241;43m=\u001B[39;49m\u001B[43mrandom_state\u001B[49m\u001B[43m,\u001B[49m\n\u001B[1;32m   1022\u001B[0m \u001B[43m        \u001B[49m\u001B[43mx_squared_norms\u001B[49m\u001B[38;5;241;43m=\u001B[39;49m\u001B[43mx_squared_norms\u001B[49m\u001B[43m,\u001B[49m\n\u001B[1;32m   1023\u001B[0m \u001B[43m        \u001B[49m\u001B[43msample_weight\u001B[49m\u001B[38;5;241;43m=\u001B[39;49m\u001B[43msample_weight\u001B[49m\u001B[43m,\u001B[49m\n\u001B[1;32m   1024\u001B[0m \u001B[43m    \u001B[49m\u001B[43m)\u001B[49m\n\u001B[1;32m   1025\u001B[0m \u001B[38;5;28;01melif\u001B[39;00m \u001B[38;5;28misinstance\u001B[39m(init, \u001B[38;5;28mstr\u001B[39m) \u001B[38;5;129;01mand\u001B[39;00m init \u001B[38;5;241m==\u001B[39m \u001B[38;5;124m\"\u001B[39m\u001B[38;5;124mrandom\u001B[39m\u001B[38;5;124m\"\u001B[39m:\n\u001B[1;32m   1026\u001B[0m     seeds \u001B[38;5;241m=\u001B[39m random_state\u001B[38;5;241m.\u001B[39mchoice(\n\u001B[1;32m   1027\u001B[0m         n_samples,\n\u001B[1;32m   1028\u001B[0m         size\u001B[38;5;241m=\u001B[39mn_clusters,\n\u001B[1;32m   1029\u001B[0m         replace\u001B[38;5;241m=\u001B[39m\u001B[38;5;28;01mFalse\u001B[39;00m,\n\u001B[1;32m   1030\u001B[0m         p\u001B[38;5;241m=\u001B[39msample_weight \u001B[38;5;241m/\u001B[39m sample_weight\u001B[38;5;241m.\u001B[39msum(),\n\u001B[1;32m   1031\u001B[0m     )\n",
      "File \u001B[0;32m/opt/anaconda3/envs/FinancialMachineLearning/lib/python3.10/site-packages/sklearn/cluster/_kmeans.py:255\u001B[0m, in \u001B[0;36m_kmeans_plusplus\u001B[0;34m(X, n_clusters, x_squared_norms, sample_weight, random_state, n_local_trials)\u001B[0m\n\u001B[1;32m    252\u001B[0m np\u001B[38;5;241m.\u001B[39mclip(candidate_ids, \u001B[38;5;28;01mNone\u001B[39;00m, closest_dist_sq\u001B[38;5;241m.\u001B[39msize \u001B[38;5;241m-\u001B[39m \u001B[38;5;241m1\u001B[39m, out\u001B[38;5;241m=\u001B[39mcandidate_ids)\n\u001B[1;32m    254\u001B[0m \u001B[38;5;66;03m# Compute distances to center candidates\u001B[39;00m\n\u001B[0;32m--> 255\u001B[0m distance_to_candidates \u001B[38;5;241m=\u001B[39m \u001B[43m_euclidean_distances\u001B[49m\u001B[43m(\u001B[49m\n\u001B[1;32m    256\u001B[0m \u001B[43m    \u001B[49m\u001B[43mX\u001B[49m\u001B[43m[\u001B[49m\u001B[43mcandidate_ids\u001B[49m\u001B[43m]\u001B[49m\u001B[43m,\u001B[49m\u001B[43m \u001B[49m\u001B[43mX\u001B[49m\u001B[43m,\u001B[49m\u001B[43m \u001B[49m\u001B[43mY_norm_squared\u001B[49m\u001B[38;5;241;43m=\u001B[39;49m\u001B[43mx_squared_norms\u001B[49m\u001B[43m,\u001B[49m\u001B[43m \u001B[49m\u001B[43msquared\u001B[49m\u001B[38;5;241;43m=\u001B[39;49m\u001B[38;5;28;43;01mTrue\u001B[39;49;00m\n\u001B[1;32m    257\u001B[0m \u001B[43m\u001B[49m\u001B[43m)\u001B[49m\n\u001B[1;32m    259\u001B[0m \u001B[38;5;66;03m# update closest distances squared and potential for each candidate\u001B[39;00m\n\u001B[1;32m    260\u001B[0m np\u001B[38;5;241m.\u001B[39mminimum(closest_dist_sq, distance_to_candidates, out\u001B[38;5;241m=\u001B[39mdistance_to_candidates)\n",
      "File \u001B[0;32m/opt/anaconda3/envs/FinancialMachineLearning/lib/python3.10/site-packages/sklearn/metrics/pairwise.py:379\u001B[0m, in \u001B[0;36m_euclidean_distances\u001B[0;34m(X, Y, X_norm_squared, Y_norm_squared, squared)\u001B[0m\n\u001B[1;32m    376\u001B[0m     distances \u001B[38;5;241m=\u001B[39m _euclidean_distances_upcast(X, XX, Y, YY)\n\u001B[1;32m    377\u001B[0m \u001B[38;5;28;01melse\u001B[39;00m:\n\u001B[1;32m    378\u001B[0m     \u001B[38;5;66;03m# if dtype is already float64, no need to chunk and upcast\u001B[39;00m\n\u001B[0;32m--> 379\u001B[0m     distances \u001B[38;5;241m=\u001B[39m \u001B[38;5;241m-\u001B[39m\u001B[38;5;241m2\u001B[39m \u001B[38;5;241m*\u001B[39m \u001B[43msafe_sparse_dot\u001B[49m\u001B[43m(\u001B[49m\u001B[43mX\u001B[49m\u001B[43m,\u001B[49m\u001B[43m \u001B[49m\u001B[43mY\u001B[49m\u001B[38;5;241;43m.\u001B[39;49m\u001B[43mT\u001B[49m\u001B[43m,\u001B[49m\u001B[43m \u001B[49m\u001B[43mdense_output\u001B[49m\u001B[38;5;241;43m=\u001B[39;49m\u001B[38;5;28;43;01mTrue\u001B[39;49;00m\u001B[43m)\u001B[49m\n\u001B[1;32m    380\u001B[0m     distances \u001B[38;5;241m+\u001B[39m\u001B[38;5;241m=\u001B[39m XX\n\u001B[1;32m    381\u001B[0m     distances \u001B[38;5;241m+\u001B[39m\u001B[38;5;241m=\u001B[39m YY\n",
      "File \u001B[0;32m/opt/anaconda3/envs/FinancialMachineLearning/lib/python3.10/site-packages/sklearn/utils/extmath.py:196\u001B[0m, in \u001B[0;36msafe_sparse_dot\u001B[0;34m(a, b, dense_output)\u001B[0m\n\u001B[1;32m    192\u001B[0m \u001B[38;5;28;01melse\u001B[39;00m:\n\u001B[1;32m    193\u001B[0m     ret \u001B[38;5;241m=\u001B[39m a \u001B[38;5;241m@\u001B[39m b\n\u001B[1;32m    195\u001B[0m \u001B[38;5;28;01mif\u001B[39;00m (\n\u001B[0;32m--> 196\u001B[0m     \u001B[43msparse\u001B[49m\u001B[38;5;241;43m.\u001B[39;49m\u001B[43missparse\u001B[49m\u001B[43m(\u001B[49m\u001B[43ma\u001B[49m\u001B[43m)\u001B[49m\n\u001B[1;32m    197\u001B[0m     \u001B[38;5;129;01mand\u001B[39;00m sparse\u001B[38;5;241m.\u001B[39missparse(b)\n\u001B[1;32m    198\u001B[0m     \u001B[38;5;129;01mand\u001B[39;00m dense_output\n\u001B[1;32m    199\u001B[0m     \u001B[38;5;129;01mand\u001B[39;00m \u001B[38;5;28mhasattr\u001B[39m(ret, \u001B[38;5;124m\"\u001B[39m\u001B[38;5;124mtoarray\u001B[39m\u001B[38;5;124m\"\u001B[39m)\n\u001B[1;32m    200\u001B[0m ):\n\u001B[1;32m    201\u001B[0m     \u001B[38;5;28;01mreturn\u001B[39;00m ret\u001B[38;5;241m.\u001B[39mtoarray()\n\u001B[1;32m    202\u001B[0m \u001B[38;5;28;01mreturn\u001B[39;00m ret\n",
      "File \u001B[0;32m/opt/anaconda3/envs/FinancialMachineLearning/lib/python3.10/site-packages/scipy/sparse/_base.py:1461\u001B[0m, in \u001B[0;36missparse\u001B[0;34m(x)\u001B[0m\n\u001B[1;32m   1456\u001B[0m     \u001B[38;5;28;01mpass\u001B[39;00m\n\u001B[1;32m   1458\u001B[0m sparray\u001B[38;5;241m.\u001B[39m\u001B[38;5;18m__doc__\u001B[39m \u001B[38;5;241m=\u001B[39m _spbase\u001B[38;5;241m.\u001B[39m\u001B[38;5;18m__doc__\u001B[39m\n\u001B[0;32m-> 1461\u001B[0m \u001B[38;5;28;01mdef\u001B[39;00m \u001B[38;5;21missparse\u001B[39m(x):\n\u001B[1;32m   1462\u001B[0m \u001B[38;5;250m    \u001B[39m\u001B[38;5;124;03m\"\"\"Is `x` of a sparse array type?\u001B[39;00m\n\u001B[1;32m   1463\u001B[0m \n\u001B[1;32m   1464\u001B[0m \u001B[38;5;124;03m    Parameters\u001B[39;00m\n\u001B[0;32m   (...)\u001B[0m\n\u001B[1;32m   1485\u001B[0m \u001B[38;5;124;03m    False\u001B[39;00m\n\u001B[1;32m   1486\u001B[0m \u001B[38;5;124;03m    \"\"\"\u001B[39;00m\n\u001B[1;32m   1487\u001B[0m     \u001B[38;5;28;01mreturn\u001B[39;00m \u001B[38;5;28misinstance\u001B[39m(x, _spbase)\n",
      "\u001B[0;31mKeyboardInterrupt\u001B[0m: "
     ]
    }
   ],
   "source": [
    "from tqdm import tqdm\n",
    "\n",
    "for i in tqdm(range(num_sims)) :\n",
    "    mu1, cov1 = empirical_covariance_matrix(mu0, cov0, num_observation, shrink = shrink)\n",
    "    if minVarPortf : mu1 = None\n",
    "    w1['weight'+str(i)] = optimizing_portfolio(cov1, mu1).flatten()\n",
    "    w1_d['weight'+str(i)] = nested_clustered_optimization(\n",
    "        cov1, mu1, int(cov1.shape[0] / 2)\n",
    "    ).flatten()"
   ],
   "metadata": {
    "collapsed": false,
    "ExecuteTime": {
     "end_time": "2024-03-10T13:31:41.024066Z",
     "start_time": "2024-03-10T13:02:02.983499Z"
    }
   },
   "id": "6c8046d7b11b49e4",
   "execution_count": 108
  },
  {
   "cell_type": "code",
   "outputs": [
    {
     "data": {
      "text/plain": "<Figure size 640x480 with 1 Axes>",
      "image/png": "[encoded data removed]"
     },
     "metadata": {},
     "output_type": "display_data"
    }
   ],
   "source": [
    "plt.plot(w1[0])\n",
    "plt.grid(False)\n",
    "plt.show()"
   ],
   "metadata": {
    "collapsed": false,
    "ExecuteTime": {
     "end_time": "2024-03-09T16:46:09.510569Z",
     "start_time": "2024-03-09T16:46:09.368395Z"
    }
   },
   "id": "da6e8b0882a3da29",
   "execution_count": 40
  },
  {
   "cell_type": "code",
   "outputs": [],
   "source": [
    "mu1, cov1 = empirical_covariance_matrix(mu0, cov0, num_observation, shrink = shrink)"
   ],
   "metadata": {
    "collapsed": false,
    "ExecuteTime": {
     "end_time": "2024-03-09T16:47:19.608735Z",
     "start_time": "2024-03-09T16:47:19.324439Z"
    }
   },
   "id": "187293f279214bb2",
   "execution_count": 44
  },
  {
   "cell_type": "code",
   "outputs": [
    {
     "data": {
      "text/plain": "<Figure size 640x480 with 1 Axes>",
      "image/png": "[encoded data removed]"
     },
     "metadata": {},
     "output_type": "display_data"
    }
   ],
   "source": [
    "sns.histplot(mu1, bins = 100, edgecolor = 'none', kde = True)\n",
    "plt.grid(False)\n",
    "plt.show()"
   ],
   "metadata": {
    "collapsed": false,
    "ExecuteTime": {
     "end_time": "2024-03-09T16:49:29.196800Z",
     "start_time": "2024-03-09T16:49:28.941638Z"
    }
   },
   "id": "ca546d849c91f23",
   "execution_count": 53
  },
  {
   "cell_type": "code",
   "outputs": [],
   "source": [],
   "metadata": {
    "collapsed": false
   },
   "id": "312c55e3c4bca096"
  }
 ],
 "metadata": {
  "kernelspec": {
   "display_name": "Python 3",
   "language": "python",
   "name": "python3"
  },
  "language_info": {
   "codemirror_mode": {
    "name": "ipython",
    "version": 2
   },
   "file_extension": ".py",
   "mimetype": "text/x-python",
   "name": "python",
   "nbconvert_exporter": "python",
   "pygments_lexer": "ipython2",
   "version": "2.7.6"
  }
 },
 "nbformat": 4,
 "nbformat_minor": 5
}
