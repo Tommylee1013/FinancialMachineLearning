{
 "cells": [
  {
   "cell_type": "markdown",
   "source": [
    "### Kelly criterion and position sizing\n",
    "\n",
    "reference : Hudson theme - working papers"
   ],
   "metadata": {
    "collapsed": false
   },
   "id": "fbbedb560df2e909"
  },
  {
   "cell_type": "markdown",
   "source": [
    "#### Data import"
   ],
   "metadata": {
    "collapsed": false
   },
   "id": "ef548561c4b29d50"
  },
  {
   "cell_type": "code",
   "execution_count": 1,
   "id": "initial_id",
   "metadata": {
    "collapsed": true,
    "ExecuteTime": {
     "end_time": "2024-01-14T15:40:38.152926Z",
     "start_time": "2024-01-14T15:40:37.606574Z"
    }
   },
   "outputs": [],
   "source": [
    "import numpy as np\n",
    "import pandas as pd\n",
    "import warnings\n",
    "warnings.filterwarnings('ignore')\n",
    "from matplotlib import pyplot as plt"
   ]
  },
  {
   "cell_type": "code",
   "execution_count": 2,
   "outputs": [
    {
     "data": {
      "text/plain": "                rets  flags  target  target_rets  pmodel     prets     rets2  \\\n1996-09-16  0.017992      0     0.0    -0.011306       1  0.000000 -0.001710   \n1996-09-17 -0.011306      0     0.0    -0.023230       0 -0.011306  0.017992   \n1996-09-18 -0.023230      0     1.0     0.003880       0 -0.000000 -0.011306   \n1996-09-19  0.003880      0     1.0     0.017922       1  0.000000 -0.023230   \n1996-09-20  0.017922      0     0.0    -0.011900       1  0.017922  0.003880   \n\n               rets3  regime  pred      prob  prob_iso  pred_iso  \n1996-09-16 -0.024446     0.0     0  0.483883  0.359934         0  \n1996-09-17 -0.001710     0.0     0  0.000000  0.000000         0  \n1996-09-18  0.017992     0.0     0  0.000000  0.000000         0  \n1996-09-19 -0.011306     0.0     1  0.539161  0.506199         1  \n1996-09-20 -0.023230     0.0     0  0.480208  0.351600         0  ",
      "text/html": "<div>\n<style scoped>\n    .dataframe tbody tr th:only-of-type {\n        vertical-align: middle;\n    }\n\n    .dataframe tbody tr th {\n        vertical-align: top;\n    }\n\n    .dataframe thead th {\n        text-align: right;\n    }\n</style>\n<table border=\"1\" class=\"dataframe\">\n  <thead>\n    <tr style=\"text-align: right;\">\n      <th></th>\n      <th>rets</th>\n      <th>flags</th>\n      <th>target</th>\n      <th>target_rets</th>\n      <th>pmodel</th>\n      <th>prets</th>\n      <th>rets2</th>\n      <th>rets3</th>\n      <th>regime</th>\n      <th>pred</th>\n      <th>prob</th>\n      <th>prob_iso</th>\n      <th>pred_iso</th>\n    </tr>\n  </thead>\n  <tbody>\n    <tr>\n      <th>1996-09-16</th>\n      <td>0.017992</td>\n      <td>0</td>\n      <td>0.0</td>\n      <td>-0.011306</td>\n      <td>1</td>\n      <td>0.000000</td>\n      <td>-0.001710</td>\n      <td>-0.024446</td>\n      <td>0.0</td>\n      <td>0</td>\n      <td>0.483883</td>\n      <td>0.359934</td>\n      <td>0</td>\n    </tr>\n    <tr>\n      <th>1996-09-17</th>\n      <td>-0.011306</td>\n      <td>0</td>\n      <td>0.0</td>\n      <td>-0.023230</td>\n      <td>0</td>\n      <td>-0.011306</td>\n      <td>0.017992</td>\n      <td>-0.001710</td>\n      <td>0.0</td>\n      <td>0</td>\n      <td>0.000000</td>\n      <td>0.000000</td>\n      <td>0</td>\n    </tr>\n    <tr>\n      <th>1996-09-18</th>\n      <td>-0.023230</td>\n      <td>0</td>\n      <td>1.0</td>\n      <td>0.003880</td>\n      <td>0</td>\n      <td>-0.000000</td>\n      <td>-0.011306</td>\n      <td>0.017992</td>\n      <td>0.0</td>\n      <td>0</td>\n      <td>0.000000</td>\n      <td>0.000000</td>\n      <td>0</td>\n    </tr>\n    <tr>\n      <th>1996-09-19</th>\n      <td>0.003880</td>\n      <td>0</td>\n      <td>1.0</td>\n      <td>0.017922</td>\n      <td>1</td>\n      <td>0.000000</td>\n      <td>-0.023230</td>\n      <td>-0.011306</td>\n      <td>0.0</td>\n      <td>1</td>\n      <td>0.539161</td>\n      <td>0.506199</td>\n      <td>1</td>\n    </tr>\n    <tr>\n      <th>1996-09-20</th>\n      <td>0.017922</td>\n      <td>0</td>\n      <td>0.0</td>\n      <td>-0.011900</td>\n      <td>1</td>\n      <td>0.017922</td>\n      <td>0.003880</td>\n      <td>-0.023230</td>\n      <td>0.0</td>\n      <td>0</td>\n      <td>0.480208</td>\n      <td>0.351600</td>\n      <td>0</td>\n    </tr>\n  </tbody>\n</table>\n</div>"
     },
     "execution_count": 2,
     "metadata": {},
     "output_type": "execute_result"
    }
   ],
   "source": [
    "data_train = pd.read_csv('train.csv', index_col = 0, parse_dates = True)\n",
    "data_test = pd.read_csv('test.csv', index_col = 0, parse_dates = True)\n",
    "\n",
    "data_train.head()"
   ],
   "metadata": {
    "collapsed": false,
    "ExecuteTime": {
     "end_time": "2024-01-14T15:40:58.349680Z",
     "start_time": "2024-01-14T15:40:58.313174Z"
    }
   },
   "id": "dfc50d77c4f1d8bc"
  },
  {
   "cell_type": "markdown",
   "source": [
    "p model에서 label이 1인 것들만 filtering하여 prob의 histogram을 살펴보자"
   ],
   "metadata": {
    "collapsed": false
   },
   "id": "377677a4644a3261"
  },
  {
   "cell_type": "code",
   "execution_count": 3,
   "outputs": [],
   "source": [
    "data = data_train[data_train['pmodel'] == 1]"
   ],
   "metadata": {
    "collapsed": false,
    "ExecuteTime": {
     "end_time": "2024-01-14T15:41:28.583852Z",
     "start_time": "2024-01-14T15:41:28.569292Z"
    }
   },
   "id": "115fc88c29397a66"
  },
  {
   "cell_type": "code",
   "execution_count": 8,
   "outputs": [
    {
     "data": {
      "text/plain": "<Figure size 600x400 with 1 Axes>",
      "image/png": "[encoded data removed]"
     },
     "metadata": {},
     "output_type": "display_data"
    }
   ],
   "source": [
    "plt.figure(figsize = (6, 4))\n",
    "plt.hist(data['prob'], color = 'darkorange', alpha = 0.7, bins = 50)\n",
    "plt.title('Meta model output : Train set')\n",
    "plt.xlabel('Model output')\n",
    "plt.ylabel('Frequency')\n",
    "plt.grid(False)\n",
    "plt.vlines(x = 0.5, ymin = 0, ymax = 220, colors = 'red', linestyles = '--', alpha = 0.8)\n",
    "plt.show()"
   ],
   "metadata": {
    "collapsed": false,
    "ExecuteTime": {
     "end_time": "2024-01-14T15:44:28.414236Z",
     "start_time": "2024-01-14T15:44:28.343115Z"
    }
   },
   "id": "28498b745025ebcc"
  },
  {
   "cell_type": "code",
   "execution_count": null,
   "outputs": [],
   "source": [],
   "metadata": {
    "collapsed": false
   },
   "id": "44de76ac124c0f2b"
  }
 ],
 "metadata": {
  "kernelspec": {
   "display_name": "Python 3",
   "language": "python",
   "name": "python3"
  },
  "language_info": {
   "codemirror_mode": {
    "name": "ipython",
    "version": 2
   },
   "file_extension": ".py",
   "mimetype": "text/x-python",
   "name": "python",
   "nbconvert_exporter": "python",
   "pygments_lexer": "ipython2",
   "version": "2.7.6"
  }
 },
 "nbformat": 4,
 "nbformat_minor": 5
}
