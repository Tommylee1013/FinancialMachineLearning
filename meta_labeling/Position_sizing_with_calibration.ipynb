{
 "cells": [
  {
   "cell_type": "markdown",
   "source": [
    "### Position sizing with calibration\n",
    "\n",
    "requirements : pandas 2.1.4, numpy 1.26.3"
   ],
   "metadata": {
    "collapsed": false
   },
   "id": "b5a4f5f680907de3"
  },
  {
   "cell_type": "code",
   "execution_count": 2,
   "id": "initial_id",
   "metadata": {
    "collapsed": true,
    "ExecuteTime": {
     "end_time": "2024-01-12T15:18:25.414440Z",
     "start_time": "2024-01-12T15:18:25.410133Z"
    }
   },
   "outputs": [],
   "source": [
    "import numpy as np\n",
    "import pandas as pd\n",
    "import quantstats as qs\n",
    "\n",
    "from scipy.stats import norm\n",
    "from scipy.optimize import minimize\n",
    "\n",
    "from statsmodels.distributions.empirical_distribution import ECDF\n",
    "\n",
    "from sklearn.model_selection import train_test_split\n",
    "from sklearn.linear_model import LogisticRegression\n",
    "from sklearn.metrics import make_scorer\n",
    "from sklearn.calibration import CalibratedClassifierCV\n",
    "from sklearn.preprocessing import StandardScaler\n",
    "\n",
    "from FinancialMachineLearning.generator.stochasticprocess import RegimeGenerator\n",
    "from FinancialMachineLearning.metrics.metrics import *"
   ]
  },
  {
   "cell_type": "code",
   "execution_count": 3,
   "outputs": [],
   "source": [
    "mean_abs_scorer = make_scorer(mean_abs_error, greater_is_better=False)"
   ],
   "metadata": {
    "collapsed": false,
    "ExecuteTime": {
     "end_time": "2024-01-12T15:18:26.262789Z",
     "start_time": "2024-01-12T15:18:26.249102Z"
    }
   },
   "id": "c9169581475115d"
  },
  {
   "cell_type": "markdown",
   "source": [
    "Data Prep"
   ],
   "metadata": {
    "collapsed": false
   },
   "id": "1ea7ac3581b3e821"
  },
  {
   "cell_type": "code",
   "execution_count": 6,
   "outputs": [],
   "source": [
    "steps = 10000\n",
    "prob_switch = 0.20\n",
    "stdev = 0.014543365294448746\n",
    "\n",
    "regime = RegimeGenerator(\n",
    "    init_ar = (0.032, 0.020, -0.042),\n",
    "    inner_steps = 30,\n",
    "    phi_positive = (0.25, -0.20, 0.35),\n",
    "    phi_negative = (-0.25, 0.20, -0.35),\n",
    "    standard_deviation = stdev\n",
    ")"
   ],
   "metadata": {
    "collapsed": false,
    "ExecuteTime": {
     "end_time": "2024-01-12T15:21:02.226769Z",
     "start_time": "2024-01-12T15:21:02.221856Z"
    }
   },
   "id": "1b4ebc4f9b52dbbf"
  },
  {
   "cell_type": "code",
   "execution_count": 7,
   "outputs": [],
   "source": [
    "data = regime.dual_regime(total_steps = steps, prob_switch = prob_switch)"
   ],
   "metadata": {
    "collapsed": false,
    "ExecuteTime": {
     "end_time": "2024-01-12T15:21:17.007610Z",
     "start_time": "2024-01-12T15:21:16.954348Z"
    }
   },
   "id": "1f91c10ba2086cd4"
  },
  {
   "cell_type": "code",
   "execution_count": 11,
   "outputs": [],
   "source": [
    "model_data, data = regime.prep_data(with_flags = True)"
   ],
   "metadata": {
    "collapsed": false,
    "ExecuteTime": {
     "end_time": "2024-01-12T15:22:57.109037Z",
     "start_time": "2024-01-12T15:22:57.088344Z"
    }
   },
   "id": "9d4ee5877c603084"
  },
  {
   "cell_type": "code",
   "execution_count": 13,
   "outputs": [
    {
     "data": {
      "text/plain": "                rets  flags  target  target_rets  pmodel     prets     rets2  \\\n1996-09-17  0.014217      0     0.0    -0.005655       1  0.000000 -0.003034   \n1996-09-20  0.015376      0     1.0     0.024036       1  0.000000 -0.023721   \n1996-09-21  0.024036      0     0.0    -0.021904       1  0.024036  0.015376   \n1996-09-25  0.002590      0     1.0     0.025072       1  0.000000 -0.008430   \n1996-09-26  0.025072      0     0.0    -0.017392       1  0.025072  0.002590   \n\n               rets3  regime  \n1996-09-17 -0.006527     0.0  \n1996-09-20 -0.005655     0.0  \n1996-09-21 -0.023721     0.0  \n1996-09-25 -0.019392     0.0  \n1996-09-26 -0.008430     0.0  ",
      "text/html": "<div>\n<style scoped>\n    .dataframe tbody tr th:only-of-type {\n        vertical-align: middle;\n    }\n\n    .dataframe tbody tr th {\n        vertical-align: top;\n    }\n\n    .dataframe thead th {\n        text-align: right;\n    }\n</style>\n<table border=\"1\" class=\"dataframe\">\n  <thead>\n    <tr style=\"text-align: right;\">\n      <th></th>\n      <th>rets</th>\n      <th>flags</th>\n      <th>target</th>\n      <th>target_rets</th>\n      <th>pmodel</th>\n      <th>prets</th>\n      <th>rets2</th>\n      <th>rets3</th>\n      <th>regime</th>\n    </tr>\n  </thead>\n  <tbody>\n    <tr>\n      <th>1996-09-17</th>\n      <td>0.014217</td>\n      <td>0</td>\n      <td>0.0</td>\n      <td>-0.005655</td>\n      <td>1</td>\n      <td>0.000000</td>\n      <td>-0.003034</td>\n      <td>-0.006527</td>\n      <td>0.0</td>\n    </tr>\n    <tr>\n      <th>1996-09-20</th>\n      <td>0.015376</td>\n      <td>0</td>\n      <td>1.0</td>\n      <td>0.024036</td>\n      <td>1</td>\n      <td>0.000000</td>\n      <td>-0.023721</td>\n      <td>-0.005655</td>\n      <td>0.0</td>\n    </tr>\n    <tr>\n      <th>1996-09-21</th>\n      <td>0.024036</td>\n      <td>0</td>\n      <td>0.0</td>\n      <td>-0.021904</td>\n      <td>1</td>\n      <td>0.024036</td>\n      <td>0.015376</td>\n      <td>-0.023721</td>\n      <td>0.0</td>\n    </tr>\n    <tr>\n      <th>1996-09-25</th>\n      <td>0.002590</td>\n      <td>0</td>\n      <td>1.0</td>\n      <td>0.025072</td>\n      <td>1</td>\n      <td>0.000000</td>\n      <td>-0.008430</td>\n      <td>-0.019392</td>\n      <td>0.0</td>\n    </tr>\n    <tr>\n      <th>1996-09-26</th>\n      <td>0.025072</td>\n      <td>0</td>\n      <td>0.0</td>\n      <td>-0.017392</td>\n      <td>1</td>\n      <td>0.025072</td>\n      <td>0.002590</td>\n      <td>-0.008430</td>\n      <td>0.0</td>\n    </tr>\n  </tbody>\n</table>\n</div>"
     },
     "execution_count": 13,
     "metadata": {},
     "output_type": "execute_result"
    }
   ],
   "source": [
    "model_data.head()"
   ],
   "metadata": {
    "collapsed": false,
    "ExecuteTime": {
     "end_time": "2024-01-12T15:23:09.442785Z",
     "start_time": "2024-01-12T15:23:09.433498Z"
    }
   },
   "id": "a7edd4b4f149f29e"
  },
  {
   "cell_type": "code",
   "execution_count": 14,
   "outputs": [
    {
     "data": {
      "text/plain": "                rets  flags  target  target_rets  pmodel     prets     rets2  \\\n1996-09-08 -0.004531      0     1.0     0.027761       0 -0.000000       NaN   \n1996-09-09  0.027761      0     1.0     0.008268       1  0.000000 -0.004531   \n1996-09-10  0.008268      0     0.0    -0.024143       1  0.008268  0.027761   \n1996-09-11 -0.024143      0     0.0    -0.014699       0 -0.024143  0.008268   \n1996-09-12 -0.014699      0     0.0    -0.003878       0 -0.000000 -0.024143   \n\n               rets3  regime  \n1996-09-08       NaN     NaN  \n1996-09-09       NaN     NaN  \n1996-09-10 -0.004531     NaN  \n1996-09-11  0.027761     NaN  \n1996-09-12  0.008268     NaN  ",
      "text/html": "<div>\n<style scoped>\n    .dataframe tbody tr th:only-of-type {\n        vertical-align: middle;\n    }\n\n    .dataframe tbody tr th {\n        vertical-align: top;\n    }\n\n    .dataframe thead th {\n        text-align: right;\n    }\n</style>\n<table border=\"1\" class=\"dataframe\">\n  <thead>\n    <tr style=\"text-align: right;\">\n      <th></th>\n      <th>rets</th>\n      <th>flags</th>\n      <th>target</th>\n      <th>target_rets</th>\n      <th>pmodel</th>\n      <th>prets</th>\n      <th>rets2</th>\n      <th>rets3</th>\n      <th>regime</th>\n    </tr>\n  </thead>\n  <tbody>\n    <tr>\n      <th>1996-09-08</th>\n      <td>-0.004531</td>\n      <td>0</td>\n      <td>1.0</td>\n      <td>0.027761</td>\n      <td>0</td>\n      <td>-0.000000</td>\n      <td>NaN</td>\n      <td>NaN</td>\n      <td>NaN</td>\n    </tr>\n    <tr>\n      <th>1996-09-09</th>\n      <td>0.027761</td>\n      <td>0</td>\n      <td>1.0</td>\n      <td>0.008268</td>\n      <td>1</td>\n      <td>0.000000</td>\n      <td>-0.004531</td>\n      <td>NaN</td>\n      <td>NaN</td>\n    </tr>\n    <tr>\n      <th>1996-09-10</th>\n      <td>0.008268</td>\n      <td>0</td>\n      <td>0.0</td>\n      <td>-0.024143</td>\n      <td>1</td>\n      <td>0.008268</td>\n      <td>0.027761</td>\n      <td>-0.004531</td>\n      <td>NaN</td>\n    </tr>\n    <tr>\n      <th>1996-09-11</th>\n      <td>-0.024143</td>\n      <td>0</td>\n      <td>0.0</td>\n      <td>-0.014699</td>\n      <td>0</td>\n      <td>-0.024143</td>\n      <td>0.008268</td>\n      <td>0.027761</td>\n      <td>NaN</td>\n    </tr>\n    <tr>\n      <th>1996-09-12</th>\n      <td>-0.014699</td>\n      <td>0</td>\n      <td>0.0</td>\n      <td>-0.003878</td>\n      <td>0</td>\n      <td>-0.000000</td>\n      <td>-0.024143</td>\n      <td>0.008268</td>\n      <td>NaN</td>\n    </tr>\n  </tbody>\n</table>\n</div>"
     },
     "execution_count": 14,
     "metadata": {},
     "output_type": "execute_result"
    }
   ],
   "source": [
    "data.head()"
   ],
   "metadata": {
    "collapsed": false,
    "ExecuteTime": {
     "end_time": "2024-01-12T15:23:13.187108Z",
     "start_time": "2024-01-12T15:23:13.170242Z"
    }
   },
   "id": "cbfb0f84e4c3e4ce"
  },
  {
   "cell_type": "markdown",
   "source": [
    "#### Modeling"
   ],
   "metadata": {
    "collapsed": false
   },
   "id": "c21e5d729cdac926"
  },
  {
   "cell_type": "code",
   "execution_count": 16,
   "outputs": [],
   "source": [
    "train, test = train_test_split(model_data, test_size = 0.4, shuffle = False)"
   ],
   "metadata": {
    "collapsed": false,
    "ExecuteTime": {
     "end_time": "2024-01-12T15:27:14.833615Z",
     "start_time": "2024-01-12T15:27:14.825169Z"
    }
   },
   "id": "b6f545f42a172a76"
  },
  {
   "cell_type": "code",
   "execution_count": 17,
   "outputs": [],
   "source": [
    "X_train_regime = train[['rets', 'rets2', 'rets3', 'regime']]\n",
    "X_test_regime = test[['rets', 'rets2', 'rets3', 'regime']]\n",
    "\n",
    "y_train = train['target']\n",
    "y_test = test['target']"
   ],
   "metadata": {
    "collapsed": false,
    "ExecuteTime": {
     "end_time": "2024-01-12T15:28:42.418743Z",
     "start_time": "2024-01-12T15:28:42.402461Z"
    }
   },
   "id": "fb3f6073a13f3d7c"
  },
  {
   "cell_type": "markdown",
   "source": [
    "Add `standardScalar` as a best practice although in this setting its not really needed. `Logistic regression` is a convex optimisation problem and the global minima is always found.\n",
    "\n",
    "only scale r1, 2, 3 - regime is left unscaled. (derived by hudson theme)"
   ],
   "metadata": {
    "collapsed": false
   },
   "id": "420c17ad1acd8280"
  },
  {
   "cell_type": "code",
   "execution_count": 18,
   "outputs": [],
   "source": [
    "scaler = StandardScaler()\n",
    "\n",
    "X_train_regime_scaled = scaler.fit_transform(X_train_regime[['rets','rets2','rets3']])\n",
    "regime = X_train_regime['regime'].values.reshape((-1, 1))\n",
    "X_train_regime_scaled = np.append(X_train_regime_scaled, regime, axis = 1)"
   ],
   "metadata": {
    "collapsed": false,
    "ExecuteTime": {
     "end_time": "2024-01-12T15:32:08.758881Z",
     "start_time": "2024-01-12T15:32:08.750967Z"
    }
   },
   "id": "c7b420d6a85d0887"
  },
  {
   "cell_type": "code",
   "execution_count": 19,
   "outputs": [],
   "source": [
    "X_test_regime_scaled = scaler.transform(X_test_regime[['rets', 'rets2', 'rets3']])\n",
    "regime = X_test_regime['regime'].values.reshape((-1, 1))\n",
    "X_test_regime_scaled = np.append(X_test_regime_scaled, regime, axis=1)"
   ],
   "metadata": {
    "collapsed": false,
    "ExecuteTime": {
     "end_time": "2024-01-12T15:32:23.392753Z",
     "start_time": "2024-01-12T15:32:23.368228Z"
    }
   },
   "id": "63a1812819d1db2f"
  },
  {
   "cell_type": "markdown",
   "source": [
    "#### Calibration\n",
    "\n",
    "first, consider logistic regression case"
   ],
   "metadata": {
    "collapsed": false
   },
   "id": "38da6f60396a9dce"
  },
  {
   "cell_type": "code",
   "execution_count": 23,
   "outputs": [],
   "source": [
    "meta_model_regime = LogisticRegression(random_state = 0, penalty = None)"
   ],
   "metadata": {
    "collapsed": false,
    "ExecuteTime": {
     "end_time": "2024-01-12T15:38:28.666588Z",
     "start_time": "2024-01-12T15:38:28.659514Z"
    }
   },
   "id": "c51b23ab25f6617e"
  },
  {
   "cell_type": "markdown",
   "source": [
    "Create calibrator which will use the base logistic model from above"
   ],
   "metadata": {
    "collapsed": false
   },
   "id": "ab8b447b3f130ca4"
  },
  {
   "cell_type": "code",
   "execution_count": 24,
   "outputs": [
    {
     "data": {
      "text/plain": "CalibratedClassifierCV(cv=5,\n                       estimator=LogisticRegression(penalty=None,\n                                                    random_state=0),\n                       method='isotonic', n_jobs=-1)",
      "text/html": "<style>#sk-container-id-3 {color: black;}#sk-container-id-3 pre{padding: 0;}#sk-container-id-3 div.sk-toggleable {background-color: white;}#sk-container-id-3 label.sk-toggleable__label {cursor: pointer;display: block;width: 100%;margin-bottom: 0;padding: 0.3em;box-sizing: border-box;text-align: center;}#sk-container-id-3 label.sk-toggleable__label-arrow:before {content: \"▸\";float: left;margin-right: 0.25em;color: #696969;}#sk-container-id-3 label.sk-toggleable__label-arrow:hover:before {color: black;}#sk-container-id-3 div.sk-estimator:hover label.sk-toggleable__label-arrow:before {color: black;}#sk-container-id-3 div.sk-toggleable__content {max-height: 0;max-width: 0;overflow: hidden;text-align: left;background-color: #f0f8ff;}#sk-container-id-3 div.sk-toggleable__content pre {margin: 0.2em;color: black;border-radius: 0.25em;background-color: #f0f8ff;}#sk-container-id-3 input.sk-toggleable__control:checked~div.sk-toggleable__content {max-height: 200px;max-width: 100%;overflow: auto;}#sk-container-id-3 input.sk-toggleable__control:checked~label.sk-toggleable__label-arrow:before {content: \"▾\";}#sk-container-id-3 div.sk-estimator input.sk-toggleable__control:checked~label.sk-toggleable__label {background-color: #d4ebff;}#sk-container-id-3 div.sk-label input.sk-toggleable__control:checked~label.sk-toggleable__label {background-color: #d4ebff;}#sk-container-id-3 input.sk-hidden--visually {border: 0;clip: rect(1px 1px 1px 1px);clip: rect(1px, 1px, 1px, 1px);height: 1px;margin: -1px;overflow: hidden;padding: 0;position: absolute;width: 1px;}#sk-container-id-3 div.sk-estimator {font-family: monospace;background-color: #f0f8ff;border: 1px dotted black;border-radius: 0.25em;box-sizing: border-box;margin-bottom: 0.5em;}#sk-container-id-3 div.sk-estimator:hover {background-color: #d4ebff;}#sk-container-id-3 div.sk-parallel-item::after {content: \"\";width: 100%;border-bottom: 1px solid gray;flex-grow: 1;}#sk-container-id-3 div.sk-label:hover label.sk-toggleable__label {background-color: #d4ebff;}#sk-container-id-3 div.sk-serial::before {content: \"\";position: absolute;border-left: 1px solid gray;box-sizing: border-box;top: 0;bottom: 0;left: 50%;z-index: 0;}#sk-container-id-3 div.sk-serial {display: flex;flex-direction: column;align-items: center;background-color: white;padding-right: 0.2em;padding-left: 0.2em;position: relative;}#sk-container-id-3 div.sk-item {position: relative;z-index: 1;}#sk-container-id-3 div.sk-parallel {display: flex;align-items: stretch;justify-content: center;background-color: white;position: relative;}#sk-container-id-3 div.sk-item::before, #sk-container-id-3 div.sk-parallel-item::before {content: \"\";position: absolute;border-left: 1px solid gray;box-sizing: border-box;top: 0;bottom: 0;left: 50%;z-index: -1;}#sk-container-id-3 div.sk-parallel-item {display: flex;flex-direction: column;z-index: 1;position: relative;background-color: white;}#sk-container-id-3 div.sk-parallel-item:first-child::after {align-self: flex-end;width: 50%;}#sk-container-id-3 div.sk-parallel-item:last-child::after {align-self: flex-start;width: 50%;}#sk-container-id-3 div.sk-parallel-item:only-child::after {width: 0;}#sk-container-id-3 div.sk-dashed-wrapped {border: 1px dashed gray;margin: 0 0.4em 0.5em 0.4em;box-sizing: border-box;padding-bottom: 0.4em;background-color: white;}#sk-container-id-3 div.sk-label label {font-family: monospace;font-weight: bold;display: inline-block;line-height: 1.2em;}#sk-container-id-3 div.sk-label-container {text-align: center;}#sk-container-id-3 div.sk-container {/* jupyter's `normalize.less` sets `[hidden] { display: none; }` but bootstrap.min.css set `[hidden] { display: none !important; }` so we also need the `!important` here to be able to override the default hidden behavior on the sphinx rendered scikit-learn.org. See: https://github.com/scikit-learn/scikit-learn/issues/21755 */display: inline-block !important;position: relative;}#sk-container-id-3 div.sk-text-repr-fallback {display: none;}</style><div id=\"sk-container-id-3\" class=\"sk-top-container\"><div class=\"sk-text-repr-fallback\"><pre>CalibratedClassifierCV(cv=5,\n                       estimator=LogisticRegression(penalty=None,\n                                                    random_state=0),\n                       method=&#x27;isotonic&#x27;, n_jobs=-1)</pre><b>In a Jupyter environment, please rerun this cell to show the HTML representation or trust the notebook. <br />On GitHub, the HTML representation is unable to render, please try loading this page with nbviewer.org.</b></div><div class=\"sk-container\" hidden><div class=\"sk-item sk-dashed-wrapped\"><div class=\"sk-label-container\"><div class=\"sk-label sk-toggleable\"><input class=\"sk-toggleable__control sk-hidden--visually\" id=\"sk-estimator-id-7\" type=\"checkbox\" ><label for=\"sk-estimator-id-7\" class=\"sk-toggleable__label sk-toggleable__label-arrow\">CalibratedClassifierCV</label><div class=\"sk-toggleable__content\"><pre>CalibratedClassifierCV(cv=5,\n                       estimator=LogisticRegression(penalty=None,\n                                                    random_state=0),\n                       method=&#x27;isotonic&#x27;, n_jobs=-1)</pre></div></div></div><div class=\"sk-parallel\"><div class=\"sk-parallel-item\"><div class=\"sk-item\"><div class=\"sk-label-container\"><div class=\"sk-label sk-toggleable\"><input class=\"sk-toggleable__control sk-hidden--visually\" id=\"sk-estimator-id-8\" type=\"checkbox\" ><label for=\"sk-estimator-id-8\" class=\"sk-toggleable__label sk-toggleable__label-arrow\">estimator: LogisticRegression</label><div class=\"sk-toggleable__content\"><pre>LogisticRegression(penalty=None, random_state=0)</pre></div></div></div><div class=\"sk-serial\"><div class=\"sk-item\"><div class=\"sk-estimator sk-toggleable\"><input class=\"sk-toggleable__control sk-hidden--visually\" id=\"sk-estimator-id-9\" type=\"checkbox\" ><label for=\"sk-estimator-id-9\" class=\"sk-toggleable__label sk-toggleable__label-arrow\">LogisticRegression</label><div class=\"sk-toggleable__content\"><pre>LogisticRegression(penalty=None, random_state=0)</pre></div></div></div></div></div></div></div></div></div></div>"
     },
     "execution_count": 24,
     "metadata": {},
     "output_type": "execute_result"
    }
   ],
   "source": [
    "calibrated_model_isotonic = CalibratedClassifierCV(\n",
    "    estimator = meta_model_regime,\n",
    "    method = 'isotonic', \n",
    "    cv = 5, n_jobs = -1, ensemble = True)\n",
    "calibrated_model_isotonic.fit(X_train_regime_scaled, y_train)"
   ],
   "metadata": {
    "collapsed": false,
    "ExecuteTime": {
     "end_time": "2024-01-12T15:38:29.524442Z",
     "start_time": "2024-01-12T15:38:29.443123Z"
    }
   },
   "id": "bd85811662f2f26e"
  },
  {
   "cell_type": "markdown",
   "source": [
    "Get iso model train probs, and return pandas Series with index as date."
   ],
   "metadata": {
    "collapsed": false
   },
   "id": "ef1756c84478ea2"
  },
  {
   "cell_type": "code",
   "execution_count": 25,
   "outputs": [],
   "source": [
    "prob_isotonic_train = calibrated_model_isotonic.predict_proba(X_train_regime_scaled)[:, 1]\n",
    "prob_isotonic_train = pd.Series(prob_isotonic_train, index = X_train_regime.index)"
   ],
   "metadata": {
    "collapsed": false,
    "ExecuteTime": {
     "end_time": "2024-01-12T15:38:53.125440Z",
     "start_time": "2024-01-12T15:38:53.050862Z"
    }
   },
   "id": "ad8fd40d8cd5f3f5"
  },
  {
   "cell_type": "markdown",
   "source": [
    "Get unscaled prob from secondary model, i.e., the Logistic Regression."
   ],
   "metadata": {
    "collapsed": false
   },
   "id": "77417eb3c6e90699"
  },
  {
   "cell_type": "code",
   "execution_count": 27,
   "outputs": [],
   "source": [
    "prob_train = np.array([cmodel.estimator.predict_proba(X_train_regime_scaled)[:, 1] \n",
    "                       for cmodel in calibrated_model_isotonic.calibrated_classifiers_]).mean(axis = 0)"
   ],
   "metadata": {
    "collapsed": false,
    "ExecuteTime": {
     "end_time": "2024-01-12T15:39:41.831513Z",
     "start_time": "2024-01-12T15:39:41.681951Z"
    }
   },
   "id": "8322e57b16704481"
  },
  {
   "cell_type": "markdown",
   "source": [
    "Get base model train scores"
   ],
   "metadata": {
    "collapsed": false
   },
   "id": "bcce1230998da3f7"
  },
  {
   "cell_type": "code",
   "execution_count": 28,
   "outputs": [
    {
     "data": {
      "text/plain": "1996-09-17    0.536269\n1996-09-20    0.541156\n1996-09-21    0.487835\n1996-09-25    0.510284\n1996-09-26    0.526647\ndtype: float64"
     },
     "execution_count": 28,
     "metadata": {},
     "output_type": "execute_result"
    }
   ],
   "source": [
    "prob_train = pd.Series(prob_train, index = X_train_regime.index)\n",
    "prob_train.head()"
   ],
   "metadata": {
    "collapsed": false,
    "ExecuteTime": {
     "end_time": "2024-01-12T15:40:00.162621Z",
     "start_time": "2024-01-12T15:40:00.141877Z"
    }
   },
   "id": "e89c8a5594d0102f"
  },
  {
   "cell_type": "markdown",
   "source": [
    "Check that the base model and calibrated models align"
   ],
   "metadata": {
    "collapsed": false
   },
   "id": "36677b0a27ac52b1"
  },
  {
   "cell_type": "code",
   "execution_count": 29,
   "outputs": [],
   "source": [
    "assert(prob_train.shape == prob_isotonic_train.shape)"
   ],
   "metadata": {
    "collapsed": false,
    "ExecuteTime": {
     "end_time": "2024-01-12T15:40:20.039351Z",
     "start_time": "2024-01-12T15:40:20.021104Z"
    }
   },
   "id": "4344d4ef6d364334"
  },
  {
   "cell_type": "markdown",
   "source": [
    "Get iso model test scores, and return pandas Series with index as date."
   ],
   "metadata": {
    "collapsed": false
   },
   "id": "7e8880e47fe59878"
  },
  {
   "cell_type": "code",
   "execution_count": 32,
   "outputs": [
    {
     "data": {
      "text/plain": "2012-12-21    0.660353\n2012-12-22    0.520090\n2012-12-25    0.544887\n2012-12-28    0.504123\n2012-12-29    0.480749\ndtype: float64"
     },
     "execution_count": 32,
     "metadata": {},
     "output_type": "execute_result"
    }
   ],
   "source": [
    "prob_isotonic_test = calibrated_model_isotonic.predict_proba(X_test_regime_scaled)[:, 1]\n",
    "prob_isotonic_test = pd.Series(prob_isotonic_test, index = X_test_regime.index)\n",
    "prob_isotonic_test.head()"
   ],
   "metadata": {
    "collapsed": false,
    "ExecuteTime": {
     "end_time": "2024-01-12T15:40:50.390825Z",
     "start_time": "2024-01-12T15:40:50.378303Z"
    }
   },
   "id": "18a613a387197894"
  },
  {
   "cell_type": "markdown",
   "source": [
    "Get unscaled prob from secondary model, i.e., the Logistic Regression."
   ],
   "metadata": {
    "collapsed": false
   },
   "id": "3177014a35dd7ba9"
  },
  {
   "cell_type": "code",
   "execution_count": 34,
   "outputs": [],
   "source": [
    "prob_test = np.array([cmodel.estimator.predict_proba(X_test_regime_scaled)[:, 1]\n",
    "                      for cmodel in calibrated_model_isotonic.calibrated_classifiers_]).mean(axis=0)"
   ],
   "metadata": {
    "collapsed": false,
    "ExecuteTime": {
     "end_time": "2024-01-12T15:41:15.603368Z",
     "start_time": "2024-01-12T15:41:15.589747Z"
    }
   },
   "id": "e90ff9068f48f339"
  },
  {
   "cell_type": "markdown",
   "source": [
    "Get base model train scores"
   ],
   "metadata": {
    "collapsed": false
   },
   "id": "e23f0d31db412df0"
  },
  {
   "cell_type": "code",
   "execution_count": 35,
   "outputs": [],
   "source": [
    "prob_test = pd.Series(prob_test, index = X_test_regime.index)"
   ],
   "metadata": {
    "collapsed": false,
    "ExecuteTime": {
     "end_time": "2024-01-12T15:41:49.393288Z",
     "start_time": "2024-01-12T15:41:49.359894Z"
    }
   },
   "id": "6e955b02dd40ad61"
  },
  {
   "cell_type": "markdown",
   "source": [
    "Check that the base model and calibrated models align"
   ],
   "metadata": {
    "collapsed": false
   },
   "id": "4f1c65aae7916577"
  },
  {
   "cell_type": "code",
   "execution_count": 36,
   "outputs": [],
   "source": [
    "assert(prob_test.shape == prob_isotonic_test.shape)"
   ],
   "metadata": {
    "collapsed": false,
    "ExecuteTime": {
     "end_time": "2024-01-12T15:44:33.172172Z",
     "start_time": "2024-01-12T15:44:33.149119Z"
    }
   },
   "id": "b0358238ee6eb0f9"
  },
  {
   "cell_type": "markdown",
   "source": [
    "#### Add the calibrated row\n",
    "\n",
    "Add the calibrated and raw probabilities plus the pred to the train and test data sets. first, add proba [0, 1]"
   ],
   "metadata": {
    "collapsed": false
   },
   "id": "ebfc0f34994354d7"
  },
  {
   "cell_type": "code",
   "execution_count": 37,
   "outputs": [],
   "source": [
    "train['prob'] = prob_train\n",
    "train['prob_iso'] = prob_isotonic_train\n",
    "test['prob'] = prob_test\n",
    "test['prob_iso'] = prob_isotonic_test"
   ],
   "metadata": {
    "collapsed": false,
    "ExecuteTime": {
     "end_time": "2024-01-12T15:49:21.382060Z",
     "start_time": "2024-01-12T15:49:21.362759Z"
    }
   },
   "id": "7558bf2c42fa08c7"
  },
  {
   "cell_type": "markdown",
   "source": [
    "add predictions {0, 1}"
   ],
   "metadata": {
    "collapsed": false
   },
   "id": "fb36368972dd442d"
  },
  {
   "cell_type": "code",
   "execution_count": 38,
   "outputs": [],
   "source": [
    "train['pred'] = 0\n",
    "train['pred_iso'] = 0\n",
    "train.loc[prob_train > 0.5, 'pred'] = 1\n",
    "train.loc[prob_isotonic_train > 0.5, 'pred_iso'] = 1\n",
    "\n",
    "test['pred'] = 0\n",
    "test['pred_iso'] = 0\n",
    "test.loc[prob_test > 0.5, 'pred'] = 1\n",
    "test.loc[prob_isotonic_test > 0.5, 'pred_iso'] = 1"
   ],
   "metadata": {
    "collapsed": false,
    "ExecuteTime": {
     "end_time": "2024-01-12T15:49:46.809508Z",
     "start_time": "2024-01-12T15:49:46.787933Z"
    }
   },
   "id": "9ae19438b4fbcd2e"
  },
  {
   "cell_type": "markdown",
   "source": [
    "#### prep strategy data\n",
    "\n",
    "set forecasts to original data, and set new columns"
   ],
   "metadata": {
    "collapsed": false
   },
   "id": "1e6c99f1073fee43"
  },
  {
   "cell_type": "code",
   "execution_count": 39,
   "outputs": [],
   "source": [
    "data['pred'] = 0\n",
    "data['prob'] = 0\n",
    "data['prob_iso'] = 0\n",
    "data['pred_iso'] = 0"
   ],
   "metadata": {
    "collapsed": false,
    "ExecuteTime": {
     "end_time": "2024-01-12T15:50:37.120894Z",
     "start_time": "2024-01-12T15:50:37.095758Z"
    }
   },
   "id": "4a8fbab933f8bb11"
  },
  {
   "cell_type": "markdown",
   "source": [
    "assign column values"
   ],
   "metadata": {
    "collapsed": false
   },
   "id": "60f3d42f56249d61"
  },
  {
   "cell_type": "code",
   "execution_count": 41,
   "outputs": [],
   "source": [
    "data.loc[train.index, 'pred'] = train['pred']\n",
    "data.loc[train.index, 'prob'] = train['prob'].copy()\n",
    "data.loc[train.index, 'pred_iso'] = train['pred_iso']\n",
    "data.loc[train.index, 'prob_iso'] = train['prob_iso'].copy()\n",
    "data.loc[test.index, 'pred'] = test['pred']\n",
    "data.loc[test.index, 'prob'] = test['prob']\n",
    "data.loc[test.index, 'pred_iso'] = test['pred_iso']\n",
    "data.loc[test.index, 'prob_iso'] = test['prob_iso']"
   ],
   "metadata": {
    "collapsed": false,
    "ExecuteTime": {
     "end_time": "2024-01-12T15:52:02.113776Z",
     "start_time": "2024-01-12T15:52:02.101168Z"
    }
   },
   "id": "caa41a89f6c2e254"
  },
  {
   "cell_type": "markdown",
   "source": [
    "subset train data"
   ],
   "metadata": {
    "collapsed": false
   },
   "id": "b557dce040cef2af"
  },
  {
   "cell_type": "code",
   "execution_count": 42,
   "outputs": [],
   "source": [
    "data_train_set = data.loc[train.index[0]:train.index[-1]]\n",
    "data_test_set = data.loc[test.index[0]:test.index[-1]]"
   ],
   "metadata": {
    "collapsed": false,
    "ExecuteTime": {
     "end_time": "2024-01-12T15:52:20.823039Z",
     "start_time": "2024-01-12T15:52:20.793898Z"
    }
   },
   "id": "8611a88b57c1443c"
  },
  {
   "cell_type": "code",
   "execution_count": 44,
   "outputs": [
    {
     "data": {
      "text/plain": "                rets  flags  target  target_rets  pmodel     prets     rets2  \\\n1996-09-17  0.014217      0     0.0    -0.005655       1  0.000000 -0.003034   \n1996-09-18 -0.005655      0     0.0    -0.023721       0 -0.005655  0.014217   \n1996-09-19 -0.023721      0     1.0     0.015376       0 -0.000000 -0.005655   \n1996-09-20  0.015376      0     1.0     0.024036       1  0.000000 -0.023721   \n1996-09-21  0.024036      0     0.0    -0.021904       1  0.024036  0.015376   \n\n               rets3  regime  pred      prob  prob_iso  pred_iso  \n1996-09-17 -0.006527     0.0     1  0.536269  0.520090         1  \n1996-09-18 -0.003034     0.0     0  0.000000  0.000000         0  \n1996-09-19  0.014217     0.0     0  0.000000  0.000000         0  \n1996-09-20 -0.005655     0.0     1  0.541156  0.560853         1  \n1996-09-21 -0.023721     0.0     0  0.487835  0.383556         0  ",
      "text/html": "<div>\n<style scoped>\n    .dataframe tbody tr th:only-of-type {\n        vertical-align: middle;\n    }\n\n    .dataframe tbody tr th {\n        vertical-align: top;\n    }\n\n    .dataframe thead th {\n        text-align: right;\n    }\n</style>\n<table border=\"1\" class=\"dataframe\">\n  <thead>\n    <tr style=\"text-align: right;\">\n      <th></th>\n      <th>rets</th>\n      <th>flags</th>\n      <th>target</th>\n      <th>target_rets</th>\n      <th>pmodel</th>\n      <th>prets</th>\n      <th>rets2</th>\n      <th>rets3</th>\n      <th>regime</th>\n      <th>pred</th>\n      <th>prob</th>\n      <th>prob_iso</th>\n      <th>pred_iso</th>\n    </tr>\n  </thead>\n  <tbody>\n    <tr>\n      <th>1996-09-17</th>\n      <td>0.014217</td>\n      <td>0</td>\n      <td>0.0</td>\n      <td>-0.005655</td>\n      <td>1</td>\n      <td>0.000000</td>\n      <td>-0.003034</td>\n      <td>-0.006527</td>\n      <td>0.0</td>\n      <td>1</td>\n      <td>0.536269</td>\n      <td>0.520090</td>\n      <td>1</td>\n    </tr>\n    <tr>\n      <th>1996-09-18</th>\n      <td>-0.005655</td>\n      <td>0</td>\n      <td>0.0</td>\n      <td>-0.023721</td>\n      <td>0</td>\n      <td>-0.005655</td>\n      <td>0.014217</td>\n      <td>-0.003034</td>\n      <td>0.0</td>\n      <td>0</td>\n      <td>0.000000</td>\n      <td>0.000000</td>\n      <td>0</td>\n    </tr>\n    <tr>\n      <th>1996-09-19</th>\n      <td>-0.023721</td>\n      <td>0</td>\n      <td>1.0</td>\n      <td>0.015376</td>\n      <td>0</td>\n      <td>-0.000000</td>\n      <td>-0.005655</td>\n      <td>0.014217</td>\n      <td>0.0</td>\n      <td>0</td>\n      <td>0.000000</td>\n      <td>0.000000</td>\n      <td>0</td>\n    </tr>\n    <tr>\n      <th>1996-09-20</th>\n      <td>0.015376</td>\n      <td>0</td>\n      <td>1.0</td>\n      <td>0.024036</td>\n      <td>1</td>\n      <td>0.000000</td>\n      <td>-0.023721</td>\n      <td>-0.005655</td>\n      <td>0.0</td>\n      <td>1</td>\n      <td>0.541156</td>\n      <td>0.560853</td>\n      <td>1</td>\n    </tr>\n    <tr>\n      <th>1996-09-21</th>\n      <td>0.024036</td>\n      <td>0</td>\n      <td>0.0</td>\n      <td>-0.021904</td>\n      <td>1</td>\n      <td>0.024036</td>\n      <td>0.015376</td>\n      <td>-0.023721</td>\n      <td>0.0</td>\n      <td>0</td>\n      <td>0.487835</td>\n      <td>0.383556</td>\n      <td>0</td>\n    </tr>\n  </tbody>\n</table>\n</div>"
     },
     "execution_count": 44,
     "metadata": {},
     "output_type": "execute_result"
    }
   ],
   "source": [
    "data_train_set.head()"
   ],
   "metadata": {
    "collapsed": false,
    "ExecuteTime": {
     "end_time": "2024-01-12T15:53:36.482272Z",
     "start_time": "2024-01-12T15:53:36.471501Z"
    }
   },
   "id": "c161f64841f321f1"
  },
  {
   "cell_type": "code",
   "execution_count": 45,
   "outputs": [
    {
     "data": {
      "text/plain": "                rets  flags  target  target_rets  pmodel     prets     rets2  \\\n2012-12-21  0.006645      0     1.0     0.014705       1  0.000000 -0.004764   \n2012-12-22  0.014705      0     0.0    -0.009303       1  0.014705  0.006645   \n2012-12-23 -0.009303      0     0.0    -0.017492       0 -0.009303  0.014705   \n2012-12-24 -0.017492      0     1.0     0.003756       0 -0.000000 -0.009303   \n2012-12-25  0.003756      0     0.0    -0.009642       1  0.000000 -0.017492   \n\n               rets3  regime  pred      prob  prob_iso  pred_iso  \n2012-12-21  0.011077     0.0     1  0.581623  0.660353         1  \n2012-12-22 -0.004764     0.0     1  0.538844  0.520090         1  \n2012-12-23  0.006645     0.0     0  0.000000  0.000000         0  \n2012-12-24  0.014705     0.0     0  0.000000  0.000000         0  \n2012-12-25 -0.009303     0.0     1  0.535755  0.544887         1  ",
      "text/html": "<div>\n<style scoped>\n    .dataframe tbody tr th:only-of-type {\n        vertical-align: middle;\n    }\n\n    .dataframe tbody tr th {\n        vertical-align: top;\n    }\n\n    .dataframe thead th {\n        text-align: right;\n    }\n</style>\n<table border=\"1\" class=\"dataframe\">\n  <thead>\n    <tr style=\"text-align: right;\">\n      <th></th>\n      <th>rets</th>\n      <th>flags</th>\n      <th>target</th>\n      <th>target_rets</th>\n      <th>pmodel</th>\n      <th>prets</th>\n      <th>rets2</th>\n      <th>rets3</th>\n      <th>regime</th>\n      <th>pred</th>\n      <th>prob</th>\n      <th>prob_iso</th>\n      <th>pred_iso</th>\n    </tr>\n  </thead>\n  <tbody>\n    <tr>\n      <th>2012-12-21</th>\n      <td>0.006645</td>\n      <td>0</td>\n      <td>1.0</td>\n      <td>0.014705</td>\n      <td>1</td>\n      <td>0.000000</td>\n      <td>-0.004764</td>\n      <td>0.011077</td>\n      <td>0.0</td>\n      <td>1</td>\n      <td>0.581623</td>\n      <td>0.660353</td>\n      <td>1</td>\n    </tr>\n    <tr>\n      <th>2012-12-22</th>\n      <td>0.014705</td>\n      <td>0</td>\n      <td>0.0</td>\n      <td>-0.009303</td>\n      <td>1</td>\n      <td>0.014705</td>\n      <td>0.006645</td>\n      <td>-0.004764</td>\n      <td>0.0</td>\n      <td>1</td>\n      <td>0.538844</td>\n      <td>0.520090</td>\n      <td>1</td>\n    </tr>\n    <tr>\n      <th>2012-12-23</th>\n      <td>-0.009303</td>\n      <td>0</td>\n      <td>0.0</td>\n      <td>-0.017492</td>\n      <td>0</td>\n      <td>-0.009303</td>\n      <td>0.014705</td>\n      <td>0.006645</td>\n      <td>0.0</td>\n      <td>0</td>\n      <td>0.000000</td>\n      <td>0.000000</td>\n      <td>0</td>\n    </tr>\n    <tr>\n      <th>2012-12-24</th>\n      <td>-0.017492</td>\n      <td>0</td>\n      <td>1.0</td>\n      <td>0.003756</td>\n      <td>0</td>\n      <td>-0.000000</td>\n      <td>-0.009303</td>\n      <td>0.014705</td>\n      <td>0.0</td>\n      <td>0</td>\n      <td>0.000000</td>\n      <td>0.000000</td>\n      <td>0</td>\n    </tr>\n    <tr>\n      <th>2012-12-25</th>\n      <td>0.003756</td>\n      <td>0</td>\n      <td>0.0</td>\n      <td>-0.009642</td>\n      <td>1</td>\n      <td>0.000000</td>\n      <td>-0.017492</td>\n      <td>-0.009303</td>\n      <td>0.0</td>\n      <td>1</td>\n      <td>0.535755</td>\n      <td>0.544887</td>\n      <td>1</td>\n    </tr>\n  </tbody>\n</table>\n</div>"
     },
     "execution_count": 45,
     "metadata": {},
     "output_type": "execute_result"
    }
   ],
   "source": [
    "data_test_set.head()"
   ],
   "metadata": {
    "collapsed": false,
    "ExecuteTime": {
     "end_time": "2024-01-12T15:53:44.760872Z",
     "start_time": "2024-01-12T15:53:44.726165Z"
    }
   },
   "id": "f94b654227709643"
  },
  {
   "cell_type": "markdown",
   "source": [
    "save this data to CSV file for using in the kelly analysis"
   ],
   "metadata": {
    "collapsed": false
   },
   "id": "fd3331c7866a803b"
  },
  {
   "cell_type": "code",
   "execution_count": 46,
   "outputs": [],
   "source": [
    "data_train_set.to_csv('train.csv')\n",
    "data_test_set.to_csv('test.csv')"
   ],
   "metadata": {
    "collapsed": false,
    "ExecuteTime": {
     "end_time": "2024-01-12T15:53:57.947365Z",
     "start_time": "2024-01-12T15:53:57.878437Z"
    }
   },
   "id": "ff88a31e0ede47a5"
  },
  {
   "cell_type": "markdown",
   "source": [
    "#### Betting sizing\n",
    "\n",
    "get target return series"
   ],
   "metadata": {
    "collapsed": false
   },
   "id": "eb689208e6215522"
  },
  {
   "cell_type": "code",
   "execution_count": 47,
   "outputs": [],
   "source": [
    "target_train = data_train_set['target_rets']\n",
    "target_train_p = train['target_rets']\n",
    "target_test = data_test_set['target_rets']\n",
    "target_test_p = test['target_rets']"
   ],
   "metadata": {
    "collapsed": false,
    "ExecuteTime": {
     "end_time": "2024-01-12T15:54:53.169857Z",
     "start_time": "2024-01-12T15:54:53.140938Z"
    }
   },
   "id": "211e66a0943ae208"
  },
  {
   "cell_type": "markdown",
   "source": [
    "**Linear Scaling**\n",
    "\n",
    "Linear scaling: min, max from train, p from test."
   ],
   "metadata": {
    "collapsed": false
   },
   "id": "4e009bf34bd08c08"
  },
  {
   "cell_type": "code",
   "execution_count": 48,
   "outputs": [],
   "source": [
    "linear_size_test = (prob_test[prob_test > 0.5] - prob_train[prob_train > 0.5].min()) / (prob_train[prob_train > 0.5].max() - prob_train[prob_train > 0.5].min())\n",
    "linear_size_iso_test = (prob_isotonic_test[\n",
    "                            prob_isotonic_test > 0.5\n",
    "                        ] - prob_isotonic_train[prob_train > 0.5].min()) / (\n",
    "                        prob_isotonic_train[prob_train > 0.5].max() - prob_isotonic_train[prob_train > 0.5].min())"
   ],
   "metadata": {
    "collapsed": false,
    "ExecuteTime": {
     "end_time": "2024-01-12T15:56:12.252758Z",
     "start_time": "2024-01-12T15:56:12.217705Z"
    }
   },
   "id": "75f6b17c21f19f75"
  },
  {
   "cell_type": "markdown",
   "source": [
    "Assign position sizes"
   ],
   "metadata": {
    "collapsed": false
   },
   "id": "c47961e8608ba0ca"
  },
  {
   "cell_type": "code",
   "execution_count": 53,
   "outputs": [],
   "source": [
    "#data_test_set['lin_size'] = 0\n",
    "#data_test_set['lin_iso_size'] = 0\n",
    "data_test_set.loc[linear_size_test.index, 'lin_size'] = linear_size_test\n",
    "data_test_set.loc[linear_size_iso_test.index, 'lin_iso_size'] = linear_size_iso_test"
   ],
   "metadata": {
    "collapsed": false,
    "ExecuteTime": {
     "end_time": "2024-01-12T16:01:31.254371Z",
     "start_time": "2024-01-12T16:01:31.232082Z"
    }
   },
   "id": "cd988a08404f22e9"
  },
  {
   "cell_type": "markdown",
   "source": [
    "Get daily rets of the strategy (vectorised backtest), shifted by 1 to remove lookahead bias"
   ],
   "metadata": {
    "collapsed": false
   },
   "id": "4ffb0916da56632"
  },
  {
   "cell_type": "code",
   "execution_count": 60,
   "outputs": [],
   "source": [
    "data_test_set.loc[data_test_set.index, 'lin_rets'] = (data_test_set['lin_size'] * target_test).shift(1)\n",
    "data_test_set.loc[data_test_set.index, 'lin_iso_rets'] = (data_test_set['lin_iso_size'] * target_test).shift(1)"
   ],
   "metadata": {
    "collapsed": false,
    "ExecuteTime": {
     "end_time": "2024-01-12T16:03:19.985332Z",
     "start_time": "2024-01-12T16:03:19.965824Z"
    }
   },
   "id": "ab3ceabddbe3c437"
  },
  {
   "cell_type": "code",
   "execution_count": 61,
   "outputs": [
    {
     "data": {
      "text/plain": "                rets  flags  target  target_rets  pmodel     prets     rets2  \\\n2012-12-21  0.006645      0     1.0     0.014705       1  0.000000 -0.004764   \n2012-12-22  0.014705      0     0.0    -0.009303       1  0.014705  0.006645   \n2012-12-23 -0.009303      0     0.0    -0.017492       0 -0.009303  0.014705   \n2012-12-24 -0.017492      0     1.0     0.003756       0 -0.000000 -0.009303   \n2012-12-25  0.003756      0     0.0    -0.009642       1  0.000000 -0.017492   \n...              ...    ...     ...          ...     ...       ...       ...   \n2024-01-07 -0.003156      0     0.0    -0.003836       0 -0.003156  0.013160   \n2024-01-08 -0.003836      0     1.0     0.001363       0 -0.000000 -0.003156   \n2024-01-09  0.001363      0     1.0     0.007461       1  0.000000 -0.003836   \n2024-01-10  0.007461      0     1.0     0.024638       1  0.007461  0.001363   \n2024-01-11  0.024638      0     0.0    -0.008623       1  0.024638  0.007461   \n\n               rets3  regime  pred      prob  prob_iso  pred_iso  lin_size  \\\n2012-12-21  0.011077     0.0     1  0.581623  0.660353         1  0.426901   \n2012-12-22 -0.004764     0.0     1  0.538844  0.520090         1  0.202844   \n2012-12-23  0.006645     0.0     0  0.000000  0.000000         0  0.000000   \n2012-12-24  0.014705     0.0     0  0.000000  0.000000         0  0.000000   \n2012-12-25 -0.009303     0.0     1  0.535755  0.544887         1  0.186669   \n...              ...     ...   ...       ...       ...       ...       ...   \n2024-01-07  0.001859     0.0     0  0.000000  0.000000         0  0.000000   \n2024-01-08  0.013160     0.0     0  0.000000  0.000000         0  0.000000   \n2024-01-09 -0.003156     0.0     1  0.549401  0.563075         1  0.258135   \n2024-01-10 -0.003836     0.0     1  0.544653  0.563075         1  0.233271   \n2024-01-11  0.001363     0.0     1  0.549754  0.546555         1  0.259985   \n\n            lin_iso_size  lin_rets  lin_iso_rets  \n2012-12-21      0.487408       NaN           NaN  \n2012-12-22      0.208456  0.006277      0.007167  \n2012-12-23      0.000000 -0.001887     -0.001939  \n2012-12-24      0.000000 -0.000000     -0.000000  \n2012-12-25      0.257772  0.000000      0.000000  \n...                  ...       ...           ...  \n2024-01-07      0.000000 -0.001846     -0.001629  \n2024-01-08      0.000000 -0.000000     -0.000000  \n2024-01-09      0.293945  0.000000      0.000000  \n2024-01-10      0.293945  0.001926      0.002193  \n2024-01-11      0.261089  0.005747      0.007242  \n\n[4039 rows x 17 columns]",
      "text/html": "<div>\n<style scoped>\n    .dataframe tbody tr th:only-of-type {\n        vertical-align: middle;\n    }\n\n    .dataframe tbody tr th {\n        vertical-align: top;\n    }\n\n    .dataframe thead th {\n        text-align: right;\n    }\n</style>\n<table border=\"1\" class=\"dataframe\">\n  <thead>\n    <tr style=\"text-align: right;\">\n      <th></th>\n      <th>rets</th>\n      <th>flags</th>\n      <th>target</th>\n      <th>target_rets</th>\n      <th>pmodel</th>\n      <th>prets</th>\n      <th>rets2</th>\n      <th>rets3</th>\n      <th>regime</th>\n      <th>pred</th>\n      <th>prob</th>\n      <th>prob_iso</th>\n      <th>pred_iso</th>\n      <th>lin_size</th>\n      <th>lin_iso_size</th>\n      <th>lin_rets</th>\n      <th>lin_iso_rets</th>\n    </tr>\n  </thead>\n  <tbody>\n    <tr>\n      <th>2012-12-21</th>\n      <td>0.006645</td>\n      <td>0</td>\n      <td>1.0</td>\n      <td>0.014705</td>\n      <td>1</td>\n      <td>0.000000</td>\n      <td>-0.004764</td>\n      <td>0.011077</td>\n      <td>0.0</td>\n      <td>1</td>\n      <td>0.581623</td>\n      <td>0.660353</td>\n      <td>1</td>\n      <td>0.426901</td>\n      <td>0.487408</td>\n      <td>NaN</td>\n      <td>NaN</td>\n    </tr>\n    <tr>\n      <th>2012-12-22</th>\n      <td>0.014705</td>\n      <td>0</td>\n      <td>0.0</td>\n      <td>-0.009303</td>\n      <td>1</td>\n      <td>0.014705</td>\n      <td>0.006645</td>\n      <td>-0.004764</td>\n      <td>0.0</td>\n      <td>1</td>\n      <td>0.538844</td>\n      <td>0.520090</td>\n      <td>1</td>\n      <td>0.202844</td>\n      <td>0.208456</td>\n      <td>0.006277</td>\n      <td>0.007167</td>\n    </tr>\n    <tr>\n      <th>2012-12-23</th>\n      <td>-0.009303</td>\n      <td>0</td>\n      <td>0.0</td>\n      <td>-0.017492</td>\n      <td>0</td>\n      <td>-0.009303</td>\n      <td>0.014705</td>\n      <td>0.006645</td>\n      <td>0.0</td>\n      <td>0</td>\n      <td>0.000000</td>\n      <td>0.000000</td>\n      <td>0</td>\n      <td>0.000000</td>\n      <td>0.000000</td>\n      <td>-0.001887</td>\n      <td>-0.001939</td>\n    </tr>\n    <tr>\n      <th>2012-12-24</th>\n      <td>-0.017492</td>\n      <td>0</td>\n      <td>1.0</td>\n      <td>0.003756</td>\n      <td>0</td>\n      <td>-0.000000</td>\n      <td>-0.009303</td>\n      <td>0.014705</td>\n      <td>0.0</td>\n      <td>0</td>\n      <td>0.000000</td>\n      <td>0.000000</td>\n      <td>0</td>\n      <td>0.000000</td>\n      <td>0.000000</td>\n      <td>-0.000000</td>\n      <td>-0.000000</td>\n    </tr>\n    <tr>\n      <th>2012-12-25</th>\n      <td>0.003756</td>\n      <td>0</td>\n      <td>0.0</td>\n      <td>-0.009642</td>\n      <td>1</td>\n      <td>0.000000</td>\n      <td>-0.017492</td>\n      <td>-0.009303</td>\n      <td>0.0</td>\n      <td>1</td>\n      <td>0.535755</td>\n      <td>0.544887</td>\n      <td>1</td>\n      <td>0.186669</td>\n      <td>0.257772</td>\n      <td>0.000000</td>\n      <td>0.000000</td>\n    </tr>\n    <tr>\n      <th>...</th>\n      <td>...</td>\n      <td>...</td>\n      <td>...</td>\n      <td>...</td>\n      <td>...</td>\n      <td>...</td>\n      <td>...</td>\n      <td>...</td>\n      <td>...</td>\n      <td>...</td>\n      <td>...</td>\n      <td>...</td>\n      <td>...</td>\n      <td>...</td>\n      <td>...</td>\n      <td>...</td>\n      <td>...</td>\n    </tr>\n    <tr>\n      <th>2024-01-07</th>\n      <td>-0.003156</td>\n      <td>0</td>\n      <td>0.0</td>\n      <td>-0.003836</td>\n      <td>0</td>\n      <td>-0.003156</td>\n      <td>0.013160</td>\n      <td>0.001859</td>\n      <td>0.0</td>\n      <td>0</td>\n      <td>0.000000</td>\n      <td>0.000000</td>\n      <td>0</td>\n      <td>0.000000</td>\n      <td>0.000000</td>\n      <td>-0.001846</td>\n      <td>-0.001629</td>\n    </tr>\n    <tr>\n      <th>2024-01-08</th>\n      <td>-0.003836</td>\n      <td>0</td>\n      <td>1.0</td>\n      <td>0.001363</td>\n      <td>0</td>\n      <td>-0.000000</td>\n      <td>-0.003156</td>\n      <td>0.013160</td>\n      <td>0.0</td>\n      <td>0</td>\n      <td>0.000000</td>\n      <td>0.000000</td>\n      <td>0</td>\n      <td>0.000000</td>\n      <td>0.000000</td>\n      <td>-0.000000</td>\n      <td>-0.000000</td>\n    </tr>\n    <tr>\n      <th>2024-01-09</th>\n      <td>0.001363</td>\n      <td>0</td>\n      <td>1.0</td>\n      <td>0.007461</td>\n      <td>1</td>\n      <td>0.000000</td>\n      <td>-0.003836</td>\n      <td>-0.003156</td>\n      <td>0.0</td>\n      <td>1</td>\n      <td>0.549401</td>\n      <td>0.563075</td>\n      <td>1</td>\n      <td>0.258135</td>\n      <td>0.293945</td>\n      <td>0.000000</td>\n      <td>0.000000</td>\n    </tr>\n    <tr>\n      <th>2024-01-10</th>\n      <td>0.007461</td>\n      <td>0</td>\n      <td>1.0</td>\n      <td>0.024638</td>\n      <td>1</td>\n      <td>0.007461</td>\n      <td>0.001363</td>\n      <td>-0.003836</td>\n      <td>0.0</td>\n      <td>1</td>\n      <td>0.544653</td>\n      <td>0.563075</td>\n      <td>1</td>\n      <td>0.233271</td>\n      <td>0.293945</td>\n      <td>0.001926</td>\n      <td>0.002193</td>\n    </tr>\n    <tr>\n      <th>2024-01-11</th>\n      <td>0.024638</td>\n      <td>0</td>\n      <td>0.0</td>\n      <td>-0.008623</td>\n      <td>1</td>\n      <td>0.024638</td>\n      <td>0.007461</td>\n      <td>0.001363</td>\n      <td>0.0</td>\n      <td>1</td>\n      <td>0.549754</td>\n      <td>0.546555</td>\n      <td>1</td>\n      <td>0.259985</td>\n      <td>0.261089</td>\n      <td>0.005747</td>\n      <td>0.007242</td>\n    </tr>\n  </tbody>\n</table>\n<p>4039 rows × 17 columns</p>\n</div>"
     },
     "execution_count": 61,
     "metadata": {},
     "output_type": "execute_result"
    }
   ],
   "source": [
    "data_test_set"
   ],
   "metadata": {
    "collapsed": false,
    "ExecuteTime": {
     "end_time": "2024-01-12T16:03:20.786852Z",
     "start_time": "2024-01-12T16:03:20.777325Z"
    }
   },
   "id": "91844ed6d5f03de7"
  },
  {
   "cell_type": "markdown",
   "source": [
    "#### Optimal linear fit\n",
    "\n",
    "Train model on training data"
   ],
   "metadata": {
    "collapsed": false
   },
   "id": "42a2c50576a311dc"
  },
  {
   "cell_type": "code",
   "execution_count": 67,
   "outputs": [],
   "source": [
    "def check_stats(rets):\n",
    "    if np.std(rets) == 0.0: stdev = 10000\n",
    "    else: stdev = np.std(rets)\n",
    "\n",
    "    if (np.mean(rets) <= 0.00001) and (np.mean(rets) >= -0.00001):\n",
    "        mean = -10000\n",
    "    else: mean = np.mean(rets)\n",
    "\n",
    "    return mean, stdev\n",
    "\n",
    "def target_linear(x):\n",
    "    # Linear function\n",
    "    f = lambda p: min(max(x[0] * p + x[1], 0), 1)\n",
    "    f = np.vectorize(f)\n",
    "    # Backtest\n",
    "    rets = f(prob_train[prob_train > 0.5]) * target_train_p[prob_train > 0.5]\n",
    "    # Solve for no positions taken\n",
    "    mean, stdev = check_stats(rets)\n",
    "    # Sharpe Ratio\n",
    "    sr = mean / stdev\n",
    "    return -sr\n",
    "\n",
    "def target_linear_iso(x):\n",
    "    # Linear function\n",
    "    f = lambda p: min(max(x[0] * p + x[1], 0), 1)\n",
    "    f = np.vectorize(f)\n",
    "    # Backtest\n",
    "    rets = f(prob_isotonic_train[prob_isotonic_train > 0.5]) * target_train_p[prob_isotonic_train > 0.5]\n",
    "    # Solve for no positions taken\n",
    "    mean, stdev = check_stats(rets)\n",
    "    # Sharp Ratio\n",
    "    sr = mean / stdev\n",
    "    return -sr"
   ],
   "metadata": {
    "collapsed": false,
    "ExecuteTime": {
     "end_time": "2024-01-12T16:09:27.446906Z",
     "start_time": "2024-01-12T16:09:27.435181Z"
    }
   },
   "id": "30091d4e682e3497"
  },
  {
   "cell_type": "code",
   "execution_count": 70,
   "outputs": [],
   "source": [
    "x0 = np.array([1, 0])\n",
    "result = minimize(\n",
    "    target_linear, x0, method = 'nelder-mead', \n",
    "    options = {'xatol' : 1e-8, 'disp' : False}\n",
    ")\n",
    "model = result.x"
   ],
   "metadata": {
    "collapsed": false,
    "ExecuteTime": {
     "end_time": "2024-01-12T16:09:44.175817Z",
     "start_time": "2024-01-12T16:09:43.958612Z"
    }
   },
   "id": "5800605ff3ff257d"
  },
  {
   "cell_type": "markdown",
   "source": [
    "Get test position sizes"
   ],
   "metadata": {
    "collapsed": false
   },
   "id": "f5cd70bb9be36031"
  },
  {
   "cell_type": "code",
   "execution_count": 71,
   "outputs": [],
   "source": [
    "lops_size = model[0] * prob_test + model[1]"
   ],
   "metadata": {
    "collapsed": false,
    "ExecuteTime": {
     "end_time": "2024-01-12T16:12:30.170465Z",
     "start_time": "2024-01-12T16:12:30.132928Z"
    }
   },
   "id": "e5007d5b81acc63d"
  },
  {
   "cell_type": "markdown",
   "source": [
    "scale size [0, 1]"
   ],
   "metadata": {
    "collapsed": false
   },
   "id": "3b1d64b73338d140"
  },
  {
   "cell_type": "code",
   "execution_count": 73,
   "outputs": [],
   "source": [
    "lops_size[lops_size > 1] = 1\n",
    "lops_size[lops_size < 0] = 0"
   ],
   "metadata": {
    "collapsed": false,
    "ExecuteTime": {
     "end_time": "2024-01-12T16:13:14.626414Z",
     "start_time": "2024-01-12T16:13:14.588444Z"
    }
   },
   "id": "bc4bce534006c97f"
  },
  {
   "cell_type": "markdown",
   "source": [
    "Assign position sizes"
   ],
   "metadata": {
    "collapsed": false
   },
   "id": "160c3ca8dfebea73"
  },
  {
   "cell_type": "code",
   "execution_count": 75,
   "outputs": [],
   "source": [
    "data_test_set.loc[lops_size.index, 'lop_size'] = lops_size"
   ],
   "metadata": {
    "collapsed": false,
    "ExecuteTime": {
     "end_time": "2024-01-12T16:14:24.611202Z",
     "start_time": "2024-01-12T16:14:24.590647Z"
    }
   },
   "id": "858d50ebff297fa6"
  },
  {
   "cell_type": "markdown",
   "source": [
    "Get daily returns"
   ],
   "metadata": {
    "collapsed": false
   },
   "id": "e0b16421a6470ff"
  },
  {
   "cell_type": "code",
   "execution_count": 77,
   "outputs": [
    {
     "name": "stderr",
     "output_type": "stream",
     "text": [
      "/var/folders/1q/pl9tj55n57s9jg28npxw61n80000gn/T/ipykernel_61844/1168636653.py:1: SettingWithCopyWarning: \n",
      "A value is trying to be set on a copy of a slice from a DataFrame.\n",
      "Try using .loc[row_indexer,col_indexer] = value instead\n",
      "\n",
      "See the caveats in the documentation: https://pandas.pydata.org/pandas-docs/stable/user_guide/indexing.html#returning-a-view-versus-a-copy\n",
      "  data_test_set['lop_rets'] = (data_test_set['lop_size'] * target_test).shift(1)\n"
     ]
    }
   ],
   "source": [
    "data_test_set['lop_rets'] = (data_test_set['lop_size'] * target_test).shift(1)"
   ],
   "metadata": {
    "collapsed": false,
    "ExecuteTime": {
     "end_time": "2024-01-12T16:15:16.230494Z",
     "start_time": "2024-01-12T16:15:16.205969Z"
    }
   },
   "id": "65472e78024e0f2f"
  },
  {
   "cell_type": "code",
   "execution_count": 79,
   "outputs": [
    {
     "data": {
      "text/plain": "                rets  flags  target  target_rets  pmodel     prets     rets2  \\\n2012-12-21  0.006645      0     1.0     0.014705       1  0.000000 -0.004764   \n2012-12-22  0.014705      0     0.0    -0.009303       1  0.014705  0.006645   \n2012-12-23 -0.009303      0     0.0    -0.017492       0 -0.009303  0.014705   \n2012-12-24 -0.017492      0     1.0     0.003756       0 -0.000000 -0.009303   \n2012-12-25  0.003756      0     0.0    -0.009642       1  0.000000 -0.017492   \n\n               rets3  regime  pred      prob  prob_iso  pred_iso  lin_size  \\\n2012-12-21  0.011077     0.0     1  0.581623  0.660353         1  0.426901   \n2012-12-22 -0.004764     0.0     1  0.538844  0.520090         1  0.202844   \n2012-12-23  0.006645     0.0     0  0.000000  0.000000         0  0.000000   \n2012-12-24  0.014705     0.0     0  0.000000  0.000000         0  0.000000   \n2012-12-25 -0.009303     0.0     1  0.535755  0.544887         1  0.186669   \n\n            lin_iso_size  lin_rets  lin_iso_rets  lop_size  lop_rets  \n2012-12-21      0.487408       NaN           NaN  0.066789       NaN  \n2012-12-22      0.208456  0.006277      0.007167  0.021203  0.000982  \n2012-12-23      0.000000 -0.001887     -0.001939       NaN -0.000197  \n2012-12-24      0.000000 -0.000000     -0.000000       NaN       NaN  \n2012-12-25      0.257772  0.000000      0.000000  0.017912       NaN  ",
      "text/html": "<div>\n<style scoped>\n    .dataframe tbody tr th:only-of-type {\n        vertical-align: middle;\n    }\n\n    .dataframe tbody tr th {\n        vertical-align: top;\n    }\n\n    .dataframe thead th {\n        text-align: right;\n    }\n</style>\n<table border=\"1\" class=\"dataframe\">\n  <thead>\n    <tr style=\"text-align: right;\">\n      <th></th>\n      <th>rets</th>\n      <th>flags</th>\n      <th>target</th>\n      <th>target_rets</th>\n      <th>pmodel</th>\n      <th>prets</th>\n      <th>rets2</th>\n      <th>rets3</th>\n      <th>regime</th>\n      <th>pred</th>\n      <th>prob</th>\n      <th>prob_iso</th>\n      <th>pred_iso</th>\n      <th>lin_size</th>\n      <th>lin_iso_size</th>\n      <th>lin_rets</th>\n      <th>lin_iso_rets</th>\n      <th>lop_size</th>\n      <th>lop_rets</th>\n    </tr>\n  </thead>\n  <tbody>\n    <tr>\n      <th>2012-12-21</th>\n      <td>0.006645</td>\n      <td>0</td>\n      <td>1.0</td>\n      <td>0.014705</td>\n      <td>1</td>\n      <td>0.000000</td>\n      <td>-0.004764</td>\n      <td>0.011077</td>\n      <td>0.0</td>\n      <td>1</td>\n      <td>0.581623</td>\n      <td>0.660353</td>\n      <td>1</td>\n      <td>0.426901</td>\n      <td>0.487408</td>\n      <td>NaN</td>\n      <td>NaN</td>\n      <td>0.066789</td>\n      <td>NaN</td>\n    </tr>\n    <tr>\n      <th>2012-12-22</th>\n      <td>0.014705</td>\n      <td>0</td>\n      <td>0.0</td>\n      <td>-0.009303</td>\n      <td>1</td>\n      <td>0.014705</td>\n      <td>0.006645</td>\n      <td>-0.004764</td>\n      <td>0.0</td>\n      <td>1</td>\n      <td>0.538844</td>\n      <td>0.520090</td>\n      <td>1</td>\n      <td>0.202844</td>\n      <td>0.208456</td>\n      <td>0.006277</td>\n      <td>0.007167</td>\n      <td>0.021203</td>\n      <td>0.000982</td>\n    </tr>\n    <tr>\n      <th>2012-12-23</th>\n      <td>-0.009303</td>\n      <td>0</td>\n      <td>0.0</td>\n      <td>-0.017492</td>\n      <td>0</td>\n      <td>-0.009303</td>\n      <td>0.014705</td>\n      <td>0.006645</td>\n      <td>0.0</td>\n      <td>0</td>\n      <td>0.000000</td>\n      <td>0.000000</td>\n      <td>0</td>\n      <td>0.000000</td>\n      <td>0.000000</td>\n      <td>-0.001887</td>\n      <td>-0.001939</td>\n      <td>NaN</td>\n      <td>-0.000197</td>\n    </tr>\n    <tr>\n      <th>2012-12-24</th>\n      <td>-0.017492</td>\n      <td>0</td>\n      <td>1.0</td>\n      <td>0.003756</td>\n      <td>0</td>\n      <td>-0.000000</td>\n      <td>-0.009303</td>\n      <td>0.014705</td>\n      <td>0.0</td>\n      <td>0</td>\n      <td>0.000000</td>\n      <td>0.000000</td>\n      <td>0</td>\n      <td>0.000000</td>\n      <td>0.000000</td>\n      <td>-0.000000</td>\n      <td>-0.000000</td>\n      <td>NaN</td>\n      <td>NaN</td>\n    </tr>\n    <tr>\n      <th>2012-12-25</th>\n      <td>0.003756</td>\n      <td>0</td>\n      <td>0.0</td>\n      <td>-0.009642</td>\n      <td>1</td>\n      <td>0.000000</td>\n      <td>-0.017492</td>\n      <td>-0.009303</td>\n      <td>0.0</td>\n      <td>1</td>\n      <td>0.535755</td>\n      <td>0.544887</td>\n      <td>1</td>\n      <td>0.186669</td>\n      <td>0.257772</td>\n      <td>0.000000</td>\n      <td>0.000000</td>\n      <td>0.017912</td>\n      <td>NaN</td>\n    </tr>\n  </tbody>\n</table>\n</div>"
     },
     "execution_count": 79,
     "metadata": {},
     "output_type": "execute_result"
    }
   ],
   "source": [
    "data_test_set.head()"
   ],
   "metadata": {
    "collapsed": false,
    "ExecuteTime": {
     "end_time": "2024-01-12T16:16:53.554382Z",
     "start_time": "2024-01-12T16:16:53.549531Z"
    }
   },
   "id": "48eb75bd3e7a70b"
  },
  {
   "cell_type": "markdown",
   "source": [
    "Do ISO version, train model on training data"
   ],
   "metadata": {
    "collapsed": false
   },
   "id": "7b62d6c6aed7efad"
  },
  {
   "cell_type": "code",
   "execution_count": 80,
   "outputs": [],
   "source": [
    "x0 = np.array([1, 0])\n",
    "res = minimize(\n",
    "    target_linear_iso, x0, method = 'nelder-mead', \n",
    "    options = {'xatol': 1e-8, 'disp': False}\n",
    ")\n",
    "model = res.x\n",
    "# Get test position sizes\n",
    "lops_iso_size = model[0] * prob_isotonic_test + model[1]"
   ],
   "metadata": {
    "collapsed": false,
    "ExecuteTime": {
     "end_time": "2024-01-12T16:17:51.705625Z",
     "start_time": "2024-01-12T16:17:51.561072Z"
    }
   },
   "id": "ccb326c7cd711b43"
  },
  {
   "cell_type": "markdown",
   "source": [
    "scale size [0, 1]"
   ],
   "metadata": {
    "collapsed": false
   },
   "id": "cbbf07418b66a868"
  },
  {
   "cell_type": "code",
   "execution_count": 81,
   "outputs": [],
   "source": [
    "lops_iso_size[lops_iso_size > 1] = 1\n",
    "lops_iso_size[lops_iso_size < 0] = 0"
   ],
   "metadata": {
    "collapsed": false,
    "ExecuteTime": {
     "end_time": "2024-01-12T16:18:18.588073Z",
     "start_time": "2024-01-12T16:18:18.552868Z"
    }
   },
   "id": "66d88124e41cee29"
  },
  {
   "cell_type": "markdown",
   "source": [
    "Assign position sizes"
   ],
   "metadata": {
    "collapsed": false
   },
   "id": "274388d593d1ced5"
  },
  {
   "cell_type": "code",
   "execution_count": 88,
   "outputs": [],
   "source": [
    "# data_test_set['lops_iso_size'] = 0\n",
    "data_test_set.loc[lops_iso_size.index, 'lops_iso_size'] = lops_iso_size"
   ],
   "metadata": {
    "collapsed": false,
    "ExecuteTime": {
     "end_time": "2024-01-12T16:19:09.537769Z",
     "start_time": "2024-01-12T16:19:09.524469Z"
    }
   },
   "id": "2799ec641908d0d"
  },
  {
   "cell_type": "markdown",
   "source": [
    "get daily returns"
   ],
   "metadata": {
    "collapsed": false
   },
   "id": "b3bc3bbd5d730ffc"
  },
  {
   "cell_type": "code",
   "execution_count": 97,
   "outputs": [
    {
     "name": "stderr",
     "output_type": "stream",
     "text": [
      "/var/folders/1q/pl9tj55n57s9jg28npxw61n80000gn/T/ipykernel_61844/1586249098.py:1: SettingWithCopyWarning: \n",
      "A value is trying to be set on a copy of a slice from a DataFrame.\n",
      "Try using .loc[row_indexer,col_indexer] = value instead\n",
      "\n",
      "See the caveats in the documentation: https://pandas.pydata.org/pandas-docs/stable/user_guide/indexing.html#returning-a-view-versus-a-copy\n",
      "  data_test_set['lop_iso_rets'] = (data_test_set['lops_iso_size'] * target_test).shift(1)\n"
     ]
    }
   ],
   "source": [
    "data_test_set['lop_iso_rets'] = (data_test_set['lops_iso_size'] * target_test).shift(1)"
   ],
   "metadata": {
    "collapsed": false,
    "ExecuteTime": {
     "end_time": "2024-01-12T16:21:11.676431Z",
     "start_time": "2024-01-12T16:21:11.652023Z"
    }
   },
   "id": "8f16df26166b917f"
  },
  {
   "cell_type": "code",
   "execution_count": 99,
   "outputs": [
    {
     "data": {
      "text/plain": "                rets  flags  target  target_rets  pmodel     prets     rets2  \\\n2012-12-21  0.006645      0     1.0     0.014705       1  0.000000 -0.004764   \n2012-12-22  0.014705      0     0.0    -0.009303       1  0.014705  0.006645   \n2012-12-23 -0.009303      0     0.0    -0.017492       0 -0.009303  0.014705   \n2012-12-24 -0.017492      0     1.0     0.003756       0 -0.000000 -0.009303   \n2012-12-25  0.003756      0     0.0    -0.009642       1  0.000000 -0.017492   \n\n               rets3  regime  pred  ...  prob_iso  pred_iso  lin_size  \\\n2012-12-21  0.011077     0.0     1  ...  0.660353         1  0.426901   \n2012-12-22 -0.004764     0.0     1  ...  0.520090         1  0.202844   \n2012-12-23  0.006645     0.0     0  ...  0.000000         0  0.000000   \n2012-12-24  0.014705     0.0     0  ...  0.000000         0  0.000000   \n2012-12-25 -0.009303     0.0     1  ...  0.544887         1  0.186669   \n\n            lin_iso_size  lin_rets  lin_iso_rets  lop_size  lop_rets  \\\n2012-12-21      0.487408       NaN           NaN  0.066789       NaN   \n2012-12-22      0.208456  0.006277      0.007167  0.021203  0.000982   \n2012-12-23      0.000000 -0.001887     -0.001939       NaN -0.000197   \n2012-12-24      0.000000 -0.000000     -0.000000       NaN       NaN   \n2012-12-25      0.257772  0.000000      0.000000  0.017912       NaN   \n\n            lops_iso_size  lop_iso_rets  \n2012-12-21       0.086818           NaN  \n2012-12-22       0.037472      0.001277  \n2012-12-23       0.000000     -0.000349  \n2012-12-24       0.000000     -0.000000  \n2012-12-25       0.046196      0.000000  \n\n[5 rows x 21 columns]",
      "text/html": "<div>\n<style scoped>\n    .dataframe tbody tr th:only-of-type {\n        vertical-align: middle;\n    }\n\n    .dataframe tbody tr th {\n        vertical-align: top;\n    }\n\n    .dataframe thead th {\n        text-align: right;\n    }\n</style>\n<table border=\"1\" class=\"dataframe\">\n  <thead>\n    <tr style=\"text-align: right;\">\n      <th></th>\n      <th>rets</th>\n      <th>flags</th>\n      <th>target</th>\n      <th>target_rets</th>\n      <th>pmodel</th>\n      <th>prets</th>\n      <th>rets2</th>\n      <th>rets3</th>\n      <th>regime</th>\n      <th>pred</th>\n      <th>...</th>\n      <th>prob_iso</th>\n      <th>pred_iso</th>\n      <th>lin_size</th>\n      <th>lin_iso_size</th>\n      <th>lin_rets</th>\n      <th>lin_iso_rets</th>\n      <th>lop_size</th>\n      <th>lop_rets</th>\n      <th>lops_iso_size</th>\n      <th>lop_iso_rets</th>\n    </tr>\n  </thead>\n  <tbody>\n    <tr>\n      <th>2012-12-21</th>\n      <td>0.006645</td>\n      <td>0</td>\n      <td>1.0</td>\n      <td>0.014705</td>\n      <td>1</td>\n      <td>0.000000</td>\n      <td>-0.004764</td>\n      <td>0.011077</td>\n      <td>0.0</td>\n      <td>1</td>\n      <td>...</td>\n      <td>0.660353</td>\n      <td>1</td>\n      <td>0.426901</td>\n      <td>0.487408</td>\n      <td>NaN</td>\n      <td>NaN</td>\n      <td>0.066789</td>\n      <td>NaN</td>\n      <td>0.086818</td>\n      <td>NaN</td>\n    </tr>\n    <tr>\n      <th>2012-12-22</th>\n      <td>0.014705</td>\n      <td>0</td>\n      <td>0.0</td>\n      <td>-0.009303</td>\n      <td>1</td>\n      <td>0.014705</td>\n      <td>0.006645</td>\n      <td>-0.004764</td>\n      <td>0.0</td>\n      <td>1</td>\n      <td>...</td>\n      <td>0.520090</td>\n      <td>1</td>\n      <td>0.202844</td>\n      <td>0.208456</td>\n      <td>0.006277</td>\n      <td>0.007167</td>\n      <td>0.021203</td>\n      <td>0.000982</td>\n      <td>0.037472</td>\n      <td>0.001277</td>\n    </tr>\n    <tr>\n      <th>2012-12-23</th>\n      <td>-0.009303</td>\n      <td>0</td>\n      <td>0.0</td>\n      <td>-0.017492</td>\n      <td>0</td>\n      <td>-0.009303</td>\n      <td>0.014705</td>\n      <td>0.006645</td>\n      <td>0.0</td>\n      <td>0</td>\n      <td>...</td>\n      <td>0.000000</td>\n      <td>0</td>\n      <td>0.000000</td>\n      <td>0.000000</td>\n      <td>-0.001887</td>\n      <td>-0.001939</td>\n      <td>NaN</td>\n      <td>-0.000197</td>\n      <td>0.000000</td>\n      <td>-0.000349</td>\n    </tr>\n    <tr>\n      <th>2012-12-24</th>\n      <td>-0.017492</td>\n      <td>0</td>\n      <td>1.0</td>\n      <td>0.003756</td>\n      <td>0</td>\n      <td>-0.000000</td>\n      <td>-0.009303</td>\n      <td>0.014705</td>\n      <td>0.0</td>\n      <td>0</td>\n      <td>...</td>\n      <td>0.000000</td>\n      <td>0</td>\n      <td>0.000000</td>\n      <td>0.000000</td>\n      <td>-0.000000</td>\n      <td>-0.000000</td>\n      <td>NaN</td>\n      <td>NaN</td>\n      <td>0.000000</td>\n      <td>-0.000000</td>\n    </tr>\n    <tr>\n      <th>2012-12-25</th>\n      <td>0.003756</td>\n      <td>0</td>\n      <td>0.0</td>\n      <td>-0.009642</td>\n      <td>1</td>\n      <td>0.000000</td>\n      <td>-0.017492</td>\n      <td>-0.009303</td>\n      <td>0.0</td>\n      <td>1</td>\n      <td>...</td>\n      <td>0.544887</td>\n      <td>1</td>\n      <td>0.186669</td>\n      <td>0.257772</td>\n      <td>0.000000</td>\n      <td>0.000000</td>\n      <td>0.017912</td>\n      <td>NaN</td>\n      <td>0.046196</td>\n      <td>0.000000</td>\n    </tr>\n  </tbody>\n</table>\n<p>5 rows × 21 columns</p>\n</div>"
     },
     "execution_count": 99,
     "metadata": {},
     "output_type": "execute_result"
    }
   ],
   "source": [
    "data_test_set.head()"
   ],
   "metadata": {
    "collapsed": false,
    "ExecuteTime": {
     "end_time": "2024-01-12T16:21:34.477973Z",
     "start_time": "2024-01-12T16:21:34.456170Z"
    }
   },
   "id": "c3616342ab1de090"
  },
  {
   "cell_type": "markdown",
   "source": [
    "#### de prado betting size\n",
    "\n",
    "get sizes for test data"
   ],
   "metadata": {
    "collapsed": false
   },
   "id": "bf7b1bc8964f7f63"
  },
  {
   "cell_type": "code",
   "execution_count": 100,
   "outputs": [],
   "source": [
    "from FinancialMachineLearning.bet_sizing.bet_sizing import de_prado_bet_size\n",
    "\n",
    "dp_size = de_prado_bet_size(prob_test, clip = True)\n",
    "dp_size_iso = de_prado_bet_size(prob_isotonic_test, clip = True)"
   ],
   "metadata": {
    "collapsed": false,
    "ExecuteTime": {
     "end_time": "2024-01-12T16:22:47.908394Z",
     "start_time": "2024-01-12T16:22:46.304081Z"
    }
   },
   "id": "28b36e102a99e63d"
  },
  {
   "cell_type": "markdown",
   "source": [
    "Assign position sizes"
   ],
   "metadata": {
    "collapsed": false
   },
   "id": "c2389be5b2d64142"
  },
  {
   "cell_type": "code",
   "execution_count": 103,
   "outputs": [
    {
     "name": "stderr",
     "output_type": "stream",
     "text": [
      "/var/folders/1q/pl9tj55n57s9jg28npxw61n80000gn/T/ipykernel_61844/597374802.py:1: SettingWithCopyWarning: \n",
      "A value is trying to be set on a copy of a slice from a DataFrame.\n",
      "Try using .loc[row_indexer,col_indexer] = value instead\n",
      "\n",
      "See the caveats in the documentation: https://pandas.pydata.org/pandas-docs/stable/user_guide/indexing.html#returning-a-view-versus-a-copy\n",
      "  data_test_set['dp_size'] = 0\n",
      "/var/folders/1q/pl9tj55n57s9jg28npxw61n80000gn/T/ipykernel_61844/597374802.py:2: SettingWithCopyWarning: \n",
      "A value is trying to be set on a copy of a slice from a DataFrame.\n",
      "Try using .loc[row_indexer,col_indexer] = value instead\n",
      "\n",
      "See the caveats in the documentation: https://pandas.pydata.org/pandas-docs/stable/user_guide/indexing.html#returning-a-view-versus-a-copy\n",
      "  data_test_set['dp_iso_size'] = 0\n",
      "/var/folders/1q/pl9tj55n57s9jg28npxw61n80000gn/T/ipykernel_61844/597374802.py:3: FutureWarning: Setting an item of incompatible dtype is deprecated and will raise in a future error of pandas. Value '[0.56571144 0.53105534 0.52857742 ... 0.53954475 0.53572316 0.53982941]' has dtype incompatible with int64, please explicitly cast to a compatible dtype first.\n",
      "  data_test_set.loc[dp_size.index, 'dp_size'] = dp_size\n",
      "/var/folders/1q/pl9tj55n57s9jg28npxw61n80000gn/T/ipykernel_61844/597374802.py:4: FutureWarning: Setting an item of incompatible dtype is deprecated and will raise in a future error of pandas. Value '[0.63254073 0.51603785 0.53591104 ... 0.55059578 0.55059578 0.53725315]' has dtype incompatible with int64, please explicitly cast to a compatible dtype first.\n",
      "  data_test_set.loc[dp_size_iso.index, 'dp_iso_size'] = dp_size_iso\n"
     ]
    }
   ],
   "source": [
    "data_test_set['dp_size'] = 0\n",
    "data_test_set['dp_iso_size'] = 0\n",
    "data_test_set.loc[dp_size.index, 'dp_size'] = dp_size\n",
    "data_test_set.loc[dp_size_iso.index, 'dp_iso_size'] = dp_size_iso"
   ],
   "metadata": {
    "collapsed": false,
    "ExecuteTime": {
     "end_time": "2024-01-12T16:24:53.704901Z",
     "start_time": "2024-01-12T16:24:53.686299Z"
    }
   },
   "id": "88f3029950fdb104"
  },
  {
   "cell_type": "code",
   "execution_count": 104,
   "outputs": [
    {
     "data": {
      "text/plain": "                rets  flags  target  target_rets  pmodel     prets     rets2  \\\n2012-12-21  0.006645      0     1.0     0.014705       1  0.000000 -0.004764   \n2012-12-22  0.014705      0     0.0    -0.009303       1  0.014705  0.006645   \n2012-12-23 -0.009303      0     0.0    -0.017492       0 -0.009303  0.014705   \n2012-12-24 -0.017492      0     1.0     0.003756       0 -0.000000 -0.009303   \n2012-12-25  0.003756      0     0.0    -0.009642       1  0.000000 -0.017492   \n...              ...    ...     ...          ...     ...       ...       ...   \n2024-01-07 -0.003156      0     0.0    -0.003836       0 -0.003156  0.013160   \n2024-01-08 -0.003836      0     1.0     0.001363       0 -0.000000 -0.003156   \n2024-01-09  0.001363      0     1.0     0.007461       1  0.000000 -0.003836   \n2024-01-10  0.007461      0     1.0     0.024638       1  0.007461  0.001363   \n2024-01-11  0.024638      0     0.0    -0.008623       1  0.024638  0.007461   \n\n               rets3  regime  pred  ...  lin_size  lin_iso_size  lin_rets  \\\n2012-12-21  0.011077     0.0     1  ...  0.426901      0.487408       NaN   \n2012-12-22 -0.004764     0.0     1  ...  0.202844      0.208456  0.006277   \n2012-12-23  0.006645     0.0     0  ...  0.000000      0.000000 -0.001887   \n2012-12-24  0.014705     0.0     0  ...  0.000000      0.000000 -0.000000   \n2012-12-25 -0.009303     0.0     1  ...  0.186669      0.257772  0.000000   \n...              ...     ...   ...  ...       ...           ...       ...   \n2024-01-07  0.001859     0.0     0  ...  0.000000      0.000000 -0.001846   \n2024-01-08  0.013160     0.0     0  ...  0.000000      0.000000 -0.000000   \n2024-01-09 -0.003156     0.0     1  ...  0.258135      0.293945  0.000000   \n2024-01-10 -0.003836     0.0     1  ...  0.233271      0.293945  0.001926   \n2024-01-11  0.001363     0.0     1  ...  0.259985      0.261089  0.005747   \n\n            lin_iso_rets  lop_size  lop_rets  lops_iso_size  lop_iso_rets  \\\n2012-12-21           NaN  0.066789       NaN       0.086818           NaN   \n2012-12-22      0.007167  0.021203  0.000982       0.037472      0.001277   \n2012-12-23     -0.001939       NaN -0.000197       0.000000     -0.000349   \n2012-12-24     -0.000000       NaN       NaN       0.000000     -0.000000   \n2012-12-25      0.000000  0.017912       NaN       0.046196      0.000000   \n...                  ...       ...       ...            ...           ...   \n2024-01-07     -0.001629       NaN -0.000312       0.000000     -0.000290   \n2024-01-08     -0.000000       NaN       NaN       0.000000     -0.000000   \n2024-01-09      0.000000  0.032452       NaN       0.052595      0.000000   \n2024-01-10      0.002193  0.027393  0.000242       0.052595      0.000392   \n2024-01-11      0.007242  0.032829  0.000675       0.046783      0.001296   \n\n             dp_size  dp_iso_size  \n2012-12-21  0.565711     0.632541  \n2012-12-22  0.531055     0.516038  \n2012-12-23  0.000000     0.000000  \n2012-12-24  0.000000     0.000000  \n2012-12-25  0.528577     0.535911  \n...              ...          ...  \n2024-01-07  0.000000     0.000000  \n2024-01-08  0.000000     0.000000  \n2024-01-09  0.539545     0.550596  \n2024-01-10  0.535723     0.550596  \n2024-01-11  0.539829     0.537253  \n\n[4039 rows x 23 columns]",
      "text/html": "<div>\n<style scoped>\n    .dataframe tbody tr th:only-of-type {\n        vertical-align: middle;\n    }\n\n    .dataframe tbody tr th {\n        vertical-align: top;\n    }\n\n    .dataframe thead th {\n        text-align: right;\n    }\n</style>\n<table border=\"1\" class=\"dataframe\">\n  <thead>\n    <tr style=\"text-align: right;\">\n      <th></th>\n      <th>rets</th>\n      <th>flags</th>\n      <th>target</th>\n      <th>target_rets</th>\n      <th>pmodel</th>\n      <th>prets</th>\n      <th>rets2</th>\n      <th>rets3</th>\n      <th>regime</th>\n      <th>pred</th>\n      <th>...</th>\n      <th>lin_size</th>\n      <th>lin_iso_size</th>\n      <th>lin_rets</th>\n      <th>lin_iso_rets</th>\n      <th>lop_size</th>\n      <th>lop_rets</th>\n      <th>lops_iso_size</th>\n      <th>lop_iso_rets</th>\n      <th>dp_size</th>\n      <th>dp_iso_size</th>\n    </tr>\n  </thead>\n  <tbody>\n    <tr>\n      <th>2012-12-21</th>\n      <td>0.006645</td>\n      <td>0</td>\n      <td>1.0</td>\n      <td>0.014705</td>\n      <td>1</td>\n      <td>0.000000</td>\n      <td>-0.004764</td>\n      <td>0.011077</td>\n      <td>0.0</td>\n      <td>1</td>\n      <td>...</td>\n      <td>0.426901</td>\n      <td>0.487408</td>\n      <td>NaN</td>\n      <td>NaN</td>\n      <td>0.066789</td>\n      <td>NaN</td>\n      <td>0.086818</td>\n      <td>NaN</td>\n      <td>0.565711</td>\n      <td>0.632541</td>\n    </tr>\n    <tr>\n      <th>2012-12-22</th>\n      <td>0.014705</td>\n      <td>0</td>\n      <td>0.0</td>\n      <td>-0.009303</td>\n      <td>1</td>\n      <td>0.014705</td>\n      <td>0.006645</td>\n      <td>-0.004764</td>\n      <td>0.0</td>\n      <td>1</td>\n      <td>...</td>\n      <td>0.202844</td>\n      <td>0.208456</td>\n      <td>0.006277</td>\n      <td>0.007167</td>\n      <td>0.021203</td>\n      <td>0.000982</td>\n      <td>0.037472</td>\n      <td>0.001277</td>\n      <td>0.531055</td>\n      <td>0.516038</td>\n    </tr>\n    <tr>\n      <th>2012-12-23</th>\n      <td>-0.009303</td>\n      <td>0</td>\n      <td>0.0</td>\n      <td>-0.017492</td>\n      <td>0</td>\n      <td>-0.009303</td>\n      <td>0.014705</td>\n      <td>0.006645</td>\n      <td>0.0</td>\n      <td>0</td>\n      <td>...</td>\n      <td>0.000000</td>\n      <td>0.000000</td>\n      <td>-0.001887</td>\n      <td>-0.001939</td>\n      <td>NaN</td>\n      <td>-0.000197</td>\n      <td>0.000000</td>\n      <td>-0.000349</td>\n      <td>0.000000</td>\n      <td>0.000000</td>\n    </tr>\n    <tr>\n      <th>2012-12-24</th>\n      <td>-0.017492</td>\n      <td>0</td>\n      <td>1.0</td>\n      <td>0.003756</td>\n      <td>0</td>\n      <td>-0.000000</td>\n      <td>-0.009303</td>\n      <td>0.014705</td>\n      <td>0.0</td>\n      <td>0</td>\n      <td>...</td>\n      <td>0.000000</td>\n      <td>0.000000</td>\n      <td>-0.000000</td>\n      <td>-0.000000</td>\n      <td>NaN</td>\n      <td>NaN</td>\n      <td>0.000000</td>\n      <td>-0.000000</td>\n      <td>0.000000</td>\n      <td>0.000000</td>\n    </tr>\n    <tr>\n      <th>2012-12-25</th>\n      <td>0.003756</td>\n      <td>0</td>\n      <td>0.0</td>\n      <td>-0.009642</td>\n      <td>1</td>\n      <td>0.000000</td>\n      <td>-0.017492</td>\n      <td>-0.009303</td>\n      <td>0.0</td>\n      <td>1</td>\n      <td>...</td>\n      <td>0.186669</td>\n      <td>0.257772</td>\n      <td>0.000000</td>\n      <td>0.000000</td>\n      <td>0.017912</td>\n      <td>NaN</td>\n      <td>0.046196</td>\n      <td>0.000000</td>\n      <td>0.528577</td>\n      <td>0.535911</td>\n    </tr>\n    <tr>\n      <th>...</th>\n      <td>...</td>\n      <td>...</td>\n      <td>...</td>\n      <td>...</td>\n      <td>...</td>\n      <td>...</td>\n      <td>...</td>\n      <td>...</td>\n      <td>...</td>\n      <td>...</td>\n      <td>...</td>\n      <td>...</td>\n      <td>...</td>\n      <td>...</td>\n      <td>...</td>\n      <td>...</td>\n      <td>...</td>\n      <td>...</td>\n      <td>...</td>\n      <td>...</td>\n      <td>...</td>\n    </tr>\n    <tr>\n      <th>2024-01-07</th>\n      <td>-0.003156</td>\n      <td>0</td>\n      <td>0.0</td>\n      <td>-0.003836</td>\n      <td>0</td>\n      <td>-0.003156</td>\n      <td>0.013160</td>\n      <td>0.001859</td>\n      <td>0.0</td>\n      <td>0</td>\n      <td>...</td>\n      <td>0.000000</td>\n      <td>0.000000</td>\n      <td>-0.001846</td>\n      <td>-0.001629</td>\n      <td>NaN</td>\n      <td>-0.000312</td>\n      <td>0.000000</td>\n      <td>-0.000290</td>\n      <td>0.000000</td>\n      <td>0.000000</td>\n    </tr>\n    <tr>\n      <th>2024-01-08</th>\n      <td>-0.003836</td>\n      <td>0</td>\n      <td>1.0</td>\n      <td>0.001363</td>\n      <td>0</td>\n      <td>-0.000000</td>\n      <td>-0.003156</td>\n      <td>0.013160</td>\n      <td>0.0</td>\n      <td>0</td>\n      <td>...</td>\n      <td>0.000000</td>\n      <td>0.000000</td>\n      <td>-0.000000</td>\n      <td>-0.000000</td>\n      <td>NaN</td>\n      <td>NaN</td>\n      <td>0.000000</td>\n      <td>-0.000000</td>\n      <td>0.000000</td>\n      <td>0.000000</td>\n    </tr>\n    <tr>\n      <th>2024-01-09</th>\n      <td>0.001363</td>\n      <td>0</td>\n      <td>1.0</td>\n      <td>0.007461</td>\n      <td>1</td>\n      <td>0.000000</td>\n      <td>-0.003836</td>\n      <td>-0.003156</td>\n      <td>0.0</td>\n      <td>1</td>\n      <td>...</td>\n      <td>0.258135</td>\n      <td>0.293945</td>\n      <td>0.000000</td>\n      <td>0.000000</td>\n      <td>0.032452</td>\n      <td>NaN</td>\n      <td>0.052595</td>\n      <td>0.000000</td>\n      <td>0.539545</td>\n      <td>0.550596</td>\n    </tr>\n    <tr>\n      <th>2024-01-10</th>\n      <td>0.007461</td>\n      <td>0</td>\n      <td>1.0</td>\n      <td>0.024638</td>\n      <td>1</td>\n      <td>0.007461</td>\n      <td>0.001363</td>\n      <td>-0.003836</td>\n      <td>0.0</td>\n      <td>1</td>\n      <td>...</td>\n      <td>0.233271</td>\n      <td>0.293945</td>\n      <td>0.001926</td>\n      <td>0.002193</td>\n      <td>0.027393</td>\n      <td>0.000242</td>\n      <td>0.052595</td>\n      <td>0.000392</td>\n      <td>0.535723</td>\n      <td>0.550596</td>\n    </tr>\n    <tr>\n      <th>2024-01-11</th>\n      <td>0.024638</td>\n      <td>0</td>\n      <td>0.0</td>\n      <td>-0.008623</td>\n      <td>1</td>\n      <td>0.024638</td>\n      <td>0.007461</td>\n      <td>0.001363</td>\n      <td>0.0</td>\n      <td>1</td>\n      <td>...</td>\n      <td>0.259985</td>\n      <td>0.261089</td>\n      <td>0.005747</td>\n      <td>0.007242</td>\n      <td>0.032829</td>\n      <td>0.000675</td>\n      <td>0.046783</td>\n      <td>0.001296</td>\n      <td>0.539829</td>\n      <td>0.537253</td>\n    </tr>\n  </tbody>\n</table>\n<p>4039 rows × 23 columns</p>\n</div>"
     },
     "execution_count": 104,
     "metadata": {},
     "output_type": "execute_result"
    }
   ],
   "source": [
    "data_test_set"
   ],
   "metadata": {
    "collapsed": false,
    "ExecuteTime": {
     "end_time": "2024-01-12T16:24:54.488521Z",
     "start_time": "2024-01-12T16:24:54.459852Z"
    }
   },
   "id": "5d9614bdf960201c"
  },
  {
   "cell_type": "markdown",
   "source": [
    "get daily returns"
   ],
   "metadata": {
    "collapsed": false
   },
   "id": "23d7301f401e4143"
  },
  {
   "cell_type": "code",
   "execution_count": 107,
   "outputs": [
    {
     "name": "stderr",
     "output_type": "stream",
     "text": [
      "/var/folders/1q/pl9tj55n57s9jg28npxw61n80000gn/T/ipykernel_61844/1632528895.py:1: SettingWithCopyWarning: \n",
      "A value is trying to be set on a copy of a slice from a DataFrame.\n",
      "Try using .loc[row_indexer,col_indexer] = value instead\n",
      "\n",
      "See the caveats in the documentation: https://pandas.pydata.org/pandas-docs/stable/user_guide/indexing.html#returning-a-view-versus-a-copy\n",
      "  data_test_set['dp_rets'] = (data_test_set['dp_size'] * target_test).shift(1)\n",
      "/var/folders/1q/pl9tj55n57s9jg28npxw61n80000gn/T/ipykernel_61844/1632528895.py:2: SettingWithCopyWarning: \n",
      "A value is trying to be set on a copy of a slice from a DataFrame.\n",
      "Try using .loc[row_indexer,col_indexer] = value instead\n",
      "\n",
      "See the caveats in the documentation: https://pandas.pydata.org/pandas-docs/stable/user_guide/indexing.html#returning-a-view-versus-a-copy\n",
      "  data_test_set['dp_iso_rets'] = (data_test_set['dp_iso_size'] * target_test).shift(1)\n"
     ]
    }
   ],
   "source": [
    "data_test_set['dp_rets'] = (data_test_set['dp_size'] * target_test).shift(1)\n",
    "data_test_set['dp_iso_rets'] = (data_test_set['dp_iso_size'] * target_test).shift(1)\n",
    "if (data_test_set['dp_iso_rets'].std() == 0) or (data_test_set['dp_iso_rets'].mean() == 0):\n",
    "    print('DP')\n",
    "    print(dp_size_iso.mean())"
   ],
   "metadata": {
    "collapsed": false,
    "ExecuteTime": {
     "end_time": "2024-01-12T16:27:21.698070Z",
     "start_time": "2024-01-12T16:27:21.675145Z"
    }
   },
   "id": "28abd31c960761f7"
  },
  {
   "cell_type": "code",
   "execution_count": 118,
   "outputs": [
    {
     "data": {
      "text/plain": "<Figure size 600x400 with 1 Axes>",
      "image/png": "[encoded data removed]"
     },
     "metadata": {},
     "output_type": "display_data"
    }
   ],
   "source": [
    "import matplotlib.pyplot as plt\n",
    "plt.figure(figsize = (6, 4))\n",
    "plt.plot(dp_size.cumsum(), label = 'de prado bet size')\n",
    "plt.plot(dp_size_iso.cumsum(), label = 'iso calibrated bet size')\n",
    "plt.legend(fontsize = 10)\n",
    "plt.grid(False)\n",
    "plt.show()"
   ],
   "metadata": {
    "collapsed": false,
    "ExecuteTime": {
     "end_time": "2024-01-12T16:32:25.824028Z",
     "start_time": "2024-01-12T16:32:25.687945Z"
    }
   },
   "id": "d2f1b8ceac8478ff"
  },
  {
   "cell_type": "code",
   "execution_count": null,
   "outputs": [],
   "source": [],
   "metadata": {
    "collapsed": false
   },
   "id": "45ff82efe2611e21"
  }
 ],
 "metadata": {
  "kernelspec": {
   "display_name": "Python 3",
   "language": "python",
   "name": "python3"
  },
  "language_info": {
   "codemirror_mode": {
    "name": "ipython",
    "version": 2
   },
   "file_extension": ".py",
   "mimetype": "text/x-python",
   "name": "python",
   "nbconvert_exporter": "python",
   "pygments_lexer": "ipython2",
   "version": "2.7.6"
  }
 },
 "nbformat": 4,
 "nbformat_minor": 5
}
