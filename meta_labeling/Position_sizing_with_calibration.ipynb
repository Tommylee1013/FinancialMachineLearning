{
 "cells": [
  {
   "cell_type": "markdown",
   "source": [
    "### Position sizing with calibration\n",
    "\n",
    "requirements : pandas 2.1.4, numpy 1.26.3"
   ],
   "metadata": {
    "collapsed": false
   },
   "id": "b5a4f5f680907de3"
  },
  {
   "cell_type": "code",
   "execution_count": 1,
   "id": "initial_id",
   "metadata": {
    "collapsed": true,
    "ExecuteTime": {
     "end_time": "2024-01-14T13:17:25.812098Z",
     "start_time": "2024-01-14T13:17:25.523037Z"
    }
   },
   "outputs": [],
   "source": [
    "import numpy as np\n",
    "import pandas as pd\n",
    "import quantstats as qs\n",
    "\n",
    "from scipy.stats import norm\n",
    "from scipy.optimize import minimize\n",
    "\n",
    "from statsmodels.distributions.empirical_distribution import ECDF\n",
    "\n",
    "from sklearn.model_selection import train_test_split\n",
    "from sklearn.linear_model import LogisticRegression\n",
    "from sklearn.metrics import make_scorer\n",
    "from sklearn.calibration import CalibratedClassifierCV\n",
    "from sklearn.preprocessing import StandardScaler\n",
    "\n",
    "from FinancialMachineLearning.generator.stochasticprocess import RegimeGenerator\n",
    "from FinancialMachineLearning.metrics.metrics import *\n",
    "\n",
    "import warnings\n",
    "warnings.filterwarnings('ignore')"
   ]
  },
  {
   "cell_type": "code",
   "execution_count": 2,
   "outputs": [],
   "source": [
    "mean_abs_scorer = make_scorer(mean_abs_error, greater_is_better=False)"
   ],
   "metadata": {
    "collapsed": false,
    "ExecuteTime": {
     "end_time": "2024-01-14T13:17:25.814219Z",
     "start_time": "2024-01-14T13:17:25.811432Z"
    }
   },
   "id": "c9169581475115d"
  },
  {
   "cell_type": "markdown",
   "source": [
    "Data Prep"
   ],
   "metadata": {
    "collapsed": false
   },
   "id": "1ea7ac3581b3e821"
  },
  {
   "cell_type": "code",
   "execution_count": 3,
   "outputs": [],
   "source": [
    "steps = 10000\n",
    "prob_switch = 0.20\n",
    "stdev = 0.014543365294448746\n",
    "\n",
    "regime = RegimeGenerator(\n",
    "    init_ar = (0.032, 0.020, -0.042),\n",
    "    inner_steps = 30,\n",
    "    phi_positive = (0.25, -0.20, 0.35),\n",
    "    phi_negative = (-0.25, 0.20, -0.35),\n",
    "    standard_deviation = stdev\n",
    ")"
   ],
   "metadata": {
    "collapsed": false,
    "ExecuteTime": {
     "end_time": "2024-01-14T13:17:25.816184Z",
     "start_time": "2024-01-14T13:17:25.814317Z"
    }
   },
   "id": "1b4ebc4f9b52dbbf"
  },
  {
   "cell_type": "code",
   "execution_count": 4,
   "outputs": [],
   "source": [
    "data = regime.dual_regime(total_steps = steps, prob_switch = prob_switch)"
   ],
   "metadata": {
    "collapsed": false,
    "ExecuteTime": {
     "end_time": "2024-01-14T13:17:25.859582Z",
     "start_time": "2024-01-14T13:17:25.818008Z"
    }
   },
   "id": "1f91c10ba2086cd4"
  },
  {
   "cell_type": "code",
   "execution_count": 5,
   "outputs": [],
   "source": [
    "model_data, data = regime.prep_data(with_flags = True)"
   ],
   "metadata": {
    "collapsed": false,
    "ExecuteTime": {
     "end_time": "2024-01-14T13:17:25.872023Z",
     "start_time": "2024-01-14T13:17:25.864355Z"
    }
   },
   "id": "9d4ee5877c603084"
  },
  {
   "cell_type": "code",
   "execution_count": 6,
   "outputs": [
    {
     "data": {
      "text/plain": "                rets  flags  target  target_rets  pmodel     prets     rets2  \\\n1996-09-16  0.017992      0     0.0    -0.011306       1  0.000000 -0.001710   \n1996-09-19  0.003880      0     1.0     0.017922       1  0.000000 -0.023230   \n1996-09-20  0.017922      0     0.0    -0.011900       1  0.017922  0.003880   \n1996-09-23  0.016120      0     0.0    -0.004664       1  0.000000 -0.006262   \n1996-09-26  0.001643      0     0.0    -0.021602       1  0.000000 -0.006364   \n\n               rets3  regime  \n1996-09-16 -0.024446     0.0  \n1996-09-19 -0.011306     0.0  \n1996-09-20 -0.023230     0.0  \n1996-09-23 -0.011900     0.0  \n1996-09-26 -0.004664     0.0  ",
      "text/html": "<div>\n<style scoped>\n    .dataframe tbody tr th:only-of-type {\n        vertical-align: middle;\n    }\n\n    .dataframe tbody tr th {\n        vertical-align: top;\n    }\n\n    .dataframe thead th {\n        text-align: right;\n    }\n</style>\n<table border=\"1\" class=\"dataframe\">\n  <thead>\n    <tr style=\"text-align: right;\">\n      <th></th>\n      <th>rets</th>\n      <th>flags</th>\n      <th>target</th>\n      <th>target_rets</th>\n      <th>pmodel</th>\n      <th>prets</th>\n      <th>rets2</th>\n      <th>rets3</th>\n      <th>regime</th>\n    </tr>\n  </thead>\n  <tbody>\n    <tr>\n      <th>1996-09-16</th>\n      <td>0.017992</td>\n      <td>0</td>\n      <td>0.0</td>\n      <td>-0.011306</td>\n      <td>1</td>\n      <td>0.000000</td>\n      <td>-0.001710</td>\n      <td>-0.024446</td>\n      <td>0.0</td>\n    </tr>\n    <tr>\n      <th>1996-09-19</th>\n      <td>0.003880</td>\n      <td>0</td>\n      <td>1.0</td>\n      <td>0.017922</td>\n      <td>1</td>\n      <td>0.000000</td>\n      <td>-0.023230</td>\n      <td>-0.011306</td>\n      <td>0.0</td>\n    </tr>\n    <tr>\n      <th>1996-09-20</th>\n      <td>0.017922</td>\n      <td>0</td>\n      <td>0.0</td>\n      <td>-0.011900</td>\n      <td>1</td>\n      <td>0.017922</td>\n      <td>0.003880</td>\n      <td>-0.023230</td>\n      <td>0.0</td>\n    </tr>\n    <tr>\n      <th>1996-09-23</th>\n      <td>0.016120</td>\n      <td>0</td>\n      <td>0.0</td>\n      <td>-0.004664</td>\n      <td>1</td>\n      <td>0.000000</td>\n      <td>-0.006262</td>\n      <td>-0.011900</td>\n      <td>0.0</td>\n    </tr>\n    <tr>\n      <th>1996-09-26</th>\n      <td>0.001643</td>\n      <td>0</td>\n      <td>0.0</td>\n      <td>-0.021602</td>\n      <td>1</td>\n      <td>0.000000</td>\n      <td>-0.006364</td>\n      <td>-0.004664</td>\n      <td>0.0</td>\n    </tr>\n  </tbody>\n</table>\n</div>"
     },
     "execution_count": 6,
     "metadata": {},
     "output_type": "execute_result"
    }
   ],
   "source": [
    "model_data.head()"
   ],
   "metadata": {
    "collapsed": false,
    "ExecuteTime": {
     "end_time": "2024-01-14T13:17:25.888815Z",
     "start_time": "2024-01-14T13:17:25.873426Z"
    }
   },
   "id": "a7edd4b4f149f29e"
  },
  {
   "cell_type": "code",
   "execution_count": 7,
   "outputs": [
    {
     "data": {
      "text/plain": "                rets  flags  target  target_rets  pmodel     prets     rets2  \\\n1996-09-09 -0.006046      0     1.0     0.012796       0 -0.000000       NaN   \n1996-09-10  0.012796      0     1.0     0.005789       1  0.000000 -0.006046   \n1996-09-11  0.005789      0     1.0     0.005347       1  0.005789  0.012796   \n1996-09-12  0.005347      0     1.0     0.000328       1  0.005347  0.005789   \n1996-09-13  0.000328      0     0.0    -0.024446       1  0.000328  0.005347   \n\n               rets3  regime  \n1996-09-09       NaN     NaN  \n1996-09-10       NaN     NaN  \n1996-09-11 -0.006046     NaN  \n1996-09-12  0.012796     NaN  \n1996-09-13  0.005789     NaN  ",
      "text/html": "<div>\n<style scoped>\n    .dataframe tbody tr th:only-of-type {\n        vertical-align: middle;\n    }\n\n    .dataframe tbody tr th {\n        vertical-align: top;\n    }\n\n    .dataframe thead th {\n        text-align: right;\n    }\n</style>\n<table border=\"1\" class=\"dataframe\">\n  <thead>\n    <tr style=\"text-align: right;\">\n      <th></th>\n      <th>rets</th>\n      <th>flags</th>\n      <th>target</th>\n      <th>target_rets</th>\n      <th>pmodel</th>\n      <th>prets</th>\n      <th>rets2</th>\n      <th>rets3</th>\n      <th>regime</th>\n    </tr>\n  </thead>\n  <tbody>\n    <tr>\n      <th>1996-09-09</th>\n      <td>-0.006046</td>\n      <td>0</td>\n      <td>1.0</td>\n      <td>0.012796</td>\n      <td>0</td>\n      <td>-0.000000</td>\n      <td>NaN</td>\n      <td>NaN</td>\n      <td>NaN</td>\n    </tr>\n    <tr>\n      <th>1996-09-10</th>\n      <td>0.012796</td>\n      <td>0</td>\n      <td>1.0</td>\n      <td>0.005789</td>\n      <td>1</td>\n      <td>0.000000</td>\n      <td>-0.006046</td>\n      <td>NaN</td>\n      <td>NaN</td>\n    </tr>\n    <tr>\n      <th>1996-09-11</th>\n      <td>0.005789</td>\n      <td>0</td>\n      <td>1.0</td>\n      <td>0.005347</td>\n      <td>1</td>\n      <td>0.005789</td>\n      <td>0.012796</td>\n      <td>-0.006046</td>\n      <td>NaN</td>\n    </tr>\n    <tr>\n      <th>1996-09-12</th>\n      <td>0.005347</td>\n      <td>0</td>\n      <td>1.0</td>\n      <td>0.000328</td>\n      <td>1</td>\n      <td>0.005347</td>\n      <td>0.005789</td>\n      <td>0.012796</td>\n      <td>NaN</td>\n    </tr>\n    <tr>\n      <th>1996-09-13</th>\n      <td>0.000328</td>\n      <td>0</td>\n      <td>0.0</td>\n      <td>-0.024446</td>\n      <td>1</td>\n      <td>0.000328</td>\n      <td>0.005347</td>\n      <td>0.005789</td>\n      <td>NaN</td>\n    </tr>\n  </tbody>\n</table>\n</div>"
     },
     "execution_count": 7,
     "metadata": {},
     "output_type": "execute_result"
    }
   ],
   "source": [
    "data.head()"
   ],
   "metadata": {
    "collapsed": false,
    "ExecuteTime": {
     "end_time": "2024-01-14T13:17:25.891037Z",
     "start_time": "2024-01-14T13:17:25.886080Z"
    }
   },
   "id": "cbfb0f84e4c3e4ce"
  },
  {
   "cell_type": "markdown",
   "source": [
    "#### Modeling"
   ],
   "metadata": {
    "collapsed": false
   },
   "id": "c21e5d729cdac926"
  },
  {
   "cell_type": "code",
   "execution_count": 8,
   "outputs": [],
   "source": [
    "train, test = train_test_split(model_data, test_size = 0.4, shuffle = False)"
   ],
   "metadata": {
    "collapsed": false,
    "ExecuteTime": {
     "end_time": "2024-01-14T13:17:25.902606Z",
     "start_time": "2024-01-14T13:17:25.890659Z"
    }
   },
   "id": "b6f545f42a172a76"
  },
  {
   "cell_type": "code",
   "execution_count": 9,
   "outputs": [],
   "source": [
    "X_train_regime = train[['rets', 'rets2', 'rets3', 'regime']]\n",
    "X_test_regime = test[['rets', 'rets2', 'rets3', 'regime']]\n",
    "\n",
    "y_train = train['target']\n",
    "y_test = test['target']"
   ],
   "metadata": {
    "collapsed": false,
    "ExecuteTime": {
     "end_time": "2024-01-14T13:17:25.902846Z",
     "start_time": "2024-01-14T13:17:25.894425Z"
    }
   },
   "id": "fb3f6073a13f3d7c"
  },
  {
   "cell_type": "markdown",
   "source": [
    "Add `standardScalar` as a best practice although in this setting its not really needed. `Logistic regression` is a convex optimisation problem and the global minima is always found.\n",
    "\n",
    "only scale r1, 2, 3 - regime is left unscaled. (derived by hudson theme)"
   ],
   "metadata": {
    "collapsed": false
   },
   "id": "420c17ad1acd8280"
  },
  {
   "cell_type": "code",
   "execution_count": 10,
   "outputs": [],
   "source": [
    "scaler = StandardScaler()\n",
    "\n",
    "X_train_regime_scaled = scaler.fit_transform(X_train_regime[['rets','rets2','rets3']])\n",
    "regime = X_train_regime['regime'].values.reshape((-1, 1))\n",
    "X_train_regime_scaled = np.append(X_train_regime_scaled, regime, axis = 1)"
   ],
   "metadata": {
    "collapsed": false,
    "ExecuteTime": {
     "end_time": "2024-01-14T13:17:25.912543Z",
     "start_time": "2024-01-14T13:17:25.900858Z"
    }
   },
   "id": "c7b420d6a85d0887"
  },
  {
   "cell_type": "code",
   "execution_count": 11,
   "outputs": [],
   "source": [
    "X_test_regime_scaled = scaler.transform(X_test_regime[['rets', 'rets2', 'rets3']])\n",
    "regime = X_test_regime['regime'].values.reshape((-1, 1))\n",
    "X_test_regime_scaled = np.append(X_test_regime_scaled, regime, axis=1)"
   ],
   "metadata": {
    "collapsed": false,
    "ExecuteTime": {
     "end_time": "2024-01-14T13:17:25.913163Z",
     "start_time": "2024-01-14T13:17:25.904534Z"
    }
   },
   "id": "63a1812819d1db2f"
  },
  {
   "cell_type": "markdown",
   "source": [
    "#### Calibration\n",
    "\n",
    "first, consider logistic regression case"
   ],
   "metadata": {
    "collapsed": false
   },
   "id": "38da6f60396a9dce"
  },
  {
   "cell_type": "code",
   "execution_count": 12,
   "outputs": [],
   "source": [
    "meta_model_regime = LogisticRegression(random_state = 0, penalty = None)"
   ],
   "metadata": {
    "collapsed": false,
    "ExecuteTime": {
     "end_time": "2024-01-14T13:17:25.913256Z",
     "start_time": "2024-01-14T13:17:25.907881Z"
    }
   },
   "id": "c51b23ab25f6617e"
  },
  {
   "cell_type": "markdown",
   "source": [
    "Create calibrator which will use the base logistic model from above"
   ],
   "metadata": {
    "collapsed": false
   },
   "id": "ab8b447b3f130ca4"
  },
  {
   "cell_type": "code",
   "execution_count": 13,
   "outputs": [
    {
     "data": {
      "text/plain": "CalibratedClassifierCV(cv=5,\n                       estimator=LogisticRegression(penalty=None,\n                                                    random_state=0),\n                       method='isotonic', n_jobs=-1)",
      "text/html": "<style>#sk-container-id-1 {color: black;}#sk-container-id-1 pre{padding: 0;}#sk-container-id-1 div.sk-toggleable {background-color: white;}#sk-container-id-1 label.sk-toggleable__label {cursor: pointer;display: block;width: 100%;margin-bottom: 0;padding: 0.3em;box-sizing: border-box;text-align: center;}#sk-container-id-1 label.sk-toggleable__label-arrow:before {content: \"▸\";float: left;margin-right: 0.25em;color: #696969;}#sk-container-id-1 label.sk-toggleable__label-arrow:hover:before {color: black;}#sk-container-id-1 div.sk-estimator:hover label.sk-toggleable__label-arrow:before {color: black;}#sk-container-id-1 div.sk-toggleable__content {max-height: 0;max-width: 0;overflow: hidden;text-align: left;background-color: #f0f8ff;}#sk-container-id-1 div.sk-toggleable__content pre {margin: 0.2em;color: black;border-radius: 0.25em;background-color: #f0f8ff;}#sk-container-id-1 input.sk-toggleable__control:checked~div.sk-toggleable__content {max-height: 200px;max-width: 100%;overflow: auto;}#sk-container-id-1 input.sk-toggleable__control:checked~label.sk-toggleable__label-arrow:before {content: \"▾\";}#sk-container-id-1 div.sk-estimator input.sk-toggleable__control:checked~label.sk-toggleable__label {background-color: #d4ebff;}#sk-container-id-1 div.sk-label input.sk-toggleable__control:checked~label.sk-toggleable__label {background-color: #d4ebff;}#sk-container-id-1 input.sk-hidden--visually {border: 0;clip: rect(1px 1px 1px 1px);clip: rect(1px, 1px, 1px, 1px);height: 1px;margin: -1px;overflow: hidden;padding: 0;position: absolute;width: 1px;}#sk-container-id-1 div.sk-estimator {font-family: monospace;background-color: #f0f8ff;border: 1px dotted black;border-radius: 0.25em;box-sizing: border-box;margin-bottom: 0.5em;}#sk-container-id-1 div.sk-estimator:hover {background-color: #d4ebff;}#sk-container-id-1 div.sk-parallel-item::after {content: \"\";width: 100%;border-bottom: 1px solid gray;flex-grow: 1;}#sk-container-id-1 div.sk-label:hover label.sk-toggleable__label {background-color: #d4ebff;}#sk-container-id-1 div.sk-serial::before {content: \"\";position: absolute;border-left: 1px solid gray;box-sizing: border-box;top: 0;bottom: 0;left: 50%;z-index: 0;}#sk-container-id-1 div.sk-serial {display: flex;flex-direction: column;align-items: center;background-color: white;padding-right: 0.2em;padding-left: 0.2em;position: relative;}#sk-container-id-1 div.sk-item {position: relative;z-index: 1;}#sk-container-id-1 div.sk-parallel {display: flex;align-items: stretch;justify-content: center;background-color: white;position: relative;}#sk-container-id-1 div.sk-item::before, #sk-container-id-1 div.sk-parallel-item::before {content: \"\";position: absolute;border-left: 1px solid gray;box-sizing: border-box;top: 0;bottom: 0;left: 50%;z-index: -1;}#sk-container-id-1 div.sk-parallel-item {display: flex;flex-direction: column;z-index: 1;position: relative;background-color: white;}#sk-container-id-1 div.sk-parallel-item:first-child::after {align-self: flex-end;width: 50%;}#sk-container-id-1 div.sk-parallel-item:last-child::after {align-self: flex-start;width: 50%;}#sk-container-id-1 div.sk-parallel-item:only-child::after {width: 0;}#sk-container-id-1 div.sk-dashed-wrapped {border: 1px dashed gray;margin: 0 0.4em 0.5em 0.4em;box-sizing: border-box;padding-bottom: 0.4em;background-color: white;}#sk-container-id-1 div.sk-label label {font-family: monospace;font-weight: bold;display: inline-block;line-height: 1.2em;}#sk-container-id-1 div.sk-label-container {text-align: center;}#sk-container-id-1 div.sk-container {/* jupyter's `normalize.less` sets `[hidden] { display: none; }` but bootstrap.min.css set `[hidden] { display: none !important; }` so we also need the `!important` here to be able to override the default hidden behavior on the sphinx rendered scikit-learn.org. See: https://github.com/scikit-learn/scikit-learn/issues/21755 */display: inline-block !important;position: relative;}#sk-container-id-1 div.sk-text-repr-fallback {display: none;}</style><div id=\"sk-container-id-1\" class=\"sk-top-container\"><div class=\"sk-text-repr-fallback\"><pre>CalibratedClassifierCV(cv=5,\n                       estimator=LogisticRegression(penalty=None,\n                                                    random_state=0),\n                       method=&#x27;isotonic&#x27;, n_jobs=-1)</pre><b>In a Jupyter environment, please rerun this cell to show the HTML representation or trust the notebook. <br />On GitHub, the HTML representation is unable to render, please try loading this page with nbviewer.org.</b></div><div class=\"sk-container\" hidden><div class=\"sk-item sk-dashed-wrapped\"><div class=\"sk-label-container\"><div class=\"sk-label sk-toggleable\"><input class=\"sk-toggleable__control sk-hidden--visually\" id=\"sk-estimator-id-1\" type=\"checkbox\" ><label for=\"sk-estimator-id-1\" class=\"sk-toggleable__label sk-toggleable__label-arrow\">CalibratedClassifierCV</label><div class=\"sk-toggleable__content\"><pre>CalibratedClassifierCV(cv=5,\n                       estimator=LogisticRegression(penalty=None,\n                                                    random_state=0),\n                       method=&#x27;isotonic&#x27;, n_jobs=-1)</pre></div></div></div><div class=\"sk-parallel\"><div class=\"sk-parallel-item\"><div class=\"sk-item\"><div class=\"sk-label-container\"><div class=\"sk-label sk-toggleable\"><input class=\"sk-toggleable__control sk-hidden--visually\" id=\"sk-estimator-id-2\" type=\"checkbox\" ><label for=\"sk-estimator-id-2\" class=\"sk-toggleable__label sk-toggleable__label-arrow\">estimator: LogisticRegression</label><div class=\"sk-toggleable__content\"><pre>LogisticRegression(penalty=None, random_state=0)</pre></div></div></div><div class=\"sk-serial\"><div class=\"sk-item\"><div class=\"sk-estimator sk-toggleable\"><input class=\"sk-toggleable__control sk-hidden--visually\" id=\"sk-estimator-id-3\" type=\"checkbox\" ><label for=\"sk-estimator-id-3\" class=\"sk-toggleable__label sk-toggleable__label-arrow\">LogisticRegression</label><div class=\"sk-toggleable__content\"><pre>LogisticRegression(penalty=None, random_state=0)</pre></div></div></div></div></div></div></div></div></div></div>"
     },
     "execution_count": 13,
     "metadata": {},
     "output_type": "execute_result"
    }
   ],
   "source": [
    "calibrated_model_isotonic = CalibratedClassifierCV(\n",
    "    estimator = meta_model_regime,\n",
    "    method = 'isotonic', \n",
    "    cv = 5, n_jobs = -1, ensemble = True)\n",
    "calibrated_model_isotonic.fit(X_train_regime_scaled, y_train)"
   ],
   "metadata": {
    "collapsed": false,
    "ExecuteTime": {
     "end_time": "2024-01-14T13:17:27.038261Z",
     "start_time": "2024-01-14T13:17:25.911488Z"
    }
   },
   "id": "bd85811662f2f26e"
  },
  {
   "cell_type": "markdown",
   "source": [
    "Get iso model train probs, and return pandas Series with index as date."
   ],
   "metadata": {
    "collapsed": false
   },
   "id": "ef1756c84478ea2"
  },
  {
   "cell_type": "code",
   "execution_count": 14,
   "outputs": [],
   "source": [
    "prob_isotonic_train = calibrated_model_isotonic.predict_proba(X_train_regime_scaled)[:, 1]\n",
    "prob_isotonic_train = pd.Series(prob_isotonic_train, index = X_train_regime.index)"
   ],
   "metadata": {
    "collapsed": false,
    "ExecuteTime": {
     "end_time": "2024-01-14T13:17:27.067434Z",
     "start_time": "2024-01-14T13:17:27.030141Z"
    }
   },
   "id": "ad8fd40d8cd5f3f5"
  },
  {
   "cell_type": "markdown",
   "source": [
    "Get unscaled prob from secondary model, i.e., the Logistic Regression."
   ],
   "metadata": {
    "collapsed": false
   },
   "id": "77417eb3c6e90699"
  },
  {
   "cell_type": "code",
   "execution_count": 15,
   "outputs": [],
   "source": [
    "prob_train = np.array([cmodel.estimator.predict_proba(X_train_regime_scaled)[:, 1] \n",
    "                       for cmodel in calibrated_model_isotonic.calibrated_classifiers_]).mean(axis = 0)"
   ],
   "metadata": {
    "collapsed": false,
    "ExecuteTime": {
     "end_time": "2024-01-14T13:17:27.117097Z",
     "start_time": "2024-01-14T13:17:27.061289Z"
    }
   },
   "id": "8322e57b16704481"
  },
  {
   "cell_type": "markdown",
   "source": [
    "Get base model train scores"
   ],
   "metadata": {
    "collapsed": false
   },
   "id": "bcce1230998da3f7"
  },
  {
   "cell_type": "code",
   "execution_count": 16,
   "outputs": [
    {
     "data": {
      "text/plain": "1996-09-16    0.483883\n1996-09-19    0.539161\n1996-09-20    0.480208\n1996-09-23    0.533467\n1996-09-26    0.535604\ndtype: float64"
     },
     "execution_count": 16,
     "metadata": {},
     "output_type": "execute_result"
    }
   ],
   "source": [
    "prob_train = pd.Series(prob_train, index = X_train_regime.index)\n",
    "prob_train.head()"
   ],
   "metadata": {
    "collapsed": false,
    "ExecuteTime": {
     "end_time": "2024-01-14T13:17:27.128444Z",
     "start_time": "2024-01-14T13:17:27.119154Z"
    }
   },
   "id": "e89c8a5594d0102f"
  },
  {
   "cell_type": "markdown",
   "source": [
    "Check that the base model and calibrated models align"
   ],
   "metadata": {
    "collapsed": false
   },
   "id": "36677b0a27ac52b1"
  },
  {
   "cell_type": "code",
   "execution_count": 17,
   "outputs": [],
   "source": [
    "assert(prob_train.shape == prob_isotonic_train.shape)"
   ],
   "metadata": {
    "collapsed": false,
    "ExecuteTime": {
     "end_time": "2024-01-14T13:17:27.140909Z",
     "start_time": "2024-01-14T13:17:27.127665Z"
    }
   },
   "id": "4344d4ef6d364334"
  },
  {
   "cell_type": "markdown",
   "source": [
    "Get iso model test scores, and return pandas Series with index as date."
   ],
   "metadata": {
    "collapsed": false
   },
   "id": "7e8880e47fe59878"
  },
  {
   "cell_type": "code",
   "execution_count": 18,
   "outputs": [
    {
     "data": {
      "text/plain": "2013-03-17    0.693537\n2013-03-18    0.418661\n2013-03-21    0.502965\n2013-03-22    0.325112\n2013-03-27    0.418661\ndtype: float64"
     },
     "execution_count": 18,
     "metadata": {},
     "output_type": "execute_result"
    }
   ],
   "source": [
    "prob_isotonic_test = calibrated_model_isotonic.predict_proba(X_test_regime_scaled)[:, 1]\n",
    "prob_isotonic_test = pd.Series(prob_isotonic_test, index = X_test_regime.index)\n",
    "prob_isotonic_test.head()"
   ],
   "metadata": {
    "collapsed": false,
    "ExecuteTime": {
     "end_time": "2024-01-14T13:17:27.166428Z",
     "start_time": "2024-01-14T13:17:27.136127Z"
    }
   },
   "id": "18a613a387197894"
  },
  {
   "cell_type": "markdown",
   "source": [
    "Get unscaled prob from secondary model, i.e., the Logistic Regression."
   ],
   "metadata": {
    "collapsed": false
   },
   "id": "3177014a35dd7ba9"
  },
  {
   "cell_type": "code",
   "execution_count": 19,
   "outputs": [],
   "source": [
    "prob_test = np.array([cmodel.estimator.predict_proba(X_test_regime_scaled)[:, 1]\n",
    "                      for cmodel in calibrated_model_isotonic.calibrated_classifiers_]).mean(axis=0)"
   ],
   "metadata": {
    "collapsed": false,
    "ExecuteTime": {
     "end_time": "2024-01-14T13:17:27.166683Z",
     "start_time": "2024-01-14T13:17:27.146940Z"
    }
   },
   "id": "e90ff9068f48f339"
  },
  {
   "cell_type": "markdown",
   "source": [
    "Get base model train scores"
   ],
   "metadata": {
    "collapsed": false
   },
   "id": "e23f0d31db412df0"
  },
  {
   "cell_type": "code",
   "execution_count": 20,
   "outputs": [],
   "source": [
    "prob_test = pd.Series(prob_test, index = X_test_regime.index)"
   ],
   "metadata": {
    "collapsed": false,
    "ExecuteTime": {
     "end_time": "2024-01-14T13:17:27.169032Z",
     "start_time": "2024-01-14T13:17:27.157511Z"
    }
   },
   "id": "6e955b02dd40ad61"
  },
  {
   "cell_type": "markdown",
   "source": [
    "Check that the base model and calibrated models align"
   ],
   "metadata": {
    "collapsed": false
   },
   "id": "4f1c65aae7916577"
  },
  {
   "cell_type": "code",
   "execution_count": 21,
   "outputs": [],
   "source": [
    "assert(prob_test.shape == prob_isotonic_test.shape)"
   ],
   "metadata": {
    "collapsed": false,
    "ExecuteTime": {
     "end_time": "2024-01-14T13:17:27.184066Z",
     "start_time": "2024-01-14T13:17:27.166171Z"
    }
   },
   "id": "b0358238ee6eb0f9"
  },
  {
   "cell_type": "markdown",
   "source": [
    "#### Add the calibrated row\n",
    "\n",
    "Add the calibrated and raw probabilities plus the pred to the train and test data sets. first, add proba [0, 1]"
   ],
   "metadata": {
    "collapsed": false
   },
   "id": "ebfc0f34994354d7"
  },
  {
   "cell_type": "code",
   "execution_count": 22,
   "outputs": [],
   "source": [
    "train['prob'] = prob_train\n",
    "train['prob_iso'] = prob_isotonic_train\n",
    "test['prob'] = prob_test\n",
    "test['prob_iso'] = prob_isotonic_test"
   ],
   "metadata": {
    "collapsed": false,
    "ExecuteTime": {
     "end_time": "2024-01-14T13:17:27.264953Z",
     "start_time": "2024-01-14T13:17:27.176010Z"
    }
   },
   "id": "7558bf2c42fa08c7"
  },
  {
   "cell_type": "markdown",
   "source": [
    "add predictions {0, 1}"
   ],
   "metadata": {
    "collapsed": false
   },
   "id": "fb36368972dd442d"
  },
  {
   "cell_type": "code",
   "execution_count": 23,
   "outputs": [],
   "source": [
    "train['pred'] = 0\n",
    "train['pred_iso'] = 0\n",
    "train.loc[prob_train > 0.5, 'pred'] = 1\n",
    "train.loc[prob_isotonic_train > 0.5, 'pred_iso'] = 1\n",
    "\n",
    "test['pred'] = 0\n",
    "test['pred_iso'] = 0\n",
    "test.loc[prob_test > 0.5, 'pred'] = 1\n",
    "test.loc[prob_isotonic_test > 0.5, 'pred_iso'] = 1"
   ],
   "metadata": {
    "collapsed": false,
    "ExecuteTime": {
     "end_time": "2024-01-14T13:17:27.327553Z",
     "start_time": "2024-01-14T13:17:27.182575Z"
    }
   },
   "id": "9ae19438b4fbcd2e"
  },
  {
   "cell_type": "markdown",
   "source": [
    "#### prep strategy data\n",
    "\n",
    "set forecasts to original data, and set new columns"
   ],
   "metadata": {
    "collapsed": false
   },
   "id": "1e6c99f1073fee43"
  },
  {
   "cell_type": "code",
   "execution_count": 24,
   "outputs": [],
   "source": [
    "data['pred'] = 0\n",
    "data['prob'] = 0\n",
    "data['prob_iso'] = 0\n",
    "data['pred_iso'] = 0"
   ],
   "metadata": {
    "collapsed": false,
    "ExecuteTime": {
     "end_time": "2024-01-14T13:17:27.355711Z",
     "start_time": "2024-01-14T13:17:27.197408Z"
    }
   },
   "id": "4a8fbab933f8bb11"
  },
  {
   "cell_type": "markdown",
   "source": [
    "assign column values"
   ],
   "metadata": {
    "collapsed": false
   },
   "id": "60f3d42f56249d61"
  },
  {
   "cell_type": "code",
   "execution_count": 25,
   "outputs": [],
   "source": [
    "data.loc[train.index, 'pred'] = train['pred']\n",
    "data.loc[train.index, 'prob'] = train['prob'].copy()\n",
    "data.loc[train.index, 'pred_iso'] = train['pred_iso']\n",
    "data.loc[train.index, 'prob_iso'] = train['prob_iso'].copy()\n",
    "data.loc[test.index, 'pred'] = test['pred']\n",
    "data.loc[test.index, 'prob'] = test['prob']\n",
    "data.loc[test.index, 'pred_iso'] = test['pred_iso']\n",
    "data.loc[test.index, 'prob_iso'] = test['prob_iso']"
   ],
   "metadata": {
    "collapsed": false,
    "ExecuteTime": {
     "end_time": "2024-01-14T13:17:27.355945Z",
     "start_time": "2024-01-14T13:17:27.206944Z"
    }
   },
   "id": "caa41a89f6c2e254"
  },
  {
   "cell_type": "markdown",
   "source": [
    "subset train data"
   ],
   "metadata": {
    "collapsed": false
   },
   "id": "b557dce040cef2af"
  },
  {
   "cell_type": "code",
   "execution_count": 26,
   "outputs": [],
   "source": [
    "data_train_set = data.loc[train.index[0]:train.index[-1]]\n",
    "data_test_set = data.loc[test.index[0]:test.index[-1]]"
   ],
   "metadata": {
    "collapsed": false,
    "ExecuteTime": {
     "end_time": "2024-01-14T13:17:27.356033Z",
     "start_time": "2024-01-14T13:17:27.220770Z"
    }
   },
   "id": "8611a88b57c1443c"
  },
  {
   "cell_type": "code",
   "execution_count": 27,
   "outputs": [
    {
     "data": {
      "text/plain": "                rets  flags  target  target_rets  pmodel     prets     rets2  \\\n1996-09-16  0.017992      0     0.0    -0.011306       1  0.000000 -0.001710   \n1996-09-17 -0.011306      0     0.0    -0.023230       0 -0.011306  0.017992   \n1996-09-18 -0.023230      0     1.0     0.003880       0 -0.000000 -0.011306   \n1996-09-19  0.003880      0     1.0     0.017922       1  0.000000 -0.023230   \n1996-09-20  0.017922      0     0.0    -0.011900       1  0.017922  0.003880   \n\n               rets3  regime  pred      prob  prob_iso  pred_iso  \n1996-09-16 -0.024446     0.0     0  0.483883  0.359934         0  \n1996-09-17 -0.001710     0.0     0  0.000000  0.000000         0  \n1996-09-18  0.017992     0.0     0  0.000000  0.000000         0  \n1996-09-19 -0.011306     0.0     1  0.539161  0.506199         1  \n1996-09-20 -0.023230     0.0     0  0.480208  0.351600         0  ",
      "text/html": "<div>\n<style scoped>\n    .dataframe tbody tr th:only-of-type {\n        vertical-align: middle;\n    }\n\n    .dataframe tbody tr th {\n        vertical-align: top;\n    }\n\n    .dataframe thead th {\n        text-align: right;\n    }\n</style>\n<table border=\"1\" class=\"dataframe\">\n  <thead>\n    <tr style=\"text-align: right;\">\n      <th></th>\n      <th>rets</th>\n      <th>flags</th>\n      <th>target</th>\n      <th>target_rets</th>\n      <th>pmodel</th>\n      <th>prets</th>\n      <th>rets2</th>\n      <th>rets3</th>\n      <th>regime</th>\n      <th>pred</th>\n      <th>prob</th>\n      <th>prob_iso</th>\n      <th>pred_iso</th>\n    </tr>\n  </thead>\n  <tbody>\n    <tr>\n      <th>1996-09-16</th>\n      <td>0.017992</td>\n      <td>0</td>\n      <td>0.0</td>\n      <td>-0.011306</td>\n      <td>1</td>\n      <td>0.000000</td>\n      <td>-0.001710</td>\n      <td>-0.024446</td>\n      <td>0.0</td>\n      <td>0</td>\n      <td>0.483883</td>\n      <td>0.359934</td>\n      <td>0</td>\n    </tr>\n    <tr>\n      <th>1996-09-17</th>\n      <td>-0.011306</td>\n      <td>0</td>\n      <td>0.0</td>\n      <td>-0.023230</td>\n      <td>0</td>\n      <td>-0.011306</td>\n      <td>0.017992</td>\n      <td>-0.001710</td>\n      <td>0.0</td>\n      <td>0</td>\n      <td>0.000000</td>\n      <td>0.000000</td>\n      <td>0</td>\n    </tr>\n    <tr>\n      <th>1996-09-18</th>\n      <td>-0.023230</td>\n      <td>0</td>\n      <td>1.0</td>\n      <td>0.003880</td>\n      <td>0</td>\n      <td>-0.000000</td>\n      <td>-0.011306</td>\n      <td>0.017992</td>\n      <td>0.0</td>\n      <td>0</td>\n      <td>0.000000</td>\n      <td>0.000000</td>\n      <td>0</td>\n    </tr>\n    <tr>\n      <th>1996-09-19</th>\n      <td>0.003880</td>\n      <td>0</td>\n      <td>1.0</td>\n      <td>0.017922</td>\n      <td>1</td>\n      <td>0.000000</td>\n      <td>-0.023230</td>\n      <td>-0.011306</td>\n      <td>0.0</td>\n      <td>1</td>\n      <td>0.539161</td>\n      <td>0.506199</td>\n      <td>1</td>\n    </tr>\n    <tr>\n      <th>1996-09-20</th>\n      <td>0.017922</td>\n      <td>0</td>\n      <td>0.0</td>\n      <td>-0.011900</td>\n      <td>1</td>\n      <td>0.017922</td>\n      <td>0.003880</td>\n      <td>-0.023230</td>\n      <td>0.0</td>\n      <td>0</td>\n      <td>0.480208</td>\n      <td>0.351600</td>\n      <td>0</td>\n    </tr>\n  </tbody>\n</table>\n</div>"
     },
     "execution_count": 27,
     "metadata": {},
     "output_type": "execute_result"
    }
   ],
   "source": [
    "data_train_set.head()"
   ],
   "metadata": {
    "collapsed": false,
    "ExecuteTime": {
     "end_time": "2024-01-14T13:17:27.356706Z",
     "start_time": "2024-01-14T13:17:27.228964Z"
    }
   },
   "id": "c161f64841f321f1"
  },
  {
   "cell_type": "code",
   "execution_count": 28,
   "outputs": [
    {
     "data": {
      "text/plain": "                rets  flags  target  target_rets  pmodel     prets     rets2  \\\n2013-03-17  0.002953      0     1.0     0.008125       1  0.000000 -0.008307   \n2013-03-18  0.008125      0     0.0    -0.020636       1  0.008125  0.002953   \n2013-03-19 -0.020636      0     0.0    -0.023707       0 -0.020636  0.008125   \n2013-03-20 -0.023707      0     1.0     0.022996       0 -0.000000 -0.020636   \n2013-03-21  0.022996      0     1.0     0.007735       1  0.000000 -0.023707   \n\n               rets3  regime  pred      prob  prob_iso  pred_iso  \n2013-03-17  0.011558     0.0     1  0.599217  0.693537         1  \n2013-03-18 -0.008307     0.0     1  0.519865  0.418661         0  \n2013-03-19  0.002953     0.0     0  0.000000  0.000000         0  \n2013-03-20  0.008125     0.0     0  0.000000  0.000000         0  \n2013-03-21 -0.020636     0.0     1  0.538046  0.502965         1  ",
      "text/html": "<div>\n<style scoped>\n    .dataframe tbody tr th:only-of-type {\n        vertical-align: middle;\n    }\n\n    .dataframe tbody tr th {\n        vertical-align: top;\n    }\n\n    .dataframe thead th {\n        text-align: right;\n    }\n</style>\n<table border=\"1\" class=\"dataframe\">\n  <thead>\n    <tr style=\"text-align: right;\">\n      <th></th>\n      <th>rets</th>\n      <th>flags</th>\n      <th>target</th>\n      <th>target_rets</th>\n      <th>pmodel</th>\n      <th>prets</th>\n      <th>rets2</th>\n      <th>rets3</th>\n      <th>regime</th>\n      <th>pred</th>\n      <th>prob</th>\n      <th>prob_iso</th>\n      <th>pred_iso</th>\n    </tr>\n  </thead>\n  <tbody>\n    <tr>\n      <th>2013-03-17</th>\n      <td>0.002953</td>\n      <td>0</td>\n      <td>1.0</td>\n      <td>0.008125</td>\n      <td>1</td>\n      <td>0.000000</td>\n      <td>-0.008307</td>\n      <td>0.011558</td>\n      <td>0.0</td>\n      <td>1</td>\n      <td>0.599217</td>\n      <td>0.693537</td>\n      <td>1</td>\n    </tr>\n    <tr>\n      <th>2013-03-18</th>\n      <td>0.008125</td>\n      <td>0</td>\n      <td>0.0</td>\n      <td>-0.020636</td>\n      <td>1</td>\n      <td>0.008125</td>\n      <td>0.002953</td>\n      <td>-0.008307</td>\n      <td>0.0</td>\n      <td>1</td>\n      <td>0.519865</td>\n      <td>0.418661</td>\n      <td>0</td>\n    </tr>\n    <tr>\n      <th>2013-03-19</th>\n      <td>-0.020636</td>\n      <td>0</td>\n      <td>0.0</td>\n      <td>-0.023707</td>\n      <td>0</td>\n      <td>-0.020636</td>\n      <td>0.008125</td>\n      <td>0.002953</td>\n      <td>0.0</td>\n      <td>0</td>\n      <td>0.000000</td>\n      <td>0.000000</td>\n      <td>0</td>\n    </tr>\n    <tr>\n      <th>2013-03-20</th>\n      <td>-0.023707</td>\n      <td>0</td>\n      <td>1.0</td>\n      <td>0.022996</td>\n      <td>0</td>\n      <td>-0.000000</td>\n      <td>-0.020636</td>\n      <td>0.008125</td>\n      <td>0.0</td>\n      <td>0</td>\n      <td>0.000000</td>\n      <td>0.000000</td>\n      <td>0</td>\n    </tr>\n    <tr>\n      <th>2013-03-21</th>\n      <td>0.022996</td>\n      <td>0</td>\n      <td>1.0</td>\n      <td>0.007735</td>\n      <td>1</td>\n      <td>0.000000</td>\n      <td>-0.023707</td>\n      <td>-0.020636</td>\n      <td>0.0</td>\n      <td>1</td>\n      <td>0.538046</td>\n      <td>0.502965</td>\n      <td>1</td>\n    </tr>\n  </tbody>\n</table>\n</div>"
     },
     "execution_count": 28,
     "metadata": {},
     "output_type": "execute_result"
    }
   ],
   "source": [
    "data_test_set.head()"
   ],
   "metadata": {
    "collapsed": false,
    "ExecuteTime": {
     "end_time": "2024-01-14T13:17:27.357054Z",
     "start_time": "2024-01-14T13:17:27.243593Z"
    }
   },
   "id": "f94b654227709643"
  },
  {
   "cell_type": "markdown",
   "source": [
    "save this data to CSV file for using in the kelly analysis"
   ],
   "metadata": {
    "collapsed": false
   },
   "id": "fd3331c7866a803b"
  },
  {
   "cell_type": "code",
   "execution_count": 29,
   "outputs": [],
   "source": [
    "data_train_set.to_csv('train.csv')\n",
    "data_test_set.to_csv('test.csv')"
   ],
   "metadata": {
    "collapsed": false,
    "ExecuteTime": {
     "end_time": "2024-01-14T13:17:27.394231Z",
     "start_time": "2024-01-14T13:17:27.258684Z"
    }
   },
   "id": "ff88a31e0ede47a5"
  },
  {
   "cell_type": "markdown",
   "source": [
    "#### Betting sizing\n",
    "\n",
    "get target return series"
   ],
   "metadata": {
    "collapsed": false
   },
   "id": "eb689208e6215522"
  },
  {
   "cell_type": "code",
   "execution_count": 30,
   "outputs": [],
   "source": [
    "target_train = data_train_set['target_rets']\n",
    "target_train_p = train['target_rets']\n",
    "target_test = data_test_set['target_rets']\n",
    "target_test_p = test['target_rets']"
   ],
   "metadata": {
    "collapsed": false,
    "ExecuteTime": {
     "end_time": "2024-01-14T13:17:27.411532Z",
     "start_time": "2024-01-14T13:17:27.357231Z"
    }
   },
   "id": "211e66a0943ae208"
  },
  {
   "cell_type": "markdown",
   "source": [
    "**Linear Scaling**\n",
    "\n",
    "Linear scaling: min, max from train, p from test."
   ],
   "metadata": {
    "collapsed": false
   },
   "id": "4e009bf34bd08c08"
  },
  {
   "cell_type": "code",
   "execution_count": 31,
   "outputs": [],
   "source": [
    "linear_size_test = (prob_test[prob_test > 0.5] - prob_train[prob_train > 0.5].min()) / (prob_train[prob_train > 0.5].max() - prob_train[prob_train > 0.5].min())\n",
    "linear_size_iso_test = (prob_isotonic_test[\n",
    "                            prob_isotonic_test > 0.5\n",
    "                        ] - prob_isotonic_train[prob_train > 0.5].min()) / (\n",
    "                        prob_isotonic_train[prob_train > 0.5].max() - prob_isotonic_train[prob_train > 0.5].min())"
   ],
   "metadata": {
    "collapsed": false,
    "ExecuteTime": {
     "end_time": "2024-01-14T13:17:27.412295Z",
     "start_time": "2024-01-14T13:17:27.361421Z"
    }
   },
   "id": "75f6b17c21f19f75"
  },
  {
   "cell_type": "markdown",
   "source": [
    "Assign position sizes"
   ],
   "metadata": {
    "collapsed": false
   },
   "id": "c47961e8608ba0ca"
  },
  {
   "cell_type": "code",
   "execution_count": 32,
   "outputs": [],
   "source": [
    "#data_test_set['lin_size'] = 0\n",
    "#data_test_set['lin_iso_size'] = 0\n",
    "data_test_set.loc[linear_size_test.index, 'lin_size'] = linear_size_test\n",
    "data_test_set.loc[linear_size_iso_test.index, 'lin_iso_size'] = linear_size_iso_test"
   ],
   "metadata": {
    "collapsed": false,
    "ExecuteTime": {
     "end_time": "2024-01-14T13:17:27.412382Z",
     "start_time": "2024-01-14T13:17:27.365330Z"
    }
   },
   "id": "cd988a08404f22e9"
  },
  {
   "cell_type": "markdown",
   "source": [
    "Get daily rets of the strategy (vectorised backtest), shifted by 1 to remove lookahead bias"
   ],
   "metadata": {
    "collapsed": false
   },
   "id": "4ffb0916da56632"
  },
  {
   "cell_type": "code",
   "execution_count": 33,
   "outputs": [],
   "source": [
    "data_test_set.loc[data_test_set.index, 'lin_rets'] = (data_test_set['lin_size'] * target_test).shift(1)\n",
    "data_test_set.loc[data_test_set.index, 'lin_iso_rets'] = (data_test_set['lin_iso_size'] * target_test).shift(1)"
   ],
   "metadata": {
    "collapsed": false,
    "ExecuteTime": {
     "end_time": "2024-01-14T13:17:27.412453Z",
     "start_time": "2024-01-14T13:17:27.373681Z"
    }
   },
   "id": "ab3ceabddbe3c437"
  },
  {
   "cell_type": "code",
   "execution_count": 34,
   "outputs": [
    {
     "data": {
      "text/plain": "                rets  flags  target  target_rets  pmodel     prets     rets2  \\\n2013-03-17  0.002953      0     1.0     0.008125       1  0.000000 -0.008307   \n2013-03-18  0.008125      0     0.0    -0.020636       1  0.008125  0.002953   \n2013-03-19 -0.020636      0     0.0    -0.023707       0 -0.020636  0.008125   \n2013-03-20 -0.023707      0     1.0     0.022996       0 -0.000000 -0.020636   \n2013-03-21  0.022996      0     1.0     0.007735       1  0.000000 -0.023707   \n...              ...    ...     ...          ...     ...       ...       ...   \n2024-01-07 -0.004540      0     0.0    -0.007893       0 -0.004540  0.008497   \n2024-01-08 -0.007893      0     0.0    -0.000698       0 -0.000000 -0.004540   \n2024-01-09 -0.000698      0     1.0     0.017642       0 -0.000000 -0.007893   \n2024-01-10  0.017642      0     1.0     0.012809       1  0.000000 -0.000698   \n2024-01-11  0.012809      0     0.0    -0.017570       1  0.012809  0.017642   \n\n               rets3  regime  pred      prob  prob_iso  pred_iso  lin_size  \\\n2013-03-17  0.011558     0.0     1  0.599217  0.693537         1  0.445105   \n2013-03-18 -0.008307     0.0     1  0.519865  0.418661         0  0.088957   \n2013-03-19  0.002953     0.0     0  0.000000  0.000000         0       NaN   \n2013-03-20  0.008125     0.0     0  0.000000  0.000000         0       NaN   \n2013-03-21 -0.020636     0.0     1  0.538046  0.502965         1  0.170555   \n...              ...     ...   ...       ...       ...       ...       ...   \n2024-01-07 -0.004463     0.0     0  0.000000  0.000000         0       NaN   \n2024-01-08  0.008497     0.0     0  0.000000  0.000000         0       NaN   \n2024-01-09 -0.004540     0.0     0  0.000000  0.000000         0       NaN   \n2024-01-10 -0.007893     0.0     1  0.542784  0.502965         1  0.191822   \n2024-01-11 -0.000698     0.0     1  0.534740  0.502675         1  0.155720   \n\n            lin_iso_size  lin_rets  lin_iso_rets  \n2013-03-17      0.533141       NaN           NaN  \n2013-03-18           NaN  0.003616      0.004332  \n2013-03-19           NaN -0.001836           NaN  \n2013-03-20           NaN       NaN           NaN  \n2013-03-21      0.212981       NaN           NaN  \n...                  ...       ...           ...  \n2024-01-07           NaN -0.000827     -0.001190  \n2024-01-08           NaN       NaN           NaN  \n2024-01-09           NaN       NaN           NaN  \n2024-01-10      0.212981       NaN           NaN  \n2024-01-11      0.212494  0.002457      0.002728  \n\n[3953 rows x 17 columns]",
      "text/html": "<div>\n<style scoped>\n    .dataframe tbody tr th:only-of-type {\n        vertical-align: middle;\n    }\n\n    .dataframe tbody tr th {\n        vertical-align: top;\n    }\n\n    .dataframe thead th {\n        text-align: right;\n    }\n</style>\n<table border=\"1\" class=\"dataframe\">\n  <thead>\n    <tr style=\"text-align: right;\">\n      <th></th>\n      <th>rets</th>\n      <th>flags</th>\n      <th>target</th>\n      <th>target_rets</th>\n      <th>pmodel</th>\n      <th>prets</th>\n      <th>rets2</th>\n      <th>rets3</th>\n      <th>regime</th>\n      <th>pred</th>\n      <th>prob</th>\n      <th>prob_iso</th>\n      <th>pred_iso</th>\n      <th>lin_size</th>\n      <th>lin_iso_size</th>\n      <th>lin_rets</th>\n      <th>lin_iso_rets</th>\n    </tr>\n  </thead>\n  <tbody>\n    <tr>\n      <th>2013-03-17</th>\n      <td>0.002953</td>\n      <td>0</td>\n      <td>1.0</td>\n      <td>0.008125</td>\n      <td>1</td>\n      <td>0.000000</td>\n      <td>-0.008307</td>\n      <td>0.011558</td>\n      <td>0.0</td>\n      <td>1</td>\n      <td>0.599217</td>\n      <td>0.693537</td>\n      <td>1</td>\n      <td>0.445105</td>\n      <td>0.533141</td>\n      <td>NaN</td>\n      <td>NaN</td>\n    </tr>\n    <tr>\n      <th>2013-03-18</th>\n      <td>0.008125</td>\n      <td>0</td>\n      <td>0.0</td>\n      <td>-0.020636</td>\n      <td>1</td>\n      <td>0.008125</td>\n      <td>0.002953</td>\n      <td>-0.008307</td>\n      <td>0.0</td>\n      <td>1</td>\n      <td>0.519865</td>\n      <td>0.418661</td>\n      <td>0</td>\n      <td>0.088957</td>\n      <td>NaN</td>\n      <td>0.003616</td>\n      <td>0.004332</td>\n    </tr>\n    <tr>\n      <th>2013-03-19</th>\n      <td>-0.020636</td>\n      <td>0</td>\n      <td>0.0</td>\n      <td>-0.023707</td>\n      <td>0</td>\n      <td>-0.020636</td>\n      <td>0.008125</td>\n      <td>0.002953</td>\n      <td>0.0</td>\n      <td>0</td>\n      <td>0.000000</td>\n      <td>0.000000</td>\n      <td>0</td>\n      <td>NaN</td>\n      <td>NaN</td>\n      <td>-0.001836</td>\n      <td>NaN</td>\n    </tr>\n    <tr>\n      <th>2013-03-20</th>\n      <td>-0.023707</td>\n      <td>0</td>\n      <td>1.0</td>\n      <td>0.022996</td>\n      <td>0</td>\n      <td>-0.000000</td>\n      <td>-0.020636</td>\n      <td>0.008125</td>\n      <td>0.0</td>\n      <td>0</td>\n      <td>0.000000</td>\n      <td>0.000000</td>\n      <td>0</td>\n      <td>NaN</td>\n      <td>NaN</td>\n      <td>NaN</td>\n      <td>NaN</td>\n    </tr>\n    <tr>\n      <th>2013-03-21</th>\n      <td>0.022996</td>\n      <td>0</td>\n      <td>1.0</td>\n      <td>0.007735</td>\n      <td>1</td>\n      <td>0.000000</td>\n      <td>-0.023707</td>\n      <td>-0.020636</td>\n      <td>0.0</td>\n      <td>1</td>\n      <td>0.538046</td>\n      <td>0.502965</td>\n      <td>1</td>\n      <td>0.170555</td>\n      <td>0.212981</td>\n      <td>NaN</td>\n      <td>NaN</td>\n    </tr>\n    <tr>\n      <th>...</th>\n      <td>...</td>\n      <td>...</td>\n      <td>...</td>\n      <td>...</td>\n      <td>...</td>\n      <td>...</td>\n      <td>...</td>\n      <td>...</td>\n      <td>...</td>\n      <td>...</td>\n      <td>...</td>\n      <td>...</td>\n      <td>...</td>\n      <td>...</td>\n      <td>...</td>\n      <td>...</td>\n      <td>...</td>\n    </tr>\n    <tr>\n      <th>2024-01-07</th>\n      <td>-0.004540</td>\n      <td>0</td>\n      <td>0.0</td>\n      <td>-0.007893</td>\n      <td>0</td>\n      <td>-0.004540</td>\n      <td>0.008497</td>\n      <td>-0.004463</td>\n      <td>0.0</td>\n      <td>0</td>\n      <td>0.000000</td>\n      <td>0.000000</td>\n      <td>0</td>\n      <td>NaN</td>\n      <td>NaN</td>\n      <td>-0.000827</td>\n      <td>-0.001190</td>\n    </tr>\n    <tr>\n      <th>2024-01-08</th>\n      <td>-0.007893</td>\n      <td>0</td>\n      <td>0.0</td>\n      <td>-0.000698</td>\n      <td>0</td>\n      <td>-0.000000</td>\n      <td>-0.004540</td>\n      <td>0.008497</td>\n      <td>0.0</td>\n      <td>0</td>\n      <td>0.000000</td>\n      <td>0.000000</td>\n      <td>0</td>\n      <td>NaN</td>\n      <td>NaN</td>\n      <td>NaN</td>\n      <td>NaN</td>\n    </tr>\n    <tr>\n      <th>2024-01-09</th>\n      <td>-0.000698</td>\n      <td>0</td>\n      <td>1.0</td>\n      <td>0.017642</td>\n      <td>0</td>\n      <td>-0.000000</td>\n      <td>-0.007893</td>\n      <td>-0.004540</td>\n      <td>0.0</td>\n      <td>0</td>\n      <td>0.000000</td>\n      <td>0.000000</td>\n      <td>0</td>\n      <td>NaN</td>\n      <td>NaN</td>\n      <td>NaN</td>\n      <td>NaN</td>\n    </tr>\n    <tr>\n      <th>2024-01-10</th>\n      <td>0.017642</td>\n      <td>0</td>\n      <td>1.0</td>\n      <td>0.012809</td>\n      <td>1</td>\n      <td>0.000000</td>\n      <td>-0.000698</td>\n      <td>-0.007893</td>\n      <td>0.0</td>\n      <td>1</td>\n      <td>0.542784</td>\n      <td>0.502965</td>\n      <td>1</td>\n      <td>0.191822</td>\n      <td>0.212981</td>\n      <td>NaN</td>\n      <td>NaN</td>\n    </tr>\n    <tr>\n      <th>2024-01-11</th>\n      <td>0.012809</td>\n      <td>0</td>\n      <td>0.0</td>\n      <td>-0.017570</td>\n      <td>1</td>\n      <td>0.012809</td>\n      <td>0.017642</td>\n      <td>-0.000698</td>\n      <td>0.0</td>\n      <td>1</td>\n      <td>0.534740</td>\n      <td>0.502675</td>\n      <td>1</td>\n      <td>0.155720</td>\n      <td>0.212494</td>\n      <td>0.002457</td>\n      <td>0.002728</td>\n    </tr>\n  </tbody>\n</table>\n<p>3953 rows × 17 columns</p>\n</div>"
     },
     "execution_count": 34,
     "metadata": {},
     "output_type": "execute_result"
    }
   ],
   "source": [
    "data_test_set"
   ],
   "metadata": {
    "collapsed": false,
    "ExecuteTime": {
     "end_time": "2024-01-14T13:17:27.413150Z",
     "start_time": "2024-01-14T13:17:27.383368Z"
    }
   },
   "id": "91844ed6d5f03de7"
  },
  {
   "cell_type": "markdown",
   "source": [
    "#### Optimal linear fit\n",
    "\n",
    "Train model on training data"
   ],
   "metadata": {
    "collapsed": false
   },
   "id": "42a2c50576a311dc"
  },
  {
   "cell_type": "code",
   "execution_count": 35,
   "outputs": [],
   "source": [
    "def check_stats(rets):\n",
    "    if np.std(rets) == 0.0: stdev = 10000\n",
    "    else: stdev = np.std(rets)\n",
    "\n",
    "    if (np.mean(rets) <= 0.00001) and (np.mean(rets) >= -0.00001):\n",
    "        mean = -10000\n",
    "    else: mean = np.mean(rets)\n",
    "\n",
    "    return mean, stdev\n",
    "\n",
    "def target_linear(x):\n",
    "    # Linear function\n",
    "    f = lambda p: min(max(x[0] * p + x[1], 0), 1)\n",
    "    f = np.vectorize(f)\n",
    "    # Backtest\n",
    "    rets = f(prob_train[prob_train > 0.5]) * target_train_p[prob_train > 0.5]\n",
    "    # Solve for no positions taken\n",
    "    mean, stdev = check_stats(rets)\n",
    "    # Sharpe Ratio\n",
    "    sr = mean / stdev\n",
    "    return -sr\n",
    "\n",
    "def target_linear_iso(x):\n",
    "    # Linear function\n",
    "    f = lambda p: min(max(x[0] * p + x[1], 0), 1)\n",
    "    f = np.vectorize(f)\n",
    "    # Backtest\n",
    "    rets = f(prob_isotonic_train[prob_isotonic_train > 0.5]) * target_train_p[prob_isotonic_train > 0.5]\n",
    "    # Solve for no positions taken\n",
    "    mean, stdev = check_stats(rets)\n",
    "    # Sharp Ratio\n",
    "    sr = mean / stdev\n",
    "    return -sr"
   ],
   "metadata": {
    "collapsed": false,
    "ExecuteTime": {
     "end_time": "2024-01-14T13:17:27.454957Z",
     "start_time": "2024-01-14T13:17:27.391540Z"
    }
   },
   "id": "30091d4e682e3497"
  },
  {
   "cell_type": "code",
   "execution_count": 36,
   "outputs": [],
   "source": [
    "x0 = np.array([1, 0])\n",
    "result = minimize(\n",
    "    target_linear, x0, method = 'nelder-mead', \n",
    "    options = {'xatol' : 1e-8, 'disp' : False}\n",
    ")\n",
    "model = result.x"
   ],
   "metadata": {
    "collapsed": false,
    "ExecuteTime": {
     "end_time": "2024-01-14T13:17:27.626264Z",
     "start_time": "2024-01-14T13:17:27.395904Z"
    }
   },
   "id": "5800605ff3ff257d"
  },
  {
   "cell_type": "markdown",
   "source": [
    "Get test position sizes"
   ],
   "metadata": {
    "collapsed": false
   },
   "id": "f5cd70bb9be36031"
  },
  {
   "cell_type": "code",
   "execution_count": 37,
   "outputs": [],
   "source": [
    "lops_size = model[0] * prob_test + model[1]"
   ],
   "metadata": {
    "collapsed": false,
    "ExecuteTime": {
     "end_time": "2024-01-14T13:17:27.629880Z",
     "start_time": "2024-01-14T13:17:27.628002Z"
    }
   },
   "id": "e5007d5b81acc63d"
  },
  {
   "cell_type": "markdown",
   "source": [
    "scale size [0, 1]"
   ],
   "metadata": {
    "collapsed": false
   },
   "id": "3b1d64b73338d140"
  },
  {
   "cell_type": "code",
   "execution_count": 38,
   "outputs": [],
   "source": [
    "lops_size[lops_size > 1] = 1\n",
    "lops_size[lops_size < 0] = 0"
   ],
   "metadata": {
    "collapsed": false,
    "ExecuteTime": {
     "end_time": "2024-01-14T13:17:27.649590Z",
     "start_time": "2024-01-14T13:17:27.631173Z"
    }
   },
   "id": "bc4bce534006c97f"
  },
  {
   "cell_type": "markdown",
   "source": [
    "Assign position sizes"
   ],
   "metadata": {
    "collapsed": false
   },
   "id": "160c3ca8dfebea73"
  },
  {
   "cell_type": "code",
   "execution_count": 39,
   "outputs": [],
   "source": [
    "data_test_set.loc[lops_size.index, 'lop_size'] = lops_size"
   ],
   "metadata": {
    "collapsed": false,
    "ExecuteTime": {
     "end_time": "2024-01-14T13:17:27.649858Z",
     "start_time": "2024-01-14T13:17:27.634867Z"
    }
   },
   "id": "858d50ebff297fa6"
  },
  {
   "cell_type": "markdown",
   "source": [
    "Get daily returns"
   ],
   "metadata": {
    "collapsed": false
   },
   "id": "e0b16421a6470ff"
  },
  {
   "cell_type": "code",
   "execution_count": 40,
   "outputs": [],
   "source": [
    "data_test_set['lop_rets'] = (data_test_set['lop_size'] * target_test).shift(1)"
   ],
   "metadata": {
    "collapsed": false,
    "ExecuteTime": {
     "end_time": "2024-01-14T13:17:27.649939Z",
     "start_time": "2024-01-14T13:17:27.639195Z"
    }
   },
   "id": "65472e78024e0f2f"
  },
  {
   "cell_type": "code",
   "execution_count": 41,
   "outputs": [
    {
     "data": {
      "text/plain": "                rets  flags  target  target_rets  pmodel     prets     rets2  \\\n2013-03-17  0.002953      0     1.0     0.008125       1  0.000000 -0.008307   \n2013-03-18  0.008125      0     0.0    -0.020636       1  0.008125  0.002953   \n2013-03-19 -0.020636      0     0.0    -0.023707       0 -0.020636  0.008125   \n2013-03-20 -0.023707      0     1.0     0.022996       0 -0.000000 -0.020636   \n2013-03-21  0.022996      0     1.0     0.007735       1  0.000000 -0.023707   \n\n               rets3  regime  pred      prob  prob_iso  pred_iso  lin_size  \\\n2013-03-17  0.011558     0.0     1  0.599217  0.693537         1  0.445105   \n2013-03-18 -0.008307     0.0     1  0.519865  0.418661         0  0.088957   \n2013-03-19  0.002953     0.0     0  0.000000  0.000000         0       NaN   \n2013-03-20  0.008125     0.0     0  0.000000  0.000000         0       NaN   \n2013-03-21 -0.020636     0.0     1  0.538046  0.502965         1  0.170555   \n\n            lin_iso_size  lin_rets  lin_iso_rets  lop_size  lop_rets  \n2013-03-17      0.533141       NaN           NaN  0.154058       NaN  \n2013-03-18           NaN  0.003616      0.004332  0.003368  0.001252  \n2013-03-19           NaN -0.001836           NaN       NaN -0.000070  \n2013-03-20           NaN       NaN           NaN       NaN       NaN  \n2013-03-21      0.212981       NaN           NaN  0.037893       NaN  ",
      "text/html": "<div>\n<style scoped>\n    .dataframe tbody tr th:only-of-type {\n        vertical-align: middle;\n    }\n\n    .dataframe tbody tr th {\n        vertical-align: top;\n    }\n\n    .dataframe thead th {\n        text-align: right;\n    }\n</style>\n<table border=\"1\" class=\"dataframe\">\n  <thead>\n    <tr style=\"text-align: right;\">\n      <th></th>\n      <th>rets</th>\n      <th>flags</th>\n      <th>target</th>\n      <th>target_rets</th>\n      <th>pmodel</th>\n      <th>prets</th>\n      <th>rets2</th>\n      <th>rets3</th>\n      <th>regime</th>\n      <th>pred</th>\n      <th>prob</th>\n      <th>prob_iso</th>\n      <th>pred_iso</th>\n      <th>lin_size</th>\n      <th>lin_iso_size</th>\n      <th>lin_rets</th>\n      <th>lin_iso_rets</th>\n      <th>lop_size</th>\n      <th>lop_rets</th>\n    </tr>\n  </thead>\n  <tbody>\n    <tr>\n      <th>2013-03-17</th>\n      <td>0.002953</td>\n      <td>0</td>\n      <td>1.0</td>\n      <td>0.008125</td>\n      <td>1</td>\n      <td>0.000000</td>\n      <td>-0.008307</td>\n      <td>0.011558</td>\n      <td>0.0</td>\n      <td>1</td>\n      <td>0.599217</td>\n      <td>0.693537</td>\n      <td>1</td>\n      <td>0.445105</td>\n      <td>0.533141</td>\n      <td>NaN</td>\n      <td>NaN</td>\n      <td>0.154058</td>\n      <td>NaN</td>\n    </tr>\n    <tr>\n      <th>2013-03-18</th>\n      <td>0.008125</td>\n      <td>0</td>\n      <td>0.0</td>\n      <td>-0.020636</td>\n      <td>1</td>\n      <td>0.008125</td>\n      <td>0.002953</td>\n      <td>-0.008307</td>\n      <td>0.0</td>\n      <td>1</td>\n      <td>0.519865</td>\n      <td>0.418661</td>\n      <td>0</td>\n      <td>0.088957</td>\n      <td>NaN</td>\n      <td>0.003616</td>\n      <td>0.004332</td>\n      <td>0.003368</td>\n      <td>0.001252</td>\n    </tr>\n    <tr>\n      <th>2013-03-19</th>\n      <td>-0.020636</td>\n      <td>0</td>\n      <td>0.0</td>\n      <td>-0.023707</td>\n      <td>0</td>\n      <td>-0.020636</td>\n      <td>0.008125</td>\n      <td>0.002953</td>\n      <td>0.0</td>\n      <td>0</td>\n      <td>0.000000</td>\n      <td>0.000000</td>\n      <td>0</td>\n      <td>NaN</td>\n      <td>NaN</td>\n      <td>-0.001836</td>\n      <td>NaN</td>\n      <td>NaN</td>\n      <td>-0.000070</td>\n    </tr>\n    <tr>\n      <th>2013-03-20</th>\n      <td>-0.023707</td>\n      <td>0</td>\n      <td>1.0</td>\n      <td>0.022996</td>\n      <td>0</td>\n      <td>-0.000000</td>\n      <td>-0.020636</td>\n      <td>0.008125</td>\n      <td>0.0</td>\n      <td>0</td>\n      <td>0.000000</td>\n      <td>0.000000</td>\n      <td>0</td>\n      <td>NaN</td>\n      <td>NaN</td>\n      <td>NaN</td>\n      <td>NaN</td>\n      <td>NaN</td>\n      <td>NaN</td>\n    </tr>\n    <tr>\n      <th>2013-03-21</th>\n      <td>0.022996</td>\n      <td>0</td>\n      <td>1.0</td>\n      <td>0.007735</td>\n      <td>1</td>\n      <td>0.000000</td>\n      <td>-0.023707</td>\n      <td>-0.020636</td>\n      <td>0.0</td>\n      <td>1</td>\n      <td>0.538046</td>\n      <td>0.502965</td>\n      <td>1</td>\n      <td>0.170555</td>\n      <td>0.212981</td>\n      <td>NaN</td>\n      <td>NaN</td>\n      <td>0.037893</td>\n      <td>NaN</td>\n    </tr>\n  </tbody>\n</table>\n</div>"
     },
     "execution_count": 41,
     "metadata": {},
     "output_type": "execute_result"
    }
   ],
   "source": [
    "data_test_set.head()"
   ],
   "metadata": {
    "collapsed": false,
    "ExecuteTime": {
     "end_time": "2024-01-14T13:17:27.677156Z",
     "start_time": "2024-01-14T13:17:27.646469Z"
    }
   },
   "id": "48eb75bd3e7a70b"
  },
  {
   "cell_type": "markdown",
   "source": [
    "Do ISO version, train model on training data"
   ],
   "metadata": {
    "collapsed": false
   },
   "id": "7b62d6c6aed7efad"
  },
  {
   "cell_type": "code",
   "execution_count": 42,
   "outputs": [],
   "source": [
    "x0 = np.array([1, 0])\n",
    "res = minimize(\n",
    "    target_linear_iso, x0, method = 'nelder-mead', \n",
    "    options = {'xatol': 1e-8, 'disp': False}\n",
    ")\n",
    "model = res.x\n",
    "# Get test position sizes\n",
    "lops_iso_size = model[0] * prob_isotonic_test + model[1]"
   ],
   "metadata": {
    "collapsed": false,
    "ExecuteTime": {
     "end_time": "2024-01-14T13:17:27.849682Z",
     "start_time": "2024-01-14T13:17:27.651482Z"
    }
   },
   "id": "ccb326c7cd711b43"
  },
  {
   "cell_type": "markdown",
   "source": [
    "scale size [0, 1]"
   ],
   "metadata": {
    "collapsed": false
   },
   "id": "cbbf07418b66a868"
  },
  {
   "cell_type": "code",
   "execution_count": 43,
   "outputs": [],
   "source": [
    "lops_iso_size[lops_iso_size > 1] = 1\n",
    "lops_iso_size[lops_iso_size < 0] = 0"
   ],
   "metadata": {
    "collapsed": false,
    "ExecuteTime": {
     "end_time": "2024-01-14T13:17:27.856796Z",
     "start_time": "2024-01-14T13:17:27.850541Z"
    }
   },
   "id": "66d88124e41cee29"
  },
  {
   "cell_type": "markdown",
   "source": [
    "Assign position sizes"
   ],
   "metadata": {
    "collapsed": false
   },
   "id": "274388d593d1ced5"
  },
  {
   "cell_type": "code",
   "execution_count": 44,
   "outputs": [],
   "source": [
    "# data_test_set['lops_iso_size'] = 0\n",
    "data_test_set.loc[lops_iso_size.index, 'lops_iso_size'] = lops_iso_size"
   ],
   "metadata": {
    "collapsed": false,
    "ExecuteTime": {
     "end_time": "2024-01-14T13:17:27.858729Z",
     "start_time": "2024-01-14T13:17:27.853939Z"
    }
   },
   "id": "2799ec641908d0d"
  },
  {
   "cell_type": "markdown",
   "source": [
    "get daily returns"
   ],
   "metadata": {
    "collapsed": false
   },
   "id": "b3bc3bbd5d730ffc"
  },
  {
   "cell_type": "code",
   "execution_count": 45,
   "outputs": [],
   "source": [
    "data_test_set['lop_iso_rets'] = (data_test_set['lops_iso_size'] * target_test).shift(1)"
   ],
   "metadata": {
    "collapsed": false,
    "ExecuteTime": {
     "end_time": "2024-01-14T13:17:27.861465Z",
     "start_time": "2024-01-14T13:17:27.858855Z"
    }
   },
   "id": "8f16df26166b917f"
  },
  {
   "cell_type": "code",
   "execution_count": 46,
   "outputs": [
    {
     "data": {
      "text/plain": "                rets  flags  target  target_rets  pmodel     prets     rets2  \\\n2013-03-17  0.002953      0     1.0     0.008125       1  0.000000 -0.008307   \n2013-03-18  0.008125      0     0.0    -0.020636       1  0.008125  0.002953   \n2013-03-19 -0.020636      0     0.0    -0.023707       0 -0.020636  0.008125   \n2013-03-20 -0.023707      0     1.0     0.022996       0 -0.000000 -0.020636   \n2013-03-21  0.022996      0     1.0     0.007735       1  0.000000 -0.023707   \n\n               rets3  regime  pred  ...  prob_iso  pred_iso  lin_size  \\\n2013-03-17  0.011558     0.0     1  ...  0.693537         1  0.445105   \n2013-03-18 -0.008307     0.0     1  ...  0.418661         0  0.088957   \n2013-03-19  0.002953     0.0     0  ...  0.000000         0       NaN   \n2013-03-20  0.008125     0.0     0  ...  0.000000         0       NaN   \n2013-03-21 -0.020636     0.0     1  ...  0.502965         1  0.170555   \n\n            lin_iso_size  lin_rets  lin_iso_rets  lop_size  lop_rets  \\\n2013-03-17      0.533141       NaN           NaN  0.154058       NaN   \n2013-03-18           NaN  0.003616      0.004332  0.003368  0.001252   \n2013-03-19           NaN -0.001836           NaN       NaN -0.000070   \n2013-03-20           NaN       NaN           NaN       NaN       NaN   \n2013-03-21      0.212981       NaN           NaN  0.037893       NaN   \n\n            lops_iso_size  lop_iso_rets  \n2013-03-17       0.804355           NaN  \n2013-03-18       0.000000      0.006535  \n2013-03-19            NaN     -0.000000  \n2013-03-20            NaN           NaN  \n2013-03-21       0.187487           NaN  \n\n[5 rows x 21 columns]",
      "text/html": "<div>\n<style scoped>\n    .dataframe tbody tr th:only-of-type {\n        vertical-align: middle;\n    }\n\n    .dataframe tbody tr th {\n        vertical-align: top;\n    }\n\n    .dataframe thead th {\n        text-align: right;\n    }\n</style>\n<table border=\"1\" class=\"dataframe\">\n  <thead>\n    <tr style=\"text-align: right;\">\n      <th></th>\n      <th>rets</th>\n      <th>flags</th>\n      <th>target</th>\n      <th>target_rets</th>\n      <th>pmodel</th>\n      <th>prets</th>\n      <th>rets2</th>\n      <th>rets3</th>\n      <th>regime</th>\n      <th>pred</th>\n      <th>...</th>\n      <th>prob_iso</th>\n      <th>pred_iso</th>\n      <th>lin_size</th>\n      <th>lin_iso_size</th>\n      <th>lin_rets</th>\n      <th>lin_iso_rets</th>\n      <th>lop_size</th>\n      <th>lop_rets</th>\n      <th>lops_iso_size</th>\n      <th>lop_iso_rets</th>\n    </tr>\n  </thead>\n  <tbody>\n    <tr>\n      <th>2013-03-17</th>\n      <td>0.002953</td>\n      <td>0</td>\n      <td>1.0</td>\n      <td>0.008125</td>\n      <td>1</td>\n      <td>0.000000</td>\n      <td>-0.008307</td>\n      <td>0.011558</td>\n      <td>0.0</td>\n      <td>1</td>\n      <td>...</td>\n      <td>0.693537</td>\n      <td>1</td>\n      <td>0.445105</td>\n      <td>0.533141</td>\n      <td>NaN</td>\n      <td>NaN</td>\n      <td>0.154058</td>\n      <td>NaN</td>\n      <td>0.804355</td>\n      <td>NaN</td>\n    </tr>\n    <tr>\n      <th>2013-03-18</th>\n      <td>0.008125</td>\n      <td>0</td>\n      <td>0.0</td>\n      <td>-0.020636</td>\n      <td>1</td>\n      <td>0.008125</td>\n      <td>0.002953</td>\n      <td>-0.008307</td>\n      <td>0.0</td>\n      <td>1</td>\n      <td>...</td>\n      <td>0.418661</td>\n      <td>0</td>\n      <td>0.088957</td>\n      <td>NaN</td>\n      <td>0.003616</td>\n      <td>0.004332</td>\n      <td>0.003368</td>\n      <td>0.001252</td>\n      <td>0.000000</td>\n      <td>0.006535</td>\n    </tr>\n    <tr>\n      <th>2013-03-19</th>\n      <td>-0.020636</td>\n      <td>0</td>\n      <td>0.0</td>\n      <td>-0.023707</td>\n      <td>0</td>\n      <td>-0.020636</td>\n      <td>0.008125</td>\n      <td>0.002953</td>\n      <td>0.0</td>\n      <td>0</td>\n      <td>...</td>\n      <td>0.000000</td>\n      <td>0</td>\n      <td>NaN</td>\n      <td>NaN</td>\n      <td>-0.001836</td>\n      <td>NaN</td>\n      <td>NaN</td>\n      <td>-0.000070</td>\n      <td>NaN</td>\n      <td>-0.000000</td>\n    </tr>\n    <tr>\n      <th>2013-03-20</th>\n      <td>-0.023707</td>\n      <td>0</td>\n      <td>1.0</td>\n      <td>0.022996</td>\n      <td>0</td>\n      <td>-0.000000</td>\n      <td>-0.020636</td>\n      <td>0.008125</td>\n      <td>0.0</td>\n      <td>0</td>\n      <td>...</td>\n      <td>0.000000</td>\n      <td>0</td>\n      <td>NaN</td>\n      <td>NaN</td>\n      <td>NaN</td>\n      <td>NaN</td>\n      <td>NaN</td>\n      <td>NaN</td>\n      <td>NaN</td>\n      <td>NaN</td>\n    </tr>\n    <tr>\n      <th>2013-03-21</th>\n      <td>0.022996</td>\n      <td>0</td>\n      <td>1.0</td>\n      <td>0.007735</td>\n      <td>1</td>\n      <td>0.000000</td>\n      <td>-0.023707</td>\n      <td>-0.020636</td>\n      <td>0.0</td>\n      <td>1</td>\n      <td>...</td>\n      <td>0.502965</td>\n      <td>1</td>\n      <td>0.170555</td>\n      <td>0.212981</td>\n      <td>NaN</td>\n      <td>NaN</td>\n      <td>0.037893</td>\n      <td>NaN</td>\n      <td>0.187487</td>\n      <td>NaN</td>\n    </tr>\n  </tbody>\n</table>\n<p>5 rows × 21 columns</p>\n</div>"
     },
     "execution_count": 46,
     "metadata": {},
     "output_type": "execute_result"
    }
   ],
   "source": [
    "data_test_set.head()"
   ],
   "metadata": {
    "collapsed": false,
    "ExecuteTime": {
     "end_time": "2024-01-14T13:17:27.890547Z",
     "start_time": "2024-01-14T13:17:27.864715Z"
    }
   },
   "id": "c3616342ab1de090"
  },
  {
   "cell_type": "markdown",
   "source": [
    "#### de prado betting size\n",
    "\n",
    "get sizes for test data"
   ],
   "metadata": {
    "collapsed": false
   },
   "id": "bf7b1bc8964f7f63"
  },
  {
   "cell_type": "code",
   "execution_count": 52,
   "outputs": [
    {
     "data": {
      "text/plain": "2013-03-17    0.599217\n2013-03-18    0.519865\n2013-03-21    0.538046\n2013-03-22    0.433994\n2013-03-27    0.516948\n                ...   \n2023-12-31    0.415052\n2024-01-02    0.610395\n2024-01-06    0.540604\n2024-01-10    0.542784\n2024-01-11    0.534740\nLength: 1992, dtype: float64"
     },
     "execution_count": 52,
     "metadata": {},
     "output_type": "execute_result"
    }
   ],
   "source": [
    "prob_test"
   ],
   "metadata": {
    "collapsed": false,
    "ExecuteTime": {
     "end_time": "2024-01-14T15:11:16.751153Z",
     "start_time": "2024-01-14T15:11:16.741095Z"
    }
   },
   "id": "bca21e79712942a3"
  },
  {
   "cell_type": "code",
   "execution_count": 47,
   "outputs": [],
   "source": [
    "from FinancialMachineLearning.bet_sizing.bet_sizing import de_prado_bet_size\n",
    "\n",
    "dp_size = de_prado_bet_size(prob_test, clip = True)\n",
    "dp_size_iso = de_prado_bet_size(prob_isotonic_test, clip = True)"
   ],
   "metadata": {
    "collapsed": false,
    "ExecuteTime": {
     "end_time": "2024-01-14T13:17:28.833437Z",
     "start_time": "2024-01-14T13:17:27.872912Z"
    }
   },
   "id": "28b36e102a99e63d"
  },
  {
   "cell_type": "markdown",
   "source": [
    "Assign position sizes"
   ],
   "metadata": {
    "collapsed": false
   },
   "id": "c2389be5b2d64142"
  },
  {
   "cell_type": "code",
   "execution_count": 48,
   "outputs": [],
   "source": [
    "data_test_set['dp_size'] = 0\n",
    "data_test_set['dp_iso_size'] = 0\n",
    "data_test_set.loc[dp_size.index, 'dp_size'] = dp_size\n",
    "data_test_set.loc[dp_size_iso.index, 'dp_iso_size'] = dp_size_iso"
   ],
   "metadata": {
    "collapsed": false,
    "ExecuteTime": {
     "end_time": "2024-01-14T13:17:28.840046Z",
     "start_time": "2024-01-14T13:17:28.836022Z"
    }
   },
   "id": "88f3029950fdb104"
  },
  {
   "cell_type": "code",
   "execution_count": 49,
   "outputs": [
    {
     "data": {
      "text/plain": "                rets  flags  target  target_rets  pmodel     prets     rets2  \\\n2013-03-17  0.002953      0     1.0     0.008125       1  0.000000 -0.008307   \n2013-03-18  0.008125      0     0.0    -0.020636       1  0.008125  0.002953   \n2013-03-19 -0.020636      0     0.0    -0.023707       0 -0.020636  0.008125   \n2013-03-20 -0.023707      0     1.0     0.022996       0 -0.000000 -0.020636   \n2013-03-21  0.022996      0     1.0     0.007735       1  0.000000 -0.023707   \n...              ...    ...     ...          ...     ...       ...       ...   \n2024-01-07 -0.004540      0     0.0    -0.007893       0 -0.004540  0.008497   \n2024-01-08 -0.007893      0     0.0    -0.000698       0 -0.000000 -0.004540   \n2024-01-09 -0.000698      0     1.0     0.017642       0 -0.000000 -0.007893   \n2024-01-10  0.017642      0     1.0     0.012809       1  0.000000 -0.000698   \n2024-01-11  0.012809      0     0.0    -0.017570       1  0.012809  0.017642   \n\n               rets3  regime  pred  ...  lin_size  lin_iso_size  lin_rets  \\\n2013-03-17  0.011558     0.0     1  ...  0.445105      0.533141       NaN   \n2013-03-18 -0.008307     0.0     1  ...  0.088957           NaN  0.003616   \n2013-03-19  0.002953     0.0     0  ...       NaN           NaN -0.001836   \n2013-03-20  0.008125     0.0     0  ...       NaN           NaN       NaN   \n2013-03-21 -0.020636     0.0     1  ...  0.170555      0.212981       NaN   \n...              ...     ...   ...  ...       ...           ...       ...   \n2024-01-07 -0.004463     0.0     0  ...       NaN           NaN -0.000827   \n2024-01-08  0.008497     0.0     0  ...       NaN           NaN       NaN   \n2024-01-09 -0.004540     0.0     0  ...       NaN           NaN       NaN   \n2024-01-10 -0.007893     0.0     1  ...  0.191822      0.212981       NaN   \n2024-01-11 -0.000698     0.0     1  ...  0.155720      0.212494  0.002457   \n\n            lin_iso_rets  lop_size  lop_rets  lops_iso_size  lop_iso_rets  \\\n2013-03-17           NaN  0.154058       NaN       0.804355           NaN   \n2013-03-18      0.004332  0.003368  0.001252       0.000000      0.006535   \n2013-03-19           NaN       NaN -0.000070            NaN     -0.000000   \n2013-03-20           NaN       NaN       NaN            NaN           NaN   \n2013-03-21           NaN  0.037893       NaN       0.187487           NaN   \n...                  ...       ...       ...            ...           ...   \n2024-01-07     -0.001190       NaN -0.000194            NaN     -0.001281   \n2024-01-08           NaN       NaN       NaN            NaN           NaN   \n2024-01-09           NaN       NaN       NaN            NaN           NaN   \n2024-01-10           NaN  0.046891       NaN       0.187487           NaN   \n2024-01-11      0.002728  0.031616  0.000601       0.186549      0.002402   \n\n             dp_size  dp_iso_size  \n2013-03-17  0.580221     0.662683  \n2013-03-18  0.515858     0.000000  \n2013-03-19  0.000000     0.000000  \n2013-03-20  0.000000     0.000000  \n2013-03-21  0.530415     0.502366  \n...              ...          ...  \n2024-01-07  0.000000     0.000000  \n2024-01-08  0.000000     0.000000  \n2024-01-09  0.000000     0.000000  \n2024-01-10  0.534220     0.502366  \n2024-01-11  0.527764     0.502135  \n\n[3953 rows x 23 columns]",
      "text/html": "<div>\n<style scoped>\n    .dataframe tbody tr th:only-of-type {\n        vertical-align: middle;\n    }\n\n    .dataframe tbody tr th {\n        vertical-align: top;\n    }\n\n    .dataframe thead th {\n        text-align: right;\n    }\n</style>\n<table border=\"1\" class=\"dataframe\">\n  <thead>\n    <tr style=\"text-align: right;\">\n      <th></th>\n      <th>rets</th>\n      <th>flags</th>\n      <th>target</th>\n      <th>target_rets</th>\n      <th>pmodel</th>\n      <th>prets</th>\n      <th>rets2</th>\n      <th>rets3</th>\n      <th>regime</th>\n      <th>pred</th>\n      <th>...</th>\n      <th>lin_size</th>\n      <th>lin_iso_size</th>\n      <th>lin_rets</th>\n      <th>lin_iso_rets</th>\n      <th>lop_size</th>\n      <th>lop_rets</th>\n      <th>lops_iso_size</th>\n      <th>lop_iso_rets</th>\n      <th>dp_size</th>\n      <th>dp_iso_size</th>\n    </tr>\n  </thead>\n  <tbody>\n    <tr>\n      <th>2013-03-17</th>\n      <td>0.002953</td>\n      <td>0</td>\n      <td>1.0</td>\n      <td>0.008125</td>\n      <td>1</td>\n      <td>0.000000</td>\n      <td>-0.008307</td>\n      <td>0.011558</td>\n      <td>0.0</td>\n      <td>1</td>\n      <td>...</td>\n      <td>0.445105</td>\n      <td>0.533141</td>\n      <td>NaN</td>\n      <td>NaN</td>\n      <td>0.154058</td>\n      <td>NaN</td>\n      <td>0.804355</td>\n      <td>NaN</td>\n      <td>0.580221</td>\n      <td>0.662683</td>\n    </tr>\n    <tr>\n      <th>2013-03-18</th>\n      <td>0.008125</td>\n      <td>0</td>\n      <td>0.0</td>\n      <td>-0.020636</td>\n      <td>1</td>\n      <td>0.008125</td>\n      <td>0.002953</td>\n      <td>-0.008307</td>\n      <td>0.0</td>\n      <td>1</td>\n      <td>...</td>\n      <td>0.088957</td>\n      <td>NaN</td>\n      <td>0.003616</td>\n      <td>0.004332</td>\n      <td>0.003368</td>\n      <td>0.001252</td>\n      <td>0.000000</td>\n      <td>0.006535</td>\n      <td>0.515858</td>\n      <td>0.000000</td>\n    </tr>\n    <tr>\n      <th>2013-03-19</th>\n      <td>-0.020636</td>\n      <td>0</td>\n      <td>0.0</td>\n      <td>-0.023707</td>\n      <td>0</td>\n      <td>-0.020636</td>\n      <td>0.008125</td>\n      <td>0.002953</td>\n      <td>0.0</td>\n      <td>0</td>\n      <td>...</td>\n      <td>NaN</td>\n      <td>NaN</td>\n      <td>-0.001836</td>\n      <td>NaN</td>\n      <td>NaN</td>\n      <td>-0.000070</td>\n      <td>NaN</td>\n      <td>-0.000000</td>\n      <td>0.000000</td>\n      <td>0.000000</td>\n    </tr>\n    <tr>\n      <th>2013-03-20</th>\n      <td>-0.023707</td>\n      <td>0</td>\n      <td>1.0</td>\n      <td>0.022996</td>\n      <td>0</td>\n      <td>-0.000000</td>\n      <td>-0.020636</td>\n      <td>0.008125</td>\n      <td>0.0</td>\n      <td>0</td>\n      <td>...</td>\n      <td>NaN</td>\n      <td>NaN</td>\n      <td>NaN</td>\n      <td>NaN</td>\n      <td>NaN</td>\n      <td>NaN</td>\n      <td>NaN</td>\n      <td>NaN</td>\n      <td>0.000000</td>\n      <td>0.000000</td>\n    </tr>\n    <tr>\n      <th>2013-03-21</th>\n      <td>0.022996</td>\n      <td>0</td>\n      <td>1.0</td>\n      <td>0.007735</td>\n      <td>1</td>\n      <td>0.000000</td>\n      <td>-0.023707</td>\n      <td>-0.020636</td>\n      <td>0.0</td>\n      <td>1</td>\n      <td>...</td>\n      <td>0.170555</td>\n      <td>0.212981</td>\n      <td>NaN</td>\n      <td>NaN</td>\n      <td>0.037893</td>\n      <td>NaN</td>\n      <td>0.187487</td>\n      <td>NaN</td>\n      <td>0.530415</td>\n      <td>0.502366</td>\n    </tr>\n    <tr>\n      <th>...</th>\n      <td>...</td>\n      <td>...</td>\n      <td>...</td>\n      <td>...</td>\n      <td>...</td>\n      <td>...</td>\n      <td>...</td>\n      <td>...</td>\n      <td>...</td>\n      <td>...</td>\n      <td>...</td>\n      <td>...</td>\n      <td>...</td>\n      <td>...</td>\n      <td>...</td>\n      <td>...</td>\n      <td>...</td>\n      <td>...</td>\n      <td>...</td>\n      <td>...</td>\n      <td>...</td>\n    </tr>\n    <tr>\n      <th>2024-01-07</th>\n      <td>-0.004540</td>\n      <td>0</td>\n      <td>0.0</td>\n      <td>-0.007893</td>\n      <td>0</td>\n      <td>-0.004540</td>\n      <td>0.008497</td>\n      <td>-0.004463</td>\n      <td>0.0</td>\n      <td>0</td>\n      <td>...</td>\n      <td>NaN</td>\n      <td>NaN</td>\n      <td>-0.000827</td>\n      <td>-0.001190</td>\n      <td>NaN</td>\n      <td>-0.000194</td>\n      <td>NaN</td>\n      <td>-0.001281</td>\n      <td>0.000000</td>\n      <td>0.000000</td>\n    </tr>\n    <tr>\n      <th>2024-01-08</th>\n      <td>-0.007893</td>\n      <td>0</td>\n      <td>0.0</td>\n      <td>-0.000698</td>\n      <td>0</td>\n      <td>-0.000000</td>\n      <td>-0.004540</td>\n      <td>0.008497</td>\n      <td>0.0</td>\n      <td>0</td>\n      <td>...</td>\n      <td>NaN</td>\n      <td>NaN</td>\n      <td>NaN</td>\n      <td>NaN</td>\n      <td>NaN</td>\n      <td>NaN</td>\n      <td>NaN</td>\n      <td>NaN</td>\n      <td>0.000000</td>\n      <td>0.000000</td>\n    </tr>\n    <tr>\n      <th>2024-01-09</th>\n      <td>-0.000698</td>\n      <td>0</td>\n      <td>1.0</td>\n      <td>0.017642</td>\n      <td>0</td>\n      <td>-0.000000</td>\n      <td>-0.007893</td>\n      <td>-0.004540</td>\n      <td>0.0</td>\n      <td>0</td>\n      <td>...</td>\n      <td>NaN</td>\n      <td>NaN</td>\n      <td>NaN</td>\n      <td>NaN</td>\n      <td>NaN</td>\n      <td>NaN</td>\n      <td>NaN</td>\n      <td>NaN</td>\n      <td>0.000000</td>\n      <td>0.000000</td>\n    </tr>\n    <tr>\n      <th>2024-01-10</th>\n      <td>0.017642</td>\n      <td>0</td>\n      <td>1.0</td>\n      <td>0.012809</td>\n      <td>1</td>\n      <td>0.000000</td>\n      <td>-0.000698</td>\n      <td>-0.007893</td>\n      <td>0.0</td>\n      <td>1</td>\n      <td>...</td>\n      <td>0.191822</td>\n      <td>0.212981</td>\n      <td>NaN</td>\n      <td>NaN</td>\n      <td>0.046891</td>\n      <td>NaN</td>\n      <td>0.187487</td>\n      <td>NaN</td>\n      <td>0.534220</td>\n      <td>0.502366</td>\n    </tr>\n    <tr>\n      <th>2024-01-11</th>\n      <td>0.012809</td>\n      <td>0</td>\n      <td>0.0</td>\n      <td>-0.017570</td>\n      <td>1</td>\n      <td>0.012809</td>\n      <td>0.017642</td>\n      <td>-0.000698</td>\n      <td>0.0</td>\n      <td>1</td>\n      <td>...</td>\n      <td>0.155720</td>\n      <td>0.212494</td>\n      <td>0.002457</td>\n      <td>0.002728</td>\n      <td>0.031616</td>\n      <td>0.000601</td>\n      <td>0.186549</td>\n      <td>0.002402</td>\n      <td>0.527764</td>\n      <td>0.502135</td>\n    </tr>\n  </tbody>\n</table>\n<p>3953 rows × 23 columns</p>\n</div>"
     },
     "execution_count": 49,
     "metadata": {},
     "output_type": "execute_result"
    }
   ],
   "source": [
    "data_test_set"
   ],
   "metadata": {
    "collapsed": false,
    "ExecuteTime": {
     "end_time": "2024-01-14T13:17:28.850170Z",
     "start_time": "2024-01-14T13:17:28.839095Z"
    }
   },
   "id": "5d9614bdf960201c"
  },
  {
   "cell_type": "markdown",
   "source": [
    "get daily returns"
   ],
   "metadata": {
    "collapsed": false
   },
   "id": "23d7301f401e4143"
  },
  {
   "cell_type": "code",
   "execution_count": 50,
   "outputs": [],
   "source": [
    "data_test_set['dp_rets'] = (data_test_set['dp_size'] * target_test).shift(1)\n",
    "data_test_set['dp_iso_rets'] = (data_test_set['dp_iso_size'] * target_test).shift(1)\n",
    "if (data_test_set['dp_iso_rets'].std() == 0) or (data_test_set['dp_iso_rets'].mean() == 0):\n",
    "    print('DP')\n",
    "    print(dp_size_iso.mean())"
   ],
   "metadata": {
    "collapsed": false,
    "ExecuteTime": {
     "end_time": "2024-01-14T13:17:28.856990Z",
     "start_time": "2024-01-14T13:17:28.851062Z"
    }
   },
   "id": "28abd31c960761f7"
  },
  {
   "cell_type": "code",
   "execution_count": 51,
   "outputs": [
    {
     "data": {
      "text/plain": "<Figure size 600x400 with 1 Axes>",
      "image/png": "[encoded data removed]"
     },
     "metadata": {},
     "output_type": "display_data"
    }
   ],
   "source": [
    "import matplotlib.pyplot as plt\n",
    "plt.figure(figsize = (6, 4))\n",
    "plt.plot(dp_size.cumsum(), label = 'de prado bet size')\n",
    "plt.plot(dp_size_iso.cumsum(), label = 'iso calibrated bet size')\n",
    "plt.legend(fontsize = 10)\n",
    "plt.grid(False)\n",
    "plt.show()"
   ],
   "metadata": {
    "collapsed": false,
    "ExecuteTime": {
     "end_time": "2024-01-14T13:17:29.003637Z",
     "start_time": "2024-01-14T13:17:28.854764Z"
    }
   },
   "id": "d2f1b8ceac8478ff"
  },
  {
   "cell_type": "markdown",
   "source": [
    "#### ECDF\n",
    "\n",
    "Fit ECDF on training data for prob greater than > 0"
   ],
   "metadata": {
    "collapsed": false
   },
   "id": "631bb06560d8c028"
  },
  {
   "cell_type": "code",
   "execution_count": 53,
   "outputs": [],
   "source": [
    "ecdf = ECDF(prob_train[prob_train > 0.5])\n",
    "ecdf_iso = ECDF(prob_isotonic_train[prob_isotonic_train > 0.5])"
   ],
   "metadata": {
    "collapsed": false,
    "ExecuteTime": {
     "end_time": "2024-01-14T15:21:27.630858Z",
     "start_time": "2024-01-14T15:21:27.596435Z"
    }
   },
   "id": "45ff82efe2611e21"
  },
  {
   "cell_type": "markdown",
   "source": [
    "ECDF Position Sizing on test data"
   ],
   "metadata": {
    "collapsed": false
   },
   "id": "7b3852f477aa72fe"
  },
  {
   "cell_type": "code",
   "execution_count": 54,
   "outputs": [],
   "source": [
    "ecdf_size = prob_test.apply(lambda x: ecdf(x) if x > 0.5 else 0)\n",
    "ecdf_size_iso = prob_isotonic_test.apply(lambda x: ecdf_iso(x) if x > 0.5 else 0)"
   ],
   "metadata": {
    "collapsed": false,
    "ExecuteTime": {
     "end_time": "2024-01-14T15:21:44.125917Z",
     "start_time": "2024-01-14T15:21:44.090555Z"
    }
   },
   "id": "91df12487fd68b16"
  },
  {
   "cell_type": "markdown",
   "source": [
    "Daily data update with position sizes"
   ],
   "metadata": {
    "collapsed": false
   },
   "id": "2ff693965216c943"
  },
  {
   "cell_type": "code",
   "execution_count": 55,
   "outputs": [],
   "source": [
    "data_test_set['ecdf_size'] = 0\n",
    "data_test_set['ecdf_size_iso'] = 0\n",
    "data_test_set.loc[ecdf_size.index, 'ecdf_size'] = ecdf_size\n",
    "data_test_set.loc[ecdf_size_iso.index, 'ecdf_size_iso'] = ecdf_size_iso"
   ],
   "metadata": {
    "collapsed": false,
    "ExecuteTime": {
     "end_time": "2024-01-14T15:22:02.716761Z",
     "start_time": "2024-01-14T15:22:02.681941Z"
    }
   },
   "id": "68682442f04fb06"
  },
  {
   "cell_type": "markdown",
   "source": [
    "Backtest"
   ],
   "metadata": {
    "collapsed": false
   },
   "id": "914431195f640a46"
  },
  {
   "cell_type": "code",
   "execution_count": 56,
   "outputs": [],
   "source": [
    "data_test_set['ecdf_rets'] = (data_test_set['ecdf_size'] * target_test).shift(1)\n",
    "data_test_set['ecdf_iso_rets'] = (data_test_set['ecdf_size_iso'] * target_test).shift(1)"
   ],
   "metadata": {
    "collapsed": false,
    "ExecuteTime": {
     "end_time": "2024-01-14T15:22:36.349787Z",
     "start_time": "2024-01-14T15:22:36.314961Z"
    }
   },
   "id": "57bbe893fdfd6a2b"
  },
  {
   "cell_type": "markdown",
   "source": [
    "#### Sigmoid optimal fit"
   ],
   "metadata": {
    "collapsed": false
   },
   "id": "8cc7803aa2565296"
  },
  {
   "cell_type": "code",
   "execution_count": 59,
   "outputs": [],
   "source": [
    "def target_sigmoid(x):\n",
    "    # Apply sigmoid position sizing\n",
    "    f = lambda p: min(max(1 / (1 + np.exp(-x[0] * p - x[1])), 0), 1)\n",
    "    f = np.vectorize(f)\n",
    "\n",
    "    # Backtest + sharpe ratio\n",
    "    rets = f(prob_train[prob_train > 0.5]) * target_train_p[prob_train > 0.5]\n",
    "    # Solve for no positions taken\n",
    "    mean, stdev = check_stats(rets)\n",
    "    # Sharpe Ratio\n",
    "    sharp_ratio = mean / stdev\n",
    "    return -sharp_ratio\n",
    "\n",
    "def target_iso_sigmoid(x):\n",
    "    # Apply sigmoid position sizing\n",
    "    f = lambda p: min(max(1 / (1 + np.exp(-x[0] * p - x[1])), 0), 1)\n",
    "    f = np.vectorize(f)\n",
    "\n",
    "    # Backtest + sharpe ratio\n",
    "    rets = f(prob_isotonic_train[prob_isotonic_train > 0.5]) * target_train_p[prob_isotonic_train > 0.5]\n",
    "    # Solve for no positions taken\n",
    "    mean, stdev = check_stats(rets)\n",
    "    # Sharpe Ratio\n",
    "    sharp_ratio = mean / stdev\n",
    "    return -sharp_ratio"
   ],
   "metadata": {
    "collapsed": false,
    "ExecuteTime": {
     "end_time": "2024-01-14T15:24:42.507573Z",
     "start_time": "2024-01-14T15:24:42.468638Z"
    }
   },
   "id": "62bb1f589458c48a"
  },
  {
   "cell_type": "markdown",
   "source": [
    "Train model on training data"
   ],
   "metadata": {
    "collapsed": false
   },
   "id": "2cd0090810f2a33"
  },
  {
   "cell_type": "code",
   "execution_count": 60,
   "outputs": [],
   "source": [
    "x0 = np.array([1, 0])\n",
    "res = minimize(target_sigmoid, x0, method = 'nelder-mead', options = {'xatol': 1e-8, 'disp': False})\n",
    "model = res.x"
   ],
   "metadata": {
    "collapsed": false,
    "ExecuteTime": {
     "end_time": "2024-01-14T15:25:08.121653Z",
     "start_time": "2024-01-14T15:25:07.626115Z"
    }
   },
   "id": "3a55ee678350ccdc"
  },
  {
   "cell_type": "markdown",
   "source": [
    "Get size on test"
   ],
   "metadata": {
    "collapsed": false
   },
   "id": "47cb820d6c13321a"
  },
  {
   "cell_type": "code",
   "execution_count": 61,
   "outputs": [],
   "source": [
    "sig_size = 1 / (1 + np.exp(-model[0] * prob_test - model[1]))\n",
    "sig_size = sig_size[prob_test > 0.5]"
   ],
   "metadata": {
    "collapsed": false,
    "ExecuteTime": {
     "end_time": "2024-01-14T15:25:24.611982Z",
     "start_time": "2024-01-14T15:25:24.572742Z"
    }
   },
   "id": "bf97ea7a9fac50ab"
  },
  {
   "cell_type": "markdown",
   "source": [
    "Train model on training data"
   ],
   "metadata": {
    "collapsed": false
   },
   "id": "7d71ca43cbc2fa94"
  },
  {
   "cell_type": "code",
   "execution_count": 62,
   "outputs": [],
   "source": [
    "x0 = np.array([1, 0])\n",
    "res = minimize(target_iso_sigmoid, x0, method = 'nelder-mead', options = {'xatol': 1e-8, 'disp': False})\n",
    "model = res.x"
   ],
   "metadata": {
    "collapsed": false,
    "ExecuteTime": {
     "end_time": "2024-01-14T15:25:49.194184Z",
     "start_time": "2024-01-14T15:25:48.890474Z"
    }
   },
   "id": "83fb33538ae32b9e"
  },
  {
   "cell_type": "markdown",
   "source": [
    "Get size on test"
   ],
   "metadata": {
    "collapsed": false
   },
   "id": "60c24703f54be4d1"
  },
  {
   "cell_type": "code",
   "execution_count": 63,
   "outputs": [],
   "source": [
    "sig_iso_size = 1 / (1 + np.exp(-model[0] * prob_isotonic_test - model[1]))\n",
    "sig_iso_size = sig_iso_size[prob_isotonic_test > 0.5]"
   ],
   "metadata": {
    "collapsed": false,
    "ExecuteTime": {
     "end_time": "2024-01-14T15:26:04.952996Z",
     "start_time": "2024-01-14T15:26:04.921084Z"
    }
   },
   "id": "a3aa8556b0a221d6"
  },
  {
   "cell_type": "markdown",
   "source": [
    "Assign position sizes"
   ],
   "metadata": {
    "collapsed": false
   },
   "id": "eb3618b2923df293"
  },
  {
   "cell_type": "code",
   "execution_count": 64,
   "outputs": [],
   "source": [
    "data_test_set['sop_size'] = 0\n",
    "data_test_set.loc[sig_size.index, 'sop_size'] = sig_size\n",
    "data_test_set['sop_size_iso'] = 0\n",
    "data_test_set.loc[sig_iso_size.index, 'sop_size_iso'] = sig_iso_size"
   ],
   "metadata": {
    "collapsed": false,
    "ExecuteTime": {
     "end_time": "2024-01-14T15:26:24.861166Z",
     "start_time": "2024-01-14T15:26:24.812713Z"
    }
   },
   "id": "b8eeb9d865a5c453"
  },
  {
   "cell_type": "markdown",
   "source": [
    "Get daily returns"
   ],
   "metadata": {
    "collapsed": false
   },
   "id": "22a7804fbf274969"
  },
  {
   "cell_type": "code",
   "execution_count": 65,
   "outputs": [],
   "source": [
    "data_test_set['sop_rets'] = (data_test_set['sop_size'] * target_test).shift(1)\n",
    "data_test_set['sop_rets_iso'] = (data_test_set['sop_size_iso'] * target_test).shift(1)\n",
    "\n",
    "if (data_test_set['sop_rets_iso'].std() == 0) or (data_test_set['sop_rets_iso'].mean() == 0):\n",
    "    print('SOP_ISO')\n",
    "    print(sig_iso_size.mean())\n",
    "    \n",
    "if (data_test_set['sop_rets'].std() == 0) or (data_test_set['sop_rets'].mean() == 0):\n",
    "    print('SOP')\n",
    "    print(sig_size.mean())"
   ],
   "metadata": {
    "collapsed": false,
    "ExecuteTime": {
     "end_time": "2024-01-14T15:26:56.510409Z",
     "start_time": "2024-01-14T15:26:56.466354Z"
    }
   },
   "id": "5d76176ca9b82ffb"
  },
  {
   "cell_type": "markdown",
   "source": [
    "#### Model output size\n",
    "\n",
    "Normal bet sizing from probabilities\n",
    "\n",
    "position sizes on test data"
   ],
   "metadata": {
    "collapsed": false
   },
   "id": "c079be82763926d3"
  },
  {
   "cell_type": "code",
   "execution_count": 66,
   "outputs": [],
   "source": [
    "model_output = prob_test\n",
    "model_output_iso = prob_isotonic_test"
   ],
   "metadata": {
    "collapsed": false,
    "ExecuteTime": {
     "end_time": "2024-01-14T15:27:47.396678Z",
     "start_time": "2024-01-14T15:27:47.347005Z"
    }
   },
   "id": "680116757f94ad4c"
  },
  {
   "cell_type": "markdown",
   "source": [
    "All or nothing"
   ],
   "metadata": {
    "collapsed": false
   },
   "id": "5e48ec95ce0d8ef8"
  },
  {
   "cell_type": "code",
   "execution_count": 68,
   "outputs": [],
   "source": [
    "model_output[model_output >= 0.5] = prob_test\n",
    "model_output[model_output < 0.5] = 0\n",
    "\n",
    "model_output_iso[model_output_iso >= 0.5] = prob_isotonic_test\n",
    "model_output_iso[model_output_iso < 0.5] = 0"
   ],
   "metadata": {
    "collapsed": false,
    "ExecuteTime": {
     "end_time": "2024-01-14T15:28:15.025144Z",
     "start_time": "2024-01-14T15:28:15.006627Z"
    }
   },
   "id": "22000f1a3fa00fc8"
  },
  {
   "cell_type": "markdown",
   "source": [
    "Assign position sizes"
   ],
   "metadata": {
    "collapsed": false
   },
   "id": "64715186cd1c4923"
  },
  {
   "cell_type": "code",
   "execution_count": 69,
   "outputs": [],
   "source": [
    "data_test_set['norm_prob_size'] = 0\n",
    "data_test_set['norm_prob_iso_size'] = 0\n",
    "data_test_set.loc[model_output.index, 'norm_prob_size'] = model_output\n",
    "data_test_set.loc[model_output_iso.index, 'norm_prob_iso_size'] = prob_isotonic_test"
   ],
   "metadata": {
    "collapsed": false,
    "ExecuteTime": {
     "end_time": "2024-01-14T15:28:32.246911Z",
     "start_time": "2024-01-14T15:28:32.200407Z"
    }
   },
   "id": "2e89a9c1e0b0a214"
  },
  {
   "cell_type": "markdown",
   "source": [
    "Get daily returns"
   ],
   "metadata": {
    "collapsed": false
   },
   "id": "f1038e31f22a4c9"
  },
  {
   "cell_type": "code",
   "execution_count": 70,
   "outputs": [],
   "source": [
    "data_test_set['norm_prob_rets'] = (data_test_set['norm_prob_size'] * target_test).shift(1)\n",
    "data_test_set['norm_prob_iso_rets'] = (data_test_set['norm_prob_iso_size'] * target_test).shift(1)"
   ],
   "metadata": {
    "collapsed": false,
    "ExecuteTime": {
     "end_time": "2024-01-14T15:28:46.863967Z",
     "start_time": "2024-01-14T15:28:46.820251Z"
    }
   },
   "id": "51b05051565614a2"
  },
  {
   "cell_type": "markdown",
   "source": [
    "#### All or nothing\n",
    "\n",
    "Position sizes on test data"
   ],
   "metadata": {
    "collapsed": false
   },
   "id": "f4605d59d609df00"
  },
  {
   "cell_type": "code",
   "execution_count": 71,
   "outputs": [],
   "source": [
    "all_or_nothing = prob_test\n",
    "all_or_nothing_isotonic = prob_isotonic_test"
   ],
   "metadata": {
    "collapsed": false,
    "ExecuteTime": {
     "end_time": "2024-01-14T15:29:19.114379Z",
     "start_time": "2024-01-14T15:29:19.069006Z"
    }
   },
   "id": "daf96413bf4617a0"
  },
  {
   "cell_type": "markdown",
   "source": [
    "All or nothing"
   ],
   "metadata": {
    "collapsed": false
   },
   "id": "6e67d39c1eb1f29a"
  },
  {
   "cell_type": "code",
   "execution_count": 72,
   "outputs": [],
   "source": [
    "all_or_nothing[all_or_nothing >= 0.5] = 1\n",
    "all_or_nothing[all_or_nothing < 0.5] = 0\n",
    "all_or_nothing_isotonic[all_or_nothing_isotonic >= 0.5] = 1\n",
    "all_or_nothing_isotonic[all_or_nothing_isotonic < 0.5] = 0"
   ],
   "metadata": {
    "collapsed": false,
    "ExecuteTime": {
     "end_time": "2024-01-14T15:29:34.904649Z",
     "start_time": "2024-01-14T15:29:34.857685Z"
    }
   },
   "id": "eac9a6614e6e915a"
  },
  {
   "cell_type": "markdown",
   "source": [
    "Assign position sizes"
   ],
   "metadata": {
    "collapsed": false
   },
   "id": "e1e50a93f3b7c4ef"
  },
  {
   "cell_type": "code",
   "execution_count": 73,
   "outputs": [],
   "source": [
    "data_test_set['all_or_nothing_size'] = 0\n",
    "data_test_set['all_or_nothing_iso_size'] = 0\n",
    "data_test_set.loc[all_or_nothing.index, 'all_or_nothing_size'] = all_or_nothing\n",
    "data_test_set.loc[all_or_nothing_isotonic.index, 'all_or_nothing_iso_size'] = all_or_nothing_isotonic"
   ],
   "metadata": {
    "collapsed": false,
    "ExecuteTime": {
     "end_time": "2024-01-14T15:29:53.779506Z",
     "start_time": "2024-01-14T15:29:53.735705Z"
    }
   },
   "id": "3957fbc9878899ac"
  },
  {
   "cell_type": "markdown",
   "source": [
    "Get daily returns"
   ],
   "metadata": {
    "collapsed": false
   },
   "id": "c769275127056ea8"
  },
  {
   "cell_type": "code",
   "execution_count": 74,
   "outputs": [],
   "source": [
    "data_test_set['all_or_nothing_rets'] = (data_test_set['all_or_nothing_size'] * target_test).shift(1)\n",
    "data_test_set['all_or_nothing_iso_rets'] = (data_test_set['all_or_nothing_iso_size'] * target_test).shift(1)"
   ],
   "metadata": {
    "collapsed": false,
    "ExecuteTime": {
     "end_time": "2024-01-14T15:30:10.451683Z",
     "start_time": "2024-01-14T15:30:10.408823Z"
    }
   },
   "id": "d9f847a2918d5ebb"
  },
  {
   "cell_type": "code",
   "execution_count": 77,
   "outputs": [],
   "source": [
    "# data_test_set.fillna(0).to_csv('data_test_set.csv')"
   ],
   "metadata": {
    "collapsed": false,
    "ExecuteTime": {
     "end_time": "2024-01-14T15:30:47.398510Z",
     "start_time": "2024-01-14T15:30:47.323643Z"
    }
   },
   "id": "b0d6120d7fa445c4"
  },
  {
   "cell_type": "markdown",
   "source": [
    "#### Statistics"
   ],
   "metadata": {
    "collapsed": false
   },
   "id": "6a0edce3cd0378db"
  },
  {
   "cell_type": "code",
   "execution_count": 78,
   "outputs": [],
   "source": [
    "data_test_set = data_test_set.iloc[1:]"
   ],
   "metadata": {
    "collapsed": false,
    "ExecuteTime": {
     "end_time": "2024-01-14T15:31:21.350536Z",
     "start_time": "2024-01-14T15:31:21.301186Z"
    }
   },
   "id": "6ba66a1989060ab5"
  },
  {
   "cell_type": "code",
   "execution_count": 79,
   "outputs": [],
   "source": [
    "test_cumrets = pd.DataFrame(\n",
    "    {'norm': ((data_test_set['norm_prob_rets'] + 1).cumprod()),\n",
    "     'norm_iso': ((data_test_set['norm_prob_iso_rets'] + 1).cumprod()),\n",
    "\n",
    "     'aon': ((data_test_set['all_or_nothing_rets'] + 1).cumprod()),\n",
    "     'aon_iso': ((data_test_set['all_or_nothing_iso_rets'] + 1).cumprod()),\n",
    "\n",
    "     'lin': ((data_test_set['lin_rets'] + 1).cumprod()),\n",
    "     'lin_iso': ((data_test_set['lin_iso_rets'] + 1).cumprod()),\n",
    "\n",
    "     'lop': ((data_test_set['lop_rets'] + 1).cumprod()),\n",
    "     'lop_iso': ((data_test_set['lop_iso_rets'] + 1).cumprod()),\n",
    "\n",
    "     'dp': ((data_test_set['dp_rets'] + 1).cumprod()),\n",
    "     'dp_iso': ((data_test_set['dp_iso_rets'] + 1).cumprod()),\n",
    "\n",
    "     'ecdf': ((data_test_set['ecdf_rets'] + 1).cumprod()),\n",
    "     'ecdf_iso': ((data_test_set['ecdf_iso_rets'] + 1).cumprod()),\n",
    "\n",
    "     'sop': ((data_test_set['sop_rets'] + 1).cumprod()),\n",
    "     'sop_iso': ((data_test_set['sop_rets_iso'] + 1).cumprod()),\n",
    "\n",
    "     'primary': ((data_test_set['prets'] + 1).cumprod()),\n",
    "     'BAH': ((data_test_set['rets'] + 1).cumprod())}\n",
    ")"
   ],
   "metadata": {
    "collapsed": false,
    "ExecuteTime": {
     "end_time": "2024-01-14T15:32:32.851007Z",
     "start_time": "2024-01-14T15:32:32.805054Z"
    }
   },
   "id": "a3f35b94a4478f63"
  },
  {
   "cell_type": "code",
   "execution_count": 80,
   "outputs": [],
   "source": [
    "sharpe_ratio = {\n",
    "    'norm_sr': data_test_set['norm_prob_rets'].mean() / data_test_set['norm_prob_rets'].std() * np.sqrt(252),\n",
    "    'norm_iso_sr': data_test_set['norm_prob_iso_rets'].mean() / data_test_set['norm_prob_iso_rets'].std() * np.sqrt(252),\n",
    "\n",
    "    'aon_sr': data_test_set['all_or_nothing_rets'].mean() / data_test_set['all_or_nothing_rets'].std() * np.sqrt(252),\n",
    "    'aon_iso_sr': data_test_set['all_or_nothing_iso_rets'].mean() / data_test_set['all_or_nothing_iso_rets'].std() * np.sqrt(252),\n",
    "\n",
    "    'lin_sr': data_test_set['lin_rets'].mean() / data_test_set['lin_rets'].std() * np.sqrt(252),\n",
    "    'lin_iso_sr': data_test_set['lin_iso_rets'].mean() / data_test_set['lin_iso_rets'].std() * np.sqrt(252),\n",
    "\n",
    "    'lop_sr': data_test_set['lop_rets'].mean() / data_test_set['lop_rets'].std() * np.sqrt(252),\n",
    "    'lop_iso_sr': data_test_set['lop_iso_rets'].mean() / data_test_set['lop_iso_rets'].std() * np.sqrt(252),\n",
    "\n",
    "    'dp_sr': data_test_set['dp_rets'].mean() / data_test_set['dp_rets'].std() * np.sqrt(252),\n",
    "    'dp_iso_sr': data_test_set['dp_iso_rets'].mean() / data_test_set['dp_iso_rets'].std() * np.sqrt(252),\n",
    "\n",
    "    'ecdf_sr': data_test_set['ecdf_rets'].mean() / data_test_set['ecdf_rets'].std() * np.sqrt(252),\n",
    "    'ecdf_iso_sr': data_test_set['ecdf_iso_rets'].mean() / data_test_set['ecdf_iso_rets'].std() * np.sqrt(252),\n",
    "\n",
    "    'sop_sr': data_test_set['sop_rets'].mean() / data_test_set['sop_rets'].std() * np.sqrt(252),\n",
    "    'sop_iso_sr': data_test_set['sop_rets_iso'].mean() / data_test_set['sop_rets_iso'].std() * np.sqrt(252),\n",
    "\n",
    "    'primary_sr': data_test_set['prets'].mean() / data_test_set['prets'].std() * np.sqrt(252),\n",
    "    'BAH_sr': data_test_set['rets'].mean() / data_test_set['rets'].std() * np.sqrt(252)\n",
    "}"
   ],
   "metadata": {
    "collapsed": false,
    "ExecuteTime": {
     "end_time": "2024-01-14T15:33:29.481577Z",
     "start_time": "2024-01-14T15:33:29.417088Z"
    }
   },
   "id": "645d6445fa77d0c2"
  },
  {
   "cell_type": "code",
   "execution_count": 81,
   "outputs": [],
   "source": [
    "mean = {\n",
    "    'norm_avg': (1 + data_test_set['norm_prob_rets'].mean()) ** 252 - 1,\n",
    "    'norm_iso_avg': (1 + data_test_set['norm_prob_iso_rets'].mean()) ** 252 - 1,\n",
    "\n",
    "    'aon_avg': (1 + data_test_set['all_or_nothing_rets'].mean()) ** 252 - 1,\n",
    "    'aon_iso_avg': (1 + data_test_set['all_or_nothing_iso_rets'].mean()) ** 252 - 1,\n",
    "\n",
    "    'lin_avg': (1 + data_test_set['lin_rets'].mean()) ** 252 - 1,\n",
    "    'lin_iso_avg': (1 + data_test_set['lin_iso_rets'].mean()) ** 252 - 1,\n",
    "\n",
    "    'lop_avg': (1 + data_test_set['lop_rets'].mean()) ** 252 - 1,\n",
    "    'lop_iso_avg': (1 + data_test_set['lop_iso_rets'].mean()) ** 252 - 1,\n",
    "\n",
    "    'dp_avg': (1 + data_test_set['dp_rets'].mean()) ** 252 - 1,\n",
    "    'dp_iso_avg': (1 + data_test_set['dp_iso_rets'].mean()) ** 252 - 1,\n",
    "\n",
    "    'ecdf_avg': (1 + data_test_set['ecdf_rets'].mean()) ** 252 - 1,\n",
    "    'ecdf_iso_avg': (1 + data_test_set['ecdf_iso_rets'].mean()) ** 252 - 1,\n",
    "\n",
    "    'sop_avg': (1 + data_test_set['sop_rets'].mean()) ** 252 - 1,\n",
    "    'sop_iso_avg': (1 + data_test_set['sop_rets_iso'].mean()) ** 252 - 1,\n",
    "\n",
    "    'primary_avg': (1 + data_test_set['prets'].mean()) ** 252 - 1,\n",
    "    'BAH_avg': (1 + data_test_set['rets'].mean()) ** 252 - 1\n",
    "}"
   ],
   "metadata": {
    "collapsed": false,
    "ExecuteTime": {
     "end_time": "2024-01-14T15:34:35.946471Z",
     "start_time": "2024-01-14T15:34:35.895989Z"
    }
   },
   "id": "47704d58d0995089"
  },
  {
   "cell_type": "code",
   "execution_count": 82,
   "outputs": [],
   "source": [
    "standard_deviation = {\n",
    "    'norm_std': data_test_set['norm_prob_rets'].std() * np.sqrt(252),\n",
    "    'norm_iso_std': data_test_set['norm_prob_iso_rets'].std() * np.sqrt(252),\n",
    "\n",
    "    'aon_std': data_test_set['all_or_nothing_rets'].std() * np.sqrt(252),\n",
    "    'aon_iso_std': data_test_set['all_or_nothing_iso_rets'].std() * np.sqrt(252),\n",
    "\n",
    "    'lin_std': data_test_set['lin_rets'].std() * np.sqrt(252),\n",
    "    'lin_iso_std': data_test_set['lin_iso_rets'].std() * np.sqrt(252),\n",
    "\n",
    "    'lop_std': data_test_set['lop_rets'].std() * np.sqrt(252),\n",
    "    'lop_iso_std': data_test_set['lop_iso_rets'].std() * np.sqrt(252),\n",
    "\n",
    "    'dp_std': data_test_set['dp_rets'].std() * np.sqrt(252),\n",
    "    'dp_iso_std': data_test_set['dp_iso_rets'].std() * np.sqrt(252),\n",
    "\n",
    "    'ecdf_std': data_test_set['ecdf_rets'].std() * np.sqrt(252),\n",
    "    'ecdf_iso_std': data_test_set['ecdf_iso_rets'].std() * np.sqrt(252),\n",
    "\n",
    "    'sop_std': data_test_set['sop_rets'].std() * np.sqrt(252),\n",
    "    'sop_iso_std': data_test_set['sop_rets_iso'].std() * np.sqrt(252),\n",
    "\n",
    "    'primary_std': data_test_set['prets'].std() * np.sqrt(252),\n",
    "    'BAH_std': data_test_set['rets'].std() * np.sqrt(252)\n",
    "}"
   ],
   "metadata": {
    "collapsed": false,
    "ExecuteTime": {
     "end_time": "2024-01-14T15:35:17.613229Z",
     "start_time": "2024-01-14T15:35:17.556240Z"
    }
   },
   "id": "d9544130b2bca01e"
  },
  {
   "cell_type": "markdown",
   "source": [
    "Compute MDD"
   ],
   "metadata": {
    "collapsed": false
   },
   "id": "3648c7350e8c85ca"
  },
  {
   "cell_type": "code",
   "execution_count": 83,
   "outputs": [],
   "source": [
    "mdds = qs.stats.max_drawdown(test_cumrets)"
   ],
   "metadata": {
    "collapsed": false,
    "ExecuteTime": {
     "end_time": "2024-01-14T15:35:41.217492Z",
     "start_time": "2024-01-14T15:35:41.152959Z"
    }
   },
   "id": "14e9a777cacdfebe"
  },
  {
   "cell_type": "code",
   "execution_count": 85,
   "outputs": [],
   "source": [
    "clean_mdds = {}\n",
    "for ind, val in mdds.items():\n",
    "    new_name = ind + '_mdd'\n",
    "\n",
    "    if val == 0.0:\n",
    "        val = -(1 - test_cumrets[ind][-1])\n",
    "        mdds[ind] = val\n",
    "    clean_mdds[new_name] = val\n",
    "\n",
    "final = {**sharpe_ratio, **mean, **standard_deviation, **clean_mdds}\n",
    "final_row = pd.DataFrame(final.values(), index = final.keys()).T"
   ],
   "metadata": {
    "collapsed": false,
    "ExecuteTime": {
     "end_time": "2024-01-14T15:36:14.169551Z",
     "start_time": "2024-01-14T15:36:14.150907Z"
    }
   },
   "id": "6ce8c5127215ec4a"
  },
  {
   "cell_type": "code",
   "execution_count": 87,
   "outputs": [],
   "source": [
    "# final_row.to_csv('results.csv')"
   ],
   "metadata": {
    "collapsed": false,
    "ExecuteTime": {
     "end_time": "2024-01-14T15:36:50.210269Z",
     "start_time": "2024-01-14T15:36:50.186850Z"
    }
   },
   "id": "3e106245b075f7f0"
  },
  {
   "cell_type": "code",
   "execution_count": 91,
   "outputs": [
    {
     "data": {
      "text/plain": "<Axes: >"
     },
     "execution_count": 91,
     "metadata": {},
     "output_type": "execute_result"
    },
    {
     "data": {
      "text/plain": "<Figure size 600x400 with 1 Axes>",
      "image/png": "[encoded data removed]"
     },
     "metadata": {},
     "output_type": "display_data"
    }
   ],
   "source": [
    "data_test_set[['pred', 'target_rets']].plot(figsize = (6, 4))"
   ],
   "metadata": {
    "collapsed": false,
    "ExecuteTime": {
     "end_time": "2024-01-14T15:38:17.541978Z",
     "start_time": "2024-01-14T15:38:17.301984Z"
    }
   },
   "id": "f76d82bc44190085"
  }
 ],
 "metadata": {
  "kernelspec": {
   "display_name": "Python 3",
   "language": "python",
   "name": "python3"
  },
  "language_info": {
   "codemirror_mode": {
    "name": "ipython",
    "version": 2
   },
   "file_extension": ".py",
   "mimetype": "text/x-python",
   "name": "python",
   "nbconvert_exporter": "python",
   "pygments_lexer": "ipython2",
   "version": "2.7.6"
  }
 },
 "nbformat": 4,
 "nbformat_minor": 5
}
