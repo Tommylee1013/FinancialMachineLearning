{
 "cells": [
  {
   "cell_type": "code",
   "execution_count": 2,
   "metadata": {
    "collapsed": true,
    "ExecuteTime": {
     "end_time": "2023-09-13T18:10:44.051089Z",
     "start_time": "2023-09-13T18:10:44.042742Z"
    }
   },
   "outputs": [],
   "source": [
    "from FinancialMachineLearning.barsampling.standard_bar_features import *\n",
    "import numpy as np\n",
    "import pandas as pd\n",
    "import matplotlib.pyplot as plt"
   ]
  },
  {
   "cell_type": "code",
   "execution_count": 3,
   "outputs": [
    {
     "data": {
      "text/plain": "'/Users/tommylee/Desktop/Pycharm/FinancialMachineLearning'"
     },
     "execution_count": 3,
     "metadata": {},
     "output_type": "execute_result"
    }
   ],
   "source": [
    "import os\n",
    "os.chdir('..')\n",
    "os.chdir('..')\n",
    "os.getcwd()"
   ],
   "metadata": {
    "collapsed": false,
    "ExecuteTime": {
     "end_time": "2023-09-13T18:10:44.986173Z",
     "start_time": "2023-09-13T18:10:44.968159Z"
    }
   }
  },
  {
   "cell_type": "code",
   "execution_count": 5,
   "outputs": [
    {
     "data": {
      "text/plain": "                      price     bid     ask   size      v          dv\ndates                                                                \n2009-09-28 09:30:00   50.79   50.70   50.79    100    100     5079.00\n2009-09-28 09:30:00   50.71   50.70   50.79    638    638    32352.98\n2009-09-28 09:31:32   50.75   50.75   50.76    100    100     5075.00\n2009-09-28 09:31:33   50.75   50.72   50.75    100    100     5075.00\n2009-09-28 09:31:50   50.75   50.73   50.76    300    300    15225.00\n...                     ...     ...     ...    ...    ...         ...\n2018-10-05 15:59:59  116.20  116.18  116.19   2000   2000   232400.00\n2018-10-05 15:59:59  116.20  116.18  116.19   3900   3900   453180.00\n2018-10-05 16:00:00  116.22  116.20  116.21  42884  42884  4983978.48\n2018-10-05 16:10:00  116.22    0.00  117.10      0      0        0.00\n2018-10-05 18:30:00  116.22  114.71  117.95      0      0        0.00\n\n[1416200 rows x 6 columns]",
      "text/html": "<div>\n<style scoped>\n    .dataframe tbody tr th:only-of-type {\n        vertical-align: middle;\n    }\n\n    .dataframe tbody tr th {\n        vertical-align: top;\n    }\n\n    .dataframe thead th {\n        text-align: right;\n    }\n</style>\n<table border=\"1\" class=\"dataframe\">\n  <thead>\n    <tr style=\"text-align: right;\">\n      <th></th>\n      <th>price</th>\n      <th>bid</th>\n      <th>ask</th>\n      <th>size</th>\n      <th>v</th>\n      <th>dv</th>\n    </tr>\n    <tr>\n      <th>dates</th>\n      <th></th>\n      <th></th>\n      <th></th>\n      <th></th>\n      <th></th>\n      <th></th>\n    </tr>\n  </thead>\n  <tbody>\n    <tr>\n      <th>2009-09-28 09:30:00</th>\n      <td>50.79</td>\n      <td>50.70</td>\n      <td>50.79</td>\n      <td>100</td>\n      <td>100</td>\n      <td>5079.00</td>\n    </tr>\n    <tr>\n      <th>2009-09-28 09:30:00</th>\n      <td>50.71</td>\n      <td>50.70</td>\n      <td>50.79</td>\n      <td>638</td>\n      <td>638</td>\n      <td>32352.98</td>\n    </tr>\n    <tr>\n      <th>2009-09-28 09:31:32</th>\n      <td>50.75</td>\n      <td>50.75</td>\n      <td>50.76</td>\n      <td>100</td>\n      <td>100</td>\n      <td>5075.00</td>\n    </tr>\n    <tr>\n      <th>2009-09-28 09:31:33</th>\n      <td>50.75</td>\n      <td>50.72</td>\n      <td>50.75</td>\n      <td>100</td>\n      <td>100</td>\n      <td>5075.00</td>\n    </tr>\n    <tr>\n      <th>2009-09-28 09:31:50</th>\n      <td>50.75</td>\n      <td>50.73</td>\n      <td>50.76</td>\n      <td>300</td>\n      <td>300</td>\n      <td>15225.00</td>\n    </tr>\n    <tr>\n      <th>...</th>\n      <td>...</td>\n      <td>...</td>\n      <td>...</td>\n      <td>...</td>\n      <td>...</td>\n      <td>...</td>\n    </tr>\n    <tr>\n      <th>2018-10-05 15:59:59</th>\n      <td>116.20</td>\n      <td>116.18</td>\n      <td>116.19</td>\n      <td>2000</td>\n      <td>2000</td>\n      <td>232400.00</td>\n    </tr>\n    <tr>\n      <th>2018-10-05 15:59:59</th>\n      <td>116.20</td>\n      <td>116.18</td>\n      <td>116.19</td>\n      <td>3900</td>\n      <td>3900</td>\n      <td>453180.00</td>\n    </tr>\n    <tr>\n      <th>2018-10-05 16:00:00</th>\n      <td>116.22</td>\n      <td>116.20</td>\n      <td>116.21</td>\n      <td>42884</td>\n      <td>42884</td>\n      <td>4983978.48</td>\n    </tr>\n    <tr>\n      <th>2018-10-05 16:10:00</th>\n      <td>116.22</td>\n      <td>0.00</td>\n      <td>117.10</td>\n      <td>0</td>\n      <td>0</td>\n      <td>0.00</td>\n    </tr>\n    <tr>\n      <th>2018-10-05 18:30:00</th>\n      <td>116.22</td>\n      <td>114.71</td>\n      <td>117.95</td>\n      <td>0</td>\n      <td>0</td>\n      <td>0.00</td>\n    </tr>\n  </tbody>\n</table>\n<p>1416200 rows × 6 columns</p>\n</div>"
     },
     "execution_count": 5,
     "metadata": {},
     "output_type": "execute_result"
    }
   ],
   "source": [
    "data = pd.read_csv('./Data/clean_data.csv', index_col = 0)\n",
    "data"
   ],
   "metadata": {
    "collapsed": false,
    "ExecuteTime": {
     "end_time": "2023-09-13T18:11:10.489989Z",
     "start_time": "2023-09-13T18:11:09.354149Z"
    }
   }
  },
  {
   "cell_type": "code",
   "execution_count": 17,
   "outputs": [
    {
     "data": {
      "text/plain": "                   date_time   price  volume\n0        2009-09-28 09:30:00   50.79     100\n1        2009-09-28 09:30:00   50.71     638\n2        2009-09-28 09:31:32   50.75     100\n3        2009-09-28 09:31:33   50.75     100\n4        2009-09-28 09:31:50   50.75     300\n...                      ...     ...     ...\n1416195  2018-10-05 15:59:59  116.20    2000\n1416196  2018-10-05 15:59:59  116.20    3900\n1416197  2018-10-05 16:00:00  116.22   42884\n1416198  2018-10-05 16:10:00  116.22       0\n1416199  2018-10-05 18:30:00  116.22       0\n\n[1416200 rows x 3 columns]",
      "text/html": "<div>\n<style scoped>\n    .dataframe tbody tr th:only-of-type {\n        vertical-align: middle;\n    }\n\n    .dataframe tbody tr th {\n        vertical-align: top;\n    }\n\n    .dataframe thead th {\n        text-align: right;\n    }\n</style>\n<table border=\"1\" class=\"dataframe\">\n  <thead>\n    <tr style=\"text-align: right;\">\n      <th></th>\n      <th>date_time</th>\n      <th>price</th>\n      <th>volume</th>\n    </tr>\n  </thead>\n  <tbody>\n    <tr>\n      <th>0</th>\n      <td>2009-09-28 09:30:00</td>\n      <td>50.79</td>\n      <td>100</td>\n    </tr>\n    <tr>\n      <th>1</th>\n      <td>2009-09-28 09:30:00</td>\n      <td>50.71</td>\n      <td>638</td>\n    </tr>\n    <tr>\n      <th>2</th>\n      <td>2009-09-28 09:31:32</td>\n      <td>50.75</td>\n      <td>100</td>\n    </tr>\n    <tr>\n      <th>3</th>\n      <td>2009-09-28 09:31:33</td>\n      <td>50.75</td>\n      <td>100</td>\n    </tr>\n    <tr>\n      <th>4</th>\n      <td>2009-09-28 09:31:50</td>\n      <td>50.75</td>\n      <td>300</td>\n    </tr>\n    <tr>\n      <th>...</th>\n      <td>...</td>\n      <td>...</td>\n      <td>...</td>\n    </tr>\n    <tr>\n      <th>1416195</th>\n      <td>2018-10-05 15:59:59</td>\n      <td>116.20</td>\n      <td>2000</td>\n    </tr>\n    <tr>\n      <th>1416196</th>\n      <td>2018-10-05 15:59:59</td>\n      <td>116.20</td>\n      <td>3900</td>\n    </tr>\n    <tr>\n      <th>1416197</th>\n      <td>2018-10-05 16:00:00</td>\n      <td>116.22</td>\n      <td>42884</td>\n    </tr>\n    <tr>\n      <th>1416198</th>\n      <td>2018-10-05 16:10:00</td>\n      <td>116.22</td>\n      <td>0</td>\n    </tr>\n    <tr>\n      <th>1416199</th>\n      <td>2018-10-05 18:30:00</td>\n      <td>116.22</td>\n      <td>0</td>\n    </tr>\n  </tbody>\n</table>\n<p>1416200 rows × 3 columns</p>\n</div>"
     },
     "execution_count": 17,
     "metadata": {},
     "output_type": "execute_result"
    }
   ],
   "source": [
    "test = pd.read_csv('metadata.csv', index_col = 0)\n",
    "test"
   ],
   "metadata": {
    "collapsed": false,
    "ExecuteTime": {
     "end_time": "2023-09-13T18:24:45.466819Z",
     "start_time": "2023-09-13T18:24:44.812226Z"
    }
   }
  },
  {
   "cell_type": "code",
   "execution_count": 20,
   "outputs": [
    {
     "data": {
      "text/plain": "3"
     },
     "execution_count": 20,
     "metadata": {},
     "output_type": "execute_result"
    }
   ],
   "source": [
    "test.shape[1]"
   ],
   "metadata": {
    "collapsed": false,
    "ExecuteTime": {
     "end_time": "2023-09-13T18:25:35.284136Z",
     "start_time": "2023-09-13T18:25:35.279134Z"
    }
   }
  },
  {
   "cell_type": "code",
   "execution_count": 21,
   "outputs": [
    {
     "ename": "AssertionError",
     "evalue": "Must have only 3 columns in csv: date_time, price, & volume.",
     "output_type": "error",
     "traceback": [
      "\u001B[0;31m---------------------------------------------------------------------------\u001B[0m",
      "\u001B[0;31mAssertionError\u001B[0m                            Traceback (most recent call last)",
      "Cell \u001B[0;32mIn[21], line 1\u001B[0m\n\u001B[0;32m----> 1\u001B[0m tick \u001B[38;5;241m=\u001B[39m \u001B[43mtickBar\u001B[49m\u001B[43m(\u001B[49m\u001B[38;5;124;43m'\u001B[39;49m\u001B[38;5;124;43mmetadata.csv\u001B[39;49m\u001B[38;5;124;43m'\u001B[39;49m\u001B[43m)\u001B[49m\n\u001B[1;32m      2\u001B[0m tick\n",
      "File \u001B[0;32m~/Desktop/Pycharm/FinancialMachineLearning/FinancialMachineLearning/barsampling/standard_bar_features.py:183\u001B[0m, in \u001B[0;36mtickBar\u001B[0;34m(file_path, threshold, batch_size, verbose, to_csv, output_path, additional_features)\u001B[0m\n\u001B[1;32m    174\u001B[0m \u001B[38;5;28;01mdef\u001B[39;00m \u001B[38;5;21mtickBar\u001B[39m(file_path : \u001B[38;5;28mstr\u001B[39m,\n\u001B[1;32m    175\u001B[0m             threshold : \u001B[38;5;28mint\u001B[39m \u001B[38;5;241m=\u001B[39m \u001B[38;5;241m2800\u001B[39m,\n\u001B[1;32m    176\u001B[0m             batch_size : \u001B[38;5;28mint\u001B[39m \u001B[38;5;241m=\u001B[39m \u001B[38;5;241m20000000\u001B[39m,\n\u001B[0;32m   (...)\u001B[0m\n\u001B[1;32m    179\u001B[0m             output_path : \u001B[38;5;28mstr\u001B[39m \u001B[38;5;241m=\u001B[39m \u001B[38;5;28;01mNone\u001B[39;00m,\n\u001B[1;32m    180\u001B[0m             additional_features \u001B[38;5;241m=\u001B[39m \u001B[38;5;28;01mNone\u001B[39;00m):\n\u001B[1;32m    181\u001B[0m     bars \u001B[38;5;241m=\u001B[39m StandardBar(file_path\u001B[38;5;241m=\u001B[39mfile_path, metric\u001B[38;5;241m=\u001B[39m\u001B[38;5;124m'\u001B[39m\u001B[38;5;124mcum_ticks\u001B[39m\u001B[38;5;124m'\u001B[39m,\n\u001B[1;32m    182\u001B[0m                        threshold\u001B[38;5;241m=\u001B[39mthreshold, batch_size\u001B[38;5;241m=\u001B[39mbatch_size, additional_features\u001B[38;5;241m=\u001B[39madditional_features)\n\u001B[0;32m--> 183\u001B[0m     tick_bars \u001B[38;5;241m=\u001B[39m \u001B[43mbars\u001B[49m\u001B[38;5;241;43m.\u001B[39;49m\u001B[43mbatch_run\u001B[49m\u001B[43m(\u001B[49m\u001B[43mverbose\u001B[49m\u001B[38;5;241;43m=\u001B[39;49m\u001B[43mverbose\u001B[49m\u001B[43m,\u001B[49m\u001B[43m \u001B[49m\u001B[43mto_csv\u001B[49m\u001B[38;5;241;43m=\u001B[39;49m\u001B[43mto_csv\u001B[49m\u001B[43m,\u001B[49m\u001B[43m \u001B[49m\u001B[43moutput_path\u001B[49m\u001B[38;5;241;43m=\u001B[39;49m\u001B[43moutput_path\u001B[49m\u001B[43m)\u001B[49m\n\u001B[1;32m    184\u001B[0m     \u001B[38;5;28;01mreturn\u001B[39;00m tick_bars\n",
      "File \u001B[0;32m~/Desktop/Pycharm/FinancialMachineLearning/FinancialMachineLearning/barsampling/standard_bar_features.py:20\u001B[0m, in \u001B[0;36mBaseBar.batch_run\u001B[0;34m(self, verbose, to_csv, output_path)\u001B[0m\n\u001B[1;32m     18\u001B[0m \u001B[38;5;28;01mdef\u001B[39;00m \u001B[38;5;21mbatch_run\u001B[39m(\u001B[38;5;28mself\u001B[39m, verbose\u001B[38;5;241m=\u001B[39m\u001B[38;5;28;01mTrue\u001B[39;00m, to_csv\u001B[38;5;241m=\u001B[39m\u001B[38;5;28;01mFalse\u001B[39;00m, output_path\u001B[38;5;241m=\u001B[39m\u001B[38;5;28;01mNone\u001B[39;00m):\n\u001B[1;32m     19\u001B[0m     first_row \u001B[38;5;241m=\u001B[39m pd\u001B[38;5;241m.\u001B[39mread_csv(\u001B[38;5;28mself\u001B[39m\u001B[38;5;241m.\u001B[39mpath, nrows\u001B[38;5;241m=\u001B[39m\u001B[38;5;241m1\u001B[39m)\n\u001B[0;32m---> 20\u001B[0m     \u001B[38;5;28;43mself\u001B[39;49m\u001B[38;5;241;43m.\u001B[39;49m\u001B[43m_assert_csv\u001B[49m\u001B[43m(\u001B[49m\u001B[43mfirst_row\u001B[49m\u001B[43m)\u001B[49m\n\u001B[1;32m     21\u001B[0m     header \u001B[38;5;241m=\u001B[39m \u001B[38;5;28;01mFalse\u001B[39;00m\n\u001B[1;32m     22\u001B[0m     \u001B[38;5;28;01mif\u001B[39;00m to_csv \u001B[38;5;129;01mis\u001B[39;00m \u001B[38;5;28;01mTrue\u001B[39;00m:\n",
      "File \u001B[0;32m~/Desktop/Pycharm/FinancialMachineLearning/FinancialMachineLearning/barsampling/standard_bar_features.py:49\u001B[0m, in \u001B[0;36mBaseBar._assert_csv\u001B[0;34m(test_batch)\u001B[0m\n\u001B[1;32m     47\u001B[0m \u001B[38;5;129m@staticmethod\u001B[39m\n\u001B[1;32m     48\u001B[0m \u001B[38;5;28;01mdef\u001B[39;00m \u001B[38;5;21m_assert_csv\u001B[39m(test_batch):\n\u001B[0;32m---> 49\u001B[0m     \u001B[38;5;28;01massert\u001B[39;00m test_batch\u001B[38;5;241m.\u001B[39mshape[\u001B[38;5;241m1\u001B[39m] \u001B[38;5;241m==\u001B[39m \u001B[38;5;241m3\u001B[39m, \u001B[38;5;124m'\u001B[39m\u001B[38;5;124mMust have only 3 columns in csv: date_time, price, & volume.\u001B[39m\u001B[38;5;124m'\u001B[39m\n\u001B[1;32m     50\u001B[0m     \u001B[38;5;28;01massert\u001B[39;00m \u001B[38;5;28misinstance\u001B[39m(test_batch\u001B[38;5;241m.\u001B[39miloc[\u001B[38;5;241m0\u001B[39m, \u001B[38;5;241m1\u001B[39m], \u001B[38;5;28mfloat\u001B[39m), \u001B[38;5;124m'\u001B[39m\u001B[38;5;124mprice column in csv not float.\u001B[39m\u001B[38;5;124m'\u001B[39m\n\u001B[1;32m     51\u001B[0m     \u001B[38;5;28;01massert\u001B[39;00m \u001B[38;5;129;01mnot\u001B[39;00m \u001B[38;5;28misinstance\u001B[39m(test_batch\u001B[38;5;241m.\u001B[39miloc[\u001B[38;5;241m0\u001B[39m, \u001B[38;5;241m2\u001B[39m], \u001B[38;5;28mstr\u001B[39m), \u001B[38;5;124m'\u001B[39m\u001B[38;5;124mvolume column in csv not int or float.\u001B[39m\u001B[38;5;124m'\u001B[39m\n",
      "\u001B[0;31mAssertionError\u001B[0m: Must have only 3 columns in csv: date_time, price, & volume."
     ]
    }
   ],
   "source": [
    "tick = tickBar('metadata.csv')\n",
    "tick"
   ],
   "metadata": {
    "collapsed": false,
    "ExecuteTime": {
     "end_time": "2023-09-13T18:25:57.571481Z",
     "start_time": "2023-09-13T18:25:57.516381Z"
    }
   }
  },
  {
   "cell_type": "code",
   "execution_count": 22,
   "outputs": [
    {
     "ename": "AssertionError",
     "evalue": "Must have only 3 columns in csv: date_time, price, & volume.",
     "output_type": "error",
     "traceback": [
      "\u001B[0;31m---------------------------------------------------------------------------\u001B[0m",
      "\u001B[0;31mAssertionError\u001B[0m                            Traceback (most recent call last)",
      "Cell \u001B[0;32mIn[22], line 1\u001B[0m\n\u001B[0;32m----> 1\u001B[0m volume \u001B[38;5;241m=\u001B[39m \u001B[43mvolumeBar\u001B[49m\u001B[43m(\u001B[49m\u001B[38;5;124;43m'\u001B[39;49m\u001B[38;5;124;43mmetadata.csv\u001B[39;49m\u001B[38;5;124;43m'\u001B[39;49m\u001B[43m)\u001B[49m\n",
      "File \u001B[0;32m~/Desktop/Pycharm/FinancialMachineLearning/FinancialMachineLearning/barsampling/standard_bar_features.py:172\u001B[0m, in \u001B[0;36mvolumeBar\u001B[0;34m(file_path, threshold, batch_size, verbose, to_csv, output_path, additional_features)\u001B[0m\n\u001B[1;32m    163\u001B[0m \u001B[38;5;28;01mdef\u001B[39;00m \u001B[38;5;21mvolumeBar\u001B[39m(file_path : \u001B[38;5;28mstr\u001B[39m,\n\u001B[1;32m    164\u001B[0m               threshold : \u001B[38;5;28mint\u001B[39m \u001B[38;5;241m=\u001B[39m \u001B[38;5;241m10000\u001B[39m,\n\u001B[1;32m    165\u001B[0m               batch_size : \u001B[38;5;28mint\u001B[39m \u001B[38;5;241m=\u001B[39m \u001B[38;5;241m20000000\u001B[39m,\n\u001B[0;32m   (...)\u001B[0m\n\u001B[1;32m    168\u001B[0m               output_path : \u001B[38;5;28mstr\u001B[39m \u001B[38;5;241m=\u001B[39m \u001B[38;5;28;01mNone\u001B[39;00m,\n\u001B[1;32m    169\u001B[0m               additional_features \u001B[38;5;241m=\u001B[39m \u001B[38;5;28;01mNone\u001B[39;00m):\n\u001B[1;32m    170\u001B[0m     bars \u001B[38;5;241m=\u001B[39m StandardBar(file_path\u001B[38;5;241m=\u001B[39mfile_path, metric\u001B[38;5;241m=\u001B[39m\u001B[38;5;124m'\u001B[39m\u001B[38;5;124mcum_volume\u001B[39m\u001B[38;5;124m'\u001B[39m,\n\u001B[1;32m    171\u001B[0m                         threshold\u001B[38;5;241m=\u001B[39mthreshold, batch_size\u001B[38;5;241m=\u001B[39mbatch_size, additional_features\u001B[38;5;241m=\u001B[39madditional_features)\n\u001B[0;32m--> 172\u001B[0m     volume_bars \u001B[38;5;241m=\u001B[39m \u001B[43mbars\u001B[49m\u001B[38;5;241;43m.\u001B[39;49m\u001B[43mbatch_run\u001B[49m\u001B[43m(\u001B[49m\u001B[43mverbose\u001B[49m\u001B[38;5;241;43m=\u001B[39;49m\u001B[43mverbose\u001B[49m\u001B[43m,\u001B[49m\u001B[43m \u001B[49m\u001B[43mto_csv\u001B[49m\u001B[38;5;241;43m=\u001B[39;49m\u001B[43mto_csv\u001B[49m\u001B[43m,\u001B[49m\u001B[43m \u001B[49m\u001B[43moutput_path\u001B[49m\u001B[38;5;241;43m=\u001B[39;49m\u001B[43moutput_path\u001B[49m\u001B[43m)\u001B[49m\n\u001B[1;32m    173\u001B[0m     \u001B[38;5;28;01mreturn\u001B[39;00m volume_bars\n",
      "File \u001B[0;32m~/Desktop/Pycharm/FinancialMachineLearning/FinancialMachineLearning/barsampling/standard_bar_features.py:20\u001B[0m, in \u001B[0;36mBaseBar.batch_run\u001B[0;34m(self, verbose, to_csv, output_path)\u001B[0m\n\u001B[1;32m     18\u001B[0m \u001B[38;5;28;01mdef\u001B[39;00m \u001B[38;5;21mbatch_run\u001B[39m(\u001B[38;5;28mself\u001B[39m, verbose\u001B[38;5;241m=\u001B[39m\u001B[38;5;28;01mTrue\u001B[39;00m, to_csv\u001B[38;5;241m=\u001B[39m\u001B[38;5;28;01mFalse\u001B[39;00m, output_path\u001B[38;5;241m=\u001B[39m\u001B[38;5;28;01mNone\u001B[39;00m):\n\u001B[1;32m     19\u001B[0m     first_row \u001B[38;5;241m=\u001B[39m pd\u001B[38;5;241m.\u001B[39mread_csv(\u001B[38;5;28mself\u001B[39m\u001B[38;5;241m.\u001B[39mpath, nrows\u001B[38;5;241m=\u001B[39m\u001B[38;5;241m1\u001B[39m)\n\u001B[0;32m---> 20\u001B[0m     \u001B[38;5;28;43mself\u001B[39;49m\u001B[38;5;241;43m.\u001B[39;49m\u001B[43m_assert_csv\u001B[49m\u001B[43m(\u001B[49m\u001B[43mfirst_row\u001B[49m\u001B[43m)\u001B[49m\n\u001B[1;32m     21\u001B[0m     header \u001B[38;5;241m=\u001B[39m \u001B[38;5;28;01mFalse\u001B[39;00m\n\u001B[1;32m     22\u001B[0m     \u001B[38;5;28;01mif\u001B[39;00m to_csv \u001B[38;5;129;01mis\u001B[39;00m \u001B[38;5;28;01mTrue\u001B[39;00m:\n",
      "File \u001B[0;32m~/Desktop/Pycharm/FinancialMachineLearning/FinancialMachineLearning/barsampling/standard_bar_features.py:49\u001B[0m, in \u001B[0;36mBaseBar._assert_csv\u001B[0;34m(test_batch)\u001B[0m\n\u001B[1;32m     47\u001B[0m \u001B[38;5;129m@staticmethod\u001B[39m\n\u001B[1;32m     48\u001B[0m \u001B[38;5;28;01mdef\u001B[39;00m \u001B[38;5;21m_assert_csv\u001B[39m(test_batch):\n\u001B[0;32m---> 49\u001B[0m     \u001B[38;5;28;01massert\u001B[39;00m test_batch\u001B[38;5;241m.\u001B[39mshape[\u001B[38;5;241m1\u001B[39m] \u001B[38;5;241m==\u001B[39m \u001B[38;5;241m3\u001B[39m, \u001B[38;5;124m'\u001B[39m\u001B[38;5;124mMust have only 3 columns in csv: date_time, price, & volume.\u001B[39m\u001B[38;5;124m'\u001B[39m\n\u001B[1;32m     50\u001B[0m     \u001B[38;5;28;01massert\u001B[39;00m \u001B[38;5;28misinstance\u001B[39m(test_batch\u001B[38;5;241m.\u001B[39miloc[\u001B[38;5;241m0\u001B[39m, \u001B[38;5;241m1\u001B[39m], \u001B[38;5;28mfloat\u001B[39m), \u001B[38;5;124m'\u001B[39m\u001B[38;5;124mprice column in csv not float.\u001B[39m\u001B[38;5;124m'\u001B[39m\n\u001B[1;32m     51\u001B[0m     \u001B[38;5;28;01massert\u001B[39;00m \u001B[38;5;129;01mnot\u001B[39;00m \u001B[38;5;28misinstance\u001B[39m(test_batch\u001B[38;5;241m.\u001B[39miloc[\u001B[38;5;241m0\u001B[39m, \u001B[38;5;241m2\u001B[39m], \u001B[38;5;28mstr\u001B[39m), \u001B[38;5;124m'\u001B[39m\u001B[38;5;124mvolume column in csv not int or float.\u001B[39m\u001B[38;5;124m'\u001B[39m\n",
      "\u001B[0;31mAssertionError\u001B[0m: Must have only 3 columns in csv: date_time, price, & volume."
     ]
    }
   ],
   "source": [
    "volume = volumeBar('metadata.csv')"
   ],
   "metadata": {
    "collapsed": false,
    "ExecuteTime": {
     "end_time": "2023-09-13T18:26:08.236298Z",
     "start_time": "2023-09-13T18:26:08.183917Z"
    }
   }
  },
  {
   "cell_type": "code",
   "execution_count": null,
   "outputs": [],
   "source": [],
   "metadata": {
    "collapsed": false
   }
  }
 ],
 "metadata": {
  "kernelspec": {
   "display_name": "Python 3",
   "language": "python",
   "name": "python3"
  },
  "language_info": {
   "codemirror_mode": {
    "name": "ipython",
    "version": 2
   },
   "file_extension": ".py",
   "mimetype": "text/x-python",
   "name": "python",
   "nbconvert_exporter": "python",
   "pygments_lexer": "ipython2",
   "version": "2.7.6"
  }
 },
 "nbformat": 4,
 "nbformat_minor": 0
}
