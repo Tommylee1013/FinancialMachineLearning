{
 "cells": [
  {
   "cell_type": "code",
   "execution_count": 1,
   "id": "initial_id",
   "metadata": {
    "collapsed": true,
    "ExecuteTime": {
     "end_time": "2023-09-14T06:12:41.251807Z",
     "start_time": "2023-09-14T06:12:40.831303Z"
    }
   },
   "outputs": [
    {
     "name": "stderr",
     "output_type": "stream",
     "text": [
      "/Users/junghunlee/Desktop/Pycharm/FinancialMachineLearning/FinancialMachineLearning/multiprocess/fast_ewma.py:5: NumbaDeprecationWarning: The keyword argument 'nopython=False' was supplied. From Numba 0.59.0 the default is being changed to True and use of 'nopython=False' will raise a warning as the argument will have no effect. See https://numba.readthedocs.io/en/stable/reference/deprecation.html#deprecation-of-object-mode-fall-back-behaviour-when-using-jit for details.\n",
      "  @jit((float64[:], int64), nopython=False, nogil=True)\n"
     ]
    }
   ],
   "source": [
    "from FinancialMachineLearning.barsampling.imbalance_bar_features import *\n",
    "import numpy as np\n",
    "import pandas as pd\n",
    "import matplotlib.pyplot as plt"
   ]
  },
  {
   "cell_type": "code",
   "execution_count": 2,
   "outputs": [
    {
     "data": {
      "text/plain": "'/Users/junghunlee/Desktop/Pycharm/FinancialMachineLearning'"
     },
     "execution_count": 2,
     "metadata": {},
     "output_type": "execute_result"
    }
   ],
   "source": [
    "import os\n",
    "os.chdir('..')\n",
    "os.chdir('..')\n",
    "os.getcwd()"
   ],
   "metadata": {
    "collapsed": false,
    "ExecuteTime": {
     "end_time": "2023-09-14T06:12:41.257612Z",
     "start_time": "2023-09-14T06:12:41.252545Z"
    }
   },
   "id": "63f4e17e68b78728"
  },
  {
   "cell_type": "markdown",
   "source": [
    "#### Tick imbalance bar"
   ],
   "metadata": {
    "collapsed": false
   },
   "id": "6be8a19a4014df49"
  },
  {
   "cell_type": "code",
   "execution_count": 3,
   "outputs": [
    {
     "ename": "TypeError",
     "evalue": "Can't instantiate abstract class ImbalanceBars with abstract method _extract_bars",
     "output_type": "error",
     "traceback": [
      "\u001B[0;31m---------------------------------------------------------------------------\u001B[0m",
      "\u001B[0;31mTypeError\u001B[0m                                 Traceback (most recent call last)",
      "Cell \u001B[0;32mIn[3], line 2\u001B[0m\n\u001B[1;32m      1\u001B[0m imbalance \u001B[38;5;241m=\u001B[39m getImbalanceBar(\u001B[38;5;124m'\u001B[39m\u001B[38;5;124m./Data/raw_tick_data.csv\u001B[39m\u001B[38;5;124m'\u001B[39m, num_prev_bar \u001B[38;5;241m=\u001B[39m \u001B[38;5;241m100\u001B[39m)\n\u001B[0;32m----> 2\u001B[0m tick_imbalance \u001B[38;5;241m=\u001B[39m \u001B[43mimbalance\u001B[49m\u001B[38;5;241;43m.\u001B[39;49m\u001B[43mtick_imbalance_bar\u001B[49m\u001B[43m(\u001B[49m\u001B[43m)\u001B[49m\n",
      "File \u001B[0;32m~/Desktop/Pycharm/FinancialMachineLearning/FinancialMachineLearning/barsampling/imbalance_bar_features.py:141\u001B[0m, in \u001B[0;36mgetImbalanceBar.tick_imbalance_bar\u001B[0;34m(self)\u001B[0m\n\u001B[1;32m    140\u001B[0m \u001B[38;5;28;01mdef\u001B[39;00m \u001B[38;5;21mtick_imbalance_bar\u001B[39m(\u001B[38;5;28mself\u001B[39m):\n\u001B[0;32m--> 141\u001B[0m     bars \u001B[38;5;241m=\u001B[39m \u001B[43mImbalanceBars\u001B[49m\u001B[43m(\u001B[49m\u001B[43mpath\u001B[49m\u001B[43m \u001B[49m\u001B[38;5;241;43m=\u001B[39;49m\u001B[43m \u001B[49m\u001B[38;5;28;43mself\u001B[39;49m\u001B[38;5;241;43m.\u001B[39;49m\u001B[43m_path\u001B[49m\u001B[43m,\u001B[49m\n\u001B[1;32m    142\u001B[0m \u001B[43m                         \u001B[49m\u001B[43mmetric\u001B[49m\u001B[43m \u001B[49m\u001B[38;5;241;43m=\u001B[39;49m\u001B[43m \u001B[49m\u001B[38;5;124;43m'\u001B[39;49m\u001B[38;5;124;43mtick_imbalance\u001B[39;49m\u001B[38;5;124;43m'\u001B[39;49m\u001B[43m,\u001B[49m\n\u001B[1;32m    143\u001B[0m \u001B[43m                         \u001B[49m\u001B[43mnum_prev_bar\u001B[49m\u001B[43m \u001B[49m\u001B[38;5;241;43m=\u001B[39;49m\u001B[43m \u001B[49m\u001B[38;5;28;43mself\u001B[39;49m\u001B[38;5;241;43m.\u001B[39;49m\u001B[43m_num_prev_bar\u001B[49m\u001B[43m,\u001B[49m\n\u001B[1;32m    144\u001B[0m \u001B[43m                         \u001B[49m\u001B[43mexp_num_ticks_init\u001B[49m\u001B[43m \u001B[49m\u001B[38;5;241;43m=\u001B[39;49m\u001B[43m \u001B[49m\u001B[38;5;28;43mself\u001B[39;49m\u001B[38;5;241;43m.\u001B[39;49m\u001B[43m_exp_num_ticks_init\u001B[49m\u001B[43m,\u001B[49m\n\u001B[1;32m    145\u001B[0m \u001B[43m                         \u001B[49m\u001B[43mbatch_size\u001B[49m\u001B[43m \u001B[49m\u001B[38;5;241;43m=\u001B[39;49m\u001B[43m \u001B[49m\u001B[38;5;28;43mself\u001B[39;49m\u001B[38;5;241;43m.\u001B[39;49m\u001B[43m_batch_size\u001B[49m\u001B[43m,\u001B[49m\n\u001B[1;32m    146\u001B[0m \u001B[43m                         \u001B[49m\u001B[43madditional_features\u001B[49m\u001B[43m \u001B[49m\u001B[38;5;241;43m=\u001B[39;49m\u001B[43m \u001B[49m\u001B[38;5;28;43mself\u001B[39;49m\u001B[38;5;241;43m.\u001B[39;49m\u001B[43m_additional_features\u001B[49m\u001B[43m)\u001B[49m\n\u001B[1;32m    147\u001B[0m     imbalanceBar \u001B[38;5;241m=\u001B[39m bars\u001B[38;5;241m.\u001B[39mbatch_run(verbose \u001B[38;5;241m=\u001B[39m \u001B[38;5;28mself\u001B[39m\u001B[38;5;241m.\u001B[39m_verbose, to_csv \u001B[38;5;241m=\u001B[39m \u001B[38;5;28mself\u001B[39m\u001B[38;5;241m.\u001B[39m_to_csv, output_path \u001B[38;5;241m=\u001B[39m \u001B[38;5;28mself\u001B[39m\u001B[38;5;241m.\u001B[39m_output_path)\n\u001B[1;32m    149\u001B[0m     \u001B[38;5;28;01mreturn\u001B[39;00m imbalanceBar\n",
      "\u001B[0;31mTypeError\u001B[0m: Can't instantiate abstract class ImbalanceBars with abstract method _extract_bars"
     ]
    }
   ],
   "source": [
    "imbalance = getImbalanceBar('./Data/raw_tick_data.csv', num_prev_bar = 100)\n",
    "tick_imbalance = imbalance.tick_imbalance_bar()"
   ],
   "metadata": {
    "collapsed": false,
    "ExecuteTime": {
     "end_time": "2023-09-14T06:12:41.449610Z",
     "start_time": "2023-09-14T06:12:41.258243Z"
    }
   },
   "id": "685ef03512bc28ee"
  },
  {
   "cell_type": "code",
   "execution_count": null,
   "outputs": [],
   "source": [],
   "metadata": {
    "collapsed": false,
    "ExecuteTime": {
     "end_time": "2023-09-14T06:12:41.452328Z",
     "start_time": "2023-09-14T06:12:41.451194Z"
    }
   },
   "id": "bc50d100c6aa27a4"
  }
 ],
 "metadata": {
  "kernelspec": {
   "display_name": "Python 3",
   "language": "python",
   "name": "python3"
  },
  "language_info": {
   "codemirror_mode": {
    "name": "ipython",
    "version": 2
   },
   "file_extension": ".py",
   "mimetype": "text/x-python",
   "name": "python",
   "nbconvert_exporter": "python",
   "pygments_lexer": "ipython2",
   "version": "2.7.6"
  }
 },
 "nbformat": 4,
 "nbformat_minor": 5
}
