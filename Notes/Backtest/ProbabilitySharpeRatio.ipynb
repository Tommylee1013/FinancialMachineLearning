{
 "cells": [
  {
   "cell_type": "markdown",
   "source": [
    "### Probability Sharpe Ratio"
   ],
   "metadata": {
    "collapsed": false
   },
   "id": "81a529f339447292"
  },
  {
   "cell_type": "code",
   "execution_count": 1,
   "id": "initial_id",
   "metadata": {
    "collapsed": true,
    "ExecuteTime": {
     "end_time": "2024-01-09T04:51:55.296123Z",
     "start_time": "2024-01-09T04:51:55.276138Z"
    }
   },
   "outputs": [],
   "source": [
    "import numpy as np\n",
    "from FinancialMachineLearning.backtest.backtest_statistics import ProbSharpeRatio"
   ]
  },
  {
   "cell_type": "code",
   "execution_count": 2,
   "outputs": [],
   "source": [
    "#1) Inputs (path to csv file with returns series)\n",
    "path = '../../Data/stock_prices.csv'\n",
    "maxIter = 100 # Maximum number of iterations\n",
    "delta = 0.005 # Delta Z (attempted gain per interation)\n",
    "\n",
    "#2) Load data, set seed\n",
    "series = np.genfromtxt(path, delimiter = ',') # load as numpy array\n",
    "seed = np.ones((series.shape[1], 1)) / series.shape[1] # initialize seed\n",
    "bounds = [(0,1) for i in seed] # min and max boundary per weight\n",
    "\n",
    "#3) Create class and solve\n",
    "psrOpt = ProbSharpeRatio(series, seed, delta, maxIter, bounds)\n",
    "psrOpt.optimize()"
   ],
   "metadata": {
    "collapsed": false,
    "ExecuteTime": {
     "end_time": "2024-01-09T04:53:13.226098Z",
     "start_time": "2024-01-09T04:51:55.284445Z"
    }
   },
   "id": "8fa11596cab477b5"
  },
  {
   "cell_type": "code",
   "execution_count": 3,
   "outputs": [
    {
     "name": "stdout",
     "output_type": "stream",
     "text": [
      "Maximized Z-Value : 0\n",
      "Number of iterations : 100\n",
      "PSR optimal portfolio\n"
     ]
    },
    {
     "data": {
      "text/plain": "array([[0.04166667],\n       [0.04166667],\n       [0.04166667],\n       [0.04166667],\n       [0.04166667],\n       [0.04166667],\n       [0.04166667],\n       [0.04166667],\n       [0.04166667],\n       [0.04166667],\n       [0.04166667],\n       [0.04166667],\n       [0.04166667],\n       [0.04166667],\n       [0.04166667],\n       [0.04166667],\n       [0.04166667],\n       [0.04166667],\n       [0.04166667],\n       [0.04166667],\n       [0.04166667],\n       [0.04166667],\n       [0.04166667],\n       [0.04166667]])"
     },
     "execution_count": 3,
     "metadata": {},
     "output_type": "execute_result"
    }
   ],
   "source": [
    "print(f\"Maximized Z-Value : {psrOpt.z}\")\n",
    "print(f\"Number of iterations : {psrOpt.iter}\")\n",
    "print(\"PSR optimal portfolio\")\n",
    "psrOpt.w"
   ],
   "metadata": {
    "collapsed": false,
    "ExecuteTime": {
     "end_time": "2024-01-09T04:53:13.233819Z",
     "start_time": "2024-01-09T04:53:13.226836Z"
    }
   },
   "id": "accc3d7e56584a45"
  }
 ],
 "metadata": {
  "kernelspec": {
   "display_name": "Python 3",
   "language": "python",
   "name": "python3"
  },
  "language_info": {
   "codemirror_mode": {
    "name": "ipython",
    "version": 2
   },
   "file_extension": ".py",
   "mimetype": "text/x-python",
   "name": "python",
   "nbconvert_exporter": "python",
   "pygments_lexer": "ipython2",
   "version": "2.7.6"
  }
 },
 "nbformat": 4,
 "nbformat_minor": 5
}
