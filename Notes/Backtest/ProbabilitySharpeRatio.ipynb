{
 "cells": [
  {
   "cell_type": "markdown",
   "source": [
    "### Probability Sharpe Ratio"
   ],
   "metadata": {
    "collapsed": false
   },
   "id": "81a529f339447292"
  },
  {
   "cell_type": "code",
   "execution_count": null,
   "id": "initial_id",
   "metadata": {
    "collapsed": true
   },
   "outputs": [],
   "source": [
    "import numpy as np\n",
    "\n",
    "class ProbSharpe :\n",
    "    def __init__(\n",
    "            self, series, seed, delta, maxIter, bounds = None\n",
    "    ):\n",
    "        # Construct the object\n",
    "        self.series, self.w, self.delta = series, seed, delta\n",
    "        self.z, self.d1Z=None, [None for i in range(series.shape[1])]\n",
    "        self.maxIter, self.iter, self.obs = maxIter,0,series.shape[0]\n",
    "        if len(bounds) == None or seed.shape[0]!=len(bounds):\n",
    "            self.bounds = [(0,1) for i in seed]\n",
    "        else :\n",
    "            self.bounds = bounds\n",
    "    \n",
    "    def optimize(self) :\n",
    "        # Optimize weights\n",
    "        mean = [self.get_Moments(self.series[:,i],1) for i in range(self.series.shape[1])]\n",
    "        w = np.array(self.w)\n",
    "        # derivatives\n",
    "        "
   ]
  }
 ],
 "metadata": {
  "kernelspec": {
   "display_name": "Python 3",
   "language": "python",
   "name": "python3"
  },
  "language_info": {
   "codemirror_mode": {
    "name": "ipython",
    "version": 2
   },
   "file_extension": ".py",
   "mimetype": "text/x-python",
   "name": "python",
   "nbconvert_exporter": "python",
   "pygments_lexer": "ipython2",
   "version": "2.7.6"
  }
 },
 "nbformat": 4,
 "nbformat_minor": 5
}
