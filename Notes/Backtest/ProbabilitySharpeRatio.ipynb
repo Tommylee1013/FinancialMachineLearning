{
 "cells": [
  {
   "cell_type": "markdown",
   "source": [
    "### Probability Sharpe Ratio"
   ],
   "metadata": {
    "collapsed": false
   },
   "id": "81a529f339447292"
  },
  {
   "cell_type": "code",
   "execution_count": 1,
   "id": "initial_id",
   "metadata": {
    "collapsed": true,
    "ExecuteTime": {
     "end_time": "2024-01-09T16:08:50.571724Z",
     "start_time": "2024-01-09T16:08:50.565772Z"
    }
   },
   "outputs": [],
   "source": [
    "import numpy as np\n",
    "from FinancialMachineLearning.backtest.backtest_statistics import ProbSharpeRatio"
   ]
  },
  {
   "cell_type": "code",
   "execution_count": 2,
   "outputs": [
    {
     "name": "stdout",
     "output_type": "stream",
     "text": [
      "[*********************100%%**********************]  1 of 1 completed\n"
     ]
    },
    {
     "data": {
      "text/plain": "Date\n2010-01-05   -0.012154\n2010-01-06   -0.006517\n2010-01-07   -0.003468\n2010-01-08    0.009985\n2010-01-11   -0.010525\nName: Close, dtype: float64"
     },
     "execution_count": 2,
     "metadata": {},
     "output_type": "execute_result"
    }
   ],
   "source": [
    "import pandas as pd\n",
    "\n",
    "import yfinance as yf\n",
    "\n",
    "start_date = '2010-01-01'\n",
    "end_date = '2024-01-01'\n",
    "\n",
    "ibm = yf.download('IBM', start = start_date, end = end_date)\n",
    "ibm_ret = np.log(ibm.Close / ibm.Close.shift(1)).dropna()\n",
    "ibm_ret.head()"
   ],
   "metadata": {
    "collapsed": false,
    "ExecuteTime": {
     "end_time": "2024-01-09T16:08:51.720738Z",
     "start_time": "2024-01-09T16:08:50.573176Z"
    }
   },
   "id": "5a7f2e51c7771f88"
  },
  {
   "cell_type": "code",
   "execution_count": 3,
   "outputs": [
    {
     "name": "stdout",
     "output_type": "stream",
     "text": [
      "[*********************100%%**********************]  1 of 1 completed\n"
     ]
    },
    {
     "data": {
      "text/plain": "Date\n2010-01-05    0.001727\n2010-01-06   -0.016034\n2010-01-07   -0.001850\n2010-01-08    0.006626\n2010-01-11   -0.008861\nName: Close, dtype: float64"
     },
     "execution_count": 3,
     "metadata": {},
     "output_type": "execute_result"
    }
   ],
   "source": [
    "apple = yf.download('AAPL', start = start_date, end = end_date)\n",
    "apple_ret = np.log(apple.Close / apple.Close.shift(1)).dropna()\n",
    "apple_ret.head()"
   ],
   "metadata": {
    "collapsed": false,
    "ExecuteTime": {
     "end_time": "2024-01-09T16:08:52.230386Z",
     "start_time": "2024-01-09T16:08:51.721011Z"
    }
   },
   "id": "733c54d419b1342f"
  },
  {
   "cell_type": "code",
   "execution_count": 4,
   "outputs": [
    {
     "name": "stdout",
     "output_type": "stream",
     "text": [
      "[*********************100%%**********************]  1 of 1 completed\n"
     ]
    },
    {
     "data": {
      "text/plain": "Date\n2010-01-05   -0.004413\n2010-01-06   -0.025532\n2010-01-07   -0.023555\n2010-01-08    0.013243\n2010-01-11   -0.001513\nName: Close, dtype: float64"
     },
     "execution_count": 4,
     "metadata": {},
     "output_type": "execute_result"
    }
   ],
   "source": [
    "google = yf.download('GOOGL', start = start_date, end = end_date)\n",
    "google_ret = np.log(google.Close / google.Close.shift(1)).dropna()\n",
    "google_ret.head()"
   ],
   "metadata": {
    "collapsed": false,
    "ExecuteTime": {
     "end_time": "2024-01-09T16:08:52.742614Z",
     "start_time": "2024-01-09T16:08:52.231017Z"
    }
   },
   "id": "d75923924f01f512"
  },
  {
   "cell_type": "code",
   "execution_count": 5,
   "outputs": [
    {
     "data": {
      "text/plain": "                 ibm     apple    google\nDate                                    \n2010-01-05 -0.012154  0.001727 -0.004413\n2010-01-06 -0.006517 -0.016034 -0.025532\n2010-01-07 -0.003468 -0.001850 -0.023555\n2010-01-08  0.009985  0.006626  0.013243\n2010-01-11 -0.010525 -0.008861 -0.001513",
      "text/html": "<div>\n<style scoped>\n    .dataframe tbody tr th:only-of-type {\n        vertical-align: middle;\n    }\n\n    .dataframe tbody tr th {\n        vertical-align: top;\n    }\n\n    .dataframe thead th {\n        text-align: right;\n    }\n</style>\n<table border=\"1\" class=\"dataframe\">\n  <thead>\n    <tr style=\"text-align: right;\">\n      <th></th>\n      <th>ibm</th>\n      <th>apple</th>\n      <th>google</th>\n    </tr>\n    <tr>\n      <th>Date</th>\n      <th></th>\n      <th></th>\n      <th></th>\n    </tr>\n  </thead>\n  <tbody>\n    <tr>\n      <th>2010-01-05</th>\n      <td>-0.012154</td>\n      <td>0.001727</td>\n      <td>-0.004413</td>\n    </tr>\n    <tr>\n      <th>2010-01-06</th>\n      <td>-0.006517</td>\n      <td>-0.016034</td>\n      <td>-0.025532</td>\n    </tr>\n    <tr>\n      <th>2010-01-07</th>\n      <td>-0.003468</td>\n      <td>-0.001850</td>\n      <td>-0.023555</td>\n    </tr>\n    <tr>\n      <th>2010-01-08</th>\n      <td>0.009985</td>\n      <td>0.006626</td>\n      <td>0.013243</td>\n    </tr>\n    <tr>\n      <th>2010-01-11</th>\n      <td>-0.010525</td>\n      <td>-0.008861</td>\n      <td>-0.001513</td>\n    </tr>\n  </tbody>\n</table>\n</div>"
     },
     "execution_count": 5,
     "metadata": {},
     "output_type": "execute_result"
    }
   ],
   "source": [
    "matrix = pd.concat([\n",
    "    ibm_ret, apple_ret, google_ret\n",
    "], axis = 1)\n",
    "matrix.columns = ['ibm','apple','google']\n",
    "matrix.head()"
   ],
   "metadata": {
    "collapsed": false,
    "ExecuteTime": {
     "end_time": "2024-01-09T16:08:52.748952Z",
     "start_time": "2024-01-09T16:08:52.743237Z"
    }
   },
   "id": "22dbf977f92ecf26"
  },
  {
   "cell_type": "code",
   "execution_count": 6,
   "outputs": [
    {
     "data": {
      "text/plain": "array([[-0.01215355,  0.00172744, -0.00441338],\n       [-0.0065172 , -0.01603419, -0.0255319 ],\n       [-0.00346751, -0.00185042, -0.0235548 ],\n       ...,\n       [ 0.0015306 ,  0.00051782, -0.00815932],\n       [ 0.00177252,  0.00222382, -0.00099786],\n       [-0.0012221 , -0.00543889, -0.0038582 ]])"
     },
     "execution_count": 6,
     "metadata": {},
     "output_type": "execute_result"
    }
   ],
   "source": [
    "matrix.values"
   ],
   "metadata": {
    "collapsed": false,
    "ExecuteTime": {
     "end_time": "2024-01-09T16:08:52.753027Z",
     "start_time": "2024-01-09T16:08:52.749743Z"
    }
   },
   "id": "533986d6b2c36a1b"
  },
  {
   "cell_type": "code",
   "execution_count": 9,
   "outputs": [
    {
     "name": "stderr",
     "output_type": "stream",
     "text": [
      "/Users/junghunlee/Desktop/Pycharm/FinancialMachineLearning/FinancialMachineLearning/backtest/backtest_statistics.py:120: RuntimeWarning: divide by zero encountered in scalar divide\n",
      "  return self.get_dn_moments(mean, w, 2, 1, index) / (2 * sigma)\n",
      "/Users/junghunlee/Desktop/Pycharm/FinancialMachineLearning/FinancialMachineLearning/backtest/backtest_statistics.py:134: RuntimeWarning: invalid value encountered in scalar multiply\n",
      "  d1Skew -= 3 * sigma ** 2 * d1sigma * m3\n",
      "/Users/junghunlee/Desktop/Pycharm/FinancialMachineLearning/FinancialMachineLearning/backtest/backtest_statistics.py:150: RuntimeWarning: invalid value encountered in scalar multiply\n",
      "  d1Kurt -= 4 * sigma ** 3 * d1sigma * m4\n",
      "/Users/junghunlee/Desktop/Pycharm/FinancialMachineLearning/FinancialMachineLearning/backtest/backtest_statistics.py:95: RuntimeWarning: invalid value encountered in scalar multiply\n",
      "  d1meanSR = (d1Mu * stats[1] - d1Sigma * stats[0]) / stats[1] ** 2\n"
     ]
    }
   ],
   "source": [
    "#1) Inputs (path to csv file with returns series)\n",
    "#path = '../../Data/stock_prices.csv'\n",
    "maxIter = 100 # Maximum number of iterations\n",
    "delta = 0.1 # Delta Z (attempted gain per interation)\n",
    "\n",
    "#2) Load data, set seed\n",
    "#series = np.genfromtxt(path, delimiter = ',') # load as numpy array\n",
    "seed = np.ones((matrix.values.shape[1], 1)) / matrix.values.shape[1] # initialize seed\n",
    "bounds = [(0,1) for i in seed] # min and max boundary per weight\n",
    "\n",
    "#3) Create class and solve\n",
    "psrOpt = ProbSharpeRatio(matrix.values, seed, delta, maxIter, bounds)\n",
    "psrOpt.optimize()"
   ],
   "metadata": {
    "collapsed": false,
    "ExecuteTime": {
     "end_time": "2024-01-09T16:09:29.596920Z",
     "start_time": "2024-01-09T16:09:24.269923Z"
    }
   },
   "id": "8fa11596cab477b5"
  },
  {
   "cell_type": "code",
   "execution_count": 10,
   "outputs": [
    {
     "name": "stdout",
     "output_type": "stream",
     "text": [
      "Maximized Z-Value : 0\n",
      "Number of iterations : 100\n",
      "PSR optimal portfolio\n"
     ]
    },
    {
     "data": {
      "text/plain": "array([[0.33333333],\n       [0.33333333],\n       [0.33333333]])"
     },
     "execution_count": 10,
     "metadata": {},
     "output_type": "execute_result"
    }
   ],
   "source": [
    "print(f\"Maximized Z-Value : {psrOpt.z}\")\n",
    "print(f\"Number of iterations : {psrOpt.iter}\")\n",
    "print(\"PSR optimal portfolio\")\n",
    "psrOpt.w"
   ],
   "metadata": {
    "collapsed": false,
    "ExecuteTime": {
     "end_time": "2024-01-09T16:09:30.703173Z",
     "start_time": "2024-01-09T16:09:30.698776Z"
    }
   },
   "id": "accc3d7e56584a45"
  },
  {
   "cell_type": "code",
   "execution_count": 8,
   "outputs": [],
   "source": [],
   "metadata": {
    "collapsed": false,
    "ExecuteTime": {
     "end_time": "2024-01-09T16:08:58.449161Z",
     "start_time": "2024-01-09T16:08:58.435538Z"
    }
   },
   "id": "9ae0f9947318b2f"
  }
 ],
 "metadata": {
  "kernelspec": {
   "display_name": "Python 3",
   "language": "python",
   "name": "python3"
  },
  "language_info": {
   "codemirror_mode": {
    "name": "ipython",
    "version": 2
   },
   "file_extension": ".py",
   "mimetype": "text/x-python",
   "name": "python",
   "nbconvert_exporter": "python",
   "pygments_lexer": "ipython2",
   "version": "2.7.6"
  }
 },
 "nbformat": 4,
 "nbformat_minor": 5
}
