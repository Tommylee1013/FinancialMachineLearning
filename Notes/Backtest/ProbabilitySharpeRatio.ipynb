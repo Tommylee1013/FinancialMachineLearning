{
 "cells": [
  {
   "cell_type": "markdown",
   "source": [
    "### Probability Sharpe Ratio"
   ],
   "metadata": {
    "collapsed": false
   },
   "id": "81a529f339447292"
  },
  {
   "cell_type": "code",
   "execution_count": 1,
   "id": "initial_id",
   "metadata": {
    "collapsed": true,
    "ExecuteTime": {
     "end_time": "2024-01-08T23:55:01.051119Z",
     "start_time": "2024-01-08T23:55:01.049149Z"
    }
   },
   "outputs": [
    {
     "ename": "SyntaxError",
     "evalue": "incomplete input (4018852810.py, line 21)",
     "output_type": "error",
     "traceback": [
      "\u001B[0;36m  Cell \u001B[0;32mIn[1], line 21\u001B[0;36m\u001B[0m\n\u001B[0;31m    while True :\u001B[0m\n\u001B[0m                ^\u001B[0m\n\u001B[0;31mSyntaxError\u001B[0m\u001B[0;31m:\u001B[0m incomplete input\n"
     ]
    }
   ],
   "source": [
    "import numpy as np\n",
    "\n",
    "class ProbSharpe :\n",
    "    def __init__(\n",
    "            self, series, seed, delta, maxIter, bounds = None\n",
    "    ):\n",
    "        # Construct the object\n",
    "        self.series, self.w, self.delta = series, seed, delta\n",
    "        self.z, self.d1Z=None, [None for i in range(series.shape[1])]\n",
    "        self.maxIter, self.iter, self.obs = maxIter,0,series.shape[0]\n",
    "        if len(bounds) == None or seed.shape[0]!=len(bounds):\n",
    "            self.bounds = [(0,1) for i in seed]\n",
    "        else :\n",
    "            self.bounds = bounds\n",
    "    \n",
    "    def optimize(self) :\n",
    "        # Optimize weights\n",
    "        mean = [self.get_moments(self.series[:,i],1) for i in range(self.series.shape[1])]\n",
    "        w = np.array(self.w)\n",
    "        # derivatives\n",
    "        while True :\n",
    "            if self.iter == self.maxIter : break\n",
    "            # compute gradient\n",
    "            d1Z, z = self.get_d1Zs(mean, w)\n",
    "            # evaluate result\n",
    "            if z > self.z and self.check_bounds(w) == True : \n",
    "                # Store new local optimum\n",
    "                self.z, self.d1Z = z, d1Z\n",
    "                self.w = np.array(w)\n",
    "            #Find direction and normalize\n",
    "            self.iter += 1\n",
    "            w = self.step_size(w, d1Z)\n",
    "            if w == None : return \n",
    "    \n",
    "    def check_bounds(self, w) :\n",
    "        # Check that boundary conditions are satisfied\n",
    "        flag = True\n",
    "        for i in range(w.shape[0]) :\n",
    "            if w[i, 0] < self.bounds[i][0] : flag = False\n",
    "            if w[i, 0] > self.bounds[i][1] : flag = False\n",
    "        return flag\n",
    "    \n",
    "    def step_size(self, w, d1Z) :\n",
    "        # determine step size for next iteration\n",
    "        x = dict()\n",
    "        for i in range(len(d1Z)) :\n",
    "            if d1Z[i] != 0 : x[abs(d1Z[i])] = 1\n",
    "        if len(x) == 0 : return\n",
    "        index = x[max(x)]\n",
    "        w[index, 0] += self.delta / d1Z[index]\n",
    "        w /= sum(w)\n",
    "        return w\n",
    "    \n",
    "    def get_d1Zs(self, mean, w) :\n",
    "        # first order derivatives of Z\n",
    "        d1Z = [0 for i in range(self.series.shape[1])]\n",
    "        m = [0 for i in range(4)]\n",
    "        series = np.dot(self.series, w)[:, 0]\n",
    "        m[0] = self.get_moments(series, 1)\n",
    "        for i in range(1, 4) :\n",
    "            m[i] = self.get_moments(series, i + 1, m[0])\n",
    "        stats = self.get_stats(m)\n",
    "        \n",
    "        meanSR, sigmaSR = self.get_sharpe_ratio(stats, self.obs)\n",
    "        \n",
    "        for i in range(self.series.shape[1]) :\n",
    "            d1Z[1] = self.get_d1Z(stats, m, meanSR, sigmaSR, mean, w, i)\n",
    "        \n",
    "        return d1Z, meanSR / sigmaSR\n",
    "    \n",
    "    def get_d1Z(self, stats, m, meanSR, sigmaSR, mean, w, index):\n",
    "        # First order derivatives of Z with respect to index\n",
    "        d1Mu = self.get_mu(mean, index)\n",
    "        d1Sigma = self.get_sigma(stats[1], mean, w, index)\n",
    "        d1Skew = self.get_skew(d1Sigma, stats[1], mean, w, index, m[2])\n",
    "        d1Kurt = self.get_kurt(d1Sigma,stats[1],mean,w,index,m[3])\n",
    "        \n",
    "        d1meanSR = (d1Mu * stats[1] - d1Sigma * stats[0]) / stats[1] ** 2\n",
    "        d1sigmaSR = (d1Kurt * meanSR ** 2 + 2 * meanSR * d1meanSR * (stats[3] - 1)) / 4\n",
    "        d1sigmaSR -= d1Skew * meanSR + d1meanSR * stats[2]\n",
    "        d1sigmaSR /= 2 * sigmaSR * (self.obs - 1)\n",
    "        d1Z = (d1meanSR * sigmaSR - d1sigmaSR * meanSR)/sigmaSR ** 2\n",
    "        return d1Z\n",
    "    \n",
    "    def get_mu(self, mean, index) :\n",
    "        # first order derivatives of Mu\n",
    "        return mean[index]"
   ]
  }
 ],
 "metadata": {
  "kernelspec": {
   "display_name": "Python 3",
   "language": "python",
   "name": "python3"
  },
  "language_info": {
   "codemirror_mode": {
    "name": "ipython",
    "version": 2
   },
   "file_extension": ".py",
   "mimetype": "text/x-python",
   "name": "python",
   "nbconvert_exporter": "python",
   "pygments_lexer": "ipython2",
   "version": "2.7.6"
  }
 },
 "nbformat": 4,
 "nbformat_minor": 5
}
