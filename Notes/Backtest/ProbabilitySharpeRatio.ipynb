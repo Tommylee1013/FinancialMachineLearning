{
 "cells": [
  {
   "cell_type": "markdown",
   "source": [
    "### Probabilistic Sharpe Ratio"
   ],
   "metadata": {
    "collapsed": false
   },
   "id": "81a529f339447292"
  },
  {
   "cell_type": "code",
   "execution_count": 1,
   "outputs": [],
   "source": [
    "import numpy as np\n",
    "import pandas as pd\n",
    "import matplotlib.pyplot as plt\n",
    "import seaborn as sns\n",
    "from scipy.stats import skewnorm, norm\n",
    "from FinancialMachineLearning.backtest.backtest_statistics import *\n",
    "\n",
    "np.random.seed(42)"
   ],
   "metadata": {
    "collapsed": false,
    "ExecuteTime": {
     "end_time": "2024-01-10T04:37:17.479331Z",
     "start_time": "2024-01-10T04:37:17.463792Z"
    }
   },
   "id": "db8badcd0bcf7920"
  },
  {
   "cell_type": "markdown",
   "source": [
    "#### Strategy 1\n",
    "\n",
    "simulate a distribution of returns with negative skewness"
   ],
   "metadata": {
    "collapsed": false
   },
   "id": "e30c23c3656c276c"
  },
  {
   "cell_type": "code",
   "execution_count": 2,
   "outputs": [],
   "source": [
    "mean_ret = 0.01\n",
    "std_ret = 0.01\n",
    "skew_ret = -.99\n",
    "alpha = skew_to_alpha(skew_ret)\n",
    "dist_st1 = skewnorm(loc = mean_ret, scale = std_ret, a = alpha)"
   ],
   "metadata": {
    "collapsed": false,
    "ExecuteTime": {
     "end_time": "2024-01-10T04:37:17.795492Z",
     "start_time": "2024-01-10T04:37:17.793560Z"
    }
   },
   "id": "24b9bd873aec3d25"
  },
  {
   "cell_type": "code",
   "execution_count": 3,
   "outputs": [
    {
     "name": "stdout",
     "output_type": "stream",
     "text": [
      "Long term true weekly mean returns st1: 0.0020\n",
      "Long term true std returns st1: 0.0060\n",
      "Long term true skew returns st1: -0.9900\n",
      "Long term true kurt returns st1: 3.8630\n"
     ]
    }
   ],
   "source": [
    "true_mean_st1 = dist_st1.stats('m')\n",
    "true_std_st1  = np.sqrt(dist_st1.stats('v'))\n",
    "true_skew_st1  = dist_st1.stats('s')\n",
    "true_kurt_st1  = dist_st1.stats('k') + 3\n",
    "print('Long term true weekly mean returns st1: {:.4f}'.format(true_mean_st1))\n",
    "print('Long term true std returns st1: {:.4f}'.format(true_std_st1))\n",
    "print('Long term true skew returns st1: {:.4f}'.format(true_skew_st1))\n",
    "print('Long term true kurt returns st1: {:.4f}'.format(true_kurt_st1))"
   ],
   "metadata": {
    "collapsed": false,
    "ExecuteTime": {
     "end_time": "2024-01-10T04:37:17.984813Z",
     "start_time": "2024-01-10T04:37:17.978404Z"
    }
   },
   "id": "d765ed0974a3ec3d"
  },
  {
   "cell_type": "markdown",
   "source": [
    "Generates random **weekly returns** and check their moments statistic (in a large sample the skew should be equal to `skew_returns`, **the other moments are not guaranteed to acommplish our initial conditions**)"
   ],
   "metadata": {
    "collapsed": false
   },
   "id": "65e0e422e70a4f7b"
  },
  {
   "cell_type": "code",
   "execution_count": 4,
   "outputs": [
    {
     "name": "stdout",
     "output_type": "stream",
     "text": [
      "mean    0.002450\n",
      "std     0.005661\n",
      "skew   -0.703969\n",
      "kurt    2.244061\n",
      "dtype: float64\n"
     ]
    }
   ],
   "source": [
    "size = 52 # weekly\n",
    "\n",
    "seed_st1 = 42\n",
    "ret_st1 = dist_st1.rvs(size = size, random_state = seed_st1)\n",
    "moments_st1 = moments(ret_st1)\n",
    "print(moments_st1)"
   ],
   "metadata": {
    "collapsed": false,
    "ExecuteTime": {
     "end_time": "2024-01-10T04:37:18.446091Z",
     "start_time": "2024-01-10T04:37:18.440692Z"
    }
   },
   "id": "f3b6809aeb0e241f"
  },
  {
   "cell_type": "markdown",
   "source": [
    "Calculate their estimated Sharpe Ratio($\\hat{\\mathrm{SR}}$). It is 'estimated' because it use the historical returns as a prediction of the future returns."
   ],
   "metadata": {
    "collapsed": false
   },
   "id": "31fc96757a0dc077"
  },
  {
   "cell_type": "code",
   "execution_count": 5,
   "outputs": [
    {
     "name": "stdout",
     "output_type": "stream",
     "text": [
      "Sharpe Ratio of strategy 1 dist. :  0.4328\n"
     ]
    }
   ],
   "source": [
    "sr_st1 = estimated_sharpe_ratio(ret_st1)\n",
    "print(f\"Sharpe Ratio of strategy 1 dist. : {sr_st1 : .4f}\")"
   ],
   "metadata": {
    "collapsed": false,
    "ExecuteTime": {
     "end_time": "2024-01-10T04:37:19.226431Z",
     "start_time": "2024-01-10T04:37:19.224632Z"
    }
   },
   "id": "c6dd0561dcad7def"
  },
  {
   "cell_type": "code",
   "execution_count": 6,
   "outputs": [
    {
     "name": "stdout",
     "output_type": "stream",
     "text": [
      "Annual Sharpe Ratio of strategy 1 dist. :  3.1211\n"
     ]
    }
   ],
   "source": [
    "ann_sr_st1 = ann_estimated_sharpe_ratio(ret_st1, periods = 52)\n",
    "print(f\"Annual Sharpe Ratio of strategy 1 dist. : {ann_sr_st1 : .4f}\")"
   ],
   "metadata": {
    "collapsed": false,
    "ExecuteTime": {
     "end_time": "2024-01-10T04:37:19.524077Z",
     "start_time": "2024-01-10T04:37:19.515764Z"
    }
   },
   "id": "33fe94d2c83909a8"
  },
  {
   "cell_type": "markdown",
   "source": [
    "#### Strategy 2\n",
    "\n",
    "Simulate a normal distribution od returns with better mean and same std as the strategy 1"
   ],
   "metadata": {
    "collapsed": false
   },
   "id": "725475a68da8030c"
  },
  {
   "cell_type": "code",
   "execution_count": 7,
   "outputs": [],
   "source": [
    "extra_edge = 0.0012\n",
    "dist_st2 = norm(loc = true_mean_st1 + extra_edge, scale = true_std_st1)"
   ],
   "metadata": {
    "collapsed": false,
    "ExecuteTime": {
     "end_time": "2024-01-10T04:37:20.053324Z",
     "start_time": "2024-01-10T04:37:20.048388Z"
    }
   },
   "id": "fcac8d4f3f532a43"
  },
  {
   "cell_type": "code",
   "execution_count": 8,
   "outputs": [
    {
     "name": "stdout",
     "output_type": "stream",
     "text": [
      "Long term true weekly mean returns st2: 0.0032\n",
      "Long term true std returns st2: 0.0060\n",
      "Long term true skew returns st2: 0.00\n",
      "Long term true kurt returns st2: 3.00\n"
     ]
    }
   ],
   "source": [
    "true_mean_st2 = dist_st2.stats('m')\n",
    "true_std_st2  = np.sqrt(dist_st2.stats('v'))\n",
    "true_skew_st2  = dist_st2.stats('s')\n",
    "true_kurt_st2  = dist_st2.stats('k') + 3\n",
    "print('Long term true weekly mean returns st2: {:.4f}'.format(true_mean_st2))\n",
    "print('Long term true std returns st2: {:.4f}'.format(true_std_st2))\n",
    "print('Long term true skew returns st2: {:.2f}'.format(true_skew_st2))\n",
    "print('Long term true kurt returns st2: {:.2f}'.format(true_kurt_st2))"
   ],
   "metadata": {
    "collapsed": false,
    "ExecuteTime": {
     "end_time": "2024-01-10T04:37:20.304995Z",
     "start_time": "2024-01-10T04:37:20.298657Z"
    }
   },
   "id": "56c1c6adc9dbe661"
  },
  {
   "cell_type": "markdown",
   "source": [
    "Generates random **weekly returns** and check their moments statistic (in a large sample the mean and std should be equal to the `moments_st1`, and the skew should be 0 and kurtosis 3)"
   ],
   "metadata": {
    "collapsed": false
   },
   "id": "29ae602b3e734454"
  },
  {
   "cell_type": "code",
   "execution_count": 9,
   "outputs": [
    {
     "name": "stdout",
     "output_type": "stream",
     "text": [
      "mean    0.001911\n",
      "std     0.005544\n",
      "skew    0.116464\n",
      "kurt    2.607143\n",
      "dtype: float64\n"
     ]
    }
   ],
   "source": [
    "seed_st2 = 42\n",
    "ret_st2 = dist_st2.rvs(size = size, random_state = seed_st2)\n",
    "\n",
    "moments_st2 = moments(ret_st2)\n",
    "print(moments_st2)"
   ],
   "metadata": {
    "collapsed": false,
    "ExecuteTime": {
     "end_time": "2024-01-10T04:37:21.181975Z",
     "start_time": "2024-01-10T04:37:21.176745Z"
    }
   },
   "id": "393acbb4a158f8e2"
  },
  {
   "cell_type": "code",
   "execution_count": 10,
   "outputs": [
    {
     "name": "stdout",
     "output_type": "stream",
     "text": [
      "Sharpe Ratio of strategy 2 dist. :  0.3447\n"
     ]
    }
   ],
   "source": [
    "sr_st2 = estimated_sharpe_ratio(ret_st2)\n",
    "print(f\"Sharpe Ratio of strategy 2 dist. : {sr_st2 : .4f}\")"
   ],
   "metadata": {
    "collapsed": false,
    "ExecuteTime": {
     "end_time": "2024-01-10T04:37:22.204718Z",
     "start_time": "2024-01-10T04:37:22.201650Z"
    }
   },
   "id": "15d376ca4b2b34b5"
  },
  {
   "cell_type": "code",
   "execution_count": 11,
   "outputs": [
    {
     "name": "stdout",
     "output_type": "stream",
     "text": [
      "Annual Sharpe Ratio of strategy 2 dist. :  5.5683\n"
     ]
    }
   ],
   "source": [
    "ann_sr_st2 = ann_estimated_sharpe_ratio(ret_st2)\n",
    "print(f\"Annual Sharpe Ratio of strategy 2 dist. : {ann_sr_st2 : .4f}\")"
   ],
   "metadata": {
    "collapsed": false,
    "ExecuteTime": {
     "end_time": "2024-01-10T04:37:22.490634Z",
     "start_time": "2024-01-10T04:37:22.482813Z"
    }
   },
   "id": "e53dba44fb855f0e"
  },
  {
   "cell_type": "markdown",
   "source": [
    "#### Probabilistic Sharpe Ratio (PSR)\n",
    "\n",
    "```\n",
    "def probabalistic_sharpe_ratio(\n",
    "    observed_sr: float, \n",
    "    benchmark_sr: float,\n",
    "    number_of_returns: int, \n",
    "    skewness_of_returns: float = 0,\n",
    "    kurtosis_of_returns: float = 3\n",
    ") -> float\n",
    "```"
   ],
   "metadata": {
    "collapsed": false
   },
   "id": "40e8899a83ec92de"
  },
  {
   "cell_type": "code",
   "execution_count": 12,
   "outputs": [],
   "source": [
    "sharpe_bench = 0"
   ],
   "metadata": {
    "collapsed": false,
    "ExecuteTime": {
     "end_time": "2024-01-10T04:37:23.988694Z",
     "start_time": "2024-01-10T04:37:23.976809Z"
    }
   },
   "id": "52067622dd272a2b"
  },
  {
   "cell_type": "code",
   "execution_count": 13,
   "outputs": [
    {
     "name": "stdout",
     "output_type": "stream",
     "text": [
      "Probabilistic Sharpe Ratio of strategy 1 :  0.9933\n"
     ]
    }
   ],
   "source": [
    "psr_st1 = probabilistic_sharpe_ratio(\n",
    "    observed_sr = sr_st1,\n",
    "    benchmark_sr = sharpe_bench,\n",
    "    number_of_returns = len(ret_st1),\n",
    "    skewness_of_returns = true_skew_st1,\n",
    "    kurtosis_of_returns = true_kurt_st1\n",
    ")\n",
    "print(f\"Probabilistic Sharpe Ratio of strategy 1 : {psr_st1 : .4f}\")"
   ],
   "metadata": {
    "collapsed": false,
    "ExecuteTime": {
     "end_time": "2024-01-10T04:37:24.430001Z",
     "start_time": "2024-01-10T04:37:24.427962Z"
    }
   },
   "id": "fb3ac5259fdf2970"
  },
  {
   "cell_type": "code",
   "execution_count": 14,
   "outputs": [
    {
     "name": "stdout",
     "output_type": "stream",
     "text": [
      "Probabilistic Sharpe Ratio of strategy 2 :  0.9916\n"
     ]
    }
   ],
   "source": [
    "psr_st2 = probabilistic_sharpe_ratio(\n",
    "    observed_sr = sr_st2,\n",
    "    benchmark_sr = sharpe_bench,\n",
    "    number_of_returns = len(ret_st2),\n",
    "    skewness_of_returns = true_skew_st2,\n",
    "    kurtosis_of_returns = true_kurt_st2\n",
    ")\n",
    "print(f\"Probabilistic Sharpe Ratio of strategy 2 : {psr_st2 : .4f}\")"
   ],
   "metadata": {
    "collapsed": false,
    "ExecuteTime": {
     "end_time": "2024-01-10T04:37:53.998491Z",
     "start_time": "2024-01-10T04:37:53.980748Z"
    }
   },
   "id": "24198f11b5f4bb2c"
  },
  {
   "cell_type": "code",
   "execution_count": 15,
   "outputs": [
    {
     "data": {
      "text/plain": "<Figure size 600x400 with 1 Axes>",
      "image/png": "[encoded data removed]"
     },
     "metadata": {},
     "output_type": "display_data"
    }
   ],
   "source": [
    "import warnings\n",
    "warnings.filterwarnings(\"ignore\")\n",
    "\n",
    "plt.figure(figsize = (6, 4))\n",
    "sns.distplot(\n",
    "    pd.Series(ret_st1), \n",
    "    hist = True, \n",
    "    kde = True, \n",
    "    color = 'red',\n",
    "    bins = size // 2\n",
    ").set_title('Strategy 1 returns distribution')\n",
    "plt.grid(False)\n",
    "plt.show()"
   ],
   "metadata": {
    "collapsed": false,
    "ExecuteTime": {
     "end_time": "2024-01-10T04:37:57.767039Z",
     "start_time": "2024-01-10T04:37:57.598567Z"
    }
   },
   "id": "385f90c6e904f80a"
  },
  {
   "cell_type": "code",
   "execution_count": 16,
   "outputs": [
    {
     "data": {
      "text/plain": "<Figure size 600x400 with 1 Axes>",
      "image/png": "[encoded data removed]"
     },
     "metadata": {},
     "output_type": "display_data"
    }
   ],
   "source": [
    "plt.figure(figsize = (6, 4))\n",
    "sns.distplot(\n",
    "    pd.Series(ret_st2), \n",
    "    hist = True, \n",
    "    kde = True, \n",
    "    color = 'green',\n",
    "    bins = size // 2\n",
    ").set_title('Strategy 2 returns distribution')\n",
    "plt.grid(False)\n",
    "plt.show()"
   ],
   "metadata": {
    "collapsed": false,
    "ExecuteTime": {
     "end_time": "2024-01-10T04:37:59.045290Z",
     "start_time": "2024-01-10T04:37:58.931490Z"
    }
   },
   "id": "50d847f777aa3398"
  },
  {
   "cell_type": "code",
   "execution_count": 17,
   "outputs": [
    {
     "name": "stdout",
     "output_type": "stream",
     "text": [
      "The estimated Sharpe Ratio of strategy 1 have a stdDev of:  0.1635\n",
      "The estimated Sharpe Ratio of strategy 2 have a stdDev of:  0.1406\n"
     ]
    }
   ],
   "source": [
    "estimated_sr_std_st1 = estimated_sharpe_ratio_stdev(ret_st1)\n",
    "estimated_sr_std_st2 = estimated_sharpe_ratio_stdev(ret_st2)\n",
    "\n",
    "print(f'The estimated Sharpe Ratio of strategy 1 have a stdDev of: {estimated_sr_std_st1 : .4f}')\n",
    "print(f'The estimated Sharpe Ratio of strategy 2 have a stdDev of: {estimated_sr_std_st2 : .4f}')"
   ],
   "metadata": {
    "collapsed": false,
    "ExecuteTime": {
     "end_time": "2024-01-10T04:38:06.768362Z",
     "start_time": "2024-01-10T04:38:06.758606Z"
    }
   },
   "id": "74d4f4d4ec46cfc5"
  },
  {
   "cell_type": "markdown",
   "source": [
    "#### Out of sample"
   ],
   "metadata": {
    "collapsed": false
   },
   "id": "c9359817a6cb36a3"
  },
  {
   "cell_type": "code",
   "execution_count": 18,
   "outputs": [
    {
     "name": "stdout",
     "output_type": "stream",
     "text": [
      "mean    0.002025\n",
      "std     0.006034\n",
      "skew   -0.989112\n",
      "kurt    3.860608\n",
      "dtype: float64\n"
     ]
    }
   ],
   "source": [
    "oos_size = 10000000\n",
    "\n",
    "oos_ret_st1 = dist_st1.rvs(size = oos_size)\n",
    "true_moments_st1 = moments(oos_ret_st1)\n",
    "print(true_moments_st1)"
   ],
   "metadata": {
    "collapsed": false,
    "ExecuteTime": {
     "end_time": "2024-01-10T04:38:17.878025Z",
     "start_time": "2024-01-10T04:38:17.264891Z"
    }
   },
   "id": "5e13d312a4cbcf69"
  },
  {
   "cell_type": "code",
   "execution_count": 19,
   "outputs": [
    {
     "name": "stdout",
     "output_type": "stream",
     "text": [
      "Annual true sharpe ratio of strategy 1 :  2.421\n"
     ]
    }
   ],
   "source": [
    "ann_true_sr_st1 = ann_estimated_sharpe_ratio(oos_ret_st1, periods = 52)\n",
    "print(f\"Annual true sharpe ratio of strategy 1 : {ann_true_sr_st1 : .3f}\")"
   ],
   "metadata": {
    "collapsed": false,
    "ExecuteTime": {
     "end_time": "2024-01-10T04:38:20.638379Z",
     "start_time": "2024-01-10T04:38:20.612154Z"
    }
   },
   "id": "9cd6ffab253fc0bc"
  },
  {
   "cell_type": "code",
   "execution_count": 20,
   "outputs": [
    {
     "name": "stdout",
     "output_type": "stream",
     "text": [
      "mean    0.003225\n",
      "std     0.006038\n",
      "skew    0.000797\n",
      "kurt    2.999979\n",
      "dtype: float64\n"
     ]
    }
   ],
   "source": [
    "oos_ret_st2 = dist_st2.rvs(size = oos_size)\n",
    "true_moments_st2 = moments(oos_ret_st2)\n",
    "print(true_moments_st2)"
   ],
   "metadata": {
    "collapsed": false,
    "ExecuteTime": {
     "end_time": "2024-01-10T04:38:23.326929Z",
     "start_time": "2024-01-10T04:38:22.935072Z"
    }
   },
   "id": "ad7529b952cc246d"
  },
  {
   "cell_type": "code",
   "execution_count": 21,
   "outputs": [
    {
     "name": "stdout",
     "output_type": "stream",
     "text": [
      "Annual true sharpe ratio of strategy 2 :  3.851\n"
     ]
    }
   ],
   "source": [
    "ann_true_sr_st2 = ann_estimated_sharpe_ratio(oos_ret_st2, periods = 52)\n",
    "print(f\"Annual true sharpe ratio of strategy 2 : {ann_true_sr_st2 : .3f}\")"
   ],
   "metadata": {
    "collapsed": false,
    "ExecuteTime": {
     "end_time": "2024-01-10T04:38:23.804699Z",
     "start_time": "2024-01-10T04:38:23.782089Z"
    }
   },
   "id": "82d30b799f135e3c"
  },
  {
   "cell_type": "code",
   "execution_count": 22,
   "outputs": [
    {
     "data": {
      "text/plain": "<Figure size 600x400 with 1 Axes>",
      "image/png": "[encoded data removed]"
     },
     "metadata": {},
     "output_type": "display_data"
    }
   ],
   "source": [
    "pd.DataFrame(\n",
    "    {'Strategy 1': pd.Series(oos_ret_st1).add(1).cumprod().sub(1).iloc[:52*5],\n",
    "     'Strategy 2': pd.Series(oos_ret_st2).add(1).cumprod().sub(1).iloc[:52*5]}\n",
    ").plot(\n",
    "    figsize = (6, 4),\n",
    "    grid = False,\n",
    "    title = \"Compare 2 Strategies using PSR\"\n",
    ")\n",
    "plt.xlabel(\"periods\")\n",
    "plt.ylabel(\"return\")\n",
    "plt.show()"
   ],
   "metadata": {
    "collapsed": false,
    "ExecuteTime": {
     "end_time": "2024-01-10T04:38:26.992868Z",
     "start_time": "2024-01-10T04:38:26.755460Z"
    }
   },
   "id": "c6820bf4e439a28"
  },
  {
   "cell_type": "code",
   "execution_count": 23,
   "outputs": [
    {
     "data": {
      "text/plain": "<Axes: title={'center': 'Distribution of 2 strategies'}, ylabel='Density'>"
     },
     "execution_count": 23,
     "metadata": {},
     "output_type": "execute_result"
    },
    {
     "data": {
      "text/plain": "<Figure size 600x400 with 1 Axes>",
      "image/png": "[encoded data removed]"
     },
     "metadata": {},
     "output_type": "display_data"
    }
   ],
   "source": [
    "pd.DataFrame(\n",
    "    {'Strategy 1': pd.Series(oos_ret_st1).iloc[:10000],\n",
    "     'Strategy 2': pd.Series(oos_ret_st2).iloc[:10000]}\n",
    ").plot.density(\n",
    "    grid = False,\n",
    "    figsize = (6,4),\n",
    "    title = \"Distribution of 2 strategies\"\n",
    ")"
   ],
   "metadata": {
    "collapsed": false,
    "ExecuteTime": {
     "end_time": "2024-01-10T04:38:29.623227Z",
     "start_time": "2024-01-10T04:38:29.338712Z"
    }
   },
   "id": "181af5ab88bfc3e9"
  }
 ],
 "metadata": {
  "kernelspec": {
   "display_name": "Python 3",
   "language": "python",
   "name": "python3"
  },
  "language_info": {
   "codemirror_mode": {
    "name": "ipython",
    "version": 2
   },
   "file_extension": ".py",
   "mimetype": "text/x-python",
   "name": "python",
   "nbconvert_exporter": "python",
   "pygments_lexer": "ipython2",
   "version": "2.7.6"
  }
 },
 "nbformat": 4,
 "nbformat_minor": 5
}
