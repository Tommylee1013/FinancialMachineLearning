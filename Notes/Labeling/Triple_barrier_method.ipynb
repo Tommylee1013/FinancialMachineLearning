{
 "cells": [
  {
   "cell_type": "code",
   "execution_count": 1,
   "id": "initial_id",
   "metadata": {
    "collapsed": true,
    "ExecuteTime": {
     "end_time": "2023-09-15T10:33:01.940705Z",
     "start_time": "2023-09-15T10:33:01.601639Z"
    }
   },
   "outputs": [],
   "source": [
    "from FinancialMachineLearning.labeling.labeling import *"
   ]
  },
  {
   "cell_type": "code",
   "execution_count": 2,
   "outputs": [
    {
     "data": {
      "text/plain": "'/Users/junghunlee/Desktop/Pycharm/FinancialMachineLearning'"
     },
     "execution_count": 2,
     "metadata": {},
     "output_type": "execute_result"
    }
   ],
   "source": [
    "import os\n",
    "os.chdir('..')\n",
    "os.chdir('..')\n",
    "os.getcwd()"
   ],
   "metadata": {
    "collapsed": false,
    "ExecuteTime": {
     "end_time": "2023-09-15T10:33:02.327813Z",
     "start_time": "2023-09-15T10:33:02.317133Z"
    }
   },
   "id": "597d3975b99a0b95"
  },
  {
   "cell_type": "code",
   "execution_count": 11,
   "outputs": [],
   "source": [
    "dollar = pd.read_csv('./Data/dollar_bar.csv', index_col = 0, parse_dates = True)"
   ],
   "metadata": {
    "collapsed": false,
    "ExecuteTime": {
     "end_time": "2023-09-15T10:33:34.122431Z",
     "start_time": "2023-09-15T10:33:34.079257Z"
    }
   },
   "id": "73d883c2c9edf363"
  },
  {
   "cell_type": "code",
   "execution_count": 12,
   "outputs": [],
   "source": [
    "dollar = dollar[~dollar.index.duplicated(keep = 'first')]"
   ],
   "metadata": {
    "collapsed": false,
    "ExecuteTime": {
     "end_time": "2023-09-15T10:33:34.422255Z",
     "start_time": "2023-09-15T10:33:34.410936Z"
    }
   },
   "id": "ce0fcb521a875e7e"
  },
  {
   "cell_type": "code",
   "execution_count": 13,
   "outputs": [
    {
     "data": {
      "text/plain": "                         open      high      low   close  volume\ndate_time                                                       \n2009-09-28 09:46:35   50.7900   51.0700   50.710   51.07   19844\n2009-09-28 09:53:49   51.0700   51.1500   51.050   51.14   20324\n2009-09-28 09:55:26   51.1400   51.1500   51.129   51.14   19622\n2009-09-28 10:02:52   51.1400   51.2600   51.080   51.25   22319\n2009-09-28 10:10:21   51.2500   51.2900   51.190   51.29   21519\n...                       ...       ...      ...     ...     ...\n2018-10-05 15:58:23  116.2425  116.2425  116.160  116.19    9647\n2018-10-05 15:59:20  116.2000  116.2125  116.150  116.18    8821\n2018-10-05 15:59:55  116.1800  116.2100  116.140  116.19    9196\n2018-10-05 15:59:59  116.2000  116.2000  116.190  116.20    9700\n2018-10-05 16:00:00  116.2000  116.2200  116.200  116.22   46784\n\n[49996 rows x 5 columns]",
      "text/html": "<div>\n<style scoped>\n    .dataframe tbody tr th:only-of-type {\n        vertical-align: middle;\n    }\n\n    .dataframe tbody tr th {\n        vertical-align: top;\n    }\n\n    .dataframe thead th {\n        text-align: right;\n    }\n</style>\n<table border=\"1\" class=\"dataframe\">\n  <thead>\n    <tr style=\"text-align: right;\">\n      <th></th>\n      <th>open</th>\n      <th>high</th>\n      <th>low</th>\n      <th>close</th>\n      <th>volume</th>\n    </tr>\n    <tr>\n      <th>date_time</th>\n      <th></th>\n      <th></th>\n      <th></th>\n      <th></th>\n      <th></th>\n    </tr>\n  </thead>\n  <tbody>\n    <tr>\n      <th>2009-09-28 09:46:35</th>\n      <td>50.7900</td>\n      <td>51.0700</td>\n      <td>50.710</td>\n      <td>51.07</td>\n      <td>19844</td>\n    </tr>\n    <tr>\n      <th>2009-09-28 09:53:49</th>\n      <td>51.0700</td>\n      <td>51.1500</td>\n      <td>51.050</td>\n      <td>51.14</td>\n      <td>20324</td>\n    </tr>\n    <tr>\n      <th>2009-09-28 09:55:26</th>\n      <td>51.1400</td>\n      <td>51.1500</td>\n      <td>51.129</td>\n      <td>51.14</td>\n      <td>19622</td>\n    </tr>\n    <tr>\n      <th>2009-09-28 10:02:52</th>\n      <td>51.1400</td>\n      <td>51.2600</td>\n      <td>51.080</td>\n      <td>51.25</td>\n      <td>22319</td>\n    </tr>\n    <tr>\n      <th>2009-09-28 10:10:21</th>\n      <td>51.2500</td>\n      <td>51.2900</td>\n      <td>51.190</td>\n      <td>51.29</td>\n      <td>21519</td>\n    </tr>\n    <tr>\n      <th>...</th>\n      <td>...</td>\n      <td>...</td>\n      <td>...</td>\n      <td>...</td>\n      <td>...</td>\n    </tr>\n    <tr>\n      <th>2018-10-05 15:58:23</th>\n      <td>116.2425</td>\n      <td>116.2425</td>\n      <td>116.160</td>\n      <td>116.19</td>\n      <td>9647</td>\n    </tr>\n    <tr>\n      <th>2018-10-05 15:59:20</th>\n      <td>116.2000</td>\n      <td>116.2125</td>\n      <td>116.150</td>\n      <td>116.18</td>\n      <td>8821</td>\n    </tr>\n    <tr>\n      <th>2018-10-05 15:59:55</th>\n      <td>116.1800</td>\n      <td>116.2100</td>\n      <td>116.140</td>\n      <td>116.19</td>\n      <td>9196</td>\n    </tr>\n    <tr>\n      <th>2018-10-05 15:59:59</th>\n      <td>116.2000</td>\n      <td>116.2000</td>\n      <td>116.190</td>\n      <td>116.20</td>\n      <td>9700</td>\n    </tr>\n    <tr>\n      <th>2018-10-05 16:00:00</th>\n      <td>116.2000</td>\n      <td>116.2200</td>\n      <td>116.200</td>\n      <td>116.22</td>\n      <td>46784</td>\n    </tr>\n  </tbody>\n</table>\n<p>49996 rows × 5 columns</p>\n</div>"
     },
     "execution_count": 13,
     "metadata": {},
     "output_type": "execute_result"
    }
   ],
   "source": [
    "dollar"
   ],
   "metadata": {
    "collapsed": false,
    "ExecuteTime": {
     "end_time": "2023-09-15T10:33:34.814531Z",
     "start_time": "2023-09-15T10:33:34.811631Z"
    }
   },
   "id": "71fffbc7b8bbeeb0"
  },
  {
   "cell_type": "markdown",
   "source": [
    "#### estimated Volatility"
   ],
   "metadata": {
    "collapsed": false
   },
   "id": "93f695359c602e3b"
  },
  {
   "cell_type": "code",
   "execution_count": 14,
   "outputs": [],
   "source": [
    "from FinancialMachineLearning.features.volatility import daily_volatility\n",
    "vol = daily_volatility(dollar.close, lookback = 100)"
   ],
   "metadata": {
    "collapsed": false,
    "ExecuteTime": {
     "end_time": "2023-09-15T10:33:35.845099Z",
     "start_time": "2023-09-15T10:33:35.827052Z"
    }
   },
   "id": "3cc6e0164e213f69"
  },
  {
   "cell_type": "code",
   "execution_count": 15,
   "outputs": [
    {
     "data": {
      "text/plain": "date_time\n2009-09-29 09:59:21         NaN\n2009-09-29 10:04:46    0.005981\n2009-09-29 10:31:39    0.004469\n2009-09-29 10:52:23    0.004376\n2009-09-29 11:34:53    0.004261\n                         ...   \n2018-10-05 15:58:23    0.003059\n2018-10-05 15:59:20    0.003037\n2018-10-05 15:59:55    0.003014\n2018-10-05 15:59:59    0.002990\n2018-10-05 16:00:00    0.002964\nName: close, Length: 49969, dtype: float64"
     },
     "execution_count": 15,
     "metadata": {},
     "output_type": "execute_result"
    }
   ],
   "source": [
    "vol"
   ],
   "metadata": {
    "collapsed": false,
    "ExecuteTime": {
     "end_time": "2023-09-15T10:33:36.498311Z",
     "start_time": "2023-09-15T10:33:36.490047Z"
    }
   },
   "id": "f9fab6217da96666"
  },
  {
   "cell_type": "markdown",
   "source": [
    "#### CUSUM events"
   ],
   "metadata": {
    "collapsed": false
   },
   "id": "abb4a25562201133"
  },
  {
   "cell_type": "code",
   "execution_count": 16,
   "outputs": [],
   "source": [
    "from FinancialMachineLearning.filter.filter import cusum_filter"
   ],
   "metadata": {
    "collapsed": false,
    "ExecuteTime": {
     "end_time": "2023-09-15T10:33:40.702877Z",
     "start_time": "2023-09-15T10:33:40.693316Z"
    }
   },
   "id": "7522275c521c18d"
  },
  {
   "cell_type": "code",
   "execution_count": 17,
   "outputs": [],
   "source": [
    "cusum_events = cusum_filter(dollar.close, threshold = vol.mean())"
   ],
   "metadata": {
    "collapsed": false,
    "ExecuteTime": {
     "end_time": "2023-09-15T10:33:44.921113Z",
     "start_time": "2023-09-15T10:33:44.094011Z"
    }
   },
   "id": "15a57f55ebe654df"
  },
  {
   "cell_type": "code",
   "execution_count": 18,
   "outputs": [
    {
     "data": {
      "text/plain": "DatetimeIndex(['2009-09-28 09:53:49', '2009-09-28 10:02:52',\n               '2009-09-28 10:10:21', '2009-09-28 10:19:36',\n               '2009-09-28 10:24:23', '2009-09-28 10:34:30',\n               '2009-09-28 10:45:25', '2009-09-28 11:10:57',\n               '2009-09-28 11:24:29', '2009-09-28 11:37:06',\n               ...\n               '2018-10-05 15:45:00', '2018-10-05 15:48:02',\n               '2018-10-05 15:53:55', '2018-10-05 15:56:25',\n               '2018-10-05 15:57:50', '2018-10-05 15:58:23',\n               '2018-10-05 15:59:20', '2018-10-05 15:59:55',\n               '2018-10-05 15:59:59', '2018-10-05 16:00:00'],\n              dtype='datetime64[ns]', length=46178, freq=None)"
     },
     "execution_count": 18,
     "metadata": {},
     "output_type": "execute_result"
    }
   ],
   "source": [
    "cusum_events"
   ],
   "metadata": {
    "collapsed": false,
    "ExecuteTime": {
     "end_time": "2023-09-15T10:33:45.611489Z",
     "start_time": "2023-09-15T10:33:45.603244Z"
    }
   },
   "id": "49eb79e708eb1234"
  },
  {
   "cell_type": "code",
   "execution_count": 19,
   "outputs": [],
   "source": [
    "dollar = dollar.loc[cusum_events]"
   ],
   "metadata": {
    "collapsed": false,
    "ExecuteTime": {
     "end_time": "2023-09-15T10:33:46.270599Z",
     "start_time": "2023-09-15T10:33:46.263656Z"
    }
   },
   "id": "764611d632ad5248"
  },
  {
   "cell_type": "code",
   "execution_count": 20,
   "outputs": [
    {
     "data": {
      "text/plain": "                         open      high       low   close  volume\n2009-09-28 09:53:49   51.0700   51.1500   51.0500   51.14   20324\n2009-09-28 10:02:52   51.1400   51.2600   51.0800   51.25   22319\n2009-09-28 10:10:21   51.2500   51.2900   51.1900   51.29   21519\n2009-09-28 10:19:36   51.2900   51.2900   51.2100   51.23   19831\n2009-09-28 10:24:23   51.2100   51.2600   51.1873   51.25   20200\n...                       ...       ...       ...     ...     ...\n2018-10-05 15:58:23  116.2425  116.2425  116.1600  116.19    9647\n2018-10-05 15:59:20  116.2000  116.2125  116.1500  116.18    8821\n2018-10-05 15:59:55  116.1800  116.2100  116.1400  116.19    9196\n2018-10-05 15:59:59  116.2000  116.2000  116.1900  116.20    9700\n2018-10-05 16:00:00  116.2000  116.2200  116.2000  116.22   46784\n\n[46178 rows x 5 columns]",
      "text/html": "<div>\n<style scoped>\n    .dataframe tbody tr th:only-of-type {\n        vertical-align: middle;\n    }\n\n    .dataframe tbody tr th {\n        vertical-align: top;\n    }\n\n    .dataframe thead th {\n        text-align: right;\n    }\n</style>\n<table border=\"1\" class=\"dataframe\">\n  <thead>\n    <tr style=\"text-align: right;\">\n      <th></th>\n      <th>open</th>\n      <th>high</th>\n      <th>low</th>\n      <th>close</th>\n      <th>volume</th>\n    </tr>\n  </thead>\n  <tbody>\n    <tr>\n      <th>2009-09-28 09:53:49</th>\n      <td>51.0700</td>\n      <td>51.1500</td>\n      <td>51.0500</td>\n      <td>51.14</td>\n      <td>20324</td>\n    </tr>\n    <tr>\n      <th>2009-09-28 10:02:52</th>\n      <td>51.1400</td>\n      <td>51.2600</td>\n      <td>51.0800</td>\n      <td>51.25</td>\n      <td>22319</td>\n    </tr>\n    <tr>\n      <th>2009-09-28 10:10:21</th>\n      <td>51.2500</td>\n      <td>51.2900</td>\n      <td>51.1900</td>\n      <td>51.29</td>\n      <td>21519</td>\n    </tr>\n    <tr>\n      <th>2009-09-28 10:19:36</th>\n      <td>51.2900</td>\n      <td>51.2900</td>\n      <td>51.2100</td>\n      <td>51.23</td>\n      <td>19831</td>\n    </tr>\n    <tr>\n      <th>2009-09-28 10:24:23</th>\n      <td>51.2100</td>\n      <td>51.2600</td>\n      <td>51.1873</td>\n      <td>51.25</td>\n      <td>20200</td>\n    </tr>\n    <tr>\n      <th>...</th>\n      <td>...</td>\n      <td>...</td>\n      <td>...</td>\n      <td>...</td>\n      <td>...</td>\n    </tr>\n    <tr>\n      <th>2018-10-05 15:58:23</th>\n      <td>116.2425</td>\n      <td>116.2425</td>\n      <td>116.1600</td>\n      <td>116.19</td>\n      <td>9647</td>\n    </tr>\n    <tr>\n      <th>2018-10-05 15:59:20</th>\n      <td>116.2000</td>\n      <td>116.2125</td>\n      <td>116.1500</td>\n      <td>116.18</td>\n      <td>8821</td>\n    </tr>\n    <tr>\n      <th>2018-10-05 15:59:55</th>\n      <td>116.1800</td>\n      <td>116.2100</td>\n      <td>116.1400</td>\n      <td>116.19</td>\n      <td>9196</td>\n    </tr>\n    <tr>\n      <th>2018-10-05 15:59:59</th>\n      <td>116.2000</td>\n      <td>116.2000</td>\n      <td>116.1900</td>\n      <td>116.20</td>\n      <td>9700</td>\n    </tr>\n    <tr>\n      <th>2018-10-05 16:00:00</th>\n      <td>116.2000</td>\n      <td>116.2200</td>\n      <td>116.2000</td>\n      <td>116.22</td>\n      <td>46784</td>\n    </tr>\n  </tbody>\n</table>\n<p>46178 rows × 5 columns</p>\n</div>"
     },
     "execution_count": 20,
     "metadata": {},
     "output_type": "execute_result"
    }
   ],
   "source": [
    "dollar"
   ],
   "metadata": {
    "collapsed": false,
    "ExecuteTime": {
     "end_time": "2023-09-15T10:33:46.737029Z",
     "start_time": "2023-09-15T10:33:46.732822Z"
    }
   },
   "id": "5b8da88188feac29"
  },
  {
   "cell_type": "markdown",
   "source": [
    "#### Vertical Barriers"
   ],
   "metadata": {
    "collapsed": false
   },
   "id": "5f4b98d98e29e28f"
  },
  {
   "cell_type": "code",
   "execution_count": 21,
   "outputs": [
    {
     "data": {
      "text/plain": "2009-09-28 09:53:49   2009-09-29 09:59:21\n2009-09-28 10:02:52   2009-09-29 10:04:46\n2009-09-28 10:10:21   2009-09-29 10:31:39\n2009-09-28 10:19:36   2009-09-29 10:31:39\n2009-09-28 10:24:23   2009-09-29 10:31:39\n                              ...        \n2018-10-04 15:41:04   2018-10-05 15:45:00\n2018-10-04 15:47:18   2018-10-05 15:48:02\n2018-10-04 15:51:37   2018-10-05 15:53:55\n2018-10-04 15:58:47   2018-10-05 15:59:20\n2018-10-04 16:00:00   2018-10-05 16:00:00\nLength: 46138, dtype: datetime64[ns]"
     },
     "execution_count": 21,
     "metadata": {},
     "output_type": "execute_result"
    }
   ],
   "source": [
    "vertical_barrier = add_vertical_barrier(cusum_events, dollar['close'], num_days = 1)\n",
    "vertical_barrier"
   ],
   "metadata": {
    "collapsed": false,
    "ExecuteTime": {
     "end_time": "2023-09-15T10:33:48.831067Z",
     "start_time": "2023-09-15T10:33:48.818532Z"
    }
   },
   "id": "dd2f8c073807b7e7"
  },
  {
   "cell_type": "markdown",
   "source": [
    "#### Triple Barrier Methods"
   ],
   "metadata": {
    "collapsed": false
   },
   "id": "c061b9e812703045"
  },
  {
   "cell_type": "code",
   "execution_count": 22,
   "outputs": [
    {
     "data": {
      "text/plain": "DatetimeIndex(['2009-09-28 09:53:49', '2009-09-28 10:02:52',\n               '2009-09-28 10:10:21', '2009-09-28 10:19:36',\n               '2009-09-28 10:24:23', '2009-09-28 10:34:30',\n               '2009-09-28 10:45:25', '2009-09-28 11:10:57',\n               '2009-09-28 11:24:29', '2009-09-28 11:37:06',\n               ...\n               '2018-10-05 15:45:00', '2018-10-05 15:48:02',\n               '2018-10-05 15:53:55', '2018-10-05 15:56:25',\n               '2018-10-05 15:57:50', '2018-10-05 15:58:23',\n               '2018-10-05 15:59:20', '2018-10-05 15:59:55',\n               '2018-10-05 15:59:59', '2018-10-05 16:00:00'],\n              dtype='datetime64[ns]', length=46178, freq=None)"
     },
     "execution_count": 22,
     "metadata": {},
     "output_type": "execute_result"
    }
   ],
   "source": [
    "cusum_events"
   ],
   "metadata": {
    "collapsed": false,
    "ExecuteTime": {
     "end_time": "2023-09-15T10:33:50.045412Z",
     "start_time": "2023-09-15T10:33:50.037158Z"
    }
   },
   "id": "fbcd8ffcb91c6554"
  },
  {
   "cell_type": "code",
   "execution_count": 23,
   "outputs": [],
   "source": [
    "vol = vol[~vol.index.duplicated(keep = 'first')]"
   ],
   "metadata": {
    "collapsed": false,
    "ExecuteTime": {
     "end_time": "2023-09-15T10:33:50.579109Z",
     "start_time": "2023-09-15T10:33:50.573786Z"
    }
   },
   "id": "4c0b827133da33d7"
  },
  {
   "cell_type": "code",
   "execution_count": 24,
   "outputs": [
    {
     "data": {
      "text/plain": "<Axes: xlabel='date_time'>"
     },
     "execution_count": 24,
     "metadata": {},
     "output_type": "execute_result"
    },
    {
     "data": {
      "text/plain": "<Figure size 640x480 with 1 Axes>",
      "image/png": "[encoded data removed]"
     },
     "metadata": {},
     "output_type": "display_data"
    }
   ],
   "source": [
    "vol.plot()"
   ],
   "metadata": {
    "collapsed": false,
    "ExecuteTime": {
     "end_time": "2023-09-15T10:33:51.292549Z",
     "start_time": "2023-09-15T10:33:50.983310Z"
    }
   },
   "id": "758548da36662f12"
  },
  {
   "cell_type": "code",
   "execution_count": 28,
   "outputs": [
    {
     "name": "stderr",
     "output_type": "stream",
     "text": [
      "/Users/junghunlee/Desktop/Pycharm/FinancialMachineLearning/FinancialMachineLearning/labeling/labeling.py:17: FutureWarning: iteritems is deprecated and will be removed in a future version. Use .items instead.\n",
      "  for loc, vertical_barrier in events_['t1'].fillna(close.index[-1]).iteritems():\n",
      "/Users/junghunlee/Desktop/Pycharm/FinancialMachineLearning/FinancialMachineLearning/multiprocess/multiprocess.py:47: FutureWarning: The frame.append method is deprecated and will be removed from pandas in a future version. Use pandas.concat instead.\n",
      "  df0 = df0.append(i)\n"
     ]
    },
    {
     "data": {
      "text/plain": "                                     t1      trgt  pt  sl\n2009-10-02 09:32:42 2009-10-02 10:36:37  0.010414   1   1\n2009-10-02 09:49:51 2009-10-05 09:35:27  0.010596   1   1\n2009-10-02 10:02:18 2009-10-05 09:35:27  0.010649   1   1\n2009-10-02 10:16:15 2009-10-05 09:35:27  0.010644   1   1\n2009-10-02 10:22:23 2009-10-05 09:35:27  0.010550   1   1\n...                                 ...       ...  ..  ..\n2018-06-01 12:33:50 2018-06-04 09:30:00  0.010286   1   1\n2018-06-01 13:07:55 2018-06-04 09:30:00  0.010231   1   1\n2018-06-01 13:34:23 2018-06-04 09:30:00  0.010134   1   1\n2018-06-01 14:05:37 2018-06-04 09:30:00  0.010091   1   1\n2018-06-01 14:42:21 2018-06-04 09:30:00  0.010049   1   1\n\n[8771 rows x 4 columns]",
      "text/html": "<div>\n<style scoped>\n    .dataframe tbody tr th:only-of-type {\n        vertical-align: middle;\n    }\n\n    .dataframe tbody tr th {\n        vertical-align: top;\n    }\n\n    .dataframe thead th {\n        text-align: right;\n    }\n</style>\n<table border=\"1\" class=\"dataframe\">\n  <thead>\n    <tr style=\"text-align: right;\">\n      <th></th>\n      <th>t1</th>\n      <th>trgt</th>\n      <th>pt</th>\n      <th>sl</th>\n    </tr>\n  </thead>\n  <tbody>\n    <tr>\n      <th>2009-10-02 09:32:42</th>\n      <td>2009-10-02 10:36:37</td>\n      <td>0.010414</td>\n      <td>1</td>\n      <td>1</td>\n    </tr>\n    <tr>\n      <th>2009-10-02 09:49:51</th>\n      <td>2009-10-05 09:35:27</td>\n      <td>0.010596</td>\n      <td>1</td>\n      <td>1</td>\n    </tr>\n    <tr>\n      <th>2009-10-02 10:02:18</th>\n      <td>2009-10-05 09:35:27</td>\n      <td>0.010649</td>\n      <td>1</td>\n      <td>1</td>\n    </tr>\n    <tr>\n      <th>2009-10-02 10:16:15</th>\n      <td>2009-10-05 09:35:27</td>\n      <td>0.010644</td>\n      <td>1</td>\n      <td>1</td>\n    </tr>\n    <tr>\n      <th>2009-10-02 10:22:23</th>\n      <td>2009-10-05 09:35:27</td>\n      <td>0.010550</td>\n      <td>1</td>\n      <td>1</td>\n    </tr>\n    <tr>\n      <th>...</th>\n      <td>...</td>\n      <td>...</td>\n      <td>...</td>\n      <td>...</td>\n    </tr>\n    <tr>\n      <th>2018-06-01 12:33:50</th>\n      <td>2018-06-04 09:30:00</td>\n      <td>0.010286</td>\n      <td>1</td>\n      <td>1</td>\n    </tr>\n    <tr>\n      <th>2018-06-01 13:07:55</th>\n      <td>2018-06-04 09:30:00</td>\n      <td>0.010231</td>\n      <td>1</td>\n      <td>1</td>\n    </tr>\n    <tr>\n      <th>2018-06-01 13:34:23</th>\n      <td>2018-06-04 09:30:00</td>\n      <td>0.010134</td>\n      <td>1</td>\n      <td>1</td>\n    </tr>\n    <tr>\n      <th>2018-06-01 14:05:37</th>\n      <td>2018-06-04 09:30:00</td>\n      <td>0.010091</td>\n      <td>1</td>\n      <td>1</td>\n    </tr>\n    <tr>\n      <th>2018-06-01 14:42:21</th>\n      <td>2018-06-04 09:30:00</td>\n      <td>0.010049</td>\n      <td>1</td>\n      <td>1</td>\n    </tr>\n  </tbody>\n</table>\n<p>8771 rows × 4 columns</p>\n</div>"
     },
     "execution_count": 28,
     "metadata": {},
     "output_type": "execute_result"
    }
   ],
   "source": [
    "triple_barrier_events = get_events(close = dollar['close'],\n",
    "                                   t_events = cusum_events[23:],\n",
    "                                   pt_sl = [1, 1],\n",
    "                                   target = vol,\n",
    "                                   min_ret = 0.01,\n",
    "                                   num_threads = 1,\n",
    "                                   vertical_barrier_times = vertical_barrier,\n",
    "                                   side_prediction = None)\n",
    "triple_barrier_events"
   ],
   "metadata": {
    "collapsed": false,
    "ExecuteTime": {
     "end_time": "2023-09-15T10:34:35.675247Z",
     "start_time": "2023-09-15T10:34:31.179874Z"
    }
   },
   "id": "ca611f9395b8369d"
  },
  {
   "cell_type": "markdown",
   "source": [
    "#### Labeling"
   ],
   "metadata": {
    "collapsed": false
   },
   "id": "ca127736ac554be5"
  },
  {
   "cell_type": "code",
   "execution_count": 29,
   "outputs": [
    {
     "data": {
      "text/plain": "                          ret      trgt  bin\n2009-10-02 09:32:42  0.010761  0.010414    1\n2009-10-02 09:49:51  0.005259  0.010596    0\n2009-10-02 10:02:18  0.006277  0.010649    0\n2009-10-02 10:16:15  0.004852  0.010644    0\n2009-10-02 10:22:23  0.004040  0.010550    0\n...                       ...       ...  ...\n2018-06-01 12:33:50  0.002703  0.010286    0\n2018-06-01 13:07:55  0.001894  0.010231    0\n2018-06-01 13:34:23  0.002432  0.010134    0\n2018-06-01 14:05:37  0.003249  0.010091    0\n2018-06-01 14:42:21  0.003155  0.010049    0\n\n[8771 rows x 3 columns]",
      "text/html": "<div>\n<style scoped>\n    .dataframe tbody tr th:only-of-type {\n        vertical-align: middle;\n    }\n\n    .dataframe tbody tr th {\n        vertical-align: top;\n    }\n\n    .dataframe thead th {\n        text-align: right;\n    }\n</style>\n<table border=\"1\" class=\"dataframe\">\n  <thead>\n    <tr style=\"text-align: right;\">\n      <th></th>\n      <th>ret</th>\n      <th>trgt</th>\n      <th>bin</th>\n    </tr>\n  </thead>\n  <tbody>\n    <tr>\n      <th>2009-10-02 09:32:42</th>\n      <td>0.010761</td>\n      <td>0.010414</td>\n      <td>1</td>\n    </tr>\n    <tr>\n      <th>2009-10-02 09:49:51</th>\n      <td>0.005259</td>\n      <td>0.010596</td>\n      <td>0</td>\n    </tr>\n    <tr>\n      <th>2009-10-02 10:02:18</th>\n      <td>0.006277</td>\n      <td>0.010649</td>\n      <td>0</td>\n    </tr>\n    <tr>\n      <th>2009-10-02 10:16:15</th>\n      <td>0.004852</td>\n      <td>0.010644</td>\n      <td>0</td>\n    </tr>\n    <tr>\n      <th>2009-10-02 10:22:23</th>\n      <td>0.004040</td>\n      <td>0.010550</td>\n      <td>0</td>\n    </tr>\n    <tr>\n      <th>...</th>\n      <td>...</td>\n      <td>...</td>\n      <td>...</td>\n    </tr>\n    <tr>\n      <th>2018-06-01 12:33:50</th>\n      <td>0.002703</td>\n      <td>0.010286</td>\n      <td>0</td>\n    </tr>\n    <tr>\n      <th>2018-06-01 13:07:55</th>\n      <td>0.001894</td>\n      <td>0.010231</td>\n      <td>0</td>\n    </tr>\n    <tr>\n      <th>2018-06-01 13:34:23</th>\n      <td>0.002432</td>\n      <td>0.010134</td>\n      <td>0</td>\n    </tr>\n    <tr>\n      <th>2018-06-01 14:05:37</th>\n      <td>0.003249</td>\n      <td>0.010091</td>\n      <td>0</td>\n    </tr>\n    <tr>\n      <th>2018-06-01 14:42:21</th>\n      <td>0.003155</td>\n      <td>0.010049</td>\n      <td>0</td>\n    </tr>\n  </tbody>\n</table>\n<p>8771 rows × 3 columns</p>\n</div>"
     },
     "execution_count": 29,
     "metadata": {},
     "output_type": "execute_result"
    }
   ],
   "source": [
    "labels = meta_labeling(triple_barrier_events, dollar['close'])\n",
    "labels"
   ],
   "metadata": {
    "collapsed": false,
    "ExecuteTime": {
     "end_time": "2023-09-15T10:34:39.165327Z",
     "start_time": "2023-09-15T10:34:38.815015Z"
    }
   },
   "id": "3e68a0f0816a9099"
  },
  {
   "cell_type": "code",
   "execution_count": 30,
   "outputs": [
    {
     "data": {
      "text/plain": " 0    5032\n-1    1896\n 1    1843\nName: bin, dtype: int64"
     },
     "execution_count": 30,
     "metadata": {},
     "output_type": "execute_result"
    }
   ],
   "source": [
    "labels['bin'].value_counts()"
   ],
   "metadata": {
    "collapsed": false,
    "ExecuteTime": {
     "end_time": "2023-09-15T10:34:40.454476Z",
     "start_time": "2023-09-15T10:34:40.444417Z"
    }
   },
   "id": "21fdb3e79c52da9b"
  },
  {
   "cell_type": "markdown",
   "source": [
    "#### Drop Labels"
   ],
   "metadata": {
    "collapsed": false
   },
   "id": "8dff080ca43e1030"
  },
  {
   "cell_type": "code",
   "execution_count": 31,
   "outputs": [],
   "source": [
    "clean_labels = drop_labels(labels)"
   ],
   "metadata": {
    "collapsed": false,
    "ExecuteTime": {
     "end_time": "2023-09-15T10:38:12.801756Z",
     "start_time": "2023-09-15T10:38:12.786426Z"
    }
   },
   "id": "2de0e2dadd988aad"
  },
  {
   "cell_type": "code",
   "execution_count": 34,
   "outputs": [
    {
     "data": {
      "text/plain": "                          ret      trgt  bin\n2009-10-02 09:32:42  0.010761  0.010414    1\n2009-10-02 09:49:51  0.005259  0.010596    0\n2009-10-02 10:02:18  0.006277  0.010649    0\n2009-10-02 10:16:15  0.004852  0.010644    0\n2009-10-02 10:22:23  0.004040  0.010550    0\n...                       ...       ...  ...\n2018-06-01 12:33:50  0.002703  0.010286    0\n2018-06-01 13:07:55  0.001894  0.010231    0\n2018-06-01 13:34:23  0.002432  0.010134    0\n2018-06-01 14:05:37  0.003249  0.010091    0\n2018-06-01 14:42:21  0.003155  0.010049    0\n\n[8771 rows x 3 columns]",
      "text/html": "<div>\n<style scoped>\n    .dataframe tbody tr th:only-of-type {\n        vertical-align: middle;\n    }\n\n    .dataframe tbody tr th {\n        vertical-align: top;\n    }\n\n    .dataframe thead th {\n        text-align: right;\n    }\n</style>\n<table border=\"1\" class=\"dataframe\">\n  <thead>\n    <tr style=\"text-align: right;\">\n      <th></th>\n      <th>ret</th>\n      <th>trgt</th>\n      <th>bin</th>\n    </tr>\n  </thead>\n  <tbody>\n    <tr>\n      <th>2009-10-02 09:32:42</th>\n      <td>0.010761</td>\n      <td>0.010414</td>\n      <td>1</td>\n    </tr>\n    <tr>\n      <th>2009-10-02 09:49:51</th>\n      <td>0.005259</td>\n      <td>0.010596</td>\n      <td>0</td>\n    </tr>\n    <tr>\n      <th>2009-10-02 10:02:18</th>\n      <td>0.006277</td>\n      <td>0.010649</td>\n      <td>0</td>\n    </tr>\n    <tr>\n      <th>2009-10-02 10:16:15</th>\n      <td>0.004852</td>\n      <td>0.010644</td>\n      <td>0</td>\n    </tr>\n    <tr>\n      <th>2009-10-02 10:22:23</th>\n      <td>0.004040</td>\n      <td>0.010550</td>\n      <td>0</td>\n    </tr>\n    <tr>\n      <th>...</th>\n      <td>...</td>\n      <td>...</td>\n      <td>...</td>\n    </tr>\n    <tr>\n      <th>2018-06-01 12:33:50</th>\n      <td>0.002703</td>\n      <td>0.010286</td>\n      <td>0</td>\n    </tr>\n    <tr>\n      <th>2018-06-01 13:07:55</th>\n      <td>0.001894</td>\n      <td>0.010231</td>\n      <td>0</td>\n    </tr>\n    <tr>\n      <th>2018-06-01 13:34:23</th>\n      <td>0.002432</td>\n      <td>0.010134</td>\n      <td>0</td>\n    </tr>\n    <tr>\n      <th>2018-06-01 14:05:37</th>\n      <td>0.003249</td>\n      <td>0.010091</td>\n      <td>0</td>\n    </tr>\n    <tr>\n      <th>2018-06-01 14:42:21</th>\n      <td>0.003155</td>\n      <td>0.010049</td>\n      <td>0</td>\n    </tr>\n  </tbody>\n</table>\n<p>8771 rows × 3 columns</p>\n</div>"
     },
     "execution_count": 34,
     "metadata": {},
     "output_type": "execute_result"
    }
   ],
   "source": [
    "clean_labels"
   ],
   "metadata": {
    "collapsed": false,
    "ExecuteTime": {
     "end_time": "2023-09-15T10:38:30.921201Z",
     "start_time": "2023-09-15T10:38:30.914893Z"
    }
   },
   "id": "ff4e85c432199951"
  }
 ],
 "metadata": {
  "kernelspec": {
   "display_name": "Python 3",
   "language": "python",
   "name": "python3"
  },
  "language_info": {
   "codemirror_mode": {
    "name": "ipython",
    "version": 2
   },
   "file_extension": ".py",
   "mimetype": "text/x-python",
   "name": "python",
   "nbconvert_exporter": "python",
   "pygments_lexer": "ipython2",
   "version": "2.7.6"
  }
 },
 "nbformat": 4,
 "nbformat_minor": 5
}
