{
 "cells": [
  {
   "cell_type": "code",
   "execution_count": 1,
   "id": "initial_id",
   "metadata": {
    "collapsed": true,
    "ExecuteTime": {
     "end_time": "2023-09-16T09:59:32.330172Z",
     "start_time": "2023-09-16T09:59:31.471685Z"
    }
   },
   "outputs": [],
   "source": [
    "from FinancialMachineLearning.labeling.labeling import *"
   ]
  },
  {
   "cell_type": "code",
   "execution_count": 2,
   "outputs": [
    {
     "data": {
      "text/plain": "'/Users/junghunlee/Desktop/Pycharm/FinancialMachineLearning'"
     },
     "execution_count": 2,
     "metadata": {},
     "output_type": "execute_result"
    }
   ],
   "source": [
    "import os\n",
    "os.chdir('..')\n",
    "os.chdir('..')\n",
    "os.getcwd()"
   ],
   "metadata": {
    "collapsed": false,
    "ExecuteTime": {
     "end_time": "2023-09-16T09:59:32.336183Z",
     "start_time": "2023-09-16T09:59:32.331490Z"
    }
   },
   "id": "597d3975b99a0b95"
  },
  {
   "cell_type": "code",
   "execution_count": 3,
   "outputs": [],
   "source": [
    "dollar = pd.read_csv('./Data/dollar_IVEfuture.csv', index_col = 0, parse_dates = True)"
   ],
   "metadata": {
    "collapsed": false,
    "ExecuteTime": {
     "end_time": "2023-09-16T09:59:32.511623Z",
     "start_time": "2023-09-16T09:59:32.336047Z"
    }
   },
   "id": "73d883c2c9edf363"
  },
  {
   "cell_type": "code",
   "execution_count": 4,
   "outputs": [],
   "source": [
    "dollar = dollar[~dollar.index.duplicated(keep = 'first')]"
   ],
   "metadata": {
    "collapsed": false,
    "ExecuteTime": {
     "end_time": "2023-09-16T09:59:32.524157Z",
     "start_time": "2023-09-16T09:59:32.512226Z"
    }
   },
   "id": "ce0fcb521a875e7e"
  },
  {
   "cell_type": "code",
   "execution_count": 5,
   "outputs": [
    {
     "data": {
      "text/plain": "                     tick_num    open     high       low   close  volume  \\\ndate_time                                                                  \n2009-09-28 09:46:34        80   50.79   51.070   50.7100   51.07   20044   \n2009-09-28 09:52:47       142   51.07   51.148   51.0500   51.13   21024   \n2009-09-28 09:54:38       201   51.14   51.150   51.1290   51.13   19951   \n2009-09-28 09:55:26       243   51.13   51.150   51.1300   51.14   19652   \n2009-09-28 10:02:48       339   51.14   51.260   51.0800   51.25   19943   \n...                       ...     ...      ...       ...     ...     ...   \n2023-09-14 15:54:32  10930083  162.98  163.060  162.9654  162.98    6186   \n2023-09-14 15:59:20  10930131  162.99  163.040  162.9299  163.04    7158   \n2023-09-14 15:59:39  10930171  163.04  163.050  162.9900  163.00    6316   \n2023-09-14 15:59:59  10930208  162.99  163.000  162.9700  162.98    6234   \n2023-09-14 16:00:00  10930213  162.98  163.000  162.9700  162.97   32257   \n\n                     cum_buy_volume  cum_ticks  cum_dollar_value  \ndate_time                                                         \n2009-09-28 09:46:34           13264         80      1.020027e+06  \n2009-09-28 09:52:47           19774         62      1.073986e+06  \n2009-09-28 09:54:38            6951         59      1.020145e+06  \n2009-09-28 09:55:26           18052         42      1.004999e+06  \n2009-09-28 10:02:48           11354         96      1.020512e+06  \n...                             ...        ...               ...  \n2023-09-14 15:54:32            3983         39      1.008408e+06  \n2023-09-14 15:59:20            4629         48      1.166735e+06  \n2023-09-14 15:59:39            3266         40      1.029639e+06  \n2023-09-14 15:59:59            2145         37      1.016030e+06  \n2023-09-14 16:00:00             335          5      5.256934e+06  \n\n[215833 rows x 9 columns]",
      "text/html": "<div>\n<style scoped>\n    .dataframe tbody tr th:only-of-type {\n        vertical-align: middle;\n    }\n\n    .dataframe tbody tr th {\n        vertical-align: top;\n    }\n\n    .dataframe thead th {\n        text-align: right;\n    }\n</style>\n<table border=\"1\" class=\"dataframe\">\n  <thead>\n    <tr style=\"text-align: right;\">\n      <th></th>\n      <th>tick_num</th>\n      <th>open</th>\n      <th>high</th>\n      <th>low</th>\n      <th>close</th>\n      <th>volume</th>\n      <th>cum_buy_volume</th>\n      <th>cum_ticks</th>\n      <th>cum_dollar_value</th>\n    </tr>\n    <tr>\n      <th>date_time</th>\n      <th></th>\n      <th></th>\n      <th></th>\n      <th></th>\n      <th></th>\n      <th></th>\n      <th></th>\n      <th></th>\n      <th></th>\n    </tr>\n  </thead>\n  <tbody>\n    <tr>\n      <th>2009-09-28 09:46:34</th>\n      <td>80</td>\n      <td>50.79</td>\n      <td>51.070</td>\n      <td>50.7100</td>\n      <td>51.07</td>\n      <td>20044</td>\n      <td>13264</td>\n      <td>80</td>\n      <td>1.020027e+06</td>\n    </tr>\n    <tr>\n      <th>2009-09-28 09:52:47</th>\n      <td>142</td>\n      <td>51.07</td>\n      <td>51.148</td>\n      <td>51.0500</td>\n      <td>51.13</td>\n      <td>21024</td>\n      <td>19774</td>\n      <td>62</td>\n      <td>1.073986e+06</td>\n    </tr>\n    <tr>\n      <th>2009-09-28 09:54:38</th>\n      <td>201</td>\n      <td>51.14</td>\n      <td>51.150</td>\n      <td>51.1290</td>\n      <td>51.13</td>\n      <td>19951</td>\n      <td>6951</td>\n      <td>59</td>\n      <td>1.020145e+06</td>\n    </tr>\n    <tr>\n      <th>2009-09-28 09:55:26</th>\n      <td>243</td>\n      <td>51.13</td>\n      <td>51.150</td>\n      <td>51.1300</td>\n      <td>51.14</td>\n      <td>19652</td>\n      <td>18052</td>\n      <td>42</td>\n      <td>1.004999e+06</td>\n    </tr>\n    <tr>\n      <th>2009-09-28 10:02:48</th>\n      <td>339</td>\n      <td>51.14</td>\n      <td>51.260</td>\n      <td>51.0800</td>\n      <td>51.25</td>\n      <td>19943</td>\n      <td>11354</td>\n      <td>96</td>\n      <td>1.020512e+06</td>\n    </tr>\n    <tr>\n      <th>...</th>\n      <td>...</td>\n      <td>...</td>\n      <td>...</td>\n      <td>...</td>\n      <td>...</td>\n      <td>...</td>\n      <td>...</td>\n      <td>...</td>\n      <td>...</td>\n    </tr>\n    <tr>\n      <th>2023-09-14 15:54:32</th>\n      <td>10930083</td>\n      <td>162.98</td>\n      <td>163.060</td>\n      <td>162.9654</td>\n      <td>162.98</td>\n      <td>6186</td>\n      <td>3983</td>\n      <td>39</td>\n      <td>1.008408e+06</td>\n    </tr>\n    <tr>\n      <th>2023-09-14 15:59:20</th>\n      <td>10930131</td>\n      <td>162.99</td>\n      <td>163.040</td>\n      <td>162.9299</td>\n      <td>163.04</td>\n      <td>7158</td>\n      <td>4629</td>\n      <td>48</td>\n      <td>1.166735e+06</td>\n    </tr>\n    <tr>\n      <th>2023-09-14 15:59:39</th>\n      <td>10930171</td>\n      <td>163.04</td>\n      <td>163.050</td>\n      <td>162.9900</td>\n      <td>163.00</td>\n      <td>6316</td>\n      <td>3266</td>\n      <td>40</td>\n      <td>1.029639e+06</td>\n    </tr>\n    <tr>\n      <th>2023-09-14 15:59:59</th>\n      <td>10930208</td>\n      <td>162.99</td>\n      <td>163.000</td>\n      <td>162.9700</td>\n      <td>162.98</td>\n      <td>6234</td>\n      <td>2145</td>\n      <td>37</td>\n      <td>1.016030e+06</td>\n    </tr>\n    <tr>\n      <th>2023-09-14 16:00:00</th>\n      <td>10930213</td>\n      <td>162.98</td>\n      <td>163.000</td>\n      <td>162.9700</td>\n      <td>162.97</td>\n      <td>32257</td>\n      <td>335</td>\n      <td>5</td>\n      <td>5.256934e+06</td>\n    </tr>\n  </tbody>\n</table>\n<p>215833 rows × 9 columns</p>\n</div>"
     },
     "execution_count": 5,
     "metadata": {},
     "output_type": "execute_result"
    }
   ],
   "source": [
    "dollar"
   ],
   "metadata": {
    "collapsed": false,
    "ExecuteTime": {
     "end_time": "2023-09-16T09:59:32.535488Z",
     "start_time": "2023-09-16T09:59:32.527154Z"
    }
   },
   "id": "71fffbc7b8bbeeb0"
  },
  {
   "cell_type": "markdown",
   "source": [
    "#### estimated Volatility"
   ],
   "metadata": {
    "collapsed": false
   },
   "id": "93f695359c602e3b"
  },
  {
   "cell_type": "code",
   "execution_count": 6,
   "outputs": [],
   "source": [
    "from FinancialMachineLearning.features.volatility import daily_volatility\n",
    "vol = daily_volatility(dollar.close, lookback = 100)"
   ],
   "metadata": {
    "collapsed": false,
    "ExecuteTime": {
     "end_time": "2023-09-16T09:59:33.387082Z",
     "start_time": "2023-09-16T09:59:32.534914Z"
    }
   },
   "id": "3cc6e0164e213f69"
  },
  {
   "cell_type": "code",
   "execution_count": 7,
   "outputs": [
    {
     "data": {
      "text/plain": "date_time\n2009-09-29 09:51:08         NaN\n2009-09-29 10:00:18    0.001396\n2009-09-29 10:05:41    0.003878\n2009-09-29 10:17:47    0.003328\n2009-09-29 10:37:07    0.003094\n                         ...   \n2023-09-14 15:54:32    0.005170\n2023-09-14 15:59:20    0.005199\n2023-09-14 15:59:39    0.005217\n2023-09-14 15:59:59    0.005236\n2023-09-14 16:00:00    0.005257\nName: close, Length: 215792, dtype: float64"
     },
     "execution_count": 7,
     "metadata": {},
     "output_type": "execute_result"
    }
   ],
   "source": [
    "vol"
   ],
   "metadata": {
    "collapsed": false,
    "ExecuteTime": {
     "end_time": "2023-09-16T09:59:33.387710Z",
     "start_time": "2023-09-16T09:59:33.376606Z"
    }
   },
   "id": "f9fab6217da96666"
  },
  {
   "cell_type": "markdown",
   "source": [
    "#### CUSUM events"
   ],
   "metadata": {
    "collapsed": false
   },
   "id": "abb4a25562201133"
  },
  {
   "cell_type": "code",
   "execution_count": 8,
   "outputs": [],
   "source": [
    "from FinancialMachineLearning.filter.filter import cusum_filter"
   ],
   "metadata": {
    "collapsed": false,
    "ExecuteTime": {
     "end_time": "2023-09-16T09:59:33.387772Z",
     "start_time": "2023-09-16T09:59:33.379676Z"
    }
   },
   "id": "7522275c521c18d"
  },
  {
   "cell_type": "code",
   "execution_count": 9,
   "outputs": [],
   "source": [
    "cusum_events = cusum_filter(dollar.close, threshold = vol.mean())"
   ],
   "metadata": {
    "collapsed": false,
    "ExecuteTime": {
     "end_time": "2023-09-16T09:59:37.094122Z",
     "start_time": "2023-09-16T09:59:33.383395Z"
    }
   },
   "id": "15a57f55ebe654df"
  },
  {
   "cell_type": "code",
   "execution_count": 10,
   "outputs": [
    {
     "data": {
      "text/plain": "DatetimeIndex(['2009-09-28 09:52:47', '2009-09-28 09:55:26',\n               '2009-09-28 10:02:48', '2009-09-28 10:10:21',\n               '2009-09-28 10:14:19', '2009-09-28 10:23:42',\n               '2009-09-28 10:34:30', '2009-09-28 10:44:48',\n               '2009-09-28 11:02:36', '2009-09-28 11:15:44',\n               ...\n               '2023-09-14 15:01:31', '2023-09-14 15:07:06',\n               '2023-09-14 15:19:35', '2023-09-14 15:36:28',\n               '2023-09-14 15:46:26', '2023-09-14 15:54:32',\n               '2023-09-14 15:59:20', '2023-09-14 15:59:39',\n               '2023-09-14 15:59:59', '2023-09-14 16:00:00'],\n              dtype='datetime64[ns]', length=196440, freq=None)"
     },
     "execution_count": 10,
     "metadata": {},
     "output_type": "execute_result"
    }
   ],
   "source": [
    "cusum_events"
   ],
   "metadata": {
    "collapsed": false,
    "ExecuteTime": {
     "end_time": "2023-09-16T09:59:37.100088Z",
     "start_time": "2023-09-16T09:59:37.094710Z"
    }
   },
   "id": "49eb79e708eb1234"
  },
  {
   "cell_type": "code",
   "execution_count": 11,
   "outputs": [],
   "source": [
    "dollar = dollar.loc[cusum_events]"
   ],
   "metadata": {
    "collapsed": false,
    "ExecuteTime": {
     "end_time": "2023-09-16T09:59:37.108729Z",
     "start_time": "2023-09-16T09:59:37.098957Z"
    }
   },
   "id": "764611d632ad5248"
  },
  {
   "cell_type": "code",
   "execution_count": 12,
   "outputs": [
    {
     "data": {
      "text/plain": "                     tick_num    open     high       low   close  volume  \\\n2009-09-28 09:52:47       142   51.07   51.148   51.0500   51.13   21024   \n2009-09-28 09:55:26       243   51.13   51.150   51.1300   51.14   19652   \n2009-09-28 10:02:48       339   51.14   51.260   51.0800   51.25   19943   \n2009-09-28 10:10:21       456   51.26   51.290   51.1900   51.29   21119   \n2009-09-28 10:14:19       495   51.29   51.290   51.2500   51.25   19603   \n...                       ...     ...      ...       ...     ...     ...   \n2023-09-14 15:54:32  10930083  162.98  163.060  162.9654  162.98    6186   \n2023-09-14 15:59:20  10930131  162.99  163.040  162.9299  163.04    7158   \n2023-09-14 15:59:39  10930171  163.04  163.050  162.9900  163.00    6316   \n2023-09-14 15:59:59  10930208  162.99  163.000  162.9700  162.98    6234   \n2023-09-14 16:00:00  10930213  162.98  163.000  162.9700  162.97   32257   \n\n                     cum_buy_volume  cum_ticks  cum_dollar_value  \n2009-09-28 09:52:47           19774         62      1.073986e+06  \n2009-09-28 09:55:26           18052         42      1.004999e+06  \n2009-09-28 10:02:48           11354         96      1.020512e+06  \n2009-09-28 10:10:21           14284         81      1.082685e+06  \n2009-09-28 10:14:19           15008         39      1.004863e+06  \n...                             ...        ...               ...  \n2023-09-14 15:54:32            3983         39      1.008408e+06  \n2023-09-14 15:59:20            4629         48      1.166735e+06  \n2023-09-14 15:59:39            3266         40      1.029639e+06  \n2023-09-14 15:59:59            2145         37      1.016030e+06  \n2023-09-14 16:00:00             335          5      5.256934e+06  \n\n[196440 rows x 9 columns]",
      "text/html": "<div>\n<style scoped>\n    .dataframe tbody tr th:only-of-type {\n        vertical-align: middle;\n    }\n\n    .dataframe tbody tr th {\n        vertical-align: top;\n    }\n\n    .dataframe thead th {\n        text-align: right;\n    }\n</style>\n<table border=\"1\" class=\"dataframe\">\n  <thead>\n    <tr style=\"text-align: right;\">\n      <th></th>\n      <th>tick_num</th>\n      <th>open</th>\n      <th>high</th>\n      <th>low</th>\n      <th>close</th>\n      <th>volume</th>\n      <th>cum_buy_volume</th>\n      <th>cum_ticks</th>\n      <th>cum_dollar_value</th>\n    </tr>\n  </thead>\n  <tbody>\n    <tr>\n      <th>2009-09-28 09:52:47</th>\n      <td>142</td>\n      <td>51.07</td>\n      <td>51.148</td>\n      <td>51.0500</td>\n      <td>51.13</td>\n      <td>21024</td>\n      <td>19774</td>\n      <td>62</td>\n      <td>1.073986e+06</td>\n    </tr>\n    <tr>\n      <th>2009-09-28 09:55:26</th>\n      <td>243</td>\n      <td>51.13</td>\n      <td>51.150</td>\n      <td>51.1300</td>\n      <td>51.14</td>\n      <td>19652</td>\n      <td>18052</td>\n      <td>42</td>\n      <td>1.004999e+06</td>\n    </tr>\n    <tr>\n      <th>2009-09-28 10:02:48</th>\n      <td>339</td>\n      <td>51.14</td>\n      <td>51.260</td>\n      <td>51.0800</td>\n      <td>51.25</td>\n      <td>19943</td>\n      <td>11354</td>\n      <td>96</td>\n      <td>1.020512e+06</td>\n    </tr>\n    <tr>\n      <th>2009-09-28 10:10:21</th>\n      <td>456</td>\n      <td>51.26</td>\n      <td>51.290</td>\n      <td>51.1900</td>\n      <td>51.29</td>\n      <td>21119</td>\n      <td>14284</td>\n      <td>81</td>\n      <td>1.082685e+06</td>\n    </tr>\n    <tr>\n      <th>2009-09-28 10:14:19</th>\n      <td>495</td>\n      <td>51.29</td>\n      <td>51.290</td>\n      <td>51.2500</td>\n      <td>51.25</td>\n      <td>19603</td>\n      <td>15008</td>\n      <td>39</td>\n      <td>1.004863e+06</td>\n    </tr>\n    <tr>\n      <th>...</th>\n      <td>...</td>\n      <td>...</td>\n      <td>...</td>\n      <td>...</td>\n      <td>...</td>\n      <td>...</td>\n      <td>...</td>\n      <td>...</td>\n      <td>...</td>\n    </tr>\n    <tr>\n      <th>2023-09-14 15:54:32</th>\n      <td>10930083</td>\n      <td>162.98</td>\n      <td>163.060</td>\n      <td>162.9654</td>\n      <td>162.98</td>\n      <td>6186</td>\n      <td>3983</td>\n      <td>39</td>\n      <td>1.008408e+06</td>\n    </tr>\n    <tr>\n      <th>2023-09-14 15:59:20</th>\n      <td>10930131</td>\n      <td>162.99</td>\n      <td>163.040</td>\n      <td>162.9299</td>\n      <td>163.04</td>\n      <td>7158</td>\n      <td>4629</td>\n      <td>48</td>\n      <td>1.166735e+06</td>\n    </tr>\n    <tr>\n      <th>2023-09-14 15:59:39</th>\n      <td>10930171</td>\n      <td>163.04</td>\n      <td>163.050</td>\n      <td>162.9900</td>\n      <td>163.00</td>\n      <td>6316</td>\n      <td>3266</td>\n      <td>40</td>\n      <td>1.029639e+06</td>\n    </tr>\n    <tr>\n      <th>2023-09-14 15:59:59</th>\n      <td>10930208</td>\n      <td>162.99</td>\n      <td>163.000</td>\n      <td>162.9700</td>\n      <td>162.98</td>\n      <td>6234</td>\n      <td>2145</td>\n      <td>37</td>\n      <td>1.016030e+06</td>\n    </tr>\n    <tr>\n      <th>2023-09-14 16:00:00</th>\n      <td>10930213</td>\n      <td>162.98</td>\n      <td>163.000</td>\n      <td>162.9700</td>\n      <td>162.97</td>\n      <td>32257</td>\n      <td>335</td>\n      <td>5</td>\n      <td>5.256934e+06</td>\n    </tr>\n  </tbody>\n</table>\n<p>196440 rows × 9 columns</p>\n</div>"
     },
     "execution_count": 12,
     "metadata": {},
     "output_type": "execute_result"
    }
   ],
   "source": [
    "dollar"
   ],
   "metadata": {
    "collapsed": false,
    "ExecuteTime": {
     "end_time": "2023-09-16T09:59:37.138263Z",
     "start_time": "2023-09-16T09:59:37.114338Z"
    }
   },
   "id": "5b8da88188feac29"
  },
  {
   "cell_type": "markdown",
   "source": [
    "#### Vertical Barriers"
   ],
   "metadata": {
    "collapsed": false
   },
   "id": "5f4b98d98e29e28f"
  },
  {
   "cell_type": "code",
   "execution_count": 13,
   "outputs": [
    {
     "data": {
      "text/plain": "2009-09-28 09:52:47   2009-09-29 10:00:18\n2009-09-28 09:55:26   2009-09-29 10:00:18\n2009-09-28 10:02:48   2009-09-29 10:05:41\n2009-09-28 10:10:21   2009-09-29 10:17:47\n2009-09-28 10:14:19   2009-09-29 10:17:47\n                              ...        \n2023-09-13 15:55:22   2023-09-14 15:59:20\n2023-09-13 15:58:53   2023-09-14 15:59:20\n2023-09-13 15:59:39   2023-09-14 15:59:39\n2023-09-13 15:59:59   2023-09-14 15:59:59\n2023-09-13 16:00:00   2023-09-14 16:00:00\nLength: 196410, dtype: datetime64[ns]"
     },
     "execution_count": 13,
     "metadata": {},
     "output_type": "execute_result"
    }
   ],
   "source": [
    "vertical_barrier = add_vertical_barrier(cusum_events, dollar['close'], num_days = 1)\n",
    "vertical_barrier"
   ],
   "metadata": {
    "collapsed": false,
    "ExecuteTime": {
     "end_time": "2023-09-16T09:59:37.140770Z",
     "start_time": "2023-09-16T09:59:37.117127Z"
    }
   },
   "id": "dd2f8c073807b7e7"
  },
  {
   "cell_type": "markdown",
   "source": [
    "#### Triple Barrier Methods"
   ],
   "metadata": {
    "collapsed": false
   },
   "id": "c061b9e812703045"
  },
  {
   "cell_type": "code",
   "execution_count": 14,
   "outputs": [
    {
     "data": {
      "text/plain": "DatetimeIndex(['2009-09-28 09:52:47', '2009-09-28 09:55:26',\n               '2009-09-28 10:02:48', '2009-09-28 10:10:21',\n               '2009-09-28 10:14:19', '2009-09-28 10:23:42',\n               '2009-09-28 10:34:30', '2009-09-28 10:44:48',\n               '2009-09-28 11:02:36', '2009-09-28 11:15:44',\n               ...\n               '2023-09-14 15:01:31', '2023-09-14 15:07:06',\n               '2023-09-14 15:19:35', '2023-09-14 15:36:28',\n               '2023-09-14 15:46:26', '2023-09-14 15:54:32',\n               '2023-09-14 15:59:20', '2023-09-14 15:59:39',\n               '2023-09-14 15:59:59', '2023-09-14 16:00:00'],\n              dtype='datetime64[ns]', length=196440, freq=None)"
     },
     "execution_count": 14,
     "metadata": {},
     "output_type": "execute_result"
    }
   ],
   "source": [
    "cusum_events"
   ],
   "metadata": {
    "collapsed": false,
    "ExecuteTime": {
     "end_time": "2023-09-16T09:59:37.146375Z",
     "start_time": "2023-09-16T09:59:37.143638Z"
    }
   },
   "id": "fbcd8ffcb91c6554"
  },
  {
   "cell_type": "code",
   "execution_count": 15,
   "outputs": [],
   "source": [
    "vol = vol[~vol.index.duplicated(keep = 'first')]"
   ],
   "metadata": {
    "collapsed": false,
    "ExecuteTime": {
     "end_time": "2023-09-16T09:59:37.151923Z",
     "start_time": "2023-09-16T09:59:37.145908Z"
    }
   },
   "id": "4c0b827133da33d7"
  },
  {
   "cell_type": "code",
   "execution_count": 16,
   "outputs": [
    {
     "data": {
      "text/plain": "<Axes: xlabel='date_time'>"
     },
     "execution_count": 16,
     "metadata": {},
     "output_type": "execute_result"
    },
    {
     "data": {
      "text/plain": "<Figure size 640x480 with 1 Axes>",
      "image/png": "[encoded data removed]"
     },
     "metadata": {},
     "output_type": "display_data"
    }
   ],
   "source": [
    "vol.plot()"
   ],
   "metadata": {
    "collapsed": false,
    "ExecuteTime": {
     "end_time": "2023-09-16T09:59:37.480975Z",
     "start_time": "2023-09-16T09:59:37.152573Z"
    }
   },
   "id": "758548da36662f12"
  },
  {
   "cell_type": "code",
   "execution_count": 18,
   "outputs": [
    {
     "name": "stderr",
     "output_type": "stream",
     "text": [
      "/Users/junghunlee/Desktop/Pycharm/FinancialMachineLearning/FinancialMachineLearning/labeling/labeling.py:17: FutureWarning: iteritems is deprecated and will be removed in a future version. Use .items instead.\n",
      "  for loc, vertical_barrier in events_['t1'].fillna(close.index[-1]).iteritems():\n",
      "/Users/junghunlee/Desktop/Pycharm/FinancialMachineLearning/FinancialMachineLearning/multiprocess/multiprocess.py:47: FutureWarning: The frame.append method is deprecated and will be removed from pandas in a future version. Use pandas.concat instead.\n",
      "  df0 = df0.append(i)\n"
     ]
    },
    {
     "data": {
      "text/plain": "                                     t1      trgt  pt  sl\n2009-10-02 09:31:33 2009-10-02 10:35:54  0.010011   1   1\n2009-10-02 09:44:59 2009-10-02 10:35:54  0.010268   1   1\n2009-10-02 09:53:14 2009-10-05 09:35:17  0.010379   1   1\n2009-10-02 10:01:56 2009-10-05 09:35:17  0.010430   1   1\n2009-10-02 10:09:13 2009-10-05 09:35:17  0.010453   1   1\n...                                 ...       ...  ..  ..\n2023-05-08 15:16:20 2023-05-09 15:24:47  0.010701   1   1\n2023-05-08 15:16:37 2023-05-09 15:24:47  0.010595   1   1\n2023-05-08 15:36:39 2023-05-09 15:40:39  0.010387   1   1\n2023-05-08 15:47:11 2023-05-09 15:48:38  0.010283   1   1\n2023-05-08 15:54:13 2023-05-09 15:55:49  0.010182   1   1\n\n[30053 rows x 4 columns]",
      "text/html": "<div>\n<style scoped>\n    .dataframe tbody tr th:only-of-type {\n        vertical-align: middle;\n    }\n\n    .dataframe tbody tr th {\n        vertical-align: top;\n    }\n\n    .dataframe thead th {\n        text-align: right;\n    }\n</style>\n<table border=\"1\" class=\"dataframe\">\n  <thead>\n    <tr style=\"text-align: right;\">\n      <th></th>\n      <th>t1</th>\n      <th>trgt</th>\n      <th>pt</th>\n      <th>sl</th>\n    </tr>\n  </thead>\n  <tbody>\n    <tr>\n      <th>2009-10-02 09:31:33</th>\n      <td>2009-10-02 10:35:54</td>\n      <td>0.010011</td>\n      <td>1</td>\n      <td>1</td>\n    </tr>\n    <tr>\n      <th>2009-10-02 09:44:59</th>\n      <td>2009-10-02 10:35:54</td>\n      <td>0.010268</td>\n      <td>1</td>\n      <td>1</td>\n    </tr>\n    <tr>\n      <th>2009-10-02 09:53:14</th>\n      <td>2009-10-05 09:35:17</td>\n      <td>0.010379</td>\n      <td>1</td>\n      <td>1</td>\n    </tr>\n    <tr>\n      <th>2009-10-02 10:01:56</th>\n      <td>2009-10-05 09:35:17</td>\n      <td>0.010430</td>\n      <td>1</td>\n      <td>1</td>\n    </tr>\n    <tr>\n      <th>2009-10-02 10:09:13</th>\n      <td>2009-10-05 09:35:17</td>\n      <td>0.010453</td>\n      <td>1</td>\n      <td>1</td>\n    </tr>\n    <tr>\n      <th>...</th>\n      <td>...</td>\n      <td>...</td>\n      <td>...</td>\n      <td>...</td>\n    </tr>\n    <tr>\n      <th>2023-05-08 15:16:20</th>\n      <td>2023-05-09 15:24:47</td>\n      <td>0.010701</td>\n      <td>1</td>\n      <td>1</td>\n    </tr>\n    <tr>\n      <th>2023-05-08 15:16:37</th>\n      <td>2023-05-09 15:24:47</td>\n      <td>0.010595</td>\n      <td>1</td>\n      <td>1</td>\n    </tr>\n    <tr>\n      <th>2023-05-08 15:36:39</th>\n      <td>2023-05-09 15:40:39</td>\n      <td>0.010387</td>\n      <td>1</td>\n      <td>1</td>\n    </tr>\n    <tr>\n      <th>2023-05-08 15:47:11</th>\n      <td>2023-05-09 15:48:38</td>\n      <td>0.010283</td>\n      <td>1</td>\n      <td>1</td>\n    </tr>\n    <tr>\n      <th>2023-05-08 15:54:13</th>\n      <td>2023-05-09 15:55:49</td>\n      <td>0.010182</td>\n      <td>1</td>\n      <td>1</td>\n    </tr>\n  </tbody>\n</table>\n<p>30053 rows × 4 columns</p>\n</div>"
     },
     "execution_count": 18,
     "metadata": {},
     "output_type": "execute_result"
    }
   ],
   "source": [
    "triple_barrier_events = get_events(close = dollar['close'],\n",
    "                                   t_events = cusum_events[34:],\n",
    "                                   pt_sl = [1, 1],\n",
    "                                   target = vol,\n",
    "                                   min_ret = 0.01,\n",
    "                                   num_threads = 1,\n",
    "                                   vertical_barrier_times = vertical_barrier,\n",
    "                                   side_prediction = None)\n",
    "triple_barrier_events"
   ],
   "metadata": {
    "collapsed": false,
    "ExecuteTime": {
     "end_time": "2023-09-16T10:00:20.784772Z",
     "start_time": "2023-09-16T10:00:05.958932Z"
    }
   },
   "id": "ca611f9395b8369d"
  },
  {
   "cell_type": "markdown",
   "source": [
    "#### Labeling"
   ],
   "metadata": {
    "collapsed": false
   },
   "id": "ca127736ac554be5"
  },
  {
   "cell_type": "code",
   "execution_count": 19,
   "outputs": [
    {
     "data": {
      "text/plain": "                          ret      trgt  bin\n2009-10-02 09:31:33  0.011168  0.010011    1\n2009-10-02 09:44:59  0.010552  0.010268    1\n2009-10-02 09:53:14  0.006066  0.010379    0\n2009-10-02 10:01:56  0.008308  0.010430    0\n2009-10-02 10:09:13  0.007216  0.010453    0\n...                       ...       ...  ...\n2023-05-08 15:16:20 -0.002736  0.010701    0\n2023-05-08 15:16:37 -0.002301  0.010595    0\n2023-05-08 15:36:39 -0.002368  0.010387    0\n2023-05-08 15:47:11 -0.003483  0.010283    0\n2023-05-08 15:54:13 -0.003402  0.010182    0\n\n[30053 rows x 3 columns]",
      "text/html": "<div>\n<style scoped>\n    .dataframe tbody tr th:only-of-type {\n        vertical-align: middle;\n    }\n\n    .dataframe tbody tr th {\n        vertical-align: top;\n    }\n\n    .dataframe thead th {\n        text-align: right;\n    }\n</style>\n<table border=\"1\" class=\"dataframe\">\n  <thead>\n    <tr style=\"text-align: right;\">\n      <th></th>\n      <th>ret</th>\n      <th>trgt</th>\n      <th>bin</th>\n    </tr>\n  </thead>\n  <tbody>\n    <tr>\n      <th>2009-10-02 09:31:33</th>\n      <td>0.011168</td>\n      <td>0.010011</td>\n      <td>1</td>\n    </tr>\n    <tr>\n      <th>2009-10-02 09:44:59</th>\n      <td>0.010552</td>\n      <td>0.010268</td>\n      <td>1</td>\n    </tr>\n    <tr>\n      <th>2009-10-02 09:53:14</th>\n      <td>0.006066</td>\n      <td>0.010379</td>\n      <td>0</td>\n    </tr>\n    <tr>\n      <th>2009-10-02 10:01:56</th>\n      <td>0.008308</td>\n      <td>0.010430</td>\n      <td>0</td>\n    </tr>\n    <tr>\n      <th>2009-10-02 10:09:13</th>\n      <td>0.007216</td>\n      <td>0.010453</td>\n      <td>0</td>\n    </tr>\n    <tr>\n      <th>...</th>\n      <td>...</td>\n      <td>...</td>\n      <td>...</td>\n    </tr>\n    <tr>\n      <th>2023-05-08 15:16:20</th>\n      <td>-0.002736</td>\n      <td>0.010701</td>\n      <td>0</td>\n    </tr>\n    <tr>\n      <th>2023-05-08 15:16:37</th>\n      <td>-0.002301</td>\n      <td>0.010595</td>\n      <td>0</td>\n    </tr>\n    <tr>\n      <th>2023-05-08 15:36:39</th>\n      <td>-0.002368</td>\n      <td>0.010387</td>\n      <td>0</td>\n    </tr>\n    <tr>\n      <th>2023-05-08 15:47:11</th>\n      <td>-0.003483</td>\n      <td>0.010283</td>\n      <td>0</td>\n    </tr>\n    <tr>\n      <th>2023-05-08 15:54:13</th>\n      <td>-0.003402</td>\n      <td>0.010182</td>\n      <td>0</td>\n    </tr>\n  </tbody>\n</table>\n<p>30053 rows × 3 columns</p>\n</div>"
     },
     "execution_count": 19,
     "metadata": {},
     "output_type": "execute_result"
    }
   ],
   "source": [
    "labels = meta_labeling(triple_barrier_events, dollar['close'])\n",
    "labels"
   ],
   "metadata": {
    "collapsed": false,
    "ExecuteTime": {
     "end_time": "2023-09-16T10:01:56.603314Z",
     "start_time": "2023-09-16T10:01:55.435191Z"
    }
   },
   "id": "3e68a0f0816a9099"
  },
  {
   "cell_type": "code",
   "execution_count": 20,
   "outputs": [
    {
     "data": {
      "text/plain": " 0    13830\n-1     8290\n 1     7933\nName: bin, dtype: int64"
     },
     "execution_count": 20,
     "metadata": {},
     "output_type": "execute_result"
    }
   ],
   "source": [
    "labels['bin'].value_counts()"
   ],
   "metadata": {
    "collapsed": false,
    "ExecuteTime": {
     "end_time": "2023-09-16T10:01:57.604998Z",
     "start_time": "2023-09-16T10:01:57.599427Z"
    }
   },
   "id": "21fdb3e79c52da9b"
  },
  {
   "cell_type": "markdown",
   "source": [
    "#### Drop Labels"
   ],
   "metadata": {
    "collapsed": false
   },
   "id": "8dff080ca43e1030"
  },
  {
   "cell_type": "code",
   "execution_count": 21,
   "outputs": [],
   "source": [
    "clean_labels = drop_labels(labels)"
   ],
   "metadata": {
    "collapsed": false,
    "ExecuteTime": {
     "end_time": "2023-09-16T10:02:00.305911Z",
     "start_time": "2023-09-16T10:02:00.298237Z"
    }
   },
   "id": "2de0e2dadd988aad"
  },
  {
   "cell_type": "code",
   "execution_count": 22,
   "outputs": [
    {
     "data": {
      "text/plain": "                          ret      trgt  bin\n2009-10-02 09:31:33  0.011168  0.010011    1\n2009-10-02 09:44:59  0.010552  0.010268    1\n2009-10-02 09:53:14  0.006066  0.010379    0\n2009-10-02 10:01:56  0.008308  0.010430    0\n2009-10-02 10:09:13  0.007216  0.010453    0\n...                       ...       ...  ...\n2023-05-08 15:16:20 -0.002736  0.010701    0\n2023-05-08 15:16:37 -0.002301  0.010595    0\n2023-05-08 15:36:39 -0.002368  0.010387    0\n2023-05-08 15:47:11 -0.003483  0.010283    0\n2023-05-08 15:54:13 -0.003402  0.010182    0\n\n[30053 rows x 3 columns]",
      "text/html": "<div>\n<style scoped>\n    .dataframe tbody tr th:only-of-type {\n        vertical-align: middle;\n    }\n\n    .dataframe tbody tr th {\n        vertical-align: top;\n    }\n\n    .dataframe thead th {\n        text-align: right;\n    }\n</style>\n<table border=\"1\" class=\"dataframe\">\n  <thead>\n    <tr style=\"text-align: right;\">\n      <th></th>\n      <th>ret</th>\n      <th>trgt</th>\n      <th>bin</th>\n    </tr>\n  </thead>\n  <tbody>\n    <tr>\n      <th>2009-10-02 09:31:33</th>\n      <td>0.011168</td>\n      <td>0.010011</td>\n      <td>1</td>\n    </tr>\n    <tr>\n      <th>2009-10-02 09:44:59</th>\n      <td>0.010552</td>\n      <td>0.010268</td>\n      <td>1</td>\n    </tr>\n    <tr>\n      <th>2009-10-02 09:53:14</th>\n      <td>0.006066</td>\n      <td>0.010379</td>\n      <td>0</td>\n    </tr>\n    <tr>\n      <th>2009-10-02 10:01:56</th>\n      <td>0.008308</td>\n      <td>0.010430</td>\n      <td>0</td>\n    </tr>\n    <tr>\n      <th>2009-10-02 10:09:13</th>\n      <td>0.007216</td>\n      <td>0.010453</td>\n      <td>0</td>\n    </tr>\n    <tr>\n      <th>...</th>\n      <td>...</td>\n      <td>...</td>\n      <td>...</td>\n    </tr>\n    <tr>\n      <th>2023-05-08 15:16:20</th>\n      <td>-0.002736</td>\n      <td>0.010701</td>\n      <td>0</td>\n    </tr>\n    <tr>\n      <th>2023-05-08 15:16:37</th>\n      <td>-0.002301</td>\n      <td>0.010595</td>\n      <td>0</td>\n    </tr>\n    <tr>\n      <th>2023-05-08 15:36:39</th>\n      <td>-0.002368</td>\n      <td>0.010387</td>\n      <td>0</td>\n    </tr>\n    <tr>\n      <th>2023-05-08 15:47:11</th>\n      <td>-0.003483</td>\n      <td>0.010283</td>\n      <td>0</td>\n    </tr>\n    <tr>\n      <th>2023-05-08 15:54:13</th>\n      <td>-0.003402</td>\n      <td>0.010182</td>\n      <td>0</td>\n    </tr>\n  </tbody>\n</table>\n<p>30053 rows × 3 columns</p>\n</div>"
     },
     "execution_count": 22,
     "metadata": {},
     "output_type": "execute_result"
    }
   ],
   "source": [
    "clean_labels"
   ],
   "metadata": {
    "collapsed": false,
    "ExecuteTime": {
     "end_time": "2023-09-16T10:02:00.925923Z",
     "start_time": "2023-09-16T10:02:00.918908Z"
    }
   },
   "id": "ff4e85c432199951"
  }
 ],
 "metadata": {
  "kernelspec": {
   "display_name": "Python 3",
   "language": "python",
   "name": "python3"
  },
  "language_info": {
   "codemirror_mode": {
    "name": "ipython",
    "version": 2
   },
   "file_extension": ".py",
   "mimetype": "text/x-python",
   "name": "python",
   "nbconvert_exporter": "python",
   "pygments_lexer": "ipython2",
   "version": "2.7.6"
  }
 },
 "nbformat": 4,
 "nbformat_minor": 5
}
