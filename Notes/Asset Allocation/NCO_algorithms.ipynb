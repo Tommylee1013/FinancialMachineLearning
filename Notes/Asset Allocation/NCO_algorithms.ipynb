{
 "cells": [
  {
   "cell_type": "markdown",
   "source": [
    "### NCO Algorithm\n",
    "\n",
    "Machine Learning for Asset Manager, Chapter 7 \"portfolio construction\""
   ],
   "metadata": {
    "collapsed": false
   },
   "id": "83a86fbc69ee018a"
  },
  {
   "cell_type": "code",
   "execution_count": 1,
   "id": "initial_id",
   "metadata": {
    "collapsed": true,
    "ExecuteTime": {
     "end_time": "2023-10-01T15:05:49.068110Z",
     "start_time": "2023-10-01T15:05:48.927423Z"
    }
   },
   "outputs": [],
   "source": [
    "import pandas as pd\n",
    "import numpy as np\n",
    "import matplotlib.pyplot as plt\n",
    "import seaborn as sns\n",
    "\n",
    "from FinancialMachineLearning.filter.denoising import *\n",
    "from FinancialMachineLearning.portfolio_optimization.clustering import *\n",
    "\n",
    "import warnings\n",
    "warnings.filterwarnings('ignore')"
   ]
  },
  {
   "cell_type": "markdown",
   "source": [
    "상관계수가 0이 아닐 때 포트폴리오 최적화 조건의 수"
   ],
   "metadata": {
    "collapsed": false
   },
   "id": "b30801b4c6961838"
  },
  {
   "cell_type": "code",
   "execution_count": 2,
   "outputs": [
    {
     "name": "stdout",
     "output_type": "stream",
     "text": [
      "3.0\n"
     ]
    }
   ],
   "source": [
    "corr0 = GenerateSamples.formBlockMatrix(2, 2, 0.5)\n",
    "eVal, eVec = np.linalg.eigh(corr0)\n",
    "print(max(eVal) / min(eVal))"
   ],
   "metadata": {
    "collapsed": false,
    "ExecuteTime": {
     "end_time": "2023-10-01T15:05:49.077736Z",
     "start_time": "2023-10-01T15:05:49.069787Z"
    }
   },
   "id": "bf57d25f250aaf8a"
  },
  {
   "cell_type": "markdown",
   "source": [
    "블록 내 상관관계는 0.5이고, 외부 블록 상관관계는 0이다. 이러한 구조 때문에 조건의 수는 1이 아닌 3으로 계산된다"
   ],
   "metadata": {
    "collapsed": false
   },
   "id": "c757eabbd02d5f48"
  },
  {
   "cell_type": "code",
   "execution_count": 3,
   "outputs": [
    {
     "data": {
      "text/plain": "<Axes: >"
     },
     "execution_count": 3,
     "metadata": {},
     "output_type": "execute_result"
    },
    {
     "data": {
      "text/plain": "<Figure size 640x480 with 2 Axes>",
      "image/png": "[encoded data removed]"
     },
     "metadata": {},
     "output_type": "display_data"
    }
   ],
   "source": [
    "sns.heatmap(corr0)"
   ],
   "metadata": {
    "collapsed": false,
    "ExecuteTime": {
     "end_time": "2023-10-01T15:05:49.178755Z",
     "start_time": "2023-10-01T15:05:49.072634Z"
    }
   },
   "id": "a03262dee954a5b8"
  },
  {
   "cell_type": "markdown",
   "source": [
    "지배적인 군집을 별도로 최적화해도 조건의 수는 달라지지 않는다. Markowitz의 해의 불안정성은 상관행렬 내 소수의 지배적인 군집에서 기인할 수 있다. 별도로 최적화를 하면 불안정성을 억제할 수 있고, 따라서 불안정성이 포트폴리오 전체로 확산되는 것을 방지할 수 있다"
   ],
   "metadata": {
    "collapsed": false
   },
   "id": "1b0b2b19bb88dddb"
  },
  {
   "cell_type": "code",
   "execution_count": 4,
   "outputs": [
    {
     "name": "stdout",
     "output_type": "stream",
     "text": [
      "3.0\n"
     ]
    }
   ],
   "source": [
    "corr0 = block_diag(GenerateSamples.formBlockMatrix(1, 2, 0.5))\n",
    "corr1 = GenerateSamples.formBlockMatrix(1, 2, 0)\n",
    "corr0 = block_diag(corr0, corr1)\n",
    "\n",
    "eVal, eVec = np.linalg.eigh(corr0)\n",
    "print(max(eVal) / min(eVal))"
   ],
   "metadata": {
    "collapsed": false,
    "ExecuteTime": {
     "end_time": "2023-10-01T15:05:49.187066Z",
     "start_time": "2023-10-01T15:05:49.180472Z"
    }
   },
   "id": "21f3e657bbf62d02"
  },
  {
   "cell_type": "markdown",
   "source": [
    "#### Nested Clustered Optimization"
   ],
   "metadata": {
    "collapsed": false
   },
   "id": "ed66cdf6cd1e262c"
  },
  {
   "cell_type": "code",
   "execution_count": 6,
   "outputs": [],
   "source": [
    "nBlocks, bSize, bCorr, q  = 2, 2, .5, 10\n",
    "np.random.seed(42)\n",
    "mu0, cov0 = GenerateSamples.formTrueMatrix(nBlocks, bSize, bCorr)"
   ],
   "metadata": {
    "collapsed": false,
    "ExecuteTime": {
     "end_time": "2023-10-01T15:05:49.249311Z",
     "start_time": "2023-10-01T15:05:49.245040Z"
    }
   },
   "id": "994669c0ce7c84af"
  },
  {
   "cell_type": "code",
   "execution_count": 7,
   "outputs": [],
   "source": [
    "cols = cov0.columns"
   ],
   "metadata": {
    "collapsed": false,
    "ExecuteTime": {
     "end_time": "2023-10-01T15:05:49.260276Z",
     "start_time": "2023-10-01T15:05:49.249604Z"
    }
   },
   "id": "e30e72382bcbdc7"
  },
  {
   "cell_type": "code",
   "execution_count": 8,
   "outputs": [],
   "source": [
    "cov1 = GenerateSamples.denoise_covariance(cov0, q, bWidth = 0.01)\n",
    "cov1 = pd.DataFrame(cov1, index = cols, columns = cols)\n",
    "corr1 = covariance_to_correlation(cov1)\n",
    "corr1, clusters, silh = clusterKMeansBase(corr1, maxNumClusters = int(corr0.shape[0]/2), n_init = 10)"
   ],
   "metadata": {
    "collapsed": false,
    "ExecuteTime": {
     "end_time": "2023-10-01T15:05:49.468777Z",
     "start_time": "2023-10-01T15:05:49.267990Z"
    }
   },
   "id": "46fe09a4420181c7"
  },
  {
   "cell_type": "code",
   "execution_count": 9,
   "outputs": [],
   "source": [
    "wIntra = pd.DataFrame(0, index = cov1.index, columns = clusters.keys())\n",
    "for i in clusters : wIntra.loc[clusters[i], i] = optimizing_portfolio(cov1.loc[clusters[i], clusters[i]]).flatten()\n",
    "cov2 = wIntra.T.dot(np.dot(cov1, wIntra))"
   ],
   "metadata": {
    "collapsed": false,
    "ExecuteTime": {
     "end_time": "2023-10-01T15:05:49.483810Z",
     "start_time": "2023-10-01T15:05:49.467451Z"
    }
   },
   "id": "edaea64ac799b015"
  },
  {
   "cell_type": "markdown",
   "source": [
    "cov2는 축약된 공분산 행렬을 나타낸다"
   ],
   "metadata": {
    "collapsed": false
   },
   "id": "bc9f98b40e50176b"
  },
  {
   "cell_type": "code",
   "execution_count": 10,
   "outputs": [
    {
     "data": {
      "text/plain": "          0         1\n0  0.005376  0.000000\n1  0.000000  0.005383",
      "text/html": "<div>\n<style scoped>\n    .dataframe tbody tr th:only-of-type {\n        vertical-align: middle;\n    }\n\n    .dataframe tbody tr th {\n        vertical-align: top;\n    }\n\n    .dataframe thead th {\n        text-align: right;\n    }\n</style>\n<table border=\"1\" class=\"dataframe\">\n  <thead>\n    <tr style=\"text-align: right;\">\n      <th></th>\n      <th>0</th>\n      <th>1</th>\n    </tr>\n  </thead>\n  <tbody>\n    <tr>\n      <th>0</th>\n      <td>0.005376</td>\n      <td>0.000000</td>\n    </tr>\n    <tr>\n      <th>1</th>\n      <td>0.000000</td>\n      <td>0.005383</td>\n    </tr>\n  </tbody>\n</table>\n</div>"
     },
     "execution_count": 10,
     "metadata": {},
     "output_type": "execute_result"
    }
   ],
   "source": [
    "cov2"
   ],
   "metadata": {
    "collapsed": false,
    "ExecuteTime": {
     "end_time": "2023-10-01T15:05:49.514537Z",
     "start_time": "2023-10-01T15:05:49.480830Z"
    }
   },
   "id": "fc4b4ae2e445e93b"
  },
  {
   "cell_type": "markdown",
   "source": [
    "Markowitz의 저주에서 벗어나 $\\rho \\sim 0$인 상태에서의 문제로 변환 가능하다. 아래 코드를 통해 최적 배분을 시행한다"
   ],
   "metadata": {
    "collapsed": false
   },
   "id": "63bf9a5ddde2c554"
  },
  {
   "cell_type": "code",
   "execution_count": 11,
   "outputs": [],
   "source": [
    "winter = pd.Series(optimizing_portfolio(cov2).flatten(), index = cov2.index)\n",
    "wAII0 = wIntra.mul(winter, axis = 1).sum(axis = 1).sort_index()"
   ],
   "metadata": {
    "collapsed": false,
    "ExecuteTime": {
     "end_time": "2023-10-01T15:05:49.515337Z",
     "start_time": "2023-10-01T15:05:49.495652Z"
    }
   },
   "id": "9a3722fbc54ced38"
  },
  {
   "cell_type": "markdown",
   "source": [
    "**실험 결과**"
   ],
   "metadata": {
    "collapsed": false
   },
   "id": "3fc3157e35bab7e1"
  },
  {
   "cell_type": "code",
   "execution_count": 13,
   "outputs": [],
   "source": [
    "nBlocks, bSize, bCorr = 10, 50, 0.5\n",
    "np.random.seed(42)\n",
    "mu0, cov0 = GenerateSamples.formTrueMatrix(nBlocks, bSize, bCorr)"
   ],
   "metadata": {
    "collapsed": false,
    "ExecuteTime": {
     "end_time": "2023-10-01T15:05:49.611203Z",
     "start_time": "2023-10-01T15:05:49.507931Z"
    }
   },
   "id": "851d638ad14cf6a3"
  },
  {
   "cell_type": "code",
   "execution_count": 14,
   "outputs": [],
   "source": [
    "nObs, nSims, shrink, minVarPortf = 100, 10, False, True\n",
    "w1 = pd.Series([])\n",
    "w1_d = pd.Series([])\n",
    "for i in range(nSims) :\n",
    "    mu1, cov1 = GenerateSamples.simCovMu(mu0, cov0, nObs, shrink = shrink)\n",
    "    if minVarPortf : mu1 = None\n",
    "    w1.loc[i] = optimizing_portfolio(cov1, mu1).flatten()\n",
    "    w1_d.loc[i] = nested_clustered_optimization(cov1, mu1, int(cov1.shape[0]/2)).flatten()"
   ],
   "metadata": {
    "collapsed": false,
    "ExecuteTime": {
     "end_time": "2023-10-01T15:42:35.768607Z",
     "start_time": "2023-10-01T15:05:49.522264Z"
    }
   },
   "id": "e6aa98d882e4dd4"
  },
  {
   "cell_type": "code",
   "execution_count": 15,
   "outputs": [],
   "source": [
    "temp1 = pd.DataFrame()\n",
    "for i in range(10) :\n",
    "    temp1[i] = w1[i]"
   ],
   "metadata": {
    "collapsed": false,
    "ExecuteTime": {
     "end_time": "2023-10-01T15:42:35.829777Z",
     "start_time": "2023-10-01T15:42:35.781896Z"
    }
   },
   "id": "58996b5378eac7f1"
  },
  {
   "cell_type": "code",
   "execution_count": 17,
   "outputs": [],
   "source": [
    "w1 = temp1.values.T"
   ],
   "metadata": {
    "collapsed": false,
    "ExecuteTime": {
     "end_time": "2023-10-01T15:43:00.284440Z",
     "start_time": "2023-10-01T15:43:00.269925Z"
    }
   },
   "id": "1e0a1a272df4f953"
  },
  {
   "cell_type": "code",
   "execution_count": 18,
   "outputs": [],
   "source": [
    "temp2 = pd.DataFrame()\n",
    "for i in range(10) :\n",
    "    temp2[i] = w1_d[i]"
   ],
   "metadata": {
    "collapsed": false,
    "ExecuteTime": {
     "end_time": "2023-10-01T15:43:00.930599Z",
     "start_time": "2023-10-01T15:43:00.923461Z"
    }
   },
   "id": "b1390830b980a26b"
  },
  {
   "cell_type": "code",
   "execution_count": 19,
   "outputs": [],
   "source": [
    "w1_d = temp2.values.T"
   ],
   "metadata": {
    "collapsed": false,
    "ExecuteTime": {
     "end_time": "2023-10-01T15:43:01.300753Z",
     "start_time": "2023-10-01T15:43:01.294309Z"
    }
   },
   "id": "e70cd32f981f9a8f"
  },
  {
   "cell_type": "code",
   "execution_count": 20,
   "outputs": [],
   "source": [
    "w0 = optimizing_portfolio(cov0, None if minVarPortf else mu0)\n",
    "w0 = np.repeat(w0.T, w1.shape[0], axis = 0)\n",
    "rmsd = np.mean(pd.DataFrame(w1 - w0).values.flatten() ** 2) ** 0.5\n",
    "rmsd_d = np.mean(pd.DataFrame(w1_d - w0).values.flatten() ** 2) ** 0.5"
   ],
   "metadata": {
    "collapsed": false,
    "ExecuteTime": {
     "end_time": "2023-10-01T15:43:01.812334Z",
     "start_time": "2023-10-01T15:43:01.728019Z"
    }
   },
   "id": "3833427ef63c6808"
  },
  {
   "cell_type": "code",
   "execution_count": 39,
   "outputs": [
    {
     "name": "stdout",
     "output_type": "stream",
     "text": [
      "RMSE : 0.007048263584716212\n",
      "RMSE : 0.28435956447326455\n"
     ]
    }
   ],
   "source": [
    "rmse = np.mean(pd.DataFrame(w0).values.flatten() ** 2) ** 0.5\n",
    "rmse1 = np.mean(pd.DataFrame(w1).values.flatten() ** 2) ** 0.5\n",
    "\n",
    "print(f'RMSE : {rmse}')\n",
    "print(f'RMSE : {rmse1}')"
   ],
   "metadata": {
    "collapsed": false,
    "ExecuteTime": {
     "end_time": "2023-10-01T16:55:20.867928Z",
     "start_time": "2023-10-01T16:55:20.864453Z"
    }
   },
   "id": "b325aa183eadad93"
  },
  {
   "cell_type": "code",
   "execution_count": 34,
   "outputs": [
    {
     "name": "stdout",
     "output_type": "stream",
     "text": [
      "RMSE : 0.2843798384568882\n",
      "RMSE : 0.005670717379949412\n"
     ]
    }
   ],
   "source": [
    "print(f'RMSE : {rmsd}')\n",
    "print(f'RMSE : {rmsd_d}')"
   ],
   "metadata": {
    "collapsed": false,
    "ExecuteTime": {
     "end_time": "2023-10-01T16:52:57.206505Z",
     "start_time": "2023-10-01T16:52:57.200514Z"
    }
   },
   "id": "51b4f9069c2a04ad"
  },
  {
   "cell_type": "markdown",
   "source": [
    "#### Maximum Sharpe Ratio Portfolio"
   ],
   "metadata": {
    "collapsed": false
   },
   "id": "9829d57300f14466"
  },
  {
   "cell_type": "code",
   "execution_count": 24,
   "outputs": [],
   "source": [
    "nObs, nSims, shrink, minVarPortf = 100, 10, True, True\n",
    "w2 = pd.Series()\n",
    "w2_d = pd.Series()\n",
    "for i in range(nSims) :\n",
    "    mu2, cov2 = GenerateSamples.simCovMu(mu0, cov0, nObs, shrink = shrink)\n",
    "    if minVarPortf : mu2 = None\n",
    "    w2.loc[i] = optimizing_portfolio(cov2, mu2).flatten()\n",
    "    w2_d.loc[i] = nested_clustered_optimization(cov2, mu2, int(cov2.shape[0]/2)).flatten()"
   ],
   "metadata": {
    "collapsed": false,
    "ExecuteTime": {
     "end_time": "2023-10-01T16:41:49.028279Z",
     "start_time": "2023-10-01T16:00:11.377031Z"
    }
   },
   "id": "dd4c546146f955a8"
  },
  {
   "cell_type": "code",
   "execution_count": 25,
   "outputs": [],
   "source": [
    "temp1 = pd.DataFrame()\n",
    "for i in range(10) :\n",
    "    temp1[i] = w2[i]"
   ],
   "metadata": {
    "collapsed": false,
    "ExecuteTime": {
     "end_time": "2023-10-01T16:42:39.765018Z",
     "start_time": "2023-10-01T16:42:39.741321Z"
    }
   },
   "id": "3b1cbe9b312a083e"
  },
  {
   "cell_type": "code",
   "execution_count": 26,
   "outputs": [],
   "source": [
    "w2 = temp1.values.T"
   ],
   "metadata": {
    "collapsed": false,
    "ExecuteTime": {
     "end_time": "2023-10-01T16:42:47.127297Z",
     "start_time": "2023-10-01T16:42:47.099037Z"
    }
   },
   "id": "adc207dd850895d6"
  },
  {
   "cell_type": "code",
   "execution_count": 27,
   "outputs": [],
   "source": [
    "temp2 = pd.DataFrame()\n",
    "for i in range(10) :\n",
    "    temp2[i] = w2_d[i]\n",
    "w2_d = temp2.values.T"
   ],
   "metadata": {
    "collapsed": false,
    "ExecuteTime": {
     "end_time": "2023-10-01T16:43:01.164076Z",
     "start_time": "2023-10-01T16:43:01.137735Z"
    }
   },
   "id": "5062df7550908c4d"
  },
  {
   "cell_type": "code",
   "execution_count": 36,
   "outputs": [
    {
     "name": "stdout",
     "output_type": "stream",
     "text": [
      "RMSE : 0.007048263584716212\n"
     ]
    }
   ],
   "source": [
    "rmse2 = np.mean(pd.DataFrame(w0).values.flatten() ** 2) ** 0.5\n",
    "\n",
    "print(f'RMSE : {rmse2}')"
   ],
   "metadata": {
    "collapsed": false,
    "ExecuteTime": {
     "end_time": "2023-10-01T16:54:33.572326Z",
     "start_time": "2023-10-01T16:54:33.560655Z"
    }
   },
   "id": "18b74b78d35dd796"
  },
  {
   "cell_type": "code",
   "execution_count": 28,
   "outputs": [],
   "source": [
    "rmsd2 = np.mean(pd.DataFrame(w2 - w0).values.flatten() ** 2) ** 0.5\n",
    "rmsd_d2 = np.mean(pd.DataFrame(w2_d - w0).values.flatten() ** 2) ** 0.5"
   ],
   "metadata": {
    "collapsed": false,
    "ExecuteTime": {
     "end_time": "2023-10-01T16:50:36.985758Z",
     "start_time": "2023-10-01T16:50:36.964130Z"
    }
   },
   "id": "6a09523301277060"
  },
  {
   "cell_type": "code",
   "execution_count": 33,
   "outputs": [
    {
     "name": "stdout",
     "output_type": "stream",
     "text": [
      "RMSE : 0.0055076240066797314\n",
      "RMSE : 0.00357341934959203\n"
     ]
    }
   ],
   "source": [
    "print(f'RMSE : {rmsd2}')\n",
    "print(f'RMSE : {rmsd_d2}')"
   ],
   "metadata": {
    "collapsed": false,
    "ExecuteTime": {
     "end_time": "2023-10-01T16:52:43.258596Z",
     "start_time": "2023-10-01T16:52:43.231280Z"
    }
   },
   "id": "e2f4c511cfaa56f9"
  }
 ],
 "metadata": {
  "kernelspec": {
   "display_name": "Python 3",
   "language": "python",
   "name": "python3"
  },
  "language_info": {
   "codemirror_mode": {
    "name": "ipython",
    "version": 2
   },
   "file_extension": ".py",
   "mimetype": "text/x-python",
   "name": "python",
   "nbconvert_exporter": "python",
   "pygments_lexer": "ipython2",
   "version": "2.7.6"
  }
 },
 "nbformat": 4,
 "nbformat_minor": 5
}
