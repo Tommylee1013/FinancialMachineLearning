{
 "cells": [
  {
   "cell_type": "markdown",
   "source": [
    "#### Data Import"
   ],
   "metadata": {
    "collapsed": false
   },
   "id": "e93bba53a9404b8"
  },
  {
   "cell_type": "code",
   "execution_count": 1,
   "id": "initial_id",
   "metadata": {
    "collapsed": true,
    "ExecuteTime": {
     "end_time": "2023-09-29T04:21:02.912719Z",
     "start_time": "2023-09-29T04:21:01.036780Z"
    }
   },
   "outputs": [
    {
     "name": "stderr",
     "output_type": "stream",
     "text": [
      "/Users/junghunlee/Desktop/Pycharm/FinancialMachineLearning/FinancialMachineLearning/multiprocess/fast_ewma.py:5: NumbaDeprecationWarning: The keyword argument 'nopython=False' was supplied. From Numba 0.59.0 the default is being changed to True and use of 'nopython=False' will raise a warning as the argument will have no effect. See https://numba.readthedocs.io/en/stable/reference/deprecation.html#deprecation-of-object-mode-fall-back-behaviour-when-using-jit for details.\n",
      "  @jit((float64[:], int64), nopython = False, nogil = True)\n"
     ]
    }
   ],
   "source": [
    "import numpy as np\n",
    "import pandas as pd\n",
    "import matplotlib.pyplot as plt\n",
    "from FinancialMachineLearning.features.concurrency import *\n",
    "from FinancialMachineLearning.multiprocess import multiprocess\n",
    "import warnings\n",
    "warnings.filterwarnings('ignore')"
   ]
  },
  {
   "cell_type": "code",
   "execution_count": 2,
   "outputs": [
    {
     "data": {
      "text/plain": "                     tick_num    open     high       low   close  volume  \\\ndate_time                                                                  \n2009-09-28 09:46:34        80   50.79   51.070   50.7100   51.07   20044   \n2009-09-28 09:52:47       142   51.07   51.148   51.0500   51.13   21024   \n2009-09-28 09:54:38       201   51.14   51.150   51.1290   51.13   19951   \n2009-09-28 09:55:26       243   51.13   51.150   51.1300   51.14   19652   \n2009-09-28 10:02:48       339   51.14   51.260   51.0800   51.25   19943   \n...                       ...     ...      ...       ...     ...     ...   \n2023-09-14 15:54:32  10930083  162.98  163.060  162.9654  162.98    6186   \n2023-09-14 15:59:20  10930131  162.99  163.040  162.9299  163.04    7158   \n2023-09-14 15:59:39  10930171  163.04  163.050  162.9900  163.00    6316   \n2023-09-14 15:59:59  10930208  162.99  163.000  162.9700  162.98    6234   \n2023-09-14 16:00:00  10930213  162.98  163.000  162.9700  162.97   32257   \n\n                     cum_buy_volume  cum_ticks  cum_dollar_value  \ndate_time                                                         \n2009-09-28 09:46:34           13264         80      1.020027e+06  \n2009-09-28 09:52:47           19774         62      1.073986e+06  \n2009-09-28 09:54:38            6951         59      1.020145e+06  \n2009-09-28 09:55:26           18052         42      1.004999e+06  \n2009-09-28 10:02:48           11354         96      1.020512e+06  \n...                             ...        ...               ...  \n2023-09-14 15:54:32            3983         39      1.008408e+06  \n2023-09-14 15:59:20            4629         48      1.166735e+06  \n2023-09-14 15:59:39            3266         40      1.029639e+06  \n2023-09-14 15:59:59            2145         37      1.016030e+06  \n2023-09-14 16:00:00             335          5      5.256934e+06  \n\n[215833 rows x 9 columns]",
      "text/html": "<div>\n<style scoped>\n    .dataframe tbody tr th:only-of-type {\n        vertical-align: middle;\n    }\n\n    .dataframe tbody tr th {\n        vertical-align: top;\n    }\n\n    .dataframe thead th {\n        text-align: right;\n    }\n</style>\n<table border=\"1\" class=\"dataframe\">\n  <thead>\n    <tr style=\"text-align: right;\">\n      <th></th>\n      <th>tick_num</th>\n      <th>open</th>\n      <th>high</th>\n      <th>low</th>\n      <th>close</th>\n      <th>volume</th>\n      <th>cum_buy_volume</th>\n      <th>cum_ticks</th>\n      <th>cum_dollar_value</th>\n    </tr>\n    <tr>\n      <th>date_time</th>\n      <th></th>\n      <th></th>\n      <th></th>\n      <th></th>\n      <th></th>\n      <th></th>\n      <th></th>\n      <th></th>\n      <th></th>\n    </tr>\n  </thead>\n  <tbody>\n    <tr>\n      <th>2009-09-28 09:46:34</th>\n      <td>80</td>\n      <td>50.79</td>\n      <td>51.070</td>\n      <td>50.7100</td>\n      <td>51.07</td>\n      <td>20044</td>\n      <td>13264</td>\n      <td>80</td>\n      <td>1.020027e+06</td>\n    </tr>\n    <tr>\n      <th>2009-09-28 09:52:47</th>\n      <td>142</td>\n      <td>51.07</td>\n      <td>51.148</td>\n      <td>51.0500</td>\n      <td>51.13</td>\n      <td>21024</td>\n      <td>19774</td>\n      <td>62</td>\n      <td>1.073986e+06</td>\n    </tr>\n    <tr>\n      <th>2009-09-28 09:54:38</th>\n      <td>201</td>\n      <td>51.14</td>\n      <td>51.150</td>\n      <td>51.1290</td>\n      <td>51.13</td>\n      <td>19951</td>\n      <td>6951</td>\n      <td>59</td>\n      <td>1.020145e+06</td>\n    </tr>\n    <tr>\n      <th>2009-09-28 09:55:26</th>\n      <td>243</td>\n      <td>51.13</td>\n      <td>51.150</td>\n      <td>51.1300</td>\n      <td>51.14</td>\n      <td>19652</td>\n      <td>18052</td>\n      <td>42</td>\n      <td>1.004999e+06</td>\n    </tr>\n    <tr>\n      <th>2009-09-28 10:02:48</th>\n      <td>339</td>\n      <td>51.14</td>\n      <td>51.260</td>\n      <td>51.0800</td>\n      <td>51.25</td>\n      <td>19943</td>\n      <td>11354</td>\n      <td>96</td>\n      <td>1.020512e+06</td>\n    </tr>\n    <tr>\n      <th>...</th>\n      <td>...</td>\n      <td>...</td>\n      <td>...</td>\n      <td>...</td>\n      <td>...</td>\n      <td>...</td>\n      <td>...</td>\n      <td>...</td>\n      <td>...</td>\n    </tr>\n    <tr>\n      <th>2023-09-14 15:54:32</th>\n      <td>10930083</td>\n      <td>162.98</td>\n      <td>163.060</td>\n      <td>162.9654</td>\n      <td>162.98</td>\n      <td>6186</td>\n      <td>3983</td>\n      <td>39</td>\n      <td>1.008408e+06</td>\n    </tr>\n    <tr>\n      <th>2023-09-14 15:59:20</th>\n      <td>10930131</td>\n      <td>162.99</td>\n      <td>163.040</td>\n      <td>162.9299</td>\n      <td>163.04</td>\n      <td>7158</td>\n      <td>4629</td>\n      <td>48</td>\n      <td>1.166735e+06</td>\n    </tr>\n    <tr>\n      <th>2023-09-14 15:59:39</th>\n      <td>10930171</td>\n      <td>163.04</td>\n      <td>163.050</td>\n      <td>162.9900</td>\n      <td>163.00</td>\n      <td>6316</td>\n      <td>3266</td>\n      <td>40</td>\n      <td>1.029639e+06</td>\n    </tr>\n    <tr>\n      <th>2023-09-14 15:59:59</th>\n      <td>10930208</td>\n      <td>162.99</td>\n      <td>163.000</td>\n      <td>162.9700</td>\n      <td>162.98</td>\n      <td>6234</td>\n      <td>2145</td>\n      <td>37</td>\n      <td>1.016030e+06</td>\n    </tr>\n    <tr>\n      <th>2023-09-14 16:00:00</th>\n      <td>10930213</td>\n      <td>162.98</td>\n      <td>163.000</td>\n      <td>162.9700</td>\n      <td>162.97</td>\n      <td>32257</td>\n      <td>335</td>\n      <td>5</td>\n      <td>5.256934e+06</td>\n    </tr>\n  </tbody>\n</table>\n<p>215833 rows × 9 columns</p>\n</div>"
     },
     "execution_count": 2,
     "metadata": {},
     "output_type": "execute_result"
    }
   ],
   "source": [
    "dollar = pd.read_csv('../../Data/dollar_IVEfuture.csv', index_col = 0, parse_dates = True)\n",
    "dollar = dollar[~dollar.index.duplicated(keep = 'first')]\n",
    "dollar"
   ],
   "metadata": {
    "collapsed": false,
    "ExecuteTime": {
     "end_time": "2023-09-29T04:21:03.110097Z",
     "start_time": "2023-09-29T04:21:02.908494Z"
    }
   },
   "id": "2e3da9ffd9853d06"
  },
  {
   "cell_type": "markdown",
   "source": [
    "#### EWMA volatility"
   ],
   "metadata": {
    "collapsed": false
   },
   "id": "c37a13bc61e3d876"
  },
  {
   "cell_type": "code",
   "execution_count": 3,
   "outputs": [],
   "source": [
    "from FinancialMachineLearning.features.volatility import daily_volatility\n",
    "vol = daily_volatility(dollar.close, lookback = 100)"
   ],
   "metadata": {
    "collapsed": false,
    "ExecuteTime": {
     "end_time": "2023-09-29T04:21:03.228503Z",
     "start_time": "2023-09-29T04:21:03.108156Z"
    }
   },
   "id": "24c27cc34e2c62d4"
  },
  {
   "cell_type": "markdown",
   "source": [
    "#### CUSUM Filtering"
   ],
   "metadata": {
    "collapsed": false
   },
   "id": "e73ffdac535eac6a"
  },
  {
   "cell_type": "code",
   "execution_count": 4,
   "outputs": [],
   "source": [
    "from FinancialMachineLearning.filter.filter import cusum_filter\n",
    "cusum_events = cusum_filter(dollar.close, threshold = vol.mean())"
   ],
   "metadata": {
    "collapsed": false,
    "ExecuteTime": {
     "end_time": "2023-09-29T04:21:06.876299Z",
     "start_time": "2023-09-29T04:21:03.194154Z"
    }
   },
   "id": "a412d1a14226f081"
  },
  {
   "cell_type": "markdown",
   "source": [
    "#### add Vertical berrier"
   ],
   "metadata": {
    "collapsed": false
   },
   "id": "a289384c2b9ee91c"
  },
  {
   "cell_type": "code",
   "execution_count": 5,
   "outputs": [],
   "source": [
    "from FinancialMachineLearning.labeling.labeling import *\n",
    "vertical_barrier = add_vertical_barrier(cusum_events, dollar['close'], num_days = 1)"
   ],
   "metadata": {
    "collapsed": false,
    "ExecuteTime": {
     "end_time": "2023-09-29T04:21:06.908124Z",
     "start_time": "2023-09-29T04:21:06.875012Z"
    }
   },
   "id": "268083ef36a7286b"
  },
  {
   "cell_type": "markdown",
   "source": [
    "#### Triple Barrier Methods"
   ],
   "metadata": {
    "collapsed": false
   },
   "id": "f5b479b030547c35"
  },
  {
   "cell_type": "code",
   "execution_count": 6,
   "outputs": [
    {
     "name": "stderr",
     "output_type": "stream",
     "text": [
      "/Users/junghunlee/Desktop/Pycharm/FinancialMachineLearning/FinancialMachineLearning/labeling/labeling.py:17: FutureWarning: iteritems is deprecated and will be removed in a future version. Use .items instead.\n",
      "  for loc, vertical_barrier in events_['t1'].fillna(close.index[-1]).iteritems():\n",
      "/Users/junghunlee/Desktop/Pycharm/FinancialMachineLearning/FinancialMachineLearning/multiprocess/multiprocess.py:47: FutureWarning: The frame.append method is deprecated and will be removed from pandas in a future version. Use pandas.concat instead.\n",
      "  df0 = df0.append(i)\n"
     ]
    },
    {
     "data": {
      "text/plain": "                                     t1      trgt  pt  sl\n2009-10-02 09:31:33 2009-10-02 10:35:54  0.010011   1   1\n2009-10-02 09:44:59 2009-10-02 10:35:54  0.010268   1   1\n2009-10-02 09:53:14 2009-10-05 09:35:17  0.010379   1   1\n2009-10-02 10:01:56 2009-10-05 09:35:17  0.010430   1   1\n2009-10-02 10:09:13 2009-10-05 09:35:17  0.010453   1   1\n...                                 ...       ...  ..  ..\n2023-05-08 15:16:20 2023-05-09 15:24:47  0.010701   1   1\n2023-05-08 15:16:37 2023-05-09 15:24:47  0.010595   1   1\n2023-05-08 15:36:39 2023-05-09 15:40:39  0.010387   1   1\n2023-05-08 15:47:11 2023-05-09 15:48:38  0.010283   1   1\n2023-05-08 15:54:13 2023-05-09 15:55:49  0.010182   1   1\n\n[30053 rows x 4 columns]",
      "text/html": "<div>\n<style scoped>\n    .dataframe tbody tr th:only-of-type {\n        vertical-align: middle;\n    }\n\n    .dataframe tbody tr th {\n        vertical-align: top;\n    }\n\n    .dataframe thead th {\n        text-align: right;\n    }\n</style>\n<table border=\"1\" class=\"dataframe\">\n  <thead>\n    <tr style=\"text-align: right;\">\n      <th></th>\n      <th>t1</th>\n      <th>trgt</th>\n      <th>pt</th>\n      <th>sl</th>\n    </tr>\n  </thead>\n  <tbody>\n    <tr>\n      <th>2009-10-02 09:31:33</th>\n      <td>2009-10-02 10:35:54</td>\n      <td>0.010011</td>\n      <td>1</td>\n      <td>1</td>\n    </tr>\n    <tr>\n      <th>2009-10-02 09:44:59</th>\n      <td>2009-10-02 10:35:54</td>\n      <td>0.010268</td>\n      <td>1</td>\n      <td>1</td>\n    </tr>\n    <tr>\n      <th>2009-10-02 09:53:14</th>\n      <td>2009-10-05 09:35:17</td>\n      <td>0.010379</td>\n      <td>1</td>\n      <td>1</td>\n    </tr>\n    <tr>\n      <th>2009-10-02 10:01:56</th>\n      <td>2009-10-05 09:35:17</td>\n      <td>0.010430</td>\n      <td>1</td>\n      <td>1</td>\n    </tr>\n    <tr>\n      <th>2009-10-02 10:09:13</th>\n      <td>2009-10-05 09:35:17</td>\n      <td>0.010453</td>\n      <td>1</td>\n      <td>1</td>\n    </tr>\n    <tr>\n      <th>...</th>\n      <td>...</td>\n      <td>...</td>\n      <td>...</td>\n      <td>...</td>\n    </tr>\n    <tr>\n      <th>2023-05-08 15:16:20</th>\n      <td>2023-05-09 15:24:47</td>\n      <td>0.010701</td>\n      <td>1</td>\n      <td>1</td>\n    </tr>\n    <tr>\n      <th>2023-05-08 15:16:37</th>\n      <td>2023-05-09 15:24:47</td>\n      <td>0.010595</td>\n      <td>1</td>\n      <td>1</td>\n    </tr>\n    <tr>\n      <th>2023-05-08 15:36:39</th>\n      <td>2023-05-09 15:40:39</td>\n      <td>0.010387</td>\n      <td>1</td>\n      <td>1</td>\n    </tr>\n    <tr>\n      <th>2023-05-08 15:47:11</th>\n      <td>2023-05-09 15:48:38</td>\n      <td>0.010283</td>\n      <td>1</td>\n      <td>1</td>\n    </tr>\n    <tr>\n      <th>2023-05-08 15:54:13</th>\n      <td>2023-05-09 15:55:49</td>\n      <td>0.010182</td>\n      <td>1</td>\n      <td>1</td>\n    </tr>\n  </tbody>\n</table>\n<p>30053 rows × 4 columns</p>\n</div>"
     },
     "execution_count": 6,
     "metadata": {},
     "output_type": "execute_result"
    }
   ],
   "source": [
    "triple_barrier_events = get_events(close = dollar['close'],\n",
    "                                   t_events = cusum_events[34:],\n",
    "                                   pt_sl = [1, 1],\n",
    "                                   target = vol,\n",
    "                                   min_ret = 0.01,\n",
    "                                   num_threads = 1,\n",
    "                                   vertical_barrier_times = vertical_barrier,\n",
    "                                   side_prediction = None)\n",
    "triple_barrier_events"
   ],
   "metadata": {
    "collapsed": false,
    "ExecuteTime": {
     "end_time": "2023-09-29T04:21:22.612958Z",
     "start_time": "2023-09-29T04:21:06.901120Z"
    }
   },
   "id": "fece9e60de35fae6"
  },
  {
   "cell_type": "markdown",
   "source": [
    "#### Concurrency"
   ],
   "metadata": {
    "collapsed": false
   },
   "id": "ad12446a21e43e28"
  },
  {
   "cell_type": "code",
   "execution_count": 7,
   "outputs": [
    {
     "name": "stderr",
     "output_type": "stream",
     "text": [
      "/Users/junghunlee/Desktop/Pycharm/FinancialMachineLearning/FinancialMachineLearning/features/concurrency.py:11: FutureWarning: iteritems is deprecated and will be removed in a future version. Use .items instead.\n",
      "  for t_in, t_out in label_endtime.iteritems():\n",
      "/Users/junghunlee/Desktop/Pycharm/FinancialMachineLearning/FinancialMachineLearning/multiprocess/multiprocess.py:42: FutureWarning: The default dtype for empty Series will be 'object' instead of 'float64' in a future version. Specify a dtype explicitly to silence this warning.\n",
      "  df0 = pd.Series()\n",
      "/Users/junghunlee/Desktop/Pycharm/FinancialMachineLearning/FinancialMachineLearning/multiprocess/multiprocess.py:47: FutureWarning: The series.append method is deprecated and will be removed from pandas in a future version. Use pandas.concat instead.\n",
      "  df0 = df0.append(i)\n"
     ]
    }
   ],
   "source": [
    "num_threads = 1\n",
    "num_conc_events = multiprocess.mp_pandas_obj(concurrent_events, ('molecule', triple_barrier_events.index), num_threads, close_series_index = dollar.close.index, label_endtime = triple_barrier_events['t1'])"
   ],
   "metadata": {
    "collapsed": false,
    "ExecuteTime": {
     "end_time": "2023-09-29T04:21:26.919124Z",
     "start_time": "2023-09-29T04:21:22.613631Z"
    }
   },
   "id": "7396aaae163b70c2"
  },
  {
   "cell_type": "code",
   "execution_count": 8,
   "outputs": [],
   "source": [
    "num_conc_events = num_conc_events.reindex(dollar.close.index).fillna(0)"
   ],
   "metadata": {
    "collapsed": false,
    "ExecuteTime": {
     "end_time": "2023-09-29T04:21:26.925533Z",
     "start_time": "2023-09-29T04:21:26.913645Z"
    }
   },
   "id": "99a7779141749120"
  },
  {
   "cell_type": "markdown",
   "source": [
    "#### Uniqueness"
   ],
   "metadata": {
    "collapsed": false
   },
   "id": "6630bb38205121d5"
  },
  {
   "cell_type": "code",
   "execution_count": 9,
   "outputs": [
    {
     "name": "stderr",
     "output_type": "stream",
     "text": [
      "/Users/junghunlee/Desktop/Pycharm/FinancialMachineLearning/FinancialMachineLearning/features/concurrency.py:15: FutureWarning: The default dtype for empty Series will be 'object' instead of 'float64' in a future version. Specify a dtype explicitly to silence this warning.\n",
      "  wght = pd.Series(index=molecule)\n",
      "/Users/junghunlee/Desktop/Pycharm/FinancialMachineLearning/FinancialMachineLearning/features/concurrency.py:16: FutureWarning: iteritems is deprecated and will be removed in a future version. Use .items instead.\n",
      "  for t_in, t_out in label_endtime.loc[wght.index].iteritems():\n",
      "/Users/junghunlee/Desktop/Pycharm/FinancialMachineLearning/FinancialMachineLearning/multiprocess/multiprocess.py:42: FutureWarning: The default dtype for empty Series will be 'object' instead of 'float64' in a future version. Specify a dtype explicitly to silence this warning.\n",
      "  df0 = pd.Series()\n",
      "/Users/junghunlee/Desktop/Pycharm/FinancialMachineLearning/FinancialMachineLearning/multiprocess/multiprocess.py:47: FutureWarning: The series.append method is deprecated and will be removed from pandas in a future version. Use pandas.concat instead.\n",
      "  df0 = df0.append(i)\n"
     ]
    },
    {
     "data": {
      "text/plain": "2009-10-02 09:31:33    0.275361\n2009-10-02 09:44:59    0.202897\n2009-10-02 09:53:14    0.135099\n2009-10-02 10:01:56    0.130016\n2009-10-02 10:09:13    0.126859\n                         ...   \n2023-05-08 15:16:20    0.073810\n2023-05-08 15:16:37    0.074945\n2023-05-08 15:36:39    0.107179\n2023-05-08 15:47:11    0.124807\n2023-05-08 15:54:13    0.161731\nLength: 30053, dtype: float64"
     },
     "execution_count": 9,
     "metadata": {},
     "output_type": "execute_result"
    }
   ],
   "source": [
    "avg_unique = multiprocess.mp_pandas_obj(average_uniqueness, ('molecule', triple_barrier_events.index), num_threads, \n",
    "                                 label_endtime = triple_barrier_events['t1'], num_conc_events = num_conc_events)\n",
    "avg_unique"
   ],
   "metadata": {
    "collapsed": false,
    "ExecuteTime": {
     "end_time": "2023-09-29T04:21:30.146379Z",
     "start_time": "2023-09-29T04:21:26.922779Z"
    }
   },
   "id": "7df7c41d213921b2"
  },
  {
   "cell_type": "markdown",
   "source": [
    "#### Lambda"
   ],
   "metadata": {
    "collapsed": false
   },
   "id": "af4c8b47a0d2d0b1"
  },
  {
   "cell_type": "code",
   "execution_count": 10,
   "outputs": [],
   "source": [
    "from FinancialMachineLearning.features.microstructure import *\n",
    "\n",
    "lambda_feature = BarbasedLambda(close = dollar['close'],\n",
    "                                volume = dollar['volume'],\n",
    "                                dollar_volume = dollar['cum_dollar_value'])"
   ],
   "metadata": {
    "collapsed": false,
    "ExecuteTime": {
     "end_time": "2023-09-29T04:21:30.154473Z",
     "start_time": "2023-09-29T04:21:30.147468Z"
    }
   },
   "id": "a40b229308fe9c4b"
  },
  {
   "cell_type": "code",
   "execution_count": 11,
   "outputs": [
    {
     "data": {
      "text/plain": "date_time\n2009-09-28 12:28:20    0.000001\n2009-09-28 13:06:05    0.000001\n2009-09-28 13:27:13    0.000001\n2009-09-28 13:43:34    0.000002\n2009-09-28 13:57:04    0.000001\n                         ...   \n2023-09-14 15:54:32    0.000008\n2023-09-14 15:59:20    0.000008\n2023-09-14 15:59:39    0.000009\n2023-09-14 15:59:59    0.000009\n2023-09-14 16:00:00    0.000009\nLength: 215813, dtype: float64"
     },
     "execution_count": 11,
     "metadata": {},
     "output_type": "execute_result"
    }
   ],
   "source": [
    "kyle_lambda = lambda_feature.kyle()\n",
    "#kyle_lambda.index = data1.index\n",
    "kyle_lambda.names = ['Kyle']\n",
    "kyle_lambda.dropna()"
   ],
   "metadata": {
    "collapsed": false,
    "ExecuteTime": {
     "end_time": "2023-09-29T04:21:30.161572Z",
     "start_time": "2023-09-29T04:21:30.150309Z"
    }
   },
   "id": "a4aeccb30df739db"
  },
  {
   "cell_type": "code",
   "execution_count": 12,
   "outputs": [
    {
     "data": {
      "text/plain": "date_time\n2009-09-28 12:28:20    5.233728e-10\n2009-09-28 13:06:05    5.074193e-10\n2009-09-28 13:27:13    5.549078e-10\n2009-09-28 13:43:34    6.017363e-10\n2009-09-28 13:57:04    5.561291e-10\n                           ...     \n2023-09-14 15:54:32    3.182107e-10\n2023-09-14 15:59:20    3.198206e-10\n2023-09-14 15:59:39    3.286745e-10\n2023-09-14 15:59:59    3.331754e-10\n2023-09-14 16:00:00    3.320301e-10\nLength: 215813, dtype: float64"
     },
     "execution_count": 12,
     "metadata": {},
     "output_type": "execute_result"
    }
   ],
   "source": [
    "amihud_lambda = lambda_feature.amihud()\n",
    "#amihud_lambda.index = data1.index\n",
    "amihud_lambda.names = ['Aminud']\n",
    "amihud_lambda.dropna()"
   ],
   "metadata": {
    "collapsed": false,
    "ExecuteTime": {
     "end_time": "2023-09-29T04:21:30.183424Z",
     "start_time": "2023-09-29T04:21:30.161786Z"
    }
   },
   "id": "c7fedaa2ab1753be"
  },
  {
   "cell_type": "code",
   "execution_count": 13,
   "outputs": [
    {
     "data": {
      "text/plain": "date_time\n2009-09-28 12:28:20    5.297349e-07\n2009-09-28 13:06:05    5.118725e-07\n2009-09-28 13:27:13    5.599020e-07\n2009-09-28 13:43:34    6.083900e-07\n2009-09-28 13:57:04    5.618634e-07\n                           ...     \n2023-09-14 15:54:32    3.372095e-07\n2023-09-14 15:59:20    3.400610e-07\n2023-09-14 15:59:39    3.490828e-07\n2023-09-14 15:59:59    3.536317e-07\n2023-09-14 16:00:00    3.509756e-07\nLength: 215813, dtype: float64"
     },
     "execution_count": 13,
     "metadata": {},
     "output_type": "execute_result"
    }
   ],
   "source": [
    "hasbrouck_lambda = lambda_feature.hasbrouck()\n",
    "#hasbrouck_lambda.index = data1.index\n",
    "hasbrouck_lambda.columns = ['Hasbrouck']\n",
    "hasbrouck_lambda.dropna()"
   ],
   "metadata": {
    "collapsed": false,
    "ExecuteTime": {
     "end_time": "2023-09-29T04:21:30.184346Z",
     "start_time": "2023-09-29T04:21:30.171568Z"
    }
   },
   "id": "67f279dea4a1790e"
  },
  {
   "cell_type": "markdown",
   "source": [
    "#### VPIN"
   ],
   "metadata": {
    "collapsed": false
   },
   "id": "c194df2fc1254577"
  },
  {
   "cell_type": "code",
   "execution_count": 14,
   "outputs": [],
   "source": [
    "from FinancialMachineLearning.barsampling.bar_feature import BarFeature\n",
    "def buy_volume(df):\n",
    "    tick_signs = tick_rule(df['price'])\n",
    "    return (df['volume'] * (tick_signs > 0)).sum()\n",
    "\n",
    "def sell_volume(df):\n",
    "    tick_signs = tick_rule(df['price'])\n",
    "    return (df['volume'] * (tick_signs < 0)).sum()\n",
    "    \n",
    "buy_volume_feature = BarFeature(name='buy_volume', function=buy_volume)\n",
    "sell_volume_feature = BarFeature(name='sell_volume', function=sell_volume)"
   ],
   "metadata": {
    "collapsed": false,
    "ExecuteTime": {
     "end_time": "2023-09-29T04:21:30.187329Z",
     "start_time": "2023-09-29T04:21:30.183818Z"
    }
   },
   "id": "166ae428373883d3"
  },
  {
   "cell_type": "code",
   "execution_count": 15,
   "outputs": [
    {
     "name": "stdout",
     "output_type": "stream",
     "text": [
      "Reading data in batches:\n",
      "Batch number: 0\n",
      "Returning bars \n"
     ]
    }
   ],
   "source": [
    "bars = vpin_volume_bars('../../Data/IVEfuture.csv', additional_features = [buy_volume_feature, sell_volume_feature])"
   ],
   "metadata": {
    "collapsed": false,
    "ExecuteTime": {
     "end_time": "2023-09-29T04:29:27.132661Z",
     "start_time": "2023-09-29T04:21:30.187254Z"
    }
   },
   "id": "296963825e9c6e3d"
  },
  {
   "cell_type": "code",
   "execution_count": 16,
   "outputs": [
    {
     "data": {
      "text/plain": "                 date_time     open      high       low   close  volume  \\\n0      09/28/2009 09:47:22   50.790   51.0700   50.7100   51.06   28244   \n1      09/28/2009 09:54:36   51.060   51.1500   51.0600   51.13   28575   \n2      09/28/2009 09:57:17   51.130   51.1500   51.0900   51.09   28341   \n3      09/28/2009 10:02:52   51.100   51.2600   51.0800   51.25   28654   \n4      09/28/2009 10:10:21   51.260   51.2900   51.1900   51.29   28319   \n...                    ...      ...       ...       ...     ...     ...   \n82884  09/14/2023 13:11:37  162.560  162.9950  162.5500  162.98   28297   \n82885  09/14/2023 14:34:34  162.972  163.0699  162.8700  162.94   28330   \n82886  09/14/2023 15:36:28  162.930  163.2150  162.8900  162.99   58926   \n82887  09/14/2023 15:59:23  162.980  163.0600  162.9299  163.05   28291   \n82888  09/14/2023 16:00:00  163.050  163.0500  162.9700  162.97   44107   \n\n       buy_volume  sell_volume  \n0           21464         6780  \n1           16425        12150  \n2           22852         5489  \n3           23554         5100  \n4           16784        11535  \n...           ...          ...  \n82884       13571        14726  \n82885       11073        17257  \n82886       40704        18222  \n82887       19218         9073  \n82888        5146        38961  \n\n[82889 rows x 8 columns]",
      "text/html": "<div>\n<style scoped>\n    .dataframe tbody tr th:only-of-type {\n        vertical-align: middle;\n    }\n\n    .dataframe tbody tr th {\n        vertical-align: top;\n    }\n\n    .dataframe thead th {\n        text-align: right;\n    }\n</style>\n<table border=\"1\" class=\"dataframe\">\n  <thead>\n    <tr style=\"text-align: right;\">\n      <th></th>\n      <th>date_time</th>\n      <th>open</th>\n      <th>high</th>\n      <th>low</th>\n      <th>close</th>\n      <th>volume</th>\n      <th>buy_volume</th>\n      <th>sell_volume</th>\n    </tr>\n  </thead>\n  <tbody>\n    <tr>\n      <th>0</th>\n      <td>09/28/2009 09:47:22</td>\n      <td>50.790</td>\n      <td>51.0700</td>\n      <td>50.7100</td>\n      <td>51.06</td>\n      <td>28244</td>\n      <td>21464</td>\n      <td>6780</td>\n    </tr>\n    <tr>\n      <th>1</th>\n      <td>09/28/2009 09:54:36</td>\n      <td>51.060</td>\n      <td>51.1500</td>\n      <td>51.0600</td>\n      <td>51.13</td>\n      <td>28575</td>\n      <td>16425</td>\n      <td>12150</td>\n    </tr>\n    <tr>\n      <th>2</th>\n      <td>09/28/2009 09:57:17</td>\n      <td>51.130</td>\n      <td>51.1500</td>\n      <td>51.0900</td>\n      <td>51.09</td>\n      <td>28341</td>\n      <td>22852</td>\n      <td>5489</td>\n    </tr>\n    <tr>\n      <th>3</th>\n      <td>09/28/2009 10:02:52</td>\n      <td>51.100</td>\n      <td>51.2600</td>\n      <td>51.0800</td>\n      <td>51.25</td>\n      <td>28654</td>\n      <td>23554</td>\n      <td>5100</td>\n    </tr>\n    <tr>\n      <th>4</th>\n      <td>09/28/2009 10:10:21</td>\n      <td>51.260</td>\n      <td>51.2900</td>\n      <td>51.1900</td>\n      <td>51.29</td>\n      <td>28319</td>\n      <td>16784</td>\n      <td>11535</td>\n    </tr>\n    <tr>\n      <th>...</th>\n      <td>...</td>\n      <td>...</td>\n      <td>...</td>\n      <td>...</td>\n      <td>...</td>\n      <td>...</td>\n      <td>...</td>\n      <td>...</td>\n    </tr>\n    <tr>\n      <th>82884</th>\n      <td>09/14/2023 13:11:37</td>\n      <td>162.560</td>\n      <td>162.9950</td>\n      <td>162.5500</td>\n      <td>162.98</td>\n      <td>28297</td>\n      <td>13571</td>\n      <td>14726</td>\n    </tr>\n    <tr>\n      <th>82885</th>\n      <td>09/14/2023 14:34:34</td>\n      <td>162.972</td>\n      <td>163.0699</td>\n      <td>162.8700</td>\n      <td>162.94</td>\n      <td>28330</td>\n      <td>11073</td>\n      <td>17257</td>\n    </tr>\n    <tr>\n      <th>82886</th>\n      <td>09/14/2023 15:36:28</td>\n      <td>162.930</td>\n      <td>163.2150</td>\n      <td>162.8900</td>\n      <td>162.99</td>\n      <td>58926</td>\n      <td>40704</td>\n      <td>18222</td>\n    </tr>\n    <tr>\n      <th>82887</th>\n      <td>09/14/2023 15:59:23</td>\n      <td>162.980</td>\n      <td>163.0600</td>\n      <td>162.9299</td>\n      <td>163.05</td>\n      <td>28291</td>\n      <td>19218</td>\n      <td>9073</td>\n    </tr>\n    <tr>\n      <th>82888</th>\n      <td>09/14/2023 16:00:00</td>\n      <td>163.050</td>\n      <td>163.0500</td>\n      <td>162.9700</td>\n      <td>162.97</td>\n      <td>44107</td>\n      <td>5146</td>\n      <td>38961</td>\n    </tr>\n  </tbody>\n</table>\n<p>82889 rows × 8 columns</p>\n</div>"
     },
     "execution_count": 16,
     "metadata": {},
     "output_type": "execute_result"
    }
   ],
   "source": [
    "bars"
   ],
   "metadata": {
    "collapsed": false,
    "ExecuteTime": {
     "end_time": "2023-09-29T04:29:27.143607Z",
     "start_time": "2023-09-29T04:29:27.136814Z"
    }
   },
   "id": "5397cf0fe3f9e8e5"
  },
  {
   "cell_type": "code",
   "execution_count": 17,
   "outputs": [],
   "source": [
    "vol_thres = 10000\n",
    "vpin_series = vpin(bars['volume'], bars['buy_volume'], window = 5)"
   ],
   "metadata": {
    "collapsed": false,
    "ExecuteTime": {
     "end_time": "2023-09-29T04:29:27.145528Z",
     "start_time": "2023-09-29T04:29:27.139864Z"
    }
   },
   "id": "6acdf3c2f75e55bf"
  },
  {
   "cell_type": "code",
   "execution_count": 18,
   "outputs": [],
   "source": [
    "vpin_series = pd.DataFrame(vpin_series, index = pd.to_datetime(bars.date_time))"
   ],
   "metadata": {
    "collapsed": false,
    "ExecuteTime": {
     "end_time": "2023-09-29T04:29:29.246469Z",
     "start_time": "2023-09-29T04:29:27.144721Z"
    }
   },
   "id": "9246027716cb3aca"
  },
  {
   "cell_type": "markdown",
   "source": [
    "#### Corwin Schultz spread"
   ],
   "metadata": {
    "collapsed": false
   },
   "id": "466f85ffa2cbcb95"
  },
  {
   "cell_type": "code",
   "execution_count": 19,
   "outputs": [],
   "source": [
    "corwin_schultz = CorwinSchultz(dollar['high'], dollar['low'])"
   ],
   "metadata": {
    "collapsed": false,
    "ExecuteTime": {
     "end_time": "2023-09-29T04:29:29.254207Z",
     "start_time": "2023-09-29T04:29:29.246907Z"
    }
   },
   "id": "256ea00f525ff360"
  },
  {
   "cell_type": "code",
   "execution_count": 20,
   "outputs": [
    {
     "data": {
      "text/plain": "date_time\n2009-09-28 12:28:20    0.001863\n2009-09-28 13:06:05    0.000549\n2009-09-28 13:27:13    0.000409\n2009-09-28 13:43:34    0.000000\n2009-09-28 13:57:04    0.000000\n                         ...   \n2023-09-14 15:54:32    0.001171\n2023-09-14 15:59:20    0.000698\n2023-09-14 15:59:39    0.000856\n2023-09-14 15:59:59    0.001435\n2023-09-14 16:00:00    0.002154\nName: Spread, Length: 215813, dtype: float64"
     },
     "execution_count": 20,
     "metadata": {},
     "output_type": "execute_result"
    }
   ],
   "source": [
    "spread = corwin_schultz.corwin_schultz_estimator(window = 20)\n",
    "spread.dropna()"
   ],
   "metadata": {
    "collapsed": false,
    "ExecuteTime": {
     "end_time": "2023-09-29T04:29:29.285678Z",
     "start_time": "2023-09-29T04:29:29.249695Z"
    }
   },
   "id": "9c29e95a1ddd5ca2"
  },
  {
   "cell_type": "markdown",
   "source": [
    "#### Fractionally differenciated Features"
   ],
   "metadata": {
    "collapsed": false
   },
   "id": "2b2a6a5a84c691e7"
  },
  {
   "cell_type": "code",
   "execution_count": 21,
   "outputs": [
    {
     "name": "stderr",
     "output_type": "stream",
     "text": [
      "/Users/junghunlee/Desktop/Pycharm/FinancialMachineLearning/FinancialMachineLearning/features/fracdiff.py:34: FutureWarning: The default dtype for empty Series will be 'object' instead of 'float64' in a future version. Specify a dtype explicitly to silence this warning.\n",
      "  df_ = pd.Series()\n"
     ]
    }
   ],
   "source": [
    "from FinancialMachineLearning.features.fracdiff import FractionalDifferentiatedFeatures\n",
    "frac_dollar = FractionalDifferentiatedFeatures.fracDiff_FFD(dollar.iloc[:,4:5], 0.2)"
   ],
   "metadata": {
    "collapsed": false,
    "ExecuteTime": {
     "end_time": "2023-09-29T04:34:32.516810Z",
     "start_time": "2023-09-29T04:29:29.278426Z"
    }
   },
   "id": "638bf0c94116d4da"
  },
  {
   "cell_type": "code",
   "execution_count": 22,
   "outputs": [
    {
     "data": {
      "text/plain": "                         close\n2010-04-29 10:26:57  10.476812\n2010-04-29 11:09:15  10.507715\n2010-04-29 11:26:03  10.464420\n2010-04-29 11:34:28  10.488812\n2010-04-29 11:44:01  10.540226\n...                        ...\n2023-09-14 15:54:32  28.022345\n2023-09-14 15:59:20  28.081668\n2023-09-14 15:59:39  28.025730\n2023-09-14 15:59:59  28.004278\n2023-09-14 16:00:00  27.993746\n\n[212452 rows x 1 columns]",
      "text/html": "<div>\n<style scoped>\n    .dataframe tbody tr th:only-of-type {\n        vertical-align: middle;\n    }\n\n    .dataframe tbody tr th {\n        vertical-align: top;\n    }\n\n    .dataframe thead th {\n        text-align: right;\n    }\n</style>\n<table border=\"1\" class=\"dataframe\">\n  <thead>\n    <tr style=\"text-align: right;\">\n      <th></th>\n      <th>close</th>\n    </tr>\n  </thead>\n  <tbody>\n    <tr>\n      <th>2010-04-29 10:26:57</th>\n      <td>10.476812</td>\n    </tr>\n    <tr>\n      <th>2010-04-29 11:09:15</th>\n      <td>10.507715</td>\n    </tr>\n    <tr>\n      <th>2010-04-29 11:26:03</th>\n      <td>10.464420</td>\n    </tr>\n    <tr>\n      <th>2010-04-29 11:34:28</th>\n      <td>10.488812</td>\n    </tr>\n    <tr>\n      <th>2010-04-29 11:44:01</th>\n      <td>10.540226</td>\n    </tr>\n    <tr>\n      <th>...</th>\n      <td>...</td>\n    </tr>\n    <tr>\n      <th>2023-09-14 15:54:32</th>\n      <td>28.022345</td>\n    </tr>\n    <tr>\n      <th>2023-09-14 15:59:20</th>\n      <td>28.081668</td>\n    </tr>\n    <tr>\n      <th>2023-09-14 15:59:39</th>\n      <td>28.025730</td>\n    </tr>\n    <tr>\n      <th>2023-09-14 15:59:59</th>\n      <td>28.004278</td>\n    </tr>\n    <tr>\n      <th>2023-09-14 16:00:00</th>\n      <td>27.993746</td>\n    </tr>\n  </tbody>\n</table>\n<p>212452 rows × 1 columns</p>\n</div>"
     },
     "execution_count": 22,
     "metadata": {},
     "output_type": "execute_result"
    }
   ],
   "source": [
    "frac_dollar"
   ],
   "metadata": {
    "collapsed": false,
    "ExecuteTime": {
     "end_time": "2023-09-29T04:34:32.521422Z",
     "start_time": "2023-09-29T04:34:32.518949Z"
    }
   },
   "id": "c5d0cf1799765b2a"
  },
  {
   "cell_type": "markdown",
   "source": [
    "#### Labeling"
   ],
   "metadata": {
    "collapsed": false
   },
   "id": "597fbc1bc42a4a2e"
  },
  {
   "cell_type": "code",
   "execution_count": 23,
   "outputs": [
    {
     "data": {
      "text/plain": "                          ret      trgt  bin\n2009-10-02 09:31:33  0.011168  0.010011    1\n2009-10-02 09:44:59  0.010552  0.010268    1\n2009-10-02 09:53:14  0.006066  0.010379    0\n2009-10-02 10:01:56  0.008308  0.010430    0\n2009-10-02 10:09:13  0.007216  0.010453    0\n...                       ...       ...  ...\n2023-05-08 15:16:20 -0.002736  0.010701    0\n2023-05-08 15:16:37 -0.002301  0.010595    0\n2023-05-08 15:36:39 -0.002368  0.010387    0\n2023-05-08 15:47:11 -0.003483  0.010283    0\n2023-05-08 15:54:13 -0.003402  0.010182    0\n\n[30053 rows x 3 columns]",
      "text/html": "<div>\n<style scoped>\n    .dataframe tbody tr th:only-of-type {\n        vertical-align: middle;\n    }\n\n    .dataframe tbody tr th {\n        vertical-align: top;\n    }\n\n    .dataframe thead th {\n        text-align: right;\n    }\n</style>\n<table border=\"1\" class=\"dataframe\">\n  <thead>\n    <tr style=\"text-align: right;\">\n      <th></th>\n      <th>ret</th>\n      <th>trgt</th>\n      <th>bin</th>\n    </tr>\n  </thead>\n  <tbody>\n    <tr>\n      <th>2009-10-02 09:31:33</th>\n      <td>0.011168</td>\n      <td>0.010011</td>\n      <td>1</td>\n    </tr>\n    <tr>\n      <th>2009-10-02 09:44:59</th>\n      <td>0.010552</td>\n      <td>0.010268</td>\n      <td>1</td>\n    </tr>\n    <tr>\n      <th>2009-10-02 09:53:14</th>\n      <td>0.006066</td>\n      <td>0.010379</td>\n      <td>0</td>\n    </tr>\n    <tr>\n      <th>2009-10-02 10:01:56</th>\n      <td>0.008308</td>\n      <td>0.010430</td>\n      <td>0</td>\n    </tr>\n    <tr>\n      <th>2009-10-02 10:09:13</th>\n      <td>0.007216</td>\n      <td>0.010453</td>\n      <td>0</td>\n    </tr>\n    <tr>\n      <th>...</th>\n      <td>...</td>\n      <td>...</td>\n      <td>...</td>\n    </tr>\n    <tr>\n      <th>2023-05-08 15:16:20</th>\n      <td>-0.002736</td>\n      <td>0.010701</td>\n      <td>0</td>\n    </tr>\n    <tr>\n      <th>2023-05-08 15:16:37</th>\n      <td>-0.002301</td>\n      <td>0.010595</td>\n      <td>0</td>\n    </tr>\n    <tr>\n      <th>2023-05-08 15:36:39</th>\n      <td>-0.002368</td>\n      <td>0.010387</td>\n      <td>0</td>\n    </tr>\n    <tr>\n      <th>2023-05-08 15:47:11</th>\n      <td>-0.003483</td>\n      <td>0.010283</td>\n      <td>0</td>\n    </tr>\n    <tr>\n      <th>2023-05-08 15:54:13</th>\n      <td>-0.003402</td>\n      <td>0.010182</td>\n      <td>0</td>\n    </tr>\n  </tbody>\n</table>\n<p>30053 rows × 3 columns</p>\n</div>"
     },
     "execution_count": 23,
     "metadata": {},
     "output_type": "execute_result"
    }
   ],
   "source": [
    "labels = meta_labeling(triple_barrier_events, dollar['close'])\n",
    "labels"
   ],
   "metadata": {
    "collapsed": false,
    "ExecuteTime": {
     "end_time": "2023-09-29T04:34:33.683148Z",
     "start_time": "2023-09-29T04:34:32.522366Z"
    }
   },
   "id": "39fea39a431c38da"
  },
  {
   "cell_type": "markdown",
   "source": [],
   "metadata": {
    "collapsed": false
   },
   "id": "7d914f9a6986f6aa"
  },
  {
   "cell_type": "code",
   "execution_count": 24,
   "outputs": [
    {
     "data": {
      "text/plain": "                        Price   Fracdiff  Volatility  Concurrency  Uniqueness  \\\n2010-04-29 10:26:57   58.2801  10.476812    0.010964         15.0    0.104609   \n2010-04-29 11:09:15   58.3600  10.507715    0.011247          5.0    0.101340   \n2010-04-29 11:34:28   58.4100  10.488812    0.011638          5.0    0.086407   \n2010-04-29 11:44:01   58.4900  10.540226    0.011979          6.0    0.080429   \n2010-04-29 12:00:06   58.4498  10.465450    0.012262          7.0    0.074427   \n...                       ...        ...         ...          ...         ...   \n2023-05-08 15:16:20  152.1563  26.030479    0.010701         22.0    0.073810   \n2023-05-08 15:16:37  152.0900  25.963539    0.010595         23.0    0.074945   \n2023-05-08 15:36:39  152.0701  25.952489    0.010387         24.0    0.107179   \n2023-05-08 15:47:11  152.1800  26.065165    0.010283         25.0    0.124807   \n2023-05-08 15:54:13  152.0900  25.952918    0.010182         26.0    0.161731   \n\n                     CorwinSchultz      Kyle        Amihud     Hasbrouck  Side  \n2010-04-29 10:26:57       0.002505  0.000005  1.465374e-09  1.483819e-06   0.0  \n2010-04-29 11:09:15       0.000000  0.000005  1.444967e-09  1.463203e-06   0.0  \n2010-04-29 11:34:28       0.006100  0.000005  1.363788e-09  1.381967e-06   0.0  \n2010-04-29 11:44:01       0.004628  0.000004  1.333476e-09  1.348967e-06   0.0  \n2010-04-29 12:00:06       0.006678  0.000004  1.333155e-09  1.348640e-06   0.0  \n...                            ...       ...           ...           ...   ...  \n2023-05-08 15:16:20       0.002960  0.000020  8.639489e-10  9.057686e-07   0.0  \n2023-05-08 15:16:37       0.003382  0.000018  7.985690e-10  8.333525e-07   0.0  \n2023-05-08 15:36:39       0.002875  0.000018  7.770907e-10  8.105908e-07   0.0  \n2023-05-08 15:47:11       0.002256  0.000018  7.929681e-10  8.267172e-07   0.0  \n2023-05-08 15:54:13       0.002366  0.000019  8.159246e-10  8.496787e-07   0.0  \n\n[29415 rows x 10 columns]",
      "text/html": "<div>\n<style scoped>\n    .dataframe tbody tr th:only-of-type {\n        vertical-align: middle;\n    }\n\n    .dataframe tbody tr th {\n        vertical-align: top;\n    }\n\n    .dataframe thead th {\n        text-align: right;\n    }\n</style>\n<table border=\"1\" class=\"dataframe\">\n  <thead>\n    <tr style=\"text-align: right;\">\n      <th></th>\n      <th>Price</th>\n      <th>Fracdiff</th>\n      <th>Volatility</th>\n      <th>Concurrency</th>\n      <th>Uniqueness</th>\n      <th>CorwinSchultz</th>\n      <th>Kyle</th>\n      <th>Amihud</th>\n      <th>Hasbrouck</th>\n      <th>Side</th>\n    </tr>\n  </thead>\n  <tbody>\n    <tr>\n      <th>2010-04-29 10:26:57</th>\n      <td>58.2801</td>\n      <td>10.476812</td>\n      <td>0.010964</td>\n      <td>15.0</td>\n      <td>0.104609</td>\n      <td>0.002505</td>\n      <td>0.000005</td>\n      <td>1.465374e-09</td>\n      <td>1.483819e-06</td>\n      <td>0.0</td>\n    </tr>\n    <tr>\n      <th>2010-04-29 11:09:15</th>\n      <td>58.3600</td>\n      <td>10.507715</td>\n      <td>0.011247</td>\n      <td>5.0</td>\n      <td>0.101340</td>\n      <td>0.000000</td>\n      <td>0.000005</td>\n      <td>1.444967e-09</td>\n      <td>1.463203e-06</td>\n      <td>0.0</td>\n    </tr>\n    <tr>\n      <th>2010-04-29 11:34:28</th>\n      <td>58.4100</td>\n      <td>10.488812</td>\n      <td>0.011638</td>\n      <td>5.0</td>\n      <td>0.086407</td>\n      <td>0.006100</td>\n      <td>0.000005</td>\n      <td>1.363788e-09</td>\n      <td>1.381967e-06</td>\n      <td>0.0</td>\n    </tr>\n    <tr>\n      <th>2010-04-29 11:44:01</th>\n      <td>58.4900</td>\n      <td>10.540226</td>\n      <td>0.011979</td>\n      <td>6.0</td>\n      <td>0.080429</td>\n      <td>0.004628</td>\n      <td>0.000004</td>\n      <td>1.333476e-09</td>\n      <td>1.348967e-06</td>\n      <td>0.0</td>\n    </tr>\n    <tr>\n      <th>2010-04-29 12:00:06</th>\n      <td>58.4498</td>\n      <td>10.465450</td>\n      <td>0.012262</td>\n      <td>7.0</td>\n      <td>0.074427</td>\n      <td>0.006678</td>\n      <td>0.000004</td>\n      <td>1.333155e-09</td>\n      <td>1.348640e-06</td>\n      <td>0.0</td>\n    </tr>\n    <tr>\n      <th>...</th>\n      <td>...</td>\n      <td>...</td>\n      <td>...</td>\n      <td>...</td>\n      <td>...</td>\n      <td>...</td>\n      <td>...</td>\n      <td>...</td>\n      <td>...</td>\n      <td>...</td>\n    </tr>\n    <tr>\n      <th>2023-05-08 15:16:20</th>\n      <td>152.1563</td>\n      <td>26.030479</td>\n      <td>0.010701</td>\n      <td>22.0</td>\n      <td>0.073810</td>\n      <td>0.002960</td>\n      <td>0.000020</td>\n      <td>8.639489e-10</td>\n      <td>9.057686e-07</td>\n      <td>0.0</td>\n    </tr>\n    <tr>\n      <th>2023-05-08 15:16:37</th>\n      <td>152.0900</td>\n      <td>25.963539</td>\n      <td>0.010595</td>\n      <td>23.0</td>\n      <td>0.074945</td>\n      <td>0.003382</td>\n      <td>0.000018</td>\n      <td>7.985690e-10</td>\n      <td>8.333525e-07</td>\n      <td>0.0</td>\n    </tr>\n    <tr>\n      <th>2023-05-08 15:36:39</th>\n      <td>152.0701</td>\n      <td>25.952489</td>\n      <td>0.010387</td>\n      <td>24.0</td>\n      <td>0.107179</td>\n      <td>0.002875</td>\n      <td>0.000018</td>\n      <td>7.770907e-10</td>\n      <td>8.105908e-07</td>\n      <td>0.0</td>\n    </tr>\n    <tr>\n      <th>2023-05-08 15:47:11</th>\n      <td>152.1800</td>\n      <td>26.065165</td>\n      <td>0.010283</td>\n      <td>25.0</td>\n      <td>0.124807</td>\n      <td>0.002256</td>\n      <td>0.000018</td>\n      <td>7.929681e-10</td>\n      <td>8.267172e-07</td>\n      <td>0.0</td>\n    </tr>\n    <tr>\n      <th>2023-05-08 15:54:13</th>\n      <td>152.0900</td>\n      <td>25.952918</td>\n      <td>0.010182</td>\n      <td>26.0</td>\n      <td>0.161731</td>\n      <td>0.002366</td>\n      <td>0.000019</td>\n      <td>8.159246e-10</td>\n      <td>8.496787e-07</td>\n      <td>0.0</td>\n    </tr>\n  </tbody>\n</table>\n<p>29415 rows × 10 columns</p>\n</div>"
     },
     "execution_count": 24,
     "metadata": {},
     "output_type": "execute_result"
    }
   ],
   "source": [
    "matrix = pd.DataFrame()\n",
    "matrix = pd.concat([dollar.close, frac_dollar, \n",
    "                    vol, num_conc_events, avg_unique, spread, \n",
    "                    kyle_lambda, amihud_lambda, hasbrouck_lambda, \n",
    "                    labels['bin']], axis = 1)\n",
    "matrix.columns = ['Price','Fracdiff','Volatility','Concurrency','Uniqueness','CorwinSchultz','Kyle','Amihud','Hasbrouck','Side']\n",
    "matrix = matrix.dropna()\n",
    "matrix"
   ],
   "metadata": {
    "collapsed": false,
    "ExecuteTime": {
     "end_time": "2023-09-29T04:34:33.757595Z",
     "start_time": "2023-09-29T04:34:33.684296Z"
    }
   },
   "id": "6199bce8fc4d803a"
  },
  {
   "cell_type": "markdown",
   "source": [
    "#### Meta Labeling"
   ],
   "metadata": {
    "collapsed": false
   },
   "id": "2ed447ea7f18b327"
  },
  {
   "cell_type": "code",
   "execution_count": 25,
   "outputs": [
    {
     "data": {
      "text/plain": "                                     t1      trgt  pt  sl  side\n2009-10-02 09:31:33 2009-10-02 10:35:54  0.010011   1   1     1\n2009-10-02 09:44:59 2009-10-02 10:35:54  0.010268   1   1     1\n2009-10-02 09:53:14 2009-10-05 09:35:17  0.010379   1   1     0\n2009-10-02 10:01:56 2009-10-05 09:35:17  0.010430   1   1     0\n2009-10-02 10:09:13 2009-10-05 09:35:17  0.010453   1   1     0\n...                                 ...       ...  ..  ..   ...\n2023-05-08 15:16:20 2023-05-09 15:24:47  0.010701   1   1     0\n2023-05-08 15:16:37 2023-05-09 15:24:47  0.010595   1   1     0\n2023-05-08 15:36:39 2023-05-09 15:40:39  0.010387   1   1     0\n2023-05-08 15:47:11 2023-05-09 15:48:38  0.010283   1   1     0\n2023-05-08 15:54:13 2023-05-09 15:55:49  0.010182   1   1     0\n\n[30053 rows x 5 columns]",
      "text/html": "<div>\n<style scoped>\n    .dataframe tbody tr th:only-of-type {\n        vertical-align: middle;\n    }\n\n    .dataframe tbody tr th {\n        vertical-align: top;\n    }\n\n    .dataframe thead th {\n        text-align: right;\n    }\n</style>\n<table border=\"1\" class=\"dataframe\">\n  <thead>\n    <tr style=\"text-align: right;\">\n      <th></th>\n      <th>t1</th>\n      <th>trgt</th>\n      <th>pt</th>\n      <th>sl</th>\n      <th>side</th>\n    </tr>\n  </thead>\n  <tbody>\n    <tr>\n      <th>2009-10-02 09:31:33</th>\n      <td>2009-10-02 10:35:54</td>\n      <td>0.010011</td>\n      <td>1</td>\n      <td>1</td>\n      <td>1</td>\n    </tr>\n    <tr>\n      <th>2009-10-02 09:44:59</th>\n      <td>2009-10-02 10:35:54</td>\n      <td>0.010268</td>\n      <td>1</td>\n      <td>1</td>\n      <td>1</td>\n    </tr>\n    <tr>\n      <th>2009-10-02 09:53:14</th>\n      <td>2009-10-05 09:35:17</td>\n      <td>0.010379</td>\n      <td>1</td>\n      <td>1</td>\n      <td>0</td>\n    </tr>\n    <tr>\n      <th>2009-10-02 10:01:56</th>\n      <td>2009-10-05 09:35:17</td>\n      <td>0.010430</td>\n      <td>1</td>\n      <td>1</td>\n      <td>0</td>\n    </tr>\n    <tr>\n      <th>2009-10-02 10:09:13</th>\n      <td>2009-10-05 09:35:17</td>\n      <td>0.010453</td>\n      <td>1</td>\n      <td>1</td>\n      <td>0</td>\n    </tr>\n    <tr>\n      <th>...</th>\n      <td>...</td>\n      <td>...</td>\n      <td>...</td>\n      <td>...</td>\n      <td>...</td>\n    </tr>\n    <tr>\n      <th>2023-05-08 15:16:20</th>\n      <td>2023-05-09 15:24:47</td>\n      <td>0.010701</td>\n      <td>1</td>\n      <td>1</td>\n      <td>0</td>\n    </tr>\n    <tr>\n      <th>2023-05-08 15:16:37</th>\n      <td>2023-05-09 15:24:47</td>\n      <td>0.010595</td>\n      <td>1</td>\n      <td>1</td>\n      <td>0</td>\n    </tr>\n    <tr>\n      <th>2023-05-08 15:36:39</th>\n      <td>2023-05-09 15:40:39</td>\n      <td>0.010387</td>\n      <td>1</td>\n      <td>1</td>\n      <td>0</td>\n    </tr>\n    <tr>\n      <th>2023-05-08 15:47:11</th>\n      <td>2023-05-09 15:48:38</td>\n      <td>0.010283</td>\n      <td>1</td>\n      <td>1</td>\n      <td>0</td>\n    </tr>\n    <tr>\n      <th>2023-05-08 15:54:13</th>\n      <td>2023-05-09 15:55:49</td>\n      <td>0.010182</td>\n      <td>1</td>\n      <td>1</td>\n      <td>0</td>\n    </tr>\n  </tbody>\n</table>\n<p>30053 rows × 5 columns</p>\n</div>"
     },
     "execution_count": 25,
     "metadata": {},
     "output_type": "execute_result"
    }
   ],
   "source": [
    "triple_barrier_events['side'] = labels.bin\n",
    "triple_barrier_events"
   ],
   "metadata": {
    "collapsed": false,
    "ExecuteTime": {
     "end_time": "2023-09-29T04:34:33.758074Z",
     "start_time": "2023-09-29T04:34:33.738937Z"
    }
   },
   "id": "68a1a2ca6f5f16"
  },
  {
   "cell_type": "code",
   "execution_count": 26,
   "outputs": [
    {
     "data": {
      "text/plain": "                          ret      trgt  bin  side\n2009-10-02 09:31:33  0.011168  0.010011    1     1\n2009-10-02 09:44:59  0.010552  0.010268    1     1\n2009-10-02 09:53:14  0.000000  0.010379    0     0\n2009-10-02 10:01:56  0.000000  0.010430    0     0\n2009-10-02 10:09:13  0.000000  0.010453    0     0\n...                       ...       ...  ...   ...\n2023-05-08 15:16:20  0.000000  0.010701    0     0\n2023-05-08 15:16:37  0.000000  0.010595    0     0\n2023-05-08 15:36:39  0.000000  0.010387    0     0\n2023-05-08 15:47:11  0.000000  0.010283    0     0\n2023-05-08 15:54:13  0.000000  0.010182    0     0\n\n[30053 rows x 4 columns]",
      "text/html": "<div>\n<style scoped>\n    .dataframe tbody tr th:only-of-type {\n        vertical-align: middle;\n    }\n\n    .dataframe tbody tr th {\n        vertical-align: top;\n    }\n\n    .dataframe thead th {\n        text-align: right;\n    }\n</style>\n<table border=\"1\" class=\"dataframe\">\n  <thead>\n    <tr style=\"text-align: right;\">\n      <th></th>\n      <th>ret</th>\n      <th>trgt</th>\n      <th>bin</th>\n      <th>side</th>\n    </tr>\n  </thead>\n  <tbody>\n    <tr>\n      <th>2009-10-02 09:31:33</th>\n      <td>0.011168</td>\n      <td>0.010011</td>\n      <td>1</td>\n      <td>1</td>\n    </tr>\n    <tr>\n      <th>2009-10-02 09:44:59</th>\n      <td>0.010552</td>\n      <td>0.010268</td>\n      <td>1</td>\n      <td>1</td>\n    </tr>\n    <tr>\n      <th>2009-10-02 09:53:14</th>\n      <td>0.000000</td>\n      <td>0.010379</td>\n      <td>0</td>\n      <td>0</td>\n    </tr>\n    <tr>\n      <th>2009-10-02 10:01:56</th>\n      <td>0.000000</td>\n      <td>0.010430</td>\n      <td>0</td>\n      <td>0</td>\n    </tr>\n    <tr>\n      <th>2009-10-02 10:09:13</th>\n      <td>0.000000</td>\n      <td>0.010453</td>\n      <td>0</td>\n      <td>0</td>\n    </tr>\n    <tr>\n      <th>...</th>\n      <td>...</td>\n      <td>...</td>\n      <td>...</td>\n      <td>...</td>\n    </tr>\n    <tr>\n      <th>2023-05-08 15:16:20</th>\n      <td>0.000000</td>\n      <td>0.010701</td>\n      <td>0</td>\n      <td>0</td>\n    </tr>\n    <tr>\n      <th>2023-05-08 15:16:37</th>\n      <td>0.000000</td>\n      <td>0.010595</td>\n      <td>0</td>\n      <td>0</td>\n    </tr>\n    <tr>\n      <th>2023-05-08 15:36:39</th>\n      <td>0.000000</td>\n      <td>0.010387</td>\n      <td>0</td>\n      <td>0</td>\n    </tr>\n    <tr>\n      <th>2023-05-08 15:47:11</th>\n      <td>0.000000</td>\n      <td>0.010283</td>\n      <td>0</td>\n      <td>0</td>\n    </tr>\n    <tr>\n      <th>2023-05-08 15:54:13</th>\n      <td>0.000000</td>\n      <td>0.010182</td>\n      <td>0</td>\n      <td>0</td>\n    </tr>\n  </tbody>\n</table>\n<p>30053 rows × 4 columns</p>\n</div>"
     },
     "execution_count": 26,
     "metadata": {},
     "output_type": "execute_result"
    }
   ],
   "source": [
    "meta_labels = meta_labeling(triple_barrier_events, dollar['close'])\n",
    "meta_labels"
   ],
   "metadata": {
    "collapsed": false,
    "ExecuteTime": {
     "end_time": "2023-09-29T04:34:34.990822Z",
     "start_time": "2023-09-29T04:34:33.744408Z"
    }
   },
   "id": "daf8b82cb55edfaa"
  },
  {
   "cell_type": "code",
   "execution_count": 27,
   "outputs": [
    {
     "data": {
      "text/plain": "                        Price   Fracdiff  Volatility  Concurrency  Uniqueness  \\\n2010-04-29 10:26:57   58.2801  10.476812    0.010964         15.0    0.104609   \n2010-04-29 11:09:15   58.3600  10.507715    0.011247          5.0    0.101340   \n2010-04-29 11:34:28   58.4100  10.488812    0.011638          5.0    0.086407   \n2010-04-29 11:44:01   58.4900  10.540226    0.011979          6.0    0.080429   \n2010-04-29 12:00:06   58.4498  10.465450    0.012262          7.0    0.074427   \n...                       ...        ...         ...          ...         ...   \n2023-05-08 15:16:20  152.1563  26.030479    0.010701         22.0    0.073810   \n2023-05-08 15:16:37  152.0900  25.963539    0.010595         23.0    0.074945   \n2023-05-08 15:36:39  152.0701  25.952489    0.010387         24.0    0.107179   \n2023-05-08 15:47:11  152.1800  26.065165    0.010283         25.0    0.124807   \n2023-05-08 15:54:13  152.0900  25.952918    0.010182         26.0    0.161731   \n\n                     CorwinSchultz      Kyle        Amihud     Hasbrouck  \\\n2010-04-29 10:26:57       0.002505  0.000005  1.465374e-09  1.483819e-06   \n2010-04-29 11:09:15       0.000000  0.000005  1.444967e-09  1.463203e-06   \n2010-04-29 11:34:28       0.006100  0.000005  1.363788e-09  1.381967e-06   \n2010-04-29 11:44:01       0.004628  0.000004  1.333476e-09  1.348967e-06   \n2010-04-29 12:00:06       0.006678  0.000004  1.333155e-09  1.348640e-06   \n...                            ...       ...           ...           ...   \n2023-05-08 15:16:20       0.002960  0.000020  8.639489e-10  9.057686e-07   \n2023-05-08 15:16:37       0.003382  0.000018  7.985690e-10  8.333525e-07   \n2023-05-08 15:36:39       0.002875  0.000018  7.770907e-10  8.105908e-07   \n2023-05-08 15:47:11       0.002256  0.000018  7.929681e-10  8.267172e-07   \n2023-05-08 15:54:13       0.002366  0.000019  8.159246e-10  8.496787e-07   \n\n                     Side  label  \n2010-04-29 10:26:57   0.0      0  \n2010-04-29 11:09:15   0.0      0  \n2010-04-29 11:34:28   0.0      0  \n2010-04-29 11:44:01   0.0      0  \n2010-04-29 12:00:06   0.0      0  \n...                   ...    ...  \n2023-05-08 15:16:20   0.0      0  \n2023-05-08 15:16:37   0.0      0  \n2023-05-08 15:36:39   0.0      0  \n2023-05-08 15:47:11   0.0      0  \n2023-05-08 15:54:13   0.0      0  \n\n[29415 rows x 11 columns]",
      "text/html": "<div>\n<style scoped>\n    .dataframe tbody tr th:only-of-type {\n        vertical-align: middle;\n    }\n\n    .dataframe tbody tr th {\n        vertical-align: top;\n    }\n\n    .dataframe thead th {\n        text-align: right;\n    }\n</style>\n<table border=\"1\" class=\"dataframe\">\n  <thead>\n    <tr style=\"text-align: right;\">\n      <th></th>\n      <th>Price</th>\n      <th>Fracdiff</th>\n      <th>Volatility</th>\n      <th>Concurrency</th>\n      <th>Uniqueness</th>\n      <th>CorwinSchultz</th>\n      <th>Kyle</th>\n      <th>Amihud</th>\n      <th>Hasbrouck</th>\n      <th>Side</th>\n      <th>label</th>\n    </tr>\n  </thead>\n  <tbody>\n    <tr>\n      <th>2010-04-29 10:26:57</th>\n      <td>58.2801</td>\n      <td>10.476812</td>\n      <td>0.010964</td>\n      <td>15.0</td>\n      <td>0.104609</td>\n      <td>0.002505</td>\n      <td>0.000005</td>\n      <td>1.465374e-09</td>\n      <td>1.483819e-06</td>\n      <td>0.0</td>\n      <td>0</td>\n    </tr>\n    <tr>\n      <th>2010-04-29 11:09:15</th>\n      <td>58.3600</td>\n      <td>10.507715</td>\n      <td>0.011247</td>\n      <td>5.0</td>\n      <td>0.101340</td>\n      <td>0.000000</td>\n      <td>0.000005</td>\n      <td>1.444967e-09</td>\n      <td>1.463203e-06</td>\n      <td>0.0</td>\n      <td>0</td>\n    </tr>\n    <tr>\n      <th>2010-04-29 11:34:28</th>\n      <td>58.4100</td>\n      <td>10.488812</td>\n      <td>0.011638</td>\n      <td>5.0</td>\n      <td>0.086407</td>\n      <td>0.006100</td>\n      <td>0.000005</td>\n      <td>1.363788e-09</td>\n      <td>1.381967e-06</td>\n      <td>0.0</td>\n      <td>0</td>\n    </tr>\n    <tr>\n      <th>2010-04-29 11:44:01</th>\n      <td>58.4900</td>\n      <td>10.540226</td>\n      <td>0.011979</td>\n      <td>6.0</td>\n      <td>0.080429</td>\n      <td>0.004628</td>\n      <td>0.000004</td>\n      <td>1.333476e-09</td>\n      <td>1.348967e-06</td>\n      <td>0.0</td>\n      <td>0</td>\n    </tr>\n    <tr>\n      <th>2010-04-29 12:00:06</th>\n      <td>58.4498</td>\n      <td>10.465450</td>\n      <td>0.012262</td>\n      <td>7.0</td>\n      <td>0.074427</td>\n      <td>0.006678</td>\n      <td>0.000004</td>\n      <td>1.333155e-09</td>\n      <td>1.348640e-06</td>\n      <td>0.0</td>\n      <td>0</td>\n    </tr>\n    <tr>\n      <th>...</th>\n      <td>...</td>\n      <td>...</td>\n      <td>...</td>\n      <td>...</td>\n      <td>...</td>\n      <td>...</td>\n      <td>...</td>\n      <td>...</td>\n      <td>...</td>\n      <td>...</td>\n      <td>...</td>\n    </tr>\n    <tr>\n      <th>2023-05-08 15:16:20</th>\n      <td>152.1563</td>\n      <td>26.030479</td>\n      <td>0.010701</td>\n      <td>22.0</td>\n      <td>0.073810</td>\n      <td>0.002960</td>\n      <td>0.000020</td>\n      <td>8.639489e-10</td>\n      <td>9.057686e-07</td>\n      <td>0.0</td>\n      <td>0</td>\n    </tr>\n    <tr>\n      <th>2023-05-08 15:16:37</th>\n      <td>152.0900</td>\n      <td>25.963539</td>\n      <td>0.010595</td>\n      <td>23.0</td>\n      <td>0.074945</td>\n      <td>0.003382</td>\n      <td>0.000018</td>\n      <td>7.985690e-10</td>\n      <td>8.333525e-07</td>\n      <td>0.0</td>\n      <td>0</td>\n    </tr>\n    <tr>\n      <th>2023-05-08 15:36:39</th>\n      <td>152.0701</td>\n      <td>25.952489</td>\n      <td>0.010387</td>\n      <td>24.0</td>\n      <td>0.107179</td>\n      <td>0.002875</td>\n      <td>0.000018</td>\n      <td>7.770907e-10</td>\n      <td>8.105908e-07</td>\n      <td>0.0</td>\n      <td>0</td>\n    </tr>\n    <tr>\n      <th>2023-05-08 15:47:11</th>\n      <td>152.1800</td>\n      <td>26.065165</td>\n      <td>0.010283</td>\n      <td>25.0</td>\n      <td>0.124807</td>\n      <td>0.002256</td>\n      <td>0.000018</td>\n      <td>7.929681e-10</td>\n      <td>8.267172e-07</td>\n      <td>0.0</td>\n      <td>0</td>\n    </tr>\n    <tr>\n      <th>2023-05-08 15:54:13</th>\n      <td>152.0900</td>\n      <td>25.952918</td>\n      <td>0.010182</td>\n      <td>26.0</td>\n      <td>0.161731</td>\n      <td>0.002366</td>\n      <td>0.000019</td>\n      <td>8.159246e-10</td>\n      <td>8.496787e-07</td>\n      <td>0.0</td>\n      <td>0</td>\n    </tr>\n  </tbody>\n</table>\n<p>29415 rows × 11 columns</p>\n</div>"
     },
     "execution_count": 27,
     "metadata": {},
     "output_type": "execute_result"
    }
   ],
   "source": [
    "matrix['label'] = meta_labels['bin']\n",
    "matrix"
   ],
   "metadata": {
    "collapsed": false,
    "ExecuteTime": {
     "end_time": "2023-09-29T04:34:34.999752Z",
     "start_time": "2023-09-29T04:34:34.991173Z"
    }
   },
   "id": "791c1545f128cfb6"
  },
  {
   "cell_type": "markdown",
   "source": [
    "#### Meta Model"
   ],
   "metadata": {
    "collapsed": false
   },
   "id": "9607bedd247323bb"
  },
  {
   "cell_type": "code",
   "execution_count": 34,
   "outputs": [],
   "source": [
    "from sklearn.model_selection import train_test_split\n",
    "X = matrix.iloc[:,[0,1,2,3,5,6,8]]\n",
    "y = matrix.iloc[:,-1]\n",
    "\n",
    "X_train, X_test, y_train, y_test = train_test_split(X, y, test_size = 0.3, shuffle = False)"
   ],
   "metadata": {
    "collapsed": false,
    "ExecuteTime": {
     "end_time": "2023-09-29T08:33:27.574542Z",
     "start_time": "2023-09-29T08:33:27.554312Z"
    }
   },
   "id": "7ff64a86b4b83bec"
  },
  {
   "cell_type": "code",
   "execution_count": 35,
   "outputs": [],
   "source": [
    "from sklearn.ensemble import RandomForestClassifier\n",
    "\n",
    "rf = RandomForestClassifier(n_estimators = 1000,\n",
    "                            criterion = 'entropy', \n",
    "                            random_state = 42,\n",
    "                            class_weight = 'balanced_subsample', \n",
    "                            ccp_alpha = 0.001,\n",
    "                            min_weight_fraction_leaf = 0.05,\n",
    "                            max_samples = matrix['Uniqueness'].mean(),\n",
    "                            max_features = 20)\n",
    "model = rf.fit(X_train, y_train)"
   ],
   "metadata": {
    "collapsed": false,
    "ExecuteTime": {
     "end_time": "2023-09-29T08:33:32.337197Z",
     "start_time": "2023-09-29T08:33:28.454827Z"
    }
   },
   "id": "bcd1af0b15a9c6be"
  },
  {
   "cell_type": "markdown",
   "source": [
    "#### Feature importances"
   ],
   "metadata": {
    "collapsed": false
   },
   "id": "c4d2459e3107cd19"
  },
  {
   "cell_type": "code",
   "execution_count": 37,
   "outputs": [],
   "source": [
    "from sklearn.tree import DecisionTreeClassifier\n",
    "from sklearn.ensemble import BaggingClassifier\n",
    "from sklearn.metrics import accuracy_score\n",
    "from FinancialMachineLearning.machine_learning.cross_validation import PurgedKFold, ml_cross_val_score\n",
    "\n",
    "from FinancialMachineLearning.feature_importance.importance import (\n",
    "    mean_decrease_impurity,\n",
    "    mean_decrease_accuracy,\n",
    "    single_feature_importance,\n",
    "    plot_feature_importance\n",
    ")\n",
    "\n",
    "def feature_importances(X, cont, method, allow_masking_effects = False, n_splits = 10):\n",
    "    max_features = None if allow_masking_effects else 1\n",
    "    clf = DecisionTreeClassifier(\n",
    "        criterion='entropy', max_features=max_features, class_weight='balanced', min_weight_fraction_leaf=0.0\n",
    "    )\n",
    "    clf = BaggingClassifier(\n",
    "        base_estimator=clf, n_estimators=1000, max_features=1.0, max_samples=1.0, oob_score=True, n_jobs=-1\n",
    "    )\n",
    "    fit = clf.fit(X, cont['bin'])\n",
    "    oob_score = fit.oob_score_\n",
    "\n",
    "    cv_gen = PurgedKFold(n_splits=n_splits, samples_info_sets=cont['t1'])\n",
    "    oos_score = ml_cross_val_score(clf, X, cont['bin'], cv_gen=cv_gen, scoring=accuracy_score).mean()\n",
    "\n",
    "    if method == 'MDI':\n",
    "        imp = mean_decrease_impurity(fit, X.columns)\n",
    "    elif method == 'MDA':\n",
    "        imp = mean_decrease_accuracy(clf, X, cont['bin'], cv_gen, scoring=accuracy_score)\n",
    "    elif method == 'SFI':\n",
    "        imp = single_feature_importance(clf, X, cont['bin'], cv_gen, scoring=accuracy_score)\n",
    "    \n",
    "    return imp, oob_score, oos_score\n",
    "\n",
    "\n",
    "def test_data_func(X, cont, run='', allow_masking_effects=False, methods=['MDI', 'MDA', 'SFI']):\n",
    "    for method in methods:\n",
    "        feature_imp, oob_score, oos_score = feature_importances(X, cont, method, allow_masking_effects)\n",
    "        plot_feature_importance(\n",
    "            feature_imp, oob_score=oob_score, oos_score=oos_score,\n",
    "            save_fig = False\n",
    "        )\n"
   ],
   "metadata": {
    "collapsed": false,
    "ExecuteTime": {
     "end_time": "2023-09-29T08:34:16.980578Z",
     "start_time": "2023-09-29T08:34:16.956599Z"
    }
   },
   "id": "cc501ad6aded8b73"
  },
  {
   "cell_type": "code",
   "execution_count": 38,
   "outputs": [
    {
     "data": {
      "text/plain": "                     bin         w                  t1\n2010-04-29 10:26:57    0  0.010964 2010-04-30 10:32:44\n2010-04-29 11:09:15    0  0.011247 2010-04-30 11:27:17\n2010-04-29 11:34:28    0  0.011638 2010-04-30 11:51:36\n2010-04-29 11:44:01    0  0.011979 2010-04-30 11:51:36\n2010-04-29 12:00:06    0  0.012262 2010-04-30 12:12:31\n...                  ...       ...                 ...\n2020-09-03 13:03:18    1  0.011484 2020-09-04 11:27:01\n2020-09-03 13:04:35    1  0.011690 2020-09-04 09:44:44\n2020-09-03 13:11:31    1  0.011758 2020-09-04 11:27:01\n2020-09-03 13:17:19    1  0.011821 2020-09-04 11:27:01\n2020-09-03 13:22:10    1  0.011914 2020-09-04 11:27:01\n\n[20590 rows x 3 columns]",
      "text/html": "<div>\n<style scoped>\n    .dataframe tbody tr th:only-of-type {\n        vertical-align: middle;\n    }\n\n    .dataframe tbody tr th {\n        vertical-align: top;\n    }\n\n    .dataframe thead th {\n        text-align: right;\n    }\n</style>\n<table border=\"1\" class=\"dataframe\">\n  <thead>\n    <tr style=\"text-align: right;\">\n      <th></th>\n      <th>bin</th>\n      <th>w</th>\n      <th>t1</th>\n    </tr>\n  </thead>\n  <tbody>\n    <tr>\n      <th>2010-04-29 10:26:57</th>\n      <td>0</td>\n      <td>0.010964</td>\n      <td>2010-04-30 10:32:44</td>\n    </tr>\n    <tr>\n      <th>2010-04-29 11:09:15</th>\n      <td>0</td>\n      <td>0.011247</td>\n      <td>2010-04-30 11:27:17</td>\n    </tr>\n    <tr>\n      <th>2010-04-29 11:34:28</th>\n      <td>0</td>\n      <td>0.011638</td>\n      <td>2010-04-30 11:51:36</td>\n    </tr>\n    <tr>\n      <th>2010-04-29 11:44:01</th>\n      <td>0</td>\n      <td>0.011979</td>\n      <td>2010-04-30 11:51:36</td>\n    </tr>\n    <tr>\n      <th>2010-04-29 12:00:06</th>\n      <td>0</td>\n      <td>0.012262</td>\n      <td>2010-04-30 12:12:31</td>\n    </tr>\n    <tr>\n      <th>...</th>\n      <td>...</td>\n      <td>...</td>\n      <td>...</td>\n    </tr>\n    <tr>\n      <th>2020-09-03 13:03:18</th>\n      <td>1</td>\n      <td>0.011484</td>\n      <td>2020-09-04 11:27:01</td>\n    </tr>\n    <tr>\n      <th>2020-09-03 13:04:35</th>\n      <td>1</td>\n      <td>0.011690</td>\n      <td>2020-09-04 09:44:44</td>\n    </tr>\n    <tr>\n      <th>2020-09-03 13:11:31</th>\n      <td>1</td>\n      <td>0.011758</td>\n      <td>2020-09-04 11:27:01</td>\n    </tr>\n    <tr>\n      <th>2020-09-03 13:17:19</th>\n      <td>1</td>\n      <td>0.011821</td>\n      <td>2020-09-04 11:27:01</td>\n    </tr>\n    <tr>\n      <th>2020-09-03 13:22:10</th>\n      <td>1</td>\n      <td>0.011914</td>\n      <td>2020-09-04 11:27:01</td>\n    </tr>\n  </tbody>\n</table>\n<p>20590 rows × 3 columns</p>\n</div>"
     },
     "execution_count": 38,
     "metadata": {},
     "output_type": "execute_result"
    }
   ],
   "source": [
    "cont = pd.concat([matrix['label'][:20590], triple_barrier_events[-29415:][:20590]['trgt'], triple_barrier_events[-29415:][:20590]['t1']], axis = 1)\n",
    "cont.columns = ['bin','w','t1']\n",
    "cont"
   ],
   "metadata": {
    "collapsed": false,
    "ExecuteTime": {
     "end_time": "2023-09-29T08:34:19.934841Z",
     "start_time": "2023-09-29T08:34:19.913165Z"
    }
   },
   "id": "ff9635f1ed867eb0"
  },
  {
   "cell_type": "code",
   "execution_count": 39,
   "outputs": [
    {
     "data": {
      "text/plain": "<Figure size 1000x140 with 1 Axes>",
      "image/png": "[encoded data removed]"
     },
     "metadata": {},
     "output_type": "display_data"
    },
    {
     "data": {
      "text/plain": "<Figure size 1000x140 with 1 Axes>",
      "image/png": "[encoded data removed]"
     },
     "metadata": {},
     "output_type": "display_data"
    },
    {
     "data": {
      "text/plain": "<Figure size 1000x140 with 1 Axes>",
      "image/png": "[encoded data removed]"
     },
     "metadata": {},
     "output_type": "display_data"
    }
   ],
   "source": [
    "test_data_func(X_train, cont)"
   ],
   "metadata": {
    "collapsed": false,
    "ExecuteTime": {
     "end_time": "2023-09-29T08:46:39.481190Z",
     "start_time": "2023-09-29T08:34:24.629967Z"
    }
   },
   "id": "417914874d83a189"
  },
  {
   "cell_type": "markdown",
   "source": [
    "#### Machine Learning Score"
   ],
   "metadata": {
    "collapsed": false
   },
   "id": "1f96f81153aff494"
  },
  {
   "cell_type": "code",
   "execution_count": 40,
   "outputs": [
    {
     "name": "stdout",
     "output_type": "stream",
     "text": [
      "              precision    recall  f1-score   support\n",
      "\n",
      "    no trade       0.60      0.38      0.46      4647\n",
      "       trade       0.51      0.72      0.60      4178\n",
      "\n",
      "    accuracy                           0.54      8825\n",
      "   macro avg       0.55      0.55      0.53      8825\n",
      "weighted avg       0.56      0.54      0.53      8825\n"
     ]
    },
    {
     "data": {
      "text/plain": "<Figure size 700x500 with 1 Axes>",
      "image/png": "[encoded data removed]"
     },
     "metadata": {},
     "output_type": "display_data"
    }
   ],
   "source": [
    "from sklearn.metrics import roc_curve, classification_report\n",
    "\n",
    "fit = rf.fit(X_train, y_train)\n",
    "y_pred_rf = fit.predict_proba(X_test)[:, 1]\n",
    "y_pred = fit.predict(X_test)\n",
    "fpr_bc, tpr_bc, _ = roc_curve(y_test, y_pred_rf)\n",
    "print(classification_report(y_test, y_pred, target_names = ['no trade',' trade']))\n",
    "\n",
    "plt.figure(figsize = (7,5))\n",
    "plt.plot([0, 1], [0, 1], 'k--')\n",
    "plt.plot(fpr_bc, tpr_bc, label = 'RandomForest')\n",
    "plt.grid(False)\n",
    "plt.xlabel('False positive rate', fontfamily = 'Serif')\n",
    "plt.ylabel('True positive rate', fontfamily = 'Serif')\n",
    "plt.title('ROC curve', fontsize = 12, fontfamily = 'Serif')\n",
    "plt.legend(loc = 'best')\n",
    "plt.show()"
   ],
   "metadata": {
    "collapsed": false,
    "ExecuteTime": {
     "end_time": "2023-09-29T08:48:01.857851Z",
     "start_time": "2023-09-29T08:47:57.575814Z"
    }
   },
   "id": "f9da5caa900fb956"
  },
  {
   "cell_type": "markdown",
   "source": [
    "#### Bet sizing"
   ],
   "metadata": {
    "collapsed": false
   },
   "id": "e52db652d22f2566"
  },
  {
   "cell_type": "code",
   "execution_count": 58,
   "outputs": [],
   "source": [
    "from FinancialMachineLearning.bet_sizing.bet_sizing import (bet_size_probability, bet_size_dynamic, bet_size_budget, bet_size_reserve, confirm_and_cast_to_df, get_concurrent_sides, cdf_mixture, single_bet_size_mixed, M2N, raw_moment, most_likely_parameters, avg_active_signals)\n",
    "from FinancialMachineLearning.bet_sizing.ef3m import centered_moment"
   ],
   "metadata": {
    "collapsed": false,
    "ExecuteTime": {
     "end_time": "2023-09-29T09:45:42.569865Z",
     "start_time": "2023-09-29T09:45:42.563649Z"
    }
   },
   "id": "e494cff62e093101"
  },
  {
   "cell_type": "code",
   "execution_count": 52,
   "outputs": [],
   "source": [
    "event_prob = pd.DataFrame()\n",
    "event_prob['t1'] = triple_barrier_events[-8825:]['t1'].values\n",
    "event_prob['prob'] = fit.predict_proba(X_test)[:,1]\n",
    "event_prob.index = triple_barrier_events[-8825:]['t1'].index"
   ],
   "metadata": {
    "collapsed": false,
    "ExecuteTime": {
     "end_time": "2023-09-29T09:41:45.106112Z",
     "start_time": "2023-09-29T09:41:44.924756Z"
    }
   },
   "id": "8c95c2c5ba55503d"
  },
  {
   "cell_type": "code",
   "execution_count": 53,
   "outputs": [
    {
     "data": {
      "text/plain": "                                     t1      prob\n2020-09-03 13:30:00 2020-09-04 11:27:01  0.720611\n2020-09-03 13:33:51 2020-09-04 13:41:00  0.744431\n2020-09-03 13:39:20 2020-09-04 13:41:00  0.740518\n2020-09-03 13:45:09 2020-09-04 13:48:15  0.714426\n2020-09-03 13:52:55 2020-09-04 13:58:54  0.710046\n...                                 ...       ...\n2023-05-08 15:16:20 2023-05-09 15:24:47  0.736359\n2023-05-08 15:16:37 2023-05-09 15:24:47  0.716778\n2023-05-08 15:36:39 2023-05-09 15:40:39  0.709600\n2023-05-08 15:47:11 2023-05-09 15:48:38  0.720279\n2023-05-08 15:54:13 2023-05-09 15:55:49  0.731807\n\n[8825 rows x 2 columns]",
      "text/html": "<div>\n<style scoped>\n    .dataframe tbody tr th:only-of-type {\n        vertical-align: middle;\n    }\n\n    .dataframe tbody tr th {\n        vertical-align: top;\n    }\n\n    .dataframe thead th {\n        text-align: right;\n    }\n</style>\n<table border=\"1\" class=\"dataframe\">\n  <thead>\n    <tr style=\"text-align: right;\">\n      <th></th>\n      <th>t1</th>\n      <th>prob</th>\n    </tr>\n  </thead>\n  <tbody>\n    <tr>\n      <th>2020-09-03 13:30:00</th>\n      <td>2020-09-04 11:27:01</td>\n      <td>0.720611</td>\n    </tr>\n    <tr>\n      <th>2020-09-03 13:33:51</th>\n      <td>2020-09-04 13:41:00</td>\n      <td>0.744431</td>\n    </tr>\n    <tr>\n      <th>2020-09-03 13:39:20</th>\n      <td>2020-09-04 13:41:00</td>\n      <td>0.740518</td>\n    </tr>\n    <tr>\n      <th>2020-09-03 13:45:09</th>\n      <td>2020-09-04 13:48:15</td>\n      <td>0.714426</td>\n    </tr>\n    <tr>\n      <th>2020-09-03 13:52:55</th>\n      <td>2020-09-04 13:58:54</td>\n      <td>0.710046</td>\n    </tr>\n    <tr>\n      <th>...</th>\n      <td>...</td>\n      <td>...</td>\n    </tr>\n    <tr>\n      <th>2023-05-08 15:16:20</th>\n      <td>2023-05-09 15:24:47</td>\n      <td>0.736359</td>\n    </tr>\n    <tr>\n      <th>2023-05-08 15:16:37</th>\n      <td>2023-05-09 15:24:47</td>\n      <td>0.716778</td>\n    </tr>\n    <tr>\n      <th>2023-05-08 15:36:39</th>\n      <td>2023-05-09 15:40:39</td>\n      <td>0.709600</td>\n    </tr>\n    <tr>\n      <th>2023-05-08 15:47:11</th>\n      <td>2023-05-09 15:48:38</td>\n      <td>0.720279</td>\n    </tr>\n    <tr>\n      <th>2023-05-08 15:54:13</th>\n      <td>2023-05-09 15:55:49</td>\n      <td>0.731807</td>\n    </tr>\n  </tbody>\n</table>\n<p>8825 rows × 2 columns</p>\n</div>"
     },
     "execution_count": 53,
     "metadata": {},
     "output_type": "execute_result"
    }
   ],
   "source": [
    "event_prob"
   ],
   "metadata": {
    "collapsed": false,
    "ExecuteTime": {
     "end_time": "2023-09-29T09:41:48.801736Z",
     "start_time": "2023-09-29T09:41:48.790039Z"
    }
   },
   "id": "56b371378231a1fe"
  },
  {
   "cell_type": "code",
   "execution_count": 54,
   "outputs": [],
   "source": [
    "event_prob['bet_size_prob'] = bet_size_probability(events = event_prob, \n",
    "                                                   prob = event_prob['prob'], \n",
    "                                                   num_classes = 2)"
   ],
   "metadata": {
    "collapsed": false,
    "ExecuteTime": {
     "end_time": "2023-09-29T09:42:47.305428Z",
     "start_time": "2023-09-29T09:42:47.059817Z"
    }
   },
   "id": "e3f2b74e29904623"
  },
  {
   "cell_type": "code",
   "execution_count": 56,
   "outputs": [],
   "source": [
    "event_prob['side'] = 1"
   ],
   "metadata": {
    "collapsed": false,
    "ExecuteTime": {
     "end_time": "2023-09-29T09:43:46.216032Z",
     "start_time": "2023-09-29T09:43:46.186719Z"
    }
   },
   "id": "2b9c0f64d8f7914d"
  },
  {
   "cell_type": "code",
   "execution_count": 57,
   "outputs": [
    {
     "data": {
      "text/plain": "                                     t1      prob  bet_size_prob  side\n2020-09-03 13:30:00 2020-09-04 11:27:01  0.720611       0.377045     1\n2020-09-03 13:33:51 2020-09-04 13:41:00  0.744431       0.424785     1\n2020-09-03 13:39:20 2020-09-04 13:41:00  0.740518       0.416781     1\n2020-09-03 13:45:09 2020-09-04 13:48:15  0.714426       0.365016     1\n2020-09-03 13:52:55 2020-09-04 13:58:54  0.710046       0.356579     1\n...                                 ...       ...            ...   ...\n2023-05-08 15:16:20 2023-05-09 15:24:47  0.736359       0.408346     1\n2023-05-08 15:16:37 2023-05-09 15:24:47  0.716778       0.369574     1\n2023-05-08 15:36:39 2023-05-09 15:40:39  0.709600       0.355724     1\n2023-05-08 15:47:11 2023-05-09 15:48:38  0.720279       0.376397     1\n2023-05-08 15:54:13 2023-05-09 15:55:49  0.731807       0.399197     1\n\n[8825 rows x 4 columns]",
      "text/html": "<div>\n<style scoped>\n    .dataframe tbody tr th:only-of-type {\n        vertical-align: middle;\n    }\n\n    .dataframe tbody tr th {\n        vertical-align: top;\n    }\n\n    .dataframe thead th {\n        text-align: right;\n    }\n</style>\n<table border=\"1\" class=\"dataframe\">\n  <thead>\n    <tr style=\"text-align: right;\">\n      <th></th>\n      <th>t1</th>\n      <th>prob</th>\n      <th>bet_size_prob</th>\n      <th>side</th>\n    </tr>\n  </thead>\n  <tbody>\n    <tr>\n      <th>2020-09-03 13:30:00</th>\n      <td>2020-09-04 11:27:01</td>\n      <td>0.720611</td>\n      <td>0.377045</td>\n      <td>1</td>\n    </tr>\n    <tr>\n      <th>2020-09-03 13:33:51</th>\n      <td>2020-09-04 13:41:00</td>\n      <td>0.744431</td>\n      <td>0.424785</td>\n      <td>1</td>\n    </tr>\n    <tr>\n      <th>2020-09-03 13:39:20</th>\n      <td>2020-09-04 13:41:00</td>\n      <td>0.740518</td>\n      <td>0.416781</td>\n      <td>1</td>\n    </tr>\n    <tr>\n      <th>2020-09-03 13:45:09</th>\n      <td>2020-09-04 13:48:15</td>\n      <td>0.714426</td>\n      <td>0.365016</td>\n      <td>1</td>\n    </tr>\n    <tr>\n      <th>2020-09-03 13:52:55</th>\n      <td>2020-09-04 13:58:54</td>\n      <td>0.710046</td>\n      <td>0.356579</td>\n      <td>1</td>\n    </tr>\n    <tr>\n      <th>...</th>\n      <td>...</td>\n      <td>...</td>\n      <td>...</td>\n      <td>...</td>\n    </tr>\n    <tr>\n      <th>2023-05-08 15:16:20</th>\n      <td>2023-05-09 15:24:47</td>\n      <td>0.736359</td>\n      <td>0.408346</td>\n      <td>1</td>\n    </tr>\n    <tr>\n      <th>2023-05-08 15:16:37</th>\n      <td>2023-05-09 15:24:47</td>\n      <td>0.716778</td>\n      <td>0.369574</td>\n      <td>1</td>\n    </tr>\n    <tr>\n      <th>2023-05-08 15:36:39</th>\n      <td>2023-05-09 15:40:39</td>\n      <td>0.709600</td>\n      <td>0.355724</td>\n      <td>1</td>\n    </tr>\n    <tr>\n      <th>2023-05-08 15:47:11</th>\n      <td>2023-05-09 15:48:38</td>\n      <td>0.720279</td>\n      <td>0.376397</td>\n      <td>1</td>\n    </tr>\n    <tr>\n      <th>2023-05-08 15:54:13</th>\n      <td>2023-05-09 15:55:49</td>\n      <td>0.731807</td>\n      <td>0.399197</td>\n      <td>1</td>\n    </tr>\n  </tbody>\n</table>\n<p>8825 rows × 4 columns</p>\n</div>"
     },
     "execution_count": 57,
     "metadata": {},
     "output_type": "execute_result"
    }
   ],
   "source": [
    "event_prob"
   ],
   "metadata": {
    "collapsed": false,
    "ExecuteTime": {
     "end_time": "2023-09-29T09:43:49.652425Z",
     "start_time": "2023-09-29T09:43:49.646379Z"
    }
   },
   "id": "9e8eb7e7c0ae3bcd"
  },
  {
   "cell_type": "code",
   "execution_count": 59,
   "outputs": [
    {
     "name": "stderr",
     "output_type": "stream",
     "text": [
      "/Users/junghunlee/Desktop/Pycharm/FinancialMachineLearning/FinancialMachineLearning/multiprocess/fast_ewma.py:5: NumbaDeprecationWarning: The keyword argument 'nopython=False' was supplied. From Numba 0.59.0 the default is being changed to True and use of 'nopython=False' will raise a warning as the argument will have no effect. See https://numba.readthedocs.io/en/stable/reference/deprecation.html#deprecation-of-object-mode-fall-back-behaviour-when-using-jit for details.\n",
      "  @jit((float64[:], int64), nopython = False, nogil = True)\n",
      "/Users/junghunlee/Desktop/Pycharm/FinancialMachineLearning/FinancialMachineLearning/multiprocess/fast_ewma.py:5: NumbaDeprecationWarning: The keyword argument 'nopython=False' was supplied. From Numba 0.59.0 the default is being changed to True and use of 'nopython=False' will raise a warning as the argument will have no effect. See https://numba.readthedocs.io/en/stable/reference/deprecation.html#deprecation-of-object-mode-fall-back-behaviour-when-using-jit for details.\n",
      "  @jit((float64[:], int64), nopython = False, nogil = True)\n",
      "/Users/junghunlee/Desktop/Pycharm/FinancialMachineLearning/FinancialMachineLearning/multiprocess/fast_ewma.py:5: NumbaDeprecationWarning: The keyword argument 'nopython=False' was supplied. From Numba 0.59.0 the default is being changed to True and use of 'nopython=False' will raise a warning as the argument will have no effect. See https://numba.readthedocs.io/en/stable/reference/deprecation.html#deprecation-of-object-mode-fall-back-behaviour-when-using-jit for details.\n",
      "  @jit((float64[:], int64), nopython = False, nogil = True)\n",
      "/Users/junghunlee/Desktop/Pycharm/FinancialMachineLearning/FinancialMachineLearning/multiprocess/fast_ewma.py:5: NumbaDeprecationWarning: The keyword argument 'nopython=False' was supplied. From Numba 0.59.0 the default is being changed to True and use of 'nopython=False' will raise a warning as the argument will have no effect. See https://numba.readthedocs.io/en/stable/reference/deprecation.html#deprecation-of-object-mode-fall-back-behaviour-when-using-jit for details.\n",
      "  @jit((float64[:], int64), nopython = False, nogil = True)\n",
      "/Users/junghunlee/Desktop/Pycharm/FinancialMachineLearning/FinancialMachineLearning/multiprocess/fast_ewma.py:5: NumbaDeprecationWarning: The keyword argument 'nopython=False' was supplied. From Numba 0.59.0 the default is being changed to True and use of 'nopython=False' will raise a warning as the argument will have no effect. See https://numba.readthedocs.io/en/stable/reference/deprecation.html#deprecation-of-object-mode-fall-back-behaviour-when-using-jit for details.\n",
      "  @jit((float64[:], int64), nopython = False, nogil = True)\n",
      "/Users/junghunlee/Desktop/Pycharm/FinancialMachineLearning/FinancialMachineLearning/multiprocess/fast_ewma.py:5: NumbaDeprecationWarning: The keyword argument 'nopython=False' was supplied. From Numba 0.59.0 the default is being changed to True and use of 'nopython=False' will raise a warning as the argument will have no effect. See https://numba.readthedocs.io/en/stable/reference/deprecation.html#deprecation-of-object-mode-fall-back-behaviour-when-using-jit for details.\n",
      "  @jit((float64[:], int64), nopython = False, nogil = True)\n",
      "/Users/junghunlee/Desktop/Pycharm/FinancialMachineLearning/FinancialMachineLearning/multiprocess/fast_ewma.py:5: NumbaDeprecationWarning: The keyword argument 'nopython=False' was supplied. From Numba 0.59.0 the default is being changed to True and use of 'nopython=False' will raise a warning as the argument will have no effect. See https://numba.readthedocs.io/en/stable/reference/deprecation.html#deprecation-of-object-mode-fall-back-behaviour-when-using-jit for details.\n",
      "  @jit((float64[:], int64), nopython = False, nogil = True)\n",
      "/Users/junghunlee/Desktop/Pycharm/FinancialMachineLearning/FinancialMachineLearning/multiprocess/fast_ewma.py:5: NumbaDeprecationWarning: The keyword argument 'nopython=False' was supplied. From Numba 0.59.0 the default is being changed to True and use of 'nopython=False' will raise a warning as the argument will have no effect. See https://numba.readthedocs.io/en/stable/reference/deprecation.html#deprecation-of-object-mode-fall-back-behaviour-when-using-jit for details.\n",
      "  @jit((float64[:], int64), nopython = False, nogil = True)\n",
      "/Users/junghunlee/Desktop/Pycharm/FinancialMachineLearning/FinancialMachineLearning/bet_sizing/bet_sizing.py:26: FutureWarning: The default dtype for empty Series will be 'object' instead of 'float64' in a future version. Specify a dtype explicitly to silence this warning.\n",
      "  out = pd.Series()\n",
      "/Users/junghunlee/Desktop/Pycharm/FinancialMachineLearning/FinancialMachineLearning/bet_sizing/bet_sizing.py:26: FutureWarning: The default dtype for empty Series will be 'object' instead of 'float64' in a future version. Specify a dtype explicitly to silence this warning.\n",
      "  out = pd.Series()\n",
      "/Users/junghunlee/Desktop/Pycharm/FinancialMachineLearning/FinancialMachineLearning/bet_sizing/bet_sizing.py:26: FutureWarning: The default dtype for empty Series will be 'object' instead of 'float64' in a future version. Specify a dtype explicitly to silence this warning.\n",
      "  out = pd.Series()\n",
      "/Users/junghunlee/Desktop/Pycharm/FinancialMachineLearning/FinancialMachineLearning/bet_sizing/bet_sizing.py:26: FutureWarning: The default dtype for empty Series will be 'object' instead of 'float64' in a future version. Specify a dtype explicitly to silence this warning.\n",
      "  out = pd.Series()\n",
      "/Users/junghunlee/Desktop/Pycharm/FinancialMachineLearning/FinancialMachineLearning/bet_sizing/bet_sizing.py:26: FutureWarning: The default dtype for empty Series will be 'object' instead of 'float64' in a future version. Specify a dtype explicitly to silence this warning.\n",
      "  out = pd.Series()\n",
      "/Users/junghunlee/Desktop/Pycharm/FinancialMachineLearning/FinancialMachineLearning/bet_sizing/bet_sizing.py:26: FutureWarning: The default dtype for empty Series will be 'object' instead of 'float64' in a future version. Specify a dtype explicitly to silence this warning.\n",
      "  out = pd.Series()\n",
      "/Users/junghunlee/Desktop/Pycharm/FinancialMachineLearning/FinancialMachineLearning/bet_sizing/bet_sizing.py:26: FutureWarning: The default dtype for empty Series will be 'object' instead of 'float64' in a future version. Specify a dtype explicitly to silence this warning.\n",
      "  out = pd.Series()\n",
      "/Users/junghunlee/Desktop/Pycharm/FinancialMachineLearning/FinancialMachineLearning/bet_sizing/bet_sizing.py:26: FutureWarning: The default dtype for empty Series will be 'object' instead of 'float64' in a future version. Specify a dtype explicitly to silence this warning.\n",
      "  out = pd.Series()\n",
      "2023-09-29 18:46:23.348861 100.0% mp_avg_active_signals done after 0.09 minutes. Remaining 0.0 minutes.\n"
     ]
    }
   ],
   "source": [
    "from multiprocessing import cpu_count\n",
    "\n",
    "avg_active_bet_sizes = avg_active_signals(event_prob.rename(columns ={'bet_size_prob': 'signal'}), num_threads = cpu_count())\n",
    "event_prob['avg_active_bet_size'] = avg_active_bet_sizes"
   ],
   "metadata": {
    "collapsed": false,
    "ExecuteTime": {
     "end_time": "2023-09-29T09:46:23.653590Z",
     "start_time": "2023-09-29T09:46:17.934605Z"
    }
   },
   "id": "9cb6400101145c7e"
  },
  {
   "cell_type": "code",
   "execution_count": 60,
   "outputs": [
    {
     "name": "stdout",
     "output_type": "stream",
     "text": [
      "The first 10 rows of the resulting DataFrame from Exercise 10.2:\n"
     ]
    },
    {
     "data": {
      "text/plain": "                                     t1      prob  bet_size_prob  side  \\\n2020-09-03 13:30:00 2020-09-04 11:27:01  0.720611       0.377045     1   \n2020-09-03 13:33:51 2020-09-04 13:41:00  0.744431       0.424785     1   \n2020-09-03 13:39:20 2020-09-04 13:41:00  0.740518       0.416781     1   \n2020-09-03 13:45:09 2020-09-04 13:48:15  0.714426       0.365016     1   \n2020-09-03 13:52:55 2020-09-04 13:58:54  0.710046       0.356579     1   \n...                                 ...       ...            ...   ...   \n2023-05-08 15:16:20 2023-05-09 15:24:47  0.736359       0.408346     1   \n2023-05-08 15:16:37 2023-05-09 15:24:47  0.716778       0.369574     1   \n2023-05-08 15:36:39 2023-05-09 15:40:39  0.709600       0.355724     1   \n2023-05-08 15:47:11 2023-05-09 15:48:38  0.720279       0.376397     1   \n2023-05-08 15:54:13 2023-05-09 15:55:49  0.731807       0.399197     1   \n\n                     avg_active_bet_size  \n2020-09-03 13:30:00             0.377045  \n2020-09-03 13:33:51             0.400915  \n2020-09-03 13:39:20             0.406204  \n2020-09-03 13:45:09             0.395907  \n2020-09-03 13:52:55             0.388041  \n...                                  ...  \n2023-05-08 15:16:20             0.186849  \n2023-05-08 15:16:37             0.194793  \n2023-05-08 15:36:39             0.201499  \n2023-05-08 15:47:11             0.208495  \n2023-05-08 15:54:13             0.215829  \n\n[8825 rows x 5 columns]",
      "text/html": "<div>\n<style scoped>\n    .dataframe tbody tr th:only-of-type {\n        vertical-align: middle;\n    }\n\n    .dataframe tbody tr th {\n        vertical-align: top;\n    }\n\n    .dataframe thead th {\n        text-align: right;\n    }\n</style>\n<table border=\"1\" class=\"dataframe\">\n  <thead>\n    <tr style=\"text-align: right;\">\n      <th></th>\n      <th>t1</th>\n      <th>prob</th>\n      <th>bet_size_prob</th>\n      <th>side</th>\n      <th>avg_active_bet_size</th>\n    </tr>\n  </thead>\n  <tbody>\n    <tr>\n      <th>2020-09-03 13:30:00</th>\n      <td>2020-09-04 11:27:01</td>\n      <td>0.720611</td>\n      <td>0.377045</td>\n      <td>1</td>\n      <td>0.377045</td>\n    </tr>\n    <tr>\n      <th>2020-09-03 13:33:51</th>\n      <td>2020-09-04 13:41:00</td>\n      <td>0.744431</td>\n      <td>0.424785</td>\n      <td>1</td>\n      <td>0.400915</td>\n    </tr>\n    <tr>\n      <th>2020-09-03 13:39:20</th>\n      <td>2020-09-04 13:41:00</td>\n      <td>0.740518</td>\n      <td>0.416781</td>\n      <td>1</td>\n      <td>0.406204</td>\n    </tr>\n    <tr>\n      <th>2020-09-03 13:45:09</th>\n      <td>2020-09-04 13:48:15</td>\n      <td>0.714426</td>\n      <td>0.365016</td>\n      <td>1</td>\n      <td>0.395907</td>\n    </tr>\n    <tr>\n      <th>2020-09-03 13:52:55</th>\n      <td>2020-09-04 13:58:54</td>\n      <td>0.710046</td>\n      <td>0.356579</td>\n      <td>1</td>\n      <td>0.388041</td>\n    </tr>\n    <tr>\n      <th>...</th>\n      <td>...</td>\n      <td>...</td>\n      <td>...</td>\n      <td>...</td>\n      <td>...</td>\n    </tr>\n    <tr>\n      <th>2023-05-08 15:16:20</th>\n      <td>2023-05-09 15:24:47</td>\n      <td>0.736359</td>\n      <td>0.408346</td>\n      <td>1</td>\n      <td>0.186849</td>\n    </tr>\n    <tr>\n      <th>2023-05-08 15:16:37</th>\n      <td>2023-05-09 15:24:47</td>\n      <td>0.716778</td>\n      <td>0.369574</td>\n      <td>1</td>\n      <td>0.194793</td>\n    </tr>\n    <tr>\n      <th>2023-05-08 15:36:39</th>\n      <td>2023-05-09 15:40:39</td>\n      <td>0.709600</td>\n      <td>0.355724</td>\n      <td>1</td>\n      <td>0.201499</td>\n    </tr>\n    <tr>\n      <th>2023-05-08 15:47:11</th>\n      <td>2023-05-09 15:48:38</td>\n      <td>0.720279</td>\n      <td>0.376397</td>\n      <td>1</td>\n      <td>0.208495</td>\n    </tr>\n    <tr>\n      <th>2023-05-08 15:54:13</th>\n      <td>2023-05-09 15:55:49</td>\n      <td>0.731807</td>\n      <td>0.399197</td>\n      <td>1</td>\n      <td>0.215829</td>\n    </tr>\n  </tbody>\n</table>\n<p>8825 rows × 5 columns</p>\n</div>"
     },
     "metadata": {},
     "output_type": "display_data"
    },
    {
     "name": "stdout",
     "output_type": "stream",
     "text": [
      "Summary statistics on the bet size columns:\n"
     ]
    },
    {
     "data": {
      "text/plain": "              prob  bet_size_prob  avg_active_bet_size\ncount  8825.000000    8825.000000          8825.000000\nmean      0.588851       0.154685             0.167681\nstd       0.150263       0.256615             0.203416\nmin       0.265507      -0.404584            -0.338445\n25%       0.448892      -0.081842             0.011270\n50%       0.621093       0.197116             0.199397\n75%       0.734814       0.405231             0.354354\nmax       0.790592       0.524886             0.486862",
      "text/html": "<div>\n<style scoped>\n    .dataframe tbody tr th:only-of-type {\n        vertical-align: middle;\n    }\n\n    .dataframe tbody tr th {\n        vertical-align: top;\n    }\n\n    .dataframe thead th {\n        text-align: right;\n    }\n</style>\n<table border=\"1\" class=\"dataframe\">\n  <thead>\n    <tr style=\"text-align: right;\">\n      <th></th>\n      <th>prob</th>\n      <th>bet_size_prob</th>\n      <th>avg_active_bet_size</th>\n    </tr>\n  </thead>\n  <tbody>\n    <tr>\n      <th>count</th>\n      <td>8825.000000</td>\n      <td>8825.000000</td>\n      <td>8825.000000</td>\n    </tr>\n    <tr>\n      <th>mean</th>\n      <td>0.588851</td>\n      <td>0.154685</td>\n      <td>0.167681</td>\n    </tr>\n    <tr>\n      <th>std</th>\n      <td>0.150263</td>\n      <td>0.256615</td>\n      <td>0.203416</td>\n    </tr>\n    <tr>\n      <th>min</th>\n      <td>0.265507</td>\n      <td>-0.404584</td>\n      <td>-0.338445</td>\n    </tr>\n    <tr>\n      <th>25%</th>\n      <td>0.448892</td>\n      <td>-0.081842</td>\n      <td>0.011270</td>\n    </tr>\n    <tr>\n      <th>50%</th>\n      <td>0.621093</td>\n      <td>0.197116</td>\n      <td>0.199397</td>\n    </tr>\n    <tr>\n      <th>75%</th>\n      <td>0.734814</td>\n      <td>0.405231</td>\n      <td>0.354354</td>\n    </tr>\n    <tr>\n      <th>max</th>\n      <td>0.790592</td>\n      <td>0.524886</td>\n      <td>0.486862</td>\n    </tr>\n  </tbody>\n</table>\n</div>"
     },
     "metadata": {},
     "output_type": "display_data"
    }
   ],
   "source": [
    "print(\"The first 10 rows of the resulting DataFrame from Exercise 10.2:\")\n",
    "display(event_prob)\n",
    "print(\"Summary statistics on the bet size columns:\")\n",
    "display(event_prob[['prob', 'bet_size_prob', 'avg_active_bet_size']].describe())"
   ],
   "metadata": {
    "collapsed": false,
    "ExecuteTime": {
     "end_time": "2023-09-29T09:46:51.106154Z",
     "start_time": "2023-09-29T09:46:51.075811Z"
    }
   },
   "id": "36a19f399aeeb867"
  },
  {
   "cell_type": "code",
   "execution_count": 70,
   "outputs": [
    {
     "data": {
      "text/plain": "<Figure size 1000x400 with 1 Axes>",
      "image/png": "[encoded data removed]"
     },
     "metadata": {},
     "output_type": "display_data"
    }
   ],
   "source": [
    "plt.figure(figsize = (10, 4))\n",
    "plt.hist(event_prob.bet_size_prob, bins = 200, color = 'darkorange', edgecolor = 'darkorange', label = 'Bet-sizing')\n",
    "plt.legend()\n",
    "plt.title('Bet sizing Distribution', fontsize = 12, fontfamily = 'Serif')\n",
    "plt.show()"
   ],
   "metadata": {
    "collapsed": false,
    "ExecuteTime": {
     "end_time": "2023-09-29T09:50:08.275049Z",
     "start_time": "2023-09-29T09:50:08.115217Z"
    }
   },
   "id": "b4207c7534ed63ea"
  }
 ],
 "metadata": {
  "kernelspec": {
   "display_name": "Python 3",
   "language": "python",
   "name": "python3"
  },
  "language_info": {
   "codemirror_mode": {
    "name": "ipython",
    "version": 2
   },
   "file_extension": ".py",
   "mimetype": "text/x-python",
   "name": "python",
   "nbconvert_exporter": "python",
   "pygments_lexer": "ipython2",
   "version": "2.7.6"
  }
 },
 "nbformat": 4,
 "nbformat_minor": 5
}
