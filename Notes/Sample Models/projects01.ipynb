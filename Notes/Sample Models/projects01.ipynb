{
 "cells": [
  {
   "cell_type": "markdown",
   "source": [
    "#### Data Import"
   ],
   "metadata": {
    "collapsed": false
   },
   "id": "2b6b669f673c1dec"
  },
  {
   "cell_type": "code",
   "execution_count": 1,
   "id": "initial_id",
   "metadata": {
    "collapsed": true,
    "ExecuteTime": {
     "end_time": "2023-09-16T12:43:13.830899Z",
     "start_time": "2023-09-16T12:43:12.190135Z"
    }
   },
   "outputs": [],
   "source": [
    "import numpy as np\n",
    "import pandas as pd\n",
    "import matplotlib.pyplot as plt\n",
    "from FinancialMachineLearning.features.concurrency import *\n",
    "from FinancialMachineLearning.multiprocess import multiprocess"
   ]
  },
  {
   "cell_type": "code",
   "execution_count": 2,
   "outputs": [
    {
     "data": {
      "text/plain": "'/Users/junghunlee/Desktop/Pycharm/FinancialMachineLearning'"
     },
     "execution_count": 2,
     "metadata": {},
     "output_type": "execute_result"
    }
   ],
   "source": [
    "import os\n",
    "os.chdir('..')\n",
    "os.chdir('..')\n",
    "os.getcwd()"
   ],
   "metadata": {
    "collapsed": false,
    "ExecuteTime": {
     "end_time": "2023-09-16T12:43:15.699760Z",
     "start_time": "2023-09-16T12:43:15.681262Z"
    }
   },
   "id": "e9dec96e112524a5"
  },
  {
   "cell_type": "code",
   "execution_count": 3,
   "outputs": [
    {
     "data": {
      "text/plain": "                     tick_num    open     high       low   close  volume  \\\ndate_time                                                                  \n2009-09-28 09:46:34        80   50.79   51.070   50.7100   51.07   20044   \n2009-09-28 09:52:47       142   51.07   51.148   51.0500   51.13   21024   \n2009-09-28 09:54:38       201   51.14   51.150   51.1290   51.13   19951   \n2009-09-28 09:55:26       243   51.13   51.150   51.1300   51.14   19652   \n2009-09-28 10:02:48       339   51.14   51.260   51.0800   51.25   19943   \n...                       ...     ...      ...       ...     ...     ...   \n2023-09-14 15:54:32  10930083  162.98  163.060  162.9654  162.98    6186   \n2023-09-14 15:59:20  10930131  162.99  163.040  162.9299  163.04    7158   \n2023-09-14 15:59:39  10930171  163.04  163.050  162.9900  163.00    6316   \n2023-09-14 15:59:59  10930208  162.99  163.000  162.9700  162.98    6234   \n2023-09-14 16:00:00  10930213  162.98  163.000  162.9700  162.97   32257   \n\n                     cum_buy_volume  cum_ticks  cum_dollar_value  \ndate_time                                                         \n2009-09-28 09:46:34           13264         80      1.020027e+06  \n2009-09-28 09:52:47           19774         62      1.073986e+06  \n2009-09-28 09:54:38            6951         59      1.020145e+06  \n2009-09-28 09:55:26           18052         42      1.004999e+06  \n2009-09-28 10:02:48           11354         96      1.020512e+06  \n...                             ...        ...               ...  \n2023-09-14 15:54:32            3983         39      1.008408e+06  \n2023-09-14 15:59:20            4629         48      1.166735e+06  \n2023-09-14 15:59:39            3266         40      1.029639e+06  \n2023-09-14 15:59:59            2145         37      1.016030e+06  \n2023-09-14 16:00:00             335          5      5.256934e+06  \n\n[215833 rows x 9 columns]",
      "text/html": "<div>\n<style scoped>\n    .dataframe tbody tr th:only-of-type {\n        vertical-align: middle;\n    }\n\n    .dataframe tbody tr th {\n        vertical-align: top;\n    }\n\n    .dataframe thead th {\n        text-align: right;\n    }\n</style>\n<table border=\"1\" class=\"dataframe\">\n  <thead>\n    <tr style=\"text-align: right;\">\n      <th></th>\n      <th>tick_num</th>\n      <th>open</th>\n      <th>high</th>\n      <th>low</th>\n      <th>close</th>\n      <th>volume</th>\n      <th>cum_buy_volume</th>\n      <th>cum_ticks</th>\n      <th>cum_dollar_value</th>\n    </tr>\n    <tr>\n      <th>date_time</th>\n      <th></th>\n      <th></th>\n      <th></th>\n      <th></th>\n      <th></th>\n      <th></th>\n      <th></th>\n      <th></th>\n      <th></th>\n    </tr>\n  </thead>\n  <tbody>\n    <tr>\n      <th>2009-09-28 09:46:34</th>\n      <td>80</td>\n      <td>50.79</td>\n      <td>51.070</td>\n      <td>50.7100</td>\n      <td>51.07</td>\n      <td>20044</td>\n      <td>13264</td>\n      <td>80</td>\n      <td>1.020027e+06</td>\n    </tr>\n    <tr>\n      <th>2009-09-28 09:52:47</th>\n      <td>142</td>\n      <td>51.07</td>\n      <td>51.148</td>\n      <td>51.0500</td>\n      <td>51.13</td>\n      <td>21024</td>\n      <td>19774</td>\n      <td>62</td>\n      <td>1.073986e+06</td>\n    </tr>\n    <tr>\n      <th>2009-09-28 09:54:38</th>\n      <td>201</td>\n      <td>51.14</td>\n      <td>51.150</td>\n      <td>51.1290</td>\n      <td>51.13</td>\n      <td>19951</td>\n      <td>6951</td>\n      <td>59</td>\n      <td>1.020145e+06</td>\n    </tr>\n    <tr>\n      <th>2009-09-28 09:55:26</th>\n      <td>243</td>\n      <td>51.13</td>\n      <td>51.150</td>\n      <td>51.1300</td>\n      <td>51.14</td>\n      <td>19652</td>\n      <td>18052</td>\n      <td>42</td>\n      <td>1.004999e+06</td>\n    </tr>\n    <tr>\n      <th>2009-09-28 10:02:48</th>\n      <td>339</td>\n      <td>51.14</td>\n      <td>51.260</td>\n      <td>51.0800</td>\n      <td>51.25</td>\n      <td>19943</td>\n      <td>11354</td>\n      <td>96</td>\n      <td>1.020512e+06</td>\n    </tr>\n    <tr>\n      <th>...</th>\n      <td>...</td>\n      <td>...</td>\n      <td>...</td>\n      <td>...</td>\n      <td>...</td>\n      <td>...</td>\n      <td>...</td>\n      <td>...</td>\n      <td>...</td>\n    </tr>\n    <tr>\n      <th>2023-09-14 15:54:32</th>\n      <td>10930083</td>\n      <td>162.98</td>\n      <td>163.060</td>\n      <td>162.9654</td>\n      <td>162.98</td>\n      <td>6186</td>\n      <td>3983</td>\n      <td>39</td>\n      <td>1.008408e+06</td>\n    </tr>\n    <tr>\n      <th>2023-09-14 15:59:20</th>\n      <td>10930131</td>\n      <td>162.99</td>\n      <td>163.040</td>\n      <td>162.9299</td>\n      <td>163.04</td>\n      <td>7158</td>\n      <td>4629</td>\n      <td>48</td>\n      <td>1.166735e+06</td>\n    </tr>\n    <tr>\n      <th>2023-09-14 15:59:39</th>\n      <td>10930171</td>\n      <td>163.04</td>\n      <td>163.050</td>\n      <td>162.9900</td>\n      <td>163.00</td>\n      <td>6316</td>\n      <td>3266</td>\n      <td>40</td>\n      <td>1.029639e+06</td>\n    </tr>\n    <tr>\n      <th>2023-09-14 15:59:59</th>\n      <td>10930208</td>\n      <td>162.99</td>\n      <td>163.000</td>\n      <td>162.9700</td>\n      <td>162.98</td>\n      <td>6234</td>\n      <td>2145</td>\n      <td>37</td>\n      <td>1.016030e+06</td>\n    </tr>\n    <tr>\n      <th>2023-09-14 16:00:00</th>\n      <td>10930213</td>\n      <td>162.98</td>\n      <td>163.000</td>\n      <td>162.9700</td>\n      <td>162.97</td>\n      <td>32257</td>\n      <td>335</td>\n      <td>5</td>\n      <td>5.256934e+06</td>\n    </tr>\n  </tbody>\n</table>\n<p>215833 rows × 9 columns</p>\n</div>"
     },
     "execution_count": 3,
     "metadata": {},
     "output_type": "execute_result"
    }
   ],
   "source": [
    "dollar = pd.read_csv('./Data/dollar_IVEfuture.csv', index_col = 0, parse_dates = True)\n",
    "dollar = dollar[~dollar.index.duplicated(keep = 'first')]\n",
    "dollar"
   ],
   "metadata": {
    "collapsed": false,
    "ExecuteTime": {
     "end_time": "2023-09-16T12:43:22.342887Z",
     "start_time": "2023-09-16T12:43:22.139719Z"
    }
   },
   "id": "5dc3425dcdef11b5"
  },
  {
   "cell_type": "markdown",
   "source": [
    "#### EWMA volatility"
   ],
   "metadata": {
    "collapsed": false
   },
   "id": "60591d5c1b98928d"
  },
  {
   "cell_type": "code",
   "execution_count": 4,
   "outputs": [],
   "source": [
    "from FinancialMachineLearning.features.volatility import daily_volatility\n",
    "vol = daily_volatility(dollar.close, lookback = 100)"
   ],
   "metadata": {
    "collapsed": false,
    "ExecuteTime": {
     "end_time": "2023-09-16T12:43:42.494346Z",
     "start_time": "2023-09-16T12:43:42.391130Z"
    }
   },
   "id": "775fc7c369e3676f"
  },
  {
   "cell_type": "markdown",
   "source": [
    "#### CUSUM Filtering"
   ],
   "metadata": {
    "collapsed": false
   },
   "id": "986c0d9bad1c9917"
  },
  {
   "cell_type": "code",
   "execution_count": 5,
   "outputs": [],
   "source": [
    "from FinancialMachineLearning.filter.filter import cusum_filter\n",
    "cusum_events = cusum_filter(dollar.close, threshold = vol.mean())"
   ],
   "metadata": {
    "collapsed": false,
    "ExecuteTime": {
     "end_time": "2023-09-16T12:44:30.703620Z",
     "start_time": "2023-09-16T12:44:27.140472Z"
    }
   },
   "id": "bbe0fde741836b8b"
  },
  {
   "cell_type": "markdown",
   "source": [
    "#### add Vertical barrier"
   ],
   "metadata": {
    "collapsed": false
   },
   "id": "597610088a6bcfd7"
  },
  {
   "cell_type": "code",
   "execution_count": 6,
   "outputs": [],
   "source": [
    "from FinancialMachineLearning.labeling.labeling import *\n",
    "vertical_barrier = add_vertical_barrier(cusum_events, dollar['close'], num_days = 1)"
   ],
   "metadata": {
    "collapsed": false,
    "ExecuteTime": {
     "end_time": "2023-09-16T12:44:44.010161Z",
     "start_time": "2023-09-16T12:44:43.966424Z"
    }
   },
   "id": "2d0e0709f4fefda"
  },
  {
   "cell_type": "markdown",
   "source": [
    "#### Triple Barrier Methods"
   ],
   "metadata": {
    "collapsed": false
   },
   "id": "1215f99bf6fb2ecc"
  },
  {
   "cell_type": "code",
   "execution_count": 7,
   "outputs": [
    {
     "name": "stderr",
     "output_type": "stream",
     "text": [
      "/Users/junghunlee/Desktop/Pycharm/FinancialMachineLearning/FinancialMachineLearning/labeling/labeling.py:17: FutureWarning: iteritems is deprecated and will be removed in a future version. Use .items instead.\n",
      "  for loc, vertical_barrier in events_['t1'].fillna(close.index[-1]).iteritems():\n",
      "/Users/junghunlee/Desktop/Pycharm/FinancialMachineLearning/FinancialMachineLearning/multiprocess/multiprocess.py:47: FutureWarning: The frame.append method is deprecated and will be removed from pandas in a future version. Use pandas.concat instead.\n",
      "  df0 = df0.append(i)\n"
     ]
    },
    {
     "data": {
      "text/plain": "                                     t1      trgt  pt  sl\n2009-10-02 09:31:33 2009-10-02 10:35:54  0.010011   1   1\n2009-10-02 09:44:59 2009-10-02 10:35:54  0.010268   1   1\n2009-10-02 09:53:14 2009-10-05 09:35:17  0.010379   1   1\n2009-10-02 10:01:56 2009-10-05 09:35:17  0.010430   1   1\n2009-10-02 10:09:13 2009-10-05 09:35:17  0.010453   1   1\n...                                 ...       ...  ..  ..\n2023-05-08 15:16:20 2023-05-09 15:24:47  0.010701   1   1\n2023-05-08 15:16:37 2023-05-09 15:24:47  0.010595   1   1\n2023-05-08 15:36:39 2023-05-09 15:40:39  0.010387   1   1\n2023-05-08 15:47:11 2023-05-09 15:48:38  0.010283   1   1\n2023-05-08 15:54:13 2023-05-09 15:55:49  0.010182   1   1\n\n[30053 rows x 4 columns]",
      "text/html": "<div>\n<style scoped>\n    .dataframe tbody tr th:only-of-type {\n        vertical-align: middle;\n    }\n\n    .dataframe tbody tr th {\n        vertical-align: top;\n    }\n\n    .dataframe thead th {\n        text-align: right;\n    }\n</style>\n<table border=\"1\" class=\"dataframe\">\n  <thead>\n    <tr style=\"text-align: right;\">\n      <th></th>\n      <th>t1</th>\n      <th>trgt</th>\n      <th>pt</th>\n      <th>sl</th>\n    </tr>\n  </thead>\n  <tbody>\n    <tr>\n      <th>2009-10-02 09:31:33</th>\n      <td>2009-10-02 10:35:54</td>\n      <td>0.010011</td>\n      <td>1</td>\n      <td>1</td>\n    </tr>\n    <tr>\n      <th>2009-10-02 09:44:59</th>\n      <td>2009-10-02 10:35:54</td>\n      <td>0.010268</td>\n      <td>1</td>\n      <td>1</td>\n    </tr>\n    <tr>\n      <th>2009-10-02 09:53:14</th>\n      <td>2009-10-05 09:35:17</td>\n      <td>0.010379</td>\n      <td>1</td>\n      <td>1</td>\n    </tr>\n    <tr>\n      <th>2009-10-02 10:01:56</th>\n      <td>2009-10-05 09:35:17</td>\n      <td>0.010430</td>\n      <td>1</td>\n      <td>1</td>\n    </tr>\n    <tr>\n      <th>2009-10-02 10:09:13</th>\n      <td>2009-10-05 09:35:17</td>\n      <td>0.010453</td>\n      <td>1</td>\n      <td>1</td>\n    </tr>\n    <tr>\n      <th>...</th>\n      <td>...</td>\n      <td>...</td>\n      <td>...</td>\n      <td>...</td>\n    </tr>\n    <tr>\n      <th>2023-05-08 15:16:20</th>\n      <td>2023-05-09 15:24:47</td>\n      <td>0.010701</td>\n      <td>1</td>\n      <td>1</td>\n    </tr>\n    <tr>\n      <th>2023-05-08 15:16:37</th>\n      <td>2023-05-09 15:24:47</td>\n      <td>0.010595</td>\n      <td>1</td>\n      <td>1</td>\n    </tr>\n    <tr>\n      <th>2023-05-08 15:36:39</th>\n      <td>2023-05-09 15:40:39</td>\n      <td>0.010387</td>\n      <td>1</td>\n      <td>1</td>\n    </tr>\n    <tr>\n      <th>2023-05-08 15:47:11</th>\n      <td>2023-05-09 15:48:38</td>\n      <td>0.010283</td>\n      <td>1</td>\n      <td>1</td>\n    </tr>\n    <tr>\n      <th>2023-05-08 15:54:13</th>\n      <td>2023-05-09 15:55:49</td>\n      <td>0.010182</td>\n      <td>1</td>\n      <td>1</td>\n    </tr>\n  </tbody>\n</table>\n<p>30053 rows × 4 columns</p>\n</div>"
     },
     "execution_count": 7,
     "metadata": {},
     "output_type": "execute_result"
    }
   ],
   "source": [
    "triple_barrier_events = get_events(close = dollar['close'],\n",
    "                                   t_events = cusum_events[34:],\n",
    "                                   pt_sl = [1, 1],\n",
    "                                   target = vol,\n",
    "                                   min_ret = 0.01,\n",
    "                                   num_threads = 1,\n",
    "                                   vertical_barrier_times = vertical_barrier,\n",
    "                                   side_prediction = None)\n",
    "triple_barrier_events"
   ],
   "metadata": {
    "collapsed": false,
    "ExecuteTime": {
     "end_time": "2023-09-16T12:45:52.858945Z",
     "start_time": "2023-09-16T12:45:37.636902Z"
    }
   },
   "id": "5b8a75274ac75336"
  },
  {
   "cell_type": "markdown",
   "source": [
    "#### Concurrency"
   ],
   "metadata": {
    "collapsed": false
   },
   "id": "8ee4c868d33932db"
  },
  {
   "cell_type": "code",
   "execution_count": 8,
   "outputs": [
    {
     "name": "stderr",
     "output_type": "stream",
     "text": [
      "/Users/junghunlee/Desktop/Pycharm/FinancialMachineLearning/FinancialMachineLearning/features/concurrency.py:11: FutureWarning: iteritems is deprecated and will be removed in a future version. Use .items instead.\n",
      "  for t_in, t_out in label_endtime.iteritems():\n",
      "/Users/junghunlee/Desktop/Pycharm/FinancialMachineLearning/FinancialMachineLearning/multiprocess/multiprocess.py:42: FutureWarning: The default dtype for empty Series will be 'object' instead of 'float64' in a future version. Specify a dtype explicitly to silence this warning.\n",
      "  df0 = pd.Series()\n",
      "/Users/junghunlee/Desktop/Pycharm/FinancialMachineLearning/FinancialMachineLearning/multiprocess/multiprocess.py:47: FutureWarning: The series.append method is deprecated and will be removed from pandas in a future version. Use pandas.concat instead.\n",
      "  df0 = df0.append(i)\n"
     ]
    }
   ],
   "source": [
    "num_threads = 1\n",
    "num_conc_events = multiprocess.mp_pandas_obj(concurrent_events, ('molecule', triple_barrier_events.index), num_threads, close_series_index = dollar.close.index, label_endtime = triple_barrier_events['t1'])"
   ],
   "metadata": {
    "collapsed": false,
    "ExecuteTime": {
     "end_time": "2023-09-16T12:46:32.378026Z",
     "start_time": "2023-09-16T12:46:28.000030Z"
    }
   },
   "id": "bbc089026ac42b64"
  },
  {
   "cell_type": "code",
   "execution_count": 9,
   "outputs": [],
   "source": [
    "num_conc_events = num_conc_events.reindex(dollar.close.index).fillna(0)"
   ],
   "metadata": {
    "collapsed": false,
    "ExecuteTime": {
     "end_time": "2023-09-16T12:46:39.542577Z",
     "start_time": "2023-09-16T12:46:39.521351Z"
    }
   },
   "id": "47843b77b8eda8e8"
  },
  {
   "cell_type": "markdown",
   "source": [
    "#### Uniqueness"
   ],
   "metadata": {
    "collapsed": false
   },
   "id": "711090b786328cb0"
  },
  {
   "cell_type": "code",
   "execution_count": 10,
   "outputs": [
    {
     "name": "stderr",
     "output_type": "stream",
     "text": [
      "/Users/junghunlee/Desktop/Pycharm/FinancialMachineLearning/FinancialMachineLearning/features/concurrency.py:15: FutureWarning: The default dtype for empty Series will be 'object' instead of 'float64' in a future version. Specify a dtype explicitly to silence this warning.\n",
      "  wght = pd.Series(index=molecule)\n",
      "/Users/junghunlee/Desktop/Pycharm/FinancialMachineLearning/FinancialMachineLearning/features/concurrency.py:16: FutureWarning: iteritems is deprecated and will be removed in a future version. Use .items instead.\n",
      "  for t_in, t_out in label_endtime.loc[wght.index].iteritems():\n",
      "/Users/junghunlee/Desktop/Pycharm/FinancialMachineLearning/FinancialMachineLearning/multiprocess/multiprocess.py:42: FutureWarning: The default dtype for empty Series will be 'object' instead of 'float64' in a future version. Specify a dtype explicitly to silence this warning.\n",
      "  df0 = pd.Series()\n",
      "/Users/junghunlee/Desktop/Pycharm/FinancialMachineLearning/FinancialMachineLearning/multiprocess/multiprocess.py:47: FutureWarning: The series.append method is deprecated and will be removed from pandas in a future version. Use pandas.concat instead.\n",
      "  df0 = df0.append(i)\n"
     ]
    },
    {
     "data": {
      "text/plain": "2009-10-02 09:31:33    0.275361\n2009-10-02 09:44:59    0.202897\n2009-10-02 09:53:14    0.135099\n2009-10-02 10:01:56    0.130016\n2009-10-02 10:09:13    0.126859\n                         ...   \n2023-05-08 15:16:20    0.073810\n2023-05-08 15:16:37    0.074945\n2023-05-08 15:36:39    0.107179\n2023-05-08 15:47:11    0.124807\n2023-05-08 15:54:13    0.161731\nLength: 30053, dtype: float64"
     },
     "execution_count": 10,
     "metadata": {},
     "output_type": "execute_result"
    }
   ],
   "source": [
    "avg_unique = multiprocess.mp_pandas_obj(average_uniqueness, ('molecule', triple_barrier_events.index), num_threads, \n",
    "                                 label_endtime = triple_barrier_events['t1'], num_conc_events = num_conc_events)\n",
    "avg_unique"
   ],
   "metadata": {
    "collapsed": false,
    "ExecuteTime": {
     "end_time": "2023-09-16T12:47:18.384098Z",
     "start_time": "2023-09-16T12:47:15.237182Z"
    }
   },
   "id": "d91f3261c726956e"
  },
  {
   "cell_type": "markdown",
   "source": [
    "#### Hasbrouck's Lambda"
   ],
   "metadata": {
    "collapsed": false
   },
   "id": "e41bc8a5dba7ae9b"
  },
  {
   "cell_type": "code",
   "execution_count": 13,
   "outputs": [],
   "source": [
    "from FinancialMachineLearning.features.microstructure import *\n",
    "lambda_feature = Lambda(dollar['close'], dollar['volume'])"
   ],
   "metadata": {
    "collapsed": false,
    "ExecuteTime": {
     "end_time": "2023-09-16T12:49:01.426402Z",
     "start_time": "2023-09-16T12:49:01.422343Z"
    }
   },
   "id": "5f9c02f0cd28bac4"
  },
  {
   "cell_type": "code",
   "execution_count": 14,
   "outputs": [
    {
     "data": {
      "text/plain": "date_time\n2009-09-28 09:46:34    1.0\n2009-09-28 09:52:47    1.0\n2009-09-28 09:54:38    1.0\n2009-09-28 09:55:26    1.0\n2009-09-28 10:02:48    1.0\n                      ... \n2023-09-14 15:54:32   -1.0\n2023-09-14 15:59:20    1.0\n2023-09-14 15:59:39   -1.0\n2023-09-14 15:59:59   -1.0\n2023-09-14 16:00:00   -1.0\nLength: 215833, dtype: float64"
     },
     "execution_count": 14,
     "metadata": {},
     "output_type": "execute_result"
    }
   ],
   "source": [
    "aggressor = tick_rule(dollar['close'])\n",
    "aggressor"
   ],
   "metadata": {
    "collapsed": false,
    "ExecuteTime": {
     "end_time": "2023-09-16T12:49:08.392740Z",
     "start_time": "2023-09-16T12:49:08.379381Z"
    }
   },
   "id": "bb125ca3a876c12c"
  },
  {
   "cell_type": "code",
   "execution_count": 15,
   "outputs": [
    {
     "data": {
      "text/plain": "date_time\n2009-09-28 09:46:34             NaN\n2009-09-28 09:52:47    8.097906e-06\n2009-09-28 09:54:38    0.000000e+00\n2009-09-28 09:55:26    1.395013e-06\n2009-09-28 10:02:48    1.521493e-05\n                           ...     \n2023-09-14 15:54:32    2.340141e-06\n2023-09-14 15:59:20    4.350520e-06\n2023-09-14 15:59:39    3.087437e-06\n2023-09-14 15:59:59    1.554124e-06\n2023-09-14 16:00:00    3.416387e-07\nLength: 215833, dtype: float64"
     },
     "execution_count": 15,
     "metadata": {},
     "output_type": "execute_result"
    }
   ],
   "source": [
    "hasbrouck_lambda = lambda_feature.hasbrouck(signs = aggressor)\n",
    "hasbrouck_lambda"
   ],
   "metadata": {
    "collapsed": false,
    "ExecuteTime": {
     "end_time": "2023-09-16T12:49:12.382666Z",
     "start_time": "2023-09-16T12:49:12.373025Z"
    }
   },
   "id": "79f023baeb058e2f"
  },
  {
   "cell_type": "markdown",
   "source": [
    "#### Fractionally differenciated Features"
   ],
   "metadata": {
    "collapsed": false
   },
   "id": "fd88f92d59e2008f"
  },
  {
   "cell_type": "code",
   "execution_count": 22,
   "outputs": [
    {
     "name": "stderr",
     "output_type": "stream",
     "text": [
      "/Users/junghunlee/Desktop/Pycharm/FinancialMachineLearning/FinancialMachineLearning/features/fracdiff.py:34: FutureWarning: The default dtype for empty Series will be 'object' instead of 'float64' in a future version. Specify a dtype explicitly to silence this warning.\n",
      "  df_ = pd.Series()\n"
     ]
    }
   ],
   "source": [
    "from FinancialMachineLearning.features.fracdiff import FractionalDifferentiatedFeatures\n",
    "frac_dollar = FractionalDifferentiatedFeatures.fracDiff_FFD(dollar.iloc[:,4:5], 0.2)"
   ],
   "metadata": {
    "collapsed": false,
    "ExecuteTime": {
     "end_time": "2023-09-16T13:15:39.481547Z",
     "start_time": "2023-09-16T13:10:55.506968Z"
    }
   },
   "id": "745cbaffce82b61b"
  },
  {
   "cell_type": "code",
   "execution_count": 23,
   "outputs": [
    {
     "data": {
      "text/plain": "                         close\n2010-04-29 10:26:57  10.476812\n2010-04-29 11:09:15  10.507715\n2010-04-29 11:26:03  10.464420\n2010-04-29 11:34:28  10.488812\n2010-04-29 11:44:01  10.540226\n...                        ...\n2023-09-14 15:54:32  28.022345\n2023-09-14 15:59:20  28.081668\n2023-09-14 15:59:39  28.025730\n2023-09-14 15:59:59  28.004278\n2023-09-14 16:00:00  27.993746\n\n[212452 rows x 1 columns]",
      "text/html": "<div>\n<style scoped>\n    .dataframe tbody tr th:only-of-type {\n        vertical-align: middle;\n    }\n\n    .dataframe tbody tr th {\n        vertical-align: top;\n    }\n\n    .dataframe thead th {\n        text-align: right;\n    }\n</style>\n<table border=\"1\" class=\"dataframe\">\n  <thead>\n    <tr style=\"text-align: right;\">\n      <th></th>\n      <th>close</th>\n    </tr>\n  </thead>\n  <tbody>\n    <tr>\n      <th>2010-04-29 10:26:57</th>\n      <td>10.476812</td>\n    </tr>\n    <tr>\n      <th>2010-04-29 11:09:15</th>\n      <td>10.507715</td>\n    </tr>\n    <tr>\n      <th>2010-04-29 11:26:03</th>\n      <td>10.464420</td>\n    </tr>\n    <tr>\n      <th>2010-04-29 11:34:28</th>\n      <td>10.488812</td>\n    </tr>\n    <tr>\n      <th>2010-04-29 11:44:01</th>\n      <td>10.540226</td>\n    </tr>\n    <tr>\n      <th>...</th>\n      <td>...</td>\n    </tr>\n    <tr>\n      <th>2023-09-14 15:54:32</th>\n      <td>28.022345</td>\n    </tr>\n    <tr>\n      <th>2023-09-14 15:59:20</th>\n      <td>28.081668</td>\n    </tr>\n    <tr>\n      <th>2023-09-14 15:59:39</th>\n      <td>28.025730</td>\n    </tr>\n    <tr>\n      <th>2023-09-14 15:59:59</th>\n      <td>28.004278</td>\n    </tr>\n    <tr>\n      <th>2023-09-14 16:00:00</th>\n      <td>27.993746</td>\n    </tr>\n  </tbody>\n</table>\n<p>212452 rows × 1 columns</p>\n</div>"
     },
     "execution_count": 23,
     "metadata": {},
     "output_type": "execute_result"
    }
   ],
   "source": [
    "frac_dollar"
   ],
   "metadata": {
    "collapsed": false,
    "ExecuteTime": {
     "end_time": "2023-09-16T13:17:11.621404Z",
     "start_time": "2023-09-16T13:17:11.612360Z"
    }
   },
   "id": "3b59bc179afc4313"
  },
  {
   "cell_type": "markdown",
   "source": [
    "#### VPIN"
   ],
   "metadata": {
    "collapsed": false
   },
   "id": "24975bd4c713f91e"
  },
  {
   "cell_type": "code",
   "execution_count": 24,
   "outputs": [],
   "source": [
    "from FinancialMachineLearning.barsampling.standard_data_structures import volume_bar\n",
    "\n",
    "def buy_volume(df):\n",
    "    tick_signs = tick_rule(df['price'])\n",
    "    return (df['volume'] * (tick_signs > 0)).sum()\n",
    "def sell_volume(df):\n",
    "    tick_signs = tick_rule(df['price'])\n",
    "    return (df['volume'] * (tick_signs < 0)).sum()"
   ],
   "metadata": {
    "collapsed": false,
    "ExecuteTime": {
     "end_time": "2023-09-16T13:17:15.714214Z",
     "start_time": "2023-09-16T13:17:15.705644Z"
    }
   },
   "id": "59ec0beaa55e6d65"
  },
  {
   "cell_type": "code",
   "execution_count": 25,
   "outputs": [],
   "source": [
    "from FinancialMachineLearning.barsampling.bar_feature import BarFeature\n",
    "buy_volume_feature = BarFeature(name = 'buy_volume', function = buy_volume)\n",
    "sell_volume_feature = BarFeature(name = 'sell_volume', function = sell_volume)"
   ],
   "metadata": {
    "collapsed": false,
    "ExecuteTime": {
     "end_time": "2023-09-16T13:17:18.344667Z",
     "start_time": "2023-09-16T13:17:18.334810Z"
    }
   },
   "id": "162a675d5990f3c4"
  },
  {
   "cell_type": "code",
   "execution_count": 27,
   "outputs": [],
   "source": [
    "#bars = volume_bar('./Data/IVEfuture.txt', additional_features = [buy_volume_feature, sell_volume_feature])\n",
    "#vol_thres = 10000\n",
    "#vpin_series = vpin(bars['buy_volume'], bars['sell_volume'], vol_thres, 5)"
   ],
   "metadata": {
    "collapsed": false,
    "ExecuteTime": {
     "end_time": "2023-09-16T13:19:11.835703Z",
     "start_time": "2023-09-16T13:19:11.827533Z"
    }
   },
   "id": "b6e3e574fb9b83c6"
  },
  {
   "cell_type": "markdown",
   "source": [
    "#### Labeling"
   ],
   "metadata": {
    "collapsed": false
   },
   "id": "59e7b479ef90b5fa"
  },
  {
   "cell_type": "code",
   "execution_count": 30,
   "outputs": [
    {
     "data": {
      "text/plain": "                          ret      trgt  bin\n2009-10-02 09:31:33  0.011168  0.010011    1\n2009-10-02 09:44:59  0.010552  0.010268    1\n2009-10-02 09:53:14  0.006066  0.010379    0\n2009-10-02 10:01:56  0.008308  0.010430    0\n2009-10-02 10:09:13  0.007216  0.010453    0\n...                       ...       ...  ...\n2023-05-08 15:16:20 -0.002736  0.010701    0\n2023-05-08 15:16:37 -0.002301  0.010595    0\n2023-05-08 15:36:39 -0.002368  0.010387    0\n2023-05-08 15:47:11 -0.003483  0.010283    0\n2023-05-08 15:54:13 -0.003402  0.010182    0\n\n[30053 rows x 3 columns]",
      "text/html": "<div>\n<style scoped>\n    .dataframe tbody tr th:only-of-type {\n        vertical-align: middle;\n    }\n\n    .dataframe tbody tr th {\n        vertical-align: top;\n    }\n\n    .dataframe thead th {\n        text-align: right;\n    }\n</style>\n<table border=\"1\" class=\"dataframe\">\n  <thead>\n    <tr style=\"text-align: right;\">\n      <th></th>\n      <th>ret</th>\n      <th>trgt</th>\n      <th>bin</th>\n    </tr>\n  </thead>\n  <tbody>\n    <tr>\n      <th>2009-10-02 09:31:33</th>\n      <td>0.011168</td>\n      <td>0.010011</td>\n      <td>1</td>\n    </tr>\n    <tr>\n      <th>2009-10-02 09:44:59</th>\n      <td>0.010552</td>\n      <td>0.010268</td>\n      <td>1</td>\n    </tr>\n    <tr>\n      <th>2009-10-02 09:53:14</th>\n      <td>0.006066</td>\n      <td>0.010379</td>\n      <td>0</td>\n    </tr>\n    <tr>\n      <th>2009-10-02 10:01:56</th>\n      <td>0.008308</td>\n      <td>0.010430</td>\n      <td>0</td>\n    </tr>\n    <tr>\n      <th>2009-10-02 10:09:13</th>\n      <td>0.007216</td>\n      <td>0.010453</td>\n      <td>0</td>\n    </tr>\n    <tr>\n      <th>...</th>\n      <td>...</td>\n      <td>...</td>\n      <td>...</td>\n    </tr>\n    <tr>\n      <th>2023-05-08 15:16:20</th>\n      <td>-0.002736</td>\n      <td>0.010701</td>\n      <td>0</td>\n    </tr>\n    <tr>\n      <th>2023-05-08 15:16:37</th>\n      <td>-0.002301</td>\n      <td>0.010595</td>\n      <td>0</td>\n    </tr>\n    <tr>\n      <th>2023-05-08 15:36:39</th>\n      <td>-0.002368</td>\n      <td>0.010387</td>\n      <td>0</td>\n    </tr>\n    <tr>\n      <th>2023-05-08 15:47:11</th>\n      <td>-0.003483</td>\n      <td>0.010283</td>\n      <td>0</td>\n    </tr>\n    <tr>\n      <th>2023-05-08 15:54:13</th>\n      <td>-0.003402</td>\n      <td>0.010182</td>\n      <td>0</td>\n    </tr>\n  </tbody>\n</table>\n<p>30053 rows × 3 columns</p>\n</div>"
     },
     "execution_count": 30,
     "metadata": {},
     "output_type": "execute_result"
    }
   ],
   "source": [
    "labels = meta_labeling(triple_barrier_events, dollar['close'])\n",
    "labels"
   ],
   "metadata": {
    "collapsed": false,
    "ExecuteTime": {
     "end_time": "2023-09-16T13:20:36.875891Z",
     "start_time": "2023-09-16T13:20:35.620401Z"
    }
   },
   "id": "66e50676b834dfc2"
  },
  {
   "cell_type": "markdown",
   "source": [
    "#### Feature Matrix"
   ],
   "metadata": {
    "collapsed": false
   },
   "id": "381a2778ccfc0a39"
  },
  {
   "cell_type": "code",
   "execution_count": 147,
   "outputs": [
    {
     "data": {
      "text/plain": "                        price    return   fracdiff  volatility  concurrency  \\\n2010-04-29 10:26:57   58.2801 -0.000860  10.476812    0.010964         15.0   \n2010-04-29 11:09:15   58.3600 -0.000857  10.507715    0.011247          5.0   \n2010-04-29 11:34:28   58.4100 -0.000685  10.488812    0.011638          5.0   \n2010-04-29 11:44:01   58.4900 -0.002052  10.540226    0.011979          6.0   \n2010-04-29 12:00:06   58.4498 -0.003932  10.465450    0.012262          7.0   \n...                       ...       ...        ...         ...          ...   \n2023-05-08 15:16:20  152.1563 -0.002736  26.030479    0.010701         22.0   \n2023-05-08 15:16:37  152.0900 -0.002301  25.963539    0.010595         23.0   \n2023-05-08 15:36:39  152.0701 -0.002368  25.952489    0.010387         24.0   \n2023-05-08 15:47:11  152.1800 -0.003483  26.065165    0.010283         25.0   \n2023-05-08 15:54:13  152.0900 -0.003402  25.952918    0.010182         26.0   \n\n                     uniqueness  hasbrouck  side  \n2010-04-29 10:26:57    0.104609   0.000015   0.0  \n2010-04-29 11:09:15    0.101340   0.000010   0.0  \n2010-04-29 11:34:28    0.086407   0.000007   0.0  \n2010-04-29 11:44:01    0.080429   0.000010   0.0  \n2010-04-29 12:00:06    0.074427   0.000005   0.0  \n...                         ...        ...   ...  \n2023-05-08 15:16:20    0.073810   0.000004   0.0  \n2023-05-08 15:16:37    0.074945   0.000005   0.0  \n2023-05-08 15:36:39    0.107179   0.000002   0.0  \n2023-05-08 15:47:11    0.124807   0.000009   0.0  \n2023-05-08 15:54:13    0.161731   0.000007   0.0  \n\n[29415 rows x 8 columns]",
      "text/html": "<div>\n<style scoped>\n    .dataframe tbody tr th:only-of-type {\n        vertical-align: middle;\n    }\n\n    .dataframe tbody tr th {\n        vertical-align: top;\n    }\n\n    .dataframe thead th {\n        text-align: right;\n    }\n</style>\n<table border=\"1\" class=\"dataframe\">\n  <thead>\n    <tr style=\"text-align: right;\">\n      <th></th>\n      <th>price</th>\n      <th>return</th>\n      <th>fracdiff</th>\n      <th>volatility</th>\n      <th>concurrency</th>\n      <th>uniqueness</th>\n      <th>hasbrouck</th>\n      <th>side</th>\n    </tr>\n  </thead>\n  <tbody>\n    <tr>\n      <th>2010-04-29 10:26:57</th>\n      <td>58.2801</td>\n      <td>-0.000860</td>\n      <td>10.476812</td>\n      <td>0.010964</td>\n      <td>15.0</td>\n      <td>0.104609</td>\n      <td>0.000015</td>\n      <td>0.0</td>\n    </tr>\n    <tr>\n      <th>2010-04-29 11:09:15</th>\n      <td>58.3600</td>\n      <td>-0.000857</td>\n      <td>10.507715</td>\n      <td>0.011247</td>\n      <td>5.0</td>\n      <td>0.101340</td>\n      <td>0.000010</td>\n      <td>0.0</td>\n    </tr>\n    <tr>\n      <th>2010-04-29 11:34:28</th>\n      <td>58.4100</td>\n      <td>-0.000685</td>\n      <td>10.488812</td>\n      <td>0.011638</td>\n      <td>5.0</td>\n      <td>0.086407</td>\n      <td>0.000007</td>\n      <td>0.0</td>\n    </tr>\n    <tr>\n      <th>2010-04-29 11:44:01</th>\n      <td>58.4900</td>\n      <td>-0.002052</td>\n      <td>10.540226</td>\n      <td>0.011979</td>\n      <td>6.0</td>\n      <td>0.080429</td>\n      <td>0.000010</td>\n      <td>0.0</td>\n    </tr>\n    <tr>\n      <th>2010-04-29 12:00:06</th>\n      <td>58.4498</td>\n      <td>-0.003932</td>\n      <td>10.465450</td>\n      <td>0.012262</td>\n      <td>7.0</td>\n      <td>0.074427</td>\n      <td>0.000005</td>\n      <td>0.0</td>\n    </tr>\n    <tr>\n      <th>...</th>\n      <td>...</td>\n      <td>...</td>\n      <td>...</td>\n      <td>...</td>\n      <td>...</td>\n      <td>...</td>\n      <td>...</td>\n      <td>...</td>\n    </tr>\n    <tr>\n      <th>2023-05-08 15:16:20</th>\n      <td>152.1563</td>\n      <td>-0.002736</td>\n      <td>26.030479</td>\n      <td>0.010701</td>\n      <td>22.0</td>\n      <td>0.073810</td>\n      <td>0.000004</td>\n      <td>0.0</td>\n    </tr>\n    <tr>\n      <th>2023-05-08 15:16:37</th>\n      <td>152.0900</td>\n      <td>-0.002301</td>\n      <td>25.963539</td>\n      <td>0.010595</td>\n      <td>23.0</td>\n      <td>0.074945</td>\n      <td>0.000005</td>\n      <td>0.0</td>\n    </tr>\n    <tr>\n      <th>2023-05-08 15:36:39</th>\n      <td>152.0701</td>\n      <td>-0.002368</td>\n      <td>25.952489</td>\n      <td>0.010387</td>\n      <td>24.0</td>\n      <td>0.107179</td>\n      <td>0.000002</td>\n      <td>0.0</td>\n    </tr>\n    <tr>\n      <th>2023-05-08 15:47:11</th>\n      <td>152.1800</td>\n      <td>-0.003483</td>\n      <td>26.065165</td>\n      <td>0.010283</td>\n      <td>25.0</td>\n      <td>0.124807</td>\n      <td>0.000009</td>\n      <td>0.0</td>\n    </tr>\n    <tr>\n      <th>2023-05-08 15:54:13</th>\n      <td>152.0900</td>\n      <td>-0.003402</td>\n      <td>25.952918</td>\n      <td>0.010182</td>\n      <td>26.0</td>\n      <td>0.161731</td>\n      <td>0.000007</td>\n      <td>0.0</td>\n    </tr>\n  </tbody>\n</table>\n<p>29415 rows × 8 columns</p>\n</div>"
     },
     "execution_count": 147,
     "metadata": {},
     "output_type": "execute_result"
    }
   ],
   "source": [
    "matrix = pd.DataFrame()\n",
    "matrix = pd.concat([dollar.close, labels['ret'], frac_dollar, vol, num_conc_events, avg_unique, hasbrouck_lambda, labels['bin']], axis = 1)\n",
    "matrix.columns = ['price','return','fracdiff','volatility','concurrency','uniqueness','hasbrouck','side']\n",
    "matrix = matrix.dropna()\n",
    "matrix"
   ],
   "metadata": {
    "collapsed": false,
    "ExecuteTime": {
     "end_time": "2023-09-16T14:20:54.253407Z",
     "start_time": "2023-09-16T14:20:54.191507Z"
    }
   },
   "id": "9ba273b99694e2c7"
  },
  {
   "cell_type": "markdown",
   "source": [
    "#### Meta Labeling"
   ],
   "metadata": {
    "collapsed": false
   },
   "id": "64889b63d7d871ce"
  },
  {
   "cell_type": "code",
   "execution_count": 149,
   "outputs": [
    {
     "data": {
      "text/plain": "                                     t1      trgt  pt  sl  side\n2009-10-02 09:31:33 2009-10-02 10:35:54  0.010011   1   1     1\n2009-10-02 09:44:59 2009-10-02 10:35:54  0.010268   1   1     1\n2009-10-02 09:53:14 2009-10-05 09:35:17  0.010379   1   1     0\n2009-10-02 10:01:56 2009-10-05 09:35:17  0.010430   1   1     0\n2009-10-02 10:09:13 2009-10-05 09:35:17  0.010453   1   1     0\n...                                 ...       ...  ..  ..   ...\n2023-05-08 15:16:20 2023-05-09 15:24:47  0.010701   1   1     0\n2023-05-08 15:16:37 2023-05-09 15:24:47  0.010595   1   1     0\n2023-05-08 15:36:39 2023-05-09 15:40:39  0.010387   1   1     0\n2023-05-08 15:47:11 2023-05-09 15:48:38  0.010283   1   1     0\n2023-05-08 15:54:13 2023-05-09 15:55:49  0.010182   1   1     0\n\n[30053 rows x 5 columns]",
      "text/html": "<div>\n<style scoped>\n    .dataframe tbody tr th:only-of-type {\n        vertical-align: middle;\n    }\n\n    .dataframe tbody tr th {\n        vertical-align: top;\n    }\n\n    .dataframe thead th {\n        text-align: right;\n    }\n</style>\n<table border=\"1\" class=\"dataframe\">\n  <thead>\n    <tr style=\"text-align: right;\">\n      <th></th>\n      <th>t1</th>\n      <th>trgt</th>\n      <th>pt</th>\n      <th>sl</th>\n      <th>side</th>\n    </tr>\n  </thead>\n  <tbody>\n    <tr>\n      <th>2009-10-02 09:31:33</th>\n      <td>2009-10-02 10:35:54</td>\n      <td>0.010011</td>\n      <td>1</td>\n      <td>1</td>\n      <td>1</td>\n    </tr>\n    <tr>\n      <th>2009-10-02 09:44:59</th>\n      <td>2009-10-02 10:35:54</td>\n      <td>0.010268</td>\n      <td>1</td>\n      <td>1</td>\n      <td>1</td>\n    </tr>\n    <tr>\n      <th>2009-10-02 09:53:14</th>\n      <td>2009-10-05 09:35:17</td>\n      <td>0.010379</td>\n      <td>1</td>\n      <td>1</td>\n      <td>0</td>\n    </tr>\n    <tr>\n      <th>2009-10-02 10:01:56</th>\n      <td>2009-10-05 09:35:17</td>\n      <td>0.010430</td>\n      <td>1</td>\n      <td>1</td>\n      <td>0</td>\n    </tr>\n    <tr>\n      <th>2009-10-02 10:09:13</th>\n      <td>2009-10-05 09:35:17</td>\n      <td>0.010453</td>\n      <td>1</td>\n      <td>1</td>\n      <td>0</td>\n    </tr>\n    <tr>\n      <th>...</th>\n      <td>...</td>\n      <td>...</td>\n      <td>...</td>\n      <td>...</td>\n      <td>...</td>\n    </tr>\n    <tr>\n      <th>2023-05-08 15:16:20</th>\n      <td>2023-05-09 15:24:47</td>\n      <td>0.010701</td>\n      <td>1</td>\n      <td>1</td>\n      <td>0</td>\n    </tr>\n    <tr>\n      <th>2023-05-08 15:16:37</th>\n      <td>2023-05-09 15:24:47</td>\n      <td>0.010595</td>\n      <td>1</td>\n      <td>1</td>\n      <td>0</td>\n    </tr>\n    <tr>\n      <th>2023-05-08 15:36:39</th>\n      <td>2023-05-09 15:40:39</td>\n      <td>0.010387</td>\n      <td>1</td>\n      <td>1</td>\n      <td>0</td>\n    </tr>\n    <tr>\n      <th>2023-05-08 15:47:11</th>\n      <td>2023-05-09 15:48:38</td>\n      <td>0.010283</td>\n      <td>1</td>\n      <td>1</td>\n      <td>0</td>\n    </tr>\n    <tr>\n      <th>2023-05-08 15:54:13</th>\n      <td>2023-05-09 15:55:49</td>\n      <td>0.010182</td>\n      <td>1</td>\n      <td>1</td>\n      <td>0</td>\n    </tr>\n  </tbody>\n</table>\n<p>30053 rows × 5 columns</p>\n</div>"
     },
     "execution_count": 149,
     "metadata": {},
     "output_type": "execute_result"
    }
   ],
   "source": [
    "triple_barrier_events['side'] = labels.bin\n",
    "triple_barrier_events"
   ],
   "metadata": {
    "collapsed": false,
    "ExecuteTime": {
     "end_time": "2023-09-16T14:21:59.259330Z",
     "start_time": "2023-09-16T14:21:59.240813Z"
    }
   },
   "id": "516b22b34350e318"
  },
  {
   "cell_type": "code",
   "execution_count": 150,
   "outputs": [
    {
     "data": {
      "text/plain": "                          ret      trgt  bin  side\n2009-10-02 09:31:33  0.011168  0.010011    1     1\n2009-10-02 09:44:59  0.010552  0.010268    1     1\n2009-10-02 09:53:14  0.000000  0.010379    0     0\n2009-10-02 10:01:56  0.000000  0.010430    0     0\n2009-10-02 10:09:13  0.000000  0.010453    0     0\n...                       ...       ...  ...   ...\n2023-05-08 15:16:20  0.000000  0.010701    0     0\n2023-05-08 15:16:37  0.000000  0.010595    0     0\n2023-05-08 15:36:39  0.000000  0.010387    0     0\n2023-05-08 15:47:11  0.000000  0.010283    0     0\n2023-05-08 15:54:13  0.000000  0.010182    0     0\n\n[30053 rows x 4 columns]",
      "text/html": "<div>\n<style scoped>\n    .dataframe tbody tr th:only-of-type {\n        vertical-align: middle;\n    }\n\n    .dataframe tbody tr th {\n        vertical-align: top;\n    }\n\n    .dataframe thead th {\n        text-align: right;\n    }\n</style>\n<table border=\"1\" class=\"dataframe\">\n  <thead>\n    <tr style=\"text-align: right;\">\n      <th></th>\n      <th>ret</th>\n      <th>trgt</th>\n      <th>bin</th>\n      <th>side</th>\n    </tr>\n  </thead>\n  <tbody>\n    <tr>\n      <th>2009-10-02 09:31:33</th>\n      <td>0.011168</td>\n      <td>0.010011</td>\n      <td>1</td>\n      <td>1</td>\n    </tr>\n    <tr>\n      <th>2009-10-02 09:44:59</th>\n      <td>0.010552</td>\n      <td>0.010268</td>\n      <td>1</td>\n      <td>1</td>\n    </tr>\n    <tr>\n      <th>2009-10-02 09:53:14</th>\n      <td>0.000000</td>\n      <td>0.010379</td>\n      <td>0</td>\n      <td>0</td>\n    </tr>\n    <tr>\n      <th>2009-10-02 10:01:56</th>\n      <td>0.000000</td>\n      <td>0.010430</td>\n      <td>0</td>\n      <td>0</td>\n    </tr>\n    <tr>\n      <th>2009-10-02 10:09:13</th>\n      <td>0.000000</td>\n      <td>0.010453</td>\n      <td>0</td>\n      <td>0</td>\n    </tr>\n    <tr>\n      <th>...</th>\n      <td>...</td>\n      <td>...</td>\n      <td>...</td>\n      <td>...</td>\n    </tr>\n    <tr>\n      <th>2023-05-08 15:16:20</th>\n      <td>0.000000</td>\n      <td>0.010701</td>\n      <td>0</td>\n      <td>0</td>\n    </tr>\n    <tr>\n      <th>2023-05-08 15:16:37</th>\n      <td>0.000000</td>\n      <td>0.010595</td>\n      <td>0</td>\n      <td>0</td>\n    </tr>\n    <tr>\n      <th>2023-05-08 15:36:39</th>\n      <td>0.000000</td>\n      <td>0.010387</td>\n      <td>0</td>\n      <td>0</td>\n    </tr>\n    <tr>\n      <th>2023-05-08 15:47:11</th>\n      <td>0.000000</td>\n      <td>0.010283</td>\n      <td>0</td>\n      <td>0</td>\n    </tr>\n    <tr>\n      <th>2023-05-08 15:54:13</th>\n      <td>0.000000</td>\n      <td>0.010182</td>\n      <td>0</td>\n      <td>0</td>\n    </tr>\n  </tbody>\n</table>\n<p>30053 rows × 4 columns</p>\n</div>"
     },
     "execution_count": 150,
     "metadata": {},
     "output_type": "execute_result"
    }
   ],
   "source": [
    "meta_labels = meta_labeling(triple_barrier_events, dollar['close'])\n",
    "meta_labels"
   ],
   "metadata": {
    "collapsed": false,
    "ExecuteTime": {
     "end_time": "2023-09-16T14:22:10.622052Z",
     "start_time": "2023-09-16T14:22:09.399580Z"
    }
   },
   "id": "b01108e68de2240c"
  },
  {
   "cell_type": "code",
   "execution_count": 151,
   "outputs": [
    {
     "data": {
      "text/plain": "                        price    return   fracdiff  volatility  concurrency  \\\n2010-04-29 10:26:57   58.2801 -0.000860  10.476812    0.010964         15.0   \n2010-04-29 11:09:15   58.3600 -0.000857  10.507715    0.011247          5.0   \n2010-04-29 11:34:28   58.4100 -0.000685  10.488812    0.011638          5.0   \n2010-04-29 11:44:01   58.4900 -0.002052  10.540226    0.011979          6.0   \n2010-04-29 12:00:06   58.4498 -0.003932  10.465450    0.012262          7.0   \n...                       ...       ...        ...         ...          ...   \n2023-05-08 15:16:20  152.1563 -0.002736  26.030479    0.010701         22.0   \n2023-05-08 15:16:37  152.0900 -0.002301  25.963539    0.010595         23.0   \n2023-05-08 15:36:39  152.0701 -0.002368  25.952489    0.010387         24.0   \n2023-05-08 15:47:11  152.1800 -0.003483  26.065165    0.010283         25.0   \n2023-05-08 15:54:13  152.0900 -0.003402  25.952918    0.010182         26.0   \n\n                     uniqueness  hasbrouck  side  label  \n2010-04-29 10:26:57    0.104609   0.000015   0.0      0  \n2010-04-29 11:09:15    0.101340   0.000010   0.0      0  \n2010-04-29 11:34:28    0.086407   0.000007   0.0      0  \n2010-04-29 11:44:01    0.080429   0.000010   0.0      0  \n2010-04-29 12:00:06    0.074427   0.000005   0.0      0  \n...                         ...        ...   ...    ...  \n2023-05-08 15:16:20    0.073810   0.000004   0.0      0  \n2023-05-08 15:16:37    0.074945   0.000005   0.0      0  \n2023-05-08 15:36:39    0.107179   0.000002   0.0      0  \n2023-05-08 15:47:11    0.124807   0.000009   0.0      0  \n2023-05-08 15:54:13    0.161731   0.000007   0.0      0  \n\n[29415 rows x 9 columns]",
      "text/html": "<div>\n<style scoped>\n    .dataframe tbody tr th:only-of-type {\n        vertical-align: middle;\n    }\n\n    .dataframe tbody tr th {\n        vertical-align: top;\n    }\n\n    .dataframe thead th {\n        text-align: right;\n    }\n</style>\n<table border=\"1\" class=\"dataframe\">\n  <thead>\n    <tr style=\"text-align: right;\">\n      <th></th>\n      <th>price</th>\n      <th>return</th>\n      <th>fracdiff</th>\n      <th>volatility</th>\n      <th>concurrency</th>\n      <th>uniqueness</th>\n      <th>hasbrouck</th>\n      <th>side</th>\n      <th>label</th>\n    </tr>\n  </thead>\n  <tbody>\n    <tr>\n      <th>2010-04-29 10:26:57</th>\n      <td>58.2801</td>\n      <td>-0.000860</td>\n      <td>10.476812</td>\n      <td>0.010964</td>\n      <td>15.0</td>\n      <td>0.104609</td>\n      <td>0.000015</td>\n      <td>0.0</td>\n      <td>0</td>\n    </tr>\n    <tr>\n      <th>2010-04-29 11:09:15</th>\n      <td>58.3600</td>\n      <td>-0.000857</td>\n      <td>10.507715</td>\n      <td>0.011247</td>\n      <td>5.0</td>\n      <td>0.101340</td>\n      <td>0.000010</td>\n      <td>0.0</td>\n      <td>0</td>\n    </tr>\n    <tr>\n      <th>2010-04-29 11:34:28</th>\n      <td>58.4100</td>\n      <td>-0.000685</td>\n      <td>10.488812</td>\n      <td>0.011638</td>\n      <td>5.0</td>\n      <td>0.086407</td>\n      <td>0.000007</td>\n      <td>0.0</td>\n      <td>0</td>\n    </tr>\n    <tr>\n      <th>2010-04-29 11:44:01</th>\n      <td>58.4900</td>\n      <td>-0.002052</td>\n      <td>10.540226</td>\n      <td>0.011979</td>\n      <td>6.0</td>\n      <td>0.080429</td>\n      <td>0.000010</td>\n      <td>0.0</td>\n      <td>0</td>\n    </tr>\n    <tr>\n      <th>2010-04-29 12:00:06</th>\n      <td>58.4498</td>\n      <td>-0.003932</td>\n      <td>10.465450</td>\n      <td>0.012262</td>\n      <td>7.0</td>\n      <td>0.074427</td>\n      <td>0.000005</td>\n      <td>0.0</td>\n      <td>0</td>\n    </tr>\n    <tr>\n      <th>...</th>\n      <td>...</td>\n      <td>...</td>\n      <td>...</td>\n      <td>...</td>\n      <td>...</td>\n      <td>...</td>\n      <td>...</td>\n      <td>...</td>\n      <td>...</td>\n    </tr>\n    <tr>\n      <th>2023-05-08 15:16:20</th>\n      <td>152.1563</td>\n      <td>-0.002736</td>\n      <td>26.030479</td>\n      <td>0.010701</td>\n      <td>22.0</td>\n      <td>0.073810</td>\n      <td>0.000004</td>\n      <td>0.0</td>\n      <td>0</td>\n    </tr>\n    <tr>\n      <th>2023-05-08 15:16:37</th>\n      <td>152.0900</td>\n      <td>-0.002301</td>\n      <td>25.963539</td>\n      <td>0.010595</td>\n      <td>23.0</td>\n      <td>0.074945</td>\n      <td>0.000005</td>\n      <td>0.0</td>\n      <td>0</td>\n    </tr>\n    <tr>\n      <th>2023-05-08 15:36:39</th>\n      <td>152.0701</td>\n      <td>-0.002368</td>\n      <td>25.952489</td>\n      <td>0.010387</td>\n      <td>24.0</td>\n      <td>0.107179</td>\n      <td>0.000002</td>\n      <td>0.0</td>\n      <td>0</td>\n    </tr>\n    <tr>\n      <th>2023-05-08 15:47:11</th>\n      <td>152.1800</td>\n      <td>-0.003483</td>\n      <td>26.065165</td>\n      <td>0.010283</td>\n      <td>25.0</td>\n      <td>0.124807</td>\n      <td>0.000009</td>\n      <td>0.0</td>\n      <td>0</td>\n    </tr>\n    <tr>\n      <th>2023-05-08 15:54:13</th>\n      <td>152.0900</td>\n      <td>-0.003402</td>\n      <td>25.952918</td>\n      <td>0.010182</td>\n      <td>26.0</td>\n      <td>0.161731</td>\n      <td>0.000007</td>\n      <td>0.0</td>\n      <td>0</td>\n    </tr>\n  </tbody>\n</table>\n<p>29415 rows × 9 columns</p>\n</div>"
     },
     "execution_count": 151,
     "metadata": {},
     "output_type": "execute_result"
    }
   ],
   "source": [
    "matrix['label'] = meta_labels['bin']\n",
    "matrix"
   ],
   "metadata": {
    "collapsed": false,
    "ExecuteTime": {
     "end_time": "2023-09-16T14:23:25.258448Z",
     "start_time": "2023-09-16T14:23:25.236224Z"
    }
   },
   "id": "af415242a1b2756b"
  },
  {
   "cell_type": "markdown",
   "source": [
    "#### Meta Model"
   ],
   "metadata": {
    "collapsed": false
   },
   "id": "f65b46e57fae1217"
  },
  {
   "cell_type": "code",
   "execution_count": 172,
   "outputs": [],
   "source": [
    "from sklearn.model_selection import train_test_split\n",
    "X = matrix.iloc[:,[2,3,4,5,6]]\n",
    "y = matrix.iloc[:,-1]\n",
    "\n",
    "X_train, X_test, y_train, y_test = train_test_split(X, y, test_size = 0.3, shuffle = False)"
   ],
   "metadata": {
    "collapsed": false,
    "ExecuteTime": {
     "end_time": "2023-09-16T14:27:09.038252Z",
     "start_time": "2023-09-16T14:27:09.012354Z"
    }
   },
   "id": "d380166cbbf876c"
  },
  {
   "cell_type": "code",
   "execution_count": 173,
   "outputs": [],
   "source": [
    "from sklearn.ensemble import RandomForestClassifier\n",
    "\n",
    "rf = RandomForestClassifier(n_estimators = 1000,\n",
    "                            criterion = 'entropy', \n",
    "                            random_state = 42,\n",
    "                            class_weight = 'balanced_subsample', \n",
    "                            ccp_alpha = 0.001,\n",
    "                            min_weight_fraction_leaf = 0.05,\n",
    "                            max_samples = matrix['uniqueness'].mean(),\n",
    "                            max_features = 20)\n",
    "model = rf.fit(X_train, y_train)"
   ],
   "metadata": {
    "collapsed": false,
    "ExecuteTime": {
     "end_time": "2023-09-16T14:27:12.610424Z",
     "start_time": "2023-09-16T14:27:09.471802Z"
    }
   },
   "id": "3ca8c18d67248b79"
  },
  {
   "cell_type": "code",
   "execution_count": 174,
   "outputs": [
    {
     "name": "stdout",
     "output_type": "stream",
     "text": [
      "              precision    recall  f1-score   support\n",
      "\n",
      "           0       0.52      0.79      0.63      4647\n",
      "           1       0.46      0.20      0.28      4178\n",
      "\n",
      "    accuracy                           0.51      8825\n",
      "   macro avg       0.49      0.50      0.46      8825\n",
      "weighted avg       0.50      0.51      0.46      8825\n"
     ]
    }
   ],
   "source": [
    "from sklearn.metrics import roc_curve, classification_report\n",
    "y_pred_rf = rf.predict_proba(X_test)[:, 1]\n",
    "y_pred = rf.predict(X_test)\n",
    "print(classification_report(y_test, y_pred))"
   ],
   "metadata": {
    "collapsed": false,
    "ExecuteTime": {
     "end_time": "2023-09-16T14:27:13.432903Z",
     "start_time": "2023-09-16T14:27:13.046814Z"
    }
   },
   "id": "9b48d3e0431f7790"
  },
  {
   "cell_type": "code",
   "execution_count": 168,
   "outputs": [
    {
     "data": {
      "text/plain": "<Figure size 1000x400 with 1 Axes>",
      "image/png": "[encoded data removed]"
     },
     "metadata": {},
     "output_type": "display_data"
    }
   ],
   "source": [
    "title = 'Feature Importance: Random Forest Classifier'\n",
    "figsize = (10, 4)\n",
    "\n",
    "feat_imp = pd.DataFrame({'Importance':rf.feature_importances_})\n",
    "feat_imp['feature'] = X.columns\n",
    "feat_imp.sort_values(by='Importance', ascending = False, inplace = True)\n",
    "feat_imp = feat_imp\n",
    "\n",
    "feat_imp.sort_values(by = 'Importance', inplace = True)\n",
    "feat_imp = feat_imp.set_index('feature', drop = True)\n",
    "feat_imp.plot.barh(figsize = figsize)\n",
    "plt.axvline(1. / feat_imp.shape[0], linewidth = 1, color='r', linestyle='dotted')\n",
    "plt.xlabel('Feature Importance Score')\n",
    "plt.title(title, fontsize = 12, fontfamily = 'Serif')\n",
    "plt.show()"
   ],
   "metadata": {
    "collapsed": false,
    "ExecuteTime": {
     "end_time": "2023-09-16T14:25:43.242677Z",
     "start_time": "2023-09-16T14:25:43.168652Z"
    }
   },
   "id": "86ea7e0953a68f89"
  },
  {
   "cell_type": "code",
   "execution_count": 170,
   "outputs": [
    {
     "data": {
      "text/plain": "                     Predict  Actual  Betting Size    Return  Backtest\n2020-09-03 13:30:00        1       1      0.559871  0.002239  0.001254\n2020-09-03 13:33:51        1       0      0.583803 -0.003274 -0.001911\n2020-09-03 13:39:20        0       0      0.430796 -0.000777 -0.000335\n2020-09-03 13:45:09        0       0      0.464580  0.000950  0.000441\n2020-09-03 13:52:55        0       0      0.382542  0.000173  0.000066\n...                      ...     ...           ...       ...       ...\n2023-05-08 15:16:20        0       0      0.384417 -0.000340 -0.000131\n2023-05-08 15:16:37        0       0      0.390971 -0.000436 -0.000170\n2023-05-08 15:36:39        0       0      0.396980 -0.000131 -0.000052\n2023-05-08 15:47:11        0       0      0.452413  0.000722  0.000327\n2023-05-08 15:54:13        0       0      0.432587 -0.000592 -0.000256\n\n[8825 rows x 5 columns]",
      "text/html": "<div>\n<style scoped>\n    .dataframe tbody tr th:only-of-type {\n        vertical-align: middle;\n    }\n\n    .dataframe tbody tr th {\n        vertical-align: top;\n    }\n\n    .dataframe thead th {\n        text-align: right;\n    }\n</style>\n<table border=\"1\" class=\"dataframe\">\n  <thead>\n    <tr style=\"text-align: right;\">\n      <th></th>\n      <th>Predict</th>\n      <th>Actual</th>\n      <th>Betting Size</th>\n      <th>Return</th>\n      <th>Backtest</th>\n    </tr>\n  </thead>\n  <tbody>\n    <tr>\n      <th>2020-09-03 13:30:00</th>\n      <td>1</td>\n      <td>1</td>\n      <td>0.559871</td>\n      <td>0.002239</td>\n      <td>0.001254</td>\n    </tr>\n    <tr>\n      <th>2020-09-03 13:33:51</th>\n      <td>1</td>\n      <td>0</td>\n      <td>0.583803</td>\n      <td>-0.003274</td>\n      <td>-0.001911</td>\n    </tr>\n    <tr>\n      <th>2020-09-03 13:39:20</th>\n      <td>0</td>\n      <td>0</td>\n      <td>0.430796</td>\n      <td>-0.000777</td>\n      <td>-0.000335</td>\n    </tr>\n    <tr>\n      <th>2020-09-03 13:45:09</th>\n      <td>0</td>\n      <td>0</td>\n      <td>0.464580</td>\n      <td>0.000950</td>\n      <td>0.000441</td>\n    </tr>\n    <tr>\n      <th>2020-09-03 13:52:55</th>\n      <td>0</td>\n      <td>0</td>\n      <td>0.382542</td>\n      <td>0.000173</td>\n      <td>0.000066</td>\n    </tr>\n    <tr>\n      <th>...</th>\n      <td>...</td>\n      <td>...</td>\n      <td>...</td>\n      <td>...</td>\n      <td>...</td>\n    </tr>\n    <tr>\n      <th>2023-05-08 15:16:20</th>\n      <td>0</td>\n      <td>0</td>\n      <td>0.384417</td>\n      <td>-0.000340</td>\n      <td>-0.000131</td>\n    </tr>\n    <tr>\n      <th>2023-05-08 15:16:37</th>\n      <td>0</td>\n      <td>0</td>\n      <td>0.390971</td>\n      <td>-0.000436</td>\n      <td>-0.000170</td>\n    </tr>\n    <tr>\n      <th>2023-05-08 15:36:39</th>\n      <td>0</td>\n      <td>0</td>\n      <td>0.396980</td>\n      <td>-0.000131</td>\n      <td>-0.000052</td>\n    </tr>\n    <tr>\n      <th>2023-05-08 15:47:11</th>\n      <td>0</td>\n      <td>0</td>\n      <td>0.452413</td>\n      <td>0.000722</td>\n      <td>0.000327</td>\n    </tr>\n    <tr>\n      <th>2023-05-08 15:54:13</th>\n      <td>0</td>\n      <td>0</td>\n      <td>0.432587</td>\n      <td>-0.000592</td>\n      <td>-0.000256</td>\n    </tr>\n  </tbody>\n</table>\n<p>8825 rows × 5 columns</p>\n</div>"
     },
     "execution_count": 170,
     "metadata": {},
     "output_type": "execute_result"
    }
   ],
   "source": [
    "backtest = pd.DataFrame()\n",
    "backtest['Predict'] = model.predict(X_test)\n",
    "backtest['Actual'] = y_test.values\n",
    "backtest['Betting Size'] = model.predict_proba(X_test)[:,1]\n",
    "backtest['Return'] = np.log(matrix.price / matrix.price.shift(1))[-8825:].values\n",
    "backtest['Backtest'] = model.predict_proba(X_test)[:,1] * backtest['Return'].values\n",
    "backtest.index = X_test.index\n",
    "backtest"
   ],
   "metadata": {
    "collapsed": false,
    "ExecuteTime": {
     "end_time": "2023-09-16T14:26:05.634390Z",
     "start_time": "2023-09-16T14:26:04.959269Z"
    }
   },
   "id": "808c8e54ba88a14c"
  },
  {
   "cell_type": "code",
   "execution_count": 171,
   "outputs": [
    {
     "data": {
      "text/plain": "Text(0.5, 1.0, 'Becktesting Machine Learning Model(Apple)')"
     },
     "execution_count": 171,
     "metadata": {},
     "output_type": "execute_result"
    },
    {
     "data": {
      "text/plain": "<Figure size 1000x400 with 1 Axes>",
      "image/png": "[encoded data removed]"
     },
     "metadata": {},
     "output_type": "display_data"
    }
   ],
   "source": [
    "plt.figure(figsize = (10,4))\n",
    "(backtest[backtest['Predict'] == 1]['Backtest']*2).cumsum().plot(label = 'Betting Sized')\n",
    "backtest[backtest['Predict'] == 1]['Return'].cumsum().plot(label = 'No Betting Sized')\n",
    "backtest['Return'].cumsum().plot(label = 'Cumulated Return')\n",
    "plt.legend()\n",
    "plt.grid(False)\n",
    "plt.xlabel(r'$\\tau$')\n",
    "plt.ylabel(r'Cumulated Return', fontfamily = 'Serif')\n",
    "plt.title('Becktesting Machine Learning Model(Apple)', fontsize = 12, fontfamily = 'Serif')"
   ],
   "metadata": {
    "collapsed": false,
    "ExecuteTime": {
     "end_time": "2023-09-16T14:26:08.598411Z",
     "start_time": "2023-09-16T14:26:08.400082Z"
    }
   },
   "id": "f0d5036777f65e7a"
  }
 ],
 "metadata": {
  "kernelspec": {
   "display_name": "Python 3",
   "language": "python",
   "name": "python3"
  },
  "language_info": {
   "codemirror_mode": {
    "name": "ipython",
    "version": 2
   },
   "file_extension": ".py",
   "mimetype": "text/x-python",
   "name": "python",
   "nbconvert_exporter": "python",
   "pygments_lexer": "ipython2",
   "version": "2.7.6"
  }
 },
 "nbformat": 4,
 "nbformat_minor": 5
}
