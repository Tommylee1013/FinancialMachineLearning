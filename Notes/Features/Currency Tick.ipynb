{
 "cells": [
  {
   "cell_type": "code",
   "execution_count": 1,
   "id": "initial_id",
   "metadata": {
    "collapsed": true,
    "ExecuteTime": {
     "end_time": "2023-11-10T15:03:21.075637Z",
     "start_time": "2023-11-10T15:03:16.835169Z"
    }
   },
   "outputs": [],
   "source": [
    "import pandas as pd\n",
    "from pathlib import Path\n",
    "\n",
    "directory_path = \"../../Data/FOREX EURUSD Tick\"\n",
    "files = list(Path(directory_path).rglob(\"*.csv\"))"
   ]
  },
  {
   "cell_type": "code",
   "execution_count": 2,
   "outputs": [],
   "source": [
    "files = sorted(files)"
   ],
   "metadata": {
    "collapsed": false,
    "ExecuteTime": {
     "end_time": "2023-11-10T15:03:23.564Z",
     "start_time": "2023-11-10T15:03:23.557523Z"
    }
   },
   "id": "6d6e85621b297ae5"
  },
  {
   "cell_type": "code",
   "execution_count": null,
   "outputs": [],
   "source": [
    "dfs = [pd.read_csv(file, encoding = 'utf-8') for file in files]\n",
    "merged_df = pd.concat(dfs, ignore_index = True)"
   ],
   "metadata": {
    "collapsed": false,
    "is_executing": true,
    "ExecuteTime": {
     "start_time": "2023-11-10T15:03:24.872441Z"
    }
   },
   "id": "b57716536cbee36b"
  },
  {
   "cell_type": "code",
   "execution_count": null,
   "outputs": [],
   "source": [
    "print(merged_df.head())"
   ],
   "metadata": {
    "collapsed": false
   },
   "id": "6a4eb31c7d024df6"
  },
  {
   "cell_type": "code",
   "execution_count": null,
   "outputs": [],
   "source": [
    "merged_df.to_parquet(\"../../Data/FOREX_EUR_DST_tick.parq\")\n",
    "print(merged_df.head())"
   ],
   "metadata": {
    "collapsed": false
   },
   "id": "d761bedd32c876dd"
  }
 ],
 "metadata": {
  "kernelspec": {
   "display_name": "Python 3",
   "language": "python",
   "name": "python3"
  },
  "language_info": {
   "codemirror_mode": {
    "name": "ipython",
    "version": 2
   },
   "file_extension": ".py",
   "mimetype": "text/x-python",
   "name": "python",
   "nbconvert_exporter": "python",
   "pygments_lexer": "ipython2",
   "version": "2.7.6"
  }
 },
 "nbformat": 4,
 "nbformat_minor": 5
}
