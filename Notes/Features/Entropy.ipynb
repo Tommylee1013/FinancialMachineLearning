{
 "cells": [
  {
   "cell_type": "code",
   "execution_count": 1,
   "id": "initial_id",
   "metadata": {
    "collapsed": true,
    "ExecuteTime": {
     "end_time": "2023-09-19T15:26:58.371582Z",
     "start_time": "2023-09-19T15:26:57.248168Z"
    }
   },
   "outputs": [],
   "source": [
    "import numpy as np\n",
    "import pandas as pd\n",
    "import matplotlib.pyplot as plt\n",
    "from FinancialMachineLearning.features.entropy import *"
   ]
  },
  {
   "cell_type": "code",
   "execution_count": 2,
   "outputs": [
    {
     "data": {
      "text/plain": "'/Users/junghunlee/Desktop/Pycharm/FinancialMachineLearning'"
     },
     "execution_count": 2,
     "metadata": {},
     "output_type": "execute_result"
    }
   ],
   "source": [
    "import os\n",
    "os.chdir('..')\n",
    "os.chdir('..')\n",
    "os.getcwd()"
   ],
   "metadata": {
    "collapsed": false,
    "ExecuteTime": {
     "end_time": "2023-09-19T15:26:58.376517Z",
     "start_time": "2023-09-19T15:26:58.372020Z"
    }
   },
   "id": "2d863cf47b846454"
  },
  {
   "cell_type": "code",
   "execution_count": 3,
   "outputs": [
    {
     "data": {
      "text/plain": "                     tick_num    open     high       low   close  volume  \\\ndate_time                                                                  \n2009-09-28 09:46:34        80   50.79   51.070   50.7100   51.07   20044   \n2009-09-28 09:52:47       142   51.07   51.148   51.0500   51.13   21024   \n2009-09-28 09:54:38       201   51.14   51.150   51.1290   51.13   19951   \n2009-09-28 09:55:26       243   51.13   51.150   51.1300   51.14   19652   \n2009-09-28 10:02:48       339   51.14   51.260   51.0800   51.25   19943   \n...                       ...     ...      ...       ...     ...     ...   \n2023-09-14 15:54:32  10930083  162.98  163.060  162.9654  162.98    6186   \n2023-09-14 15:59:20  10930131  162.99  163.040  162.9299  163.04    7158   \n2023-09-14 15:59:39  10930171  163.04  163.050  162.9900  163.00    6316   \n2023-09-14 15:59:59  10930208  162.99  163.000  162.9700  162.98    6234   \n2023-09-14 16:00:00  10930213  162.98  163.000  162.9700  162.97   32257   \n\n                     cum_buy_volume  cum_ticks  cum_dollar_value  \ndate_time                                                         \n2009-09-28 09:46:34           13264         80      1.020027e+06  \n2009-09-28 09:52:47           19774         62      1.073986e+06  \n2009-09-28 09:54:38            6951         59      1.020145e+06  \n2009-09-28 09:55:26           18052         42      1.004999e+06  \n2009-09-28 10:02:48           11354         96      1.020512e+06  \n...                             ...        ...               ...  \n2023-09-14 15:54:32            3983         39      1.008408e+06  \n2023-09-14 15:59:20            4629         48      1.166735e+06  \n2023-09-14 15:59:39            3266         40      1.029639e+06  \n2023-09-14 15:59:59            2145         37      1.016030e+06  \n2023-09-14 16:00:00             335          5      5.256934e+06  \n\n[215833 rows x 9 columns]",
      "text/html": "<div>\n<style scoped>\n    .dataframe tbody tr th:only-of-type {\n        vertical-align: middle;\n    }\n\n    .dataframe tbody tr th {\n        vertical-align: top;\n    }\n\n    .dataframe thead th {\n        text-align: right;\n    }\n</style>\n<table border=\"1\" class=\"dataframe\">\n  <thead>\n    <tr style=\"text-align: right;\">\n      <th></th>\n      <th>tick_num</th>\n      <th>open</th>\n      <th>high</th>\n      <th>low</th>\n      <th>close</th>\n      <th>volume</th>\n      <th>cum_buy_volume</th>\n      <th>cum_ticks</th>\n      <th>cum_dollar_value</th>\n    </tr>\n    <tr>\n      <th>date_time</th>\n      <th></th>\n      <th></th>\n      <th></th>\n      <th></th>\n      <th></th>\n      <th></th>\n      <th></th>\n      <th></th>\n      <th></th>\n    </tr>\n  </thead>\n  <tbody>\n    <tr>\n      <th>2009-09-28 09:46:34</th>\n      <td>80</td>\n      <td>50.79</td>\n      <td>51.070</td>\n      <td>50.7100</td>\n      <td>51.07</td>\n      <td>20044</td>\n      <td>13264</td>\n      <td>80</td>\n      <td>1.020027e+06</td>\n    </tr>\n    <tr>\n      <th>2009-09-28 09:52:47</th>\n      <td>142</td>\n      <td>51.07</td>\n      <td>51.148</td>\n      <td>51.0500</td>\n      <td>51.13</td>\n      <td>21024</td>\n      <td>19774</td>\n      <td>62</td>\n      <td>1.073986e+06</td>\n    </tr>\n    <tr>\n      <th>2009-09-28 09:54:38</th>\n      <td>201</td>\n      <td>51.14</td>\n      <td>51.150</td>\n      <td>51.1290</td>\n      <td>51.13</td>\n      <td>19951</td>\n      <td>6951</td>\n      <td>59</td>\n      <td>1.020145e+06</td>\n    </tr>\n    <tr>\n      <th>2009-09-28 09:55:26</th>\n      <td>243</td>\n      <td>51.13</td>\n      <td>51.150</td>\n      <td>51.1300</td>\n      <td>51.14</td>\n      <td>19652</td>\n      <td>18052</td>\n      <td>42</td>\n      <td>1.004999e+06</td>\n    </tr>\n    <tr>\n      <th>2009-09-28 10:02:48</th>\n      <td>339</td>\n      <td>51.14</td>\n      <td>51.260</td>\n      <td>51.0800</td>\n      <td>51.25</td>\n      <td>19943</td>\n      <td>11354</td>\n      <td>96</td>\n      <td>1.020512e+06</td>\n    </tr>\n    <tr>\n      <th>...</th>\n      <td>...</td>\n      <td>...</td>\n      <td>...</td>\n      <td>...</td>\n      <td>...</td>\n      <td>...</td>\n      <td>...</td>\n      <td>...</td>\n      <td>...</td>\n    </tr>\n    <tr>\n      <th>2023-09-14 15:54:32</th>\n      <td>10930083</td>\n      <td>162.98</td>\n      <td>163.060</td>\n      <td>162.9654</td>\n      <td>162.98</td>\n      <td>6186</td>\n      <td>3983</td>\n      <td>39</td>\n      <td>1.008408e+06</td>\n    </tr>\n    <tr>\n      <th>2023-09-14 15:59:20</th>\n      <td>10930131</td>\n      <td>162.99</td>\n      <td>163.040</td>\n      <td>162.9299</td>\n      <td>163.04</td>\n      <td>7158</td>\n      <td>4629</td>\n      <td>48</td>\n      <td>1.166735e+06</td>\n    </tr>\n    <tr>\n      <th>2023-09-14 15:59:39</th>\n      <td>10930171</td>\n      <td>163.04</td>\n      <td>163.050</td>\n      <td>162.9900</td>\n      <td>163.00</td>\n      <td>6316</td>\n      <td>3266</td>\n      <td>40</td>\n      <td>1.029639e+06</td>\n    </tr>\n    <tr>\n      <th>2023-09-14 15:59:59</th>\n      <td>10930208</td>\n      <td>162.99</td>\n      <td>163.000</td>\n      <td>162.9700</td>\n      <td>162.98</td>\n      <td>6234</td>\n      <td>2145</td>\n      <td>37</td>\n      <td>1.016030e+06</td>\n    </tr>\n    <tr>\n      <th>2023-09-14 16:00:00</th>\n      <td>10930213</td>\n      <td>162.98</td>\n      <td>163.000</td>\n      <td>162.9700</td>\n      <td>162.97</td>\n      <td>32257</td>\n      <td>335</td>\n      <td>5</td>\n      <td>5.256934e+06</td>\n    </tr>\n  </tbody>\n</table>\n<p>215833 rows × 9 columns</p>\n</div>"
     },
     "execution_count": 3,
     "metadata": {},
     "output_type": "execute_result"
    }
   ],
   "source": [
    "dollar = pd.read_csv('./Data/dollar_IVEfuture.csv', index_col = 0, parse_dates = True)\n",
    "dollar = dollar[~dollar.index.duplicated(keep = 'first')]\n",
    "dollar"
   ],
   "metadata": {
    "collapsed": false,
    "ExecuteTime": {
     "end_time": "2023-09-19T15:26:58.565146Z",
     "start_time": "2023-09-19T15:26:58.376690Z"
    }
   },
   "id": "2aa897d4d30a0d79"
  },
  {
   "cell_type": "markdown",
   "source": [
    "#### Fractional Difference"
   ],
   "metadata": {
    "collapsed": false
   },
   "id": "1d929b87f588b6a7"
  },
  {
   "cell_type": "code",
   "execution_count": 8,
   "outputs": [],
   "source": [
    "from FinancialMachineLearning.features.fracdiff import *\n",
    "import warnings\n",
    "warnings.filterwarnings('ignore')\n",
    "\n",
    "frac_dollar = pd.read_csv('./Data/fracdiff.csv', index_col = 0)"
   ],
   "metadata": {
    "collapsed": false,
    "ExecuteTime": {
     "end_time": "2023-09-19T15:34:12.081071Z",
     "start_time": "2023-09-19T15:34:11.967503Z"
    }
   },
   "id": "902a3f351d79b03"
  },
  {
   "cell_type": "markdown",
   "source": [
    "#### Continuous Entropy\n",
    "\n",
    "Entropy 추정에는 시장의 일부 기억을 유지하고 있는 fracdiff 계열을 사용하는것이 좋다 (Lopez de Prado, 2018)"
   ],
   "metadata": {
    "collapsed": false
   },
   "id": "95ee818337ece7a9"
  },
  {
   "cell_type": "code",
   "execution_count": 10,
   "outputs": [
    {
     "data": {
      "text/plain": "                         close\n2010-04-29 10:26:57  10.476812\n2010-04-29 11:09:15  10.507715\n2010-04-29 11:26:03  10.464420\n2010-04-29 11:34:28  10.488812\n2010-04-29 11:44:01  10.540226\n...                        ...\n2023-09-14 15:54:32  28.022345\n2023-09-14 15:59:20  28.081668\n2023-09-14 15:59:39  28.025730\n2023-09-14 15:59:59  28.004278\n2023-09-14 16:00:00  27.993746\n\n[212452 rows x 1 columns]",
      "text/html": "<div>\n<style scoped>\n    .dataframe tbody tr th:only-of-type {\n        vertical-align: middle;\n    }\n\n    .dataframe tbody tr th {\n        vertical-align: top;\n    }\n\n    .dataframe thead th {\n        text-align: right;\n    }\n</style>\n<table border=\"1\" class=\"dataframe\">\n  <thead>\n    <tr style=\"text-align: right;\">\n      <th></th>\n      <th>close</th>\n    </tr>\n  </thead>\n  <tbody>\n    <tr>\n      <th>2010-04-29 10:26:57</th>\n      <td>10.476812</td>\n    </tr>\n    <tr>\n      <th>2010-04-29 11:09:15</th>\n      <td>10.507715</td>\n    </tr>\n    <tr>\n      <th>2010-04-29 11:26:03</th>\n      <td>10.464420</td>\n    </tr>\n    <tr>\n      <th>2010-04-29 11:34:28</th>\n      <td>10.488812</td>\n    </tr>\n    <tr>\n      <th>2010-04-29 11:44:01</th>\n      <td>10.540226</td>\n    </tr>\n    <tr>\n      <th>...</th>\n      <td>...</td>\n    </tr>\n    <tr>\n      <th>2023-09-14 15:54:32</th>\n      <td>28.022345</td>\n    </tr>\n    <tr>\n      <th>2023-09-14 15:59:20</th>\n      <td>28.081668</td>\n    </tr>\n    <tr>\n      <th>2023-09-14 15:59:39</th>\n      <td>28.025730</td>\n    </tr>\n    <tr>\n      <th>2023-09-14 15:59:59</th>\n      <td>28.004278</td>\n    </tr>\n    <tr>\n      <th>2023-09-14 16:00:00</th>\n      <td>27.993746</td>\n    </tr>\n  </tbody>\n</table>\n<p>212452 rows × 1 columns</p>\n</div>"
     },
     "execution_count": 10,
     "metadata": {},
     "output_type": "execute_result"
    }
   ],
   "source": [
    "frac_dollar"
   ],
   "metadata": {
    "collapsed": false,
    "ExecuteTime": {
     "end_time": "2023-09-19T15:34:22.121096Z",
     "start_time": "2023-09-19T15:34:22.115882Z"
    }
   },
   "id": "25cc5c5e939267a4"
  },
  {
   "cell_type": "code",
   "execution_count": 6,
   "outputs": [
    {
     "ename": "TypeError",
     "evalue": "ContinuousEntropy() takes no arguments",
     "output_type": "error",
     "traceback": [
      "\u001B[0;31m---------------------------------------------------------------------------\u001B[0m",
      "\u001B[0;31mTypeError\u001B[0m                                 Traceback (most recent call last)",
      "Cell \u001B[0;32mIn[6], line 1\u001B[0m\n\u001B[0;32m----> 1\u001B[0m cont_etp \u001B[38;5;241m=\u001B[39m \u001B[43mContinuousEntropy\u001B[49m\u001B[43m(\u001B[49m\u001B[43mret\u001B[49m\u001B[43m \u001B[49m\u001B[38;5;241;43m=\u001B[39;49m\u001B[43m \u001B[49m\u001B[43mfrac_dollar\u001B[49m\u001B[43m,\u001B[49m\u001B[43m \u001B[49m\u001B[43mperiod\u001B[49m\u001B[43m \u001B[49m\u001B[38;5;241;43m=\u001B[39;49m\u001B[43m \u001B[49m\u001B[38;5;241;43m100\u001B[39;49m\u001B[43m)\u001B[49m\n",
      "\u001B[0;31mTypeError\u001B[0m: ContinuousEntropy() takes no arguments"
     ]
    }
   ],
   "source": [
    "cont_etp = ContinuousEntropy(ret = frac_dollar, period = 100)"
   ],
   "metadata": {
    "collapsed": false,
    "ExecuteTime": {
     "end_time": "2023-09-19T15:32:03.109782Z",
     "start_time": "2023-09-19T15:32:02.595006Z"
    }
   },
   "id": "bf4353df32a9acdd"
  },
  {
   "cell_type": "code",
   "execution_count": null,
   "outputs": [],
   "source": [],
   "metadata": {
    "collapsed": false,
    "ExecuteTime": {
     "end_time": "2023-09-19T15:32:03.113975Z",
     "start_time": "2023-09-19T15:32:03.110256Z"
    }
   },
   "id": "b38ad353037bb852"
  }
 ],
 "metadata": {
  "kernelspec": {
   "display_name": "Python 3",
   "language": "python",
   "name": "python3"
  },
  "language_info": {
   "codemirror_mode": {
    "name": "ipython",
    "version": 2
   },
   "file_extension": ".py",
   "mimetype": "text/x-python",
   "name": "python",
   "nbconvert_exporter": "python",
   "pygments_lexer": "ipython2",
   "version": "2.7.6"
  }
 },
 "nbformat": 4,
 "nbformat_minor": 5
}
