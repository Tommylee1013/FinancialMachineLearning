{
 "cells": [
  {
   "cell_type": "code",
   "execution_count": 1,
   "id": "181a592b",
   "metadata": {
    "ExecuteTime": {
     "end_time": "2024-01-18T13:17:28.954265Z",
     "start_time": "2024-01-18T13:17:28.516428Z"
    }
   },
   "outputs": [],
   "source": [
    "from FinancialMachineLearning.features.fracdiff import FractionalDifferentiatedFeatures\n",
    "import pandas as pd\n",
    "import numpy as np\n",
    "import lightgbm as lgb\n",
    "\n",
    "import ta\n",
    "from ta.volatility import BollingerBands\n",
    "from datetime import datetime\n",
    "\n",
    "from sklearn.preprocessing import MinMaxScaler\n",
    "from sklearn.metrics import confusion_matrix, accuracy_score, precision_score, recall_score, f1_score, roc_auc_score\n",
    "import joblib\n",
    "\n",
    "import warnings\n",
    "warnings.filterwarnings('ignore')"
   ]
  },
  {
   "cell_type": "code",
   "execution_count": 13,
   "id": "eef48a2b",
   "metadata": {
    "ExecuteTime": {
     "end_time": "2024-01-18T13:33:34.342281Z",
     "start_time": "2024-01-18T13:33:34.327478Z"
    }
   },
   "outputs": [],
   "source": [
    "class Preprocessor : \n",
    "    \"\"\"\n",
    "    This object helps to preprocess data for the model input.\n",
    "    Input test data to this object and run model.\n",
    "    \"\"\"\n",
    "    \n",
    "    def __init__(self) :\n",
    "        self.data = None\n",
    "        \n",
    "    def __add_fd_features(self) : \n",
    "        self.data['Close_FD'] = FractionalDifferentiatedFeatures.fracDiff_FFD(self.data[['Close']], 0.25)\n",
    "        self.data['Volume_FD'] = FractionalDifferentiatedFeatures.fracDiff_FFD(self.data[['Volume']], 0.35)\n",
    "        \n",
    "    def __add_ta_features(self) : \n",
    "        ta.add_all_ta_features(\n",
    "            self.data, open=\"Open\", high=\"High\", low=\"Low\", close=\"Close\", volume=\"Volume\", fillna=True\n",
    "        )\n",
    "        indicator_bb = BollingerBands(close = self.data[\"Close\"], window = 20, window_dev = 1)\n",
    "\n",
    "        self.data['volatility_bbh'] = indicator_bb.bollinger_hband()\n",
    "        self.data['volatility_bbl'] = indicator_bb.bollinger_lband()\n",
    "        self.data['volatility_bbhi'] = indicator_bb.bollinger_hband_indicator()\n",
    "        self.data['volatility_bbli'] = indicator_bb.bollinger_lband_indicator()\n",
    "        \n",
    "    def __add_labels(self) : \n",
    "        self.data['label'] = 1 * self.data['volatility_bbhi']- 1 * self.data['volatility_bbli']\n",
    "        self.data['meta_label'] = self.data['label'].apply(abs)\n",
    "        \n",
    "        self.data = self.data.apply(lambda x : x.astype('category') if x.nunique() <= 4 else x)\n",
    "    \n",
    "        to_drop = ['label', 'Open','High','Low','Close','Volume'] + [col for col in self.data.columns if 'volatility_bb' in col]\n",
    "        \n",
    "        self.X = self.data.drop(columns = to_drop).astype('float64')\n",
    "        self.y = self.X.pop('meta_label').to_frame().astype('int64')\n",
    "        \n",
    "    def __add_pd_features(self) : \n",
    "        self.X = pd.concat([self.X] + [self.X.diff(i).add_prefix('∆').add_suffix(f'({i})') for i in range(1, 4)], axis = 1)\n",
    "        \n",
    "    def __add_dt_features(self) :\n",
    "        self.X['month'] = self.X.index.to_series().dt.month.astype('category')\n",
    "        self.X['day'] = self.X.index.to_series().dt.day.astype('category')\n",
    "        self.X['dayofweek'] = self.X.index.to_series().dt.dayofweek.astype('category')\n",
    "    \n",
    "    def __detect_num_cat_cols(self) : \n",
    "        self.numeric_columns=list(self.X.select_dtypes(['float64', 'int64']).columns)\n",
    "        self.categorical_columns=list(self.X.select_dtypes('category').columns)\n",
    "        \n",
    "    \n",
    "    def __minmax_scale(self) :        \n",
    "        self.scaler = MinMaxScaler()\n",
    "        X_num = self.X[self.numeric_columns]\n",
    "        X_cat = self.X[self.categorical_columns]\n",
    "        X_num_scaled = pd.DataFrame(self.scaler.fit_transform(X_num), index = X_num.index, columns = X_num.columns)\n",
    "        \n",
    "        self.X_scaled = pd.concat([X_num_scaled, X_cat], axis = 1)\n",
    "        self.X_scaled = self.X_scaled.apply(lambda x : x.astype('int64') if x.dtype == 'category' else x)\n",
    "        \n",
    "    def fit(self, data) :\n",
    "        print(\"=\" * 60)\n",
    "        print(\"### Start to preprocess data ...\")\n",
    "        print(\"=\" * 60)\n",
    "        self.data = data\n",
    "        print('### Add fractionally differentiated features ...')\n",
    "        self.__add_fd_features()\n",
    "        print('### Add ta features ...')\n",
    "        self.__add_ta_features()\n",
    "        print('### Add labels ...')\n",
    "        self.__add_labels() \n",
    "        print('### Add partially differentiated features ...')\n",
    "        print(self.X)\n",
    "        self.__add_pd_features()\n",
    "        print('### Add datetime features ...')\n",
    "        self.__add_dt_features()\n",
    "        print('### Conduct scaling ...')\n",
    "        self.__detect_num_cat_cols()\n",
    "        self.__minmax_scale()\n",
    "        print(\"=\" * 60)\n",
    "        print('### Finished ...')\n",
    "        print(\"=\" * 60)"
   ]
  },
  {
   "cell_type": "markdown",
   "id": "0516a17c",
   "metadata": {},
   "source": [
    "다음과 같은 방식으로 사용."
   ]
  },
  {
   "cell_type": "code",
   "execution_count": 14,
   "id": "c5366aac",
   "metadata": {
    "ExecuteTime": {
     "end_time": "2024-01-18T13:33:36.485908Z",
     "start_time": "2024-01-18T13:33:36.463416Z"
    }
   },
   "outputs": [
    {
     "data": {
      "text/plain": "                 Open       High        Low      Close    Volume\nDate                                                            \n1962-01-02   0.000000   1.589844   1.578125   1.578125    902400\n1962-01-03   0.000000   1.601563   1.578125   1.601563   1200000\n1962-01-04   0.000000   1.613281   1.597656   1.605469   1088000\n1962-01-05   0.000000   1.613281   1.566406   1.570313   1222400\n1962-01-08   0.000000   1.582031   1.546875   1.566406   1388800\n...               ...        ...        ...        ...       ...\n2019-12-24  70.349998  70.500000  69.910004  70.019997   3979400\n2019-12-26  70.190002  70.500000  70.010002  70.129997   8840200\n2019-12-27  70.199997  70.309998  69.879997  69.889999  10516100\n2019-12-30  70.089996  70.440002  69.400002  69.480003  12689400\n2019-12-31  69.019997  69.800003  69.010002  69.779999  13151800\n\n[14600 rows x 5 columns]",
      "text/html": "<div>\n<style scoped>\n    .dataframe tbody tr th:only-of-type {\n        vertical-align: middle;\n    }\n\n    .dataframe tbody tr th {\n        vertical-align: top;\n    }\n\n    .dataframe thead th {\n        text-align: right;\n    }\n</style>\n<table border=\"1\" class=\"dataframe\">\n  <thead>\n    <tr style=\"text-align: right;\">\n      <th></th>\n      <th>Open</th>\n      <th>High</th>\n      <th>Low</th>\n      <th>Close</th>\n      <th>Volume</th>\n    </tr>\n    <tr>\n      <th>Date</th>\n      <th></th>\n      <th></th>\n      <th></th>\n      <th></th>\n      <th></th>\n    </tr>\n  </thead>\n  <tbody>\n    <tr>\n      <th>1962-01-02</th>\n      <td>0.000000</td>\n      <td>1.589844</td>\n      <td>1.578125</td>\n      <td>1.578125</td>\n      <td>902400</td>\n    </tr>\n    <tr>\n      <th>1962-01-03</th>\n      <td>0.000000</td>\n      <td>1.601563</td>\n      <td>1.578125</td>\n      <td>1.601563</td>\n      <td>1200000</td>\n    </tr>\n    <tr>\n      <th>1962-01-04</th>\n      <td>0.000000</td>\n      <td>1.613281</td>\n      <td>1.597656</td>\n      <td>1.605469</td>\n      <td>1088000</td>\n    </tr>\n    <tr>\n      <th>1962-01-05</th>\n      <td>0.000000</td>\n      <td>1.613281</td>\n      <td>1.566406</td>\n      <td>1.570313</td>\n      <td>1222400</td>\n    </tr>\n    <tr>\n      <th>1962-01-08</th>\n      <td>0.000000</td>\n      <td>1.582031</td>\n      <td>1.546875</td>\n      <td>1.566406</td>\n      <td>1388800</td>\n    </tr>\n    <tr>\n      <th>...</th>\n      <td>...</td>\n      <td>...</td>\n      <td>...</td>\n      <td>...</td>\n      <td>...</td>\n    </tr>\n    <tr>\n      <th>2019-12-24</th>\n      <td>70.349998</td>\n      <td>70.500000</td>\n      <td>69.910004</td>\n      <td>70.019997</td>\n      <td>3979400</td>\n    </tr>\n    <tr>\n      <th>2019-12-26</th>\n      <td>70.190002</td>\n      <td>70.500000</td>\n      <td>70.010002</td>\n      <td>70.129997</td>\n      <td>8840200</td>\n    </tr>\n    <tr>\n      <th>2019-12-27</th>\n      <td>70.199997</td>\n      <td>70.309998</td>\n      <td>69.879997</td>\n      <td>69.889999</td>\n      <td>10516100</td>\n    </tr>\n    <tr>\n      <th>2019-12-30</th>\n      <td>70.089996</td>\n      <td>70.440002</td>\n      <td>69.400002</td>\n      <td>69.480003</td>\n      <td>12689400</td>\n    </tr>\n    <tr>\n      <th>2019-12-31</th>\n      <td>69.019997</td>\n      <td>69.800003</td>\n      <td>69.010002</td>\n      <td>69.779999</td>\n      <td>13151800</td>\n    </tr>\n  </tbody>\n</table>\n<p>14600 rows × 5 columns</p>\n</div>"
     },
     "execution_count": 14,
     "metadata": {},
     "output_type": "execute_result"
    }
   ],
   "source": [
    "daily_train = pd.read_csv('../Data/daily_train.csv', parse_dates = ['Date']).set_index('Date')\n",
    "daily_train"
   ]
  },
  {
   "cell_type": "code",
   "execution_count": 16,
   "id": "55d77e41",
   "metadata": {
    "ExecuteTime": {
     "end_time": "2024-01-18T13:33:47.932953Z",
     "start_time": "2024-01-18T13:33:41.274986Z"
    }
   },
   "outputs": [
    {
     "name": "stdout",
     "output_type": "stream",
     "text": [
      "============================================================\n",
      "### Start to preprocess data ...\n",
      "============================================================\n",
      "### Add fractionally differentiated features ...\n",
      "### Add ta features ...\n",
      "### Add labels ...\n",
      "### Add partially differentiated features ...\n",
      "            Close_FD     Volume_FD    volume_adi    volume_obv  volume_cmf  \\\n",
      "Date                                                                         \n",
      "1962-01-02       NaN           NaN -9.024000e+05  9.024000e+05   -1.000000   \n",
      "1962-01-03       NaN           NaN  2.976000e+05  2.102400e+06    0.141553   \n",
      "1962-01-04       NaN           NaN  2.976664e+05  3.190400e+06    0.093301   \n",
      "1962-01-05       NaN           NaN -7.209630e+05  1.968000e+06   -0.163380   \n",
      "1962-01-08       NaN           NaN -5.666602e+05  5.792000e+05   -0.097673   \n",
      "...              ...           ...           ...           ...         ...   \n",
      "2019-12-24  6.523990 -1.117368e+07  5.268262e+09  5.121628e+09    0.003027   \n",
      "2019-12-26  6.650134 -1.714870e+06  5.263751e+09  5.130468e+09   -0.013851   \n",
      "2019-12-27  6.376940 -1.679250e+05  5.253725e+09  5.119952e+09   -0.046528   \n",
      "2019-12-30  6.010041  1.714736e+06  5.242987e+09  5.107262e+09   -0.070173   \n",
      "2019-12-31  6.423510  1.467198e+06  5.255473e+09  5.120414e+09    0.008273   \n",
      "\n",
      "               volume_fi  volume_em  volume_sma_em    volume_vpt  volume_vwap  \\\n",
      "Date                                                                            \n",
      "1962-01-02  0.000000e+00   0.000000       0.000000  0.000000e+00     1.582031   \n",
      "1962-01-03  2.812557e+04   0.011445       0.011445  1.782214e+04     1.588720   \n",
      "1962-01-04  2.471474e+04   0.022439       0.016942  2.047564e+04     1.594432   \n",
      "1962-01-05  1.504482e+04  -0.059917      -0.008678 -6.292057e+03     1.591357   \n",
      "1962-01-08  1.212042e+04  -0.064273      -0.022577 -9.747415e+03     1.585073   \n",
      "...                  ...        ...            ...           ...          ...   \n",
      "2019-12-24  2.822225e+06   4.299630       1.078330  2.101433e+07    69.623822   \n",
      "2019-12-26  2.557968e+06   0.277138       1.040150  2.102822e+07    69.720534   \n",
      "2019-12-27  1.831995e+06  -0.654250       0.574169  2.099223e+07    69.760182   \n",
      "2019-12-30  8.270527e+05  -1.434232       0.373205  2.091779e+07    69.774098   \n",
      "2019-12-31  1.272542e+06  -3.093493       0.203005  2.097458e+07    69.791830   \n",
      "\n",
      "            ...  momentum_ppo  momentum_ppo_signal  momentum_ppo_hist  \\\n",
      "Date        ...                                                         \n",
      "1962-01-02  ...      0.000000             0.000000           0.000000   \n",
      "1962-01-03  ...      0.118346             0.023669           0.094676   \n",
      "1962-01-04  ...      0.229165             0.064768           0.164397   \n",
      "1962-01-05  ...      0.136262             0.079067           0.057195   \n",
      "1962-01-08  ...      0.042139             0.071682          -0.029542   \n",
      "...         ...           ...                  ...                ...   \n",
      "2019-12-24  ...      0.323340             0.156753           0.166586   \n",
      "2019-12-26  ...      0.350163             0.195435           0.154728   \n",
      "2019-12-27  ...      0.339688             0.224286           0.115402   \n",
      "2019-12-30  ...      0.280706             0.235570           0.045136   \n",
      "2019-12-31  ...      0.265626             0.241581           0.024045   \n",
      "\n",
      "            momentum_pvo  momentum_pvo_signal  momentum_pvo_hist  \\\n",
      "Date                                                               \n",
      "1962-01-02      0.000000             0.000000           0.000000   \n",
      "1962-01-03      2.568047             0.513609           2.054438   \n",
      "1962-01-04      3.537949             1.118477           2.419472   \n",
      "1962-01-05      5.308305             1.956443           3.351862   \n",
      "1962-01-08      7.821347             3.129424           4.691924   \n",
      "...                  ...                  ...                ...   \n",
      "2019-12-24      5.353305             7.192619          -1.839314   \n",
      "2019-12-26      1.704527             6.095000          -4.390473   \n",
      "2019-12-27     -0.298701             4.816260          -5.114961   \n",
      "2019-12-30     -0.577460             3.737516          -4.314976   \n",
      "2019-12-31     -0.508914             2.888230          -3.397144   \n",
      "\n",
      "            momentum_kama  others_dr  others_dlr    others_cr  \n",
      "Date                                                           \n",
      "1962-01-02       1.578125   0.000000    0.000000     0.000000  \n",
      "1962-01-03       1.588554   1.485179    1.474258     1.485179  \n",
      "1962-01-04       1.595983   0.243887    0.243591     1.732688  \n",
      "1962-01-05       1.584543  -2.189766   -2.214097    -0.495019  \n",
      "1962-01-08       1.576384  -0.248802   -0.249112    -0.742589  \n",
      "...                   ...        ...         ...          ...  \n",
      "2019-12-24      69.453786  -0.384129   -0.384869  4336.910678  \n",
      "2019-12-26      69.478692   0.157099    0.156976  4343.881014  \n",
      "2019-12-27      69.485247  -0.342219   -0.342805  4328.673229  \n",
      "2019-12-30      69.485188  -0.586630   -0.588358  4302.693282  \n",
      "2019-12-31      69.488480   0.431772    0.430843  4321.702893  \n",
      "\n",
      "[14600 rows x 81 columns]\n",
      "### Add datetime features ...\n",
      "### Conduct scaling ...\n",
      "============================================================\n",
      "### Finished ...\n",
      "============================================================\n"
     ]
    }
   ],
   "source": [
    "preprocessor = Preprocessor()\n",
    "preprocessor.fit(daily_train)"
   ]
  },
  {
   "cell_type": "code",
   "execution_count": 17,
   "id": "fe25db82",
   "metadata": {
    "ExecuteTime": {
     "end_time": "2024-01-18T13:33:50.251817Z",
     "start_time": "2024-01-18T13:33:50.240095Z"
    }
   },
   "outputs": [
    {
     "data": {
      "text/plain": "            Close_FD  Volume_FD  volume_adi  volume_obv  volume_cmf  \\\nDate                                                                  \n1962-01-02       NaN        NaN    0.009107    0.000336    0.000000   \n1962-01-03       NaN        NaN    0.009328    0.000518    0.704782   \n1962-01-04       NaN        NaN    0.009328    0.000683    0.674992   \n1962-01-05       NaN        NaN    0.009140    0.000498    0.516520   \n1962-01-08       NaN        NaN    0.009169    0.000287    0.557087   \n\n            volume_fi  volume_em  volume_sma_em  volume_vpt  volume_vwap  ...  \\\nDate                                                                      ...   \n1962-01-02   0.696778   0.463405       0.568667    0.008649     0.000386  ...   \n1962-01-03   0.696891   0.463459       0.569162    0.009085     0.000452  ...   \n1962-01-04   0.696877   0.463511       0.569400    0.009150     0.000508  ...   \n1962-01-05   0.696838   0.463124       0.568292    0.008495     0.000478  ...   \n1962-01-08   0.696826   0.463104       0.567692    0.008410     0.000416  ...   \n\n            ∆momentum_pvo(3)  ∆momentum_pvo_signal(3)  ∆momentum_pvo_hist(3)  \\\nDate                                                                           \n1962-01-02               NaN                      NaN                    NaN   \n1962-01-03               NaN                      NaN                    NaN   \n1962-01-04               NaN                      NaN                    NaN   \n1962-01-05          0.373784                 0.393633               0.479478   \n1962-01-08          0.373002                 0.413489               0.466776   \n\n            ∆momentum_kama(3)  ∆others_dr(3)  ∆others_dlr(3)  ∆others_cr(3)  \\\nDate                                                                          \n1962-01-02                NaN            NaN             NaN            NaN   \n1962-01-03                NaN            NaN             NaN            NaN   \n1962-01-04                NaN            NaN             NaN            NaN   \n1962-01-05           0.644368       0.394435        0.417678       0.520007   \n1962-01-08           0.642512       0.404907        0.427762       0.518969   \n\n            month  day  dayofweek  \nDate                               \n1962-01-02      1    2          1  \n1962-01-03      1    3          2  \n1962-01-04      1    4          3  \n1962-01-05      1    5          4  \n1962-01-08      1    8          0  \n\n[5 rows x 327 columns]",
      "text/html": "<div>\n<style scoped>\n    .dataframe tbody tr th:only-of-type {\n        vertical-align: middle;\n    }\n\n    .dataframe tbody tr th {\n        vertical-align: top;\n    }\n\n    .dataframe thead th {\n        text-align: right;\n    }\n</style>\n<table border=\"1\" class=\"dataframe\">\n  <thead>\n    <tr style=\"text-align: right;\">\n      <th></th>\n      <th>Close_FD</th>\n      <th>Volume_FD</th>\n      <th>volume_adi</th>\n      <th>volume_obv</th>\n      <th>volume_cmf</th>\n      <th>volume_fi</th>\n      <th>volume_em</th>\n      <th>volume_sma_em</th>\n      <th>volume_vpt</th>\n      <th>volume_vwap</th>\n      <th>...</th>\n      <th>∆momentum_pvo(3)</th>\n      <th>∆momentum_pvo_signal(3)</th>\n      <th>∆momentum_pvo_hist(3)</th>\n      <th>∆momentum_kama(3)</th>\n      <th>∆others_dr(3)</th>\n      <th>∆others_dlr(3)</th>\n      <th>∆others_cr(3)</th>\n      <th>month</th>\n      <th>day</th>\n      <th>dayofweek</th>\n    </tr>\n    <tr>\n      <th>Date</th>\n      <th></th>\n      <th></th>\n      <th></th>\n      <th></th>\n      <th></th>\n      <th></th>\n      <th></th>\n      <th></th>\n      <th></th>\n      <th></th>\n      <th></th>\n      <th></th>\n      <th></th>\n      <th></th>\n      <th></th>\n      <th></th>\n      <th></th>\n      <th></th>\n      <th></th>\n      <th></th>\n      <th></th>\n    </tr>\n  </thead>\n  <tbody>\n    <tr>\n      <th>1962-01-02</th>\n      <td>NaN</td>\n      <td>NaN</td>\n      <td>0.009107</td>\n      <td>0.000336</td>\n      <td>0.000000</td>\n      <td>0.696778</td>\n      <td>0.463405</td>\n      <td>0.568667</td>\n      <td>0.008649</td>\n      <td>0.000386</td>\n      <td>...</td>\n      <td>NaN</td>\n      <td>NaN</td>\n      <td>NaN</td>\n      <td>NaN</td>\n      <td>NaN</td>\n      <td>NaN</td>\n      <td>NaN</td>\n      <td>1</td>\n      <td>2</td>\n      <td>1</td>\n    </tr>\n    <tr>\n      <th>1962-01-03</th>\n      <td>NaN</td>\n      <td>NaN</td>\n      <td>0.009328</td>\n      <td>0.000518</td>\n      <td>0.704782</td>\n      <td>0.696891</td>\n      <td>0.463459</td>\n      <td>0.569162</td>\n      <td>0.009085</td>\n      <td>0.000452</td>\n      <td>...</td>\n      <td>NaN</td>\n      <td>NaN</td>\n      <td>NaN</td>\n      <td>NaN</td>\n      <td>NaN</td>\n      <td>NaN</td>\n      <td>NaN</td>\n      <td>1</td>\n      <td>3</td>\n      <td>2</td>\n    </tr>\n    <tr>\n      <th>1962-01-04</th>\n      <td>NaN</td>\n      <td>NaN</td>\n      <td>0.009328</td>\n      <td>0.000683</td>\n      <td>0.674992</td>\n      <td>0.696877</td>\n      <td>0.463511</td>\n      <td>0.569400</td>\n      <td>0.009150</td>\n      <td>0.000508</td>\n      <td>...</td>\n      <td>NaN</td>\n      <td>NaN</td>\n      <td>NaN</td>\n      <td>NaN</td>\n      <td>NaN</td>\n      <td>NaN</td>\n      <td>NaN</td>\n      <td>1</td>\n      <td>4</td>\n      <td>3</td>\n    </tr>\n    <tr>\n      <th>1962-01-05</th>\n      <td>NaN</td>\n      <td>NaN</td>\n      <td>0.009140</td>\n      <td>0.000498</td>\n      <td>0.516520</td>\n      <td>0.696838</td>\n      <td>0.463124</td>\n      <td>0.568292</td>\n      <td>0.008495</td>\n      <td>0.000478</td>\n      <td>...</td>\n      <td>0.373784</td>\n      <td>0.393633</td>\n      <td>0.479478</td>\n      <td>0.644368</td>\n      <td>0.394435</td>\n      <td>0.417678</td>\n      <td>0.520007</td>\n      <td>1</td>\n      <td>5</td>\n      <td>4</td>\n    </tr>\n    <tr>\n      <th>1962-01-08</th>\n      <td>NaN</td>\n      <td>NaN</td>\n      <td>0.009169</td>\n      <td>0.000287</td>\n      <td>0.557087</td>\n      <td>0.696826</td>\n      <td>0.463104</td>\n      <td>0.567692</td>\n      <td>0.008410</td>\n      <td>0.000416</td>\n      <td>...</td>\n      <td>0.373002</td>\n      <td>0.413489</td>\n      <td>0.466776</td>\n      <td>0.642512</td>\n      <td>0.404907</td>\n      <td>0.427762</td>\n      <td>0.518969</td>\n      <td>1</td>\n      <td>8</td>\n      <td>0</td>\n    </tr>\n  </tbody>\n</table>\n<p>5 rows × 327 columns</p>\n</div>"
     },
     "execution_count": 17,
     "metadata": {},
     "output_type": "execute_result"
    }
   ],
   "source": [
    "preprocessor.X_scaled.head()"
   ]
  },
  {
   "cell_type": "markdown",
   "id": "b3cd358a",
   "metadata": {},
   "source": [
    "# Load Dataset"
   ]
  },
  {
   "cell_type": "markdown",
   "id": "1695ca52",
   "metadata": {},
   "source": [
    "다음의 코드의 `test data` 자리에 넣고자 하는 test data를 넣어주시면 바로 돌아갑니다.\n"
   ]
  },
  {
   "cell_type": "code",
   "outputs": [
    {
     "data": {
      "text/plain": "                  Open        High         Low       Close    Volume\nDate                                                                \n2020-01-02   70.239998   71.019997   70.239998   70.900002  12456400\n2020-01-03   71.339996   71.370003   70.160004   70.330002  17386900\n2020-01-06   70.320000   71.360001   70.230003   70.870003  20081900\n2020-01-07   70.500000   70.519997   69.510002   70.290001  17387700\n2020-01-08   70.110001   70.290001   69.169998   69.230003  15137700\n...                ...         ...         ...         ...       ...\n2023-12-22  102.309998  102.940002  101.820000  101.910004  12921800\n2023-12-26  102.739998  103.029999  102.120003  102.139999  16835100\n2023-12-27  102.040001  102.550003  101.339996  101.660004  14558800\n2023-12-28  101.389999  101.610001  100.129997  100.190002  16329300\n2023-12-29  100.370003  100.589996   99.620003   99.980003  17741400\n\n[1006 rows x 5 columns]",
      "text/html": "<div>\n<style scoped>\n    .dataframe tbody tr th:only-of-type {\n        vertical-align: middle;\n    }\n\n    .dataframe tbody tr th {\n        vertical-align: top;\n    }\n\n    .dataframe thead th {\n        text-align: right;\n    }\n</style>\n<table border=\"1\" class=\"dataframe\">\n  <thead>\n    <tr style=\"text-align: right;\">\n      <th></th>\n      <th>Open</th>\n      <th>High</th>\n      <th>Low</th>\n      <th>Close</th>\n      <th>Volume</th>\n    </tr>\n    <tr>\n      <th>Date</th>\n      <th></th>\n      <th></th>\n      <th></th>\n      <th></th>\n      <th></th>\n    </tr>\n  </thead>\n  <tbody>\n    <tr>\n      <th>2020-01-02</th>\n      <td>70.239998</td>\n      <td>71.019997</td>\n      <td>70.239998</td>\n      <td>70.900002</td>\n      <td>12456400</td>\n    </tr>\n    <tr>\n      <th>2020-01-03</th>\n      <td>71.339996</td>\n      <td>71.370003</td>\n      <td>70.160004</td>\n      <td>70.330002</td>\n      <td>17386900</td>\n    </tr>\n    <tr>\n      <th>2020-01-06</th>\n      <td>70.320000</td>\n      <td>71.360001</td>\n      <td>70.230003</td>\n      <td>70.870003</td>\n      <td>20081900</td>\n    </tr>\n    <tr>\n      <th>2020-01-07</th>\n      <td>70.500000</td>\n      <td>70.519997</td>\n      <td>69.510002</td>\n      <td>70.290001</td>\n      <td>17387700</td>\n    </tr>\n    <tr>\n      <th>2020-01-08</th>\n      <td>70.110001</td>\n      <td>70.290001</td>\n      <td>69.169998</td>\n      <td>69.230003</td>\n      <td>15137700</td>\n    </tr>\n    <tr>\n      <th>...</th>\n      <td>...</td>\n      <td>...</td>\n      <td>...</td>\n      <td>...</td>\n      <td>...</td>\n    </tr>\n    <tr>\n      <th>2023-12-22</th>\n      <td>102.309998</td>\n      <td>102.940002</td>\n      <td>101.820000</td>\n      <td>101.910004</td>\n      <td>12921800</td>\n    </tr>\n    <tr>\n      <th>2023-12-26</th>\n      <td>102.739998</td>\n      <td>103.029999</td>\n      <td>102.120003</td>\n      <td>102.139999</td>\n      <td>16835100</td>\n    </tr>\n    <tr>\n      <th>2023-12-27</th>\n      <td>102.040001</td>\n      <td>102.550003</td>\n      <td>101.339996</td>\n      <td>101.660004</td>\n      <td>14558800</td>\n    </tr>\n    <tr>\n      <th>2023-12-28</th>\n      <td>101.389999</td>\n      <td>101.610001</td>\n      <td>100.129997</td>\n      <td>100.190002</td>\n      <td>16329300</td>\n    </tr>\n    <tr>\n      <th>2023-12-29</th>\n      <td>100.370003</td>\n      <td>100.589996</td>\n      <td>99.620003</td>\n      <td>99.980003</td>\n      <td>17741400</td>\n    </tr>\n  </tbody>\n</table>\n<p>1006 rows × 5 columns</p>\n</div>"
     },
     "execution_count": 18,
     "metadata": {},
     "output_type": "execute_result"
    }
   ],
   "source": [
    "test_data = pd.read_csv('../Data/daily_test.csv', parse_dates = ['Date']).set_index('Date')\n",
    "test_data"
   ],
   "metadata": {
    "collapsed": false,
    "ExecuteTime": {
     "end_time": "2024-01-18T13:33:55.496544Z",
     "start_time": "2024-01-18T13:33:55.484167Z"
    }
   },
   "id": "f9218413bb57853c",
   "execution_count": 18
  },
  {
   "cell_type": "code",
   "execution_count": 19,
   "id": "7c830a6a",
   "metadata": {
    "ExecuteTime": {
     "end_time": "2024-01-18T13:34:05.676626Z",
     "start_time": "2024-01-18T13:34:05.514948Z"
    }
   },
   "outputs": [
    {
     "name": "stdout",
     "output_type": "stream",
     "text": [
      "============================================================\n",
      "### Start to preprocess data ...\n",
      "============================================================\n",
      "### Add fractionally differentiated features ...\n",
      "### Add ta features ...\n",
      "### Add labels ...\n",
      "### Add partially differentiated features ...\n",
      "            Close_FD  Volume_FD    volume_adi   volume_obv  volume_cmf  \\\n",
      "Date                                                                     \n",
      "2020-01-02       NaN        NaN  8.623811e+06   12456400.0    0.692320   \n",
      "2020-01-03       NaN        NaN -3.877562e+06   -4930500.0   -0.129931   \n",
      "2020-01-06       NaN        NaN -1.211790e+06   15151400.0   -0.024272   \n",
      "2020-01-07       NaN        NaN  8.256864e+06   -2236300.0    0.122664   \n",
      "2020-01-08       NaN        NaN -5.258803e+06  -17374000.0   -0.063781   \n",
      "...              ...        ...           ...          ...         ...   \n",
      "2023-12-22       NaN        NaN -2.462627e+08 -186605100.0   -0.051879   \n",
      "2023-12-26       NaN        NaN -2.623579e+08 -169770000.0   -0.095817   \n",
      "2023-12-27       NaN        NaN -2.692161e+08 -184328800.0   -0.069785   \n",
      "2023-12-28       NaN        NaN -2.842212e+08 -200658100.0   -0.073431   \n",
      "2023-12-29       NaN        NaN -2.887937e+08 -218399500.0   -0.065814   \n",
      "\n",
      "               volume_fi  volume_em  volume_sma_em    volume_vpt  volume_vwap  \\\n",
      "Date                                                                            \n",
      "2020-01-02  0.000000e+00   0.000000       0.000000  0.000000e+00    70.719999   \n",
      "2020-01-03 -9.910528e+06   0.939541       0.939541 -1.397818e+05    70.661740   \n",
      "2020-01-06 -6.945560e+06   0.168801       0.554171  1.440910e+04    70.725400   \n",
      "2020-01-07 -7.394037e+06  -4.530779      -1.140812 -1.278923e+05    70.565574   \n",
      "2020-01-08 -8.630021e+06  -2.108647      -1.382771 -3.561740e+05    70.381565   \n",
      "...                  ...        ...            ...           ...          ...   \n",
      "2023-12-22 -3.241148e+05   8.407529       0.680379  1.208087e+07   100.395311   \n",
      "2023-12-26  2.753303e+05   1.054042       1.519058  1.211887e+07   100.454324   \n",
      "2023-12-27 -7.623114e+05  -5.236046       2.119064  1.205045e+07   100.617833   \n",
      "2023-12-28 -4.082566e+06  -9.743251       1.465692  1.181433e+07   100.762813   \n",
      "2023-12-29 -4.031582e+06  -4.182559       1.232574  1.177714e+07   100.822589   \n",
      "\n",
      "            ...  momentum_ppo  momentum_ppo_signal  momentum_ppo_hist  \\\n",
      "Date        ...                                                         \n",
      "2020-01-02  ...      0.000000             0.000000           0.000000   \n",
      "2020-01-03  ...     -0.064171            -0.012834          -0.051337   \n",
      "2020-01-06  ...     -0.052922            -0.020852          -0.032070   \n",
      "2020-01-07  ...     -0.108866            -0.038455          -0.070412   \n",
      "2020-01-08  ...     -0.271287            -0.085021          -0.186266   \n",
      "...         ...           ...                  ...                ...   \n",
      "2023-12-22  ...     -0.794301            -1.232420           0.438119   \n",
      "2023-12-26  ...     -0.673869            -1.120710           0.446841   \n",
      "2023-12-27  ...     -0.609526            -1.018473           0.408947   \n",
      "2023-12-28  ...     -0.667740            -0.948327           0.280587   \n",
      "2023-12-29  ...     -0.722545            -0.903170           0.180625   \n",
      "\n",
      "            momentum_pvo  momentum_pvo_signal  momentum_pvo_hist  \\\n",
      "Date                                                               \n",
      "2020-01-02      0.000000             0.000000           0.000000   \n",
      "2020-01-03      3.067601             0.613520           2.454081   \n",
      "2020-01-06      6.826445             1.856105           4.970340   \n",
      "2020-01-07      8.002850             3.085454           4.917395   \n",
      "2020-01-08      7.575209             3.983405           3.591804   \n",
      "...                  ...                  ...                ...   \n",
      "2023-12-22     -0.945282             4.787043          -5.732326   \n",
      "2023-12-26     -2.955307             3.238573          -6.193880   \n",
      "2023-12-27     -5.433319             1.504195          -6.937514   \n",
      "2023-12-28     -6.729237            -0.142491          -6.586745   \n",
      "2023-12-29     -7.151698            -1.544333          -5.607365   \n",
      "\n",
      "            momentum_kama  others_dr  others_dlr  others_cr  \n",
      "Date                                                         \n",
      "2020-01-02      70.900002   0.000000    0.000000   0.000000  \n",
      "2020-01-03      70.620237  -0.803949   -0.807198  -0.803949  \n",
      "2020-01-06      70.744434   0.767810    0.764878  -0.042311  \n",
      "2020-01-07      70.539966  -0.818402   -0.821770  -0.860368  \n",
      "2020-01-08      69.935412  -1.508035   -1.519521  -2.355428  \n",
      "...                   ...        ...         ...        ...  \n",
      "2023-12-22     100.741753   0.176939    0.176783  43.737661  \n",
      "2023-12-26     100.803172   0.225685    0.225431  44.062055  \n",
      "2023-12-27     100.878502  -0.469939   -0.471047  43.385051  \n",
      "2023-12-28     100.864771  -1.445998   -1.456554  41.311707  \n",
      "2023-12-29     100.831940  -0.209601   -0.209821  41.015517  \n",
      "\n",
      "[1006 rows x 81 columns]\n",
      "### Add datetime features ...\n",
      "### Conduct scaling ...\n",
      "============================================================\n",
      "### Finished ...\n",
      "============================================================\n"
     ]
    },
    {
     "data": {
      "text/plain": "<lightgbm.basic.Dataset at 0x14fd683a0>"
     },
     "execution_count": 19,
     "metadata": {},
     "output_type": "execute_result"
    }
   ],
   "source": [
    "preprocessor = Preprocessor()\n",
    "preprocessor.fit(test_data)\n",
    "\n",
    "X_test, y_test = preprocessor.X_scaled, preprocessor.y\n",
    "test = lgb.Dataset(X_test, y_test, free_raw_data = False)\n",
    "test.set_categorical_feature(preprocessor.categorical_columns)"
   ]
  },
  {
   "cell_type": "markdown",
   "id": "39be18b2",
   "metadata": {},
   "source": [
    "## Load Model and Evaluate"
   ]
  },
  {
   "cell_type": "code",
   "execution_count": 20,
   "id": "00dc3f7c",
   "metadata": {
    "ExecuteTime": {
     "end_time": "2024-01-18T13:34:08.347138Z",
     "start_time": "2024-01-18T13:34:08.332174Z"
    }
   },
   "outputs": [],
   "source": [
    "filename = 'lgbm_model.pkl'\n",
    "clf = joblib.load(filename)"
   ]
  },
  {
   "cell_type": "code",
   "execution_count": 21,
   "id": "2e97eed8",
   "metadata": {
    "ExecuteTime": {
     "end_time": "2024-01-18T13:34:10.189214Z",
     "start_time": "2024-01-18T13:34:10.187581Z"
    }
   },
   "outputs": [],
   "source": [
    "def print_metric(model, data : lgb.Dataset) : \n",
    "    y_true = data.label\n",
    "    X = data.data\n",
    "    y_pred = (clf.predict(X).reshape(-1,1) >= 0.5) * 1\n",
    "    print(f'Confusion Matrix \\n {confusion_matrix(y_true, y_pred)}')\n",
    "    print(f\"Accuracy score: {accuracy_score(y_true, y_pred) :3%}\")\n",
    "    print(f'Precision score: {precision_score(y_true, y_pred) :3%}')\n",
    "    print(f'Recall score: {recall_score(y_true, y_pred):3%}')\n",
    "    print(f\"F1 score: {f1_score(y_true, y_pred):3%}\")\n",
    "    print(f\"ROC-AUC score: {roc_auc_score(y_true, y_pred) :3%}\")"
   ]
  },
  {
   "cell_type": "code",
   "execution_count": 22,
   "id": "0f6894ae",
   "metadata": {
    "ExecuteTime": {
     "end_time": "2024-01-18T13:34:11.057962Z",
     "start_time": "2024-01-18T13:34:11.028922Z"
    }
   },
   "outputs": [
    {
     "name": "stdout",
     "output_type": "stream",
     "text": [
      "Confusion Matrix \n",
      " [[385  78]\n",
      " [183 360]]\n",
      "Accuracy score: 74.055666%\n",
      "Precision score: 82.191781%\n",
      "Recall score: 66.298343%\n",
      "F1 score: 73.394495%\n",
      "ROC-AUC score: 74.725845%\n"
     ]
    }
   ],
   "source": [
    "print_metric(clf, test)"
   ]
  }
 ],
 "metadata": {
  "kernelspec": {
   "display_name": "Python 3 (ipykernel)",
   "language": "python",
   "name": "python3"
  },
  "language_info": {
   "codemirror_mode": {
    "name": "ipython",
    "version": 3
   },
   "file_extension": ".py",
   "mimetype": "text/x-python",
   "name": "python",
   "nbconvert_exporter": "python",
   "pygments_lexer": "ipython3",
   "version": "3.11.4"
  }
 },
 "nbformat": 4,
 "nbformat_minor": 5
}
