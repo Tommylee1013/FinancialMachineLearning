{
 "cells": [
  {
   "cell_type": "markdown",
   "id": "cfa6be926a7d01e6",
   "metadata": {},
   "source": [
    "### Financial Machine Learning\n",
    "\n",
    "지금까지 배운 내용을 토대로 금융 머신러닝 프로젝트에서 전략 수립과 연구가 어떻게 이뤄지는지 간단한 파이프라인을 그려 보도록 한다"
   ]
  },
  {
   "cell_type": "markdown",
   "id": "7e1532e8f41977f8",
   "metadata": {},
   "source": [
    "#### 1. Data Import\n",
    "\n",
    "가격 정보를 불러온다"
   ]
  },
  {
   "cell_type": "code",
   "execution_count": 1,
   "id": "initial_id",
   "metadata": {
    "ExecuteTime": {
     "end_time": "2024-01-18T14:48:43.912296Z",
     "start_time": "2024-01-18T14:48:42.269407Z"
    }
   },
   "outputs": [
    {
     "name": "stdout",
     "output_type": "stream",
     "text": [
      "[*********************100%%**********************]  1 of 1 completed\n"
     ]
    },
    {
     "data": {
      "text/plain": "                  Open        High        Low      Close    Volume\nDate                                                              \n1962-01-02    0.000000    1.589844   1.578125   1.578125    902400\n1962-01-03    0.000000    1.601563   1.578125   1.601563   1200000\n1962-01-04    0.000000    1.613281   1.597656   1.605469   1088000\n1962-01-05    0.000000    1.613281   1.566406   1.570313   1222400\n1962-01-08    0.000000    1.582031   1.546875   1.566406   1388800\n...                ...         ...        ...        ...       ...\n2024-01-10   99.800003   99.800003  98.160004  98.690002  18206100\n2024-01-11   99.040001   99.500000  98.559998  98.669998  15833400\n2024-01-12  100.139999  100.650002  99.169998  99.949997  18032100\n2024-01-16   99.820000  100.010002  97.529999  97.690002  20235700\n2024-01-17   96.599998   97.959999  96.580002  96.980003  18379000\n\n[15617 rows x 5 columns]",
      "text/html": "<div>\n<style scoped>\n    .dataframe tbody tr th:only-of-type {\n        vertical-align: middle;\n    }\n\n    .dataframe tbody tr th {\n        vertical-align: top;\n    }\n\n    .dataframe thead th {\n        text-align: right;\n    }\n</style>\n<table border=\"1\" class=\"dataframe\">\n  <thead>\n    <tr style=\"text-align: right;\">\n      <th></th>\n      <th>Open</th>\n      <th>High</th>\n      <th>Low</th>\n      <th>Close</th>\n      <th>Volume</th>\n    </tr>\n    <tr>\n      <th>Date</th>\n      <th></th>\n      <th></th>\n      <th></th>\n      <th></th>\n      <th></th>\n    </tr>\n  </thead>\n  <tbody>\n    <tr>\n      <th>1962-01-02</th>\n      <td>0.000000</td>\n      <td>1.589844</td>\n      <td>1.578125</td>\n      <td>1.578125</td>\n      <td>902400</td>\n    </tr>\n    <tr>\n      <th>1962-01-03</th>\n      <td>0.000000</td>\n      <td>1.601563</td>\n      <td>1.578125</td>\n      <td>1.601563</td>\n      <td>1200000</td>\n    </tr>\n    <tr>\n      <th>1962-01-04</th>\n      <td>0.000000</td>\n      <td>1.613281</td>\n      <td>1.597656</td>\n      <td>1.605469</td>\n      <td>1088000</td>\n    </tr>\n    <tr>\n      <th>1962-01-05</th>\n      <td>0.000000</td>\n      <td>1.613281</td>\n      <td>1.566406</td>\n      <td>1.570313</td>\n      <td>1222400</td>\n    </tr>\n    <tr>\n      <th>1962-01-08</th>\n      <td>0.000000</td>\n      <td>1.582031</td>\n      <td>1.546875</td>\n      <td>1.566406</td>\n      <td>1388800</td>\n    </tr>\n    <tr>\n      <th>...</th>\n      <td>...</td>\n      <td>...</td>\n      <td>...</td>\n      <td>...</td>\n      <td>...</td>\n    </tr>\n    <tr>\n      <th>2024-01-10</th>\n      <td>99.800003</td>\n      <td>99.800003</td>\n      <td>98.160004</td>\n      <td>98.690002</td>\n      <td>18206100</td>\n    </tr>\n    <tr>\n      <th>2024-01-11</th>\n      <td>99.040001</td>\n      <td>99.500000</td>\n      <td>98.559998</td>\n      <td>98.669998</td>\n      <td>15833400</td>\n    </tr>\n    <tr>\n      <th>2024-01-12</th>\n      <td>100.139999</td>\n      <td>100.650002</td>\n      <td>99.169998</td>\n      <td>99.949997</td>\n      <td>18032100</td>\n    </tr>\n    <tr>\n      <th>2024-01-16</th>\n      <td>99.820000</td>\n      <td>100.010002</td>\n      <td>97.529999</td>\n      <td>97.690002</td>\n      <td>20235700</td>\n    </tr>\n    <tr>\n      <th>2024-01-17</th>\n      <td>96.599998</td>\n      <td>97.959999</td>\n      <td>96.580002</td>\n      <td>96.980003</td>\n      <td>18379000</td>\n    </tr>\n  </tbody>\n</table>\n<p>15617 rows × 5 columns</p>\n</div>"
     },
     "execution_count": 1,
     "metadata": {},
     "output_type": "execute_result"
    }
   ],
   "source": [
    "import numpy as np\n",
    "import pandas as pd\n",
    "import yfinance as yf\n",
    "\n",
    "start_date = '1962-01-01'\n",
    "end_date = '2024-01-18'\n",
    "ticker = 'XOM'\n",
    "\n",
    "data = yf.download(ticker, start_date, end_date)\n",
    "data.drop('Adj Close', axis = 1, inplace = True)\n",
    "data"
   ]
  },
  {
   "cell_type": "code",
   "execution_count": 2,
   "id": "885babe2",
   "metadata": {
    "ExecuteTime": {
     "end_time": "2024-01-18T14:49:33.807494Z",
     "start_time": "2024-01-18T14:49:33.789299Z"
    }
   },
   "outputs": [
    {
     "data": {
      "text/plain": "Date\n1962-01-03    0.014743\n1962-01-04    0.002436\n1962-01-05   -0.022141\n1962-01-08   -0.002491\n1962-01-09   -0.002497\nName: Close, dtype: float64"
     },
     "execution_count": 2,
     "metadata": {},
     "output_type": "execute_result"
    }
   ],
   "source": [
    "data_ret = np.log(data.Close / data.Close.shift(1)).dropna()\n",
    "data_ret.head()"
   ]
  },
  {
   "cell_type": "markdown",
   "id": "654967da168058f3",
   "metadata": {},
   "source": [
    "#### 2. Fractionally Differentiated Features\n",
    "\n",
    "Fractionally Differentiated Feature를 생성하여 추가한다"
   ]
  },
  {
   "cell_type": "markdown",
   "id": "488019bb",
   "metadata": {},
   "source": [
    " - 시계열의 정상성 : mean, variance, covariance가 시간이 지나도 변하지 않는 성질\n",
    " - 시계열 분석에서는 정상성을 가진 자료를 사용해야 한다 → 주로 사용하는 데이터 형태 '주가 수익률' (1차 차분)\n",
    " - But 이 경우 데이터가 가진 메모리를 잃어버린다는 단점이 있음 (수익률과 주가 데이터간 상관계수는 0)\n",
    " - 그래서 생기는 딜레마 : Stationary vs Memory\n",
    " \n",
    " - 해결책? 분수 차분!!"
   ]
  },
  {
   "cell_type": "code",
   "execution_count": 3,
   "id": "7c7d8651",
   "metadata": {
    "ExecuteTime": {
     "end_time": "2024-01-18T14:49:43.473459Z",
     "start_time": "2024-01-18T14:49:43.074483Z"
    }
   },
   "outputs": [],
   "source": [
    "from FinancialMachineLearning.features.fracdiff import FractionalDifferentiatedFeatures\n",
    "import statsmodels.api as sm"
   ]
  },
  {
   "cell_type": "code",
   "execution_count": 4,
   "id": "c18a6e08",
   "metadata": {
    "ExecuteTime": {
     "end_time": "2024-01-18T14:49:44.933630Z",
     "start_time": "2024-01-18T14:49:44.921220Z"
    }
   },
   "outputs": [
    {
     "name": "stdout",
     "output_type": "stream",
     "text": [
      "Index(['Open', 'High', 'Low', 'Close', 'Volume'], dtype='object')\n"
     ]
    }
   ],
   "source": [
    "print(data.columns)"
   ]
  },
  {
   "cell_type": "markdown",
   "id": "96396049",
   "metadata": {},
   "source": [
    "- 0~1까지 21번(0.05차원씩) 차분을 하면서 ADF test 검정값 확인\n",
    "- P value가 0.05 이하여야 귀무가설(정상성이 아니라는) 기각 가능"
   ]
  },
  {
   "cell_type": "code",
   "execution_count": 5,
   "id": "752b8890dae5fa39",
   "metadata": {
    "ExecuteTime": {
     "end_time": "2024-01-08T05:36:38.360902Z",
     "start_time": "2024-01-08T05:36:23.562503Z"
    }
   },
   "outputs": [
    {
     "name": "stdout",
     "output_type": "stream",
     "text": [
      "d: 0.05, error: maxlag must be less than (nobs/2 - 1 - ntrend) where n trend is the number of included deterministic regressors\n",
      "d: 0.1, error: maxlag must be less than (nobs/2 - 1 - ntrend) where n trend is the number of included deterministic regressors\n"
     ]
    }
   ],
   "source": [
    "def calculate_difference(df : pd.DataFrame, end = 1, numbers = 11) :\n",
    "    cols = ['adfStat','pVal','lags','nObs','95% conf', 'corr']\n",
    "    out = pd.DataFrame(columns = cols)\n",
    "    for d in np.linspace(0, end, numbers):\n",
    "        try:\n",
    "            df1 = np.log(df).dropna()\n",
    "            df2 = FractionalDifferentiatedFeatures.fracDiff(df1, d, thres = 1e-5)\n",
    "            corr = np.corrcoef(df1.loc[df2.index, 'Close'], df2['Close'])[0,1]\n",
    "            df2 = sm.tsa.stattools.adfuller(df2['Close'], maxlag = 1, regression = 'c', autolag = None)\n",
    "            out.loc[d] = list(df2[:4]) + [df2[4]['5%']] + [corr]\n",
    "        except Exception as e:\n",
    "            print(f'd: {d}, error: {e}')\n",
    "            continue\n",
    "    return out\n",
    "\n",
    "data_d = calculate_difference(data[['Close']], numbers = 21)"
   ]
  },
  {
   "cell_type": "code",
   "execution_count": 39,
   "id": "1c437b5cfba95e90",
   "metadata": {
    "ExecuteTime": {
     "end_time": "2024-01-08T05:36:38.642127Z",
     "start_time": "2024-01-08T05:36:38.398596Z"
    }
   },
   "outputs": [
    {
     "data": {
      "text/html": [
       "<div>\n",
       "<style scoped>\n",
       "    .dataframe tbody tr th:only-of-type {\n",
       "        vertical-align: middle;\n",
       "    }\n",
       "\n",
       "    .dataframe tbody tr th {\n",
       "        vertical-align: top;\n",
       "    }\n",
       "\n",
       "    .dataframe thead th {\n",
       "        text-align: right;\n",
       "    }\n",
       "</style>\n",
       "<table border=\"1\" class=\"dataframe\">\n",
       "  <thead>\n",
       "    <tr style=\"text-align: right;\">\n",
       "      <th></th>\n",
       "      <th>adfStat</th>\n",
       "      <th>pVal</th>\n",
       "      <th>lags</th>\n",
       "      <th>nObs</th>\n",
       "      <th>95% conf</th>\n",
       "      <th>corr</th>\n",
       "    </tr>\n",
       "  </thead>\n",
       "  <tbody>\n",
       "    <tr>\n",
       "      <th>0.00</th>\n",
       "      <td>-1.239567</td>\n",
       "      <td>6.563476e-01</td>\n",
       "      <td>1.0</td>\n",
       "      <td>12610.0</td>\n",
       "      <td>-2.861769</td>\n",
       "      <td>1.000000</td>\n",
       "    </tr>\n",
       "    <tr>\n",
       "      <th>0.15</th>\n",
       "      <td>-0.442746</td>\n",
       "      <td>9.027133e-01</td>\n",
       "      <td>1.0</td>\n",
       "      <td>4.0</td>\n",
       "      <td>-4.474365</td>\n",
       "      <td>0.991476</td>\n",
       "    </tr>\n",
       "    <tr>\n",
       "      <th>0.20</th>\n",
       "      <td>-2.247938</td>\n",
       "      <td>1.893088e-01</td>\n",
       "      <td>1.0</td>\n",
       "      <td>7.0</td>\n",
       "      <td>-3.477583</td>\n",
       "      <td>0.968651</td>\n",
       "    </tr>\n",
       "    <tr>\n",
       "      <th>0.25</th>\n",
       "      <td>-1.835089</td>\n",
       "      <td>3.631851e-01</td>\n",
       "      <td>1.0</td>\n",
       "      <td>10.0</td>\n",
       "      <td>-3.232950</td>\n",
       "      <td>0.950540</td>\n",
       "    </tr>\n",
       "    <tr>\n",
       "      <th>0.30</th>\n",
       "      <td>-4.221110</td>\n",
       "      <td>6.067346e-04</td>\n",
       "      <td>1.0</td>\n",
       "      <td>16.0</td>\n",
       "      <td>-3.068498</td>\n",
       "      <td>0.846214</td>\n",
       "    </tr>\n",
       "    <tr>\n",
       "      <th>0.35</th>\n",
       "      <td>-1.993643</td>\n",
       "      <td>2.893673e-01</td>\n",
       "      <td>1.0</td>\n",
       "      <td>24.0</td>\n",
       "      <td>-2.992216</td>\n",
       "      <td>0.884652</td>\n",
       "    </tr>\n",
       "    <tr>\n",
       "      <th>0.40</th>\n",
       "      <td>-4.332218</td>\n",
       "      <td>3.904804e-04</td>\n",
       "      <td>1.0</td>\n",
       "      <td>38.0</td>\n",
       "      <td>-2.941262</td>\n",
       "      <td>0.838695</td>\n",
       "    </tr>\n",
       "    <tr>\n",
       "      <th>0.45</th>\n",
       "      <td>-3.631743</td>\n",
       "      <td>5.182383e-03</td>\n",
       "      <td>1.0</td>\n",
       "      <td>60.0</td>\n",
       "      <td>-2.911073</td>\n",
       "      <td>0.829309</td>\n",
       "    </tr>\n",
       "    <tr>\n",
       "      <th>0.50</th>\n",
       "      <td>-4.303673</td>\n",
       "      <td>4.377518e-04</td>\n",
       "      <td>1.0</td>\n",
       "      <td>97.0</td>\n",
       "      <td>-2.891831</td>\n",
       "      <td>0.688683</td>\n",
       "    </tr>\n",
       "    <tr>\n",
       "      <th>0.55</th>\n",
       "      <td>-5.454059</td>\n",
       "      <td>2.605471e-06</td>\n",
       "      <td>1.0</td>\n",
       "      <td>158.0</td>\n",
       "      <td>-2.880013</td>\n",
       "      <td>0.397140</td>\n",
       "    </tr>\n",
       "    <tr>\n",
       "      <th>0.60</th>\n",
       "      <td>-6.194203</td>\n",
       "      <td>6.020429e-08</td>\n",
       "      <td>1.0</td>\n",
       "      <td>262.0</td>\n",
       "      <td>-2.872636</td>\n",
       "      <td>0.447512</td>\n",
       "    </tr>\n",
       "    <tr>\n",
       "      <th>0.65</th>\n",
       "      <td>-8.947571</td>\n",
       "      <td>8.902599e-15</td>\n",
       "      <td>1.0</td>\n",
       "      <td>441.0</td>\n",
       "      <td>-2.868116</td>\n",
       "      <td>0.373566</td>\n",
       "    </tr>\n",
       "    <tr>\n",
       "      <th>0.70</th>\n",
       "      <td>-13.056136</td>\n",
       "      <td>2.093020e-24</td>\n",
       "      <td>1.0</td>\n",
       "      <td>756.0</td>\n",
       "      <td>-2.865371</td>\n",
       "      <td>0.271360</td>\n",
       "    </tr>\n",
       "    <tr>\n",
       "      <th>0.75</th>\n",
       "      <td>-19.715469</td>\n",
       "      <td>0.000000e+00</td>\n",
       "      <td>1.0</td>\n",
       "      <td>1315.0</td>\n",
       "      <td>-2.863740</td>\n",
       "      <td>0.207040</td>\n",
       "    </tr>\n",
       "    <tr>\n",
       "      <th>0.80</th>\n",
       "      <td>-27.139648</td>\n",
       "      <td>0.000000e+00</td>\n",
       "      <td>1.0</td>\n",
       "      <td>2302.0</td>\n",
       "      <td>-2.862796</td>\n",
       "      <td>0.144999</td>\n",
       "    </tr>\n",
       "    <tr>\n",
       "      <th>0.85</th>\n",
       "      <td>-43.937543</td>\n",
       "      <td>0.000000e+00</td>\n",
       "      <td>1.0</td>\n",
       "      <td>3980.0</td>\n",
       "      <td>-2.862266</td>\n",
       "      <td>0.027928</td>\n",
       "    </tr>\n",
       "    <tr>\n",
       "      <th>0.90</th>\n",
       "      <td>-58.977529</td>\n",
       "      <td>0.000000e+00</td>\n",
       "      <td>1.0</td>\n",
       "      <td>6547.0</td>\n",
       "      <td>-2.861982</td>\n",
       "      <td>-0.004072</td>\n",
       "    </tr>\n",
       "    <tr>\n",
       "      <th>0.95</th>\n",
       "      <td>-76.171779</td>\n",
       "      <td>0.000000e+00</td>\n",
       "      <td>1.0</td>\n",
       "      <td>9726.0</td>\n",
       "      <td>-2.861837</td>\n",
       "      <td>-0.005421</td>\n",
       "    </tr>\n",
       "    <tr>\n",
       "      <th>1.00</th>\n",
       "      <td>-87.356000</td>\n",
       "      <td>0.000000e+00</td>\n",
       "      <td>1.0</td>\n",
       "      <td>12609.0</td>\n",
       "      <td>-2.861769</td>\n",
       "      <td>-0.000225</td>\n",
       "    </tr>\n",
       "  </tbody>\n",
       "</table>\n",
       "</div>"
      ],
      "text/plain": [
       "        adfStat          pVal  lags     nObs  95% conf      corr\n",
       "0.00  -1.239567  6.563476e-01   1.0  12610.0 -2.861769  1.000000\n",
       "0.15  -0.442746  9.027133e-01   1.0      4.0 -4.474365  0.991476\n",
       "0.20  -2.247938  1.893088e-01   1.0      7.0 -3.477583  0.968651\n",
       "0.25  -1.835089  3.631851e-01   1.0     10.0 -3.232950  0.950540\n",
       "0.30  -4.221110  6.067346e-04   1.0     16.0 -3.068498  0.846214\n",
       "0.35  -1.993643  2.893673e-01   1.0     24.0 -2.992216  0.884652\n",
       "0.40  -4.332218  3.904804e-04   1.0     38.0 -2.941262  0.838695\n",
       "0.45  -3.631743  5.182383e-03   1.0     60.0 -2.911073  0.829309\n",
       "0.50  -4.303673  4.377518e-04   1.0     97.0 -2.891831  0.688683\n",
       "0.55  -5.454059  2.605471e-06   1.0    158.0 -2.880013  0.397140\n",
       "0.60  -6.194203  6.020429e-08   1.0    262.0 -2.872636  0.447512\n",
       "0.65  -8.947571  8.902599e-15   1.0    441.0 -2.868116  0.373566\n",
       "0.70 -13.056136  2.093020e-24   1.0    756.0 -2.865371  0.271360\n",
       "0.75 -19.715469  0.000000e+00   1.0   1315.0 -2.863740  0.207040\n",
       "0.80 -27.139648  0.000000e+00   1.0   2302.0 -2.862796  0.144999\n",
       "0.85 -43.937543  0.000000e+00   1.0   3980.0 -2.862266  0.027928\n",
       "0.90 -58.977529  0.000000e+00   1.0   6547.0 -2.861982 -0.004072\n",
       "0.95 -76.171779  0.000000e+00   1.0   9726.0 -2.861837 -0.005421\n",
       "1.00 -87.356000  0.000000e+00   1.0  12609.0 -2.861769 -0.000225"
      ]
     },
     "metadata": {},
     "output_type": "display_data"
    },
    {
     "data": {
      "image/png": "[encoded data removed]",
      "text/plain": [
       "<Figure size 1000x600 with 2 Axes>"
      ]
     },
     "metadata": {},
     "output_type": "display_data"
    }
   ],
   "source": [
    "import matplotlib.pyplot as plt\n",
    "\n",
    "f,ax = plt.subplots()\n",
    "ax.axhline(data_d['95% conf'].mean(), lw = 1, color = 'r', ls = '-.')\n",
    "data_d[['adfStat', 'corr']].plot(ax = ax, marker = 'X', secondary_y = 'corr')\n",
    "ax.set_title('minimum d (threshold = 0.0001)', fontsize = 12, fontfamily = 'Serif')\n",
    "ax.set_xlabel('d values')\n",
    "ax.set_ylabel('ADF Stats')\n",
    "ax.grid(False)\n",
    "display(data_d)"
   ]
  },
  {
   "cell_type": "markdown",
   "id": "ab1327ac7bc7a08b",
   "metadata": {},
   "source": [
    "0.30차분이 적절해 보이므로 0.30차분을 수행한다"
   ]
  },
  {
   "cell_type": "code",
   "execution_count": 5,
   "id": "131369e9d67e0aea",
   "metadata": {
    "ExecuteTime": {
     "end_time": "2024-01-18T14:49:54.427833Z",
     "start_time": "2024-01-18T14:49:51.552684Z"
    }
   },
   "outputs": [],
   "source": [
    "frac = FractionalDifferentiatedFeatures.fracDiff_FFD(data[['Close']], 0.30)\n",
    "data['fracdiff'] = frac"
   ]
  },
  {
   "cell_type": "markdown",
   "id": "e8146e9c74702435",
   "metadata": {},
   "source": [
    "#### 3. Technical Features\n",
    "\n",
    "ta library를 활용하여 다음과 같이 feature를 만들어 주도록 한다"
   ]
  },
  {
   "cell_type": "code",
   "execution_count": 6,
   "id": "5eaca30560bb9b17",
   "metadata": {
    "ExecuteTime": {
     "end_time": "2024-01-18T14:49:56.060589Z",
     "start_time": "2024-01-18T14:49:55.953379Z"
    }
   },
   "outputs": [],
   "source": [
    "from ta.volatility import BollingerBands\n",
    "from ta.volume import money_flow_index, on_balance_volume\n",
    "from ta.momentum import rsi\n",
    "from ta.volume import volume_weighted_average_price\n",
    "from ta.momentum import tsi\n",
    "from ta.volume import ease_of_movement\n",
    "from ta.volume import volume_price_trend\n",
    "\n",
    "data['return'] = data_ret\n",
    "\n",
    "indicator_bb = BollingerBands(close = data[\"Close\"], window = 20, window_dev = 1) #20일 데이터로 볼린저밴드 생성\n",
    "\n",
    "data['bb_bbm'] = indicator_bb.bollinger_mavg()\n",
    "data['bb_bbh'] = indicator_bb.bollinger_hband()\n",
    "data['bb_bbl'] = indicator_bb.bollinger_lband()\n",
    "\n",
    "data['mfi'] = money_flow_index(\n",
    "    high = data.High, low = data.Low, \n",
    "    close = data.Close, volume = data.Volume, window = 20\n",
    ")\n",
    "#MFI : 주가, 거래량으로 Money Flow Index 생성 - 대충 RSI에 거래량 붙인 것 (20이면 과매도, 80이면 과매수)\n",
    "data['obv'] = on_balance_volume(close = data.Close, volume = data.Volume)\n",
    "#OBV : 거래량 지표, OBV가 가격을 선행한다고 생각 (계산 : 오늘 종가 > 어제 종가 -> OBV에 오늘 거래량 더함. 반대면 뺌)\n",
    "data['rsi'] = rsi(close = data.Close, window = 21)\n",
    "data['rsi_signal'] = data['rsi'].rolling(window = 9).mean()\n",
    "data['vwap'] = volume_weighted_average_price(\n",
    "    high = data['High'], low = data['Low'],\n",
    "    close = data['Close'], volume = data['Volume'], window = 20)\n",
    "#VWAP : 일정기간동안 거래된 자산의 평균가격 (Σ거래가격*거래량/거래량)\n",
    "data['tsi'] = tsi(close = data['Close'], window_fast = 13, window_slow = 15)\n",
    "#TSI : 진정한 강도지수, RSI의 변형판\n",
    "data['eom'] = ease_of_movement(\n",
    "    high = data['High'], low = data.Low, volume = data.Volume, window = 20\n",
    ")\n",
    "#EOM : 거래량과 주가의 상관관계 (+은 상승, -은 하락, 절대값 크기는 거래량의 크기)\n",
    "data['vpt'] = volume_price_trend(\n",
    "    close = data.Close,\n",
    "    volume = data.Volume\n",
    ")\n",
    "#VPT : 거래량 지표, OBV에서 단순 거래량에 종가의 변화율까지 곱한 값을 더함"
   ]
  },
  {
   "cell_type": "markdown",
   "id": "a75dc9702b780f8",
   "metadata": {},
   "source": [
    "#### 4. MicroStructural Features\n",
    "\n",
    "시장미시구조적 특성을 추가하자"
   ]
  },
  {
   "cell_type": "code",
   "execution_count": 7,
   "id": "745a0a613a34cc6b",
   "metadata": {
    "ExecuteTime": {
     "end_time": "2024-01-18T14:49:58.961786Z",
     "start_time": "2024-01-18T14:49:58.945822Z"
    }
   },
   "outputs": [],
   "source": [
    "from FinancialMachineLearning.features.microstructure import *\n",
    "spread = CorwinSchultz(high = data.High, low = data.Low)\n",
    "cs_estimator = spread.corwin_schultz_estimator(window = 20)\n",
    "data['corwin_schultz'] = cs_estimator\n",
    "#H-L 스프레드(Corwin과 Schultz가 제안) : 유동성 측정 지표 (일별고가와 일별저가로 호가스프레드와 변동성을 추정)"
   ]
  },
  {
   "cell_type": "code",
   "execution_count": 8,
   "id": "e8099fb1d2cda51e",
   "metadata": {
    "ExecuteTime": {
     "end_time": "2024-01-18T14:50:00.960271Z",
     "start_time": "2024-01-18T14:50:00.945845Z"
    }
   },
   "outputs": [],
   "source": [
    "bp_vol = spread.becker_parkinson_vol(window = 20)\n",
    "data['becker_parkinson'] = bp_vol"
   ]
  },
  {
   "cell_type": "markdown",
   "id": "324205a86aca8bab",
   "metadata": {},
   "source": [
    "#### 5. Primary Modeling\n",
    "\n",
    "13주차에서 배운 개념을 활용하자\n",
    "\n",
    "Primary Model에서는 방향만을 추정한다. 여기서는 Bollinger Band전략을 사용하여 가격이 상승할 것인지, 하락할 것인지 labeling을 하자"
   ]
  },
  {
   "cell_type": "code",
   "execution_count": 9,
   "id": "c5dc98eb48f8e4cb",
   "metadata": {
    "ExecuteTime": {
     "end_time": "2024-01-18T14:50:02.886093Z",
     "start_time": "2024-01-18T14:50:02.861771Z"
    }
   },
   "outputs": [
    {
     "name": "stdout",
     "output_type": "stream",
     "text": [
      "                  Open        High        Low      Close    Volume  fracdiff  \\\n",
      "Date                                                                           \n",
      "1962-01-02    0.000000    1.589844   1.578125   1.578125    902400       NaN   \n",
      "1962-01-03    0.000000    1.601563   1.578125   1.601563   1200000       NaN   \n",
      "1962-01-04    0.000000    1.613281   1.597656   1.605469   1088000       NaN   \n",
      "1962-01-05    0.000000    1.613281   1.566406   1.570313   1222400       NaN   \n",
      "1962-01-08    0.000000    1.582031   1.546875   1.566406   1388800       NaN   \n",
      "...                ...         ...        ...        ...       ...       ...   \n",
      "2024-01-10   99.800003   99.800003  98.160004  98.690002  18206100  6.209395   \n",
      "2024-01-11   99.040001   99.500000  98.559998  98.669998  15833400  6.697956   \n",
      "2024-01-12  100.139999  100.650002  99.169998  99.949997  18032100  8.216582   \n",
      "2024-01-16   99.820000  100.010002  97.529999  97.690002  20235700  5.724192   \n",
      "2024-01-17   96.599998   97.959999  96.580002  96.980003  18379000  5.667977   \n",
      "\n",
      "              return      bb_bbm      bb_bbh     bb_bbl  ...         obv  \\\n",
      "Date                                                     ...               \n",
      "1962-01-02       NaN         NaN         NaN        NaN  ...      902400   \n",
      "1962-01-03  0.014743         NaN         NaN        NaN  ...     2102400   \n",
      "1962-01-04  0.002436         NaN         NaN        NaN  ...     3190400   \n",
      "1962-01-05 -0.022141         NaN         NaN        NaN  ...     1968000   \n",
      "1962-01-08 -0.002491         NaN         NaN        NaN  ...      579200   \n",
      "...              ...         ...         ...        ...  ...         ...   \n",
      "2024-01-10 -0.009881  101.139001  102.562478  99.715523  ...  4884345600   \n",
      "2024-01-11 -0.000203  101.170000  102.531261  99.808740  ...  4868512200   \n",
      "2024-01-12  0.012889  101.221500  102.514432  99.928569  ...  4886544300   \n",
      "2024-01-16 -0.022871  101.027000  102.527330  99.526670  ...  4866308600   \n",
      "2024-01-17 -0.007294  100.831001  102.571885  99.090117  ...  4847929600   \n",
      "\n",
      "                  rsi  rsi_signal        vwap        tsi        eom  \\\n",
      "Date                                                                  \n",
      "1962-01-02        NaN         NaN         NaN        NaN        NaN   \n",
      "1962-01-03        NaN         NaN         NaN        NaN   0.011445   \n",
      "1962-01-04        NaN         NaN         NaN        NaN   0.022439   \n",
      "1962-01-05        NaN         NaN         NaN        NaN  -0.059917   \n",
      "1962-01-08        NaN         NaN         NaN        NaN  -0.064273   \n",
      "...               ...         ...         ...        ...        ...   \n",
      "2024-01-10  40.721328   45.610965  101.099229  -7.458266 -11.350023   \n",
      "2024-01-11  40.681448   45.396286  101.204867 -10.956050   0.296814   \n",
      "2024-01-12  44.343498   45.638100  101.276715 -10.966907   7.222700   \n",
      "2024-01-16  39.789533   44.661678  101.144183 -14.643123 -13.971359   \n",
      "2024-01-17  38.485767   43.309811  101.009861 -18.400701 -11.262832   \n",
      "\n",
      "                     vpt  corwin_schultz  becker_parkinson  label  \n",
      "Date                                                               \n",
      "1962-01-02           NaN             NaN               NaN      0  \n",
      "1962-01-03  1.782214e+04             NaN               NaN      0  \n",
      "1962-01-04  2.047564e+04             NaN               NaN      0  \n",
      "1962-01-05 -6.292057e+03             NaN               NaN      0  \n",
      "1962-01-08 -9.747415e+03             NaN               NaN      0  \n",
      "...                  ...             ...               ...    ...  \n",
      "2024-01-10  3.277697e+07        0.000000          0.022059      0  \n",
      "2024-01-11  3.277376e+07        0.017508          0.000000      0  \n",
      "2024-01-12  3.300769e+07        0.006765          0.006301      0  \n",
      "2024-01-16  3.255013e+07        0.000000          0.022103     -1  \n",
      "2024-01-17  3.241655e+07        0.000000          0.027027     -1  \n",
      "\n",
      "[15617 rows x 21 columns]\n"
     ]
    }
   ],
   "source": [
    "data['label'] = 0\n",
    "data.loc[(data['rsi'] > 60) & (data['rsi'] > data['rsi_signal']), 'label'] = 1\n",
    "data.loc[(data['rsi'] < 40) & (data['rsi_signal'] > data['rsi']), 'label'] = -1\n",
    "print(data)"
   ]
  },
  {
   "cell_type": "markdown",
   "id": "969c476c4bf9582f",
   "metadata": {},
   "source": [
    "#### 6. Meta Labeling\n",
    "\n",
    "Secondary Model은 Primary Model에서 나온 방향을 이용해 거래의 실행 여부만을 평가한다. 3개의 레이블[-1, 0, 1]을 이진 분류 모형[0, 1]으로 다시 labeling을 진행한다. 이 과정을 Meta Labeling이라고 한다"
   ]
  },
  {
   "cell_type": "code",
   "execution_count": 10,
   "id": "3503ad1dce3edf9c",
   "metadata": {
    "ExecuteTime": {
     "end_time": "2024-01-18T14:50:05.075403Z",
     "start_time": "2024-01-18T14:50:05.049026Z"
    }
   },
   "outputs": [
    {
     "data": {
      "text/plain": "            Open      High       Low     Close   Volume  fracdiff    return  \\\nDate                                                                          \n1962-01-02   0.0  1.589844  1.578125  1.578125   902400       NaN       NaN   \n1962-01-03   0.0  1.601563  1.578125  1.601563  1200000       NaN  0.014743   \n1962-01-04   0.0  1.613281  1.597656  1.605469  1088000       NaN  0.002436   \n1962-01-05   0.0  1.613281  1.566406  1.570313  1222400       NaN -0.022141   \n1962-01-08   0.0  1.582031  1.546875  1.566406  1388800       NaN -0.002491   \n\n            bb_bbm  bb_bbh  bb_bbl  ...  rsi  rsi_signal  vwap  tsi       eom  \\\nDate                                ...                                         \n1962-01-02     NaN     NaN     NaN  ...  NaN         NaN   NaN  NaN       NaN   \n1962-01-03     NaN     NaN     NaN  ...  NaN         NaN   NaN  NaN  0.011445   \n1962-01-04     NaN     NaN     NaN  ...  NaN         NaN   NaN  NaN  0.022439   \n1962-01-05     NaN     NaN     NaN  ...  NaN         NaN   NaN  NaN -0.059917   \n1962-01-08     NaN     NaN     NaN  ...  NaN         NaN   NaN  NaN -0.064273   \n\n                     vpt  corwin_schultz  becker_parkinson  label  meta_label  \nDate                                                                           \n1962-01-02           NaN             NaN               NaN      0           0  \n1962-01-03  17822.144763             NaN               NaN      0           0  \n1962-01-04  20475.640543             NaN               NaN      0           0  \n1962-01-05  -6292.057162             NaN               NaN      0           0  \n1962-01-08  -9747.415060             NaN               NaN      0           0  \n\n[5 rows x 22 columns]",
      "text/html": "<div>\n<style scoped>\n    .dataframe tbody tr th:only-of-type {\n        vertical-align: middle;\n    }\n\n    .dataframe tbody tr th {\n        vertical-align: top;\n    }\n\n    .dataframe thead th {\n        text-align: right;\n    }\n</style>\n<table border=\"1\" class=\"dataframe\">\n  <thead>\n    <tr style=\"text-align: right;\">\n      <th></th>\n      <th>Open</th>\n      <th>High</th>\n      <th>Low</th>\n      <th>Close</th>\n      <th>Volume</th>\n      <th>fracdiff</th>\n      <th>return</th>\n      <th>bb_bbm</th>\n      <th>bb_bbh</th>\n      <th>bb_bbl</th>\n      <th>...</th>\n      <th>rsi</th>\n      <th>rsi_signal</th>\n      <th>vwap</th>\n      <th>tsi</th>\n      <th>eom</th>\n      <th>vpt</th>\n      <th>corwin_schultz</th>\n      <th>becker_parkinson</th>\n      <th>label</th>\n      <th>meta_label</th>\n    </tr>\n    <tr>\n      <th>Date</th>\n      <th></th>\n      <th></th>\n      <th></th>\n      <th></th>\n      <th></th>\n      <th></th>\n      <th></th>\n      <th></th>\n      <th></th>\n      <th></th>\n      <th></th>\n      <th></th>\n      <th></th>\n      <th></th>\n      <th></th>\n      <th></th>\n      <th></th>\n      <th></th>\n      <th></th>\n      <th></th>\n      <th></th>\n    </tr>\n  </thead>\n  <tbody>\n    <tr>\n      <th>1962-01-02</th>\n      <td>0.0</td>\n      <td>1.589844</td>\n      <td>1.578125</td>\n      <td>1.578125</td>\n      <td>902400</td>\n      <td>NaN</td>\n      <td>NaN</td>\n      <td>NaN</td>\n      <td>NaN</td>\n      <td>NaN</td>\n      <td>...</td>\n      <td>NaN</td>\n      <td>NaN</td>\n      <td>NaN</td>\n      <td>NaN</td>\n      <td>NaN</td>\n      <td>NaN</td>\n      <td>NaN</td>\n      <td>NaN</td>\n      <td>0</td>\n      <td>0</td>\n    </tr>\n    <tr>\n      <th>1962-01-03</th>\n      <td>0.0</td>\n      <td>1.601563</td>\n      <td>1.578125</td>\n      <td>1.601563</td>\n      <td>1200000</td>\n      <td>NaN</td>\n      <td>0.014743</td>\n      <td>NaN</td>\n      <td>NaN</td>\n      <td>NaN</td>\n      <td>...</td>\n      <td>NaN</td>\n      <td>NaN</td>\n      <td>NaN</td>\n      <td>NaN</td>\n      <td>0.011445</td>\n      <td>17822.144763</td>\n      <td>NaN</td>\n      <td>NaN</td>\n      <td>0</td>\n      <td>0</td>\n    </tr>\n    <tr>\n      <th>1962-01-04</th>\n      <td>0.0</td>\n      <td>1.613281</td>\n      <td>1.597656</td>\n      <td>1.605469</td>\n      <td>1088000</td>\n      <td>NaN</td>\n      <td>0.002436</td>\n      <td>NaN</td>\n      <td>NaN</td>\n      <td>NaN</td>\n      <td>...</td>\n      <td>NaN</td>\n      <td>NaN</td>\n      <td>NaN</td>\n      <td>NaN</td>\n      <td>0.022439</td>\n      <td>20475.640543</td>\n      <td>NaN</td>\n      <td>NaN</td>\n      <td>0</td>\n      <td>0</td>\n    </tr>\n    <tr>\n      <th>1962-01-05</th>\n      <td>0.0</td>\n      <td>1.613281</td>\n      <td>1.566406</td>\n      <td>1.570313</td>\n      <td>1222400</td>\n      <td>NaN</td>\n      <td>-0.022141</td>\n      <td>NaN</td>\n      <td>NaN</td>\n      <td>NaN</td>\n      <td>...</td>\n      <td>NaN</td>\n      <td>NaN</td>\n      <td>NaN</td>\n      <td>NaN</td>\n      <td>-0.059917</td>\n      <td>-6292.057162</td>\n      <td>NaN</td>\n      <td>NaN</td>\n      <td>0</td>\n      <td>0</td>\n    </tr>\n    <tr>\n      <th>1962-01-08</th>\n      <td>0.0</td>\n      <td>1.582031</td>\n      <td>1.546875</td>\n      <td>1.566406</td>\n      <td>1388800</td>\n      <td>NaN</td>\n      <td>-0.002491</td>\n      <td>NaN</td>\n      <td>NaN</td>\n      <td>NaN</td>\n      <td>...</td>\n      <td>NaN</td>\n      <td>NaN</td>\n      <td>NaN</td>\n      <td>NaN</td>\n      <td>-0.064273</td>\n      <td>-9747.415060</td>\n      <td>NaN</td>\n      <td>NaN</td>\n      <td>0</td>\n      <td>0</td>\n    </tr>\n  </tbody>\n</table>\n<p>5 rows × 22 columns</p>\n</div>"
     },
     "execution_count": 10,
     "metadata": {},
     "output_type": "execute_result"
    }
   ],
   "source": [
    "data['meta_label'] = 0\n",
    "data.loc[(data['label'] == 1) | (data['label'] == -1), 'meta_label'] = 1\n",
    "data.head()"
   ]
  },
  {
   "cell_type": "markdown",
   "id": "19c043d1",
   "metadata": {},
   "source": [
    "#### 7. Secondary Modeling\n",
    "\n",
    "Meta Label을 target으로 지정하고, 2번에서 지정한 technical feature들을 이용하여 이진 분류 모형을 수행해 보자. 여기서, RSI 관련 feature들은 labeling에 사용되었으므로 고려하지 않는다.\n",
    "볼린저 밴드 또한 가격과 관련이 있으므로 제거한다.\n",
    "\n",
    "모형의 검증을 위해 test data는 0.2로 지정하고 shuffle = False로 지정한다"
   ]
  },
  {
   "cell_type": "code",
   "execution_count": 11,
   "id": "6902ca7b6aeb3576",
   "metadata": {
    "ExecuteTime": {
     "end_time": "2024-01-18T14:50:10.326861Z",
     "start_time": "2024-01-18T14:50:10.317689Z"
    }
   },
   "outputs": [
    {
     "data": {
      "text/plain": "             Volume  fracdiff    return        mfi        obv      vwap  \\\nDate                                                                      \n1971-02-19  1600000  0.241577 -0.005021  58.080902  299484800  2.237561   \n1971-02-22  1766400  0.232399 -0.003361  53.933629  297718400  2.242890   \n1971-02-23  1840000  0.240150  0.003361  59.146190  299558400  2.249730   \n1971-02-24  2297600  0.236425  0.000000  65.610282  301856000  2.258501   \n1971-02-25  2460800  0.277100  0.018288  69.962874  304316800  2.267122   \n\n                  tsi       eom           vpt  corwin_schultz  \\\nDate                                                            \n1971-02-19  34.981300 -0.007629  2.370633e+06        0.023642   \n1971-02-22  35.272002 -0.010366  2.364706e+06        0.014665   \n1971-02-23  35.979121  0.006219  2.370900e+06        0.018439   \n1971-02-24  36.539350  0.001328  2.370900e+06        0.022370   \n1971-02-25  39.666134  0.068520  2.416318e+06        0.000000   \n\n            becker_parkinson  label  meta_label  \nDate                                             \n1971-02-19          0.000000      1           1  \n1971-02-22          0.000000      1           1  \n1971-02-23          0.000000      1           1  \n1971-02-24          0.000000      1           1  \n1971-02-25          0.023382      1           1  ",
      "text/html": "<div>\n<style scoped>\n    .dataframe tbody tr th:only-of-type {\n        vertical-align: middle;\n    }\n\n    .dataframe tbody tr th {\n        vertical-align: top;\n    }\n\n    .dataframe thead th {\n        text-align: right;\n    }\n</style>\n<table border=\"1\" class=\"dataframe\">\n  <thead>\n    <tr style=\"text-align: right;\">\n      <th></th>\n      <th>Volume</th>\n      <th>fracdiff</th>\n      <th>return</th>\n      <th>mfi</th>\n      <th>obv</th>\n      <th>vwap</th>\n      <th>tsi</th>\n      <th>eom</th>\n      <th>vpt</th>\n      <th>corwin_schultz</th>\n      <th>becker_parkinson</th>\n      <th>label</th>\n      <th>meta_label</th>\n    </tr>\n    <tr>\n      <th>Date</th>\n      <th></th>\n      <th></th>\n      <th></th>\n      <th></th>\n      <th></th>\n      <th></th>\n      <th></th>\n      <th></th>\n      <th></th>\n      <th></th>\n      <th></th>\n      <th></th>\n      <th></th>\n    </tr>\n  </thead>\n  <tbody>\n    <tr>\n      <th>1971-02-19</th>\n      <td>1600000</td>\n      <td>0.241577</td>\n      <td>-0.005021</td>\n      <td>58.080902</td>\n      <td>299484800</td>\n      <td>2.237561</td>\n      <td>34.981300</td>\n      <td>-0.007629</td>\n      <td>2.370633e+06</td>\n      <td>0.023642</td>\n      <td>0.000000</td>\n      <td>1</td>\n      <td>1</td>\n    </tr>\n    <tr>\n      <th>1971-02-22</th>\n      <td>1766400</td>\n      <td>0.232399</td>\n      <td>-0.003361</td>\n      <td>53.933629</td>\n      <td>297718400</td>\n      <td>2.242890</td>\n      <td>35.272002</td>\n      <td>-0.010366</td>\n      <td>2.364706e+06</td>\n      <td>0.014665</td>\n      <td>0.000000</td>\n      <td>1</td>\n      <td>1</td>\n    </tr>\n    <tr>\n      <th>1971-02-23</th>\n      <td>1840000</td>\n      <td>0.240150</td>\n      <td>0.003361</td>\n      <td>59.146190</td>\n      <td>299558400</td>\n      <td>2.249730</td>\n      <td>35.979121</td>\n      <td>0.006219</td>\n      <td>2.370900e+06</td>\n      <td>0.018439</td>\n      <td>0.000000</td>\n      <td>1</td>\n      <td>1</td>\n    </tr>\n    <tr>\n      <th>1971-02-24</th>\n      <td>2297600</td>\n      <td>0.236425</td>\n      <td>0.000000</td>\n      <td>65.610282</td>\n      <td>301856000</td>\n      <td>2.258501</td>\n      <td>36.539350</td>\n      <td>0.001328</td>\n      <td>2.370900e+06</td>\n      <td>0.022370</td>\n      <td>0.000000</td>\n      <td>1</td>\n      <td>1</td>\n    </tr>\n    <tr>\n      <th>1971-02-25</th>\n      <td>2460800</td>\n      <td>0.277100</td>\n      <td>0.018288</td>\n      <td>69.962874</td>\n      <td>304316800</td>\n      <td>2.267122</td>\n      <td>39.666134</td>\n      <td>0.068520</td>\n      <td>2.416318e+06</td>\n      <td>0.000000</td>\n      <td>0.023382</td>\n      <td>1</td>\n      <td>1</td>\n    </tr>\n  </tbody>\n</table>\n</div>"
     },
     "execution_count": 11,
     "metadata": {},
     "output_type": "execute_result"
    }
   ],
   "source": [
    "matrix = data.drop(['Open','High','Low','Close','rsi','rsi_signal', 'bb_bbm', 'bb_bbh', 'bb_bbl'], axis = 1)\n",
    "matrix.dropna(inplace = True)\n",
    "matrix.head()"
   ]
  },
  {
   "cell_type": "code",
   "execution_count": 13,
   "id": "7448f697005be916",
   "metadata": {
    "ExecuteTime": {
     "end_time": "2024-01-18T14:51:40.912285Z",
     "start_time": "2024-01-18T14:51:40.885986Z"
    }
   },
   "outputs": [],
   "source": [
    "from sklearn.model_selection import train_test_split\n",
    "\n",
    "X = matrix.drop(['meta_label','label'], axis = 1)\n",
    "y = matrix['meta_label']\n",
    "\n",
    "X_train = X.loc[:'2019']\n",
    "X_test = X.loc['2020':]\n",
    "y_train = y.loc[:'2019']\n",
    "y_test = y.loc['2020':]"
   ]
  },
  {
   "cell_type": "markdown",
   "id": "c84e2a4c4a748475",
   "metadata": {},
   "source": [
    "Random Forest를 사용한다"
   ]
  },
  {
   "cell_type": "code",
   "execution_count": 14,
   "id": "de226618430ff1a4",
   "metadata": {
    "ExecuteTime": {
     "end_time": "2024-01-18T14:52:35.500754Z",
     "start_time": "2024-01-18T14:51:46.441768Z"
    }
   },
   "outputs": [],
   "source": [
    "from sklearn.ensemble import RandomForestClassifier\n",
    "\n",
    "forest = RandomForestClassifier(\n",
    "    criterion = 'entropy',\n",
    "    class_weight = 'balanced_subsample',\n",
    "    min_weight_fraction_leaf = 0.0,\n",
    "    random_state = 42,\n",
    "    n_estimators = 1000,\n",
    "    max_features = 6,\n",
    "    oob_score = True,\n",
    "    n_jobs = 1\n",
    ")\n",
    "#class_weight : 3가지 옵션이 있음. 아예 생략 / balanced(샘플의 수에 따라 가중치 부여)\n",
    "#               balanced_subsample : weight가 부트스트랩(잘못 분류된 애들을 재학습) 때마다 balanced방식으로 가중치 새로 부여\n",
    "#oob_score : 부트스트랩을 하면서 트리마다 빠지는 데이터에 대해 그걸 테스트 데이터로 사용하며 평가 계산을 할 것이냐?\n",
    "fit = forest.fit(X = X_train, y = y_train)\n",
    "oob_score = fit.oob_score_"
   ]
  },
  {
   "cell_type": "markdown",
   "id": "91c9f6901a666dbf",
   "metadata": {},
   "source": [
    "#### 8. Feature Importances\n",
    "\n",
    "각 변수의 설명력을 확인해 본다"
   ]
  },
  {
   "cell_type": "code",
   "execution_count": 15,
   "id": "a13a2daa7a68ad74",
   "metadata": {
    "ExecuteTime": {
     "end_time": "2024-01-18T14:54:02.124171Z",
     "start_time": "2024-01-18T14:54:02.119387Z"
    }
   },
   "outputs": [],
   "source": [
    "cont = pd.Series(X_train.index, index = X_train.index, name = 't1') # 포지션 보유 한도 임의 지정"
   ]
  },
  {
   "cell_type": "code",
   "execution_count": 16,
   "id": "2184d68d",
   "metadata": {
    "ExecuteTime": {
     "end_time": "2024-01-18T14:54:04.467452Z",
     "start_time": "2024-01-18T14:54:04.457743Z"
    }
   },
   "outputs": [
    {
     "name": "stdout",
     "output_type": "stream",
     "text": [
      "Date\n",
      "1971-02-19   1971-02-19\n",
      "1971-02-22   1971-02-22\n",
      "1971-02-23   1971-02-23\n",
      "1971-02-24   1971-02-24\n",
      "1971-02-25   1971-02-25\n",
      "                ...    \n",
      "2019-12-24   2019-12-24\n",
      "2019-12-26   2019-12-26\n",
      "2019-12-27   2019-12-27\n",
      "2019-12-30   2019-12-30\n",
      "2019-12-31   2019-12-31\n",
      "Name: t1, Length: 12326, dtype: datetime64[ns]\n"
     ]
    }
   ],
   "source": [
    "print(cont)"
   ]
  },
  {
   "cell_type": "code",
   "execution_count": 17,
   "id": "1181bd52855f6d30",
   "metadata": {
    "ExecuteTime": {
     "end_time": "2024-01-18T14:57:13.264903Z",
     "start_time": "2024-01-18T14:54:04.851412Z"
    }
   },
   "outputs": [],
   "source": [
    "from FinancialMachineLearning.feature_importance.importance import *\n",
    "from FinancialMachineLearning.cross_validation.cross_validation import PurgedKFold, ml_cross_val_score\n",
    "from sklearn.metrics import accuracy_score\n",
    "\n",
    "cv_gen = PurgedKFold(n_splits = 5, samples_info_sets = cont) #split : split 갯수, sample_info_sets : 정보 추출이 이뤄진 기간\n",
    "oos_score = ml_cross_val_score(forest, X_train, y_train, cv_gen = cv_gen, scoring = accuracy_score).mean()\n",
    "#ml_cross_val_score(classifier, X, y, BaseCrossValidator, 평가방식)\n",
    "mdi = mean_decrease_impurity(fit, X_train.columns) #MDI : 불순물의 감소정도를 Feature Importance 정도로 판단한다"
   ]
  },
  {
   "cell_type": "code",
   "execution_count": 18,
   "id": "10c4299c9eb9f0ca",
   "metadata": {
    "ExecuteTime": {
     "end_time": "2024-01-18T14:57:52.563271Z",
     "start_time": "2024-01-18T14:57:52.370392Z"
    }
   },
   "outputs": [
    {
     "data": {
      "text/plain": "<Figure size 1000x220 with 1 Axes>",
      "image/png": "[encoded data removed]"
     },
     "metadata": {},
     "output_type": "display_data"
    }
   ],
   "source": [
    "plot_feature_importance(\n",
    "    mdi,\n",
    "    oob_score = oob_score,\n",
    "    oos_score = oos_score,\n",
    "    save_fig = True,\n",
    "    output_path = './data_feature_importance.png'\n",
    ")\n",
    "plt.grid(False)\n",
    "plt.show()"
   ]
  },
  {
   "cell_type": "code",
   "execution_count": 20,
   "id": "8470205623603823",
   "metadata": {
    "ExecuteTime": {
     "end_time": "2024-01-08T05:48:22.936954Z",
     "start_time": "2024-01-08T05:44:03.156373Z"
    }
   },
   "outputs": [],
   "source": [
    "from sklearn.metrics import log_loss\n",
    "\n",
    "mda = mean_decrease_accuracy(fit, X_train, y_train, cv_gen, scoring = log_loss)"
   ]
  },
  {
   "cell_type": "code",
   "execution_count": 21,
   "id": "5c71c82f1b0db085",
   "metadata": {
    "ExecuteTime": {
     "end_time": "2024-01-08T05:59:31.446496Z",
     "start_time": "2024-01-08T05:59:31.306438Z"
    }
   },
   "outputs": [
    {
     "data": {
      "image/png": "[encoded data removed]",
      "text/plain": [
       "<Figure size 1000x220 with 1 Axes>"
      ]
     },
     "metadata": {},
     "output_type": "display_data"
    }
   ],
   "source": [
    "plot_feature_importance(\n",
    "    mda,\n",
    "    oob_score = oob_score,\n",
    "    oos_score = oos_score,\n",
    "    save_fig = True,\n",
    "    output_path = './data_MDA_feature_importance.png'\n",
    ")\n",
    "plt.grid(False)\n",
    "plt.show()"
   ]
  },
  {
   "cell_type": "markdown",
   "id": "fc6f9f80f8251c5a",
   "metadata": {},
   "source": [
    "필요한 경우 SHAP Model로도 분석할 수 있지만, 여기서는 시간이 오래 걸리므로 추정하지 않는다"
   ]
  },
  {
   "cell_type": "markdown",
   "id": "656fbc19e9d7d5cc",
   "metadata": {},
   "source": [
    "#### 9. 결과 출력\n",
    "\n",
    "여러 성과 지표들을 통해 Machine Learning Model의 추정 결과를 확인한다"
   ]
  },
  {
   "cell_type": "code",
   "execution_count": 19,
   "id": "2d475395c4064f72",
   "metadata": {
    "ExecuteTime": {
     "end_time": "2024-01-18T14:57:57.111894Z",
     "start_time": "2024-01-18T14:57:56.918854Z"
    }
   },
   "outputs": [
    {
     "name": "stdout",
     "output_type": "stream",
     "text": [
      "Accuracy: 0.8672566371681416\n"
     ]
    }
   ],
   "source": [
    "from sklearn.metrics import accuracy_score, classification_report, confusion_matrix, roc_curve, auc\n",
    "\n",
    "y_prob = forest.predict_proba(X_test)[:, 1] #확률까지 출력\n",
    "y_pred = forest.predict(X_test) #값만 출력\n",
    "fpr, tpr, thresholds = roc_curve(y_test, y_prob) #False Positive 확률, True Positive확률\n",
    "#thresholds : True Positive에 얼마나 비중을 둘 건지 파라미터값 (TP를 늘리면 FP도 늘어난다)\n",
    "accuracy = accuracy_score(y_test, y_pred)\n",
    "print(f'Accuracy: {accuracy}')"
   ]
  },
  {
   "cell_type": "code",
   "execution_count": 20,
   "id": "b2e8a6d21b7b1e51",
   "metadata": {
    "ExecuteTime": {
     "end_time": "2024-01-18T14:58:04.030950Z",
     "start_time": "2024-01-18T14:58:04.018217Z"
    }
   },
   "outputs": [
    {
     "name": "stdout",
     "output_type": "stream",
     "text": [
      "              precision    recall  f1-score   support\n",
      "\n",
      "           0       0.91      0.92      0.91       788\n",
      "           1       0.71      0.69      0.70       229\n",
      "\n",
      "    accuracy                           0.87      1017\n",
      "   macro avg       0.81      0.80      0.81      1017\n",
      "weighted avg       0.87      0.87      0.87      1017\n"
     ]
    }
   ],
   "source": [
    "print(classification_report(y_test, y_pred))"
   ]
  },
  {
   "cell_type": "code",
   "execution_count": 21,
   "id": "7ec975d48cc8cb7c",
   "metadata": {
    "ExecuteTime": {
     "end_time": "2024-01-18T14:58:06.154266Z",
     "start_time": "2024-01-18T14:58:06.101325Z"
    }
   },
   "outputs": [
    {
     "data": {
      "text/plain": "<Figure size 300x300 with 1 Axes>",
      "image/png": "[encoded data removed]"
     },
     "metadata": {},
     "output_type": "display_data"
    }
   ],
   "source": [
    "import matplotlib.pyplot as plt\n",
    "import seaborn as sns\n",
    "\n",
    "cm = confusion_matrix(y_test, y_pred)\n",
    "plt.figure(figsize = (3, 3))\n",
    "sns.heatmap(cm, annot = True, fmt = 'd', cbar = False)\n",
    "plt.xlabel('Predicted')\n",
    "plt.ylabel('True')\n",
    "plt.title('Confusion Matrix', fontsize = 12, fontfamily = 'Serif')\n",
    "plt.show()"
   ]
  },
  {
   "cell_type": "code",
   "execution_count": 23,
   "id": "560b10da1f969316",
   "metadata": {
    "ExecuteTime": {
     "end_time": "2024-01-18T15:28:46.034262Z",
     "start_time": "2024-01-18T15:28:45.923152Z"
    }
   },
   "outputs": [
    {
     "data": {
      "text/plain": "<Figure size 600x400 with 1 Axes>",
      "image/png": "[encoded data removed]"
     },
     "metadata": {},
     "output_type": "display_data"
    }
   ],
   "source": [
    "fpr, tpr, thresholds = roc_curve(y_test, y_prob)\n",
    "roc_auc = auc(fpr, tpr)\n",
    "\n",
    "plt.figure(figsize = (6, 4))\n",
    "plt.plot(fpr, tpr, label = 'Random Forest (area = {:.2f})'.format(roc_auc), color = 'navy', alpha = 0.8)\n",
    "plt.plot([0, 1], [0, 1], 'k:')\n",
    "plt.xlabel('False Positive Rate')\n",
    "plt.ylabel('True Positive Rate')\n",
    "plt.title('ROC Curve with Random Forest', fontsize = 12, fontfamily = 'Serif')\n",
    "plt.grid(False)\n",
    "plt.legend()\n",
    "plt.show()"
   ]
  },
  {
   "cell_type": "code",
   "execution_count": 28,
   "id": "b4a5779d",
   "metadata": {},
   "outputs": [
    {
     "data": {
      "text/plain": [
       "<Axes: title={'center': 'Equity Progression'}>"
      ]
     },
     "execution_count": 28,
     "metadata": {},
     "output_type": "execute_result"
    },
    {
     "data": {
      "image/png": "[encoded data removed]",
      "text/plain": [
       "<Figure size 1500x500 with 1 Axes>"
      ]
     },
     "metadata": {},
     "output_type": "display_data"
    }
   ],
   "source": [
    "import bt\n",
    "import ffn\n",
    "import quantstats as qs\n",
    "\n",
    "price = data['Close'].to_frame()\n",
    "Label = data['label'].to_frame()\n",
    "Label.columns = ['Close']\n",
    "\n",
    "algos_raw = [\n",
    "    bt.algos.RunDaily(),\n",
    "    bt.algos.SelectAll(),\n",
    "    bt.algos.WeighTarget(Label),\n",
    "    bt.algos.Rebalance()\n",
    "]\n",
    "\n",
    "test = bt.Strategy(name = 'S',algos = algos_raw)\n",
    "base = bt.Backtest(strategy = test, data = price)\n",
    "\n",
    "res = bt.run(base)\n",
    "res.plot()\n",
    "\n",
    "#실환가..."
   ]
  },
  {
   "cell_type": "markdown",
   "id": "20d3cefdd900680e",
   "metadata": {},
   "source": [
    "#### 10. Betting Size"
   ]
  },
  {
   "cell_type": "code",
   "execution_count": 29,
   "id": "916e0a551ec9e80f",
   "metadata": {
    "ExecuteTime": {
     "end_time": "2024-01-08T05:59:44.041468Z",
     "start_time": "2024-01-08T05:59:43.157171Z"
    }
   },
   "outputs": [],
   "source": [
    "from FinancialMachineLearning.bet_sizing.bet_sizing import *\n",
    "\n",
    "event_prob = pd.DataFrame()\n",
    "event_prob['t1'] = pd.Series(X_test.index, index = X_test.index, name = 't1')\n",
    "event_prob['prob'] = fit.predict_proba(X_test)[:,1]\n",
    "event_prob.index = pd.Series(X_test.index, index = X_test.index, name = 't1')"
   ]
  },
  {
   "cell_type": "code",
   "execution_count": 30,
   "id": "4f6a1d7976054bca",
   "metadata": {
    "ExecuteTime": {
     "end_time": "2024-01-08T05:59:45.141364Z",
     "start_time": "2024-01-08T05:59:45.128254Z"
    }
   },
   "outputs": [],
   "source": [
    "event_prob['side'] = matrix['label']"
   ]
  },
  {
   "cell_type": "code",
   "execution_count": 31,
   "id": "b8c494a837da8830",
   "metadata": {
    "ExecuteTime": {
     "end_time": "2024-01-08T05:59:48.158813Z",
     "start_time": "2024-01-08T05:59:48.149012Z"
    }
   },
   "outputs": [
    {
     "data": {
      "text/html": [
       "<div>\n",
       "<style scoped>\n",
       "    .dataframe tbody tr th:only-of-type {\n",
       "        vertical-align: middle;\n",
       "    }\n",
       "\n",
       "    .dataframe tbody tr th {\n",
       "        vertical-align: top;\n",
       "    }\n",
       "\n",
       "    .dataframe thead th {\n",
       "        text-align: right;\n",
       "    }\n",
       "</style>\n",
       "<table border=\"1\" class=\"dataframe\">\n",
       "  <thead>\n",
       "    <tr style=\"text-align: right;\">\n",
       "      <th></th>\n",
       "      <th>t1</th>\n",
       "      <th>prob</th>\n",
       "      <th>side</th>\n",
       "    </tr>\n",
       "    <tr>\n",
       "      <th>t1</th>\n",
       "      <th></th>\n",
       "      <th></th>\n",
       "      <th></th>\n",
       "    </tr>\n",
       "  </thead>\n",
       "  <tbody>\n",
       "    <tr>\n",
       "      <th>2011-10-12</th>\n",
       "      <td>2011-10-12</td>\n",
       "      <td>0.192</td>\n",
       "      <td>0</td>\n",
       "    </tr>\n",
       "    <tr>\n",
       "      <th>2011-10-13</th>\n",
       "      <td>2011-10-13</td>\n",
       "      <td>0.064</td>\n",
       "      <td>0</td>\n",
       "    </tr>\n",
       "    <tr>\n",
       "      <th>2011-10-14</th>\n",
       "      <td>2011-10-14</td>\n",
       "      <td>0.332</td>\n",
       "      <td>0</td>\n",
       "    </tr>\n",
       "    <tr>\n",
       "      <th>2011-10-17</th>\n",
       "      <td>2011-10-17</td>\n",
       "      <td>0.118</td>\n",
       "      <td>0</td>\n",
       "    </tr>\n",
       "    <tr>\n",
       "      <th>2011-10-18</th>\n",
       "      <td>2011-10-18</td>\n",
       "      <td>0.535</td>\n",
       "      <td>0</td>\n",
       "    </tr>\n",
       "    <tr>\n",
       "      <th>...</th>\n",
       "      <td>...</td>\n",
       "      <td>...</td>\n",
       "      <td>...</td>\n",
       "    </tr>\n",
       "    <tr>\n",
       "      <th>2019-12-24</th>\n",
       "      <td>2019-12-24</td>\n",
       "      <td>0.014</td>\n",
       "      <td>0</td>\n",
       "    </tr>\n",
       "    <tr>\n",
       "      <th>2019-12-26</th>\n",
       "      <td>2019-12-26</td>\n",
       "      <td>0.009</td>\n",
       "      <td>0</td>\n",
       "    </tr>\n",
       "    <tr>\n",
       "      <th>2019-12-27</th>\n",
       "      <td>2019-12-27</td>\n",
       "      <td>0.006</td>\n",
       "      <td>0</td>\n",
       "    </tr>\n",
       "    <tr>\n",
       "      <th>2019-12-30</th>\n",
       "      <td>2019-12-30</td>\n",
       "      <td>0.003</td>\n",
       "      <td>0</td>\n",
       "    </tr>\n",
       "    <tr>\n",
       "      <th>2019-12-31</th>\n",
       "      <td>2019-12-31</td>\n",
       "      <td>0.006</td>\n",
       "      <td>0</td>\n",
       "    </tr>\n",
       "  </tbody>\n",
       "</table>\n",
       "<p>2068 rows × 3 columns</p>\n",
       "</div>"
      ],
      "text/plain": [
       "                   t1   prob  side\n",
       "t1                                \n",
       "2011-10-12 2011-10-12  0.192     0\n",
       "2011-10-13 2011-10-13  0.064     0\n",
       "2011-10-14 2011-10-14  0.332     0\n",
       "2011-10-17 2011-10-17  0.118     0\n",
       "2011-10-18 2011-10-18  0.535     0\n",
       "...               ...    ...   ...\n",
       "2019-12-24 2019-12-24  0.014     0\n",
       "2019-12-26 2019-12-26  0.009     0\n",
       "2019-12-27 2019-12-27  0.006     0\n",
       "2019-12-30 2019-12-30  0.003     0\n",
       "2019-12-31 2019-12-31  0.006     0\n",
       "\n",
       "[2068 rows x 3 columns]"
      ]
     },
     "execution_count": 31,
     "metadata": {},
     "output_type": "execute_result"
    }
   ],
   "source": [
    "event_prob"
   ]
  },
  {
   "cell_type": "code",
   "execution_count": 32,
   "id": "ddcc87ccb5b5bc4c",
   "metadata": {
    "ExecuteTime": {
     "end_time": "2024-01-08T05:59:49.978676Z",
     "start_time": "2024-01-08T05:59:49.878970Z"
    }
   },
   "outputs": [],
   "source": [
    "event_prob['bet_size_prob'] = bet_size_probability(events = event_prob, prob = event_prob['prob'], num_classes = 3)\n",
    "#bet_sizes = (prob - 1/num_classes) / (prob * (1 - prob))**0.5"
   ]
  },
  {
   "cell_type": "code",
   "execution_count": 33,
   "id": "c29edaed1beebb6a",
   "metadata": {
    "ExecuteTime": {
     "end_time": "2024-01-08T05:59:50.486094Z",
     "start_time": "2024-01-08T05:59:50.476187Z"
    }
   },
   "outputs": [
    {
     "data": {
      "text/html": [
       "<div>\n",
       "<style scoped>\n",
       "    .dataframe tbody tr th:only-of-type {\n",
       "        vertical-align: middle;\n",
       "    }\n",
       "\n",
       "    .dataframe tbody tr th {\n",
       "        vertical-align: top;\n",
       "    }\n",
       "\n",
       "    .dataframe thead th {\n",
       "        text-align: right;\n",
       "    }\n",
       "</style>\n",
       "<table border=\"1\" class=\"dataframe\">\n",
       "  <thead>\n",
       "    <tr style=\"text-align: right;\">\n",
       "      <th></th>\n",
       "      <th>t1</th>\n",
       "      <th>prob</th>\n",
       "      <th>side</th>\n",
       "      <th>bet_size_prob</th>\n",
       "    </tr>\n",
       "    <tr>\n",
       "      <th>t1</th>\n",
       "      <th></th>\n",
       "      <th></th>\n",
       "      <th></th>\n",
       "      <th></th>\n",
       "    </tr>\n",
       "  </thead>\n",
       "  <tbody>\n",
       "    <tr>\n",
       "      <th>2011-10-12</th>\n",
       "      <td>2011-10-12</td>\n",
       "      <td>0.192</td>\n",
       "      <td>0</td>\n",
       "      <td>-0.280277</td>\n",
       "    </tr>\n",
       "    <tr>\n",
       "      <th>2011-10-13</th>\n",
       "      <td>2011-10-13</td>\n",
       "      <td>0.064</td>\n",
       "      <td>0</td>\n",
       "      <td>-0.728855</td>\n",
       "    </tr>\n",
       "    <tr>\n",
       "      <th>2011-10-14</th>\n",
       "      <td>2011-10-14</td>\n",
       "      <td>0.332</td>\n",
       "      <td>0</td>\n",
       "      <td>-0.002259</td>\n",
       "    </tr>\n",
       "    <tr>\n",
       "      <th>2011-10-17</th>\n",
       "      <td>2011-10-17</td>\n",
       "      <td>0.118</td>\n",
       "      <td>0</td>\n",
       "      <td>-0.495532</td>\n",
       "    </tr>\n",
       "    <tr>\n",
       "      <th>2011-10-18</th>\n",
       "      <td>2011-10-18</td>\n",
       "      <td>0.535</td>\n",
       "      <td>0</td>\n",
       "      <td>0.314026</td>\n",
       "    </tr>\n",
       "    <tr>\n",
       "      <th>...</th>\n",
       "      <td>...</td>\n",
       "      <td>...</td>\n",
       "      <td>...</td>\n",
       "      <td>...</td>\n",
       "    </tr>\n",
       "    <tr>\n",
       "      <th>2019-12-24</th>\n",
       "      <td>2019-12-24</td>\n",
       "      <td>0.014</td>\n",
       "      <td>0</td>\n",
       "      <td>-0.993431</td>\n",
       "    </tr>\n",
       "    <tr>\n",
       "      <th>2019-12-26</th>\n",
       "      <td>2019-12-26</td>\n",
       "      <td>0.009</td>\n",
       "      <td>0</td>\n",
       "      <td>-0.999406</td>\n",
       "    </tr>\n",
       "    <tr>\n",
       "      <th>2019-12-27</th>\n",
       "      <td>2019-12-27</td>\n",
       "      <td>0.006</td>\n",
       "      <td>0</td>\n",
       "      <td>-0.999978</td>\n",
       "    </tr>\n",
       "    <tr>\n",
       "      <th>2019-12-30</th>\n",
       "      <td>2019-12-30</td>\n",
       "      <td>0.003</td>\n",
       "      <td>0</td>\n",
       "      <td>-1.000000</td>\n",
       "    </tr>\n",
       "    <tr>\n",
       "      <th>2019-12-31</th>\n",
       "      <td>2019-12-31</td>\n",
       "      <td>0.006</td>\n",
       "      <td>0</td>\n",
       "      <td>-0.999978</td>\n",
       "    </tr>\n",
       "  </tbody>\n",
       "</table>\n",
       "<p>2068 rows × 4 columns</p>\n",
       "</div>"
      ],
      "text/plain": [
       "                   t1   prob  side  bet_size_prob\n",
       "t1                                               \n",
       "2011-10-12 2011-10-12  0.192     0      -0.280277\n",
       "2011-10-13 2011-10-13  0.064     0      -0.728855\n",
       "2011-10-14 2011-10-14  0.332     0      -0.002259\n",
       "2011-10-17 2011-10-17  0.118     0      -0.495532\n",
       "2011-10-18 2011-10-18  0.535     0       0.314026\n",
       "...               ...    ...   ...            ...\n",
       "2019-12-24 2019-12-24  0.014     0      -0.993431\n",
       "2019-12-26 2019-12-26  0.009     0      -0.999406\n",
       "2019-12-27 2019-12-27  0.006     0      -0.999978\n",
       "2019-12-30 2019-12-30  0.003     0      -1.000000\n",
       "2019-12-31 2019-12-31  0.006     0      -0.999978\n",
       "\n",
       "[2068 rows x 4 columns]"
      ]
     },
     "execution_count": 33,
     "metadata": {},
     "output_type": "execute_result"
    }
   ],
   "source": [
    "event_prob"
   ]
  },
  {
   "cell_type": "code",
   "execution_count": 34,
   "id": "58e4f9d9bfb386ff",
   "metadata": {
    "ExecuteTime": {
     "end_time": "2024-01-08T05:59:54.536970Z",
     "start_time": "2024-01-08T05:59:52.297966Z"
    }
   },
   "outputs": [
    {
     "name": "stderr",
     "output_type": "stream",
     "text": [
      "2024-01-18 23:26:25.437150 5.0% mp_avg_active_signals done after 0.11 minutes. Remaining 2.11 minutes.\r",
      "2024-01-18 23:26:25.438160 10.0% mp_avg_active_signals done after 0.11 minutes. Remaining 1.0 minutes.\r",
      "2024-01-18 23:26:25.445160 15.0% mp_avg_active_signals done after 0.11 minutes. Remaining 0.63 minutes.\r",
      "2024-01-18 23:26:25.462209 20.0% mp_avg_active_signals done after 0.11 minutes. Remaining 0.45 minutes.\r",
      "2024-01-18 23:26:25.488790 25.0% mp_avg_active_signals done after 0.11 minutes. Remaining 0.34 minutes.\r",
      "2024-01-18 23:26:25.520398 30.0% mp_avg_active_signals done after 0.11 minutes. Remaining 0.26 minutes.\r",
      "2024-01-18 23:26:25.524396 35.0% mp_avg_active_signals done after 0.11 minutes. Remaining 0.21 minutes.\r",
      "2024-01-18 23:26:25.589064 40.0% mp_avg_active_signals done after 0.11 minutes. Remaining 0.17 minutes.\r",
      "2024-01-18 23:26:25.591064 45.0% mp_avg_active_signals done after 0.11 minutes. Remaining 0.14 minutes.\r",
      "2024-01-18 23:26:25.593066 50.0% mp_avg_active_signals done after 0.11 minutes. Remaining 0.11 minutes.\r",
      "2024-01-18 23:26:25.593066 55.0% mp_avg_active_signals done after 0.11 minutes. Remaining 0.09 minutes.\r",
      "2024-01-18 23:26:25.594063 60.0% mp_avg_active_signals done after 0.11 minutes. Remaining 0.08 minutes.\r",
      "2024-01-18 23:26:25.598594 65.0% mp_avg_active_signals done after 0.11 minutes. Remaining 0.06 minutes.\r",
      "2024-01-18 23:26:25.599593 70.0% mp_avg_active_signals done after 0.11 minutes. Remaining 0.05 minutes.\r",
      "2024-01-18 23:26:25.601593 75.0% mp_avg_active_signals done after 0.11 minutes. Remaining 0.04 minutes.\r",
      "2024-01-18 23:26:25.602593 80.0% mp_avg_active_signals done after 0.11 minutes. Remaining 0.03 minutes.\r",
      "2024-01-18 23:26:25.603594 85.0% mp_avg_active_signals done after 0.11 minutes. Remaining 0.02 minutes.\r",
      "2024-01-18 23:26:25.608108 90.0% mp_avg_active_signals done after 0.11 minutes. Remaining 0.01 minutes.\r",
      "2024-01-18 23:26:25.609154 95.0% mp_avg_active_signals done after 0.11 minutes. Remaining 0.01 minutes.\r",
      "2024-01-18 23:26:25.612114 100.0% mp_avg_active_signals done after 0.11 minutes. Remaining 0.0 minutes.\n"
     ]
    }
   ],
   "source": [
    "from multiprocessing import cpu_count\n",
    "\n",
    "avg_active_bet_sizes = avg_active_signals(event_prob.rename(columns ={'bet_size_prob': 'signal'}), num_threads = cpu_count())\n",
    "event_prob['avg_active_bet_size'] = avg_active_bet_sizes"
   ]
  },
  {
   "cell_type": "code",
   "execution_count": 35,
   "id": "abfecfa27d38d009",
   "metadata": {
    "ExecuteTime": {
     "end_time": "2024-01-08T05:59:55.985942Z",
     "start_time": "2024-01-08T05:59:55.968579Z"
    }
   },
   "outputs": [
    {
     "data": {
      "text/html": [
       "<div>\n",
       "<style scoped>\n",
       "    .dataframe tbody tr th:only-of-type {\n",
       "        vertical-align: middle;\n",
       "    }\n",
       "\n",
       "    .dataframe tbody tr th {\n",
       "        vertical-align: top;\n",
       "    }\n",
       "\n",
       "    .dataframe thead th {\n",
       "        text-align: right;\n",
       "    }\n",
       "</style>\n",
       "<table border=\"1\" class=\"dataframe\">\n",
       "  <thead>\n",
       "    <tr style=\"text-align: right;\">\n",
       "      <th></th>\n",
       "      <th>t1</th>\n",
       "      <th>prob</th>\n",
       "      <th>side</th>\n",
       "      <th>bet_size_prob</th>\n",
       "      <th>avg_active_bet_size</th>\n",
       "    </tr>\n",
       "    <tr>\n",
       "      <th>t1</th>\n",
       "      <th></th>\n",
       "      <th></th>\n",
       "      <th></th>\n",
       "      <th></th>\n",
       "      <th></th>\n",
       "    </tr>\n",
       "  </thead>\n",
       "  <tbody>\n",
       "    <tr>\n",
       "      <th>2011-10-12</th>\n",
       "      <td>2011-10-12</td>\n",
       "      <td>0.192</td>\n",
       "      <td>0</td>\n",
       "      <td>-0.280277</td>\n",
       "      <td>0</td>\n",
       "    </tr>\n",
       "    <tr>\n",
       "      <th>2011-10-13</th>\n",
       "      <td>2011-10-13</td>\n",
       "      <td>0.064</td>\n",
       "      <td>0</td>\n",
       "      <td>-0.728855</td>\n",
       "      <td>0</td>\n",
       "    </tr>\n",
       "    <tr>\n",
       "      <th>2011-10-14</th>\n",
       "      <td>2011-10-14</td>\n",
       "      <td>0.332</td>\n",
       "      <td>0</td>\n",
       "      <td>-0.002259</td>\n",
       "      <td>0</td>\n",
       "    </tr>\n",
       "    <tr>\n",
       "      <th>2011-10-17</th>\n",
       "      <td>2011-10-17</td>\n",
       "      <td>0.118</td>\n",
       "      <td>0</td>\n",
       "      <td>-0.495532</td>\n",
       "      <td>0</td>\n",
       "    </tr>\n",
       "    <tr>\n",
       "      <th>2011-10-18</th>\n",
       "      <td>2011-10-18</td>\n",
       "      <td>0.535</td>\n",
       "      <td>0</td>\n",
       "      <td>0.314026</td>\n",
       "      <td>0</td>\n",
       "    </tr>\n",
       "    <tr>\n",
       "      <th>...</th>\n",
       "      <td>...</td>\n",
       "      <td>...</td>\n",
       "      <td>...</td>\n",
       "      <td>...</td>\n",
       "      <td>...</td>\n",
       "    </tr>\n",
       "    <tr>\n",
       "      <th>2019-12-24</th>\n",
       "      <td>2019-12-24</td>\n",
       "      <td>0.014</td>\n",
       "      <td>0</td>\n",
       "      <td>-0.993431</td>\n",
       "      <td>0</td>\n",
       "    </tr>\n",
       "    <tr>\n",
       "      <th>2019-12-26</th>\n",
       "      <td>2019-12-26</td>\n",
       "      <td>0.009</td>\n",
       "      <td>0</td>\n",
       "      <td>-0.999406</td>\n",
       "      <td>0</td>\n",
       "    </tr>\n",
       "    <tr>\n",
       "      <th>2019-12-27</th>\n",
       "      <td>2019-12-27</td>\n",
       "      <td>0.006</td>\n",
       "      <td>0</td>\n",
       "      <td>-0.999978</td>\n",
       "      <td>0</td>\n",
       "    </tr>\n",
       "    <tr>\n",
       "      <th>2019-12-30</th>\n",
       "      <td>2019-12-30</td>\n",
       "      <td>0.003</td>\n",
       "      <td>0</td>\n",
       "      <td>-1.000000</td>\n",
       "      <td>0</td>\n",
       "    </tr>\n",
       "    <tr>\n",
       "      <th>2019-12-31</th>\n",
       "      <td>2019-12-31</td>\n",
       "      <td>0.006</td>\n",
       "      <td>0</td>\n",
       "      <td>-0.999978</td>\n",
       "      <td>0</td>\n",
       "    </tr>\n",
       "  </tbody>\n",
       "</table>\n",
       "<p>2068 rows × 5 columns</p>\n",
       "</div>"
      ],
      "text/plain": [
       "                   t1   prob  side  bet_size_prob  avg_active_bet_size\n",
       "t1                                                                    \n",
       "2011-10-12 2011-10-12  0.192     0      -0.280277                    0\n",
       "2011-10-13 2011-10-13  0.064     0      -0.728855                    0\n",
       "2011-10-14 2011-10-14  0.332     0      -0.002259                    0\n",
       "2011-10-17 2011-10-17  0.118     0      -0.495532                    0\n",
       "2011-10-18 2011-10-18  0.535     0       0.314026                    0\n",
       "...               ...    ...   ...            ...                  ...\n",
       "2019-12-24 2019-12-24  0.014     0      -0.993431                    0\n",
       "2019-12-26 2019-12-26  0.009     0      -0.999406                    0\n",
       "2019-12-27 2019-12-27  0.006     0      -0.999978                    0\n",
       "2019-12-30 2019-12-30  0.003     0      -1.000000                    0\n",
       "2019-12-31 2019-12-31  0.006     0      -0.999978                    0\n",
       "\n",
       "[2068 rows x 5 columns]"
      ]
     },
     "metadata": {},
     "output_type": "display_data"
    }
   ],
   "source": [
    "display(event_prob)"
   ]
  },
  {
   "cell_type": "code",
   "execution_count": 36,
   "id": "a7cc6385e714d485",
   "metadata": {
    "ExecuteTime": {
     "end_time": "2024-01-08T05:59:58.126106Z",
     "start_time": "2024-01-08T05:59:58.102687Z"
    }
   },
   "outputs": [
    {
     "name": "stdout",
     "output_type": "stream",
     "text": [
      "Summary statistics on the bet size columns:\n"
     ]
    },
    {
     "data": {
      "text/html": [
       "<div>\n",
       "<style scoped>\n",
       "    .dataframe tbody tr th:only-of-type {\n",
       "        vertical-align: middle;\n",
       "    }\n",
       "\n",
       "    .dataframe tbody tr th {\n",
       "        vertical-align: top;\n",
       "    }\n",
       "\n",
       "    .dataframe thead th {\n",
       "        text-align: right;\n",
       "    }\n",
       "</style>\n",
       "<table border=\"1\" class=\"dataframe\">\n",
       "  <thead>\n",
       "    <tr style=\"text-align: right;\">\n",
       "      <th></th>\n",
       "      <th>prob</th>\n",
       "      <th>bet_size_prob</th>\n",
       "      <th>avg_active_bet_size</th>\n",
       "    </tr>\n",
       "  </thead>\n",
       "  <tbody>\n",
       "    <tr>\n",
       "      <th>count</th>\n",
       "      <td>2068.000000</td>\n",
       "      <td>2068.000000</td>\n",
       "      <td>2068.0</td>\n",
       "    </tr>\n",
       "    <tr>\n",
       "      <th>mean</th>\n",
       "      <td>0.217934</td>\n",
       "      <td>-0.360045</td>\n",
       "      <td>0.0</td>\n",
       "    </tr>\n",
       "    <tr>\n",
       "      <th>std</th>\n",
       "      <td>0.211148</td>\n",
       "      <td>0.485941</td>\n",
       "      <td>0.0</td>\n",
       "    </tr>\n",
       "    <tr>\n",
       "      <th>min</th>\n",
       "      <td>0.000000</td>\n",
       "      <td>-1.000000</td>\n",
       "      <td>0.0</td>\n",
       "    </tr>\n",
       "    <tr>\n",
       "      <th>25%</th>\n",
       "      <td>0.066000</td>\n",
       "      <td>-0.718400</td>\n",
       "      <td>0.0</td>\n",
       "    </tr>\n",
       "    <tr>\n",
       "      <th>50%</th>\n",
       "      <td>0.126000</td>\n",
       "      <td>-0.467886</td>\n",
       "      <td>0.0</td>\n",
       "    </tr>\n",
       "    <tr>\n",
       "      <th>75%</th>\n",
       "      <td>0.348000</td>\n",
       "      <td>0.024563</td>\n",
       "      <td>0.0</td>\n",
       "    </tr>\n",
       "    <tr>\n",
       "      <th>max</th>\n",
       "      <td>0.924000</td>\n",
       "      <td>0.974183</td>\n",
       "      <td>0.0</td>\n",
       "    </tr>\n",
       "  </tbody>\n",
       "</table>\n",
       "</div>"
      ],
      "text/plain": [
       "              prob  bet_size_prob  avg_active_bet_size\n",
       "count  2068.000000    2068.000000               2068.0\n",
       "mean      0.217934      -0.360045                  0.0\n",
       "std       0.211148       0.485941                  0.0\n",
       "min       0.000000      -1.000000                  0.0\n",
       "25%       0.066000      -0.718400                  0.0\n",
       "50%       0.126000      -0.467886                  0.0\n",
       "75%       0.348000       0.024563                  0.0\n",
       "max       0.924000       0.974183                  0.0"
      ]
     },
     "metadata": {},
     "output_type": "display_data"
    }
   ],
   "source": [
    "print(\"Summary statistics on the bet size columns:\")\n",
    "display(event_prob[['prob', 'bet_size_prob', 'avg_active_bet_size']].describe())"
   ]
  },
  {
   "cell_type": "code",
   "execution_count": 37,
   "id": "1f6e6584d48f7637",
   "metadata": {
    "ExecuteTime": {
     "end_time": "2024-01-08T05:59:59.905831Z",
     "start_time": "2024-01-08T05:59:59.638317Z"
    }
   },
   "outputs": [
    {
     "data": {
      "image/png": "[encoded data removed]",
      "text/plain": [
       "<Figure size 800x400 with 1 Axes>"
      ]
     },
     "metadata": {},
     "output_type": "display_data"
    }
   ],
   "source": [
    "plt.figure(figsize = (8, 4))\n",
    "plt.hist(\n",
    "    event_prob.bet_size_prob, \n",
    "    bins = 200, \n",
    "    color = 'darkorange', \n",
    "    edgecolor = 'darkorange', \n",
    "    label = 'Bet-sizing'\n",
    ")\n",
    "plt.legend()\n",
    "plt.grid(False)\n",
    "plt.title('Bet sizing Distribution', fontsize = 12, fontfamily = 'Serif')\n",
    "plt.show()"
   ]
  },
  {
   "cell_type": "code",
   "execution_count": 38,
   "id": "2d9c3e6ff3aa4f19",
   "metadata": {
    "ExecuteTime": {
     "end_time": "2024-01-08T06:00:04.478403Z",
     "start_time": "2024-01-08T06:00:04.325125Z"
    }
   },
   "outputs": [
    {
     "data": {
      "image/png": "[encoded data removed]",
      "text/plain": [
       "<Figure size 800x400 with 1 Axes>"
      ]
     },
     "metadata": {},
     "output_type": "display_data"
    }
   ],
   "source": [
    "plt.figure(figsize = (8, 4))\n",
    "plt.plot(event_prob.bet_size_prob, color = 'blue', alpha = 0.5)\n",
    "plt.grid(False)"
   ]
  },
  {
   "cell_type": "code",
   "execution_count": null,
   "id": "f3d4202ec644643b",
   "metadata": {},
   "outputs": [],
   "source": []
  }
 ],
 "metadata": {
  "kernelspec": {
   "display_name": "Python 3 (ipykernel)",
   "language": "python",
   "name": "python3"
  },
  "language_info": {
   "codemirror_mode": {
    "name": "ipython",
    "version": 3
   },
   "file_extension": ".py",
   "mimetype": "text/x-python",
   "name": "python",
   "nbconvert_exporter": "python",
   "pygments_lexer": "ipython3",
   "version": "3.11.5"
  }
 },
 "nbformat": 4,
 "nbformat_minor": 5
}
