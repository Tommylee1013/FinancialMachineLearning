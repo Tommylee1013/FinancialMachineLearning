{
 "cells": [
  {
   "cell_type": "markdown",
   "metadata": {},
   "source": [
    "# Import Libraries"
   ]
  },
  {
   "cell_type": "code",
   "execution_count": 15,
   "metadata": {
    "ExecuteTime": {
     "end_time": "2024-01-18T13:23:49.276647Z",
     "start_time": "2024-01-18T13:23:49.211777Z"
    }
   },
   "outputs": [],
   "source": [
    "from FinancialMachineLearning.features.fracdiff import FractionalDifferentiatedFeatures\n",
    "import statsmodels.api as sm\n",
    "import pandas as pd\n",
    "import numpy as np\n",
    "import matplotlib.pyplot as plt\n",
    "from lightgbm import LGBMClassifier\n",
    "import yfinance as yf\n",
    "import ta\n",
    "\n",
    "from sklearn.model_selection import train_test_split\n",
    "\n",
    "import warnings\n",
    "warnings.filterwarnings('ignore')"
   ]
  },
  {
   "cell_type": "markdown",
   "metadata": {
    "id": "iCQxgAGSF--0"
   },
   "source": [
    "# Preprocess Datasets"
   ]
  },
  {
   "cell_type": "code",
   "outputs": [
    {
     "name": "stdout",
     "output_type": "stream",
     "text": [
      "[*********************100%%**********************]  1 of 1 completed\n"
     ]
    }
   ],
   "source": [
    "start_date = '1962-01-01'\n",
    "end_date = '2024-01-18'\n",
    "ticker = 'XOM'\n",
    "\n",
    "daily_train = yf.download(ticker, start_date, end_date)\n",
    "daily_train.drop('Adj Close', axis = 1, inplace = True)"
   ],
   "metadata": {
    "collapsed": false,
    "ExecuteTime": {
     "end_time": "2024-01-18T13:25:43.209006Z",
     "start_time": "2024-01-18T13:25:42.490992Z"
    }
   },
   "execution_count": 18
  },
  {
   "cell_type": "markdown",
   "metadata": {},
   "source": [
    "# Add Features"
   ]
  },
  {
   "cell_type": "markdown",
   "metadata": {},
   "source": [
    "### add fractionally differentiated features"
   ]
  },
  {
   "cell_type": "code",
   "execution_count": 3,
   "metadata": {
    "executionInfo": {
     "elapsed": 546,
     "status": "ok",
     "timestamp": 1705412392328,
     "user": {
      "displayName": "­김한성 / 학생 / 자유전공학부",
      "userId": "17797246141634098402"
     },
     "user_tz": -540
    },
    "id": "VJEIGzUxGSyC",
    "ExecuteTime": {
     "end_time": "2024-01-18T13:22:40.731217Z",
     "start_time": "2024-01-18T13:22:40.725597Z"
    }
   },
   "outputs": [],
   "source": [
    "def calculate_difference(df : pd.DataFrame, by : str = 'Close', end = 1, numbers = 11) :\n",
    "    cols = ['adfStat','pVal','lags','nObs','95% conf', 'corr']\n",
    "    out = pd.DataFrame(columns = cols)\n",
    "    for d in np.linspace(0, end, numbers):\n",
    "        try:\n",
    "            df1 = np.log(df).dropna()\n",
    "            df2 = FractionalDifferentiatedFeatures.fracDiff(df1, d, thres = 1e-5)\n",
    "            corr = np.corrcoef(df1.loc[df2.index, by], df2[by])[0,1]\n",
    "            df2 = sm.tsa.stattools.adfuller(df2[by], maxlag = 1, regression = 'c', autolag = None)\n",
    "            out.loc[d] = list(df2[:4]) + [df2[4]['5%']] + [corr]\n",
    "        except Exception as e:\n",
    "            print(f'd: {d}, error: {e}')\n",
    "            continue\n",
    "    return out"
   ]
  },
  {
   "cell_type": "code",
   "execution_count": 4,
   "metadata": {
    "colab": {
     "base_uri": "https://localhost:8080/",
     "height": 1000
    },
    "executionInfo": {
     "elapsed": 87172,
     "status": "ok",
     "timestamp": 1705412482197,
     "user": {
      "displayName": "­김한성 / 학생 / 자유전공학부",
      "userId": "17797246141634098402"
     },
     "user_tz": -540
    },
    "id": "YA9EQTCfGljq",
    "outputId": "8d72baf1-f81d-4873-859f-89dfe94f3e0c",
    "scrolled": true
   },
   "outputs": [
    {
     "name": "stderr",
     "output_type": "stream",
     "text": [
      "C:\\Users\\kim56\\anaconda3\\Find-A\\MLFinLab\\FinalProject\\FinancialMachineLearning\\features\\fracdiff.py:54: FutureWarning: The default dtype for empty Series will be 'object' instead of 'float64' in a future version. Specify a dtype explicitly to silence this warning.\n",
      "  df_ = pd.Series()\n",
      "C:\\Users\\kim56\\anaconda3\\Find-A\\MLFinLab\\FinalProject\\FinancialMachineLearning\\features\\fracdiff.py:54: FutureWarning: The default dtype for empty Series will be 'object' instead of 'float64' in a future version. Specify a dtype explicitly to silence this warning.\n",
      "  df_ = pd.Series()\n",
      "C:\\Users\\kim56\\anaconda3\\Find-A\\MLFinLab\\FinalProject\\FinancialMachineLearning\\features\\fracdiff.py:54: FutureWarning: The default dtype for empty Series will be 'object' instead of 'float64' in a future version. Specify a dtype explicitly to silence this warning.\n",
      "  df_ = pd.Series()\n",
      "C:\\Users\\kim56\\anaconda3\\Find-A\\MLFinLab\\FinalProject\\FinancialMachineLearning\\features\\fracdiff.py:54: FutureWarning: The default dtype for empty Series will be 'object' instead of 'float64' in a future version. Specify a dtype explicitly to silence this warning.\n",
      "  df_ = pd.Series()\n",
      "C:\\Users\\kim56\\anaconda3\\Find-A\\MLFinLab\\FinalProject\\FinancialMachineLearning\\features\\fracdiff.py:54: FutureWarning: The default dtype for empty Series will be 'object' instead of 'float64' in a future version. Specify a dtype explicitly to silence this warning.\n",
      "  df_ = pd.Series()\n",
      "C:\\Users\\kim56\\anaconda3\\Find-A\\MLFinLab\\FinalProject\\FinancialMachineLearning\\features\\fracdiff.py:54: FutureWarning: The default dtype for empty Series will be 'object' instead of 'float64' in a future version. Specify a dtype explicitly to silence this warning.\n",
      "  df_ = pd.Series()\n",
      "C:\\Users\\kim56\\anaconda3\\Find-A\\MLFinLab\\FinalProject\\FinancialMachineLearning\\features\\fracdiff.py:54: FutureWarning: The default dtype for empty Series will be 'object' instead of 'float64' in a future version. Specify a dtype explicitly to silence this warning.\n",
      "  df_ = pd.Series()\n",
      "C:\\Users\\kim56\\anaconda3\\Find-A\\MLFinLab\\FinalProject\\FinancialMachineLearning\\features\\fracdiff.py:54: FutureWarning: The default dtype for empty Series will be 'object' instead of 'float64' in a future version. Specify a dtype explicitly to silence this warning.\n",
      "  df_ = pd.Series()\n",
      "C:\\Users\\kim56\\anaconda3\\Find-A\\MLFinLab\\FinalProject\\FinancialMachineLearning\\features\\fracdiff.py:54: FutureWarning: The default dtype for empty Series will be 'object' instead of 'float64' in a future version. Specify a dtype explicitly to silence this warning.\n",
      "  df_ = pd.Series()\n",
      "C:\\Users\\kim56\\anaconda3\\Find-A\\MLFinLab\\FinalProject\\FinancialMachineLearning\\features\\fracdiff.py:54: FutureWarning: The default dtype for empty Series will be 'object' instead of 'float64' in a future version. Specify a dtype explicitly to silence this warning.\n",
      "  df_ = pd.Series()\n",
      "C:\\Users\\kim56\\anaconda3\\Find-A\\MLFinLab\\FinalProject\\FinancialMachineLearning\\features\\fracdiff.py:54: FutureWarning: The default dtype for empty Series will be 'object' instead of 'float64' in a future version. Specify a dtype explicitly to silence this warning.\n",
      "  df_ = pd.Series()\n",
      "C:\\Users\\kim56\\anaconda3\\Find-A\\MLFinLab\\FinalProject\\FinancialMachineLearning\\features\\fracdiff.py:54: FutureWarning: The default dtype for empty Series will be 'object' instead of 'float64' in a future version. Specify a dtype explicitly to silence this warning.\n",
      "  df_ = pd.Series()\n",
      "C:\\Users\\kim56\\anaconda3\\Find-A\\MLFinLab\\FinalProject\\FinancialMachineLearning\\features\\fracdiff.py:54: FutureWarning: The default dtype for empty Series will be 'object' instead of 'float64' in a future version. Specify a dtype explicitly to silence this warning.\n",
      "  df_ = pd.Series()\n",
      "C:\\Users\\kim56\\anaconda3\\Find-A\\MLFinLab\\FinalProject\\FinancialMachineLearning\\features\\fracdiff.py:54: FutureWarning: The default dtype for empty Series will be 'object' instead of 'float64' in a future version. Specify a dtype explicitly to silence this warning.\n",
      "  df_ = pd.Series()\n",
      "C:\\Users\\kim56\\anaconda3\\Find-A\\MLFinLab\\FinalProject\\FinancialMachineLearning\\features\\fracdiff.py:54: FutureWarning: The default dtype for empty Series will be 'object' instead of 'float64' in a future version. Specify a dtype explicitly to silence this warning.\n",
      "  df_ = pd.Series()\n",
      "C:\\Users\\kim56\\anaconda3\\Find-A\\MLFinLab\\FinalProject\\FinancialMachineLearning\\features\\fracdiff.py:54: FutureWarning: The default dtype for empty Series will be 'object' instead of 'float64' in a future version. Specify a dtype explicitly to silence this warning.\n",
      "  df_ = pd.Series()\n",
      "C:\\Users\\kim56\\anaconda3\\Find-A\\MLFinLab\\FinalProject\\FinancialMachineLearning\\features\\fracdiff.py:54: FutureWarning: The default dtype for empty Series will be 'object' instead of 'float64' in a future version. Specify a dtype explicitly to silence this warning.\n",
      "  df_ = pd.Series()\n",
      "C:\\Users\\kim56\\anaconda3\\Find-A\\MLFinLab\\FinalProject\\FinancialMachineLearning\\features\\fracdiff.py:54: FutureWarning: The default dtype for empty Series will be 'object' instead of 'float64' in a future version. Specify a dtype explicitly to silence this warning.\n",
      "  df_ = pd.Series()\n",
      "C:\\Users\\kim56\\anaconda3\\Find-A\\MLFinLab\\FinalProject\\FinancialMachineLearning\\features\\fracdiff.py:54: FutureWarning: The default dtype for empty Series will be 'object' instead of 'float64' in a future version. Specify a dtype explicitly to silence this warning.\n",
      "  df_ = pd.Series()\n",
      "C:\\Users\\kim56\\anaconda3\\Find-A\\MLFinLab\\FinalProject\\FinancialMachineLearning\\features\\fracdiff.py:54: FutureWarning: The default dtype for empty Series will be 'object' instead of 'float64' in a future version. Specify a dtype explicitly to silence this warning.\n",
      "  df_ = pd.Series()\n",
      "C:\\Users\\kim56\\anaconda3\\Find-A\\MLFinLab\\FinalProject\\FinancialMachineLearning\\features\\fracdiff.py:54: FutureWarning: The default dtype for empty Series will be 'object' instead of 'float64' in a future version. Specify a dtype explicitly to silence this warning.\n",
      "  df_ = pd.Series()\n"
     ]
    },
    {
     "data": {
      "text/html": [
       "<div>\n",
       "<style scoped>\n",
       "    .dataframe tbody tr th:only-of-type {\n",
       "        vertical-align: middle;\n",
       "    }\n",
       "\n",
       "    .dataframe tbody tr th {\n",
       "        vertical-align: top;\n",
       "    }\n",
       "\n",
       "    .dataframe thead th {\n",
       "        text-align: right;\n",
       "    }\n",
       "</style>\n",
       "<table border=\"1\" class=\"dataframe\">\n",
       "  <thead>\n",
       "    <tr style=\"text-align: right;\">\n",
       "      <th></th>\n",
       "      <th>adfStat</th>\n",
       "      <th>pVal</th>\n",
       "      <th>lags</th>\n",
       "      <th>nObs</th>\n",
       "      <th>95% conf</th>\n",
       "      <th>corr</th>\n",
       "    </tr>\n",
       "  </thead>\n",
       "  <tbody>\n",
       "    <tr>\n",
       "      <th>0.00</th>\n",
       "      <td>-0.892083</td>\n",
       "      <td>7.905684e-01</td>\n",
       "      <td>1.0</td>\n",
       "      <td>14597.0</td>\n",
       "      <td>-2.861738</td>\n",
       "      <td>1.000000</td>\n",
       "    </tr>\n",
       "    <tr>\n",
       "      <th>0.05</th>\n",
       "      <td>-0.325455</td>\n",
       "      <td>9.218210e-01</td>\n",
       "      <td>1.0</td>\n",
       "      <td>4.0</td>\n",
       "      <td>-4.474365</td>\n",
       "      <td>0.999007</td>\n",
       "    </tr>\n",
       "    <tr>\n",
       "      <th>0.10</th>\n",
       "      <td>-0.381350</td>\n",
       "      <td>9.131663e-01</td>\n",
       "      <td>1.0</td>\n",
       "      <td>4.0</td>\n",
       "      <td>-4.474365</td>\n",
       "      <td>0.996126</td>\n",
       "    </tr>\n",
       "    <tr>\n",
       "      <th>0.15</th>\n",
       "      <td>-1.720336</td>\n",
       "      <td>4.206663e-01</td>\n",
       "      <td>1.0</td>\n",
       "      <td>6.0</td>\n",
       "      <td>-3.646238</td>\n",
       "      <td>0.984297</td>\n",
       "    </tr>\n",
       "    <tr>\n",
       "      <th>0.20</th>\n",
       "      <td>-1.707622</td>\n",
       "      <td>4.271898e-01</td>\n",
       "      <td>1.0</td>\n",
       "      <td>8.0</td>\n",
       "      <td>-3.367187</td>\n",
       "      <td>0.967079</td>\n",
       "    </tr>\n",
       "    <tr>\n",
       "      <th>0.25</th>\n",
       "      <td>-4.244201</td>\n",
       "      <td>5.541346e-04</td>\n",
       "      <td>1.0</td>\n",
       "      <td>13.0</td>\n",
       "      <td>-3.127149</td>\n",
       "      <td>0.932946</td>\n",
       "    </tr>\n",
       "    <tr>\n",
       "      <th>0.30</th>\n",
       "      <td>-3.615943</td>\n",
       "      <td>5.463453e-03</td>\n",
       "      <td>1.0</td>\n",
       "      <td>19.0</td>\n",
       "      <td>-3.031227</td>\n",
       "      <td>0.892474</td>\n",
       "    </tr>\n",
       "    <tr>\n",
       "      <th>0.35</th>\n",
       "      <td>-2.630868</td>\n",
       "      <td>8.678379e-02</td>\n",
       "      <td>1.0</td>\n",
       "      <td>30.0</td>\n",
       "      <td>-2.964071</td>\n",
       "      <td>0.898378</td>\n",
       "    </tr>\n",
       "    <tr>\n",
       "      <th>0.40</th>\n",
       "      <td>-3.103146</td>\n",
       "      <td>2.632127e-02</td>\n",
       "      <td>1.0</td>\n",
       "      <td>47.0</td>\n",
       "      <td>-2.925338</td>\n",
       "      <td>0.841688</td>\n",
       "    </tr>\n",
       "    <tr>\n",
       "      <th>0.45</th>\n",
       "      <td>-4.141121</td>\n",
       "      <td>8.275645e-04</td>\n",
       "      <td>1.0</td>\n",
       "      <td>75.0</td>\n",
       "      <td>-2.900925</td>\n",
       "      <td>0.704957</td>\n",
       "    </tr>\n",
       "    <tr>\n",
       "      <th>0.50</th>\n",
       "      <td>-4.875349</td>\n",
       "      <td>3.893941e-05</td>\n",
       "      <td>1.0</td>\n",
       "      <td>121.0</td>\n",
       "      <td>-2.885739</td>\n",
       "      <td>0.450778</td>\n",
       "    </tr>\n",
       "    <tr>\n",
       "      <th>0.55</th>\n",
       "      <td>-5.884133</td>\n",
       "      <td>3.029544e-07</td>\n",
       "      <td>1.0</td>\n",
       "      <td>199.0</td>\n",
       "      <td>-2.876176</td>\n",
       "      <td>0.450273</td>\n",
       "    </tr>\n",
       "    <tr>\n",
       "      <th>0.60</th>\n",
       "      <td>-6.930087</td>\n",
       "      <td>1.089753e-09</td>\n",
       "      <td>1.0</td>\n",
       "      <td>331.0</td>\n",
       "      <td>-2.870312</td>\n",
       "      <td>0.425243</td>\n",
       "    </tr>\n",
       "    <tr>\n",
       "      <th>0.65</th>\n",
       "      <td>-10.169004</td>\n",
       "      <td>7.171881e-18</td>\n",
       "      <td>1.0</td>\n",
       "      <td>561.0</td>\n",
       "      <td>-2.866706</td>\n",
       "      <td>0.373761</td>\n",
       "    </tr>\n",
       "    <tr>\n",
       "      <th>0.70</th>\n",
       "      <td>-14.731459</td>\n",
       "      <td>2.655691e-27</td>\n",
       "      <td>1.0</td>\n",
       "      <td>965.0</td>\n",
       "      <td>-2.864540</td>\n",
       "      <td>0.298526</td>\n",
       "    </tr>\n",
       "    <tr>\n",
       "      <th>0.75</th>\n",
       "      <td>-21.812931</td>\n",
       "      <td>0.000000e+00</td>\n",
       "      <td>1.0</td>\n",
       "      <td>1682.0</td>\n",
       "      <td>-2.863260</td>\n",
       "      <td>0.213255</td>\n",
       "    </tr>\n",
       "    <tr>\n",
       "      <th>0.80</th>\n",
       "      <td>-36.617560</td>\n",
       "      <td>0.000000e+00</td>\n",
       "      <td>1.0</td>\n",
       "      <td>2936.0</td>\n",
       "      <td>-2.862525</td>\n",
       "      <td>0.131831</td>\n",
       "    </tr>\n",
       "    <tr>\n",
       "      <th>0.85</th>\n",
       "      <td>-49.424505</td>\n",
       "      <td>0.000000e+00</td>\n",
       "      <td>1.0</td>\n",
       "      <td>5020.0</td>\n",
       "      <td>-2.862116</td>\n",
       "      <td>0.028248</td>\n",
       "    </tr>\n",
       "    <tr>\n",
       "      <th>0.90</th>\n",
       "      <td>-66.265741</td>\n",
       "      <td>0.000000e+00</td>\n",
       "      <td>1.0</td>\n",
       "      <td>8073.0</td>\n",
       "      <td>-2.861898</td>\n",
       "      <td>-0.004566</td>\n",
       "    </tr>\n",
       "    <tr>\n",
       "      <th>0.95</th>\n",
       "      <td>-81.075013</td>\n",
       "      <td>0.000000e+00</td>\n",
       "      <td>1.0</td>\n",
       "      <td>11613.0</td>\n",
       "      <td>-2.861789</td>\n",
       "      <td>0.000493</td>\n",
       "    </tr>\n",
       "    <tr>\n",
       "      <th>1.00</th>\n",
       "      <td>-93.448562</td>\n",
       "      <td>0.000000e+00</td>\n",
       "      <td>1.0</td>\n",
       "      <td>14596.0</td>\n",
       "      <td>-2.861738</td>\n",
       "      <td>0.002246</td>\n",
       "    </tr>\n",
       "  </tbody>\n",
       "</table>\n",
       "</div>"
      ],
      "text/plain": [
       "        adfStat          pVal  lags     nObs  95% conf      corr\n",
       "0.00  -0.892083  7.905684e-01   1.0  14597.0 -2.861738  1.000000\n",
       "0.05  -0.325455  9.218210e-01   1.0      4.0 -4.474365  0.999007\n",
       "0.10  -0.381350  9.131663e-01   1.0      4.0 -4.474365  0.996126\n",
       "0.15  -1.720336  4.206663e-01   1.0      6.0 -3.646238  0.984297\n",
       "0.20  -1.707622  4.271898e-01   1.0      8.0 -3.367187  0.967079\n",
       "0.25  -4.244201  5.541346e-04   1.0     13.0 -3.127149  0.932946\n",
       "0.30  -3.615943  5.463453e-03   1.0     19.0 -3.031227  0.892474\n",
       "0.35  -2.630868  8.678379e-02   1.0     30.0 -2.964071  0.898378\n",
       "0.40  -3.103146  2.632127e-02   1.0     47.0 -2.925338  0.841688\n",
       "0.45  -4.141121  8.275645e-04   1.0     75.0 -2.900925  0.704957\n",
       "0.50  -4.875349  3.893941e-05   1.0    121.0 -2.885739  0.450778\n",
       "0.55  -5.884133  3.029544e-07   1.0    199.0 -2.876176  0.450273\n",
       "0.60  -6.930087  1.089753e-09   1.0    331.0 -2.870312  0.425243\n",
       "0.65 -10.169004  7.171881e-18   1.0    561.0 -2.866706  0.373761\n",
       "0.70 -14.731459  2.655691e-27   1.0    965.0 -2.864540  0.298526\n",
       "0.75 -21.812931  0.000000e+00   1.0   1682.0 -2.863260  0.213255\n",
       "0.80 -36.617560  0.000000e+00   1.0   2936.0 -2.862525  0.131831\n",
       "0.85 -49.424505  0.000000e+00   1.0   5020.0 -2.862116  0.028248\n",
       "0.90 -66.265741  0.000000e+00   1.0   8073.0 -2.861898 -0.004566\n",
       "0.95 -81.075013  0.000000e+00   1.0  11613.0 -2.861789  0.000493\n",
       "1.00 -93.448562  0.000000e+00   1.0  14596.0 -2.861738  0.002246"
      ]
     },
     "metadata": {},
     "output_type": "display_data"
    },
    {
     "data": {
      "image/png": "[encoded data removed]",
      "text/plain": [
       "<Figure size 640x480 with 2 Axes>"
      ]
     },
     "metadata": {},
     "output_type": "display_data"
    }
   ],
   "source": [
    "diff_res_close = calculate_difference(daily_train[['Close']], numbers = 21)\n",
    "\n",
    "f,ax = plt.subplots()\n",
    "ax.axhline(diff_res_close['95% conf'].mean(), lw = 1, color = 'r', ls = '-.')\n",
    "diff_res_close[['adfStat', 'corr']].plot(ax = ax, marker = 'X', secondary_y = 'corr')\n",
    "ax.set_title('Minimum d (threshold = 0.0001)', fontsize = 12, fontfamily = 'Serif')\n",
    "ax.set_xlabel('d values')\n",
    "ax.set_ylabel('ADF Stats')\n",
    "ax.grid(False)\n",
    "display(diff_res_close)"
   ]
  },
  {
   "cell_type": "markdown",
   "metadata": {
    "id": "IwqtCOB9JTp2"
   },
   "source": [
    "- $d=0.25$ 부근에서 adf 통계량 값이 95% 유의수준에서 유의하다. 따라서 $d=0.25$으로 결정"
   ]
  },
  {
   "cell_type": "code",
   "execution_count": 19,
   "metadata": {
    "colab": {
     "base_uri": "https://localhost:8080/",
     "height": 455
    },
    "executionInfo": {
     "elapsed": 11273,
     "status": "ok",
     "timestamp": 1705412493467,
     "user": {
      "displayName": "­김한성 / 학생 / 자유전공학부",
      "userId": "17797246141634098402"
     },
     "user_tz": -540
    },
    "id": "NxbVBNWRO5Jx",
    "outputId": "668a0395-7a77-4e5f-e8ca-d3bcd1659ecd",
    "ExecuteTime": {
     "end_time": "2024-01-18T13:25:56.690245Z",
     "start_time": "2024-01-18T13:25:53.956150Z"
    }
   },
   "outputs": [
    {
     "data": {
      "text/plain": "                  Open        High        Low      Close    Volume   Close_FD\nDate                                                                         \n1962-01-02    0.000000    1.589844   1.578125   1.578125    902400        NaN\n1962-01-03    0.000000    1.601563   1.578125   1.601563   1200000        NaN\n1962-01-04    0.000000    1.613281   1.597656   1.605469   1088000        NaN\n1962-01-05    0.000000    1.613281   1.566406   1.570313   1222400        NaN\n1962-01-08    0.000000    1.582031   1.546875   1.566406   1388800        NaN\n...                ...         ...        ...        ...       ...        ...\n2024-01-10   99.800003   99.800003  98.160004  98.690002  18206100  10.168887\n2024-01-11   99.040001   99.500000  98.559998  98.669998  15833400  10.587538\n2024-01-12  100.139999  100.650002  99.169998  99.949997  18032100  12.084669\n2024-01-16   99.820000  100.010002  97.529999  97.690002  20235700   9.646183\n2024-01-17   96.599998   97.959999  96.580002  96.980003  18379000   9.485698\n\n[15617 rows x 6 columns]",
      "text/html": "<div>\n<style scoped>\n    .dataframe tbody tr th:only-of-type {\n        vertical-align: middle;\n    }\n\n    .dataframe tbody tr th {\n        vertical-align: top;\n    }\n\n    .dataframe thead th {\n        text-align: right;\n    }\n</style>\n<table border=\"1\" class=\"dataframe\">\n  <thead>\n    <tr style=\"text-align: right;\">\n      <th></th>\n      <th>Open</th>\n      <th>High</th>\n      <th>Low</th>\n      <th>Close</th>\n      <th>Volume</th>\n      <th>Close_FD</th>\n    </tr>\n    <tr>\n      <th>Date</th>\n      <th></th>\n      <th></th>\n      <th></th>\n      <th></th>\n      <th></th>\n      <th></th>\n    </tr>\n  </thead>\n  <tbody>\n    <tr>\n      <th>1962-01-02</th>\n      <td>0.000000</td>\n      <td>1.589844</td>\n      <td>1.578125</td>\n      <td>1.578125</td>\n      <td>902400</td>\n      <td>NaN</td>\n    </tr>\n    <tr>\n      <th>1962-01-03</th>\n      <td>0.000000</td>\n      <td>1.601563</td>\n      <td>1.578125</td>\n      <td>1.601563</td>\n      <td>1200000</td>\n      <td>NaN</td>\n    </tr>\n    <tr>\n      <th>1962-01-04</th>\n      <td>0.000000</td>\n      <td>1.613281</td>\n      <td>1.597656</td>\n      <td>1.605469</td>\n      <td>1088000</td>\n      <td>NaN</td>\n    </tr>\n    <tr>\n      <th>1962-01-05</th>\n      <td>0.000000</td>\n      <td>1.613281</td>\n      <td>1.566406</td>\n      <td>1.570313</td>\n      <td>1222400</td>\n      <td>NaN</td>\n    </tr>\n    <tr>\n      <th>1962-01-08</th>\n      <td>0.000000</td>\n      <td>1.582031</td>\n      <td>1.546875</td>\n      <td>1.566406</td>\n      <td>1388800</td>\n      <td>NaN</td>\n    </tr>\n    <tr>\n      <th>...</th>\n      <td>...</td>\n      <td>...</td>\n      <td>...</td>\n      <td>...</td>\n      <td>...</td>\n      <td>...</td>\n    </tr>\n    <tr>\n      <th>2024-01-10</th>\n      <td>99.800003</td>\n      <td>99.800003</td>\n      <td>98.160004</td>\n      <td>98.690002</td>\n      <td>18206100</td>\n      <td>10.168887</td>\n    </tr>\n    <tr>\n      <th>2024-01-11</th>\n      <td>99.040001</td>\n      <td>99.500000</td>\n      <td>98.559998</td>\n      <td>98.669998</td>\n      <td>15833400</td>\n      <td>10.587538</td>\n    </tr>\n    <tr>\n      <th>2024-01-12</th>\n      <td>100.139999</td>\n      <td>100.650002</td>\n      <td>99.169998</td>\n      <td>99.949997</td>\n      <td>18032100</td>\n      <td>12.084669</td>\n    </tr>\n    <tr>\n      <th>2024-01-16</th>\n      <td>99.820000</td>\n      <td>100.010002</td>\n      <td>97.529999</td>\n      <td>97.690002</td>\n      <td>20235700</td>\n      <td>9.646183</td>\n    </tr>\n    <tr>\n      <th>2024-01-17</th>\n      <td>96.599998</td>\n      <td>97.959999</td>\n      <td>96.580002</td>\n      <td>96.980003</td>\n      <td>18379000</td>\n      <td>9.485698</td>\n    </tr>\n  </tbody>\n</table>\n<p>15617 rows × 6 columns</p>\n</div>"
     },
     "execution_count": 19,
     "metadata": {},
     "output_type": "execute_result"
    }
   ],
   "source": [
    "daily_train['Close_FD'] = FractionalDifferentiatedFeatures.fracDiff_FFD(daily_train[['Close']], 0.25)\n",
    "daily_train"
   ]
  },
  {
   "cell_type": "code",
   "execution_count": 5,
   "metadata": {
    "colab": {
     "base_uri": "https://localhost:8080/",
     "height": 1000
    },
    "executionInfo": {
     "elapsed": 70519,
     "status": "ok",
     "timestamp": 1705412563984,
     "user": {
      "displayName": "­김한성 / 학생 / 자유전공학부",
      "userId": "17797246141634098402"
     },
     "user_tz": -540
    },
    "id": "U65p59JSP-Vb",
    "outputId": "4b9d0d73-8119-460e-fe6b-b51f61261d5a",
    "scrolled": true,
    "ExecuteTime": {
     "end_time": "2024-01-18T13:23:00.149873Z",
     "start_time": "2024-01-18T13:22:49.015613Z"
    }
   },
   "outputs": [
    {
     "ename": "KeyboardInterrupt",
     "evalue": "",
     "output_type": "error",
     "traceback": [
      "\u001B[0;31m---------------------------------------------------------------------------\u001B[0m",
      "\u001B[0;31mKeyboardInterrupt\u001B[0m                         Traceback (most recent call last)",
      "Cell \u001B[0;32mIn[5], line 1\u001B[0m\n\u001B[0;32m----> 1\u001B[0m diff_res_volume \u001B[38;5;241m=\u001B[39m \u001B[43mcalculate_difference\u001B[49m\u001B[43m(\u001B[49m\u001B[43mdaily_train\u001B[49m\u001B[43m[\u001B[49m\u001B[43m[\u001B[49m\u001B[38;5;124;43m'\u001B[39;49m\u001B[38;5;124;43mVolume\u001B[39;49m\u001B[38;5;124;43m'\u001B[39;49m\u001B[43m]\u001B[49m\u001B[43m]\u001B[49m\u001B[43m,\u001B[49m\u001B[43m \u001B[49m\u001B[43mby\u001B[49m\u001B[43m \u001B[49m\u001B[38;5;241;43m=\u001B[39;49m\u001B[43m \u001B[49m\u001B[38;5;124;43m'\u001B[39;49m\u001B[38;5;124;43mVolume\u001B[39;49m\u001B[38;5;124;43m'\u001B[39;49m\u001B[43m,\u001B[49m\u001B[43m \u001B[49m\u001B[43mnumbers\u001B[49m\u001B[43m \u001B[49m\u001B[38;5;241;43m=\u001B[39;49m\u001B[43m \u001B[49m\u001B[38;5;241;43m21\u001B[39;49m\u001B[43m)\u001B[49m\n\u001B[1;32m      3\u001B[0m f,ax \u001B[38;5;241m=\u001B[39m plt\u001B[38;5;241m.\u001B[39msubplots()\n\u001B[1;32m      4\u001B[0m ax\u001B[38;5;241m.\u001B[39maxhline(diff_res_volume[\u001B[38;5;124m'\u001B[39m\u001B[38;5;124m95\u001B[39m\u001B[38;5;132;01m% c\u001B[39;00m\u001B[38;5;124monf\u001B[39m\u001B[38;5;124m'\u001B[39m]\u001B[38;5;241m.\u001B[39mmean(), lw \u001B[38;5;241m=\u001B[39m \u001B[38;5;241m1\u001B[39m, color \u001B[38;5;241m=\u001B[39m \u001B[38;5;124m'\u001B[39m\u001B[38;5;124mr\u001B[39m\u001B[38;5;124m'\u001B[39m, ls \u001B[38;5;241m=\u001B[39m \u001B[38;5;124m'\u001B[39m\u001B[38;5;124m-.\u001B[39m\u001B[38;5;124m'\u001B[39m)\n",
      "Cell \u001B[0;32mIn[3], line 7\u001B[0m, in \u001B[0;36mcalculate_difference\u001B[0;34m(df, by, end, numbers)\u001B[0m\n\u001B[1;32m      5\u001B[0m \u001B[38;5;28;01mtry\u001B[39;00m:\n\u001B[1;32m      6\u001B[0m     df1 \u001B[38;5;241m=\u001B[39m np\u001B[38;5;241m.\u001B[39mlog(df)\u001B[38;5;241m.\u001B[39mdropna()\n\u001B[0;32m----> 7\u001B[0m     df2 \u001B[38;5;241m=\u001B[39m \u001B[43mFractionalDifferentiatedFeatures\u001B[49m\u001B[38;5;241;43m.\u001B[39;49m\u001B[43mfracDiff\u001B[49m\u001B[43m(\u001B[49m\u001B[43mdf1\u001B[49m\u001B[43m,\u001B[49m\u001B[43m \u001B[49m\u001B[43md\u001B[49m\u001B[43m,\u001B[49m\u001B[43m \u001B[49m\u001B[43mthres\u001B[49m\u001B[43m \u001B[49m\u001B[38;5;241;43m=\u001B[39;49m\u001B[43m \u001B[49m\u001B[38;5;241;43m1e-5\u001B[39;49m\u001B[43m)\u001B[49m\n\u001B[1;32m      8\u001B[0m     corr \u001B[38;5;241m=\u001B[39m np\u001B[38;5;241m.\u001B[39mcorrcoef(df1\u001B[38;5;241m.\u001B[39mloc[df2\u001B[38;5;241m.\u001B[39mindex, by], df2[by])[\u001B[38;5;241m0\u001B[39m,\u001B[38;5;241m1\u001B[39m]\n\u001B[1;32m      9\u001B[0m     df2 \u001B[38;5;241m=\u001B[39m sm\u001B[38;5;241m.\u001B[39mtsa\u001B[38;5;241m.\u001B[39mstattools\u001B[38;5;241m.\u001B[39madfuller(df2[by], maxlag \u001B[38;5;241m=\u001B[39m \u001B[38;5;241m1\u001B[39m, regression \u001B[38;5;241m=\u001B[39m \u001B[38;5;124m'\u001B[39m\u001B[38;5;124mc\u001B[39m\u001B[38;5;124m'\u001B[39m, autolag \u001B[38;5;241m=\u001B[39m \u001B[38;5;28;01mNone\u001B[39;00m)\n",
      "File \u001B[0;32m~/Desktop/Pycharm/FinancialMachineLearning/FinancialMachineLearning/features/fracdiff.py:56\u001B[0m, in \u001B[0;36mFractionalDifferentiatedFeatures.fracDiff\u001B[0;34m(series, d, thres)\u001B[0m\n\u001B[1;32m     54\u001B[0m df_ \u001B[38;5;241m=\u001B[39m pd\u001B[38;5;241m.\u001B[39mSeries(dtype \u001B[38;5;241m=\u001B[39m \u001B[38;5;28mfloat\u001B[39m)\n\u001B[1;32m     55\u001B[0m \u001B[38;5;28;01mfor\u001B[39;00m iloc \u001B[38;5;129;01min\u001B[39;00m \u001B[38;5;28mrange\u001B[39m(skip, seriesF\u001B[38;5;241m.\u001B[39mshape[\u001B[38;5;241m0\u001B[39m]):\n\u001B[0;32m---> 56\u001B[0m     loc \u001B[38;5;241m=\u001B[39m \u001B[43mseriesF\u001B[49m\u001B[38;5;241;43m.\u001B[39;49m\u001B[43mindex\u001B[49m\u001B[43m[\u001B[49m\u001B[43miloc\u001B[49m\u001B[43m]\u001B[49m\n\u001B[1;32m     58\u001B[0m     test_val \u001B[38;5;241m=\u001B[39m series\u001B[38;5;241m.\u001B[39mloc[loc, name]\n\u001B[1;32m     59\u001B[0m     \u001B[38;5;28;01mif\u001B[39;00m \u001B[38;5;28misinstance\u001B[39m(test_val, (pd\u001B[38;5;241m.\u001B[39mSeries, pd\u001B[38;5;241m.\u001B[39mDataFrame)):\n",
      "File \u001B[0;32m~/anaconda3/envs/FinancialMachineLearning/lib/python3.10/site-packages/pandas/core/indexes/base.py:5366\u001B[0m, in \u001B[0;36mIndex.__getitem__\u001B[0;34m(self, key)\u001B[0m\n\u001B[1;32m   5363\u001B[0m \u001B[38;5;28;01mif\u001B[39;00m is_integer(key) \u001B[38;5;129;01mor\u001B[39;00m is_float(key):\n\u001B[1;32m   5364\u001B[0m     \u001B[38;5;66;03m# GH#44051 exclude bool, which would return a 2d ndarray\u001B[39;00m\n\u001B[1;32m   5365\u001B[0m     key \u001B[38;5;241m=\u001B[39m com\u001B[38;5;241m.\u001B[39mcast_scalar_indexer(key)\n\u001B[0;32m-> 5366\u001B[0m     \u001B[38;5;28;01mreturn\u001B[39;00m \u001B[43mgetitem\u001B[49m\u001B[43m(\u001B[49m\u001B[43mkey\u001B[49m\u001B[43m)\u001B[49m\n\u001B[1;32m   5368\u001B[0m \u001B[38;5;28;01mif\u001B[39;00m \u001B[38;5;28misinstance\u001B[39m(key, \u001B[38;5;28mslice\u001B[39m):\n\u001B[1;32m   5369\u001B[0m     \u001B[38;5;66;03m# This case is separated from the conditional above to avoid\u001B[39;00m\n\u001B[1;32m   5370\u001B[0m     \u001B[38;5;66;03m# pessimization com.is_bool_indexer and ndim checks.\u001B[39;00m\n\u001B[1;32m   5371\u001B[0m     \u001B[38;5;28;01mreturn\u001B[39;00m \u001B[38;5;28mself\u001B[39m\u001B[38;5;241m.\u001B[39m_getitem_slice(key)\n",
      "File \u001B[0;32m~/anaconda3/envs/FinancialMachineLearning/lib/python3.10/site-packages/pandas/core/arrays/datetimelike.py:376\u001B[0m, in \u001B[0;36mDatetimeLikeArrayMixin.__getitem__\u001B[0;34m(self, key)\u001B[0m\n\u001B[1;32m    369\u001B[0m \u001B[38;5;250m\u001B[39m\u001B[38;5;124;03m\"\"\"\u001B[39;00m\n\u001B[1;32m    370\u001B[0m \u001B[38;5;124;03mThis getitem defers to the underlying array, which by-definition can\u001B[39;00m\n\u001B[1;32m    371\u001B[0m \u001B[38;5;124;03monly handle list-likes, slices, and integer scalars\u001B[39;00m\n\u001B[1;32m    372\u001B[0m \u001B[38;5;124;03m\"\"\"\u001B[39;00m\n\u001B[1;32m    373\u001B[0m \u001B[38;5;66;03m# Use cast as we know we will get back a DatetimeLikeArray or DTScalar,\u001B[39;00m\n\u001B[1;32m    374\u001B[0m \u001B[38;5;66;03m# but skip evaluating the Union at runtime for performance\u001B[39;00m\n\u001B[1;32m    375\u001B[0m \u001B[38;5;66;03m# (see https://github.com/pandas-dev/pandas/pull/44624)\u001B[39;00m\n\u001B[0;32m--> 376\u001B[0m result \u001B[38;5;241m=\u001B[39m cast(\u001B[38;5;124m\"\u001B[39m\u001B[38;5;124mUnion[Self, DTScalarOrNaT]\u001B[39m\u001B[38;5;124m\"\u001B[39m, \u001B[38;5;28;43msuper\u001B[39;49m\u001B[43m(\u001B[49m\u001B[43m)\u001B[49m\u001B[38;5;241;43m.\u001B[39;49m\u001B[38;5;21;43m__getitem__\u001B[39;49m\u001B[43m(\u001B[49m\u001B[43mkey\u001B[49m\u001B[43m)\u001B[49m)\n\u001B[1;32m    377\u001B[0m \u001B[38;5;28;01mif\u001B[39;00m lib\u001B[38;5;241m.\u001B[39mis_scalar(result):\n\u001B[1;32m    378\u001B[0m     \u001B[38;5;28;01mreturn\u001B[39;00m result\n",
      "File \u001B[0;32m~/anaconda3/envs/FinancialMachineLearning/lib/python3.10/site-packages/pandas/core/arrays/_mixins.py:278\u001B[0m, in \u001B[0;36mNDArrayBackedExtensionArray.__getitem__\u001B[0;34m(self, key)\u001B[0m\n\u001B[1;32m    276\u001B[0m     result \u001B[38;5;241m=\u001B[39m \u001B[38;5;28mself\u001B[39m\u001B[38;5;241m.\u001B[39m_ndarray[key]\n\u001B[1;32m    277\u001B[0m     \u001B[38;5;28;01mif\u001B[39;00m \u001B[38;5;28mself\u001B[39m\u001B[38;5;241m.\u001B[39mndim \u001B[38;5;241m==\u001B[39m \u001B[38;5;241m1\u001B[39m:\n\u001B[0;32m--> 278\u001B[0m         \u001B[38;5;28;01mreturn\u001B[39;00m \u001B[38;5;28;43mself\u001B[39;49m\u001B[38;5;241;43m.\u001B[39;49m\u001B[43m_box_func\u001B[49m\u001B[43m(\u001B[49m\u001B[43mresult\u001B[49m\u001B[43m)\u001B[49m\n\u001B[1;32m    279\u001B[0m     \u001B[38;5;28;01mreturn\u001B[39;00m \u001B[38;5;28mself\u001B[39m\u001B[38;5;241m.\u001B[39m_from_backing_data(result)\n\u001B[1;32m    281\u001B[0m \u001B[38;5;66;03m# error: Incompatible types in assignment (expression has type \"ExtensionArray\",\u001B[39;00m\n\u001B[1;32m    282\u001B[0m \u001B[38;5;66;03m# variable has type \"Union[int, slice, ndarray]\")\u001B[39;00m\n",
      "File \u001B[0;32m~/anaconda3/envs/FinancialMachineLearning/lib/python3.10/site-packages/pandas/core/arrays/datetimes.py:536\u001B[0m, in \u001B[0;36mDatetimeArray._box_func\u001B[0;34m(self, x)\u001B[0m\n\u001B[1;32m    533\u001B[0m \u001B[38;5;28;01mdef\u001B[39;00m \u001B[38;5;21m_box_func\u001B[39m(\u001B[38;5;28mself\u001B[39m, x: np\u001B[38;5;241m.\u001B[39mdatetime64) \u001B[38;5;241m-\u001B[39m\u001B[38;5;241m>\u001B[39m Timestamp \u001B[38;5;241m|\u001B[39m NaTType:\n\u001B[1;32m    534\u001B[0m     \u001B[38;5;66;03m# GH#42228\u001B[39;00m\n\u001B[1;32m    535\u001B[0m     value \u001B[38;5;241m=\u001B[39m x\u001B[38;5;241m.\u001B[39mview(\u001B[38;5;124m\"\u001B[39m\u001B[38;5;124mi8\u001B[39m\u001B[38;5;124m\"\u001B[39m)\n\u001B[0;32m--> 536\u001B[0m     ts \u001B[38;5;241m=\u001B[39m \u001B[43mTimestamp\u001B[49m\u001B[38;5;241;43m.\u001B[39;49m\u001B[43m_from_value_and_reso\u001B[49m\u001B[43m(\u001B[49m\u001B[43mvalue\u001B[49m\u001B[43m,\u001B[49m\u001B[43m \u001B[49m\u001B[43mreso\u001B[49m\u001B[38;5;241;43m=\u001B[39;49m\u001B[38;5;28;43mself\u001B[39;49m\u001B[38;5;241;43m.\u001B[39;49m\u001B[43m_creso\u001B[49m\u001B[43m,\u001B[49m\u001B[43m \u001B[49m\u001B[43mtz\u001B[49m\u001B[38;5;241;43m=\u001B[39;49m\u001B[38;5;28;43mself\u001B[39;49m\u001B[38;5;241;43m.\u001B[39;49m\u001B[43mtz\u001B[49m\u001B[43m)\u001B[49m\n\u001B[1;32m    537\u001B[0m     \u001B[38;5;28;01mreturn\u001B[39;00m ts\n",
      "\u001B[0;31mKeyboardInterrupt\u001B[0m: "
     ]
    }
   ],
   "source": [
    "diff_res_volume = calculate_difference(daily_train[['Volume']], by = 'Volume', numbers = 21)\n",
    "\n",
    "f,ax = plt.subplots()\n",
    "ax.axhline(diff_res_volume['95% conf'].mean(), lw = 1, color = 'r', ls = '-.')\n",
    "diff_res_volume[['adfStat', 'corr']].plot(ax = ax, marker = 'X', secondary_y = 'corr')\n",
    "ax.set_title('Minimum d', fontsize = 12, fontfamily = 'Serif')\n",
    "ax.set_xlabel('d values')\n",
    "ax.set_ylabel('ADF Stats')\n",
    "ax.grid(False)\n",
    "display(diff_res_volume)"
   ]
  },
  {
   "cell_type": "markdown",
   "metadata": {},
   "source": [
    "- $d=0.35$ 부근에서 adf 통계량 값이 95% 유의수준에서 유의하다. 따라서 $d=0.35$으로 결정"
   ]
  },
  {
   "cell_type": "code",
   "execution_count": 20,
   "metadata": {
    "colab": {
     "base_uri": "https://localhost:8080/",
     "height": 648
    },
    "executionInfo": {
     "elapsed": 11884,
     "status": "ok",
     "timestamp": 1705412575862,
     "user": {
      "displayName": "­김한성 / 학생 / 자유전공학부",
      "userId": "17797246141634098402"
     },
     "user_tz": -540
    },
    "id": "clnZWlLURuSe",
    "outputId": "f333b777-5b59-4c15-8144-35fad90cd513",
    "ExecuteTime": {
     "end_time": "2024-01-18T13:26:01.552848Z",
     "start_time": "2024-01-18T13:25:58.445749Z"
    }
   },
   "outputs": [
    {
     "data": {
      "text/plain": "                  Open        High        Low      Close    Volume   Close_FD  \\\nDate                                                                            \n1962-01-02    0.000000    1.589844   1.578125   1.578125    902400        NaN   \n1962-01-03    0.000000    1.601563   1.578125   1.601563   1200000        NaN   \n1962-01-04    0.000000    1.613281   1.597656   1.605469   1088000        NaN   \n1962-01-05    0.000000    1.613281   1.566406   1.570313   1222400        NaN   \n1962-01-08    0.000000    1.582031   1.546875   1.566406   1388800        NaN   \n...                ...         ...        ...        ...       ...        ...   \n2024-01-10   99.800003   99.800003  98.160004  98.690002  18206100  10.168887   \n2024-01-11   99.040001   99.500000  98.559998  98.669998  15833400  10.587538   \n2024-01-12  100.139999  100.650002  99.169998  99.949997  18032100  12.084669   \n2024-01-16   99.820000  100.010002  97.529999  97.690002  20235700   9.646183   \n2024-01-17   96.599998   97.959999  96.580002  96.980003  18379000   9.485698   \n\n               Volume_FD  \nDate                      \n1962-01-02           NaN  \n1962-01-03           NaN  \n1962-01-04           NaN  \n1962-01-05           NaN  \n1962-01-08           NaN  \n...                  ...  \n2024-01-10 -8.731545e+05  \n2024-01-11 -2.630641e+06  \n2024-01-12  6.181401e+05  \n2024-01-16  2.446790e+06  \n2024-01-17 -1.983453e+05  \n\n[15617 rows x 7 columns]",
      "text/html": "<div>\n<style scoped>\n    .dataframe tbody tr th:only-of-type {\n        vertical-align: middle;\n    }\n\n    .dataframe tbody tr th {\n        vertical-align: top;\n    }\n\n    .dataframe thead th {\n        text-align: right;\n    }\n</style>\n<table border=\"1\" class=\"dataframe\">\n  <thead>\n    <tr style=\"text-align: right;\">\n      <th></th>\n      <th>Open</th>\n      <th>High</th>\n      <th>Low</th>\n      <th>Close</th>\n      <th>Volume</th>\n      <th>Close_FD</th>\n      <th>Volume_FD</th>\n    </tr>\n    <tr>\n      <th>Date</th>\n      <th></th>\n      <th></th>\n      <th></th>\n      <th></th>\n      <th></th>\n      <th></th>\n      <th></th>\n    </tr>\n  </thead>\n  <tbody>\n    <tr>\n      <th>1962-01-02</th>\n      <td>0.000000</td>\n      <td>1.589844</td>\n      <td>1.578125</td>\n      <td>1.578125</td>\n      <td>902400</td>\n      <td>NaN</td>\n      <td>NaN</td>\n    </tr>\n    <tr>\n      <th>1962-01-03</th>\n      <td>0.000000</td>\n      <td>1.601563</td>\n      <td>1.578125</td>\n      <td>1.601563</td>\n      <td>1200000</td>\n      <td>NaN</td>\n      <td>NaN</td>\n    </tr>\n    <tr>\n      <th>1962-01-04</th>\n      <td>0.000000</td>\n      <td>1.613281</td>\n      <td>1.597656</td>\n      <td>1.605469</td>\n      <td>1088000</td>\n      <td>NaN</td>\n      <td>NaN</td>\n    </tr>\n    <tr>\n      <th>1962-01-05</th>\n      <td>0.000000</td>\n      <td>1.613281</td>\n      <td>1.566406</td>\n      <td>1.570313</td>\n      <td>1222400</td>\n      <td>NaN</td>\n      <td>NaN</td>\n    </tr>\n    <tr>\n      <th>1962-01-08</th>\n      <td>0.000000</td>\n      <td>1.582031</td>\n      <td>1.546875</td>\n      <td>1.566406</td>\n      <td>1388800</td>\n      <td>NaN</td>\n      <td>NaN</td>\n    </tr>\n    <tr>\n      <th>...</th>\n      <td>...</td>\n      <td>...</td>\n      <td>...</td>\n      <td>...</td>\n      <td>...</td>\n      <td>...</td>\n      <td>...</td>\n    </tr>\n    <tr>\n      <th>2024-01-10</th>\n      <td>99.800003</td>\n      <td>99.800003</td>\n      <td>98.160004</td>\n      <td>98.690002</td>\n      <td>18206100</td>\n      <td>10.168887</td>\n      <td>-8.731545e+05</td>\n    </tr>\n    <tr>\n      <th>2024-01-11</th>\n      <td>99.040001</td>\n      <td>99.500000</td>\n      <td>98.559998</td>\n      <td>98.669998</td>\n      <td>15833400</td>\n      <td>10.587538</td>\n      <td>-2.630641e+06</td>\n    </tr>\n    <tr>\n      <th>2024-01-12</th>\n      <td>100.139999</td>\n      <td>100.650002</td>\n      <td>99.169998</td>\n      <td>99.949997</td>\n      <td>18032100</td>\n      <td>12.084669</td>\n      <td>6.181401e+05</td>\n    </tr>\n    <tr>\n      <th>2024-01-16</th>\n      <td>99.820000</td>\n      <td>100.010002</td>\n      <td>97.529999</td>\n      <td>97.690002</td>\n      <td>20235700</td>\n      <td>9.646183</td>\n      <td>2.446790e+06</td>\n    </tr>\n    <tr>\n      <th>2024-01-17</th>\n      <td>96.599998</td>\n      <td>97.959999</td>\n      <td>96.580002</td>\n      <td>96.980003</td>\n      <td>18379000</td>\n      <td>9.485698</td>\n      <td>-1.983453e+05</td>\n    </tr>\n  </tbody>\n</table>\n<p>15617 rows × 7 columns</p>\n</div>"
     },
     "execution_count": 20,
     "metadata": {},
     "output_type": "execute_result"
    }
   ],
   "source": [
    "daily_train['Volume_FD'] = FractionalDifferentiatedFeatures.fracDiff_FFD(daily_train[['Volume']], 0.35)\n",
    "daily_train"
   ]
  },
  {
   "cell_type": "markdown",
   "metadata": {},
   "source": [
    "### Add TA"
   ]
  },
  {
   "cell_type": "code",
   "execution_count": 21,
   "metadata": {
    "colab": {
     "base_uri": "https://localhost:8080/",
     "height": 373
    },
    "executionInfo": {
     "elapsed": 4995,
     "status": "ok",
     "timestamp": 1705412580854,
     "user": {
      "displayName": "­김한성 / 학생 / 자유전공학부",
      "userId": "17797246141634098402"
     },
     "user_tz": -540
    },
    "id": "MBpP2PRlRbmX",
    "outputId": "c3bef25f-a7d1-4acd-82b2-4ca1fb116f7b",
    "ExecuteTime": {
     "end_time": "2024-01-18T13:26:06.887087Z",
     "start_time": "2024-01-18T13:26:05.397098Z"
    }
   },
   "outputs": [
    {
     "data": {
      "text/plain": "            Open      High       Low     Close   Volume  Close_FD  Volume_FD  \\\nDate                                                                           \n1962-01-02   0.0  1.589844  1.578125  1.578125   902400       NaN        NaN   \n1962-01-03   0.0  1.601563  1.578125  1.601563  1200000       NaN        NaN   \n1962-01-04   0.0  1.613281  1.597656  1.605469  1088000       NaN        NaN   \n1962-01-05   0.0  1.613281  1.566406  1.570313  1222400       NaN        NaN   \n1962-01-08   0.0  1.582031  1.546875  1.566406  1388800       NaN        NaN   \n\n               volume_adi  volume_obv  volume_cmf  ...  momentum_ppo  \\\nDate                                               ...                 \n1962-01-02 -902400.000000      902400   -1.000000  ...      0.000000   \n1962-01-03  297600.000000     2102400    0.141553  ...      0.118346   \n1962-01-04  297666.406250     3190400    0.093301  ...      0.229165   \n1962-01-05 -720962.955729     1968000   -0.163380  ...      0.136262   \n1962-01-08 -566660.216588      579200   -0.097673  ...      0.042139   \n\n            momentum_ppo_signal  momentum_ppo_hist  momentum_pvo  \\\nDate                                                               \n1962-01-02             0.000000           0.000000      0.000000   \n1962-01-03             0.023669           0.094676      2.568047   \n1962-01-04             0.064768           0.164397      3.537949   \n1962-01-05             0.079067           0.057195      5.308305   \n1962-01-08             0.071682          -0.029542      7.821347   \n\n            momentum_pvo_signal  momentum_pvo_hist  momentum_kama  others_dr  \\\nDate                                                                           \n1962-01-02             0.000000           0.000000       1.578125   0.000000   \n1962-01-03             0.513609           2.054438       1.589612   1.485179   \n1962-01-04             1.118477           2.419472       1.597426   0.243887   \n1962-01-05             1.956443           3.351862       1.584473  -2.189766   \n1962-01-08             3.129424           4.691924       1.576038  -0.248802   \n\n            others_dlr  others_cr  \nDate                               \n1962-01-02    0.000000   0.000000  \n1962-01-03    1.474258   1.485179  \n1962-01-04    0.243591   1.732688  \n1962-01-05   -2.214097  -0.495019  \n1962-01-08   -0.249112  -0.742589  \n\n[5 rows x 93 columns]",
      "text/html": "<div>\n<style scoped>\n    .dataframe tbody tr th:only-of-type {\n        vertical-align: middle;\n    }\n\n    .dataframe tbody tr th {\n        vertical-align: top;\n    }\n\n    .dataframe thead th {\n        text-align: right;\n    }\n</style>\n<table border=\"1\" class=\"dataframe\">\n  <thead>\n    <tr style=\"text-align: right;\">\n      <th></th>\n      <th>Open</th>\n      <th>High</th>\n      <th>Low</th>\n      <th>Close</th>\n      <th>Volume</th>\n      <th>Close_FD</th>\n      <th>Volume_FD</th>\n      <th>volume_adi</th>\n      <th>volume_obv</th>\n      <th>volume_cmf</th>\n      <th>...</th>\n      <th>momentum_ppo</th>\n      <th>momentum_ppo_signal</th>\n      <th>momentum_ppo_hist</th>\n      <th>momentum_pvo</th>\n      <th>momentum_pvo_signal</th>\n      <th>momentum_pvo_hist</th>\n      <th>momentum_kama</th>\n      <th>others_dr</th>\n      <th>others_dlr</th>\n      <th>others_cr</th>\n    </tr>\n    <tr>\n      <th>Date</th>\n      <th></th>\n      <th></th>\n      <th></th>\n      <th></th>\n      <th></th>\n      <th></th>\n      <th></th>\n      <th></th>\n      <th></th>\n      <th></th>\n      <th></th>\n      <th></th>\n      <th></th>\n      <th></th>\n      <th></th>\n      <th></th>\n      <th></th>\n      <th></th>\n      <th></th>\n      <th></th>\n      <th></th>\n    </tr>\n  </thead>\n  <tbody>\n    <tr>\n      <th>1962-01-02</th>\n      <td>0.0</td>\n      <td>1.589844</td>\n      <td>1.578125</td>\n      <td>1.578125</td>\n      <td>902400</td>\n      <td>NaN</td>\n      <td>NaN</td>\n      <td>-902400.000000</td>\n      <td>902400</td>\n      <td>-1.000000</td>\n      <td>...</td>\n      <td>0.000000</td>\n      <td>0.000000</td>\n      <td>0.000000</td>\n      <td>0.000000</td>\n      <td>0.000000</td>\n      <td>0.000000</td>\n      <td>1.578125</td>\n      <td>0.000000</td>\n      <td>0.000000</td>\n      <td>0.000000</td>\n    </tr>\n    <tr>\n      <th>1962-01-03</th>\n      <td>0.0</td>\n      <td>1.601563</td>\n      <td>1.578125</td>\n      <td>1.601563</td>\n      <td>1200000</td>\n      <td>NaN</td>\n      <td>NaN</td>\n      <td>297600.000000</td>\n      <td>2102400</td>\n      <td>0.141553</td>\n      <td>...</td>\n      <td>0.118346</td>\n      <td>0.023669</td>\n      <td>0.094676</td>\n      <td>2.568047</td>\n      <td>0.513609</td>\n      <td>2.054438</td>\n      <td>1.589612</td>\n      <td>1.485179</td>\n      <td>1.474258</td>\n      <td>1.485179</td>\n    </tr>\n    <tr>\n      <th>1962-01-04</th>\n      <td>0.0</td>\n      <td>1.613281</td>\n      <td>1.597656</td>\n      <td>1.605469</td>\n      <td>1088000</td>\n      <td>NaN</td>\n      <td>NaN</td>\n      <td>297666.406250</td>\n      <td>3190400</td>\n      <td>0.093301</td>\n      <td>...</td>\n      <td>0.229165</td>\n      <td>0.064768</td>\n      <td>0.164397</td>\n      <td>3.537949</td>\n      <td>1.118477</td>\n      <td>2.419472</td>\n      <td>1.597426</td>\n      <td>0.243887</td>\n      <td>0.243591</td>\n      <td>1.732688</td>\n    </tr>\n    <tr>\n      <th>1962-01-05</th>\n      <td>0.0</td>\n      <td>1.613281</td>\n      <td>1.566406</td>\n      <td>1.570313</td>\n      <td>1222400</td>\n      <td>NaN</td>\n      <td>NaN</td>\n      <td>-720962.955729</td>\n      <td>1968000</td>\n      <td>-0.163380</td>\n      <td>...</td>\n      <td>0.136262</td>\n      <td>0.079067</td>\n      <td>0.057195</td>\n      <td>5.308305</td>\n      <td>1.956443</td>\n      <td>3.351862</td>\n      <td>1.584473</td>\n      <td>-2.189766</td>\n      <td>-2.214097</td>\n      <td>-0.495019</td>\n    </tr>\n    <tr>\n      <th>1962-01-08</th>\n      <td>0.0</td>\n      <td>1.582031</td>\n      <td>1.546875</td>\n      <td>1.566406</td>\n      <td>1388800</td>\n      <td>NaN</td>\n      <td>NaN</td>\n      <td>-566660.216588</td>\n      <td>579200</td>\n      <td>-0.097673</td>\n      <td>...</td>\n      <td>0.042139</td>\n      <td>0.071682</td>\n      <td>-0.029542</td>\n      <td>7.821347</td>\n      <td>3.129424</td>\n      <td>4.691924</td>\n      <td>1.576038</td>\n      <td>-0.248802</td>\n      <td>-0.249112</td>\n      <td>-0.742589</td>\n    </tr>\n  </tbody>\n</table>\n<p>5 rows × 93 columns</p>\n</div>"
     },
     "execution_count": 21,
     "metadata": {},
     "output_type": "execute_result"
    }
   ],
   "source": [
    "daily_train = ta.add_all_ta_features(\n",
    "    daily_train, open=\"Open\", high=\"High\", low=\"Low\", close=\"Close\", volume=\"Volume\", fillna=True\n",
    ")\n",
    "\n",
    "daily_train.head()"
   ]
  },
  {
   "cell_type": "code",
   "execution_count": 22,
   "metadata": {
    "colab": {
     "base_uri": "https://localhost:8080/"
    },
    "executionInfo": {
     "elapsed": 4,
     "status": "ok",
     "timestamp": 1705413303215,
     "user": {
      "displayName": "­김한성 / 학생 / 자유전공학부",
      "userId": "17797246141634098402"
     },
     "user_tz": -540
    },
    "id": "MbkODt_zgGww",
    "outputId": "364c544b-d9f4-4d52-a6ce-9efca92a95d9",
    "ExecuteTime": {
     "end_time": "2024-01-18T13:26:08.056421Z",
     "start_time": "2024-01-18T13:26:08.021252Z"
    }
   },
   "outputs": [
    {
     "data": {
      "text/plain": "Index(['Open', 'High', 'Low', 'Close', 'Volume', 'Close_FD', 'Volume_FD',\n       'volume_adi', 'volume_obv', 'volume_cmf', 'volume_fi', 'volume_em',\n       'volume_sma_em', 'volume_vpt', 'volume_vwap', 'volume_mfi',\n       'volume_nvi', 'volatility_bbm', 'volatility_bbh', 'volatility_bbl',\n       'volatility_bbw', 'volatility_bbp', 'volatility_bbhi',\n       'volatility_bbli', 'volatility_kcc', 'volatility_kch', 'volatility_kcl',\n       'volatility_kcw', 'volatility_kcp', 'volatility_kchi',\n       'volatility_kcli', 'volatility_dcl', 'volatility_dch', 'volatility_dcm',\n       'volatility_dcw', 'volatility_dcp', 'volatility_atr', 'volatility_ui',\n       'trend_macd', 'trend_macd_signal', 'trend_macd_diff', 'trend_sma_fast',\n       'trend_sma_slow', 'trend_ema_fast', 'trend_ema_slow',\n       'trend_vortex_ind_pos', 'trend_vortex_ind_neg', 'trend_vortex_ind_diff',\n       'trend_trix', 'trend_mass_index', 'trend_dpo', 'trend_kst',\n       'trend_kst_sig', 'trend_kst_diff', 'trend_ichimoku_conv',\n       'trend_ichimoku_base', 'trend_ichimoku_a', 'trend_ichimoku_b',\n       'trend_stc', 'trend_adx', 'trend_adx_pos', 'trend_adx_neg', 'trend_cci',\n       'trend_visual_ichimoku_a', 'trend_visual_ichimoku_b', 'trend_aroon_up',\n       'trend_aroon_down', 'trend_aroon_ind', 'trend_psar_up',\n       'trend_psar_down', 'trend_psar_up_indicator',\n       'trend_psar_down_indicator', 'momentum_rsi', 'momentum_stoch_rsi',\n       'momentum_stoch_rsi_k', 'momentum_stoch_rsi_d', 'momentum_tsi',\n       'momentum_uo', 'momentum_stoch', 'momentum_stoch_signal', 'momentum_wr',\n       'momentum_ao', 'momentum_roc', 'momentum_ppo', 'momentum_ppo_signal',\n       'momentum_ppo_hist', 'momentum_pvo', 'momentum_pvo_signal',\n       'momentum_pvo_hist', 'momentum_kama', 'others_dr', 'others_dlr',\n       'others_cr'],\n      dtype='object')"
     },
     "execution_count": 22,
     "metadata": {},
     "output_type": "execute_result"
    }
   ],
   "source": [
    "daily_train.columns"
   ]
  },
  {
   "cell_type": "markdown",
   "metadata": {},
   "source": [
    "`ta.add_all_ta_features()`의 볼린저밴드에서 `window_dev` 매개변수의 기본값이 2이므로 1로 바꿔주자. 볼린저 밴드의 hband, lband, hband indicator, lband indicator, moving average는 labeling을 위해 필요하므로 아래와 같이 바꿔주고 그외의 ta feature들은 default 세팅으로 놓자."
   ]
  },
  {
   "cell_type": "code",
   "execution_count": 23,
   "metadata": {
    "ExecuteTime": {
     "end_time": "2024-01-18T13:26:11.952043Z",
     "start_time": "2024-01-18T13:26:11.934019Z"
    }
   },
   "outputs": [],
   "source": [
    "from ta.volatility import BollingerBands\n",
    "indicator_bb = BollingerBands(close = daily_train[\"Close\"], window = 20, window_dev = 1)\n",
    "\n",
    "daily_train['volatility_bbh'] = indicator_bb.bollinger_hband()\n",
    "daily_train['volatility_bbl'] = indicator_bb.bollinger_lband()\n",
    "daily_train['volatility_bbhi'] = indicator_bb.bollinger_hband_indicator()\n",
    "daily_train['volatility_bbli'] = indicator_bb.bollinger_lband_indicator()\n"
   ]
  },
  {
   "cell_type": "markdown",
   "metadata": {},
   "source": [
    "### Labeling (Binary)"
   ]
  },
  {
   "cell_type": "markdown",
   "metadata": {},
   "source": [
    "올려주신 Daily_data.ipynb 파일처럼 meta labeling 수행."
   ]
  },
  {
   "cell_type": "code",
   "execution_count": 24,
   "metadata": {
    "executionInfo": {
     "elapsed": 392,
     "status": "ok",
     "timestamp": 1705413677818,
     "user": {
      "displayName": "­김한성 / 학생 / 자유전공학부",
      "userId": "17797246141634098402"
     },
     "user_tz": -540
    },
    "id": "L38oOeAHh7Go",
    "ExecuteTime": {
     "end_time": "2024-01-18T13:26:16.317354Z",
     "start_time": "2024-01-18T13:26:16.297213Z"
    }
   },
   "outputs": [],
   "source": [
    "daily_train['label'] = 1 * daily_train['volatility_bbhi']- 1 * daily_train['volatility_bbli']"
   ]
  },
  {
   "cell_type": "code",
   "execution_count": 25,
   "metadata": {
    "executionInfo": {
     "elapsed": 450,
     "status": "ok",
     "timestamp": 1705413779723,
     "user": {
      "displayName": "­김한성 / 학생 / 자유전공학부",
      "userId": "17797246141634098402"
     },
     "user_tz": -540
    },
    "id": "pWDgdJkZkFnv",
    "ExecuteTime": {
     "end_time": "2024-01-18T13:26:16.880603Z",
     "start_time": "2024-01-18T13:26:16.873784Z"
    }
   },
   "outputs": [],
   "source": [
    "daily_train['meta_label'] = daily_train['label'].apply(abs)"
   ]
  },
  {
   "cell_type": "code",
   "execution_count": 26,
   "metadata": {
    "colab": {
     "base_uri": "https://localhost:8080/"
    },
    "executionInfo": {
     "elapsed": 650,
     "status": "ok",
     "timestamp": 1705413788243,
     "user": {
      "displayName": "­김한성 / 학생 / 자유전공학부",
      "userId": "17797246141634098402"
     },
     "user_tz": -540
    },
    "id": "7_dHcgoUimP6",
    "outputId": "d9a58c87-c2cd-4515-a623-de8ff7b9d847",
    "scrolled": true,
    "ExecuteTime": {
     "end_time": "2024-01-18T13:26:17.388285Z",
     "start_time": "2024-01-18T13:26:17.341448Z"
    }
   },
   "outputs": [
    {
     "name": "stdout",
     "output_type": "stream",
     "text": [
      "<class 'pandas.core.frame.DataFrame'>\n",
      "DatetimeIndex: 15617 entries, 1962-01-02 to 2024-01-17\n",
      "Data columns (total 95 columns):\n",
      " #   Column                     Non-Null Count  Dtype   \n",
      "---  ------                     --------------  -----   \n",
      " 0   Open                       15617 non-null  float64 \n",
      " 1   High                       15617 non-null  float64 \n",
      " 2   Low                        15617 non-null  float64 \n",
      " 3   Close                      15617 non-null  float64 \n",
      " 4   Volume                     15617 non-null  int64   \n",
      " 5   Close_FD                   12814 non-null  float64 \n",
      " 6   Volume_FD                  13792 non-null  float64 \n",
      " 7   volume_adi                 15617 non-null  float64 \n",
      " 8   volume_obv                 15617 non-null  int64   \n",
      " 9   volume_cmf                 15617 non-null  float64 \n",
      " 10  volume_fi                  15617 non-null  float64 \n",
      " 11  volume_em                  15617 non-null  float64 \n",
      " 12  volume_sma_em              15617 non-null  float64 \n",
      " 13  volume_vpt                 15617 non-null  float64 \n",
      " 14  volume_vwap                15617 non-null  float64 \n",
      " 15  volume_mfi                 15617 non-null  float64 \n",
      " 16  volume_nvi                 15617 non-null  float64 \n",
      " 17  volatility_bbm             15617 non-null  float64 \n",
      " 18  volatility_bbh             15598 non-null  float64 \n",
      " 19  volatility_bbl             15598 non-null  float64 \n",
      " 20  volatility_bbw             15617 non-null  float64 \n",
      " 21  volatility_bbp             15617 non-null  float64 \n",
      " 22  volatility_bbhi            15617 non-null  category\n",
      " 23  volatility_bbli            15617 non-null  category\n",
      " 24  volatility_kcc             15617 non-null  float64 \n",
      " 25  volatility_kch             15617 non-null  float64 \n",
      " 26  volatility_kcl             15617 non-null  float64 \n",
      " 27  volatility_kcw             15617 non-null  float64 \n",
      " 28  volatility_kcp             15617 non-null  float64 \n",
      " 29  volatility_kchi            15617 non-null  category\n",
      " 30  volatility_kcli            15617 non-null  category\n",
      " 31  volatility_dcl             15617 non-null  float64 \n",
      " 32  volatility_dch             15617 non-null  float64 \n",
      " 33  volatility_dcm             15617 non-null  float64 \n",
      " 34  volatility_dcw             15617 non-null  float64 \n",
      " 35  volatility_dcp             15617 non-null  float64 \n",
      " 36  volatility_atr             15617 non-null  float64 \n",
      " 37  volatility_ui              15617 non-null  float64 \n",
      " 38  trend_macd                 15617 non-null  float64 \n",
      " 39  trend_macd_signal          15617 non-null  float64 \n",
      " 40  trend_macd_diff            15617 non-null  float64 \n",
      " 41  trend_sma_fast             15617 non-null  float64 \n",
      " 42  trend_sma_slow             15617 non-null  float64 \n",
      " 43  trend_ema_fast             15617 non-null  float64 \n",
      " 44  trend_ema_slow             15617 non-null  float64 \n",
      " 45  trend_vortex_ind_pos       15617 non-null  float64 \n",
      " 46  trend_vortex_ind_neg       15617 non-null  float64 \n",
      " 47  trend_vortex_ind_diff      15617 non-null  float64 \n",
      " 48  trend_trix                 15617 non-null  float64 \n",
      " 49  trend_mass_index           15617 non-null  float64 \n",
      " 50  trend_dpo                  15617 non-null  float64 \n",
      " 51  trend_kst                  15617 non-null  float64 \n",
      " 52  trend_kst_sig              15617 non-null  float64 \n",
      " 53  trend_kst_diff             15617 non-null  float64 \n",
      " 54  trend_ichimoku_conv        15617 non-null  float64 \n",
      " 55  trend_ichimoku_base        15617 non-null  float64 \n",
      " 56  trend_ichimoku_a           15617 non-null  float64 \n",
      " 57  trend_ichimoku_b           15617 non-null  float64 \n",
      " 58  trend_stc                  15617 non-null  float64 \n",
      " 59  trend_adx                  15617 non-null  float64 \n",
      " 60  trend_adx_pos              15617 non-null  float64 \n",
      " 61  trend_adx_neg              15617 non-null  float64 \n",
      " 62  trend_cci                  15617 non-null  float64 \n",
      " 63  trend_visual_ichimoku_a    15617 non-null  float64 \n",
      " 64  trend_visual_ichimoku_b    15617 non-null  float64 \n",
      " 65  trend_aroon_up             15617 non-null  float64 \n",
      " 66  trend_aroon_down           15617 non-null  float64 \n",
      " 67  trend_aroon_ind            15617 non-null  float64 \n",
      " 68  trend_psar_up              15617 non-null  float64 \n",
      " 69  trend_psar_down            15617 non-null  float64 \n",
      " 70  trend_psar_up_indicator    15617 non-null  category\n",
      " 71  trend_psar_down_indicator  15617 non-null  category\n",
      " 72  momentum_rsi               15617 non-null  float64 \n",
      " 73  momentum_stoch_rsi         15617 non-null  float64 \n",
      " 74  momentum_stoch_rsi_k       15617 non-null  float64 \n",
      " 75  momentum_stoch_rsi_d       15617 non-null  float64 \n",
      " 76  momentum_tsi               15617 non-null  float64 \n",
      " 77  momentum_uo                15617 non-null  float64 \n",
      " 78  momentum_stoch             15617 non-null  float64 \n",
      " 79  momentum_stoch_signal      15617 non-null  float64 \n",
      " 80  momentum_wr                15617 non-null  float64 \n",
      " 81  momentum_ao                15617 non-null  float64 \n",
      " 82  momentum_roc               15617 non-null  float64 \n",
      " 83  momentum_ppo               15617 non-null  float64 \n",
      " 84  momentum_ppo_signal        15617 non-null  float64 \n",
      " 85  momentum_ppo_hist          15617 non-null  float64 \n",
      " 86  momentum_pvo               15617 non-null  float64 \n",
      " 87  momentum_pvo_signal        15617 non-null  float64 \n",
      " 88  momentum_pvo_hist          15617 non-null  float64 \n",
      " 89  momentum_kama              15617 non-null  float64 \n",
      " 90  others_dr                  15617 non-null  float64 \n",
      " 91  others_dlr                 15617 non-null  float64 \n",
      " 92  others_cr                  15617 non-null  float64 \n",
      " 93  label                      15617 non-null  category\n",
      " 94  meta_label                 15617 non-null  category\n",
      "dtypes: category(8), float64(85), int64(2)\n",
      "memory usage: 11.1 MB\n"
     ]
    }
   ],
   "source": [
    "daily_train = daily_train.apply(lambda x : x.astype('category') if x.nunique() <= 4 else x)\n",
    "daily_train.info()"
   ]
  },
  {
   "cell_type": "markdown",
   "metadata": {},
   "source": [
    "`meta_label`을 분류를 위해 사용하자. labeling에 사용된 볼린저 밴드 관련 feature들과 `label` 열은 제거하자."
   ]
  },
  {
   "cell_type": "code",
   "execution_count": 27,
   "metadata": {
    "colab": {
     "base_uri": "https://localhost:8080/",
     "height": 648
    },
    "executionInfo": {
     "elapsed": 16,
     "status": "ok",
     "timestamp": 1705421636198,
     "user": {
      "displayName": "­김한성 / 학생 / 자유전공학부",
      "userId": "17797246141634098402"
     },
     "user_tz": -540
    },
    "id": "FXcUZj3slXQY",
    "outputId": "6a58ad0b-811e-4dc9-cb64-815d82c6c7db",
    "ExecuteTime": {
     "end_time": "2024-01-18T13:26:23.833736Z",
     "start_time": "2024-01-18T13:26:23.802888Z"
    }
   },
   "outputs": [
    {
     "data": {
      "text/plain": "             Close_FD     Volume_FD    volume_adi  volume_obv  volume_cmf  \\\nDate                                                                        \n1962-01-02        NaN           NaN -9.024000e+05      902400   -1.000000   \n1962-01-03        NaN           NaN  2.976000e+05     2102400    0.141553   \n1962-01-04        NaN           NaN  2.976664e+05     3190400    0.093301   \n1962-01-05        NaN           NaN -7.209630e+05     1968000   -0.163380   \n1962-01-08        NaN           NaN -5.666602e+05      579200   -0.097673   \n...               ...           ...           ...         ...         ...   \n2024-01-10  10.168887 -8.731545e+05  4.973741e+09  4884345600    0.021805   \n2024-01-11  10.587538 -2.630641e+06  4.961614e+09  4868512200   -0.003443   \n2024-01-12  12.084669  6.181401e+05  4.962588e+09  4886544300   -0.041124   \n2024-01-16   9.646183  2.446790e+06  4.944964e+09  4866308600   -0.118605   \n2024-01-17   9.485698 -1.983453e+05  4.937239e+09  4847929600   -0.256129   \n\n               volume_fi  volume_em  volume_sma_em    volume_vpt  volume_vwap  \\\nDate                                                                            \n1962-01-02  0.000000e+00   0.000000       0.000000  0.000000e+00     1.582031   \n1962-01-03  2.812557e+04   0.011445       0.011445  1.782214e+04     1.588720   \n1962-01-04  2.471474e+04   0.022439       0.016942  2.047564e+04     1.594432   \n1962-01-05  1.504482e+04  -0.059917      -0.008678 -6.292057e+03     1.591357   \n1962-01-08  1.212042e+04  -0.064273      -0.022577 -9.747415e+03     1.585073   \n...                  ...        ...            ...           ...          ...   \n2024-01-10 -7.500912e+06 -11.350023      -1.596353  3.277697e+07   101.473468   \n2024-01-11 -6.474601e+06   0.296814      -1.618183  3.277376e+07   101.263064   \n2024-01-12 -2.252363e+06   7.222700      -0.601370  3.300769e+07   101.149412   \n2024-01-16 -8.463821e+06 -13.971359      -2.199862  3.255013e+07   100.885705   \n2024-01-17 -9.118857e+06 -11.262832      -3.079639  3.241655e+07   100.529289   \n\n            ...  momentum_ppo_signal  momentum_ppo_hist  momentum_pvo  \\\nDate        ...                                                         \n1962-01-02  ...             0.000000           0.000000      0.000000   \n1962-01-03  ...             0.023669           0.094676      2.568047   \n1962-01-04  ...             0.064768           0.164397      3.537949   \n1962-01-05  ...             0.079067           0.057195      5.308305   \n1962-01-08  ...             0.071682          -0.029542      7.821347   \n...         ...                  ...                ...           ...   \n2024-01-10  ...            -0.499446          -0.079266     -4.161864   \n2024-01-11  ...            -0.543216          -0.175082     -5.515003   \n2024-01-12  ...            -0.578273          -0.140226     -5.642916   \n2024-01-16  ...            -0.640674          -0.249604     -4.772211   \n2024-01-17  ...            -0.727036          -0.345449     -4.800432   \n\n            momentum_pvo_signal  momentum_pvo_hist  momentum_kama  others_dr  \\\nDate                                                                           \n1962-01-02             0.000000           0.000000       1.578125   0.000000   \n1962-01-03             0.513609           2.054438       1.589612   1.485179   \n1962-01-04             1.118477           2.419472       1.597426   0.243887   \n1962-01-05             1.956443           3.351862       1.584473  -2.189766   \n1962-01-08             3.129424           4.691924       1.576038  -0.248802   \n...                         ...                ...            ...        ...   \n2024-01-10            -3.541948          -0.619916     100.793193  -0.983240   \n2024-01-11            -3.936559          -1.578444     100.667868  -0.020270   \n2024-01-12            -4.277830          -1.365086     100.663375   1.297252   \n2024-01-16            -4.376706          -0.395505     100.567137  -2.261125   \n2024-01-17            -4.461451          -0.338981     100.050110  -0.726788   \n\n           others_dlr    others_cr  meta_label  \nDate                                            \n1962-01-02   0.000000     0.000000         0.0  \n1962-01-03   1.474258     1.485179         0.0  \n1962-01-04   0.243591     1.732688         0.0  \n1962-01-05  -2.214097    -0.495019         0.0  \n1962-01-08  -0.249112    -0.742589         0.0  \n...               ...          ...         ...  \n2024-01-10  -0.988106  6153.623917         1.0  \n2024-01-11  -0.020272  6152.356320         1.0  \n2024-01-12   1.288910  6233.465153         0.0  \n2024-01-16  -2.287081  6090.257580         1.0  \n2024-01-17  -0.729442  6045.267539         1.0  \n\n[15617 rows x 82 columns]",
      "text/html": "<div>\n<style scoped>\n    .dataframe tbody tr th:only-of-type {\n        vertical-align: middle;\n    }\n\n    .dataframe tbody tr th {\n        vertical-align: top;\n    }\n\n    .dataframe thead th {\n        text-align: right;\n    }\n</style>\n<table border=\"1\" class=\"dataframe\">\n  <thead>\n    <tr style=\"text-align: right;\">\n      <th></th>\n      <th>Close_FD</th>\n      <th>Volume_FD</th>\n      <th>volume_adi</th>\n      <th>volume_obv</th>\n      <th>volume_cmf</th>\n      <th>volume_fi</th>\n      <th>volume_em</th>\n      <th>volume_sma_em</th>\n      <th>volume_vpt</th>\n      <th>volume_vwap</th>\n      <th>...</th>\n      <th>momentum_ppo_signal</th>\n      <th>momentum_ppo_hist</th>\n      <th>momentum_pvo</th>\n      <th>momentum_pvo_signal</th>\n      <th>momentum_pvo_hist</th>\n      <th>momentum_kama</th>\n      <th>others_dr</th>\n      <th>others_dlr</th>\n      <th>others_cr</th>\n      <th>meta_label</th>\n    </tr>\n    <tr>\n      <th>Date</th>\n      <th></th>\n      <th></th>\n      <th></th>\n      <th></th>\n      <th></th>\n      <th></th>\n      <th></th>\n      <th></th>\n      <th></th>\n      <th></th>\n      <th></th>\n      <th></th>\n      <th></th>\n      <th></th>\n      <th></th>\n      <th></th>\n      <th></th>\n      <th></th>\n      <th></th>\n      <th></th>\n      <th></th>\n    </tr>\n  </thead>\n  <tbody>\n    <tr>\n      <th>1962-01-02</th>\n      <td>NaN</td>\n      <td>NaN</td>\n      <td>-9.024000e+05</td>\n      <td>902400</td>\n      <td>-1.000000</td>\n      <td>0.000000e+00</td>\n      <td>0.000000</td>\n      <td>0.000000</td>\n      <td>0.000000e+00</td>\n      <td>1.582031</td>\n      <td>...</td>\n      <td>0.000000</td>\n      <td>0.000000</td>\n      <td>0.000000</td>\n      <td>0.000000</td>\n      <td>0.000000</td>\n      <td>1.578125</td>\n      <td>0.000000</td>\n      <td>0.000000</td>\n      <td>0.000000</td>\n      <td>0.0</td>\n    </tr>\n    <tr>\n      <th>1962-01-03</th>\n      <td>NaN</td>\n      <td>NaN</td>\n      <td>2.976000e+05</td>\n      <td>2102400</td>\n      <td>0.141553</td>\n      <td>2.812557e+04</td>\n      <td>0.011445</td>\n      <td>0.011445</td>\n      <td>1.782214e+04</td>\n      <td>1.588720</td>\n      <td>...</td>\n      <td>0.023669</td>\n      <td>0.094676</td>\n      <td>2.568047</td>\n      <td>0.513609</td>\n      <td>2.054438</td>\n      <td>1.589612</td>\n      <td>1.485179</td>\n      <td>1.474258</td>\n      <td>1.485179</td>\n      <td>0.0</td>\n    </tr>\n    <tr>\n      <th>1962-01-04</th>\n      <td>NaN</td>\n      <td>NaN</td>\n      <td>2.976664e+05</td>\n      <td>3190400</td>\n      <td>0.093301</td>\n      <td>2.471474e+04</td>\n      <td>0.022439</td>\n      <td>0.016942</td>\n      <td>2.047564e+04</td>\n      <td>1.594432</td>\n      <td>...</td>\n      <td>0.064768</td>\n      <td>0.164397</td>\n      <td>3.537949</td>\n      <td>1.118477</td>\n      <td>2.419472</td>\n      <td>1.597426</td>\n      <td>0.243887</td>\n      <td>0.243591</td>\n      <td>1.732688</td>\n      <td>0.0</td>\n    </tr>\n    <tr>\n      <th>1962-01-05</th>\n      <td>NaN</td>\n      <td>NaN</td>\n      <td>-7.209630e+05</td>\n      <td>1968000</td>\n      <td>-0.163380</td>\n      <td>1.504482e+04</td>\n      <td>-0.059917</td>\n      <td>-0.008678</td>\n      <td>-6.292057e+03</td>\n      <td>1.591357</td>\n      <td>...</td>\n      <td>0.079067</td>\n      <td>0.057195</td>\n      <td>5.308305</td>\n      <td>1.956443</td>\n      <td>3.351862</td>\n      <td>1.584473</td>\n      <td>-2.189766</td>\n      <td>-2.214097</td>\n      <td>-0.495019</td>\n      <td>0.0</td>\n    </tr>\n    <tr>\n      <th>1962-01-08</th>\n      <td>NaN</td>\n      <td>NaN</td>\n      <td>-5.666602e+05</td>\n      <td>579200</td>\n      <td>-0.097673</td>\n      <td>1.212042e+04</td>\n      <td>-0.064273</td>\n      <td>-0.022577</td>\n      <td>-9.747415e+03</td>\n      <td>1.585073</td>\n      <td>...</td>\n      <td>0.071682</td>\n      <td>-0.029542</td>\n      <td>7.821347</td>\n      <td>3.129424</td>\n      <td>4.691924</td>\n      <td>1.576038</td>\n      <td>-0.248802</td>\n      <td>-0.249112</td>\n      <td>-0.742589</td>\n      <td>0.0</td>\n    </tr>\n    <tr>\n      <th>...</th>\n      <td>...</td>\n      <td>...</td>\n      <td>...</td>\n      <td>...</td>\n      <td>...</td>\n      <td>...</td>\n      <td>...</td>\n      <td>...</td>\n      <td>...</td>\n      <td>...</td>\n      <td>...</td>\n      <td>...</td>\n      <td>...</td>\n      <td>...</td>\n      <td>...</td>\n      <td>...</td>\n      <td>...</td>\n      <td>...</td>\n      <td>...</td>\n      <td>...</td>\n      <td>...</td>\n    </tr>\n    <tr>\n      <th>2024-01-10</th>\n      <td>10.168887</td>\n      <td>-8.731545e+05</td>\n      <td>4.973741e+09</td>\n      <td>4884345600</td>\n      <td>0.021805</td>\n      <td>-7.500912e+06</td>\n      <td>-11.350023</td>\n      <td>-1.596353</td>\n      <td>3.277697e+07</td>\n      <td>101.473468</td>\n      <td>...</td>\n      <td>-0.499446</td>\n      <td>-0.079266</td>\n      <td>-4.161864</td>\n      <td>-3.541948</td>\n      <td>-0.619916</td>\n      <td>100.793193</td>\n      <td>-0.983240</td>\n      <td>-0.988106</td>\n      <td>6153.623917</td>\n      <td>1.0</td>\n    </tr>\n    <tr>\n      <th>2024-01-11</th>\n      <td>10.587538</td>\n      <td>-2.630641e+06</td>\n      <td>4.961614e+09</td>\n      <td>4868512200</td>\n      <td>-0.003443</td>\n      <td>-6.474601e+06</td>\n      <td>0.296814</td>\n      <td>-1.618183</td>\n      <td>3.277376e+07</td>\n      <td>101.263064</td>\n      <td>...</td>\n      <td>-0.543216</td>\n      <td>-0.175082</td>\n      <td>-5.515003</td>\n      <td>-3.936559</td>\n      <td>-1.578444</td>\n      <td>100.667868</td>\n      <td>-0.020270</td>\n      <td>-0.020272</td>\n      <td>6152.356320</td>\n      <td>1.0</td>\n    </tr>\n    <tr>\n      <th>2024-01-12</th>\n      <td>12.084669</td>\n      <td>6.181401e+05</td>\n      <td>4.962588e+09</td>\n      <td>4886544300</td>\n      <td>-0.041124</td>\n      <td>-2.252363e+06</td>\n      <td>7.222700</td>\n      <td>-0.601370</td>\n      <td>3.300769e+07</td>\n      <td>101.149412</td>\n      <td>...</td>\n      <td>-0.578273</td>\n      <td>-0.140226</td>\n      <td>-5.642916</td>\n      <td>-4.277830</td>\n      <td>-1.365086</td>\n      <td>100.663375</td>\n      <td>1.297252</td>\n      <td>1.288910</td>\n      <td>6233.465153</td>\n      <td>0.0</td>\n    </tr>\n    <tr>\n      <th>2024-01-16</th>\n      <td>9.646183</td>\n      <td>2.446790e+06</td>\n      <td>4.944964e+09</td>\n      <td>4866308600</td>\n      <td>-0.118605</td>\n      <td>-8.463821e+06</td>\n      <td>-13.971359</td>\n      <td>-2.199862</td>\n      <td>3.255013e+07</td>\n      <td>100.885705</td>\n      <td>...</td>\n      <td>-0.640674</td>\n      <td>-0.249604</td>\n      <td>-4.772211</td>\n      <td>-4.376706</td>\n      <td>-0.395505</td>\n      <td>100.567137</td>\n      <td>-2.261125</td>\n      <td>-2.287081</td>\n      <td>6090.257580</td>\n      <td>1.0</td>\n    </tr>\n    <tr>\n      <th>2024-01-17</th>\n      <td>9.485698</td>\n      <td>-1.983453e+05</td>\n      <td>4.937239e+09</td>\n      <td>4847929600</td>\n      <td>-0.256129</td>\n      <td>-9.118857e+06</td>\n      <td>-11.262832</td>\n      <td>-3.079639</td>\n      <td>3.241655e+07</td>\n      <td>100.529289</td>\n      <td>...</td>\n      <td>-0.727036</td>\n      <td>-0.345449</td>\n      <td>-4.800432</td>\n      <td>-4.461451</td>\n      <td>-0.338981</td>\n      <td>100.050110</td>\n      <td>-0.726788</td>\n      <td>-0.729442</td>\n      <td>6045.267539</td>\n      <td>1.0</td>\n    </tr>\n  </tbody>\n</table>\n<p>15617 rows × 82 columns</p>\n</div>"
     },
     "execution_count": 27,
     "metadata": {},
     "output_type": "execute_result"
    }
   ],
   "source": [
    "to_drop = ['label', 'Open','High','Low','Close','Volume'] + [col for col in daily_train.columns if 'volatility_bb' in col]\n",
    "X_train = daily_train.drop(columns = to_drop)\n",
    "X_train"
   ]
  },
  {
   "cell_type": "code",
   "execution_count": 28,
   "metadata": {
    "colab": {
     "base_uri": "https://localhost:8080/",
     "height": 455
    },
    "executionInfo": {
     "elapsed": 14,
     "status": "ok",
     "timestamp": 1705421636199,
     "user": {
      "displayName": "­김한성 / 학생 / 자유전공학부",
      "userId": "17797246141634098402"
     },
     "user_tz": -540
    },
    "id": "MgQKHslpnGwC",
    "outputId": "ec59a4d8-0306-439c-e080-bb54d661b019",
    "ExecuteTime": {
     "end_time": "2024-01-18T13:26:26.168257Z",
     "start_time": "2024-01-18T13:26:26.143086Z"
    }
   },
   "outputs": [
    {
     "data": {
      "text/plain": "            meta_label\nDate                  \n1962-01-02           0\n1962-01-03           0\n1962-01-04           0\n1962-01-05           0\n1962-01-08           0\n...                ...\n2024-01-10           1\n2024-01-11           1\n2024-01-12           0\n2024-01-16           1\n2024-01-17           1\n\n[15617 rows x 1 columns]",
      "text/html": "<div>\n<style scoped>\n    .dataframe tbody tr th:only-of-type {\n        vertical-align: middle;\n    }\n\n    .dataframe tbody tr th {\n        vertical-align: top;\n    }\n\n    .dataframe thead th {\n        text-align: right;\n    }\n</style>\n<table border=\"1\" class=\"dataframe\">\n  <thead>\n    <tr style=\"text-align: right;\">\n      <th></th>\n      <th>meta_label</th>\n    </tr>\n    <tr>\n      <th>Date</th>\n      <th></th>\n    </tr>\n  </thead>\n  <tbody>\n    <tr>\n      <th>1962-01-02</th>\n      <td>0</td>\n    </tr>\n    <tr>\n      <th>1962-01-03</th>\n      <td>0</td>\n    </tr>\n    <tr>\n      <th>1962-01-04</th>\n      <td>0</td>\n    </tr>\n    <tr>\n      <th>1962-01-05</th>\n      <td>0</td>\n    </tr>\n    <tr>\n      <th>1962-01-08</th>\n      <td>0</td>\n    </tr>\n    <tr>\n      <th>...</th>\n      <td>...</td>\n    </tr>\n    <tr>\n      <th>2024-01-10</th>\n      <td>1</td>\n    </tr>\n    <tr>\n      <th>2024-01-11</th>\n      <td>1</td>\n    </tr>\n    <tr>\n      <th>2024-01-12</th>\n      <td>0</td>\n    </tr>\n    <tr>\n      <th>2024-01-16</th>\n      <td>1</td>\n    </tr>\n    <tr>\n      <th>2024-01-17</th>\n      <td>1</td>\n    </tr>\n  </tbody>\n</table>\n<p>15617 rows × 1 columns</p>\n</div>"
     },
     "execution_count": 28,
     "metadata": {},
     "output_type": "execute_result"
    }
   ],
   "source": [
    "y_train = X_train.pop('meta_label')\n",
    "y_train = y_train.to_frame().astype('int64')\n",
    "y_train"
   ]
  },
  {
   "cell_type": "code",
   "outputs": [],
   "source": [
    "X_train = X_train.astype('float')"
   ],
   "metadata": {
    "collapsed": false,
    "ExecuteTime": {
     "end_time": "2024-01-18T13:27:23.029299Z",
     "start_time": "2024-01-18T13:27:22.994234Z"
    }
   },
   "execution_count": 32
  },
  {
   "cell_type": "markdown",
   "metadata": {},
   "source": [
    "### Add partially differentiated features (lag = 1, 2, 3)"
   ]
  },
  {
   "cell_type": "code",
   "execution_count": 33,
   "metadata": {
    "ExecuteTime": {
     "end_time": "2024-01-18T13:27:23.989875Z",
     "start_time": "2024-01-18T13:27:23.942575Z"
    }
   },
   "outputs": [
    {
     "data": {
      "text/plain": "            Close_FD  Volume_FD     volume_adi  volume_obv  volume_cmf  \\\nDate                                                                     \n1962-01-02       NaN        NaN -902400.000000    902400.0   -1.000000   \n1962-01-03       NaN        NaN  297600.000000   2102400.0    0.141553   \n1962-01-04       NaN        NaN  297666.406250   3190400.0    0.093301   \n1962-01-05       NaN        NaN -720962.955729   1968000.0   -0.163380   \n1962-01-08       NaN        NaN -566660.216588    579200.0   -0.097673   \n\n               volume_fi  volume_em  volume_sma_em    volume_vpt  volume_vwap  \\\nDate                                                                            \n1962-01-02      0.000000   0.000000       0.000000      0.000000     1.582031   \n1962-01-03  28125.572205   0.011445       0.011445  17822.144763     1.588720   \n1962-01-04  24714.739118   0.022439       0.016942  20475.640543     1.594432   \n1962-01-05  15044.818022  -0.059917      -0.008678  -6292.057162     1.591357   \n1962-01-08  12120.416398  -0.064273      -0.022577  -9747.415060     1.585073   \n\n            ...  ∆momentum_ppo(3)  ∆momentum_ppo_signal(3)  \\\nDate        ...                                              \n1962-01-02  ...               NaN                      NaN   \n1962-01-03  ...               NaN                      NaN   \n1962-01-04  ...               NaN                      NaN   \n1962-01-05  ...          0.136262                 0.079067   \n1962-01-08  ...         -0.076206                 0.048012   \n\n            ∆momentum_ppo_hist(3)  ∆momentum_pvo(3)  ∆momentum_pvo_signal(3)  \\\nDate                                                                           \n1962-01-02                    NaN               NaN                      NaN   \n1962-01-03                    NaN               NaN                      NaN   \n1962-01-04                    NaN               NaN                      NaN   \n1962-01-05               0.057195          5.308305                 1.956443   \n1962-01-08              -0.124219          5.253300                 2.615814   \n\n            ∆momentum_pvo_hist(3)  ∆momentum_kama(3)  ∆others_dr(3)  \\\nDate                                                                  \n1962-01-02                    NaN                NaN            NaN   \n1962-01-03                    NaN                NaN            NaN   \n1962-01-04                    NaN                NaN            NaN   \n1962-01-05               3.351862           0.006348      -2.189766   \n1962-01-08               2.637486          -0.013574      -1.733980   \n\n            ∆others_dlr(3)  ∆others_cr(3)  \nDate                                       \n1962-01-02             NaN            NaN  \n1962-01-03             NaN            NaN  \n1962-01-04             NaN            NaN  \n1962-01-05       -2.214097      -0.495019  \n1962-01-08       -1.723370      -2.227768  \n\n[5 rows x 324 columns]",
      "text/html": "<div>\n<style scoped>\n    .dataframe tbody tr th:only-of-type {\n        vertical-align: middle;\n    }\n\n    .dataframe tbody tr th {\n        vertical-align: top;\n    }\n\n    .dataframe thead th {\n        text-align: right;\n    }\n</style>\n<table border=\"1\" class=\"dataframe\">\n  <thead>\n    <tr style=\"text-align: right;\">\n      <th></th>\n      <th>Close_FD</th>\n      <th>Volume_FD</th>\n      <th>volume_adi</th>\n      <th>volume_obv</th>\n      <th>volume_cmf</th>\n      <th>volume_fi</th>\n      <th>volume_em</th>\n      <th>volume_sma_em</th>\n      <th>volume_vpt</th>\n      <th>volume_vwap</th>\n      <th>...</th>\n      <th>∆momentum_ppo(3)</th>\n      <th>∆momentum_ppo_signal(3)</th>\n      <th>∆momentum_ppo_hist(3)</th>\n      <th>∆momentum_pvo(3)</th>\n      <th>∆momentum_pvo_signal(3)</th>\n      <th>∆momentum_pvo_hist(3)</th>\n      <th>∆momentum_kama(3)</th>\n      <th>∆others_dr(3)</th>\n      <th>∆others_dlr(3)</th>\n      <th>∆others_cr(3)</th>\n    </tr>\n    <tr>\n      <th>Date</th>\n      <th></th>\n      <th></th>\n      <th></th>\n      <th></th>\n      <th></th>\n      <th></th>\n      <th></th>\n      <th></th>\n      <th></th>\n      <th></th>\n      <th></th>\n      <th></th>\n      <th></th>\n      <th></th>\n      <th></th>\n      <th></th>\n      <th></th>\n      <th></th>\n      <th></th>\n      <th></th>\n      <th></th>\n    </tr>\n  </thead>\n  <tbody>\n    <tr>\n      <th>1962-01-02</th>\n      <td>NaN</td>\n      <td>NaN</td>\n      <td>-902400.000000</td>\n      <td>902400.0</td>\n      <td>-1.000000</td>\n      <td>0.000000</td>\n      <td>0.000000</td>\n      <td>0.000000</td>\n      <td>0.000000</td>\n      <td>1.582031</td>\n      <td>...</td>\n      <td>NaN</td>\n      <td>NaN</td>\n      <td>NaN</td>\n      <td>NaN</td>\n      <td>NaN</td>\n      <td>NaN</td>\n      <td>NaN</td>\n      <td>NaN</td>\n      <td>NaN</td>\n      <td>NaN</td>\n    </tr>\n    <tr>\n      <th>1962-01-03</th>\n      <td>NaN</td>\n      <td>NaN</td>\n      <td>297600.000000</td>\n      <td>2102400.0</td>\n      <td>0.141553</td>\n      <td>28125.572205</td>\n      <td>0.011445</td>\n      <td>0.011445</td>\n      <td>17822.144763</td>\n      <td>1.588720</td>\n      <td>...</td>\n      <td>NaN</td>\n      <td>NaN</td>\n      <td>NaN</td>\n      <td>NaN</td>\n      <td>NaN</td>\n      <td>NaN</td>\n      <td>NaN</td>\n      <td>NaN</td>\n      <td>NaN</td>\n      <td>NaN</td>\n    </tr>\n    <tr>\n      <th>1962-01-04</th>\n      <td>NaN</td>\n      <td>NaN</td>\n      <td>297666.406250</td>\n      <td>3190400.0</td>\n      <td>0.093301</td>\n      <td>24714.739118</td>\n      <td>0.022439</td>\n      <td>0.016942</td>\n      <td>20475.640543</td>\n      <td>1.594432</td>\n      <td>...</td>\n      <td>NaN</td>\n      <td>NaN</td>\n      <td>NaN</td>\n      <td>NaN</td>\n      <td>NaN</td>\n      <td>NaN</td>\n      <td>NaN</td>\n      <td>NaN</td>\n      <td>NaN</td>\n      <td>NaN</td>\n    </tr>\n    <tr>\n      <th>1962-01-05</th>\n      <td>NaN</td>\n      <td>NaN</td>\n      <td>-720962.955729</td>\n      <td>1968000.0</td>\n      <td>-0.163380</td>\n      <td>15044.818022</td>\n      <td>-0.059917</td>\n      <td>-0.008678</td>\n      <td>-6292.057162</td>\n      <td>1.591357</td>\n      <td>...</td>\n      <td>0.136262</td>\n      <td>0.079067</td>\n      <td>0.057195</td>\n      <td>5.308305</td>\n      <td>1.956443</td>\n      <td>3.351862</td>\n      <td>0.006348</td>\n      <td>-2.189766</td>\n      <td>-2.214097</td>\n      <td>-0.495019</td>\n    </tr>\n    <tr>\n      <th>1962-01-08</th>\n      <td>NaN</td>\n      <td>NaN</td>\n      <td>-566660.216588</td>\n      <td>579200.0</td>\n      <td>-0.097673</td>\n      <td>12120.416398</td>\n      <td>-0.064273</td>\n      <td>-0.022577</td>\n      <td>-9747.415060</td>\n      <td>1.585073</td>\n      <td>...</td>\n      <td>-0.076206</td>\n      <td>0.048012</td>\n      <td>-0.124219</td>\n      <td>5.253300</td>\n      <td>2.615814</td>\n      <td>2.637486</td>\n      <td>-0.013574</td>\n      <td>-1.733980</td>\n      <td>-1.723370</td>\n      <td>-2.227768</td>\n    </tr>\n  </tbody>\n</table>\n<p>5 rows × 324 columns</p>\n</div>"
     },
     "execution_count": 33,
     "metadata": {},
     "output_type": "execute_result"
    }
   ],
   "source": [
    "X_train= pd.concat([X_train] + [X_train.diff(i).add_prefix('∆').add_suffix(f'({i})') for i in range(1, 4)], axis = 1)\n",
    "X_train.head()"
   ]
  },
  {
   "cell_type": "markdown",
   "metadata": {},
   "source": [
    "### Add datetime features"
   ]
  },
  {
   "cell_type": "markdown",
   "metadata": {},
   "source": [
    "월별, 일별, 요일별로 feature를 구분."
   ]
  },
  {
   "cell_type": "code",
   "execution_count": 34,
   "metadata": {
    "colab": {
     "base_uri": "https://localhost:8080/",
     "height": 685
    },
    "executionInfo": {
     "elapsed": 13,
     "status": "ok",
     "timestamp": 1705421636199,
     "user": {
      "displayName": "­김한성 / 학생 / 자유전공학부",
      "userId": "17797246141634098402"
     },
     "user_tz": -540
    },
    "id": "QtAF8cnnncUK",
    "outputId": "f4a45ab0-ce5d-438f-ca65-bcf1cf1f331b",
    "ExecuteTime": {
     "end_time": "2024-01-18T13:27:32.109743Z",
     "start_time": "2024-01-18T13:27:32.084858Z"
    }
   },
   "outputs": [
    {
     "data": {
      "text/plain": "             Close_FD     Volume_FD    volume_adi    volume_obv  volume_cmf  \\\nDate                                                                          \n1962-01-02        NaN           NaN -9.024000e+05  9.024000e+05   -1.000000   \n1962-01-03        NaN           NaN  2.976000e+05  2.102400e+06    0.141553   \n1962-01-04        NaN           NaN  2.976664e+05  3.190400e+06    0.093301   \n1962-01-05        NaN           NaN -7.209630e+05  1.968000e+06   -0.163380   \n1962-01-08        NaN           NaN -5.666602e+05  5.792000e+05   -0.097673   \n...               ...           ...           ...           ...         ...   \n2024-01-10  10.168887 -8.731545e+05  4.973741e+09  4.884346e+09    0.021805   \n2024-01-11  10.587538 -2.630641e+06  4.961614e+09  4.868512e+09   -0.003443   \n2024-01-12  12.084669  6.181401e+05  4.962588e+09  4.886544e+09   -0.041124   \n2024-01-16   9.646183  2.446790e+06  4.944964e+09  4.866309e+09   -0.118605   \n2024-01-17   9.485698 -1.983453e+05  4.937239e+09  4.847930e+09   -0.256129   \n\n               volume_fi  volume_em  volume_sma_em    volume_vpt  volume_vwap  \\\nDate                                                                            \n1962-01-02  0.000000e+00   0.000000       0.000000  0.000000e+00     1.582031   \n1962-01-03  2.812557e+04   0.011445       0.011445  1.782214e+04     1.588720   \n1962-01-04  2.471474e+04   0.022439       0.016942  2.047564e+04     1.594432   \n1962-01-05  1.504482e+04  -0.059917      -0.008678 -6.292057e+03     1.591357   \n1962-01-08  1.212042e+04  -0.064273      -0.022577 -9.747415e+03     1.585073   \n...                  ...        ...            ...           ...          ...   \n2024-01-10 -7.500912e+06 -11.350023      -1.596353  3.277697e+07   101.473468   \n2024-01-11 -6.474601e+06   0.296814      -1.618183  3.277376e+07   101.263064   \n2024-01-12 -2.252363e+06   7.222700      -0.601370  3.300769e+07   101.149412   \n2024-01-16 -8.463821e+06 -13.971359      -2.199862  3.255013e+07   100.885705   \n2024-01-17 -9.118857e+06 -11.262832      -3.079639  3.241655e+07   100.529289   \n\n            ...  ∆momentum_pvo(3)  ∆momentum_pvo_signal(3)  \\\nDate        ...                                              \n1962-01-02  ...               NaN                      NaN   \n1962-01-03  ...               NaN                      NaN   \n1962-01-04  ...               NaN                      NaN   \n1962-01-05  ...          5.308305                 1.956443   \n1962-01-08  ...          5.253300                 2.615814   \n...         ...               ...                      ...   \n2024-01-10  ...          1.173730                -0.269363   \n2024-01-11  ...         -1.968594                -0.609210   \n2024-01-12  ...         -2.017469                -0.890861   \n2024-01-16  ...         -0.610347                -0.834759   \n2024-01-17  ...          0.714570                -0.524893   \n\n            ∆momentum_pvo_hist(3)  ∆momentum_kama(3)  ∆others_dr(3)  \\\nDate                                                                  \n1962-01-02                    NaN                NaN            NaN   \n1962-01-03                    NaN                NaN            NaN   \n1962-01-04                    NaN                NaN            NaN   \n1962-01-05               3.351862           0.006348      -2.189766   \n1962-01-08               2.637486          -0.013574      -1.733980   \n...                           ...                ...            ...   \n2024-01-10               1.443094          -0.209919      -1.286209   \n2024-01-11              -1.359385          -0.334040       1.645909   \n2024-01-12              -1.126607          -0.284104       2.535857   \n2024-01-16               0.224411          -0.226056      -1.277885   \n2024-01-17               1.239463          -0.617758      -0.706518   \n\n            ∆others_dlr(3)  ∆others_cr(3)  month  day  dayofweek  \nDate                                                              \n1962-01-02             NaN            NaN      1    2          1  \n1962-01-03             NaN            NaN      1    3          2  \n1962-01-04             NaN            NaN      1    4          3  \n1962-01-05       -2.214097      -0.495019      1    5          4  \n1962-01-08       -1.723370      -2.227768      1    8          0  \n...                    ...            ...    ...  ...        ...  \n2024-01-10       -1.290617    -249.663038      1   10          2  \n2024-01-11        1.659944    -142.574257      1   11          3  \n2024-01-12        2.535250      17.742497      1   12          4  \n2024-01-16       -1.298974     -63.366337      1   16          1  \n2024-01-17       -0.709170    -107.088780      1   17          2  \n\n[15617 rows x 327 columns]",
      "text/html": "<div>\n<style scoped>\n    .dataframe tbody tr th:only-of-type {\n        vertical-align: middle;\n    }\n\n    .dataframe tbody tr th {\n        vertical-align: top;\n    }\n\n    .dataframe thead th {\n        text-align: right;\n    }\n</style>\n<table border=\"1\" class=\"dataframe\">\n  <thead>\n    <tr style=\"text-align: right;\">\n      <th></th>\n      <th>Close_FD</th>\n      <th>Volume_FD</th>\n      <th>volume_adi</th>\n      <th>volume_obv</th>\n      <th>volume_cmf</th>\n      <th>volume_fi</th>\n      <th>volume_em</th>\n      <th>volume_sma_em</th>\n      <th>volume_vpt</th>\n      <th>volume_vwap</th>\n      <th>...</th>\n      <th>∆momentum_pvo(3)</th>\n      <th>∆momentum_pvo_signal(3)</th>\n      <th>∆momentum_pvo_hist(3)</th>\n      <th>∆momentum_kama(3)</th>\n      <th>∆others_dr(3)</th>\n      <th>∆others_dlr(3)</th>\n      <th>∆others_cr(3)</th>\n      <th>month</th>\n      <th>day</th>\n      <th>dayofweek</th>\n    </tr>\n    <tr>\n      <th>Date</th>\n      <th></th>\n      <th></th>\n      <th></th>\n      <th></th>\n      <th></th>\n      <th></th>\n      <th></th>\n      <th></th>\n      <th></th>\n      <th></th>\n      <th></th>\n      <th></th>\n      <th></th>\n      <th></th>\n      <th></th>\n      <th></th>\n      <th></th>\n      <th></th>\n      <th></th>\n      <th></th>\n      <th></th>\n    </tr>\n  </thead>\n  <tbody>\n    <tr>\n      <th>1962-01-02</th>\n      <td>NaN</td>\n      <td>NaN</td>\n      <td>-9.024000e+05</td>\n      <td>9.024000e+05</td>\n      <td>-1.000000</td>\n      <td>0.000000e+00</td>\n      <td>0.000000</td>\n      <td>0.000000</td>\n      <td>0.000000e+00</td>\n      <td>1.582031</td>\n      <td>...</td>\n      <td>NaN</td>\n      <td>NaN</td>\n      <td>NaN</td>\n      <td>NaN</td>\n      <td>NaN</td>\n      <td>NaN</td>\n      <td>NaN</td>\n      <td>1</td>\n      <td>2</td>\n      <td>1</td>\n    </tr>\n    <tr>\n      <th>1962-01-03</th>\n      <td>NaN</td>\n      <td>NaN</td>\n      <td>2.976000e+05</td>\n      <td>2.102400e+06</td>\n      <td>0.141553</td>\n      <td>2.812557e+04</td>\n      <td>0.011445</td>\n      <td>0.011445</td>\n      <td>1.782214e+04</td>\n      <td>1.588720</td>\n      <td>...</td>\n      <td>NaN</td>\n      <td>NaN</td>\n      <td>NaN</td>\n      <td>NaN</td>\n      <td>NaN</td>\n      <td>NaN</td>\n      <td>NaN</td>\n      <td>1</td>\n      <td>3</td>\n      <td>2</td>\n    </tr>\n    <tr>\n      <th>1962-01-04</th>\n      <td>NaN</td>\n      <td>NaN</td>\n      <td>2.976664e+05</td>\n      <td>3.190400e+06</td>\n      <td>0.093301</td>\n      <td>2.471474e+04</td>\n      <td>0.022439</td>\n      <td>0.016942</td>\n      <td>2.047564e+04</td>\n      <td>1.594432</td>\n      <td>...</td>\n      <td>NaN</td>\n      <td>NaN</td>\n      <td>NaN</td>\n      <td>NaN</td>\n      <td>NaN</td>\n      <td>NaN</td>\n      <td>NaN</td>\n      <td>1</td>\n      <td>4</td>\n      <td>3</td>\n    </tr>\n    <tr>\n      <th>1962-01-05</th>\n      <td>NaN</td>\n      <td>NaN</td>\n      <td>-7.209630e+05</td>\n      <td>1.968000e+06</td>\n      <td>-0.163380</td>\n      <td>1.504482e+04</td>\n      <td>-0.059917</td>\n      <td>-0.008678</td>\n      <td>-6.292057e+03</td>\n      <td>1.591357</td>\n      <td>...</td>\n      <td>5.308305</td>\n      <td>1.956443</td>\n      <td>3.351862</td>\n      <td>0.006348</td>\n      <td>-2.189766</td>\n      <td>-2.214097</td>\n      <td>-0.495019</td>\n      <td>1</td>\n      <td>5</td>\n      <td>4</td>\n    </tr>\n    <tr>\n      <th>1962-01-08</th>\n      <td>NaN</td>\n      <td>NaN</td>\n      <td>-5.666602e+05</td>\n      <td>5.792000e+05</td>\n      <td>-0.097673</td>\n      <td>1.212042e+04</td>\n      <td>-0.064273</td>\n      <td>-0.022577</td>\n      <td>-9.747415e+03</td>\n      <td>1.585073</td>\n      <td>...</td>\n      <td>5.253300</td>\n      <td>2.615814</td>\n      <td>2.637486</td>\n      <td>-0.013574</td>\n      <td>-1.733980</td>\n      <td>-1.723370</td>\n      <td>-2.227768</td>\n      <td>1</td>\n      <td>8</td>\n      <td>0</td>\n    </tr>\n    <tr>\n      <th>...</th>\n      <td>...</td>\n      <td>...</td>\n      <td>...</td>\n      <td>...</td>\n      <td>...</td>\n      <td>...</td>\n      <td>...</td>\n      <td>...</td>\n      <td>...</td>\n      <td>...</td>\n      <td>...</td>\n      <td>...</td>\n      <td>...</td>\n      <td>...</td>\n      <td>...</td>\n      <td>...</td>\n      <td>...</td>\n      <td>...</td>\n      <td>...</td>\n      <td>...</td>\n      <td>...</td>\n    </tr>\n    <tr>\n      <th>2024-01-10</th>\n      <td>10.168887</td>\n      <td>-8.731545e+05</td>\n      <td>4.973741e+09</td>\n      <td>4.884346e+09</td>\n      <td>0.021805</td>\n      <td>-7.500912e+06</td>\n      <td>-11.350023</td>\n      <td>-1.596353</td>\n      <td>3.277697e+07</td>\n      <td>101.473468</td>\n      <td>...</td>\n      <td>1.173730</td>\n      <td>-0.269363</td>\n      <td>1.443094</td>\n      <td>-0.209919</td>\n      <td>-1.286209</td>\n      <td>-1.290617</td>\n      <td>-249.663038</td>\n      <td>1</td>\n      <td>10</td>\n      <td>2</td>\n    </tr>\n    <tr>\n      <th>2024-01-11</th>\n      <td>10.587538</td>\n      <td>-2.630641e+06</td>\n      <td>4.961614e+09</td>\n      <td>4.868512e+09</td>\n      <td>-0.003443</td>\n      <td>-6.474601e+06</td>\n      <td>0.296814</td>\n      <td>-1.618183</td>\n      <td>3.277376e+07</td>\n      <td>101.263064</td>\n      <td>...</td>\n      <td>-1.968594</td>\n      <td>-0.609210</td>\n      <td>-1.359385</td>\n      <td>-0.334040</td>\n      <td>1.645909</td>\n      <td>1.659944</td>\n      <td>-142.574257</td>\n      <td>1</td>\n      <td>11</td>\n      <td>3</td>\n    </tr>\n    <tr>\n      <th>2024-01-12</th>\n      <td>12.084669</td>\n      <td>6.181401e+05</td>\n      <td>4.962588e+09</td>\n      <td>4.886544e+09</td>\n      <td>-0.041124</td>\n      <td>-2.252363e+06</td>\n      <td>7.222700</td>\n      <td>-0.601370</td>\n      <td>3.300769e+07</td>\n      <td>101.149412</td>\n      <td>...</td>\n      <td>-2.017469</td>\n      <td>-0.890861</td>\n      <td>-1.126607</td>\n      <td>-0.284104</td>\n      <td>2.535857</td>\n      <td>2.535250</td>\n      <td>17.742497</td>\n      <td>1</td>\n      <td>12</td>\n      <td>4</td>\n    </tr>\n    <tr>\n      <th>2024-01-16</th>\n      <td>9.646183</td>\n      <td>2.446790e+06</td>\n      <td>4.944964e+09</td>\n      <td>4.866309e+09</td>\n      <td>-0.118605</td>\n      <td>-8.463821e+06</td>\n      <td>-13.971359</td>\n      <td>-2.199862</td>\n      <td>3.255013e+07</td>\n      <td>100.885705</td>\n      <td>...</td>\n      <td>-0.610347</td>\n      <td>-0.834759</td>\n      <td>0.224411</td>\n      <td>-0.226056</td>\n      <td>-1.277885</td>\n      <td>-1.298974</td>\n      <td>-63.366337</td>\n      <td>1</td>\n      <td>16</td>\n      <td>1</td>\n    </tr>\n    <tr>\n      <th>2024-01-17</th>\n      <td>9.485698</td>\n      <td>-1.983453e+05</td>\n      <td>4.937239e+09</td>\n      <td>4.847930e+09</td>\n      <td>-0.256129</td>\n      <td>-9.118857e+06</td>\n      <td>-11.262832</td>\n      <td>-3.079639</td>\n      <td>3.241655e+07</td>\n      <td>100.529289</td>\n      <td>...</td>\n      <td>0.714570</td>\n      <td>-0.524893</td>\n      <td>1.239463</td>\n      <td>-0.617758</td>\n      <td>-0.706518</td>\n      <td>-0.709170</td>\n      <td>-107.088780</td>\n      <td>1</td>\n      <td>17</td>\n      <td>2</td>\n    </tr>\n  </tbody>\n</table>\n<p>15617 rows × 327 columns</p>\n</div>"
     },
     "execution_count": 34,
     "metadata": {},
     "output_type": "execute_result"
    }
   ],
   "source": [
    "from datetime import datetime\n",
    "X_train['month'] = X_train.index.to_series().dt.month.astype('category')\n",
    "X_train['day'] = X_train.index.to_series().dt.day.astype('category')\n",
    "X_train['dayofweek'] = X_train.index.to_series().dt.dayofweek.astype('category')\n",
    "X_train\n"
   ]
  },
  {
   "cell_type": "code",
   "execution_count": 35,
   "metadata": {
    "executionInfo": {
     "elapsed": 10,
     "status": "ok",
     "timestamp": 1705421636199,
     "user": {
      "displayName": "­김한성 / 학생 / 자유전공학부",
      "userId": "17797246141634098402"
     },
     "user_tz": -540
    },
    "id": "TKFGqs15wtcp",
    "ExecuteTime": {
     "end_time": "2024-01-18T13:27:34.798734Z",
     "start_time": "2024-01-18T13:27:34.765746Z"
    }
   },
   "outputs": [],
   "source": [
    "numeric_columns=list(X_train.select_dtypes(['float64', 'int64']).columns)\n",
    "categorical_columns=list(X_train.select_dtypes('category').columns)"
   ]
  },
  {
   "cell_type": "code",
   "execution_count": 36,
   "metadata": {
    "executionInfo": {
     "elapsed": 11,
     "status": "ok",
     "timestamp": 1705421636200,
     "user": {
      "displayName": "­김한성 / 학생 / 자유전공학부",
      "userId": "17797246141634098402"
     },
     "user_tz": -540
    },
    "id": "JFucgQz-0yiE",
    "ExecuteTime": {
     "end_time": "2024-01-18T13:27:35.367575Z",
     "start_time": "2024-01-18T13:27:35.340915Z"
    }
   },
   "outputs": [],
   "source": [
    "X_train_cont = X_train[numeric_columns]\n",
    "X_train_cat = X_train[categorical_columns]"
   ]
  },
  {
   "cell_type": "markdown",
   "metadata": {},
   "source": [
    "### Scaling"
   ]
  },
  {
   "cell_type": "markdown",
   "metadata": {},
   "source": [
    "연속형 변수들에 대해서 Min Max Scaling을 수행. "
   ]
  },
  {
   "cell_type": "code",
   "execution_count": 37,
   "metadata": {
    "executionInfo": {
     "elapsed": 11,
     "status": "ok",
     "timestamp": 1705421636200,
     "user": {
      "displayName": "­김한성 / 학생 / 자유전공학부",
      "userId": "17797246141634098402"
     },
     "user_tz": -540
    },
    "id": "YuZ8T-HF1KOx",
    "ExecuteTime": {
     "end_time": "2024-01-18T13:27:38.313258Z",
     "start_time": "2024-01-18T13:27:38.281957Z"
    }
   },
   "outputs": [],
   "source": [
    "from sklearn.preprocessing import MinMaxScaler\n",
    "scaler = MinMaxScaler()\n",
    "X_train_cont_scaled = pd.DataFrame(scaler.fit_transform(X_train_cont), index = X_train_cont.index, columns = X_train_cont.columns)"
   ]
  },
  {
   "cell_type": "code",
   "execution_count": 38,
   "metadata": {
    "colab": {
     "base_uri": "https://localhost:8080/",
     "height": 373
    },
    "executionInfo": {
     "elapsed": 386,
     "status": "ok",
     "timestamp": 1705421636576,
     "user": {
      "displayName": "­김한성 / 학생 / 자유전공학부",
      "userId": "17797246141634098402"
     },
     "user_tz": -540
    },
    "id": "e3V_4aVE1tJ_",
    "outputId": "47ca8cef-00b7-4932-ccb5-bdb5e981238f",
    "ExecuteTime": {
     "end_time": "2024-01-18T13:27:39.499459Z",
     "start_time": "2024-01-18T13:27:39.480310Z"
    }
   },
   "outputs": [
    {
     "data": {
      "text/plain": "            Close_FD  Volume_FD  volume_adi  volume_obv  volume_cmf  \\\nDate                                                                  \n1962-01-02       NaN        NaN    0.009107    0.000336    0.000000   \n1962-01-03       NaN        NaN    0.009328    0.000518    0.704782   \n1962-01-04       NaN        NaN    0.009328    0.000683    0.674992   \n1962-01-05       NaN        NaN    0.009140    0.000498    0.516520   \n1962-01-08       NaN        NaN    0.009169    0.000287    0.557087   \n\n            volume_fi  volume_em  volume_sma_em  volume_vpt  volume_vwap  ...  \\\nDate                                                                      ...   \n1962-01-02   0.696778   0.710627       0.556957    0.292239     0.000339  ...   \n1962-01-03   0.696891   0.710656       0.557303    0.292550     0.000396  ...   \n1962-01-04   0.696877   0.710684       0.557469    0.292597     0.000446  ...   \n1962-01-05   0.696838   0.710475       0.556695    0.292129     0.000419  ...   \n1962-01-08   0.696826   0.710464       0.556276    0.292068     0.000365  ...   \n\n            ∆momentum_pvo(3)  ∆momentum_pvo_signal(3)  ∆momentum_pvo_hist(3)  \\\nDate                                                                           \n1962-01-02               NaN                      NaN                    NaN   \n1962-01-03               NaN                      NaN                    NaN   \n1962-01-04               NaN                      NaN                    NaN   \n1962-01-05          0.373784                 0.393633               0.479478   \n1962-01-08          0.373002                 0.413489               0.466776   \n\n            ∆momentum_kama(3)  ∆others_dr(3)  ∆others_dlr(3)  ∆others_cr(3)  \\\nDate                                                                          \n1962-01-02                NaN            NaN             NaN            NaN   \n1962-01-03                NaN            NaN             NaN            NaN   \n1962-01-04                NaN            NaN             NaN            NaN   \n1962-01-05           0.491094       0.394435        0.417678       0.520007   \n1962-01-08           0.489578       0.404907        0.427762       0.518969   \n\n            month  day  dayofweek  \nDate                               \n1962-01-02      1    2          1  \n1962-01-03      1    3          2  \n1962-01-04      1    4          3  \n1962-01-05      1    5          4  \n1962-01-08      1    8          0  \n\n[5 rows x 327 columns]",
      "text/html": "<div>\n<style scoped>\n    .dataframe tbody tr th:only-of-type {\n        vertical-align: middle;\n    }\n\n    .dataframe tbody tr th {\n        vertical-align: top;\n    }\n\n    .dataframe thead th {\n        text-align: right;\n    }\n</style>\n<table border=\"1\" class=\"dataframe\">\n  <thead>\n    <tr style=\"text-align: right;\">\n      <th></th>\n      <th>Close_FD</th>\n      <th>Volume_FD</th>\n      <th>volume_adi</th>\n      <th>volume_obv</th>\n      <th>volume_cmf</th>\n      <th>volume_fi</th>\n      <th>volume_em</th>\n      <th>volume_sma_em</th>\n      <th>volume_vpt</th>\n      <th>volume_vwap</th>\n      <th>...</th>\n      <th>∆momentum_pvo(3)</th>\n      <th>∆momentum_pvo_signal(3)</th>\n      <th>∆momentum_pvo_hist(3)</th>\n      <th>∆momentum_kama(3)</th>\n      <th>∆others_dr(3)</th>\n      <th>∆others_dlr(3)</th>\n      <th>∆others_cr(3)</th>\n      <th>month</th>\n      <th>day</th>\n      <th>dayofweek</th>\n    </tr>\n    <tr>\n      <th>Date</th>\n      <th></th>\n      <th></th>\n      <th></th>\n      <th></th>\n      <th></th>\n      <th></th>\n      <th></th>\n      <th></th>\n      <th></th>\n      <th></th>\n      <th></th>\n      <th></th>\n      <th></th>\n      <th></th>\n      <th></th>\n      <th></th>\n      <th></th>\n      <th></th>\n      <th></th>\n      <th></th>\n      <th></th>\n    </tr>\n  </thead>\n  <tbody>\n    <tr>\n      <th>1962-01-02</th>\n      <td>NaN</td>\n      <td>NaN</td>\n      <td>0.009107</td>\n      <td>0.000336</td>\n      <td>0.000000</td>\n      <td>0.696778</td>\n      <td>0.710627</td>\n      <td>0.556957</td>\n      <td>0.292239</td>\n      <td>0.000339</td>\n      <td>...</td>\n      <td>NaN</td>\n      <td>NaN</td>\n      <td>NaN</td>\n      <td>NaN</td>\n      <td>NaN</td>\n      <td>NaN</td>\n      <td>NaN</td>\n      <td>1</td>\n      <td>2</td>\n      <td>1</td>\n    </tr>\n    <tr>\n      <th>1962-01-03</th>\n      <td>NaN</td>\n      <td>NaN</td>\n      <td>0.009328</td>\n      <td>0.000518</td>\n      <td>0.704782</td>\n      <td>0.696891</td>\n      <td>0.710656</td>\n      <td>0.557303</td>\n      <td>0.292550</td>\n      <td>0.000396</td>\n      <td>...</td>\n      <td>NaN</td>\n      <td>NaN</td>\n      <td>NaN</td>\n      <td>NaN</td>\n      <td>NaN</td>\n      <td>NaN</td>\n      <td>NaN</td>\n      <td>1</td>\n      <td>3</td>\n      <td>2</td>\n    </tr>\n    <tr>\n      <th>1962-01-04</th>\n      <td>NaN</td>\n      <td>NaN</td>\n      <td>0.009328</td>\n      <td>0.000683</td>\n      <td>0.674992</td>\n      <td>0.696877</td>\n      <td>0.710684</td>\n      <td>0.557469</td>\n      <td>0.292597</td>\n      <td>0.000446</td>\n      <td>...</td>\n      <td>NaN</td>\n      <td>NaN</td>\n      <td>NaN</td>\n      <td>NaN</td>\n      <td>NaN</td>\n      <td>NaN</td>\n      <td>NaN</td>\n      <td>1</td>\n      <td>4</td>\n      <td>3</td>\n    </tr>\n    <tr>\n      <th>1962-01-05</th>\n      <td>NaN</td>\n      <td>NaN</td>\n      <td>0.009140</td>\n      <td>0.000498</td>\n      <td>0.516520</td>\n      <td>0.696838</td>\n      <td>0.710475</td>\n      <td>0.556695</td>\n      <td>0.292129</td>\n      <td>0.000419</td>\n      <td>...</td>\n      <td>0.373784</td>\n      <td>0.393633</td>\n      <td>0.479478</td>\n      <td>0.491094</td>\n      <td>0.394435</td>\n      <td>0.417678</td>\n      <td>0.520007</td>\n      <td>1</td>\n      <td>5</td>\n      <td>4</td>\n    </tr>\n    <tr>\n      <th>1962-01-08</th>\n      <td>NaN</td>\n      <td>NaN</td>\n      <td>0.009169</td>\n      <td>0.000287</td>\n      <td>0.557087</td>\n      <td>0.696826</td>\n      <td>0.710464</td>\n      <td>0.556276</td>\n      <td>0.292068</td>\n      <td>0.000365</td>\n      <td>...</td>\n      <td>0.373002</td>\n      <td>0.413489</td>\n      <td>0.466776</td>\n      <td>0.489578</td>\n      <td>0.404907</td>\n      <td>0.427762</td>\n      <td>0.518969</td>\n      <td>1</td>\n      <td>8</td>\n      <td>0</td>\n    </tr>\n  </tbody>\n</table>\n<p>5 rows × 327 columns</p>\n</div>"
     },
     "execution_count": 38,
     "metadata": {},
     "output_type": "execute_result"
    }
   ],
   "source": [
    "X_train_scaled = pd.concat([X_train_cont_scaled, X_train_cat], axis = 1)\n",
    "X_train_scaled.head()"
   ]
  },
  {
   "cell_type": "code",
   "execution_count": 39,
   "metadata": {
    "executionInfo": {
     "elapsed": 5,
     "status": "ok",
     "timestamp": 1705421636577,
     "user": {
      "displayName": "­김한성 / 학생 / 자유전공학부",
      "userId": "17797246141634098402"
     },
     "user_tz": -540
    },
    "id": "bEz_chPc7qUr",
    "ExecuteTime": {
     "end_time": "2024-01-18T13:27:41.771565Z",
     "start_time": "2024-01-18T13:27:41.741639Z"
    }
   },
   "outputs": [],
   "source": [
    "X_train_scaled = X_train_scaled.apply(lambda x : x.astype('int64') if x.dtype == 'category' else x)"
   ]
  },
  {
   "cell_type": "markdown",
   "metadata": {},
   "source": [
    "### Train Test Split"
   ]
  },
  {
   "cell_type": "code",
   "execution_count": 41,
   "metadata": {
    "executionInfo": {
     "elapsed": 331,
     "status": "ok",
     "timestamp": 1705421637719,
     "user": {
      "displayName": "­김한성 / 학생 / 자유전공학부",
      "userId": "17797246141634098402"
     },
     "user_tz": -540
    },
    "id": "c9Mjf8nx3wTR",
    "ExecuteTime": {
     "end_time": "2024-01-18T13:28:57.487885Z",
     "start_time": "2024-01-18T13:28:57.451548Z"
    }
   },
   "outputs": [],
   "source": [
    "X_train_scaled = X_train_scaled.loc[:'2019']\n",
    "X_val_scaled = X_train_scaled.loc['2020':]\n",
    "y_train = y_train.loc[:'2019']\n",
    "y_val = y_train.loc['2020':]"
   ]
  },
  {
   "cell_type": "markdown",
   "metadata": {},
   "source": [
    "# Build Model using LightGBM"
   ]
  },
  {
   "cell_type": "code",
   "execution_count": 71,
   "metadata": {
    "executionInfo": {
     "elapsed": 1,
     "status": "ok",
     "timestamp": 1705421637719,
     "user": {
      "displayName": "­김한성 / 학생 / 자유전공학부",
      "userId": "17797246141634098402"
     },
     "user_tz": -540
    },
    "id": "XISDcowmoYNx",
    "ExecuteTime": {
     "end_time": "2024-01-18T13:32:24.085328Z",
     "start_time": "2024-01-18T13:32:24.058520Z"
    }
   },
   "outputs": [],
   "source": [
    "import lightgbm as lgb\n",
    "\n",
    "train = lgb.Dataset(X_train_scaled, y_train, free_raw_data=False)\n",
    "val = lgb.Dataset(X_val_scaled, y_val, free_raw_data = False)"
   ]
  },
  {
   "cell_type": "code",
   "execution_count": 63,
   "metadata": {
    "colab": {
     "base_uri": "https://localhost:8080/"
    },
    "executionInfo": {
     "elapsed": 2,
     "status": "ok",
     "timestamp": 1705421640369,
     "user": {
      "displayName": "­김한성 / 학생 / 자유전공학부",
      "userId": "17797246141634098402"
     },
     "user_tz": -540
    },
    "id": "nSp9I_iqCXUI",
    "outputId": "a8fd6c57-15f1-41e6-9805-b01cb0564270",
    "ExecuteTime": {
     "end_time": "2024-01-18T13:30:46.345834Z",
     "start_time": "2024-01-18T13:30:46.324818Z"
    }
   },
   "outputs": [
    {
     "data": {
      "text/plain": "<lightgbm.basic.Dataset at 0x298cf70a0>"
     },
     "execution_count": 63,
     "metadata": {},
     "output_type": "execute_result"
    }
   ],
   "source": [
    "train.set_categorical_feature(categorical_columns)"
   ]
  },
  {
   "cell_type": "code",
   "execution_count": 64,
   "metadata": {
    "colab": {
     "base_uri": "https://localhost:8080/"
    },
    "executionInfo": {
     "elapsed": 5,
     "status": "ok",
     "timestamp": 1705421640732,
     "user": {
      "displayName": "­김한성 / 학생 / 자유전공학부",
      "userId": "17797246141634098402"
     },
     "user_tz": -540
    },
    "id": "66OsrAYfCctb",
    "outputId": "b1445253-810e-437d-c423-1e62c2f85967",
    "ExecuteTime": {
     "end_time": "2024-01-18T13:30:46.768462Z",
     "start_time": "2024-01-18T13:30:46.755487Z"
    }
   },
   "outputs": [
    {
     "data": {
      "text/plain": "<lightgbm.basic.Dataset at 0x298cf7520>"
     },
     "execution_count": 64,
     "metadata": {},
     "output_type": "execute_result"
    }
   ],
   "source": [
    "val.set_categorical_feature(categorical_columns)"
   ]
  },
  {
   "cell_type": "code",
   "execution_count": 56,
   "metadata": {
    "ExecuteTime": {
     "end_time": "2024-01-18T13:29:41.108655Z",
     "start_time": "2024-01-18T13:29:41.077132Z"
    }
   },
   "outputs": [],
   "source": [
    "from sklearn.model_selection import RandomizedSearchCV\n",
    "from lightgbm import LGBMClassifier"
   ]
  },
  {
   "cell_type": "code",
   "execution_count": 57,
   "metadata": {
    "ExecuteTime": {
     "end_time": "2024-01-18T13:29:41.273051Z",
     "start_time": "2024-01-18T13:29:41.264713Z"
    }
   },
   "outputs": [],
   "source": [
    "params = {\n",
    "    'n_estimators' : [100, 200, 300], \n",
    "    'learning_rate' : [1e-4, 1e-3, 0.1], \n",
    "    'reg_lambda' : [0.1, 0.2, 0.4], \n",
    "    'boosting_type' : ['gbdt', 'rf', 'dart', 'goss'], \n",
    "    'num_leaves' : [30, 50, 70]\n",
    "}"
   ]
  },
  {
   "cell_type": "code",
   "execution_count": 58,
   "metadata": {
    "ExecuteTime": {
     "end_time": "2024-01-18T13:29:41.600854Z",
     "start_time": "2024-01-18T13:29:41.586317Z"
    }
   },
   "outputs": [],
   "source": [
    "clf = RandomizedSearchCV(LGBMClassifier(), params, cv = 5, n_iter = 20, scoring='f1')"
   ]
  },
  {
   "cell_type": "code",
   "execution_count": 59,
   "metadata": {
    "scrolled": true,
    "ExecuteTime": {
     "end_time": "2024-01-18T13:30:03.152160Z",
     "start_time": "2024-01-18T13:29:41.949189Z"
    }
   },
   "outputs": [
    {
     "name": "stdout",
     "output_type": "stream",
     "text": [
      "[LightGBM] [Info] Number of positive: 6151, number of negative: 5529\n",
      "[LightGBM] [Info] Auto-choosing col-wise multi-threading, the overhead of testing was 0.008396 seconds.\n",
      "You can set `force_col_wise=true` to remove the overhead.\n",
      "[LightGBM] [Info] Total Bins 76037\n",
      "[LightGBM] [Info] Number of data points in the train set: 11680, number of used features: 327\n",
      "[LightGBM] [Info] [binary:BoostFromScore]: pavg=0.526627 -> initscore=0.106608\n",
      "[LightGBM] [Info] Start training from score 0.106608\n",
      "[LightGBM] [Info] Number of positive: 6151, number of negative: 5529\n",
      "[LightGBM] [Info] Auto-choosing col-wise multi-threading, the overhead of testing was 0.008062 seconds.\n",
      "You can set `force_col_wise=true` to remove the overhead.\n",
      "[LightGBM] [Info] Total Bins 76058\n",
      "[LightGBM] [Info] Number of data points in the train set: 11680, number of used features: 327\n",
      "[LightGBM] [Info] [binary:BoostFromScore]: pavg=0.526627 -> initscore=0.106608\n",
      "[LightGBM] [Info] Start training from score 0.106608\n",
      "[LightGBM] [Info] Number of positive: 6150, number of negative: 5530\n",
      "[LightGBM] [Info] Auto-choosing col-wise multi-threading, the overhead of testing was 0.007157 seconds.\n",
      "You can set `force_col_wise=true` to remove the overhead.\n",
      "[LightGBM] [Info] Total Bins 76057\n",
      "[LightGBM] [Info] Number of data points in the train set: 11680, number of used features: 327\n",
      "[LightGBM] [Info] [binary:BoostFromScore]: pavg=0.526541 -> initscore=0.106264\n",
      "[LightGBM] [Info] Start training from score 0.106264\n",
      "[LightGBM] [Info] Number of positive: 6150, number of negative: 5530\n",
      "[LightGBM] [Info] Auto-choosing col-wise multi-threading, the overhead of testing was 0.007616 seconds.\n",
      "You can set `force_col_wise=true` to remove the overhead.\n",
      "[LightGBM] [Info] Total Bins 76035\n",
      "[LightGBM] [Info] Number of data points in the train set: 11680, number of used features: 327\n",
      "[LightGBM] [Info] [binary:BoostFromScore]: pavg=0.526541 -> initscore=0.106264\n",
      "[LightGBM] [Info] Start training from score 0.106264\n",
      "[LightGBM] [Info] Number of positive: 6150, number of negative: 5530\n",
      "[LightGBM] [Info] Auto-choosing col-wise multi-threading, the overhead of testing was 0.008276 seconds.\n",
      "You can set `force_col_wise=true` to remove the overhead.\n",
      "[LightGBM] [Info] Total Bins 76008\n",
      "[LightGBM] [Info] Number of data points in the train set: 11680, number of used features: 327\n",
      "[LightGBM] [Info] [binary:BoostFromScore]: pavg=0.526541 -> initscore=0.106264\n",
      "[LightGBM] [Info] Start training from score 0.106264\n",
      "[LightGBM] [Info] Number of positive: 6151, number of negative: 5529\n",
      "[LightGBM] [Info] Auto-choosing col-wise multi-threading, the overhead of testing was 0.007032 seconds.\n",
      "You can set `force_col_wise=true` to remove the overhead.\n",
      "[LightGBM] [Info] Total Bins 76037\n",
      "[LightGBM] [Info] Number of data points in the train set: 11680, number of used features: 327\n",
      "[LightGBM] [Info] [binary:BoostFromScore]: pavg=0.526627 -> initscore=0.106608\n",
      "[LightGBM] [Info] Start training from score 0.106608\n",
      "[LightGBM] [Info] Number of positive: 6151, number of negative: 5529\n",
      "[LightGBM] [Info] Auto-choosing col-wise multi-threading, the overhead of testing was 0.007655 seconds.\n",
      "You can set `force_col_wise=true` to remove the overhead.\n",
      "[LightGBM] [Info] Total Bins 76058\n",
      "[LightGBM] [Info] Number of data points in the train set: 11680, number of used features: 327\n",
      "[LightGBM] [Info] [binary:BoostFromScore]: pavg=0.526627 -> initscore=0.106608\n",
      "[LightGBM] [Info] Start training from score 0.106608\n"
     ]
    },
    {
     "ename": "KeyboardInterrupt",
     "evalue": "",
     "output_type": "error",
     "traceback": [
      "\u001B[0;31m---------------------------------------------------------------------------\u001B[0m",
      "\u001B[0;31mKeyboardInterrupt\u001B[0m                         Traceback (most recent call last)",
      "Cell \u001B[0;32mIn[59], line 1\u001B[0m\n\u001B[0;32m----> 1\u001B[0m \u001B[43mclf\u001B[49m\u001B[38;5;241;43m.\u001B[39;49m\u001B[43mfit\u001B[49m\u001B[43m(\u001B[49m\u001B[43mX_train_scaled\u001B[49m\u001B[43m,\u001B[49m\u001B[43m \u001B[49m\u001B[43my_train\u001B[49m\u001B[43m)\u001B[49m\n",
      "File \u001B[0;32m~/anaconda3/envs/FinancialMachineLearning/lib/python3.10/site-packages/sklearn/base.py:1151\u001B[0m, in \u001B[0;36m_fit_context.<locals>.decorator.<locals>.wrapper\u001B[0;34m(estimator, *args, **kwargs)\u001B[0m\n\u001B[1;32m   1144\u001B[0m     estimator\u001B[38;5;241m.\u001B[39m_validate_params()\n\u001B[1;32m   1146\u001B[0m \u001B[38;5;28;01mwith\u001B[39;00m config_context(\n\u001B[1;32m   1147\u001B[0m     skip_parameter_validation\u001B[38;5;241m=\u001B[39m(\n\u001B[1;32m   1148\u001B[0m         prefer_skip_nested_validation \u001B[38;5;129;01mor\u001B[39;00m global_skip_validation\n\u001B[1;32m   1149\u001B[0m     )\n\u001B[1;32m   1150\u001B[0m ):\n\u001B[0;32m-> 1151\u001B[0m     \u001B[38;5;28;01mreturn\u001B[39;00m \u001B[43mfit_method\u001B[49m\u001B[43m(\u001B[49m\u001B[43mestimator\u001B[49m\u001B[43m,\u001B[49m\u001B[43m \u001B[49m\u001B[38;5;241;43m*\u001B[39;49m\u001B[43margs\u001B[49m\u001B[43m,\u001B[49m\u001B[43m \u001B[49m\u001B[38;5;241;43m*\u001B[39;49m\u001B[38;5;241;43m*\u001B[39;49m\u001B[43mkwargs\u001B[49m\u001B[43m)\u001B[49m\n",
      "File \u001B[0;32m~/anaconda3/envs/FinancialMachineLearning/lib/python3.10/site-packages/sklearn/model_selection/_search.py:898\u001B[0m, in \u001B[0;36mBaseSearchCV.fit\u001B[0;34m(self, X, y, groups, **fit_params)\u001B[0m\n\u001B[1;32m    892\u001B[0m     results \u001B[38;5;241m=\u001B[39m \u001B[38;5;28mself\u001B[39m\u001B[38;5;241m.\u001B[39m_format_results(\n\u001B[1;32m    893\u001B[0m         all_candidate_params, n_splits, all_out, all_more_results\n\u001B[1;32m    894\u001B[0m     )\n\u001B[1;32m    896\u001B[0m     \u001B[38;5;28;01mreturn\u001B[39;00m results\n\u001B[0;32m--> 898\u001B[0m \u001B[38;5;28;43mself\u001B[39;49m\u001B[38;5;241;43m.\u001B[39;49m\u001B[43m_run_search\u001B[49m\u001B[43m(\u001B[49m\u001B[43mevaluate_candidates\u001B[49m\u001B[43m)\u001B[49m\n\u001B[1;32m    900\u001B[0m \u001B[38;5;66;03m# multimetric is determined here because in the case of a callable\u001B[39;00m\n\u001B[1;32m    901\u001B[0m \u001B[38;5;66;03m# self.scoring the return type is only known after calling\u001B[39;00m\n\u001B[1;32m    902\u001B[0m first_test_score \u001B[38;5;241m=\u001B[39m all_out[\u001B[38;5;241m0\u001B[39m][\u001B[38;5;124m\"\u001B[39m\u001B[38;5;124mtest_scores\u001B[39m\u001B[38;5;124m\"\u001B[39m]\n",
      "File \u001B[0;32m~/anaconda3/envs/FinancialMachineLearning/lib/python3.10/site-packages/sklearn/model_selection/_search.py:1806\u001B[0m, in \u001B[0;36mRandomizedSearchCV._run_search\u001B[0;34m(self, evaluate_candidates)\u001B[0m\n\u001B[1;32m   1804\u001B[0m \u001B[38;5;28;01mdef\u001B[39;00m \u001B[38;5;21m_run_search\u001B[39m(\u001B[38;5;28mself\u001B[39m, evaluate_candidates):\n\u001B[1;32m   1805\u001B[0m \u001B[38;5;250m    \u001B[39m\u001B[38;5;124;03m\"\"\"Search n_iter candidates from param_distributions\"\"\"\u001B[39;00m\n\u001B[0;32m-> 1806\u001B[0m     \u001B[43mevaluate_candidates\u001B[49m\u001B[43m(\u001B[49m\n\u001B[1;32m   1807\u001B[0m \u001B[43m        \u001B[49m\u001B[43mParameterSampler\u001B[49m\u001B[43m(\u001B[49m\n\u001B[1;32m   1808\u001B[0m \u001B[43m            \u001B[49m\u001B[38;5;28;43mself\u001B[39;49m\u001B[38;5;241;43m.\u001B[39;49m\u001B[43mparam_distributions\u001B[49m\u001B[43m,\u001B[49m\u001B[43m \u001B[49m\u001B[38;5;28;43mself\u001B[39;49m\u001B[38;5;241;43m.\u001B[39;49m\u001B[43mn_iter\u001B[49m\u001B[43m,\u001B[49m\u001B[43m \u001B[49m\u001B[43mrandom_state\u001B[49m\u001B[38;5;241;43m=\u001B[39;49m\u001B[38;5;28;43mself\u001B[39;49m\u001B[38;5;241;43m.\u001B[39;49m\u001B[43mrandom_state\u001B[49m\n\u001B[1;32m   1809\u001B[0m \u001B[43m        \u001B[49m\u001B[43m)\u001B[49m\n\u001B[1;32m   1810\u001B[0m \u001B[43m    \u001B[49m\u001B[43m)\u001B[49m\n",
      "File \u001B[0;32m~/anaconda3/envs/FinancialMachineLearning/lib/python3.10/site-packages/sklearn/model_selection/_search.py:845\u001B[0m, in \u001B[0;36mBaseSearchCV.fit.<locals>.evaluate_candidates\u001B[0;34m(candidate_params, cv, more_results)\u001B[0m\n\u001B[1;32m    837\u001B[0m \u001B[38;5;28;01mif\u001B[39;00m \u001B[38;5;28mself\u001B[39m\u001B[38;5;241m.\u001B[39mverbose \u001B[38;5;241m>\u001B[39m \u001B[38;5;241m0\u001B[39m:\n\u001B[1;32m    838\u001B[0m     \u001B[38;5;28mprint\u001B[39m(\n\u001B[1;32m    839\u001B[0m         \u001B[38;5;124m\"\u001B[39m\u001B[38;5;124mFitting \u001B[39m\u001B[38;5;132;01m{0}\u001B[39;00m\u001B[38;5;124m folds for each of \u001B[39m\u001B[38;5;132;01m{1}\u001B[39;00m\u001B[38;5;124m candidates,\u001B[39m\u001B[38;5;124m\"\u001B[39m\n\u001B[1;32m    840\u001B[0m         \u001B[38;5;124m\"\u001B[39m\u001B[38;5;124m totalling \u001B[39m\u001B[38;5;132;01m{2}\u001B[39;00m\u001B[38;5;124m fits\u001B[39m\u001B[38;5;124m\"\u001B[39m\u001B[38;5;241m.\u001B[39mformat(\n\u001B[1;32m    841\u001B[0m             n_splits, n_candidates, n_candidates \u001B[38;5;241m*\u001B[39m n_splits\n\u001B[1;32m    842\u001B[0m         )\n\u001B[1;32m    843\u001B[0m     )\n\u001B[0;32m--> 845\u001B[0m out \u001B[38;5;241m=\u001B[39m \u001B[43mparallel\u001B[49m\u001B[43m(\u001B[49m\n\u001B[1;32m    846\u001B[0m \u001B[43m    \u001B[49m\u001B[43mdelayed\u001B[49m\u001B[43m(\u001B[49m\u001B[43m_fit_and_score\u001B[49m\u001B[43m)\u001B[49m\u001B[43m(\u001B[49m\n\u001B[1;32m    847\u001B[0m \u001B[43m        \u001B[49m\u001B[43mclone\u001B[49m\u001B[43m(\u001B[49m\u001B[43mbase_estimator\u001B[49m\u001B[43m)\u001B[49m\u001B[43m,\u001B[49m\n\u001B[1;32m    848\u001B[0m \u001B[43m        \u001B[49m\u001B[43mX\u001B[49m\u001B[43m,\u001B[49m\n\u001B[1;32m    849\u001B[0m \u001B[43m        \u001B[49m\u001B[43my\u001B[49m\u001B[43m,\u001B[49m\n\u001B[1;32m    850\u001B[0m \u001B[43m        \u001B[49m\u001B[43mtrain\u001B[49m\u001B[38;5;241;43m=\u001B[39;49m\u001B[43mtrain\u001B[49m\u001B[43m,\u001B[49m\n\u001B[1;32m    851\u001B[0m \u001B[43m        \u001B[49m\u001B[43mtest\u001B[49m\u001B[38;5;241;43m=\u001B[39;49m\u001B[43mtest\u001B[49m\u001B[43m,\u001B[49m\n\u001B[1;32m    852\u001B[0m \u001B[43m        \u001B[49m\u001B[43mparameters\u001B[49m\u001B[38;5;241;43m=\u001B[39;49m\u001B[43mparameters\u001B[49m\u001B[43m,\u001B[49m\n\u001B[1;32m    853\u001B[0m \u001B[43m        \u001B[49m\u001B[43msplit_progress\u001B[49m\u001B[38;5;241;43m=\u001B[39;49m\u001B[43m(\u001B[49m\u001B[43msplit_idx\u001B[49m\u001B[43m,\u001B[49m\u001B[43m \u001B[49m\u001B[43mn_splits\u001B[49m\u001B[43m)\u001B[49m\u001B[43m,\u001B[49m\n\u001B[1;32m    854\u001B[0m \u001B[43m        \u001B[49m\u001B[43mcandidate_progress\u001B[49m\u001B[38;5;241;43m=\u001B[39;49m\u001B[43m(\u001B[49m\u001B[43mcand_idx\u001B[49m\u001B[43m,\u001B[49m\u001B[43m \u001B[49m\u001B[43mn_candidates\u001B[49m\u001B[43m)\u001B[49m\u001B[43m,\u001B[49m\n\u001B[1;32m    855\u001B[0m \u001B[43m        \u001B[49m\u001B[38;5;241;43m*\u001B[39;49m\u001B[38;5;241;43m*\u001B[39;49m\u001B[43mfit_and_score_kwargs\u001B[49m\u001B[43m,\u001B[49m\n\u001B[1;32m    856\u001B[0m \u001B[43m    \u001B[49m\u001B[43m)\u001B[49m\n\u001B[1;32m    857\u001B[0m \u001B[43m    \u001B[49m\u001B[38;5;28;43;01mfor\u001B[39;49;00m\u001B[43m \u001B[49m\u001B[43m(\u001B[49m\u001B[43mcand_idx\u001B[49m\u001B[43m,\u001B[49m\u001B[43m \u001B[49m\u001B[43mparameters\u001B[49m\u001B[43m)\u001B[49m\u001B[43m,\u001B[49m\u001B[43m \u001B[49m\u001B[43m(\u001B[49m\u001B[43msplit_idx\u001B[49m\u001B[43m,\u001B[49m\u001B[43m \u001B[49m\u001B[43m(\u001B[49m\u001B[43mtrain\u001B[49m\u001B[43m,\u001B[49m\u001B[43m \u001B[49m\u001B[43mtest\u001B[49m\u001B[43m)\u001B[49m\u001B[43m)\u001B[49m\u001B[43m \u001B[49m\u001B[38;5;129;43;01min\u001B[39;49;00m\u001B[43m \u001B[49m\u001B[43mproduct\u001B[49m\u001B[43m(\u001B[49m\n\u001B[1;32m    858\u001B[0m \u001B[43m        \u001B[49m\u001B[38;5;28;43menumerate\u001B[39;49m\u001B[43m(\u001B[49m\u001B[43mcandidate_params\u001B[49m\u001B[43m)\u001B[49m\u001B[43m,\u001B[49m\u001B[43m \u001B[49m\u001B[38;5;28;43menumerate\u001B[39;49m\u001B[43m(\u001B[49m\u001B[43mcv\u001B[49m\u001B[38;5;241;43m.\u001B[39;49m\u001B[43msplit\u001B[49m\u001B[43m(\u001B[49m\u001B[43mX\u001B[49m\u001B[43m,\u001B[49m\u001B[43m \u001B[49m\u001B[43my\u001B[49m\u001B[43m,\u001B[49m\u001B[43m \u001B[49m\u001B[43mgroups\u001B[49m\u001B[43m)\u001B[49m\u001B[43m)\u001B[49m\n\u001B[1;32m    859\u001B[0m \u001B[43m    \u001B[49m\u001B[43m)\u001B[49m\n\u001B[1;32m    860\u001B[0m \u001B[43m\u001B[49m\u001B[43m)\u001B[49m\n\u001B[1;32m    862\u001B[0m \u001B[38;5;28;01mif\u001B[39;00m \u001B[38;5;28mlen\u001B[39m(out) \u001B[38;5;241m<\u001B[39m \u001B[38;5;241m1\u001B[39m:\n\u001B[1;32m    863\u001B[0m     \u001B[38;5;28;01mraise\u001B[39;00m \u001B[38;5;167;01mValueError\u001B[39;00m(\n\u001B[1;32m    864\u001B[0m         \u001B[38;5;124m\"\u001B[39m\u001B[38;5;124mNo fits were performed. \u001B[39m\u001B[38;5;124m\"\u001B[39m\n\u001B[1;32m    865\u001B[0m         \u001B[38;5;124m\"\u001B[39m\u001B[38;5;124mWas the CV iterator empty? \u001B[39m\u001B[38;5;124m\"\u001B[39m\n\u001B[1;32m    866\u001B[0m         \u001B[38;5;124m\"\u001B[39m\u001B[38;5;124mWere there no candidates?\u001B[39m\u001B[38;5;124m\"\u001B[39m\n\u001B[1;32m    867\u001B[0m     )\n",
      "File \u001B[0;32m~/anaconda3/envs/FinancialMachineLearning/lib/python3.10/site-packages/sklearn/utils/parallel.py:65\u001B[0m, in \u001B[0;36mParallel.__call__\u001B[0;34m(self, iterable)\u001B[0m\n\u001B[1;32m     60\u001B[0m config \u001B[38;5;241m=\u001B[39m get_config()\n\u001B[1;32m     61\u001B[0m iterable_with_config \u001B[38;5;241m=\u001B[39m (\n\u001B[1;32m     62\u001B[0m     (_with_config(delayed_func, config), args, kwargs)\n\u001B[1;32m     63\u001B[0m     \u001B[38;5;28;01mfor\u001B[39;00m delayed_func, args, kwargs \u001B[38;5;129;01min\u001B[39;00m iterable\n\u001B[1;32m     64\u001B[0m )\n\u001B[0;32m---> 65\u001B[0m \u001B[38;5;28;01mreturn\u001B[39;00m \u001B[38;5;28;43msuper\u001B[39;49m\u001B[43m(\u001B[49m\u001B[43m)\u001B[49m\u001B[38;5;241;43m.\u001B[39;49m\u001B[38;5;21;43m__call__\u001B[39;49m\u001B[43m(\u001B[49m\u001B[43miterable_with_config\u001B[49m\u001B[43m)\u001B[49m\n",
      "File \u001B[0;32m~/anaconda3/envs/FinancialMachineLearning/lib/python3.10/site-packages/joblib/parallel.py:1088\u001B[0m, in \u001B[0;36mParallel.__call__\u001B[0;34m(self, iterable)\u001B[0m\n\u001B[1;32m   1085\u001B[0m \u001B[38;5;28;01mif\u001B[39;00m \u001B[38;5;28mself\u001B[39m\u001B[38;5;241m.\u001B[39mdispatch_one_batch(iterator):\n\u001B[1;32m   1086\u001B[0m     \u001B[38;5;28mself\u001B[39m\u001B[38;5;241m.\u001B[39m_iterating \u001B[38;5;241m=\u001B[39m \u001B[38;5;28mself\u001B[39m\u001B[38;5;241m.\u001B[39m_original_iterator \u001B[38;5;129;01mis\u001B[39;00m \u001B[38;5;129;01mnot\u001B[39;00m \u001B[38;5;28;01mNone\u001B[39;00m\n\u001B[0;32m-> 1088\u001B[0m \u001B[38;5;28;01mwhile\u001B[39;00m \u001B[38;5;28;43mself\u001B[39;49m\u001B[38;5;241;43m.\u001B[39;49m\u001B[43mdispatch_one_batch\u001B[49m\u001B[43m(\u001B[49m\u001B[43miterator\u001B[49m\u001B[43m)\u001B[49m:\n\u001B[1;32m   1089\u001B[0m     \u001B[38;5;28;01mpass\u001B[39;00m\n\u001B[1;32m   1091\u001B[0m \u001B[38;5;28;01mif\u001B[39;00m pre_dispatch \u001B[38;5;241m==\u001B[39m \u001B[38;5;124m\"\u001B[39m\u001B[38;5;124mall\u001B[39m\u001B[38;5;124m\"\u001B[39m \u001B[38;5;129;01mor\u001B[39;00m n_jobs \u001B[38;5;241m==\u001B[39m \u001B[38;5;241m1\u001B[39m:\n\u001B[1;32m   1092\u001B[0m     \u001B[38;5;66;03m# The iterable was consumed all at once by the above for loop.\u001B[39;00m\n\u001B[1;32m   1093\u001B[0m     \u001B[38;5;66;03m# No need to wait for async callbacks to trigger to\u001B[39;00m\n\u001B[1;32m   1094\u001B[0m     \u001B[38;5;66;03m# consumption.\u001B[39;00m\n",
      "File \u001B[0;32m~/anaconda3/envs/FinancialMachineLearning/lib/python3.10/site-packages/joblib/parallel.py:901\u001B[0m, in \u001B[0;36mParallel.dispatch_one_batch\u001B[0;34m(self, iterator)\u001B[0m\n\u001B[1;32m    899\u001B[0m     \u001B[38;5;28;01mreturn\u001B[39;00m \u001B[38;5;28;01mFalse\u001B[39;00m\n\u001B[1;32m    900\u001B[0m \u001B[38;5;28;01melse\u001B[39;00m:\n\u001B[0;32m--> 901\u001B[0m     \u001B[38;5;28;43mself\u001B[39;49m\u001B[38;5;241;43m.\u001B[39;49m\u001B[43m_dispatch\u001B[49m\u001B[43m(\u001B[49m\u001B[43mtasks\u001B[49m\u001B[43m)\u001B[49m\n\u001B[1;32m    902\u001B[0m     \u001B[38;5;28;01mreturn\u001B[39;00m \u001B[38;5;28;01mTrue\u001B[39;00m\n",
      "File \u001B[0;32m~/anaconda3/envs/FinancialMachineLearning/lib/python3.10/site-packages/joblib/parallel.py:819\u001B[0m, in \u001B[0;36mParallel._dispatch\u001B[0;34m(self, batch)\u001B[0m\n\u001B[1;32m    817\u001B[0m \u001B[38;5;28;01mwith\u001B[39;00m \u001B[38;5;28mself\u001B[39m\u001B[38;5;241m.\u001B[39m_lock:\n\u001B[1;32m    818\u001B[0m     job_idx \u001B[38;5;241m=\u001B[39m \u001B[38;5;28mlen\u001B[39m(\u001B[38;5;28mself\u001B[39m\u001B[38;5;241m.\u001B[39m_jobs)\n\u001B[0;32m--> 819\u001B[0m     job \u001B[38;5;241m=\u001B[39m \u001B[38;5;28;43mself\u001B[39;49m\u001B[38;5;241;43m.\u001B[39;49m\u001B[43m_backend\u001B[49m\u001B[38;5;241;43m.\u001B[39;49m\u001B[43mapply_async\u001B[49m\u001B[43m(\u001B[49m\u001B[43mbatch\u001B[49m\u001B[43m,\u001B[49m\u001B[43m \u001B[49m\u001B[43mcallback\u001B[49m\u001B[38;5;241;43m=\u001B[39;49m\u001B[43mcb\u001B[49m\u001B[43m)\u001B[49m\n\u001B[1;32m    820\u001B[0m     \u001B[38;5;66;03m# A job can complete so quickly than its callback is\u001B[39;00m\n\u001B[1;32m    821\u001B[0m     \u001B[38;5;66;03m# called before we get here, causing self._jobs to\u001B[39;00m\n\u001B[1;32m    822\u001B[0m     \u001B[38;5;66;03m# grow. To ensure correct results ordering, .insert is\u001B[39;00m\n\u001B[1;32m    823\u001B[0m     \u001B[38;5;66;03m# used (rather than .append) in the following line\u001B[39;00m\n\u001B[1;32m    824\u001B[0m     \u001B[38;5;28mself\u001B[39m\u001B[38;5;241m.\u001B[39m_jobs\u001B[38;5;241m.\u001B[39minsert(job_idx, job)\n",
      "File \u001B[0;32m~/anaconda3/envs/FinancialMachineLearning/lib/python3.10/site-packages/joblib/_parallel_backends.py:208\u001B[0m, in \u001B[0;36mSequentialBackend.apply_async\u001B[0;34m(self, func, callback)\u001B[0m\n\u001B[1;32m    206\u001B[0m \u001B[38;5;28;01mdef\u001B[39;00m \u001B[38;5;21mapply_async\u001B[39m(\u001B[38;5;28mself\u001B[39m, func, callback\u001B[38;5;241m=\u001B[39m\u001B[38;5;28;01mNone\u001B[39;00m):\n\u001B[1;32m    207\u001B[0m \u001B[38;5;250m    \u001B[39m\u001B[38;5;124;03m\"\"\"Schedule a func to be run\"\"\"\u001B[39;00m\n\u001B[0;32m--> 208\u001B[0m     result \u001B[38;5;241m=\u001B[39m \u001B[43mImmediateResult\u001B[49m\u001B[43m(\u001B[49m\u001B[43mfunc\u001B[49m\u001B[43m)\u001B[49m\n\u001B[1;32m    209\u001B[0m     \u001B[38;5;28;01mif\u001B[39;00m callback:\n\u001B[1;32m    210\u001B[0m         callback(result)\n",
      "File \u001B[0;32m~/anaconda3/envs/FinancialMachineLearning/lib/python3.10/site-packages/joblib/_parallel_backends.py:597\u001B[0m, in \u001B[0;36mImmediateResult.__init__\u001B[0;34m(self, batch)\u001B[0m\n\u001B[1;32m    594\u001B[0m \u001B[38;5;28;01mdef\u001B[39;00m \u001B[38;5;21m__init__\u001B[39m(\u001B[38;5;28mself\u001B[39m, batch):\n\u001B[1;32m    595\u001B[0m     \u001B[38;5;66;03m# Don't delay the application, to avoid keeping the input\u001B[39;00m\n\u001B[1;32m    596\u001B[0m     \u001B[38;5;66;03m# arguments in memory\u001B[39;00m\n\u001B[0;32m--> 597\u001B[0m     \u001B[38;5;28mself\u001B[39m\u001B[38;5;241m.\u001B[39mresults \u001B[38;5;241m=\u001B[39m \u001B[43mbatch\u001B[49m\u001B[43m(\u001B[49m\u001B[43m)\u001B[49m\n",
      "File \u001B[0;32m~/anaconda3/envs/FinancialMachineLearning/lib/python3.10/site-packages/joblib/parallel.py:288\u001B[0m, in \u001B[0;36mBatchedCalls.__call__\u001B[0;34m(self)\u001B[0m\n\u001B[1;32m    284\u001B[0m \u001B[38;5;28;01mdef\u001B[39;00m \u001B[38;5;21m__call__\u001B[39m(\u001B[38;5;28mself\u001B[39m):\n\u001B[1;32m    285\u001B[0m     \u001B[38;5;66;03m# Set the default nested backend to self._backend but do not set the\u001B[39;00m\n\u001B[1;32m    286\u001B[0m     \u001B[38;5;66;03m# change the default number of processes to -1\u001B[39;00m\n\u001B[1;32m    287\u001B[0m     \u001B[38;5;28;01mwith\u001B[39;00m parallel_backend(\u001B[38;5;28mself\u001B[39m\u001B[38;5;241m.\u001B[39m_backend, n_jobs\u001B[38;5;241m=\u001B[39m\u001B[38;5;28mself\u001B[39m\u001B[38;5;241m.\u001B[39m_n_jobs):\n\u001B[0;32m--> 288\u001B[0m         \u001B[38;5;28;01mreturn\u001B[39;00m [func(\u001B[38;5;241m*\u001B[39margs, \u001B[38;5;241m*\u001B[39m\u001B[38;5;241m*\u001B[39mkwargs)\n\u001B[1;32m    289\u001B[0m                 \u001B[38;5;28;01mfor\u001B[39;00m func, args, kwargs \u001B[38;5;129;01min\u001B[39;00m \u001B[38;5;28mself\u001B[39m\u001B[38;5;241m.\u001B[39mitems]\n",
      "File \u001B[0;32m~/anaconda3/envs/FinancialMachineLearning/lib/python3.10/site-packages/joblib/parallel.py:288\u001B[0m, in \u001B[0;36m<listcomp>\u001B[0;34m(.0)\u001B[0m\n\u001B[1;32m    284\u001B[0m \u001B[38;5;28;01mdef\u001B[39;00m \u001B[38;5;21m__call__\u001B[39m(\u001B[38;5;28mself\u001B[39m):\n\u001B[1;32m    285\u001B[0m     \u001B[38;5;66;03m# Set the default nested backend to self._backend but do not set the\u001B[39;00m\n\u001B[1;32m    286\u001B[0m     \u001B[38;5;66;03m# change the default number of processes to -1\u001B[39;00m\n\u001B[1;32m    287\u001B[0m     \u001B[38;5;28;01mwith\u001B[39;00m parallel_backend(\u001B[38;5;28mself\u001B[39m\u001B[38;5;241m.\u001B[39m_backend, n_jobs\u001B[38;5;241m=\u001B[39m\u001B[38;5;28mself\u001B[39m\u001B[38;5;241m.\u001B[39m_n_jobs):\n\u001B[0;32m--> 288\u001B[0m         \u001B[38;5;28;01mreturn\u001B[39;00m [\u001B[43mfunc\u001B[49m\u001B[43m(\u001B[49m\u001B[38;5;241;43m*\u001B[39;49m\u001B[43margs\u001B[49m\u001B[43m,\u001B[49m\u001B[43m \u001B[49m\u001B[38;5;241;43m*\u001B[39;49m\u001B[38;5;241;43m*\u001B[39;49m\u001B[43mkwargs\u001B[49m\u001B[43m)\u001B[49m\n\u001B[1;32m    289\u001B[0m                 \u001B[38;5;28;01mfor\u001B[39;00m func, args, kwargs \u001B[38;5;129;01min\u001B[39;00m \u001B[38;5;28mself\u001B[39m\u001B[38;5;241m.\u001B[39mitems]\n",
      "File \u001B[0;32m~/anaconda3/envs/FinancialMachineLearning/lib/python3.10/site-packages/sklearn/utils/parallel.py:127\u001B[0m, in \u001B[0;36m_FuncWrapper.__call__\u001B[0;34m(self, *args, **kwargs)\u001B[0m\n\u001B[1;32m    125\u001B[0m     config \u001B[38;5;241m=\u001B[39m {}\n\u001B[1;32m    126\u001B[0m \u001B[38;5;28;01mwith\u001B[39;00m config_context(\u001B[38;5;241m*\u001B[39m\u001B[38;5;241m*\u001B[39mconfig):\n\u001B[0;32m--> 127\u001B[0m     \u001B[38;5;28;01mreturn\u001B[39;00m \u001B[38;5;28;43mself\u001B[39;49m\u001B[38;5;241;43m.\u001B[39;49m\u001B[43mfunction\u001B[49m\u001B[43m(\u001B[49m\u001B[38;5;241;43m*\u001B[39;49m\u001B[43margs\u001B[49m\u001B[43m,\u001B[49m\u001B[43m \u001B[49m\u001B[38;5;241;43m*\u001B[39;49m\u001B[38;5;241;43m*\u001B[39;49m\u001B[43mkwargs\u001B[49m\u001B[43m)\u001B[49m\n",
      "File \u001B[0;32m~/anaconda3/envs/FinancialMachineLearning/lib/python3.10/site-packages/sklearn/model_selection/_validation.py:732\u001B[0m, in \u001B[0;36m_fit_and_score\u001B[0;34m(estimator, X, y, scorer, train, test, verbose, parameters, fit_params, return_train_score, return_parameters, return_n_test_samples, return_times, return_estimator, split_progress, candidate_progress, error_score)\u001B[0m\n\u001B[1;32m    730\u001B[0m         estimator\u001B[38;5;241m.\u001B[39mfit(X_train, \u001B[38;5;241m*\u001B[39m\u001B[38;5;241m*\u001B[39mfit_params)\n\u001B[1;32m    731\u001B[0m     \u001B[38;5;28;01melse\u001B[39;00m:\n\u001B[0;32m--> 732\u001B[0m         \u001B[43mestimator\u001B[49m\u001B[38;5;241;43m.\u001B[39;49m\u001B[43mfit\u001B[49m\u001B[43m(\u001B[49m\u001B[43mX_train\u001B[49m\u001B[43m,\u001B[49m\u001B[43m \u001B[49m\u001B[43my_train\u001B[49m\u001B[43m,\u001B[49m\u001B[43m \u001B[49m\u001B[38;5;241;43m*\u001B[39;49m\u001B[38;5;241;43m*\u001B[39;49m\u001B[43mfit_params\u001B[49m\u001B[43m)\u001B[49m\n\u001B[1;32m    734\u001B[0m \u001B[38;5;28;01mexcept\u001B[39;00m \u001B[38;5;167;01mException\u001B[39;00m:\n\u001B[1;32m    735\u001B[0m     \u001B[38;5;66;03m# Note fit time as time until error\u001B[39;00m\n\u001B[1;32m    736\u001B[0m     fit_time \u001B[38;5;241m=\u001B[39m time\u001B[38;5;241m.\u001B[39mtime() \u001B[38;5;241m-\u001B[39m start_time\n",
      "File \u001B[0;32m~/anaconda3/envs/FinancialMachineLearning/lib/python3.10/site-packages/lightgbm/sklearn.py:1142\u001B[0m, in \u001B[0;36mLGBMClassifier.fit\u001B[0;34m(self, X, y, sample_weight, init_score, eval_set, eval_names, eval_sample_weight, eval_class_weight, eval_init_score, eval_metric, feature_name, categorical_feature, callbacks, init_model)\u001B[0m\n\u001B[1;32m   1139\u001B[0m         \u001B[38;5;28;01melse\u001B[39;00m:\n\u001B[1;32m   1140\u001B[0m             valid_sets\u001B[38;5;241m.\u001B[39mappend((valid_x, \u001B[38;5;28mself\u001B[39m\u001B[38;5;241m.\u001B[39m_le\u001B[38;5;241m.\u001B[39mtransform(valid_y)))\n\u001B[0;32m-> 1142\u001B[0m \u001B[38;5;28;43msuper\u001B[39;49m\u001B[43m(\u001B[49m\u001B[43m)\u001B[49m\u001B[38;5;241;43m.\u001B[39;49m\u001B[43mfit\u001B[49m\u001B[43m(\u001B[49m\n\u001B[1;32m   1143\u001B[0m \u001B[43m    \u001B[49m\u001B[43mX\u001B[49m\u001B[43m,\u001B[49m\n\u001B[1;32m   1144\u001B[0m \u001B[43m    \u001B[49m\u001B[43m_y\u001B[49m\u001B[43m,\u001B[49m\n\u001B[1;32m   1145\u001B[0m \u001B[43m    \u001B[49m\u001B[43msample_weight\u001B[49m\u001B[38;5;241;43m=\u001B[39;49m\u001B[43msample_weight\u001B[49m\u001B[43m,\u001B[49m\n\u001B[1;32m   1146\u001B[0m \u001B[43m    \u001B[49m\u001B[43minit_score\u001B[49m\u001B[38;5;241;43m=\u001B[39;49m\u001B[43minit_score\u001B[49m\u001B[43m,\u001B[49m\n\u001B[1;32m   1147\u001B[0m \u001B[43m    \u001B[49m\u001B[43meval_set\u001B[49m\u001B[38;5;241;43m=\u001B[39;49m\u001B[43mvalid_sets\u001B[49m\u001B[43m,\u001B[49m\n\u001B[1;32m   1148\u001B[0m \u001B[43m    \u001B[49m\u001B[43meval_names\u001B[49m\u001B[38;5;241;43m=\u001B[39;49m\u001B[43meval_names\u001B[49m\u001B[43m,\u001B[49m\n\u001B[1;32m   1149\u001B[0m \u001B[43m    \u001B[49m\u001B[43meval_sample_weight\u001B[49m\u001B[38;5;241;43m=\u001B[39;49m\u001B[43meval_sample_weight\u001B[49m\u001B[43m,\u001B[49m\n\u001B[1;32m   1150\u001B[0m \u001B[43m    \u001B[49m\u001B[43meval_class_weight\u001B[49m\u001B[38;5;241;43m=\u001B[39;49m\u001B[43meval_class_weight\u001B[49m\u001B[43m,\u001B[49m\n\u001B[1;32m   1151\u001B[0m \u001B[43m    \u001B[49m\u001B[43meval_init_score\u001B[49m\u001B[38;5;241;43m=\u001B[39;49m\u001B[43meval_init_score\u001B[49m\u001B[43m,\u001B[49m\n\u001B[1;32m   1152\u001B[0m \u001B[43m    \u001B[49m\u001B[43meval_metric\u001B[49m\u001B[38;5;241;43m=\u001B[39;49m\u001B[43meval_metric\u001B[49m\u001B[43m,\u001B[49m\n\u001B[1;32m   1153\u001B[0m \u001B[43m    \u001B[49m\u001B[43mfeature_name\u001B[49m\u001B[38;5;241;43m=\u001B[39;49m\u001B[43mfeature_name\u001B[49m\u001B[43m,\u001B[49m\n\u001B[1;32m   1154\u001B[0m \u001B[43m    \u001B[49m\u001B[43mcategorical_feature\u001B[49m\u001B[38;5;241;43m=\u001B[39;49m\u001B[43mcategorical_feature\u001B[49m\u001B[43m,\u001B[49m\n\u001B[1;32m   1155\u001B[0m \u001B[43m    \u001B[49m\u001B[43mcallbacks\u001B[49m\u001B[38;5;241;43m=\u001B[39;49m\u001B[43mcallbacks\u001B[49m\u001B[43m,\u001B[49m\n\u001B[1;32m   1156\u001B[0m \u001B[43m    \u001B[49m\u001B[43minit_model\u001B[49m\u001B[38;5;241;43m=\u001B[39;49m\u001B[43minit_model\u001B[49m\n\u001B[1;32m   1157\u001B[0m \u001B[43m\u001B[49m\u001B[43m)\u001B[49m\n\u001B[1;32m   1158\u001B[0m \u001B[38;5;28;01mreturn\u001B[39;00m \u001B[38;5;28mself\u001B[39m\n",
      "File \u001B[0;32m~/anaconda3/envs/FinancialMachineLearning/lib/python3.10/site-packages/lightgbm/sklearn.py:842\u001B[0m, in \u001B[0;36mLGBMModel.fit\u001B[0;34m(self, X, y, sample_weight, init_score, group, eval_set, eval_names, eval_sample_weight, eval_class_weight, eval_init_score, eval_group, eval_metric, feature_name, categorical_feature, callbacks, init_model)\u001B[0m\n\u001B[1;32m    839\u001B[0m evals_result: _EvalResultDict \u001B[38;5;241m=\u001B[39m {}\n\u001B[1;32m    840\u001B[0m callbacks\u001B[38;5;241m.\u001B[39mappend(record_evaluation(evals_result))\n\u001B[0;32m--> 842\u001B[0m \u001B[38;5;28mself\u001B[39m\u001B[38;5;241m.\u001B[39m_Booster \u001B[38;5;241m=\u001B[39m \u001B[43mtrain\u001B[49m\u001B[43m(\u001B[49m\n\u001B[1;32m    843\u001B[0m \u001B[43m    \u001B[49m\u001B[43mparams\u001B[49m\u001B[38;5;241;43m=\u001B[39;49m\u001B[43mparams\u001B[49m\u001B[43m,\u001B[49m\n\u001B[1;32m    844\u001B[0m \u001B[43m    \u001B[49m\u001B[43mtrain_set\u001B[49m\u001B[38;5;241;43m=\u001B[39;49m\u001B[43mtrain_set\u001B[49m\u001B[43m,\u001B[49m\n\u001B[1;32m    845\u001B[0m \u001B[43m    \u001B[49m\u001B[43mnum_boost_round\u001B[49m\u001B[38;5;241;43m=\u001B[39;49m\u001B[38;5;28;43mself\u001B[39;49m\u001B[38;5;241;43m.\u001B[39;49m\u001B[43mn_estimators\u001B[49m\u001B[43m,\u001B[49m\n\u001B[1;32m    846\u001B[0m \u001B[43m    \u001B[49m\u001B[43mvalid_sets\u001B[49m\u001B[38;5;241;43m=\u001B[39;49m\u001B[43mvalid_sets\u001B[49m\u001B[43m,\u001B[49m\n\u001B[1;32m    847\u001B[0m \u001B[43m    \u001B[49m\u001B[43mvalid_names\u001B[49m\u001B[38;5;241;43m=\u001B[39;49m\u001B[43meval_names\u001B[49m\u001B[43m,\u001B[49m\n\u001B[1;32m    848\u001B[0m \u001B[43m    \u001B[49m\u001B[43mfeval\u001B[49m\u001B[38;5;241;43m=\u001B[39;49m\u001B[43meval_metrics_callable\u001B[49m\u001B[43m,\u001B[49m\u001B[43m  \u001B[49m\u001B[38;5;66;43;03m# type: ignore[arg-type]\u001B[39;49;00m\n\u001B[1;32m    849\u001B[0m \u001B[43m    \u001B[49m\u001B[43minit_model\u001B[49m\u001B[38;5;241;43m=\u001B[39;49m\u001B[43minit_model\u001B[49m\u001B[43m,\u001B[49m\n\u001B[1;32m    850\u001B[0m \u001B[43m    \u001B[49m\u001B[43mfeature_name\u001B[49m\u001B[38;5;241;43m=\u001B[39;49m\u001B[43mfeature_name\u001B[49m\u001B[43m,\u001B[49m\n\u001B[1;32m    851\u001B[0m \u001B[43m    \u001B[49m\u001B[43mcallbacks\u001B[49m\u001B[38;5;241;43m=\u001B[39;49m\u001B[43mcallbacks\u001B[49m\n\u001B[1;32m    852\u001B[0m \u001B[43m\u001B[49m\u001B[43m)\u001B[49m\n\u001B[1;32m    854\u001B[0m \u001B[38;5;28mself\u001B[39m\u001B[38;5;241m.\u001B[39m_evals_result \u001B[38;5;241m=\u001B[39m evals_result\n\u001B[1;32m    855\u001B[0m \u001B[38;5;28mself\u001B[39m\u001B[38;5;241m.\u001B[39m_best_iteration \u001B[38;5;241m=\u001B[39m \u001B[38;5;28mself\u001B[39m\u001B[38;5;241m.\u001B[39m_Booster\u001B[38;5;241m.\u001B[39mbest_iteration\n",
      "File \u001B[0;32m~/anaconda3/envs/FinancialMachineLearning/lib/python3.10/site-packages/lightgbm/engine.py:276\u001B[0m, in \u001B[0;36mtrain\u001B[0;34m(params, train_set, num_boost_round, valid_sets, valid_names, feval, init_model, feature_name, categorical_feature, keep_training_booster, callbacks)\u001B[0m\n\u001B[1;32m    268\u001B[0m \u001B[38;5;28;01mfor\u001B[39;00m cb \u001B[38;5;129;01min\u001B[39;00m callbacks_before_iter:\n\u001B[1;32m    269\u001B[0m     cb(callback\u001B[38;5;241m.\u001B[39mCallbackEnv(model\u001B[38;5;241m=\u001B[39mbooster,\n\u001B[1;32m    270\u001B[0m                             params\u001B[38;5;241m=\u001B[39mparams,\n\u001B[1;32m    271\u001B[0m                             iteration\u001B[38;5;241m=\u001B[39mi,\n\u001B[1;32m    272\u001B[0m                             begin_iteration\u001B[38;5;241m=\u001B[39minit_iteration,\n\u001B[1;32m    273\u001B[0m                             end_iteration\u001B[38;5;241m=\u001B[39minit_iteration \u001B[38;5;241m+\u001B[39m num_boost_round,\n\u001B[1;32m    274\u001B[0m                             evaluation_result_list\u001B[38;5;241m=\u001B[39m\u001B[38;5;28;01mNone\u001B[39;00m))\n\u001B[0;32m--> 276\u001B[0m \u001B[43mbooster\u001B[49m\u001B[38;5;241;43m.\u001B[39;49m\u001B[43mupdate\u001B[49m\u001B[43m(\u001B[49m\u001B[43mfobj\u001B[49m\u001B[38;5;241;43m=\u001B[39;49m\u001B[43mfobj\u001B[49m\u001B[43m)\u001B[49m\n\u001B[1;32m    278\u001B[0m evaluation_result_list: List[_LGBM_BoosterEvalMethodResultType] \u001B[38;5;241m=\u001B[39m []\n\u001B[1;32m    279\u001B[0m \u001B[38;5;66;03m# check evaluation result.\u001B[39;00m\n",
      "File \u001B[0;32m~/anaconda3/envs/FinancialMachineLearning/lib/python3.10/site-packages/lightgbm/basic.py:3658\u001B[0m, in \u001B[0;36mBooster.update\u001B[0;34m(self, train_set, fobj)\u001B[0m\n\u001B[1;32m   3656\u001B[0m \u001B[38;5;28;01mif\u001B[39;00m \u001B[38;5;28mself\u001B[39m\u001B[38;5;241m.\u001B[39m__set_objective_to_none:\n\u001B[1;32m   3657\u001B[0m     \u001B[38;5;28;01mraise\u001B[39;00m LightGBMError(\u001B[38;5;124m'\u001B[39m\u001B[38;5;124mCannot update due to null objective function.\u001B[39m\u001B[38;5;124m'\u001B[39m)\n\u001B[0;32m-> 3658\u001B[0m _safe_call(\u001B[43m_LIB\u001B[49m\u001B[38;5;241;43m.\u001B[39;49m\u001B[43mLGBM_BoosterUpdateOneIter\u001B[49m\u001B[43m(\u001B[49m\n\u001B[1;32m   3659\u001B[0m \u001B[43m    \u001B[49m\u001B[38;5;28;43mself\u001B[39;49m\u001B[38;5;241;43m.\u001B[39;49m\u001B[43m_handle\u001B[49m\u001B[43m,\u001B[49m\n\u001B[1;32m   3660\u001B[0m \u001B[43m    \u001B[49m\u001B[43mctypes\u001B[49m\u001B[38;5;241;43m.\u001B[39;49m\u001B[43mbyref\u001B[49m\u001B[43m(\u001B[49m\u001B[43mis_finished\u001B[49m\u001B[43m)\u001B[49m\u001B[43m)\u001B[49m)\n\u001B[1;32m   3661\u001B[0m \u001B[38;5;28mself\u001B[39m\u001B[38;5;241m.\u001B[39m__is_predicted_cur_iter \u001B[38;5;241m=\u001B[39m [\u001B[38;5;28;01mFalse\u001B[39;00m \u001B[38;5;28;01mfor\u001B[39;00m _ \u001B[38;5;129;01min\u001B[39;00m \u001B[38;5;28mrange\u001B[39m(\u001B[38;5;28mself\u001B[39m\u001B[38;5;241m.\u001B[39m__num_dataset)]\n\u001B[1;32m   3662\u001B[0m \u001B[38;5;28;01mreturn\u001B[39;00m is_finished\u001B[38;5;241m.\u001B[39mvalue \u001B[38;5;241m==\u001B[39m \u001B[38;5;241m1\u001B[39m\n",
      "\u001B[0;31mKeyboardInterrupt\u001B[0m: "
     ]
    }
   ],
   "source": [
    "clf.fit(X_train_scaled, y_train)"
   ]
  },
  {
   "cell_type": "code",
   "execution_count": 193,
   "metadata": {},
   "outputs": [
    {
     "data": {
      "text/html": [
       "<style>#sk-container-id-2 {color: black;}#sk-container-id-2 pre{padding: 0;}#sk-container-id-2 div.sk-toggleable {background-color: white;}#sk-container-id-2 label.sk-toggleable__label {cursor: pointer;display: block;width: 100%;margin-bottom: 0;padding: 0.3em;box-sizing: border-box;text-align: center;}#sk-container-id-2 label.sk-toggleable__label-arrow:before {content: \"▸\";float: left;margin-right: 0.25em;color: #696969;}#sk-container-id-2 label.sk-toggleable__label-arrow:hover:before {color: black;}#sk-container-id-2 div.sk-estimator:hover label.sk-toggleable__label-arrow:before {color: black;}#sk-container-id-2 div.sk-toggleable__content {max-height: 0;max-width: 0;overflow: hidden;text-align: left;background-color: #f0f8ff;}#sk-container-id-2 div.sk-toggleable__content pre {margin: 0.2em;color: black;border-radius: 0.25em;background-color: #f0f8ff;}#sk-container-id-2 input.sk-toggleable__control:checked~div.sk-toggleable__content {max-height: 200px;max-width: 100%;overflow: auto;}#sk-container-id-2 input.sk-toggleable__control:checked~label.sk-toggleable__label-arrow:before {content: \"▾\";}#sk-container-id-2 div.sk-estimator input.sk-toggleable__control:checked~label.sk-toggleable__label {background-color: #d4ebff;}#sk-container-id-2 div.sk-label input.sk-toggleable__control:checked~label.sk-toggleable__label {background-color: #d4ebff;}#sk-container-id-2 input.sk-hidden--visually {border: 0;clip: rect(1px 1px 1px 1px);clip: rect(1px, 1px, 1px, 1px);height: 1px;margin: -1px;overflow: hidden;padding: 0;position: absolute;width: 1px;}#sk-container-id-2 div.sk-estimator {font-family: monospace;background-color: #f0f8ff;border: 1px dotted black;border-radius: 0.25em;box-sizing: border-box;margin-bottom: 0.5em;}#sk-container-id-2 div.sk-estimator:hover {background-color: #d4ebff;}#sk-container-id-2 div.sk-parallel-item::after {content: \"\";width: 100%;border-bottom: 1px solid gray;flex-grow: 1;}#sk-container-id-2 div.sk-label:hover label.sk-toggleable__label {background-color: #d4ebff;}#sk-container-id-2 div.sk-serial::before {content: \"\";position: absolute;border-left: 1px solid gray;box-sizing: border-box;top: 0;bottom: 0;left: 50%;z-index: 0;}#sk-container-id-2 div.sk-serial {display: flex;flex-direction: column;align-items: center;background-color: white;padding-right: 0.2em;padding-left: 0.2em;position: relative;}#sk-container-id-2 div.sk-item {position: relative;z-index: 1;}#sk-container-id-2 div.sk-parallel {display: flex;align-items: stretch;justify-content: center;background-color: white;position: relative;}#sk-container-id-2 div.sk-item::before, #sk-container-id-2 div.sk-parallel-item::before {content: \"\";position: absolute;border-left: 1px solid gray;box-sizing: border-box;top: 0;bottom: 0;left: 50%;z-index: -1;}#sk-container-id-2 div.sk-parallel-item {display: flex;flex-direction: column;z-index: 1;position: relative;background-color: white;}#sk-container-id-2 div.sk-parallel-item:first-child::after {align-self: flex-end;width: 50%;}#sk-container-id-2 div.sk-parallel-item:last-child::after {align-self: flex-start;width: 50%;}#sk-container-id-2 div.sk-parallel-item:only-child::after {width: 0;}#sk-container-id-2 div.sk-dashed-wrapped {border: 1px dashed gray;margin: 0 0.4em 0.5em 0.4em;box-sizing: border-box;padding-bottom: 0.4em;background-color: white;}#sk-container-id-2 div.sk-label label {font-family: monospace;font-weight: bold;display: inline-block;line-height: 1.2em;}#sk-container-id-2 div.sk-label-container {text-align: center;}#sk-container-id-2 div.sk-container {/* jupyter's `normalize.less` sets `[hidden] { display: none; }` but bootstrap.min.css set `[hidden] { display: none !important; }` so we also need the `!important` here to be able to override the default hidden behavior on the sphinx rendered scikit-learn.org. See: https://github.com/scikit-learn/scikit-learn/issues/21755 */display: inline-block !important;position: relative;}#sk-container-id-2 div.sk-text-repr-fallback {display: none;}</style><div id=\"sk-container-id-2\" class=\"sk-top-container\"><div class=\"sk-text-repr-fallback\"><pre>LGBMClassifier(boosting_type=&#x27;goss&#x27;, n_estimators=200, num_leaves=50,\n",
       "               reg_lambda=0.1)</pre><b>In a Jupyter environment, please rerun this cell to show the HTML representation or trust the notebook. <br />On GitHub, the HTML representation is unable to render, please try loading this page with nbviewer.org.</b></div><div class=\"sk-container\" hidden><div class=\"sk-item\"><div class=\"sk-estimator sk-toggleable\"><input class=\"sk-toggleable__control sk-hidden--visually\" id=\"sk-estimator-id-4\" type=\"checkbox\" checked><label for=\"sk-estimator-id-4\" class=\"sk-toggleable__label sk-toggleable__label-arrow\">LGBMClassifier</label><div class=\"sk-toggleable__content\"><pre>LGBMClassifier(boosting_type=&#x27;goss&#x27;, n_estimators=200, num_leaves=50,\n",
       "               reg_lambda=0.1)</pre></div></div></div></div></div>"
      ],
      "text/plain": [
       "LGBMClassifier(boosting_type='goss', n_estimators=200, num_leaves=50,\n",
       "               reg_lambda=0.1)"
      ]
     },
     "execution_count": 193,
     "metadata": {},
     "output_type": "execute_result"
    }
   ],
   "source": [
    "clf.best_estimator_"
   ]
  },
  {
   "cell_type": "code",
   "execution_count": 194,
   "metadata": {},
   "outputs": [
    {
     "data": {
      "text/plain": [
       "{'reg_lambda': 0.1,\n",
       " 'num_leaves': 50,\n",
       " 'n_estimators': 200,\n",
       " 'learning_rate': 0.1,\n",
       " 'boosting_type': 'goss'}"
      ]
     },
     "execution_count": 194,
     "metadata": {},
     "output_type": "execute_result"
    }
   ],
   "source": [
    "clf.best_params_"
   ]
  },
  {
   "cell_type": "code",
   "execution_count": 195,
   "metadata": {},
   "outputs": [
    {
     "data": {
      "text/plain": [
       "0.9619794345015183"
      ]
     },
     "execution_count": 195,
     "metadata": {},
     "output_type": "execute_result"
    }
   ],
   "source": [
    "clf.best_score_"
   ]
  },
  {
   "cell_type": "code",
   "execution_count": 198,
   "metadata": {
    "scrolled": true
   },
   "outputs": [
    {
     "data": {
      "text/html": [
       "<div>\n",
       "<style scoped>\n",
       "    .dataframe tbody tr th:only-of-type {\n",
       "        vertical-align: middle;\n",
       "    }\n",
       "\n",
       "    .dataframe tbody tr th {\n",
       "        vertical-align: top;\n",
       "    }\n",
       "\n",
       "    .dataframe thead th {\n",
       "        text-align: right;\n",
       "    }\n",
       "</style>\n",
       "<table border=\"1\" class=\"dataframe\">\n",
       "  <thead>\n",
       "    <tr style=\"text-align: right;\">\n",
       "      <th></th>\n",
       "      <th>mean_fit_time</th>\n",
       "      <th>std_fit_time</th>\n",
       "      <th>mean_score_time</th>\n",
       "      <th>std_score_time</th>\n",
       "      <th>param_reg_lambda</th>\n",
       "      <th>param_num_leaves</th>\n",
       "      <th>param_n_estimators</th>\n",
       "      <th>param_learning_rate</th>\n",
       "      <th>param_boosting_type</th>\n",
       "      <th>params</th>\n",
       "      <th>split0_test_score</th>\n",
       "      <th>split1_test_score</th>\n",
       "      <th>split2_test_score</th>\n",
       "      <th>split3_test_score</th>\n",
       "      <th>split4_test_score</th>\n",
       "      <th>mean_test_score</th>\n",
       "      <th>std_test_score</th>\n",
       "      <th>rank_test_score</th>\n",
       "    </tr>\n",
       "  </thead>\n",
       "  <tbody>\n",
       "    <tr>\n",
       "      <th>9</th>\n",
       "      <td>12.665618</td>\n",
       "      <td>1.644980</td>\n",
       "      <td>0.081015</td>\n",
       "      <td>0.012385</td>\n",
       "      <td>0.1</td>\n",
       "      <td>50</td>\n",
       "      <td>200</td>\n",
       "      <td>0.1</td>\n",
       "      <td>goss</td>\n",
       "      <td>{'reg_lambda': 0.1, 'num_leaves': 50, 'n_estim...</td>\n",
       "      <td>0.966585</td>\n",
       "      <td>0.958011</td>\n",
       "      <td>0.962628</td>\n",
       "      <td>0.957746</td>\n",
       "      <td>0.964927</td>\n",
       "      <td>0.961979</td>\n",
       "      <td>0.003577</td>\n",
       "      <td>1</td>\n",
       "    </tr>\n",
       "    <tr>\n",
       "      <th>12</th>\n",
       "      <td>24.312615</td>\n",
       "      <td>2.995928</td>\n",
       "      <td>0.108822</td>\n",
       "      <td>0.011692</td>\n",
       "      <td>0.1</td>\n",
       "      <td>70</td>\n",
       "      <td>300</td>\n",
       "      <td>0.1</td>\n",
       "      <td>gbdt</td>\n",
       "      <td>{'reg_lambda': 0.1, 'num_leaves': 70, 'n_estim...</td>\n",
       "      <td>0.967821</td>\n",
       "      <td>0.958826</td>\n",
       "      <td>0.961380</td>\n",
       "      <td>0.956594</td>\n",
       "      <td>0.964417</td>\n",
       "      <td>0.961808</td>\n",
       "      <td>0.003981</td>\n",
       "      <td>2</td>\n",
       "    </tr>\n",
       "    <tr>\n",
       "      <th>0</th>\n",
       "      <td>27.204531</td>\n",
       "      <td>2.569059</td>\n",
       "      <td>0.088920</td>\n",
       "      <td>0.008920</td>\n",
       "      <td>0.2</td>\n",
       "      <td>50</td>\n",
       "      <td>300</td>\n",
       "      <td>0.1</td>\n",
       "      <td>dart</td>\n",
       "      <td>{'reg_lambda': 0.2, 'num_leaves': 50, 'n_estim...</td>\n",
       "      <td>0.967374</td>\n",
       "      <td>0.959443</td>\n",
       "      <td>0.962233</td>\n",
       "      <td>0.956235</td>\n",
       "      <td>0.963295</td>\n",
       "      <td>0.961716</td>\n",
       "      <td>0.003741</td>\n",
       "      <td>3</td>\n",
       "    </tr>\n",
       "    <tr>\n",
       "      <th>11</th>\n",
       "      <td>13.478692</td>\n",
       "      <td>1.461113</td>\n",
       "      <td>0.066611</td>\n",
       "      <td>0.009054</td>\n",
       "      <td>0.4</td>\n",
       "      <td>30</td>\n",
       "      <td>300</td>\n",
       "      <td>0.001</td>\n",
       "      <td>gbdt</td>\n",
       "      <td>{'reg_lambda': 0.4, 'num_leaves': 30, 'n_estim...</td>\n",
       "      <td>0.953583</td>\n",
       "      <td>0.949819</td>\n",
       "      <td>0.948100</td>\n",
       "      <td>0.940496</td>\n",
       "      <td>0.954434</td>\n",
       "      <td>0.949286</td>\n",
       "      <td>0.004979</td>\n",
       "      <td>4</td>\n",
       "    </tr>\n",
       "    <tr>\n",
       "      <th>18</th>\n",
       "      <td>13.633059</td>\n",
       "      <td>1.777851</td>\n",
       "      <td>0.064059</td>\n",
       "      <td>0.005840</td>\n",
       "      <td>0.1</td>\n",
       "      <td>50</td>\n",
       "      <td>200</td>\n",
       "      <td>0.001</td>\n",
       "      <td>goss</td>\n",
       "      <td>{'reg_lambda': 0.1, 'num_leaves': 50, 'n_estim...</td>\n",
       "      <td>0.950223</td>\n",
       "      <td>0.949438</td>\n",
       "      <td>0.951032</td>\n",
       "      <td>0.940164</td>\n",
       "      <td>0.950182</td>\n",
       "      <td>0.948208</td>\n",
       "      <td>0.004053</td>\n",
       "      <td>5</td>\n",
       "    </tr>\n",
       "    <tr>\n",
       "      <th>3</th>\n",
       "      <td>10.362913</td>\n",
       "      <td>1.148953</td>\n",
       "      <td>0.062641</td>\n",
       "      <td>0.006148</td>\n",
       "      <td>0.2</td>\n",
       "      <td>30</td>\n",
       "      <td>200</td>\n",
       "      <td>0.001</td>\n",
       "      <td>goss</td>\n",
       "      <td>{'reg_lambda': 0.2, 'num_leaves': 30, 'n_estim...</td>\n",
       "      <td>0.950285</td>\n",
       "      <td>0.948297</td>\n",
       "      <td>0.948437</td>\n",
       "      <td>0.939381</td>\n",
       "      <td>0.951763</td>\n",
       "      <td>0.947633</td>\n",
       "      <td>0.004319</td>\n",
       "      <td>6</td>\n",
       "    </tr>\n",
       "    <tr>\n",
       "      <th>1</th>\n",
       "      <td>23.042558</td>\n",
       "      <td>2.980658</td>\n",
       "      <td>0.079544</td>\n",
       "      <td>0.004046</td>\n",
       "      <td>0.2</td>\n",
       "      <td>70</td>\n",
       "      <td>300</td>\n",
       "      <td>0.001</td>\n",
       "      <td>dart</td>\n",
       "      <td>{'reg_lambda': 0.2, 'num_leaves': 70, 'n_estim...</td>\n",
       "      <td>0.945573</td>\n",
       "      <td>0.943974</td>\n",
       "      <td>0.947972</td>\n",
       "      <td>0.937834</td>\n",
       "      <td>0.948739</td>\n",
       "      <td>0.944818</td>\n",
       "      <td>0.003883</td>\n",
       "      <td>7</td>\n",
       "    </tr>\n",
       "    <tr>\n",
       "      <th>4</th>\n",
       "      <td>6.117576</td>\n",
       "      <td>0.714082</td>\n",
       "      <td>0.059055</td>\n",
       "      <td>0.004109</td>\n",
       "      <td>0.4</td>\n",
       "      <td>70</td>\n",
       "      <td>100</td>\n",
       "      <td>0.001</td>\n",
       "      <td>gbdt</td>\n",
       "      <td>{'reg_lambda': 0.4, 'num_leaves': 70, 'n_estim...</td>\n",
       "      <td>0.944289</td>\n",
       "      <td>0.941874</td>\n",
       "      <td>0.939873</td>\n",
       "      <td>0.941317</td>\n",
       "      <td>0.945211</td>\n",
       "      <td>0.942513</td>\n",
       "      <td>0.001961</td>\n",
       "      <td>8</td>\n",
       "    </tr>\n",
       "    <tr>\n",
       "      <th>7</th>\n",
       "      <td>16.833135</td>\n",
       "      <td>2.146891</td>\n",
       "      <td>0.077536</td>\n",
       "      <td>0.002315</td>\n",
       "      <td>0.4</td>\n",
       "      <td>70</td>\n",
       "      <td>300</td>\n",
       "      <td>0.0001</td>\n",
       "      <td>goss</td>\n",
       "      <td>{'reg_lambda': 0.4, 'num_leaves': 70, 'n_estim...</td>\n",
       "      <td>0.686903</td>\n",
       "      <td>0.686903</td>\n",
       "      <td>0.686903</td>\n",
       "      <td>0.686903</td>\n",
       "      <td>0.687272</td>\n",
       "      <td>0.686977</td>\n",
       "      <td>0.000148</td>\n",
       "      <td>9</td>\n",
       "    </tr>\n",
       "    <tr>\n",
       "      <th>8</th>\n",
       "      <td>5.516582</td>\n",
       "      <td>0.555472</td>\n",
       "      <td>0.053933</td>\n",
       "      <td>0.005307</td>\n",
       "      <td>0.2</td>\n",
       "      <td>30</td>\n",
       "      <td>100</td>\n",
       "      <td>0.0001</td>\n",
       "      <td>goss</td>\n",
       "      <td>{'reg_lambda': 0.2, 'num_leaves': 30, 'n_estim...</td>\n",
       "      <td>0.686903</td>\n",
       "      <td>0.686903</td>\n",
       "      <td>0.686903</td>\n",
       "      <td>0.686903</td>\n",
       "      <td>0.687272</td>\n",
       "      <td>0.686977</td>\n",
       "      <td>0.000148</td>\n",
       "      <td>9</td>\n",
       "    </tr>\n",
       "    <tr>\n",
       "      <th>14</th>\n",
       "      <td>5.869703</td>\n",
       "      <td>0.607363</td>\n",
       "      <td>0.058444</td>\n",
       "      <td>0.004722</td>\n",
       "      <td>0.4</td>\n",
       "      <td>50</td>\n",
       "      <td>100</td>\n",
       "      <td>0.0001</td>\n",
       "      <td>dart</td>\n",
       "      <td>{'reg_lambda': 0.4, 'num_leaves': 50, 'n_estim...</td>\n",
       "      <td>0.686903</td>\n",
       "      <td>0.686903</td>\n",
       "      <td>0.686903</td>\n",
       "      <td>0.686903</td>\n",
       "      <td>0.687272</td>\n",
       "      <td>0.686977</td>\n",
       "      <td>0.000148</td>\n",
       "      <td>9</td>\n",
       "    </tr>\n",
       "    <tr>\n",
       "      <th>15</th>\n",
       "      <td>13.705030</td>\n",
       "      <td>2.004677</td>\n",
       "      <td>0.060011</td>\n",
       "      <td>0.005249</td>\n",
       "      <td>0.1</td>\n",
       "      <td>50</td>\n",
       "      <td>200</td>\n",
       "      <td>0.0001</td>\n",
       "      <td>gbdt</td>\n",
       "      <td>{'reg_lambda': 0.1, 'num_leaves': 50, 'n_estim...</td>\n",
       "      <td>0.686903</td>\n",
       "      <td>0.686903</td>\n",
       "      <td>0.686903</td>\n",
       "      <td>0.686903</td>\n",
       "      <td>0.687272</td>\n",
       "      <td>0.686977</td>\n",
       "      <td>0.000148</td>\n",
       "      <td>9</td>\n",
       "    </tr>\n",
       "    <tr>\n",
       "      <th>17</th>\n",
       "      <td>10.721269</td>\n",
       "      <td>1.345887</td>\n",
       "      <td>0.062633</td>\n",
       "      <td>0.004205</td>\n",
       "      <td>0.4</td>\n",
       "      <td>50</td>\n",
       "      <td>200</td>\n",
       "      <td>0.0001</td>\n",
       "      <td>goss</td>\n",
       "      <td>{'reg_lambda': 0.4, 'num_leaves': 50, 'n_estim...</td>\n",
       "      <td>0.686903</td>\n",
       "      <td>0.686903</td>\n",
       "      <td>0.686903</td>\n",
       "      <td>0.686903</td>\n",
       "      <td>0.687272</td>\n",
       "      <td>0.686977</td>\n",
       "      <td>0.000148</td>\n",
       "      <td>9</td>\n",
       "    </tr>\n",
       "    <tr>\n",
       "      <th>2</th>\n",
       "      <td>0.742286</td>\n",
       "      <td>0.018316</td>\n",
       "      <td>0.000000</td>\n",
       "      <td>0.000000</td>\n",
       "      <td>0.2</td>\n",
       "      <td>30</td>\n",
       "      <td>200</td>\n",
       "      <td>0.001</td>\n",
       "      <td>rf</td>\n",
       "      <td>{'reg_lambda': 0.2, 'num_leaves': 30, 'n_estim...</td>\n",
       "      <td>NaN</td>\n",
       "      <td>NaN</td>\n",
       "      <td>NaN</td>\n",
       "      <td>NaN</td>\n",
       "      <td>NaN</td>\n",
       "      <td>NaN</td>\n",
       "      <td>NaN</td>\n",
       "      <td>14</td>\n",
       "    </tr>\n",
       "    <tr>\n",
       "      <th>5</th>\n",
       "      <td>0.745940</td>\n",
       "      <td>0.025882</td>\n",
       "      <td>0.000000</td>\n",
       "      <td>0.000000</td>\n",
       "      <td>0.4</td>\n",
       "      <td>30</td>\n",
       "      <td>200</td>\n",
       "      <td>0.001</td>\n",
       "      <td>rf</td>\n",
       "      <td>{'reg_lambda': 0.4, 'num_leaves': 30, 'n_estim...</td>\n",
       "      <td>NaN</td>\n",
       "      <td>NaN</td>\n",
       "      <td>NaN</td>\n",
       "      <td>NaN</td>\n",
       "      <td>NaN</td>\n",
       "      <td>NaN</td>\n",
       "      <td>NaN</td>\n",
       "      <td>14</td>\n",
       "    </tr>\n",
       "    <tr>\n",
       "      <th>6</th>\n",
       "      <td>0.735160</td>\n",
       "      <td>0.015180</td>\n",
       "      <td>0.000000</td>\n",
       "      <td>0.000000</td>\n",
       "      <td>0.4</td>\n",
       "      <td>30</td>\n",
       "      <td>100</td>\n",
       "      <td>0.1</td>\n",
       "      <td>rf</td>\n",
       "      <td>{'reg_lambda': 0.4, 'num_leaves': 30, 'n_estim...</td>\n",
       "      <td>NaN</td>\n",
       "      <td>NaN</td>\n",
       "      <td>NaN</td>\n",
       "      <td>NaN</td>\n",
       "      <td>NaN</td>\n",
       "      <td>NaN</td>\n",
       "      <td>NaN</td>\n",
       "      <td>14</td>\n",
       "    </tr>\n",
       "    <tr>\n",
       "      <th>10</th>\n",
       "      <td>0.681666</td>\n",
       "      <td>0.016581</td>\n",
       "      <td>0.000000</td>\n",
       "      <td>0.000000</td>\n",
       "      <td>0.4</td>\n",
       "      <td>50</td>\n",
       "      <td>200</td>\n",
       "      <td>0.0001</td>\n",
       "      <td>rf</td>\n",
       "      <td>{'reg_lambda': 0.4, 'num_leaves': 50, 'n_estim...</td>\n",
       "      <td>NaN</td>\n",
       "      <td>NaN</td>\n",
       "      <td>NaN</td>\n",
       "      <td>NaN</td>\n",
       "      <td>NaN</td>\n",
       "      <td>NaN</td>\n",
       "      <td>NaN</td>\n",
       "      <td>14</td>\n",
       "    </tr>\n",
       "    <tr>\n",
       "      <th>13</th>\n",
       "      <td>0.726303</td>\n",
       "      <td>0.022364</td>\n",
       "      <td>0.000000</td>\n",
       "      <td>0.000000</td>\n",
       "      <td>0.1</td>\n",
       "      <td>30</td>\n",
       "      <td>300</td>\n",
       "      <td>0.1</td>\n",
       "      <td>rf</td>\n",
       "      <td>{'reg_lambda': 0.1, 'num_leaves': 30, 'n_estim...</td>\n",
       "      <td>NaN</td>\n",
       "      <td>NaN</td>\n",
       "      <td>NaN</td>\n",
       "      <td>NaN</td>\n",
       "      <td>NaN</td>\n",
       "      <td>NaN</td>\n",
       "      <td>NaN</td>\n",
       "      <td>14</td>\n",
       "    </tr>\n",
       "    <tr>\n",
       "      <th>16</th>\n",
       "      <td>0.663424</td>\n",
       "      <td>0.052527</td>\n",
       "      <td>0.000000</td>\n",
       "      <td>0.000000</td>\n",
       "      <td>0.1</td>\n",
       "      <td>50</td>\n",
       "      <td>100</td>\n",
       "      <td>0.0001</td>\n",
       "      <td>rf</td>\n",
       "      <td>{'reg_lambda': 0.1, 'num_leaves': 50, 'n_estim...</td>\n",
       "      <td>NaN</td>\n",
       "      <td>NaN</td>\n",
       "      <td>NaN</td>\n",
       "      <td>NaN</td>\n",
       "      <td>NaN</td>\n",
       "      <td>NaN</td>\n",
       "      <td>NaN</td>\n",
       "      <td>14</td>\n",
       "    </tr>\n",
       "    <tr>\n",
       "      <th>19</th>\n",
       "      <td>0.577648</td>\n",
       "      <td>0.067655</td>\n",
       "      <td>0.000000</td>\n",
       "      <td>0.000000</td>\n",
       "      <td>0.2</td>\n",
       "      <td>50</td>\n",
       "      <td>100</td>\n",
       "      <td>0.0001</td>\n",
       "      <td>rf</td>\n",
       "      <td>{'reg_lambda': 0.2, 'num_leaves': 50, 'n_estim...</td>\n",
       "      <td>NaN</td>\n",
       "      <td>NaN</td>\n",
       "      <td>NaN</td>\n",
       "      <td>NaN</td>\n",
       "      <td>NaN</td>\n",
       "      <td>NaN</td>\n",
       "      <td>NaN</td>\n",
       "      <td>14</td>\n",
       "    </tr>\n",
       "  </tbody>\n",
       "</table>\n",
       "</div>"
      ],
      "text/plain": [
       "    mean_fit_time  std_fit_time  mean_score_time  std_score_time  \\\n",
       "9       12.665618      1.644980         0.081015        0.012385   \n",
       "12      24.312615      2.995928         0.108822        0.011692   \n",
       "0       27.204531      2.569059         0.088920        0.008920   \n",
       "11      13.478692      1.461113         0.066611        0.009054   \n",
       "18      13.633059      1.777851         0.064059        0.005840   \n",
       "3       10.362913      1.148953         0.062641        0.006148   \n",
       "1       23.042558      2.980658         0.079544        0.004046   \n",
       "4        6.117576      0.714082         0.059055        0.004109   \n",
       "7       16.833135      2.146891         0.077536        0.002315   \n",
       "8        5.516582      0.555472         0.053933        0.005307   \n",
       "14       5.869703      0.607363         0.058444        0.004722   \n",
       "15      13.705030      2.004677         0.060011        0.005249   \n",
       "17      10.721269      1.345887         0.062633        0.004205   \n",
       "2        0.742286      0.018316         0.000000        0.000000   \n",
       "5        0.745940      0.025882         0.000000        0.000000   \n",
       "6        0.735160      0.015180         0.000000        0.000000   \n",
       "10       0.681666      0.016581         0.000000        0.000000   \n",
       "13       0.726303      0.022364         0.000000        0.000000   \n",
       "16       0.663424      0.052527         0.000000        0.000000   \n",
       "19       0.577648      0.067655         0.000000        0.000000   \n",
       "\n",
       "   param_reg_lambda param_num_leaves param_n_estimators param_learning_rate  \\\n",
       "9               0.1               50                200                 0.1   \n",
       "12              0.1               70                300                 0.1   \n",
       "0               0.2               50                300                 0.1   \n",
       "11              0.4               30                300               0.001   \n",
       "18              0.1               50                200               0.001   \n",
       "3               0.2               30                200               0.001   \n",
       "1               0.2               70                300               0.001   \n",
       "4               0.4               70                100               0.001   \n",
       "7               0.4               70                300              0.0001   \n",
       "8               0.2               30                100              0.0001   \n",
       "14              0.4               50                100              0.0001   \n",
       "15              0.1               50                200              0.0001   \n",
       "17              0.4               50                200              0.0001   \n",
       "2               0.2               30                200               0.001   \n",
       "5               0.4               30                200               0.001   \n",
       "6               0.4               30                100                 0.1   \n",
       "10              0.4               50                200              0.0001   \n",
       "13              0.1               30                300                 0.1   \n",
       "16              0.1               50                100              0.0001   \n",
       "19              0.2               50                100              0.0001   \n",
       "\n",
       "   param_boosting_type                                             params  \\\n",
       "9                 goss  {'reg_lambda': 0.1, 'num_leaves': 50, 'n_estim...   \n",
       "12                gbdt  {'reg_lambda': 0.1, 'num_leaves': 70, 'n_estim...   \n",
       "0                 dart  {'reg_lambda': 0.2, 'num_leaves': 50, 'n_estim...   \n",
       "11                gbdt  {'reg_lambda': 0.4, 'num_leaves': 30, 'n_estim...   \n",
       "18                goss  {'reg_lambda': 0.1, 'num_leaves': 50, 'n_estim...   \n",
       "3                 goss  {'reg_lambda': 0.2, 'num_leaves': 30, 'n_estim...   \n",
       "1                 dart  {'reg_lambda': 0.2, 'num_leaves': 70, 'n_estim...   \n",
       "4                 gbdt  {'reg_lambda': 0.4, 'num_leaves': 70, 'n_estim...   \n",
       "7                 goss  {'reg_lambda': 0.4, 'num_leaves': 70, 'n_estim...   \n",
       "8                 goss  {'reg_lambda': 0.2, 'num_leaves': 30, 'n_estim...   \n",
       "14                dart  {'reg_lambda': 0.4, 'num_leaves': 50, 'n_estim...   \n",
       "15                gbdt  {'reg_lambda': 0.1, 'num_leaves': 50, 'n_estim...   \n",
       "17                goss  {'reg_lambda': 0.4, 'num_leaves': 50, 'n_estim...   \n",
       "2                   rf  {'reg_lambda': 0.2, 'num_leaves': 30, 'n_estim...   \n",
       "5                   rf  {'reg_lambda': 0.4, 'num_leaves': 30, 'n_estim...   \n",
       "6                   rf  {'reg_lambda': 0.4, 'num_leaves': 30, 'n_estim...   \n",
       "10                  rf  {'reg_lambda': 0.4, 'num_leaves': 50, 'n_estim...   \n",
       "13                  rf  {'reg_lambda': 0.1, 'num_leaves': 30, 'n_estim...   \n",
       "16                  rf  {'reg_lambda': 0.1, 'num_leaves': 50, 'n_estim...   \n",
       "19                  rf  {'reg_lambda': 0.2, 'num_leaves': 50, 'n_estim...   \n",
       "\n",
       "    split0_test_score  split1_test_score  split2_test_score  \\\n",
       "9            0.966585           0.958011           0.962628   \n",
       "12           0.967821           0.958826           0.961380   \n",
       "0            0.967374           0.959443           0.962233   \n",
       "11           0.953583           0.949819           0.948100   \n",
       "18           0.950223           0.949438           0.951032   \n",
       "3            0.950285           0.948297           0.948437   \n",
       "1            0.945573           0.943974           0.947972   \n",
       "4            0.944289           0.941874           0.939873   \n",
       "7            0.686903           0.686903           0.686903   \n",
       "8            0.686903           0.686903           0.686903   \n",
       "14           0.686903           0.686903           0.686903   \n",
       "15           0.686903           0.686903           0.686903   \n",
       "17           0.686903           0.686903           0.686903   \n",
       "2                 NaN                NaN                NaN   \n",
       "5                 NaN                NaN                NaN   \n",
       "6                 NaN                NaN                NaN   \n",
       "10                NaN                NaN                NaN   \n",
       "13                NaN                NaN                NaN   \n",
       "16                NaN                NaN                NaN   \n",
       "19                NaN                NaN                NaN   \n",
       "\n",
       "    split3_test_score  split4_test_score  mean_test_score  std_test_score  \\\n",
       "9            0.957746           0.964927         0.961979        0.003577   \n",
       "12           0.956594           0.964417         0.961808        0.003981   \n",
       "0            0.956235           0.963295         0.961716        0.003741   \n",
       "11           0.940496           0.954434         0.949286        0.004979   \n",
       "18           0.940164           0.950182         0.948208        0.004053   \n",
       "3            0.939381           0.951763         0.947633        0.004319   \n",
       "1            0.937834           0.948739         0.944818        0.003883   \n",
       "4            0.941317           0.945211         0.942513        0.001961   \n",
       "7            0.686903           0.687272         0.686977        0.000148   \n",
       "8            0.686903           0.687272         0.686977        0.000148   \n",
       "14           0.686903           0.687272         0.686977        0.000148   \n",
       "15           0.686903           0.687272         0.686977        0.000148   \n",
       "17           0.686903           0.687272         0.686977        0.000148   \n",
       "2                 NaN                NaN              NaN             NaN   \n",
       "5                 NaN                NaN              NaN             NaN   \n",
       "6                 NaN                NaN              NaN             NaN   \n",
       "10                NaN                NaN              NaN             NaN   \n",
       "13                NaN                NaN              NaN             NaN   \n",
       "16                NaN                NaN              NaN             NaN   \n",
       "19                NaN                NaN              NaN             NaN   \n",
       "\n",
       "    rank_test_score  \n",
       "9                 1  \n",
       "12                2  \n",
       "0                 3  \n",
       "11                4  \n",
       "18                5  \n",
       "3                 6  \n",
       "1                 7  \n",
       "4                 8  \n",
       "7                 9  \n",
       "8                 9  \n",
       "14                9  \n",
       "15                9  \n",
       "17                9  \n",
       "2                14  \n",
       "5                14  \n",
       "6                14  \n",
       "10               14  \n",
       "13               14  \n",
       "16               14  \n",
       "19               14  "
      ]
     },
     "execution_count": 198,
     "metadata": {},
     "output_type": "execute_result"
    }
   ],
   "source": [
    "pd.DataFrame(clf.cv_results_).sort_values(by = 'mean_test_score', ascending = False)"
   ]
  },
  {
   "cell_type": "markdown",
   "metadata": {},
   "source": [
    "위의 하이퍼파라미터 튜닝 결과나 아래처럼 노가다로 validation set에 대해 f1 score를 가장 높게 하는 파라미터나 성능은 거의 비슷함. 따라서 다음과 같이 파라미터를 설정하자."
   ]
  },
  {
   "cell_type": "markdown",
   "metadata": {},
   "source": [
    "### Train model"
   ]
  },
  {
   "cell_type": "code",
   "execution_count": 65,
   "metadata": {
    "executionInfo": {
     "elapsed": 5,
     "status": "ok",
     "timestamp": 1705421787850,
     "user": {
      "displayName": "­김한성 / 학생 / 자유전공학부",
      "userId": "17797246141634098402"
     },
     "user_tz": -540
    },
    "id": "NIF1o_ulokg1",
    "ExecuteTime": {
     "end_time": "2024-01-18T13:30:50.915790Z",
     "start_time": "2024-01-18T13:30:50.903346Z"
    }
   },
   "outputs": [],
   "source": [
    "params = {\n",
    "    'learning_rate' : 1e-3,\n",
    "    'num_leaves' : 30, \n",
    "    'n_estimators' : 1000, \n",
    "    'objective' : 'binary',\n",
    "    'metric' : 'binary_logloss',\n",
    "    'is_training_metric' : True,\n",
    "    'bagging_fraction' : 0.5, \n",
    "    'lambda_l2' : 0.4, \n",
    "    'force_row_wise' : True, \n",
    "    'verbose' : 10, \n",
    "    'early_stopping_round' : 10\n",
    "}"
   ]
  },
  {
   "cell_type": "code",
   "execution_count": 73,
   "metadata": {
    "colab": {
     "base_uri": "https://localhost:8080/"
    },
    "executionInfo": {
     "elapsed": 9419,
     "status": "ok",
     "timestamp": 1705421834453,
     "user": {
      "displayName": "­김한성 / 학생 / 자유전공학부",
      "userId": "17797246141634098402"
     },
     "user_tz": -540
    },
    "id": "4SxShmYs_DPy",
    "outputId": "b8c80c5f-1dc7-4b6e-926f-58c58bf621e8",
    "scrolled": true,
    "ExecuteTime": {
     "end_time": "2024-01-18T13:32:46.099916Z",
     "start_time": "2024-01-18T13:32:46.040728Z"
    }
   },
   "outputs": [
    {
     "name": "stdout",
     "output_type": "stream",
     "text": [
      "[LightGBM] [Info] Number of positive: 7688, number of negative: 6912\n",
      "[LightGBM] [Debug] Dataset::GetMultiBinFromAllFeatures: sparse rate 0.051434\n",
      "[LightGBM] [Info] Total Bins 76058\n",
      "[LightGBM] [Info] Number of data points in the train set: 14600, number of used features: 327\n"
     ]
    },
    {
     "ename": "ValueError",
     "evalue": "Input data must be 2 dimensional and non empty.",
     "output_type": "error",
     "traceback": [
      "\u001B[0;31m---------------------------------------------------------------------------\u001B[0m",
      "\u001B[0;31mValueError\u001B[0m                                Traceback (most recent call last)",
      "Cell \u001B[0;32mIn[73], line 1\u001B[0m\n\u001B[0;32m----> 1\u001B[0m clf \u001B[38;5;241m=\u001B[39m \u001B[43mlgb\u001B[49m\u001B[38;5;241;43m.\u001B[39;49m\u001B[43mtrain\u001B[49m\u001B[43m(\u001B[49m\u001B[43mparams\u001B[49m\u001B[43m \u001B[49m\u001B[38;5;241;43m=\u001B[39;49m\u001B[43m \u001B[49m\u001B[43mparams\u001B[49m\u001B[43m,\u001B[49m\u001B[43m \u001B[49m\u001B[43mtrain_set\u001B[49m\u001B[43m \u001B[49m\u001B[38;5;241;43m=\u001B[39;49m\u001B[43m \u001B[49m\u001B[43mtrain\u001B[49m\u001B[43m,\u001B[49m\u001B[43m \u001B[49m\u001B[43mnum_boost_round\u001B[49m\u001B[43m \u001B[49m\u001B[38;5;241;43m=\u001B[39;49m\u001B[43m \u001B[49m\u001B[38;5;241;43m1000\u001B[39;49m\u001B[43m,\u001B[49m\u001B[43m \u001B[49m\u001B[43mvalid_sets\u001B[49m\u001B[43m \u001B[49m\u001B[38;5;241;43m=\u001B[39;49m\u001B[43m \u001B[49m\u001B[43mval\u001B[49m\u001B[43m)\u001B[49m\n",
      "File \u001B[0;32m~/anaconda3/envs/FinancialMachineLearning/lib/python3.10/site-packages/lightgbm/engine.py:259\u001B[0m, in \u001B[0;36mtrain\u001B[0;34m(params, train_set, num_boost_round, valid_sets, valid_names, feval, init_model, feature_name, categorical_feature, keep_training_booster, callbacks)\u001B[0m\n\u001B[1;32m    257\u001B[0m         booster\u001B[38;5;241m.\u001B[39mset_train_data_name(train_data_name)\n\u001B[1;32m    258\u001B[0m     \u001B[38;5;28;01mfor\u001B[39;00m valid_set, name_valid_set \u001B[38;5;129;01min\u001B[39;00m \u001B[38;5;28mzip\u001B[39m(reduced_valid_sets, name_valid_sets):\n\u001B[0;32m--> 259\u001B[0m         \u001B[43mbooster\u001B[49m\u001B[38;5;241;43m.\u001B[39;49m\u001B[43madd_valid\u001B[49m\u001B[43m(\u001B[49m\u001B[43mvalid_set\u001B[49m\u001B[43m,\u001B[49m\u001B[43m \u001B[49m\u001B[43mname_valid_set\u001B[49m\u001B[43m)\u001B[49m\n\u001B[1;32m    260\u001B[0m \u001B[38;5;28;01mfinally\u001B[39;00m:\n\u001B[1;32m    261\u001B[0m     train_set\u001B[38;5;241m.\u001B[39m_reverse_update_params()\n",
      "File \u001B[0;32m~/anaconda3/envs/FinancialMachineLearning/lib/python3.10/site-packages/lightgbm/basic.py:3569\u001B[0m, in \u001B[0;36mBooster.add_valid\u001B[0;34m(self, data, name)\u001B[0m\n\u001B[1;32m   3564\u001B[0m \u001B[38;5;28;01mif\u001B[39;00m data\u001B[38;5;241m.\u001B[39m_predictor \u001B[38;5;129;01mis\u001B[39;00m \u001B[38;5;129;01mnot\u001B[39;00m \u001B[38;5;28mself\u001B[39m\u001B[38;5;241m.\u001B[39m__init_predictor:\n\u001B[1;32m   3565\u001B[0m     \u001B[38;5;28;01mraise\u001B[39;00m LightGBMError(\u001B[38;5;124m\"\u001B[39m\u001B[38;5;124mAdd validation data failed, \u001B[39m\u001B[38;5;124m\"\u001B[39m\n\u001B[1;32m   3566\u001B[0m                         \u001B[38;5;124m\"\u001B[39m\u001B[38;5;124myou should use same predictor for these data\u001B[39m\u001B[38;5;124m\"\u001B[39m)\n\u001B[1;32m   3567\u001B[0m _safe_call(_LIB\u001B[38;5;241m.\u001B[39mLGBM_BoosterAddValidData(\n\u001B[1;32m   3568\u001B[0m     \u001B[38;5;28mself\u001B[39m\u001B[38;5;241m.\u001B[39m_handle,\n\u001B[0;32m-> 3569\u001B[0m     \u001B[43mdata\u001B[49m\u001B[38;5;241;43m.\u001B[39;49m\u001B[43mconstruct\u001B[49m\u001B[43m(\u001B[49m\u001B[43m)\u001B[49m\u001B[38;5;241m.\u001B[39m_handle))\n\u001B[1;32m   3570\u001B[0m \u001B[38;5;28mself\u001B[39m\u001B[38;5;241m.\u001B[39mvalid_sets\u001B[38;5;241m.\u001B[39mappend(data)\n\u001B[1;32m   3571\u001B[0m \u001B[38;5;28mself\u001B[39m\u001B[38;5;241m.\u001B[39mname_valid_sets\u001B[38;5;241m.\u001B[39mappend(name)\n",
      "File \u001B[0;32m~/anaconda3/envs/FinancialMachineLearning/lib/python3.10/site-packages/lightgbm/basic.py:2239\u001B[0m, in \u001B[0;36mDataset.construct\u001B[0;34m(self)\u001B[0m\n\u001B[1;32m   2236\u001B[0m     \u001B[38;5;28mself\u001B[39m\u001B[38;5;241m.\u001B[39m_update_params(reference_params)\n\u001B[1;32m   2237\u001B[0m \u001B[38;5;28;01mif\u001B[39;00m \u001B[38;5;28mself\u001B[39m\u001B[38;5;241m.\u001B[39mused_indices \u001B[38;5;129;01mis\u001B[39;00m \u001B[38;5;28;01mNone\u001B[39;00m:\n\u001B[1;32m   2238\u001B[0m     \u001B[38;5;66;03m# create valid\u001B[39;00m\n\u001B[0;32m-> 2239\u001B[0m     \u001B[38;5;28;43mself\u001B[39;49m\u001B[38;5;241;43m.\u001B[39;49m\u001B[43m_lazy_init\u001B[49m\u001B[43m(\u001B[49m\u001B[43mdata\u001B[49m\u001B[38;5;241;43m=\u001B[39;49m\u001B[38;5;28;43mself\u001B[39;49m\u001B[38;5;241;43m.\u001B[39;49m\u001B[43mdata\u001B[49m\u001B[43m,\u001B[49m\u001B[43m \u001B[49m\u001B[43mlabel\u001B[49m\u001B[38;5;241;43m=\u001B[39;49m\u001B[38;5;28;43mself\u001B[39;49m\u001B[38;5;241;43m.\u001B[39;49m\u001B[43mlabel\u001B[49m\u001B[43m,\u001B[49m\u001B[43m \u001B[49m\u001B[43mreference\u001B[49m\u001B[38;5;241;43m=\u001B[39;49m\u001B[38;5;28;43mself\u001B[39;49m\u001B[38;5;241;43m.\u001B[39;49m\u001B[43mreference\u001B[49m\u001B[43m,\u001B[49m\n\u001B[1;32m   2240\u001B[0m \u001B[43m                    \u001B[49m\u001B[43mweight\u001B[49m\u001B[38;5;241;43m=\u001B[39;49m\u001B[38;5;28;43mself\u001B[39;49m\u001B[38;5;241;43m.\u001B[39;49m\u001B[43mweight\u001B[49m\u001B[43m,\u001B[49m\u001B[43m \u001B[49m\u001B[43mgroup\u001B[49m\u001B[38;5;241;43m=\u001B[39;49m\u001B[38;5;28;43mself\u001B[39;49m\u001B[38;5;241;43m.\u001B[39;49m\u001B[43mgroup\u001B[49m\u001B[43m,\u001B[49m\u001B[43m \u001B[49m\u001B[43mposition\u001B[49m\u001B[38;5;241;43m=\u001B[39;49m\u001B[38;5;28;43mself\u001B[39;49m\u001B[38;5;241;43m.\u001B[39;49m\u001B[43mposition\u001B[49m\u001B[43m,\u001B[49m\n\u001B[1;32m   2241\u001B[0m \u001B[43m                    \u001B[49m\u001B[43minit_score\u001B[49m\u001B[38;5;241;43m=\u001B[39;49m\u001B[38;5;28;43mself\u001B[39;49m\u001B[38;5;241;43m.\u001B[39;49m\u001B[43minit_score\u001B[49m\u001B[43m,\u001B[49m\u001B[43m \u001B[49m\u001B[43mpredictor\u001B[49m\u001B[38;5;241;43m=\u001B[39;49m\u001B[38;5;28;43mself\u001B[39;49m\u001B[38;5;241;43m.\u001B[39;49m\u001B[43m_predictor\u001B[49m\u001B[43m,\u001B[49m\n\u001B[1;32m   2242\u001B[0m \u001B[43m                    \u001B[49m\u001B[43mfeature_name\u001B[49m\u001B[38;5;241;43m=\u001B[39;49m\u001B[38;5;28;43mself\u001B[39;49m\u001B[38;5;241;43m.\u001B[39;49m\u001B[43mfeature_name\u001B[49m\u001B[43m,\u001B[49m\u001B[43m \u001B[49m\u001B[43mcategorical_feature\u001B[49m\u001B[38;5;241;43m=\u001B[39;49m\u001B[38;5;124;43m'\u001B[39;49m\u001B[38;5;124;43mauto\u001B[39;49m\u001B[38;5;124;43m'\u001B[39;49m\u001B[43m,\u001B[49m\u001B[43m \u001B[49m\u001B[43mparams\u001B[49m\u001B[38;5;241;43m=\u001B[39;49m\u001B[38;5;28;43mself\u001B[39;49m\u001B[38;5;241;43m.\u001B[39;49m\u001B[43mparams\u001B[49m\u001B[43m)\u001B[49m\n\u001B[1;32m   2243\u001B[0m \u001B[38;5;28;01melse\u001B[39;00m:\n\u001B[1;32m   2244\u001B[0m     \u001B[38;5;66;03m# construct subset\u001B[39;00m\n\u001B[1;32m   2245\u001B[0m     used_indices \u001B[38;5;241m=\u001B[39m _list_to_1d_numpy(\u001B[38;5;28mself\u001B[39m\u001B[38;5;241m.\u001B[39mused_indices, dtype\u001B[38;5;241m=\u001B[39mnp\u001B[38;5;241m.\u001B[39mint32, name\u001B[38;5;241m=\u001B[39m\u001B[38;5;124m'\u001B[39m\u001B[38;5;124mused_indices\u001B[39m\u001B[38;5;124m'\u001B[39m)\n",
      "File \u001B[0;32m~/anaconda3/envs/FinancialMachineLearning/lib/python3.10/site-packages/lightgbm/basic.py:1861\u001B[0m, in \u001B[0;36mDataset._lazy_init\u001B[0;34m(self, data, label, reference, weight, group, init_score, predictor, feature_name, categorical_feature, params, position)\u001B[0m\n\u001B[1;32m   1859\u001B[0m     categorical_feature \u001B[38;5;241m=\u001B[39m reference\u001B[38;5;241m.\u001B[39mcategorical_feature\n\u001B[1;32m   1860\u001B[0m \u001B[38;5;28;01mif\u001B[39;00m \u001B[38;5;28misinstance\u001B[39m(data, pd_DataFrame):\n\u001B[0;32m-> 1861\u001B[0m     data, feature_name, categorical_feature, \u001B[38;5;28mself\u001B[39m\u001B[38;5;241m.\u001B[39mpandas_categorical \u001B[38;5;241m=\u001B[39m \u001B[43m_data_from_pandas\u001B[49m\u001B[43m(\u001B[49m\n\u001B[1;32m   1862\u001B[0m \u001B[43m        \u001B[49m\u001B[43mdata\u001B[49m\u001B[38;5;241;43m=\u001B[39;49m\u001B[43mdata\u001B[49m\u001B[43m,\u001B[49m\n\u001B[1;32m   1863\u001B[0m \u001B[43m        \u001B[49m\u001B[43mfeature_name\u001B[49m\u001B[38;5;241;43m=\u001B[39;49m\u001B[43mfeature_name\u001B[49m\u001B[43m,\u001B[49m\n\u001B[1;32m   1864\u001B[0m \u001B[43m        \u001B[49m\u001B[43mcategorical_feature\u001B[49m\u001B[38;5;241;43m=\u001B[39;49m\u001B[43mcategorical_feature\u001B[49m\u001B[43m,\u001B[49m\n\u001B[1;32m   1865\u001B[0m \u001B[43m        \u001B[49m\u001B[43mpandas_categorical\u001B[49m\u001B[38;5;241;43m=\u001B[39;49m\u001B[38;5;28;43mself\u001B[39;49m\u001B[38;5;241;43m.\u001B[39;49m\u001B[43mpandas_categorical\u001B[49m\n\u001B[1;32m   1866\u001B[0m \u001B[43m    \u001B[49m\u001B[43m)\u001B[49m\n\u001B[1;32m   1868\u001B[0m \u001B[38;5;66;03m# process for args\u001B[39;00m\n\u001B[1;32m   1869\u001B[0m params \u001B[38;5;241m=\u001B[39m {} \u001B[38;5;28;01mif\u001B[39;00m params \u001B[38;5;129;01mis\u001B[39;00m \u001B[38;5;28;01mNone\u001B[39;00m \u001B[38;5;28;01melse\u001B[39;00m params\n",
      "File \u001B[0;32m~/anaconda3/envs/FinancialMachineLearning/lib/python3.10/site-packages/lightgbm/basic.py:677\u001B[0m, in \u001B[0;36m_data_from_pandas\u001B[0;34m(data, feature_name, categorical_feature, pandas_categorical)\u001B[0m\n\u001B[1;32m    670\u001B[0m \u001B[38;5;28;01mdef\u001B[39;00m \u001B[38;5;21m_data_from_pandas\u001B[39m(\n\u001B[1;32m    671\u001B[0m     data: pd_DataFrame,\n\u001B[1;32m    672\u001B[0m     feature_name: _LGBM_FeatureNameConfiguration,\n\u001B[1;32m    673\u001B[0m     categorical_feature: _LGBM_CategoricalFeatureConfiguration,\n\u001B[1;32m    674\u001B[0m     pandas_categorical: Optional[List[List]]\n\u001B[1;32m    675\u001B[0m ) \u001B[38;5;241m-\u001B[39m\u001B[38;5;241m>\u001B[39m Tuple[np\u001B[38;5;241m.\u001B[39mndarray, List[\u001B[38;5;28mstr\u001B[39m], List[\u001B[38;5;28mstr\u001B[39m], List[List]]:\n\u001B[1;32m    676\u001B[0m     \u001B[38;5;28;01mif\u001B[39;00m \u001B[38;5;28mlen\u001B[39m(data\u001B[38;5;241m.\u001B[39mshape) \u001B[38;5;241m!=\u001B[39m \u001B[38;5;241m2\u001B[39m \u001B[38;5;129;01mor\u001B[39;00m data\u001B[38;5;241m.\u001B[39mshape[\u001B[38;5;241m0\u001B[39m] \u001B[38;5;241m<\u001B[39m \u001B[38;5;241m1\u001B[39m:\n\u001B[0;32m--> 677\u001B[0m         \u001B[38;5;28;01mraise\u001B[39;00m \u001B[38;5;167;01mValueError\u001B[39;00m(\u001B[38;5;124m'\u001B[39m\u001B[38;5;124mInput data must be 2 dimensional and non empty.\u001B[39m\u001B[38;5;124m'\u001B[39m)\n\u001B[1;32m    679\u001B[0m     \u001B[38;5;66;03m# determine feature names\u001B[39;00m\n\u001B[1;32m    680\u001B[0m     \u001B[38;5;28;01mif\u001B[39;00m feature_name \u001B[38;5;241m==\u001B[39m \u001B[38;5;124m'\u001B[39m\u001B[38;5;124mauto\u001B[39m\u001B[38;5;124m'\u001B[39m:\n",
      "\u001B[0;31mValueError\u001B[0m: Input data must be 2 dimensional and non empty."
     ]
    }
   ],
   "source": [
    "clf = lgb.train(params = params, train_set = train, num_boost_round = 1000, valid_sets = val)"
   ]
  },
  {
   "cell_type": "markdown",
   "metadata": {},
   "source": [
    "### Evaluate model"
   ]
  },
  {
   "cell_type": "code",
   "execution_count": 74,
   "metadata": {
    "ExecuteTime": {
     "end_time": "2024-01-18T13:32:55.744323Z",
     "start_time": "2024-01-18T13:32:55.735967Z"
    }
   },
   "outputs": [],
   "source": [
    "from sklearn.metrics import confusion_matrix, accuracy_score, precision_score, recall_score, f1_score, roc_auc_score"
   ]
  },
  {
   "cell_type": "markdown",
   "metadata": {},
   "source": [
    "train data"
   ]
  },
  {
   "cell_type": "code",
   "execution_count": 75,
   "metadata": {
    "ExecuteTime": {
     "end_time": "2024-01-18T13:32:56.952220Z",
     "start_time": "2024-01-18T13:32:56.853781Z"
    }
   },
   "outputs": [
    {
     "ename": "NotFittedError",
     "evalue": "This RandomizedSearchCV instance is not fitted yet. Call 'fit' with appropriate arguments before using this estimator.",
     "output_type": "error",
     "traceback": [
      "\u001B[0;31m---------------------------------------------------------------------------\u001B[0m",
      "\u001B[0;31mNotFittedError\u001B[0m                            Traceback (most recent call last)",
      "Cell \u001B[0;32mIn[75], line 1\u001B[0m\n\u001B[0;32m----> 1\u001B[0m y_pred \u001B[38;5;241m=\u001B[39m (\u001B[43mclf\u001B[49m\u001B[38;5;241;43m.\u001B[39;49m\u001B[43mpredict\u001B[49m\u001B[43m(\u001B[49m\u001B[43mtrain\u001B[49m\u001B[38;5;241;43m.\u001B[39;49m\u001B[43mdata\u001B[49m\u001B[43m)\u001B[49m\u001B[38;5;241m.\u001B[39mreshape(\u001B[38;5;241m-\u001B[39m\u001B[38;5;241m1\u001B[39m,\u001B[38;5;241m1\u001B[39m) \u001B[38;5;241m>\u001B[39m\u001B[38;5;241m=\u001B[39m \u001B[38;5;241m0.5\u001B[39m) \u001B[38;5;241m*\u001B[39m \u001B[38;5;241m1\u001B[39m\n\u001B[1;32m      2\u001B[0m \u001B[38;5;28mprint\u001B[39m(\u001B[38;5;124mf\u001B[39m\u001B[38;5;124m'\u001B[39m\u001B[38;5;124mConfusion Matrix \u001B[39m\u001B[38;5;130;01m\\n\u001B[39;00m\u001B[38;5;124m'\u001B[39m, confusion_matrix(train\u001B[38;5;241m.\u001B[39mlabel, y_pred))\n\u001B[1;32m      3\u001B[0m \u001B[38;5;28mprint\u001B[39m(\u001B[38;5;124m\"\u001B[39m\u001B[38;5;124mAccuracy score:\u001B[39m\u001B[38;5;124m\"\u001B[39m, accuracy_score(y_train, y_pred))\n",
      "File \u001B[0;32m~/anaconda3/envs/FinancialMachineLearning/lib/python3.10/site-packages/sklearn/model_selection/_search.py:518\u001B[0m, in \u001B[0;36mBaseSearchCV.predict\u001B[0;34m(self, X)\u001B[0m\n\u001B[1;32m    499\u001B[0m \u001B[38;5;129m@available_if\u001B[39m(_estimator_has(\u001B[38;5;124m\"\u001B[39m\u001B[38;5;124mpredict\u001B[39m\u001B[38;5;124m\"\u001B[39m))\n\u001B[1;32m    500\u001B[0m \u001B[38;5;28;01mdef\u001B[39;00m \u001B[38;5;21mpredict\u001B[39m(\u001B[38;5;28mself\u001B[39m, X):\n\u001B[1;32m    501\u001B[0m \u001B[38;5;250m    \u001B[39m\u001B[38;5;124;03m\"\"\"Call predict on the estimator with the best found parameters.\u001B[39;00m\n\u001B[1;32m    502\u001B[0m \n\u001B[1;32m    503\u001B[0m \u001B[38;5;124;03m    Only available if ``refit=True`` and the underlying estimator supports\u001B[39;00m\n\u001B[0;32m   (...)\u001B[0m\n\u001B[1;32m    516\u001B[0m \u001B[38;5;124;03m        the best found parameters.\u001B[39;00m\n\u001B[1;32m    517\u001B[0m \u001B[38;5;124;03m    \"\"\"\u001B[39;00m\n\u001B[0;32m--> 518\u001B[0m     \u001B[43mcheck_is_fitted\u001B[49m\u001B[43m(\u001B[49m\u001B[38;5;28;43mself\u001B[39;49m\u001B[43m)\u001B[49m\n\u001B[1;32m    519\u001B[0m     \u001B[38;5;28;01mreturn\u001B[39;00m \u001B[38;5;28mself\u001B[39m\u001B[38;5;241m.\u001B[39mbest_estimator_\u001B[38;5;241m.\u001B[39mpredict(X)\n",
      "File \u001B[0;32m~/anaconda3/envs/FinancialMachineLearning/lib/python3.10/site-packages/sklearn/utils/validation.py:1462\u001B[0m, in \u001B[0;36mcheck_is_fitted\u001B[0;34m(estimator, attributes, msg, all_or_any)\u001B[0m\n\u001B[1;32m   1459\u001B[0m     \u001B[38;5;28;01mraise\u001B[39;00m \u001B[38;5;167;01mTypeError\u001B[39;00m(\u001B[38;5;124m\"\u001B[39m\u001B[38;5;132;01m%s\u001B[39;00m\u001B[38;5;124m is not an estimator instance.\u001B[39m\u001B[38;5;124m\"\u001B[39m \u001B[38;5;241m%\u001B[39m (estimator))\n\u001B[1;32m   1461\u001B[0m \u001B[38;5;28;01mif\u001B[39;00m \u001B[38;5;129;01mnot\u001B[39;00m _is_fitted(estimator, attributes, all_or_any):\n\u001B[0;32m-> 1462\u001B[0m     \u001B[38;5;28;01mraise\u001B[39;00m NotFittedError(msg \u001B[38;5;241m%\u001B[39m {\u001B[38;5;124m\"\u001B[39m\u001B[38;5;124mname\u001B[39m\u001B[38;5;124m\"\u001B[39m: \u001B[38;5;28mtype\u001B[39m(estimator)\u001B[38;5;241m.\u001B[39m\u001B[38;5;18m__name__\u001B[39m})\n",
      "\u001B[0;31mNotFittedError\u001B[0m: This RandomizedSearchCV instance is not fitted yet. Call 'fit' with appropriate arguments before using this estimator."
     ]
    }
   ],
   "source": [
    "y_pred = (clf.predict(train.data).reshape(-1,1) >= 0.5) * 1\n",
    "print(f'Confusion Matrix \\n', confusion_matrix(train.label, y_pred))\n",
    "print(\"Accuracy score:\", accuracy_score(y_train, y_pred))\n",
    "print('Precision score:', precision_score(y_train, y_pred))\n",
    "print('Recall score:', recall_score(y_train, y_pred))\n",
    "print(\"F1 score:\",f1_score(y_train, y_pred))\n",
    "print(\"ROC-AUC score:\", roc_auc_score(y_train, y_pred))"
   ]
  },
  {
   "cell_type": "markdown",
   "metadata": {},
   "source": [
    "validation data"
   ]
  },
  {
   "cell_type": "code",
   "execution_count": 377,
   "metadata": {},
   "outputs": [
    {
     "name": "stdout",
     "output_type": "stream",
     "text": [
      "Confusion Matrix \n",
      " [[1287   56]\n",
      " [  56 1521]]\n",
      "Accuracy score: 0.9616438356164384\n",
      "Precision score: 0.9644895370957515\n",
      "Recall score: 0.9644895370957515\n",
      "F1 score: 0.9644895370957515\n",
      "ROC-AUC score: 0.9613959226804148\n"
     ]
    }
   ],
   "source": [
    "y_pred = (clf.predict(X_val_scaled).reshape(-1,1) >= 0.5) * 1\n",
    "print('Confusion Matrix \\n', confusion_matrix(y_val, y_pred))\n",
    "print(\"Accuracy score:\", accuracy_score(y_val, y_pred))\n",
    "print('Precision score:', precision_score(y_val, y_pred))\n",
    "print('Recall score:', recall_score(y_val, y_pred))\n",
    "print(\"F1 score:\",f1_score(y_val, y_pred))\n",
    "print(\"ROC-AUC score:\", roc_auc_score(y_val, y_pred))"
   ]
  },
  {
   "cell_type": "markdown",
   "metadata": {},
   "source": [
    "feature importance (Top 20)"
   ]
  },
  {
   "cell_type": "markdown",
   "metadata": {},
   "source": [
    "trend를 설명하는 CCI가 가장 중요. 그외에는 주로 1일의 lag를 갖는 feature들이 2,3일의 lag를 갖는 변수들보다 중요."
   ]
  },
  {
   "cell_type": "code",
   "execution_count": 329,
   "metadata": {},
   "outputs": [
    {
     "data": {
      "text/plain": [
       "<Axes: title={'center': 'Feature importance'}, xlabel='Feature importance', ylabel='Features'>"
      ]
     },
     "execution_count": 329,
     "metadata": {},
     "output_type": "execute_result"
    },
    {
     "data": {
      "image/png": "[encoded data removed]",
      "text/plain": [
       "<Figure size 640x480 with 1 Axes>"
      ]
     },
     "metadata": {},
     "output_type": "display_data"
    }
   ],
   "source": [
    "from lightgbm import plot_importance, plot_metric\n",
    "plot_importance(clf, max_num_features=20)"
   ]
  },
  {
   "cell_type": "code",
   "execution_count": 352,
   "metadata": {},
   "outputs": [
    {
     "data": {
      "text/plain": [
       "<Axes: xlabel='Importance', ylabel='Feature'>"
      ]
     },
     "execution_count": 352,
     "metadata": {},
     "output_type": "execute_result"
    },
    {
     "data": {
      "image/png": "[encoded data removed]",
      "text/plain": [
       "<Figure size 2000x1200 with 1 Axes>"
      ]
     },
     "metadata": {},
     "output_type": "display_data"
    }
   ],
   "source": [
    "import seaborn as sns\n",
    "\n",
    "fi = pd.DataFrame(clf.feature_importance(), index = clf.feature_name()).reset_index()\n",
    "fi.columns = ['Feature', 'Importance']\n",
    "top20fi = fi.sort_values(by='Importance', ascending = False).iloc[:20]\n",
    "\n",
    "plt.figure(figsize = (20, 12))\n",
    "plt.rc('font', size=15)  \n",
    "\n",
    "sns.barplot(y='Feature', x='Importance', data = top20fi)"
   ]
  },
  {
   "cell_type": "markdown",
   "metadata": {},
   "source": [
    "# Save Model"
   ]
  },
  {
   "cell_type": "code",
   "execution_count": 353,
   "metadata": {},
   "outputs": [
    {
     "name": "stdout",
     "output_type": "stream",
     "text": [
      "Requirement already satisfied: joblib in c:\\users\\kim56\\anaconda3\\lib\\site-packages (1.2.0)\n"
     ]
    }
   ],
   "source": [
    "!pip install joblib"
   ]
  },
  {
   "cell_type": "code",
   "execution_count": 354,
   "metadata": {},
   "outputs": [
    {
     "data": {
      "text/plain": [
       "['lgbm_model.pkl']"
      ]
     },
     "execution_count": 354,
     "metadata": {},
     "output_type": "execute_result"
    }
   ],
   "source": [
    "import joblib\n",
    "\n",
    "filename = 'lgbm_model.pkl'\n",
    "joblib.dump(clf, filename)"
   ]
  },
  {
   "cell_type": "code",
   "execution_count": 355,
   "metadata": {},
   "outputs": [],
   "source": [
    "load_clf = joblib.load(filename)"
   ]
  }
 ],
 "metadata": {
  "accelerator": "GPU",
  "colab": {
   "authorship_tag": "ABX9TyPqpV0/EhjyiNcDsivDMp01",
   "gpuType": "T4",
   "mount_file_id": "1BVz_f2p7XpUkV_hzIvcdAzEXvZmbB9ep",
   "provenance": []
  },
  "kernelspec": {
   "display_name": "Python 3 (ipykernel)",
   "language": "python",
   "name": "python3"
  },
  "language_info": {
   "codemirror_mode": {
    "name": "ipython",
    "version": 3
   },
   "file_extension": ".py",
   "mimetype": "text/x-python",
   "name": "python",
   "nbconvert_exporter": "python",
   "pygments_lexer": "ipython3",
   "version": "3.11.4"
  }
 },
 "nbformat": 4,
 "nbformat_minor": 1
}
