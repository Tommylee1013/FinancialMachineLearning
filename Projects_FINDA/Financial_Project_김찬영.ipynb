{
 "cells": [
  {
   "cell_type": "code",
   "execution_count": 1,
   "id": "a6f6e35d",
   "metadata": {
    "ExecuteTime": {
     "end_time": "2024-01-18T15:02:35.535760Z",
     "start_time": "2024-01-18T15:02:35.190995Z"
    }
   },
   "outputs": [],
   "source": [
    "import pandas as pd\n",
    "from FinancialMachineLearning.features.fracdiff import FractionalDifferentiatedFeatures\n",
    "import statsmodels.api as sm\n",
    "import numpy as np\n",
    "import matplotlib.pyplot as plt"
   ]
  },
  {
   "cell_type": "code",
   "outputs": [
    {
     "name": "stdout",
     "output_type": "stream",
     "text": [
      "[*********************100%%**********************]  1 of 1 completed\n"
     ]
    },
    {
     "data": {
      "text/plain": "                  Open        High        Low      Close    Volume\nDate                                                              \n1962-01-02    0.000000    1.589844   1.578125   1.578125    902400\n1962-01-03    0.000000    1.601563   1.578125   1.601563   1200000\n1962-01-04    0.000000    1.613281   1.597656   1.605469   1088000\n1962-01-05    0.000000    1.613281   1.566406   1.570313   1222400\n1962-01-08    0.000000    1.582031   1.546875   1.566406   1388800\n...                ...         ...        ...        ...       ...\n2024-01-10   99.800003   99.800003  98.160004  98.690002  18206100\n2024-01-11   99.040001   99.500000  98.559998  98.669998  15833400\n2024-01-12  100.139999  100.650002  99.169998  99.949997  18032100\n2024-01-16   99.820000  100.010002  97.529999  97.690002  20235700\n2024-01-17   96.599998   97.959999  96.580002  96.980003  18379000\n\n[15617 rows x 5 columns]",
      "text/html": "<div>\n<style scoped>\n    .dataframe tbody tr th:only-of-type {\n        vertical-align: middle;\n    }\n\n    .dataframe tbody tr th {\n        vertical-align: top;\n    }\n\n    .dataframe thead th {\n        text-align: right;\n    }\n</style>\n<table border=\"1\" class=\"dataframe\">\n  <thead>\n    <tr style=\"text-align: right;\">\n      <th></th>\n      <th>Open</th>\n      <th>High</th>\n      <th>Low</th>\n      <th>Close</th>\n      <th>Volume</th>\n    </tr>\n    <tr>\n      <th>Date</th>\n      <th></th>\n      <th></th>\n      <th></th>\n      <th></th>\n      <th></th>\n    </tr>\n  </thead>\n  <tbody>\n    <tr>\n      <th>1962-01-02</th>\n      <td>0.000000</td>\n      <td>1.589844</td>\n      <td>1.578125</td>\n      <td>1.578125</td>\n      <td>902400</td>\n    </tr>\n    <tr>\n      <th>1962-01-03</th>\n      <td>0.000000</td>\n      <td>1.601563</td>\n      <td>1.578125</td>\n      <td>1.601563</td>\n      <td>1200000</td>\n    </tr>\n    <tr>\n      <th>1962-01-04</th>\n      <td>0.000000</td>\n      <td>1.613281</td>\n      <td>1.597656</td>\n      <td>1.605469</td>\n      <td>1088000</td>\n    </tr>\n    <tr>\n      <th>1962-01-05</th>\n      <td>0.000000</td>\n      <td>1.613281</td>\n      <td>1.566406</td>\n      <td>1.570313</td>\n      <td>1222400</td>\n    </tr>\n    <tr>\n      <th>1962-01-08</th>\n      <td>0.000000</td>\n      <td>1.582031</td>\n      <td>1.546875</td>\n      <td>1.566406</td>\n      <td>1388800</td>\n    </tr>\n    <tr>\n      <th>...</th>\n      <td>...</td>\n      <td>...</td>\n      <td>...</td>\n      <td>...</td>\n      <td>...</td>\n    </tr>\n    <tr>\n      <th>2024-01-10</th>\n      <td>99.800003</td>\n      <td>99.800003</td>\n      <td>98.160004</td>\n      <td>98.690002</td>\n      <td>18206100</td>\n    </tr>\n    <tr>\n      <th>2024-01-11</th>\n      <td>99.040001</td>\n      <td>99.500000</td>\n      <td>98.559998</td>\n      <td>98.669998</td>\n      <td>15833400</td>\n    </tr>\n    <tr>\n      <th>2024-01-12</th>\n      <td>100.139999</td>\n      <td>100.650002</td>\n      <td>99.169998</td>\n      <td>99.949997</td>\n      <td>18032100</td>\n    </tr>\n    <tr>\n      <th>2024-01-16</th>\n      <td>99.820000</td>\n      <td>100.010002</td>\n      <td>97.529999</td>\n      <td>97.690002</td>\n      <td>20235700</td>\n    </tr>\n    <tr>\n      <th>2024-01-17</th>\n      <td>96.599998</td>\n      <td>97.959999</td>\n      <td>96.580002</td>\n      <td>96.980003</td>\n      <td>18379000</td>\n    </tr>\n  </tbody>\n</table>\n<p>15617 rows × 5 columns</p>\n</div>"
     },
     "execution_count": 2,
     "metadata": {},
     "output_type": "execute_result"
    }
   ],
   "source": [
    "import yfinance as yf\n",
    "\n",
    "start_date = '1962-01-01'\n",
    "end_date = '2024-01-18'\n",
    "ticker = 'XOM'\n",
    "\n",
    "data = yf.download(ticker, start_date, end_date)\n",
    "data.drop('Adj Close', axis = 1, inplace = True)\n",
    "data"
   ],
   "metadata": {
    "collapsed": false,
    "ExecuteTime": {
     "end_time": "2024-01-18T15:03:04.657938Z",
     "start_time": "2024-01-18T15:03:03.150654Z"
    }
   },
   "id": "e434ac6610c66391",
   "execution_count": 2
  },
  {
   "cell_type": "code",
   "execution_count": 3,
   "id": "cf690c7e",
   "metadata": {
    "ExecuteTime": {
     "end_time": "2024-01-18T15:03:11.256460Z",
     "start_time": "2024-01-18T15:03:11.242025Z"
    }
   },
   "outputs": [
    {
     "data": {
      "text/plain": "Date\n1962-01-03    0.014743\n1962-01-04    0.002436\n1962-01-05   -0.022141\n1962-01-08   -0.002491\n1962-01-09   -0.002497\nName: Close, dtype: float64"
     },
     "execution_count": 3,
     "metadata": {},
     "output_type": "execute_result"
    }
   ],
   "source": [
    "data_ret = np.log(data.Close / data.Close.shift(1)).dropna()\n",
    "data_ret.head()"
   ]
  },
  {
   "cell_type": "code",
   "execution_count": 10,
   "id": "083e9ccd",
   "metadata": {},
   "outputs": [
    {
     "data": {
      "text/plain": [
       "[<matplotlib.lines.Line2D at 0x20291759610>]"
      ]
     },
     "execution_count": 10,
     "metadata": {},
     "output_type": "execute_result"
    },
    {
     "data": {
      "image/png": "[encoded data removed]",
      "text/plain": [
       "<Figure size 432x288 with 1 Axes>"
      ]
     },
     "metadata": {
      "needs_background": "light"
     },
     "output_type": "display_data"
    }
   ],
   "source": [
    "plt.plot(data.Close)"
   ]
  },
  {
   "cell_type": "code",
   "execution_count": 7,
   "id": "71983e92",
   "metadata": {},
   "outputs": [
    {
     "name": "stderr",
     "output_type": "stream",
     "text": [
      "C:\\Users\\cksdu\\OneDrive\\문서\\바탕 화면\\FIND-A\\MLFINLAB\\FinancialMachineLearning\\features\\fracdiff.py:54: FutureWarning: The default dtype for empty Series will be 'object' instead of 'float64' in a future version. Specify a dtype explicitly to silence this warning.\n",
      "  df_ = pd.Series()\n",
      "C:\\Users\\cksdu\\OneDrive\\문서\\바탕 화면\\FIND-A\\MLFINLAB\\FinancialMachineLearning\\features\\fracdiff.py:54: FutureWarning: The default dtype for empty Series will be 'object' instead of 'float64' in a future version. Specify a dtype explicitly to silence this warning.\n",
      "  df_ = pd.Series()\n",
      "C:\\Users\\cksdu\\OneDrive\\문서\\바탕 화면\\FIND-A\\MLFINLAB\\FinancialMachineLearning\\features\\fracdiff.py:54: FutureWarning: The default dtype for empty Series will be 'object' instead of 'float64' in a future version. Specify a dtype explicitly to silence this warning.\n",
      "  df_ = pd.Series()\n",
      "C:\\Users\\cksdu\\OneDrive\\문서\\바탕 화면\\FIND-A\\MLFINLAB\\FinancialMachineLearning\\features\\fracdiff.py:54: FutureWarning: The default dtype for empty Series will be 'object' instead of 'float64' in a future version. Specify a dtype explicitly to silence this warning.\n",
      "  df_ = pd.Series()\n",
      "C:\\Users\\cksdu\\OneDrive\\문서\\바탕 화면\\FIND-A\\MLFINLAB\\FinancialMachineLearning\\features\\fracdiff.py:54: FutureWarning: The default dtype for empty Series will be 'object' instead of 'float64' in a future version. Specify a dtype explicitly to silence this warning.\n",
      "  df_ = pd.Series()\n",
      "C:\\Users\\cksdu\\OneDrive\\문서\\바탕 화면\\FIND-A\\MLFINLAB\\FinancialMachineLearning\\features\\fracdiff.py:54: FutureWarning: The default dtype for empty Series will be 'object' instead of 'float64' in a future version. Specify a dtype explicitly to silence this warning.\n",
      "  df_ = pd.Series()\n",
      "C:\\Users\\cksdu\\OneDrive\\문서\\바탕 화면\\FIND-A\\MLFINLAB\\FinancialMachineLearning\\features\\fracdiff.py:54: FutureWarning: The default dtype for empty Series will be 'object' instead of 'float64' in a future version. Specify a dtype explicitly to silence this warning.\n",
      "  df_ = pd.Series()\n",
      "C:\\Users\\cksdu\\OneDrive\\문서\\바탕 화면\\FIND-A\\MLFINLAB\\FinancialMachineLearning\\features\\fracdiff.py:54: FutureWarning: The default dtype for empty Series will be 'object' instead of 'float64' in a future version. Specify a dtype explicitly to silence this warning.\n",
      "  df_ = pd.Series()\n",
      "C:\\Users\\cksdu\\OneDrive\\문서\\바탕 화면\\FIND-A\\MLFINLAB\\FinancialMachineLearning\\features\\fracdiff.py:54: FutureWarning: The default dtype for empty Series will be 'object' instead of 'float64' in a future version. Specify a dtype explicitly to silence this warning.\n",
      "  df_ = pd.Series()\n",
      "C:\\Users\\cksdu\\OneDrive\\문서\\바탕 화면\\FIND-A\\MLFINLAB\\FinancialMachineLearning\\features\\fracdiff.py:54: FutureWarning: The default dtype for empty Series will be 'object' instead of 'float64' in a future version. Specify a dtype explicitly to silence this warning.\n",
      "  df_ = pd.Series()\n",
      "C:\\Users\\cksdu\\OneDrive\\문서\\바탕 화면\\FIND-A\\MLFINLAB\\FinancialMachineLearning\\features\\fracdiff.py:54: FutureWarning: The default dtype for empty Series will be 'object' instead of 'float64' in a future version. Specify a dtype explicitly to silence this warning.\n",
      "  df_ = pd.Series()\n",
      "C:\\Users\\cksdu\\OneDrive\\문서\\바탕 화면\\FIND-A\\MLFINLAB\\FinancialMachineLearning\\features\\fracdiff.py:54: FutureWarning: The default dtype for empty Series will be 'object' instead of 'float64' in a future version. Specify a dtype explicitly to silence this warning.\n",
      "  df_ = pd.Series()\n",
      "C:\\Users\\cksdu\\OneDrive\\문서\\바탕 화면\\FIND-A\\MLFINLAB\\FinancialMachineLearning\\features\\fracdiff.py:54: FutureWarning: The default dtype for empty Series will be 'object' instead of 'float64' in a future version. Specify a dtype explicitly to silence this warning.\n",
      "  df_ = pd.Series()\n",
      "C:\\Users\\cksdu\\OneDrive\\문서\\바탕 화면\\FIND-A\\MLFINLAB\\FinancialMachineLearning\\features\\fracdiff.py:54: FutureWarning: The default dtype for empty Series will be 'object' instead of 'float64' in a future version. Specify a dtype explicitly to silence this warning.\n",
      "  df_ = pd.Series()\n",
      "C:\\Users\\cksdu\\OneDrive\\문서\\바탕 화면\\FIND-A\\MLFINLAB\\FinancialMachineLearning\\features\\fracdiff.py:54: FutureWarning: The default dtype for empty Series will be 'object' instead of 'float64' in a future version. Specify a dtype explicitly to silence this warning.\n",
      "  df_ = pd.Series()\n",
      "C:\\Users\\cksdu\\OneDrive\\문서\\바탕 화면\\FIND-A\\MLFINLAB\\FinancialMachineLearning\\features\\fracdiff.py:54: FutureWarning: The default dtype for empty Series will be 'object' instead of 'float64' in a future version. Specify a dtype explicitly to silence this warning.\n",
      "  df_ = pd.Series()\n",
      "C:\\Users\\cksdu\\OneDrive\\문서\\바탕 화면\\FIND-A\\MLFINLAB\\FinancialMachineLearning\\features\\fracdiff.py:54: FutureWarning: The default dtype for empty Series will be 'object' instead of 'float64' in a future version. Specify a dtype explicitly to silence this warning.\n",
      "  df_ = pd.Series()\n",
      "C:\\Users\\cksdu\\OneDrive\\문서\\바탕 화면\\FIND-A\\MLFINLAB\\FinancialMachineLearning\\features\\fracdiff.py:54: FutureWarning: The default dtype for empty Series will be 'object' instead of 'float64' in a future version. Specify a dtype explicitly to silence this warning.\n",
      "  df_ = pd.Series()\n",
      "C:\\Users\\cksdu\\OneDrive\\문서\\바탕 화면\\FIND-A\\MLFINLAB\\FinancialMachineLearning\\features\\fracdiff.py:54: FutureWarning: The default dtype for empty Series will be 'object' instead of 'float64' in a future version. Specify a dtype explicitly to silence this warning.\n",
      "  df_ = pd.Series()\n",
      "C:\\Users\\cksdu\\OneDrive\\문서\\바탕 화면\\FIND-A\\MLFINLAB\\FinancialMachineLearning\\features\\fracdiff.py:54: FutureWarning: The default dtype for empty Series will be 'object' instead of 'float64' in a future version. Specify a dtype explicitly to silence this warning.\n",
      "  df_ = pd.Series()\n",
      "C:\\Users\\cksdu\\OneDrive\\문서\\바탕 화면\\FIND-A\\MLFINLAB\\FinancialMachineLearning\\features\\fracdiff.py:54: FutureWarning: The default dtype for empty Series will be 'object' instead of 'float64' in a future version. Specify a dtype explicitly to silence this warning.\n",
      "  df_ = pd.Series()\n"
     ]
    }
   ],
   "source": [
    "#분수 차분 계산 후, 얻어진 시계열의 정상성과 원래 데이터 간 상관성 평가\n",
    "def calculate_difference(df : pd.DataFrame, end = 1, numbers = 11) :\n",
    "    cols = ['adfStat','p-value','lags','nObs','95% conf', 'corr']\n",
    "    out = pd.DataFrame(columns = cols)\n",
    "    for d in np.linspace(0, end, numbers): #numbers개의 분수차수 생성\n",
    "        try:\n",
    "            df1 = np.log(df).dropna()\n",
    "            #분수차분 실행(d : 분수 차수, thres : 임계값)\n",
    "            df2 = FractionalDifferentiatedFeatures.fracDiff(df1, d, thres = 1e-5)\n",
    "            #ADF 검정과 상관성 계산(기존 데이터와 분수 차분 데이터 간 상관계수)\n",
    "            corr = np.corrcoef(df1.loc[df2.index, 'Close'], df2['Close'])[0,1]\n",
    "            df2 = sm.tsa.stattools.adfuller(df2['Close'], maxlag = 1, regression = 'c', autolag = None)\n",
    "            #계산된 ADF 통계량, p값, 상관계수 등 저장\n",
    "            out.loc[d] = list(df2[:4]) + [df2[4]['5%']] + [corr]\n",
    "        except Exception as e:\n",
    "            print(f'd: {d}, error: {e}')\n",
    "            continue\n",
    "    return out\n",
    "\n",
    "data_d = calculate_difference(data[['Close']], numbers = 21)"
   ]
  },
  {
   "cell_type": "code",
   "execution_count": 8,
   "id": "02ce33d2",
   "metadata": {
    "scrolled": true
   },
   "outputs": [
    {
     "data": {
      "text/html": [
       "<div>\n",
       "<style scoped>\n",
       "    .dataframe tbody tr th:only-of-type {\n",
       "        vertical-align: middle;\n",
       "    }\n",
       "\n",
       "    .dataframe tbody tr th {\n",
       "        vertical-align: top;\n",
       "    }\n",
       "\n",
       "    .dataframe thead th {\n",
       "        text-align: right;\n",
       "    }\n",
       "</style>\n",
       "<table border=\"1\" class=\"dataframe\">\n",
       "  <thead>\n",
       "    <tr style=\"text-align: right;\">\n",
       "      <th></th>\n",
       "      <th>adfStat</th>\n",
       "      <th>p-value</th>\n",
       "      <th>lags</th>\n",
       "      <th>nObs</th>\n",
       "      <th>95% conf</th>\n",
       "      <th>corr</th>\n",
       "    </tr>\n",
       "  </thead>\n",
       "  <tbody>\n",
       "    <tr>\n",
       "      <th>0.00</th>\n",
       "      <td>-0.892083</td>\n",
       "      <td>7.905684e-01</td>\n",
       "      <td>1.0</td>\n",
       "      <td>14597.0</td>\n",
       "      <td>-2.861738</td>\n",
       "      <td>1.000000</td>\n",
       "    </tr>\n",
       "    <tr>\n",
       "      <th>0.05</th>\n",
       "      <td>-0.325455</td>\n",
       "      <td>9.218210e-01</td>\n",
       "      <td>1.0</td>\n",
       "      <td>4.0</td>\n",
       "      <td>-4.474365</td>\n",
       "      <td>0.999007</td>\n",
       "    </tr>\n",
       "    <tr>\n",
       "      <th>0.10</th>\n",
       "      <td>-0.381350</td>\n",
       "      <td>9.131663e-01</td>\n",
       "      <td>1.0</td>\n",
       "      <td>4.0</td>\n",
       "      <td>-4.474365</td>\n",
       "      <td>0.996126</td>\n",
       "    </tr>\n",
       "    <tr>\n",
       "      <th>0.15</th>\n",
       "      <td>-1.720336</td>\n",
       "      <td>4.206663e-01</td>\n",
       "      <td>1.0</td>\n",
       "      <td>6.0</td>\n",
       "      <td>-3.646238</td>\n",
       "      <td>0.984297</td>\n",
       "    </tr>\n",
       "    <tr>\n",
       "      <th>0.20</th>\n",
       "      <td>-1.707622</td>\n",
       "      <td>4.271898e-01</td>\n",
       "      <td>1.0</td>\n",
       "      <td>8.0</td>\n",
       "      <td>-3.367187</td>\n",
       "      <td>0.967079</td>\n",
       "    </tr>\n",
       "    <tr>\n",
       "      <th>0.25</th>\n",
       "      <td>-4.244201</td>\n",
       "      <td>5.541346e-04</td>\n",
       "      <td>1.0</td>\n",
       "      <td>13.0</td>\n",
       "      <td>-3.127149</td>\n",
       "      <td>0.932946</td>\n",
       "    </tr>\n",
       "    <tr>\n",
       "      <th>0.30</th>\n",
       "      <td>-3.615943</td>\n",
       "      <td>5.463453e-03</td>\n",
       "      <td>1.0</td>\n",
       "      <td>19.0</td>\n",
       "      <td>-3.031227</td>\n",
       "      <td>0.892474</td>\n",
       "    </tr>\n",
       "    <tr>\n",
       "      <th>0.35</th>\n",
       "      <td>-2.630868</td>\n",
       "      <td>8.678379e-02</td>\n",
       "      <td>1.0</td>\n",
       "      <td>30.0</td>\n",
       "      <td>-2.964071</td>\n",
       "      <td>0.898378</td>\n",
       "    </tr>\n",
       "    <tr>\n",
       "      <th>0.40</th>\n",
       "      <td>-3.103146</td>\n",
       "      <td>2.632127e-02</td>\n",
       "      <td>1.0</td>\n",
       "      <td>47.0</td>\n",
       "      <td>-2.925338</td>\n",
       "      <td>0.841688</td>\n",
       "    </tr>\n",
       "    <tr>\n",
       "      <th>0.45</th>\n",
       "      <td>-4.141121</td>\n",
       "      <td>8.275645e-04</td>\n",
       "      <td>1.0</td>\n",
       "      <td>75.0</td>\n",
       "      <td>-2.900925</td>\n",
       "      <td>0.704957</td>\n",
       "    </tr>\n",
       "    <tr>\n",
       "      <th>0.50</th>\n",
       "      <td>-4.875349</td>\n",
       "      <td>3.893941e-05</td>\n",
       "      <td>1.0</td>\n",
       "      <td>121.0</td>\n",
       "      <td>-2.885739</td>\n",
       "      <td>0.450778</td>\n",
       "    </tr>\n",
       "    <tr>\n",
       "      <th>0.55</th>\n",
       "      <td>-5.884133</td>\n",
       "      <td>3.029544e-07</td>\n",
       "      <td>1.0</td>\n",
       "      <td>199.0</td>\n",
       "      <td>-2.876176</td>\n",
       "      <td>0.450273</td>\n",
       "    </tr>\n",
       "    <tr>\n",
       "      <th>0.60</th>\n",
       "      <td>-6.930087</td>\n",
       "      <td>1.089753e-09</td>\n",
       "      <td>1.0</td>\n",
       "      <td>331.0</td>\n",
       "      <td>-2.870312</td>\n",
       "      <td>0.425243</td>\n",
       "    </tr>\n",
       "    <tr>\n",
       "      <th>0.65</th>\n",
       "      <td>-10.169004</td>\n",
       "      <td>7.171881e-18</td>\n",
       "      <td>1.0</td>\n",
       "      <td>561.0</td>\n",
       "      <td>-2.866706</td>\n",
       "      <td>0.373761</td>\n",
       "    </tr>\n",
       "    <tr>\n",
       "      <th>0.70</th>\n",
       "      <td>-14.731459</td>\n",
       "      <td>2.655691e-27</td>\n",
       "      <td>1.0</td>\n",
       "      <td>965.0</td>\n",
       "      <td>-2.864540</td>\n",
       "      <td>0.298526</td>\n",
       "    </tr>\n",
       "    <tr>\n",
       "      <th>0.75</th>\n",
       "      <td>-21.812931</td>\n",
       "      <td>0.000000e+00</td>\n",
       "      <td>1.0</td>\n",
       "      <td>1682.0</td>\n",
       "      <td>-2.863260</td>\n",
       "      <td>0.213255</td>\n",
       "    </tr>\n",
       "    <tr>\n",
       "      <th>0.80</th>\n",
       "      <td>-36.617560</td>\n",
       "      <td>0.000000e+00</td>\n",
       "      <td>1.0</td>\n",
       "      <td>2936.0</td>\n",
       "      <td>-2.862525</td>\n",
       "      <td>0.131831</td>\n",
       "    </tr>\n",
       "    <tr>\n",
       "      <th>0.85</th>\n",
       "      <td>-49.424505</td>\n",
       "      <td>0.000000e+00</td>\n",
       "      <td>1.0</td>\n",
       "      <td>5020.0</td>\n",
       "      <td>-2.862116</td>\n",
       "      <td>0.028248</td>\n",
       "    </tr>\n",
       "    <tr>\n",
       "      <th>0.90</th>\n",
       "      <td>-66.265741</td>\n",
       "      <td>0.000000e+00</td>\n",
       "      <td>1.0</td>\n",
       "      <td>8073.0</td>\n",
       "      <td>-2.861898</td>\n",
       "      <td>-0.004566</td>\n",
       "    </tr>\n",
       "    <tr>\n",
       "      <th>0.95</th>\n",
       "      <td>-81.075013</td>\n",
       "      <td>0.000000e+00</td>\n",
       "      <td>1.0</td>\n",
       "      <td>11613.0</td>\n",
       "      <td>-2.861789</td>\n",
       "      <td>0.000493</td>\n",
       "    </tr>\n",
       "    <tr>\n",
       "      <th>1.00</th>\n",
       "      <td>-93.448562</td>\n",
       "      <td>0.000000e+00</td>\n",
       "      <td>1.0</td>\n",
       "      <td>14596.0</td>\n",
       "      <td>-2.861738</td>\n",
       "      <td>0.002246</td>\n",
       "    </tr>\n",
       "  </tbody>\n",
       "</table>\n",
       "</div>"
      ],
      "text/plain": [
       "        adfStat       p-value  lags     nObs  95% conf      corr\n",
       "0.00  -0.892083  7.905684e-01   1.0  14597.0 -2.861738  1.000000\n",
       "0.05  -0.325455  9.218210e-01   1.0      4.0 -4.474365  0.999007\n",
       "0.10  -0.381350  9.131663e-01   1.0      4.0 -4.474365  0.996126\n",
       "0.15  -1.720336  4.206663e-01   1.0      6.0 -3.646238  0.984297\n",
       "0.20  -1.707622  4.271898e-01   1.0      8.0 -3.367187  0.967079\n",
       "0.25  -4.244201  5.541346e-04   1.0     13.0 -3.127149  0.932946\n",
       "0.30  -3.615943  5.463453e-03   1.0     19.0 -3.031227  0.892474\n",
       "0.35  -2.630868  8.678379e-02   1.0     30.0 -2.964071  0.898378\n",
       "0.40  -3.103146  2.632127e-02   1.0     47.0 -2.925338  0.841688\n",
       "0.45  -4.141121  8.275645e-04   1.0     75.0 -2.900925  0.704957\n",
       "0.50  -4.875349  3.893941e-05   1.0    121.0 -2.885739  0.450778\n",
       "0.55  -5.884133  3.029544e-07   1.0    199.0 -2.876176  0.450273\n",
       "0.60  -6.930087  1.089753e-09   1.0    331.0 -2.870312  0.425243\n",
       "0.65 -10.169004  7.171881e-18   1.0    561.0 -2.866706  0.373761\n",
       "0.70 -14.731459  2.655691e-27   1.0    965.0 -2.864540  0.298526\n",
       "0.75 -21.812931  0.000000e+00   1.0   1682.0 -2.863260  0.213255\n",
       "0.80 -36.617560  0.000000e+00   1.0   2936.0 -2.862525  0.131831\n",
       "0.85 -49.424505  0.000000e+00   1.0   5020.0 -2.862116  0.028248\n",
       "0.90 -66.265741  0.000000e+00   1.0   8073.0 -2.861898 -0.004566\n",
       "0.95 -81.075013  0.000000e+00   1.0  11613.0 -2.861789  0.000493\n",
       "1.00 -93.448562  0.000000e+00   1.0  14596.0 -2.861738  0.002246"
      ]
     },
     "execution_count": 8,
     "metadata": {},
     "output_type": "execute_result"
    }
   ],
   "source": [
    "data_d"
   ]
  },
  {
   "cell_type": "code",
   "execution_count": 9,
   "id": "0ad1ec68",
   "metadata": {},
   "outputs": [
    {
     "data": {
      "text/html": [
       "<div>\n",
       "<style scoped>\n",
       "    .dataframe tbody tr th:only-of-type {\n",
       "        vertical-align: middle;\n",
       "    }\n",
       "\n",
       "    .dataframe tbody tr th {\n",
       "        vertical-align: top;\n",
       "    }\n",
       "\n",
       "    .dataframe thead th {\n",
       "        text-align: right;\n",
       "    }\n",
       "</style>\n",
       "<table border=\"1\" class=\"dataframe\">\n",
       "  <thead>\n",
       "    <tr style=\"text-align: right;\">\n",
       "      <th></th>\n",
       "      <th>adfStat</th>\n",
       "      <th>p-value</th>\n",
       "      <th>lags</th>\n",
       "      <th>nObs</th>\n",
       "      <th>95% conf</th>\n",
       "      <th>corr</th>\n",
       "    </tr>\n",
       "  </thead>\n",
       "  <tbody>\n",
       "    <tr>\n",
       "      <th>0.00</th>\n",
       "      <td>-0.892083</td>\n",
       "      <td>7.905684e-01</td>\n",
       "      <td>1.0</td>\n",
       "      <td>14597.0</td>\n",
       "      <td>-2.861738</td>\n",
       "      <td>1.000000</td>\n",
       "    </tr>\n",
       "    <tr>\n",
       "      <th>0.05</th>\n",
       "      <td>-0.325455</td>\n",
       "      <td>9.218210e-01</td>\n",
       "      <td>1.0</td>\n",
       "      <td>4.0</td>\n",
       "      <td>-4.474365</td>\n",
       "      <td>0.999007</td>\n",
       "    </tr>\n",
       "    <tr>\n",
       "      <th>0.10</th>\n",
       "      <td>-0.381350</td>\n",
       "      <td>9.131663e-01</td>\n",
       "      <td>1.0</td>\n",
       "      <td>4.0</td>\n",
       "      <td>-4.474365</td>\n",
       "      <td>0.996126</td>\n",
       "    </tr>\n",
       "    <tr>\n",
       "      <th>0.15</th>\n",
       "      <td>-1.720336</td>\n",
       "      <td>4.206663e-01</td>\n",
       "      <td>1.0</td>\n",
       "      <td>6.0</td>\n",
       "      <td>-3.646238</td>\n",
       "      <td>0.984297</td>\n",
       "    </tr>\n",
       "    <tr>\n",
       "      <th>0.20</th>\n",
       "      <td>-1.707622</td>\n",
       "      <td>4.271898e-01</td>\n",
       "      <td>1.0</td>\n",
       "      <td>8.0</td>\n",
       "      <td>-3.367187</td>\n",
       "      <td>0.967079</td>\n",
       "    </tr>\n",
       "    <tr>\n",
       "      <th>0.25</th>\n",
       "      <td>-4.244201</td>\n",
       "      <td>5.541346e-04</td>\n",
       "      <td>1.0</td>\n",
       "      <td>13.0</td>\n",
       "      <td>-3.127149</td>\n",
       "      <td>0.932946</td>\n",
       "    </tr>\n",
       "    <tr>\n",
       "      <th>0.30</th>\n",
       "      <td>-3.615943</td>\n",
       "      <td>5.463453e-03</td>\n",
       "      <td>1.0</td>\n",
       "      <td>19.0</td>\n",
       "      <td>-3.031227</td>\n",
       "      <td>0.892474</td>\n",
       "    </tr>\n",
       "    <tr>\n",
       "      <th>0.35</th>\n",
       "      <td>-2.630868</td>\n",
       "      <td>8.678379e-02</td>\n",
       "      <td>1.0</td>\n",
       "      <td>30.0</td>\n",
       "      <td>-2.964071</td>\n",
       "      <td>0.898378</td>\n",
       "    </tr>\n",
       "    <tr>\n",
       "      <th>0.40</th>\n",
       "      <td>-3.103146</td>\n",
       "      <td>2.632127e-02</td>\n",
       "      <td>1.0</td>\n",
       "      <td>47.0</td>\n",
       "      <td>-2.925338</td>\n",
       "      <td>0.841688</td>\n",
       "    </tr>\n",
       "    <tr>\n",
       "      <th>0.45</th>\n",
       "      <td>-4.141121</td>\n",
       "      <td>8.275645e-04</td>\n",
       "      <td>1.0</td>\n",
       "      <td>75.0</td>\n",
       "      <td>-2.900925</td>\n",
       "      <td>0.704957</td>\n",
       "    </tr>\n",
       "    <tr>\n",
       "      <th>0.50</th>\n",
       "      <td>-4.875349</td>\n",
       "      <td>3.893941e-05</td>\n",
       "      <td>1.0</td>\n",
       "      <td>121.0</td>\n",
       "      <td>-2.885739</td>\n",
       "      <td>0.450778</td>\n",
       "    </tr>\n",
       "    <tr>\n",
       "      <th>0.55</th>\n",
       "      <td>-5.884133</td>\n",
       "      <td>3.029544e-07</td>\n",
       "      <td>1.0</td>\n",
       "      <td>199.0</td>\n",
       "      <td>-2.876176</td>\n",
       "      <td>0.450273</td>\n",
       "    </tr>\n",
       "    <tr>\n",
       "      <th>0.60</th>\n",
       "      <td>-6.930087</td>\n",
       "      <td>1.089753e-09</td>\n",
       "      <td>1.0</td>\n",
       "      <td>331.0</td>\n",
       "      <td>-2.870312</td>\n",
       "      <td>0.425243</td>\n",
       "    </tr>\n",
       "    <tr>\n",
       "      <th>0.65</th>\n",
       "      <td>-10.169004</td>\n",
       "      <td>7.171881e-18</td>\n",
       "      <td>1.0</td>\n",
       "      <td>561.0</td>\n",
       "      <td>-2.866706</td>\n",
       "      <td>0.373761</td>\n",
       "    </tr>\n",
       "    <tr>\n",
       "      <th>0.70</th>\n",
       "      <td>-14.731459</td>\n",
       "      <td>2.655691e-27</td>\n",
       "      <td>1.0</td>\n",
       "      <td>965.0</td>\n",
       "      <td>-2.864540</td>\n",
       "      <td>0.298526</td>\n",
       "    </tr>\n",
       "    <tr>\n",
       "      <th>0.75</th>\n",
       "      <td>-21.812931</td>\n",
       "      <td>0.000000e+00</td>\n",
       "      <td>1.0</td>\n",
       "      <td>1682.0</td>\n",
       "      <td>-2.863260</td>\n",
       "      <td>0.213255</td>\n",
       "    </tr>\n",
       "    <tr>\n",
       "      <th>0.80</th>\n",
       "      <td>-36.617560</td>\n",
       "      <td>0.000000e+00</td>\n",
       "      <td>1.0</td>\n",
       "      <td>2936.0</td>\n",
       "      <td>-2.862525</td>\n",
       "      <td>0.131831</td>\n",
       "    </tr>\n",
       "    <tr>\n",
       "      <th>0.85</th>\n",
       "      <td>-49.424505</td>\n",
       "      <td>0.000000e+00</td>\n",
       "      <td>1.0</td>\n",
       "      <td>5020.0</td>\n",
       "      <td>-2.862116</td>\n",
       "      <td>0.028248</td>\n",
       "    </tr>\n",
       "    <tr>\n",
       "      <th>0.90</th>\n",
       "      <td>-66.265741</td>\n",
       "      <td>0.000000e+00</td>\n",
       "      <td>1.0</td>\n",
       "      <td>8073.0</td>\n",
       "      <td>-2.861898</td>\n",
       "      <td>-0.004566</td>\n",
       "    </tr>\n",
       "    <tr>\n",
       "      <th>0.95</th>\n",
       "      <td>-81.075013</td>\n",
       "      <td>0.000000e+00</td>\n",
       "      <td>1.0</td>\n",
       "      <td>11613.0</td>\n",
       "      <td>-2.861789</td>\n",
       "      <td>0.000493</td>\n",
       "    </tr>\n",
       "    <tr>\n",
       "      <th>1.00</th>\n",
       "      <td>-93.448562</td>\n",
       "      <td>0.000000e+00</td>\n",
       "      <td>1.0</td>\n",
       "      <td>14596.0</td>\n",
       "      <td>-2.861738</td>\n",
       "      <td>0.002246</td>\n",
       "    </tr>\n",
       "  </tbody>\n",
       "</table>\n",
       "</div>"
      ],
      "text/plain": [
       "        adfStat       p-value  lags     nObs  95% conf      corr\n",
       "0.00  -0.892083  7.905684e-01   1.0  14597.0 -2.861738  1.000000\n",
       "0.05  -0.325455  9.218210e-01   1.0      4.0 -4.474365  0.999007\n",
       "0.10  -0.381350  9.131663e-01   1.0      4.0 -4.474365  0.996126\n",
       "0.15  -1.720336  4.206663e-01   1.0      6.0 -3.646238  0.984297\n",
       "0.20  -1.707622  4.271898e-01   1.0      8.0 -3.367187  0.967079\n",
       "0.25  -4.244201  5.541346e-04   1.0     13.0 -3.127149  0.932946\n",
       "0.30  -3.615943  5.463453e-03   1.0     19.0 -3.031227  0.892474\n",
       "0.35  -2.630868  8.678379e-02   1.0     30.0 -2.964071  0.898378\n",
       "0.40  -3.103146  2.632127e-02   1.0     47.0 -2.925338  0.841688\n",
       "0.45  -4.141121  8.275645e-04   1.0     75.0 -2.900925  0.704957\n",
       "0.50  -4.875349  3.893941e-05   1.0    121.0 -2.885739  0.450778\n",
       "0.55  -5.884133  3.029544e-07   1.0    199.0 -2.876176  0.450273\n",
       "0.60  -6.930087  1.089753e-09   1.0    331.0 -2.870312  0.425243\n",
       "0.65 -10.169004  7.171881e-18   1.0    561.0 -2.866706  0.373761\n",
       "0.70 -14.731459  2.655691e-27   1.0    965.0 -2.864540  0.298526\n",
       "0.75 -21.812931  0.000000e+00   1.0   1682.0 -2.863260  0.213255\n",
       "0.80 -36.617560  0.000000e+00   1.0   2936.0 -2.862525  0.131831\n",
       "0.85 -49.424505  0.000000e+00   1.0   5020.0 -2.862116  0.028248\n",
       "0.90 -66.265741  0.000000e+00   1.0   8073.0 -2.861898 -0.004566\n",
       "0.95 -81.075013  0.000000e+00   1.0  11613.0 -2.861789  0.000493\n",
       "1.00 -93.448562  0.000000e+00   1.0  14596.0 -2.861738  0.002246"
      ]
     },
     "metadata": {},
     "output_type": "display_data"
    },
    {
     "data": {
      "image/png": "[encoded data removed]",
      "text/plain": [
       "<Figure size 432x288 with 2 Axes>"
      ]
     },
     "metadata": {
      "needs_background": "light"
     },
     "output_type": "display_data"
    }
   ],
   "source": [
    "import matplotlib.pyplot as plt\n",
    "\n",
    "f,ax = plt.subplots()\n",
    "ax.axhline(data_d['95% conf'].mean(), lw = 1, color = 'r', ls = '-.')\n",
    "data_d[['adfStat', 'corr']].plot(ax = ax, marker = 'X', secondary_y = 'corr')\n",
    "ax.set_title('IBM minimum d (threshold = 0.0001)', fontsize = 12, fontfamily = 'Serif')\n",
    "ax.set_xlabel('d values')\n",
    "ax.set_ylabel('ADF Stats')\n",
    "ax.grid(False)\n",
    "display(data_d)"
   ]
  },
  {
   "cell_type": "code",
   "execution_count": 4,
   "id": "7bca7d60",
   "metadata": {
    "ExecuteTime": {
     "end_time": "2024-01-18T15:03:23.775696Z",
     "start_time": "2024-01-18T15:03:20.793510Z"
    }
   },
   "outputs": [],
   "source": [
    "#0.45차분으로 \n",
    "frac = FractionalDifferentiatedFeatures.fracDiff_FFD(data[['Close']], 0.35)\n",
    "data['fracdiff'] = frac"
   ]
  },
  {
   "cell_type": "code",
   "execution_count": 5,
   "id": "f0a4d013",
   "metadata": {
    "ExecuteTime": {
     "end_time": "2024-01-18T15:03:25.014978Z",
     "start_time": "2024-01-18T15:03:25.004397Z"
    }
   },
   "outputs": [
    {
     "data": {
      "text/plain": "                  Open        High        Low      Close    Volume  fracdiff\nDate                                                                        \n1962-01-02    0.000000    1.589844   1.578125   1.578125    902400       NaN\n1962-01-03    0.000000    1.601563   1.578125   1.601563   1200000       NaN\n1962-01-04    0.000000    1.613281   1.597656   1.605469   1088000       NaN\n1962-01-05    0.000000    1.613281   1.566406   1.570313   1222400       NaN\n1962-01-08    0.000000    1.582031   1.546875   1.566406   1388800       NaN\n...                ...         ...        ...        ...       ...       ...\n2024-01-10   99.800003   99.800003  98.160004  98.690002  18206100  3.567968\n2024-01-11   99.040001   99.500000  98.559998  98.669998  15833400  4.120793\n2024-01-12  100.139999  100.650002  99.169998  99.949997  18032100  5.654415\n2024-01-16   99.820000  100.010002  97.529999  97.690002  20235700  3.103284\n2024-01-17   96.599998   97.959999  96.580002  96.980003  18379000  3.150813\n\n[15617 rows x 6 columns]",
      "text/html": "<div>\n<style scoped>\n    .dataframe tbody tr th:only-of-type {\n        vertical-align: middle;\n    }\n\n    .dataframe tbody tr th {\n        vertical-align: top;\n    }\n\n    .dataframe thead th {\n        text-align: right;\n    }\n</style>\n<table border=\"1\" class=\"dataframe\">\n  <thead>\n    <tr style=\"text-align: right;\">\n      <th></th>\n      <th>Open</th>\n      <th>High</th>\n      <th>Low</th>\n      <th>Close</th>\n      <th>Volume</th>\n      <th>fracdiff</th>\n    </tr>\n    <tr>\n      <th>Date</th>\n      <th></th>\n      <th></th>\n      <th></th>\n      <th></th>\n      <th></th>\n      <th></th>\n    </tr>\n  </thead>\n  <tbody>\n    <tr>\n      <th>1962-01-02</th>\n      <td>0.000000</td>\n      <td>1.589844</td>\n      <td>1.578125</td>\n      <td>1.578125</td>\n      <td>902400</td>\n      <td>NaN</td>\n    </tr>\n    <tr>\n      <th>1962-01-03</th>\n      <td>0.000000</td>\n      <td>1.601563</td>\n      <td>1.578125</td>\n      <td>1.601563</td>\n      <td>1200000</td>\n      <td>NaN</td>\n    </tr>\n    <tr>\n      <th>1962-01-04</th>\n      <td>0.000000</td>\n      <td>1.613281</td>\n      <td>1.597656</td>\n      <td>1.605469</td>\n      <td>1088000</td>\n      <td>NaN</td>\n    </tr>\n    <tr>\n      <th>1962-01-05</th>\n      <td>0.000000</td>\n      <td>1.613281</td>\n      <td>1.566406</td>\n      <td>1.570313</td>\n      <td>1222400</td>\n      <td>NaN</td>\n    </tr>\n    <tr>\n      <th>1962-01-08</th>\n      <td>0.000000</td>\n      <td>1.582031</td>\n      <td>1.546875</td>\n      <td>1.566406</td>\n      <td>1388800</td>\n      <td>NaN</td>\n    </tr>\n    <tr>\n      <th>...</th>\n      <td>...</td>\n      <td>...</td>\n      <td>...</td>\n      <td>...</td>\n      <td>...</td>\n      <td>...</td>\n    </tr>\n    <tr>\n      <th>2024-01-10</th>\n      <td>99.800003</td>\n      <td>99.800003</td>\n      <td>98.160004</td>\n      <td>98.690002</td>\n      <td>18206100</td>\n      <td>3.567968</td>\n    </tr>\n    <tr>\n      <th>2024-01-11</th>\n      <td>99.040001</td>\n      <td>99.500000</td>\n      <td>98.559998</td>\n      <td>98.669998</td>\n      <td>15833400</td>\n      <td>4.120793</td>\n    </tr>\n    <tr>\n      <th>2024-01-12</th>\n      <td>100.139999</td>\n      <td>100.650002</td>\n      <td>99.169998</td>\n      <td>99.949997</td>\n      <td>18032100</td>\n      <td>5.654415</td>\n    </tr>\n    <tr>\n      <th>2024-01-16</th>\n      <td>99.820000</td>\n      <td>100.010002</td>\n      <td>97.529999</td>\n      <td>97.690002</td>\n      <td>20235700</td>\n      <td>3.103284</td>\n    </tr>\n    <tr>\n      <th>2024-01-17</th>\n      <td>96.599998</td>\n      <td>97.959999</td>\n      <td>96.580002</td>\n      <td>96.980003</td>\n      <td>18379000</td>\n      <td>3.150813</td>\n    </tr>\n  </tbody>\n</table>\n<p>15617 rows × 6 columns</p>\n</div>"
     },
     "execution_count": 5,
     "metadata": {},
     "output_type": "execute_result"
    }
   ],
   "source": [
    "data"
   ]
  },
  {
   "cell_type": "markdown",
   "id": "52415582",
   "metadata": {},
   "source": [
    "#### Technical Features"
   ]
  },
  {
   "cell_type": "code",
   "execution_count": 6,
   "id": "357529a1",
   "metadata": {
    "ExecuteTime": {
     "end_time": "2024-01-18T15:03:30.988802Z",
     "start_time": "2024-01-18T15:03:30.874379Z"
    }
   },
   "outputs": [],
   "source": [
    "from ta.volatility import BollingerBands\n",
    "from ta.volume import money_flow_index, on_balance_volume\n",
    "from ta.momentum import rsi\n",
    "from ta.volume import volume_weighted_average_price\n",
    "from ta.momentum import tsi\n",
    "from ta.volume import ease_of_movement\n",
    "from ta.volume import volume_price_trend\n",
    "\n",
    "#ibm 수익률\n",
    "data['return'] = data_ret\n",
    "\n",
    "#20일 이동평균선 기준 볼린저 밴드\n",
    "indicator_bb = BollingerBands(close = data[\"Close\"], window = 20, window_dev = 1)\n",
    "\n",
    "data['bb_bbm'] = indicator_bb.bollinger_mavg() #중간\n",
    "data['bb_bbh'] = indicator_bb.bollinger_hband() #상단\n",
    "data['bb_bbl'] = indicator_bb.bollinger_lband() #하단\n",
    "\n",
    "#MFI(Money Flow Index, 자금 흐름 지수)\n",
    "#주가와 거래량을 결합해 계산. 매수와 매도 압력을 측정\n",
    "data['mfi'] = money_flow_index(\n",
    "    high = data.High, low = data.Low, \n",
    "    close = data.Close, volume = data.Volume, window = 20\n",
    ")\n",
    "#OBV(On-Balance Volumn, 잔고량 지표)\n",
    "#거래량의 변화를 통해 주가의 상승 또는 하락 추세를 예측하는 지표\n",
    "data['obv'] = on_balance_volume(close = data.Close, volume = data.Volume)\n",
    "#RSI(Relative Strength Index, 상대 강도 지수)\n",
    "#주식이 과매수 혹은 과매도 상태인지 판단하는 지표\n",
    "data['rsi'] = rsi(close = data.Close, window = 21)\n",
    "#VWAP(Volume Weighte Average Price, 거래량 가중 평균 가격)\n",
    "#주어진 기간동안의 거래량을 고려한 평균 가격\n",
    "data['vwap'] = volume_weighted_average_price(\n",
    "    high = data['High'], low = data['Low'],\n",
    "    close = data['Close'], volume = data['Volume'], window = 20)\n",
    "#True Strength Index(TSI, 진정한 강도 지수)\n",
    "#가격 모멘텀을 기반으로 주식의 추세를 판단한 지표\n",
    "data['tsi'] = tsi(close = data['Close'], window_fast = 13, window_slow = 15)\n",
    "#Ease of Movement(EOM, 용이성 지수)\n",
    "#주가의 움직임이 얼마나 쉬웠는지를 나타내는 지표. 거래량과 가격 변화 모두 고려\n",
    "data['eom'] = ease_of_movement(\n",
    "    high = data['High'], low = data.Low, volume = data.Volume, window = 20\n",
    ")\n",
    "#Volume Price Trend(VPT, 거래량 가격 추세)\n",
    "#거래량의 변화와 가격 움직임을 결합해 추세의 강도를 측정\n",
    "data['vpt'] = volume_price_trend(\n",
    "    close = data.Close,\n",
    "    volume = data.Volume\n",
    ")"
   ]
  },
  {
   "cell_type": "code",
   "execution_count": null,
   "id": "16cfa8d0",
   "metadata": {},
   "outputs": [],
   "source": []
  },
  {
   "cell_type": "code",
   "execution_count": 7,
   "id": "6eab3cdd",
   "metadata": {
    "ExecuteTime": {
     "end_time": "2024-01-18T15:03:33.360281Z",
     "start_time": "2024-01-18T15:03:33.349706Z"
    }
   },
   "outputs": [],
   "source": [
    "from FinancialMachineLearning.features.microstructure import *\n",
    "#Corwin-Schultz Spread Estimator : 하루 중 최고가와 최저가를 통해 당일 거래 스프레드 추정\n",
    "spread = CorwinSchultz(high = data.High, low = data.Low)\n",
    "cs_estimator = spread.corwin_schultz_estimator(window = 20)\n",
    "data['corwin_schultz'] = cs_estimator"
   ]
  },
  {
   "cell_type": "code",
   "execution_count": 8,
   "id": "ddb38683",
   "metadata": {
    "ExecuteTime": {
     "end_time": "2024-01-18T15:03:33.816705Z",
     "start_time": "2024-01-18T15:03:33.809875Z"
    }
   },
   "outputs": [],
   "source": [
    "#Becker-Parkinson Volatility Estimator: 일일 최고가와 최저가를 사용해 변동성 추정\n",
    "bp_vol = spread.becker_parkinson_vol(window = 20)\n",
    "data['becker_parkinson'] = bp_vol"
   ]
  },
  {
   "cell_type": "markdown",
   "id": "1c7e503f",
   "metadata": {},
   "source": [
    "#### Primary Modeling"
   ]
  },
  {
   "cell_type": "code",
   "execution_count": 9,
   "id": "cd6c4cd7",
   "metadata": {
    "ExecuteTime": {
     "end_time": "2024-01-18T15:03:35.966522Z",
     "start_time": "2024-01-18T15:03:35.950720Z"
    }
   },
   "outputs": [
    {
     "data": {
      "text/plain": "            Open      High       Low     Close   Volume  fracdiff    return  \\\nDate                                                                          \n1962-01-02   0.0  1.589844  1.578125  1.578125   902400       NaN       NaN   \n1962-01-03   0.0  1.601563  1.578125  1.601563  1200000       NaN  0.014743   \n1962-01-04   0.0  1.613281  1.597656  1.605469  1088000       NaN  0.002436   \n1962-01-05   0.0  1.613281  1.566406  1.570313  1222400       NaN -0.022141   \n1962-01-08   0.0  1.582031  1.546875  1.566406  1388800       NaN -0.002491   \n\n            bb_bbm  bb_bbh  bb_bbl  mfi      obv  rsi  vwap  tsi       eom  \\\nDate                                                                         \n1962-01-02     NaN     NaN     NaN  NaN   902400  NaN   NaN  NaN       NaN   \n1962-01-03     NaN     NaN     NaN  NaN  2102400  NaN   NaN  NaN  0.011445   \n1962-01-04     NaN     NaN     NaN  NaN  3190400  NaN   NaN  NaN  0.022439   \n1962-01-05     NaN     NaN     NaN  NaN  1968000  NaN   NaN  NaN -0.059917   \n1962-01-08     NaN     NaN     NaN  NaN   579200  NaN   NaN  NaN -0.064273   \n\n                     vpt  corwin_schultz  becker_parkinson  label  \nDate                                                               \n1962-01-02           NaN             NaN               NaN      0  \n1962-01-03  17822.144763             NaN               NaN      0  \n1962-01-04  20475.640543             NaN               NaN      0  \n1962-01-05  -6292.057162             NaN               NaN      0  \n1962-01-08  -9747.415060             NaN               NaN      0  ",
      "text/html": "<div>\n<style scoped>\n    .dataframe tbody tr th:only-of-type {\n        vertical-align: middle;\n    }\n\n    .dataframe tbody tr th {\n        vertical-align: top;\n    }\n\n    .dataframe thead th {\n        text-align: right;\n    }\n</style>\n<table border=\"1\" class=\"dataframe\">\n  <thead>\n    <tr style=\"text-align: right;\">\n      <th></th>\n      <th>Open</th>\n      <th>High</th>\n      <th>Low</th>\n      <th>Close</th>\n      <th>Volume</th>\n      <th>fracdiff</th>\n      <th>return</th>\n      <th>bb_bbm</th>\n      <th>bb_bbh</th>\n      <th>bb_bbl</th>\n      <th>mfi</th>\n      <th>obv</th>\n      <th>rsi</th>\n      <th>vwap</th>\n      <th>tsi</th>\n      <th>eom</th>\n      <th>vpt</th>\n      <th>corwin_schultz</th>\n      <th>becker_parkinson</th>\n      <th>label</th>\n    </tr>\n    <tr>\n      <th>Date</th>\n      <th></th>\n      <th></th>\n      <th></th>\n      <th></th>\n      <th></th>\n      <th></th>\n      <th></th>\n      <th></th>\n      <th></th>\n      <th></th>\n      <th></th>\n      <th></th>\n      <th></th>\n      <th></th>\n      <th></th>\n      <th></th>\n      <th></th>\n      <th></th>\n      <th></th>\n      <th></th>\n    </tr>\n  </thead>\n  <tbody>\n    <tr>\n      <th>1962-01-02</th>\n      <td>0.0</td>\n      <td>1.589844</td>\n      <td>1.578125</td>\n      <td>1.578125</td>\n      <td>902400</td>\n      <td>NaN</td>\n      <td>NaN</td>\n      <td>NaN</td>\n      <td>NaN</td>\n      <td>NaN</td>\n      <td>NaN</td>\n      <td>902400</td>\n      <td>NaN</td>\n      <td>NaN</td>\n      <td>NaN</td>\n      <td>NaN</td>\n      <td>NaN</td>\n      <td>NaN</td>\n      <td>NaN</td>\n      <td>0</td>\n    </tr>\n    <tr>\n      <th>1962-01-03</th>\n      <td>0.0</td>\n      <td>1.601563</td>\n      <td>1.578125</td>\n      <td>1.601563</td>\n      <td>1200000</td>\n      <td>NaN</td>\n      <td>0.014743</td>\n      <td>NaN</td>\n      <td>NaN</td>\n      <td>NaN</td>\n      <td>NaN</td>\n      <td>2102400</td>\n      <td>NaN</td>\n      <td>NaN</td>\n      <td>NaN</td>\n      <td>0.011445</td>\n      <td>17822.144763</td>\n      <td>NaN</td>\n      <td>NaN</td>\n      <td>0</td>\n    </tr>\n    <tr>\n      <th>1962-01-04</th>\n      <td>0.0</td>\n      <td>1.613281</td>\n      <td>1.597656</td>\n      <td>1.605469</td>\n      <td>1088000</td>\n      <td>NaN</td>\n      <td>0.002436</td>\n      <td>NaN</td>\n      <td>NaN</td>\n      <td>NaN</td>\n      <td>NaN</td>\n      <td>3190400</td>\n      <td>NaN</td>\n      <td>NaN</td>\n      <td>NaN</td>\n      <td>0.022439</td>\n      <td>20475.640543</td>\n      <td>NaN</td>\n      <td>NaN</td>\n      <td>0</td>\n    </tr>\n    <tr>\n      <th>1962-01-05</th>\n      <td>0.0</td>\n      <td>1.613281</td>\n      <td>1.566406</td>\n      <td>1.570313</td>\n      <td>1222400</td>\n      <td>NaN</td>\n      <td>-0.022141</td>\n      <td>NaN</td>\n      <td>NaN</td>\n      <td>NaN</td>\n      <td>NaN</td>\n      <td>1968000</td>\n      <td>NaN</td>\n      <td>NaN</td>\n      <td>NaN</td>\n      <td>-0.059917</td>\n      <td>-6292.057162</td>\n      <td>NaN</td>\n      <td>NaN</td>\n      <td>0</td>\n    </tr>\n    <tr>\n      <th>1962-01-08</th>\n      <td>0.0</td>\n      <td>1.582031</td>\n      <td>1.546875</td>\n      <td>1.566406</td>\n      <td>1388800</td>\n      <td>NaN</td>\n      <td>-0.002491</td>\n      <td>NaN</td>\n      <td>NaN</td>\n      <td>NaN</td>\n      <td>NaN</td>\n      <td>579200</td>\n      <td>NaN</td>\n      <td>NaN</td>\n      <td>NaN</td>\n      <td>-0.064273</td>\n      <td>-9747.415060</td>\n      <td>NaN</td>\n      <td>NaN</td>\n      <td>0</td>\n    </tr>\n  </tbody>\n</table>\n</div>"
     },
     "execution_count": 9,
     "metadata": {},
     "output_type": "execute_result"
    }
   ],
   "source": [
    "#볼린저 밴드는 가격 변동성을 기반으로 상한선(상단 밴드), 하한선(하단 밴드), 그리고 중심선(중간 밴드)을 생성\n",
    "data['label'] = 0\n",
    "data.loc[(data['Close'] > data['bb_bbh']), 'label'] = 1\n",
    "data.loc[(data['Close'] < data['bb_bbl']), 'label'] = -1\n",
    "data.head()"
   ]
  },
  {
   "cell_type": "markdown",
   "id": "6ce60e26",
   "metadata": {},
   "source": [
    "#### Meta Labeling"
   ]
  },
  {
   "cell_type": "code",
   "execution_count": 10,
   "id": "ec7da16a",
   "metadata": {
    "ExecuteTime": {
     "end_time": "2024-01-18T15:03:37.826396Z",
     "start_time": "2024-01-18T15:03:37.800141Z"
    }
   },
   "outputs": [
    {
     "data": {
      "text/plain": "            Open      High       Low     Close   Volume  fracdiff    return  \\\nDate                                                                          \n1962-01-02   0.0  1.589844  1.578125  1.578125   902400       NaN       NaN   \n1962-01-03   0.0  1.601563  1.578125  1.601563  1200000       NaN  0.014743   \n1962-01-04   0.0  1.613281  1.597656  1.605469  1088000       NaN  0.002436   \n1962-01-05   0.0  1.613281  1.566406  1.570313  1222400       NaN -0.022141   \n1962-01-08   0.0  1.582031  1.546875  1.566406  1388800       NaN -0.002491   \n\n            bb_bbm  bb_bbh  bb_bbl  ...      obv  rsi  vwap  tsi       eom  \\\nDate                                ...                                      \n1962-01-02     NaN     NaN     NaN  ...   902400  NaN   NaN  NaN       NaN   \n1962-01-03     NaN     NaN     NaN  ...  2102400  NaN   NaN  NaN  0.011445   \n1962-01-04     NaN     NaN     NaN  ...  3190400  NaN   NaN  NaN  0.022439   \n1962-01-05     NaN     NaN     NaN  ...  1968000  NaN   NaN  NaN -0.059917   \n1962-01-08     NaN     NaN     NaN  ...   579200  NaN   NaN  NaN -0.064273   \n\n                     vpt  corwin_schultz  becker_parkinson  label  meta_label  \nDate                                                                           \n1962-01-02           NaN             NaN               NaN      0           0  \n1962-01-03  17822.144763             NaN               NaN      0           0  \n1962-01-04  20475.640543             NaN               NaN      0           0  \n1962-01-05  -6292.057162             NaN               NaN      0           0  \n1962-01-08  -9747.415060             NaN               NaN      0           0  \n\n[5 rows x 21 columns]",
      "text/html": "<div>\n<style scoped>\n    .dataframe tbody tr th:only-of-type {\n        vertical-align: middle;\n    }\n\n    .dataframe tbody tr th {\n        vertical-align: top;\n    }\n\n    .dataframe thead th {\n        text-align: right;\n    }\n</style>\n<table border=\"1\" class=\"dataframe\">\n  <thead>\n    <tr style=\"text-align: right;\">\n      <th></th>\n      <th>Open</th>\n      <th>High</th>\n      <th>Low</th>\n      <th>Close</th>\n      <th>Volume</th>\n      <th>fracdiff</th>\n      <th>return</th>\n      <th>bb_bbm</th>\n      <th>bb_bbh</th>\n      <th>bb_bbl</th>\n      <th>...</th>\n      <th>obv</th>\n      <th>rsi</th>\n      <th>vwap</th>\n      <th>tsi</th>\n      <th>eom</th>\n      <th>vpt</th>\n      <th>corwin_schultz</th>\n      <th>becker_parkinson</th>\n      <th>label</th>\n      <th>meta_label</th>\n    </tr>\n    <tr>\n      <th>Date</th>\n      <th></th>\n      <th></th>\n      <th></th>\n      <th></th>\n      <th></th>\n      <th></th>\n      <th></th>\n      <th></th>\n      <th></th>\n      <th></th>\n      <th></th>\n      <th></th>\n      <th></th>\n      <th></th>\n      <th></th>\n      <th></th>\n      <th></th>\n      <th></th>\n      <th></th>\n      <th></th>\n      <th></th>\n    </tr>\n  </thead>\n  <tbody>\n    <tr>\n      <th>1962-01-02</th>\n      <td>0.0</td>\n      <td>1.589844</td>\n      <td>1.578125</td>\n      <td>1.578125</td>\n      <td>902400</td>\n      <td>NaN</td>\n      <td>NaN</td>\n      <td>NaN</td>\n      <td>NaN</td>\n      <td>NaN</td>\n      <td>...</td>\n      <td>902400</td>\n      <td>NaN</td>\n      <td>NaN</td>\n      <td>NaN</td>\n      <td>NaN</td>\n      <td>NaN</td>\n      <td>NaN</td>\n      <td>NaN</td>\n      <td>0</td>\n      <td>0</td>\n    </tr>\n    <tr>\n      <th>1962-01-03</th>\n      <td>0.0</td>\n      <td>1.601563</td>\n      <td>1.578125</td>\n      <td>1.601563</td>\n      <td>1200000</td>\n      <td>NaN</td>\n      <td>0.014743</td>\n      <td>NaN</td>\n      <td>NaN</td>\n      <td>NaN</td>\n      <td>...</td>\n      <td>2102400</td>\n      <td>NaN</td>\n      <td>NaN</td>\n      <td>NaN</td>\n      <td>0.011445</td>\n      <td>17822.144763</td>\n      <td>NaN</td>\n      <td>NaN</td>\n      <td>0</td>\n      <td>0</td>\n    </tr>\n    <tr>\n      <th>1962-01-04</th>\n      <td>0.0</td>\n      <td>1.613281</td>\n      <td>1.597656</td>\n      <td>1.605469</td>\n      <td>1088000</td>\n      <td>NaN</td>\n      <td>0.002436</td>\n      <td>NaN</td>\n      <td>NaN</td>\n      <td>NaN</td>\n      <td>...</td>\n      <td>3190400</td>\n      <td>NaN</td>\n      <td>NaN</td>\n      <td>NaN</td>\n      <td>0.022439</td>\n      <td>20475.640543</td>\n      <td>NaN</td>\n      <td>NaN</td>\n      <td>0</td>\n      <td>0</td>\n    </tr>\n    <tr>\n      <th>1962-01-05</th>\n      <td>0.0</td>\n      <td>1.613281</td>\n      <td>1.566406</td>\n      <td>1.570313</td>\n      <td>1222400</td>\n      <td>NaN</td>\n      <td>-0.022141</td>\n      <td>NaN</td>\n      <td>NaN</td>\n      <td>NaN</td>\n      <td>...</td>\n      <td>1968000</td>\n      <td>NaN</td>\n      <td>NaN</td>\n      <td>NaN</td>\n      <td>-0.059917</td>\n      <td>-6292.057162</td>\n      <td>NaN</td>\n      <td>NaN</td>\n      <td>0</td>\n      <td>0</td>\n    </tr>\n    <tr>\n      <th>1962-01-08</th>\n      <td>0.0</td>\n      <td>1.582031</td>\n      <td>1.546875</td>\n      <td>1.566406</td>\n      <td>1388800</td>\n      <td>NaN</td>\n      <td>-0.002491</td>\n      <td>NaN</td>\n      <td>NaN</td>\n      <td>NaN</td>\n      <td>...</td>\n      <td>579200</td>\n      <td>NaN</td>\n      <td>NaN</td>\n      <td>NaN</td>\n      <td>-0.064273</td>\n      <td>-9747.415060</td>\n      <td>NaN</td>\n      <td>NaN</td>\n      <td>0</td>\n      <td>0</td>\n    </tr>\n  </tbody>\n</table>\n<p>5 rows × 21 columns</p>\n</div>"
     },
     "execution_count": 10,
     "metadata": {},
     "output_type": "execute_result"
    }
   ],
   "source": [
    "data['meta_label'] = 0\n",
    "data.loc[(data['label'] == 1) | (data['label'] == -1), 'meta_label'] = 1\n",
    "data.head()"
   ]
  },
  {
   "cell_type": "markdown",
   "id": "52889f25",
   "metadata": {},
   "source": [
    "#### Secondary Modeling"
   ]
  },
  {
   "cell_type": "code",
   "execution_count": 11,
   "id": "596b9683",
   "metadata": {
    "ExecuteTime": {
     "end_time": "2024-01-18T15:03:39.606275Z",
     "start_time": "2024-01-18T15:03:39.589534Z"
    }
   },
   "outputs": [
    {
     "data": {
      "text/plain": "            fracdiff    return        mfi        obv        rsi      vwap  \\\nDate                                                                        \n1969-05-12  0.214416  0.008968  46.803610  282003200  61.110821  2.551422   \n1969-05-13  0.219362  0.005935  52.549447  283424000  62.574989  2.554761   \n1969-05-14  0.228879  0.007369  60.409931  286569600  64.337253  2.566765   \n1969-05-15  0.205547 -0.004415  57.994994  284620800  62.483741  2.574145   \n1969-05-16  0.204179  0.000000  53.184498  285884800  62.483741  2.578120   \n\n                  tsi       eom           vpt  corwin_schultz  \\\nDate                                                            \n1969-05-12  20.905563  0.008198  2.031555e+06        0.020314   \n1969-05-13  24.604272  0.029533  2.040012e+06        0.005941   \n1969-05-14  28.740318  0.017463  2.063278e+06        0.005768   \n1969-05-15  30.515595  0.003915  2.054693e+06        0.011962   \n1969-05-16  31.898398 -0.016900  2.054693e+06        0.014194   \n\n            becker_parkinson  label  meta_label  \nDate                                             \n1969-05-12          0.000000      1           1  \n1969-05-13          0.004626      1           1  \n1969-05-14          0.004639      1           1  \n1969-05-15          0.000577      1           1  \n1969-05-16          0.000000      1           1  ",
      "text/html": "<div>\n<style scoped>\n    .dataframe tbody tr th:only-of-type {\n        vertical-align: middle;\n    }\n\n    .dataframe tbody tr th {\n        vertical-align: top;\n    }\n\n    .dataframe thead th {\n        text-align: right;\n    }\n</style>\n<table border=\"1\" class=\"dataframe\">\n  <thead>\n    <tr style=\"text-align: right;\">\n      <th></th>\n      <th>fracdiff</th>\n      <th>return</th>\n      <th>mfi</th>\n      <th>obv</th>\n      <th>rsi</th>\n      <th>vwap</th>\n      <th>tsi</th>\n      <th>eom</th>\n      <th>vpt</th>\n      <th>corwin_schultz</th>\n      <th>becker_parkinson</th>\n      <th>label</th>\n      <th>meta_label</th>\n    </tr>\n    <tr>\n      <th>Date</th>\n      <th></th>\n      <th></th>\n      <th></th>\n      <th></th>\n      <th></th>\n      <th></th>\n      <th></th>\n      <th></th>\n      <th></th>\n      <th></th>\n      <th></th>\n      <th></th>\n      <th></th>\n    </tr>\n  </thead>\n  <tbody>\n    <tr>\n      <th>1969-05-12</th>\n      <td>0.214416</td>\n      <td>0.008968</td>\n      <td>46.803610</td>\n      <td>282003200</td>\n      <td>61.110821</td>\n      <td>2.551422</td>\n      <td>20.905563</td>\n      <td>0.008198</td>\n      <td>2.031555e+06</td>\n      <td>0.020314</td>\n      <td>0.000000</td>\n      <td>1</td>\n      <td>1</td>\n    </tr>\n    <tr>\n      <th>1969-05-13</th>\n      <td>0.219362</td>\n      <td>0.005935</td>\n      <td>52.549447</td>\n      <td>283424000</td>\n      <td>62.574989</td>\n      <td>2.554761</td>\n      <td>24.604272</td>\n      <td>0.029533</td>\n      <td>2.040012e+06</td>\n      <td>0.005941</td>\n      <td>0.004626</td>\n      <td>1</td>\n      <td>1</td>\n    </tr>\n    <tr>\n      <th>1969-05-14</th>\n      <td>0.228879</td>\n      <td>0.007369</td>\n      <td>60.409931</td>\n      <td>286569600</td>\n      <td>64.337253</td>\n      <td>2.566765</td>\n      <td>28.740318</td>\n      <td>0.017463</td>\n      <td>2.063278e+06</td>\n      <td>0.005768</td>\n      <td>0.004639</td>\n      <td>1</td>\n      <td>1</td>\n    </tr>\n    <tr>\n      <th>1969-05-15</th>\n      <td>0.205547</td>\n      <td>-0.004415</td>\n      <td>57.994994</td>\n      <td>284620800</td>\n      <td>62.483741</td>\n      <td>2.574145</td>\n      <td>30.515595</td>\n      <td>0.003915</td>\n      <td>2.054693e+06</td>\n      <td>0.011962</td>\n      <td>0.000577</td>\n      <td>1</td>\n      <td>1</td>\n    </tr>\n    <tr>\n      <th>1969-05-16</th>\n      <td>0.204179</td>\n      <td>0.000000</td>\n      <td>53.184498</td>\n      <td>285884800</td>\n      <td>62.483741</td>\n      <td>2.578120</td>\n      <td>31.898398</td>\n      <td>-0.016900</td>\n      <td>2.054693e+06</td>\n      <td>0.014194</td>\n      <td>0.000000</td>\n      <td>1</td>\n      <td>1</td>\n    </tr>\n  </tbody>\n</table>\n</div>"
     },
     "execution_count": 11,
     "metadata": {},
     "output_type": "execute_result"
    }
   ],
   "source": [
    "matrix = data.drop(['Open','High','Low','Close','Volume','bb_bbh','bb_bbl','bb_bbm'], axis = 1)\n",
    "matrix.dropna(inplace = True)\n",
    "matrix.head()"
   ]
  },
  {
   "cell_type": "code",
   "execution_count": 29,
   "id": "e15bb115",
   "metadata": {
    "ExecuteTime": {
     "end_time": "2024-01-18T15:25:51.114142Z",
     "start_time": "2024-01-18T15:25:39.495709Z"
    }
   },
   "outputs": [
    {
     "data": {
      "text/plain": "RandomForestClassifier(class_weight='balanced_subsample', criterion='entropy',\n                       n_estimators=300, n_jobs=1, oob_score=True,\n                       random_state=42)",
      "text/html": "<style>#sk-container-id-3 {color: black;}#sk-container-id-3 pre{padding: 0;}#sk-container-id-3 div.sk-toggleable {background-color: white;}#sk-container-id-3 label.sk-toggleable__label {cursor: pointer;display: block;width: 100%;margin-bottom: 0;padding: 0.3em;box-sizing: border-box;text-align: center;}#sk-container-id-3 label.sk-toggleable__label-arrow:before {content: \"▸\";float: left;margin-right: 0.25em;color: #696969;}#sk-container-id-3 label.sk-toggleable__label-arrow:hover:before {color: black;}#sk-container-id-3 div.sk-estimator:hover label.sk-toggleable__label-arrow:before {color: black;}#sk-container-id-3 div.sk-toggleable__content {max-height: 0;max-width: 0;overflow: hidden;text-align: left;background-color: #f0f8ff;}#sk-container-id-3 div.sk-toggleable__content pre {margin: 0.2em;color: black;border-radius: 0.25em;background-color: #f0f8ff;}#sk-container-id-3 input.sk-toggleable__control:checked~div.sk-toggleable__content {max-height: 200px;max-width: 100%;overflow: auto;}#sk-container-id-3 input.sk-toggleable__control:checked~label.sk-toggleable__label-arrow:before {content: \"▾\";}#sk-container-id-3 div.sk-estimator input.sk-toggleable__control:checked~label.sk-toggleable__label {background-color: #d4ebff;}#sk-container-id-3 div.sk-label input.sk-toggleable__control:checked~label.sk-toggleable__label {background-color: #d4ebff;}#sk-container-id-3 input.sk-hidden--visually {border: 0;clip: rect(1px 1px 1px 1px);clip: rect(1px, 1px, 1px, 1px);height: 1px;margin: -1px;overflow: hidden;padding: 0;position: absolute;width: 1px;}#sk-container-id-3 div.sk-estimator {font-family: monospace;background-color: #f0f8ff;border: 1px dotted black;border-radius: 0.25em;box-sizing: border-box;margin-bottom: 0.5em;}#sk-container-id-3 div.sk-estimator:hover {background-color: #d4ebff;}#sk-container-id-3 div.sk-parallel-item::after {content: \"\";width: 100%;border-bottom: 1px solid gray;flex-grow: 1;}#sk-container-id-3 div.sk-label:hover label.sk-toggleable__label {background-color: #d4ebff;}#sk-container-id-3 div.sk-serial::before {content: \"\";position: absolute;border-left: 1px solid gray;box-sizing: border-box;top: 0;bottom: 0;left: 50%;z-index: 0;}#sk-container-id-3 div.sk-serial {display: flex;flex-direction: column;align-items: center;background-color: white;padding-right: 0.2em;padding-left: 0.2em;position: relative;}#sk-container-id-3 div.sk-item {position: relative;z-index: 1;}#sk-container-id-3 div.sk-parallel {display: flex;align-items: stretch;justify-content: center;background-color: white;position: relative;}#sk-container-id-3 div.sk-item::before, #sk-container-id-3 div.sk-parallel-item::before {content: \"\";position: absolute;border-left: 1px solid gray;box-sizing: border-box;top: 0;bottom: 0;left: 50%;z-index: -1;}#sk-container-id-3 div.sk-parallel-item {display: flex;flex-direction: column;z-index: 1;position: relative;background-color: white;}#sk-container-id-3 div.sk-parallel-item:first-child::after {align-self: flex-end;width: 50%;}#sk-container-id-3 div.sk-parallel-item:last-child::after {align-self: flex-start;width: 50%;}#sk-container-id-3 div.sk-parallel-item:only-child::after {width: 0;}#sk-container-id-3 div.sk-dashed-wrapped {border: 1px dashed gray;margin: 0 0.4em 0.5em 0.4em;box-sizing: border-box;padding-bottom: 0.4em;background-color: white;}#sk-container-id-3 div.sk-label label {font-family: monospace;font-weight: bold;display: inline-block;line-height: 1.2em;}#sk-container-id-3 div.sk-label-container {text-align: center;}#sk-container-id-3 div.sk-container {/* jupyter's `normalize.less` sets `[hidden] { display: none; }` but bootstrap.min.css set `[hidden] { display: none !important; }` so we also need the `!important` here to be able to override the default hidden behavior on the sphinx rendered scikit-learn.org. See: https://github.com/scikit-learn/scikit-learn/issues/21755 */display: inline-block !important;position: relative;}#sk-container-id-3 div.sk-text-repr-fallback {display: none;}</style><div id=\"sk-container-id-3\" class=\"sk-top-container\"><div class=\"sk-text-repr-fallback\"><pre>RandomForestClassifier(class_weight=&#x27;balanced_subsample&#x27;, criterion=&#x27;entropy&#x27;,\n                       n_estimators=300, n_jobs=1, oob_score=True,\n                       random_state=42)</pre><b>In a Jupyter environment, please rerun this cell to show the HTML representation or trust the notebook. <br />On GitHub, the HTML representation is unable to render, please try loading this page with nbviewer.org.</b></div><div class=\"sk-container\" hidden><div class=\"sk-item\"><div class=\"sk-estimator sk-toggleable\"><input class=\"sk-toggleable__control sk-hidden--visually\" id=\"sk-estimator-id-3\" type=\"checkbox\" checked><label for=\"sk-estimator-id-3\" class=\"sk-toggleable__label sk-toggleable__label-arrow\">RandomForestClassifier</label><div class=\"sk-toggleable__content\"><pre>RandomForestClassifier(class_weight=&#x27;balanced_subsample&#x27;, criterion=&#x27;entropy&#x27;,\n                       n_estimators=300, n_jobs=1, oob_score=True,\n                       random_state=42)</pre></div></div></div></div></div>"
     },
     "execution_count": 29,
     "metadata": {},
     "output_type": "execute_result"
    }
   ],
   "source": [
    "#RandomForest 사용\n",
    "from sklearn.ensemble import RandomForestClassifier\n",
    "from sklearn.model_selection import train_test_split, GridSearchCV\n",
    "\n",
    "X = matrix.drop(['meta_label','label'], axis = 1)\n",
    "y = matrix['meta_label']\n",
    "\n",
    "X_train = X.loc[:'2019']\n",
    "X_test = X.loc['2020':]\n",
    "y_train = y.loc[:'2019']\n",
    "y_test = y.loc['2020':]\n",
    "\n",
    "forest = RandomForestClassifier(\n",
    "    criterion = 'entropy',\n",
    "    class_weight = 'balanced_subsample',\n",
    "    min_samples_split = 2,\n",
    "    random_state = 42,\n",
    "    n_estimators = 300,\n",
    "    oob_score = True,\n",
    "    n_jobs = 1\n",
    ")\n",
    "\n",
    "# 튜닝할 하이퍼파라미터의 범위 설정\n",
    "#param_grid = {\n",
    "#    'n_estimators': [100, 300, 500],\n",
    "#    'max_features': ['auto', 'sqrt', 'log2'],\n",
    "#    'max_depth': [None, 10, 20, 30],\n",
    "#    'min_samples_split': [2, 5, 10],\n",
    "#    'min_samples_leaf': [1, 2, 4]\n",
    "#}\n",
    "\n",
    "# GridSearchCV 객체 생성\n",
    "#forest = GridSearchCV(estimator=forest, param_grid=param_grid, cv=5, scoring='accuracy', n_jobs=-1)\n",
    "forest.fit(X_train, y_train)"
   ]
  },
  {
   "cell_type": "markdown",
   "id": "d30c97bb",
   "metadata": {},
   "source": [
    "#### Feature Importances\n",
    "\n",
    "각 변수의 설명력을 확인해본다"
   ]
  },
  {
   "cell_type": "code",
   "execution_count": 40,
   "id": "6708e7d1",
   "metadata": {},
   "outputs": [
    {
     "name": "stdout",
     "output_type": "stream",
     "text": [
      "Best Parameters: {'max_depth': 10, 'max_features': 'auto', 'min_samples_leaf': 1, 'min_samples_split': 2, 'n_estimators': 300}\n",
      "OOB Score: 0.7673189823874755\n"
     ]
    }
   ],
   "source": [
    "\n",
    "print('Best Parameters:', forest.best_params_)\n",
    "\n",
    "# 최적의 모델로 피팅\n",
    "best_forest = forest.best_estimator_\n",
    "\n",
    "# OOB 점수 계산\n",
    "oob_score = best_forest.oob_score_\n",
    "print(f'OOB Score: {oob_score}')"
   ]
  },
  {
   "cell_type": "code",
   "execution_count": 41,
   "id": "d24c2998",
   "metadata": {},
   "outputs": [],
   "source": [
    "cont = pd.Series(X_train.index, index = X_train.index, name = 't1') # 포지션 보유 한도 임의 지정"
   ]
  },
  {
   "cell_type": "code",
   "execution_count": null,
   "id": "8fa0dd31",
   "metadata": {},
   "outputs": [],
   "source": [
    "from FinancialMachineLearning.feature_importance.importance import *\n",
    "from FinancialMachineLearning.cross_validation.cross_validation import PurgedKFold, ml_cross_val_score\n",
    "from sklearn.metrics import accuracy_score\n",
    "\n",
    "cv_gen = PurgedKFold(n_splits = 5, samples_info_sets = cont)\n",
    "oos_score = ml_cross_val_score(forest, X_train, y_train, cv_gen = cv_gen, scoring = accuracy_score).mean()\n",
    "mdi = mean_decrease_impurity(fit, X_train.columns)"
   ]
  },
  {
   "cell_type": "code",
   "execution_count": null,
   "id": "a92fc29c",
   "metadata": {},
   "outputs": [],
   "source": [
    "mdi = mean_decrease_impurity(fit, X_train.columns)"
   ]
  },
  {
   "cell_type": "code",
   "execution_count": null,
   "id": "9ca6d9e7",
   "metadata": {},
   "outputs": [],
   "source": [
    "plot_feature_importance(\n",
    "    mdi,\n",
    "    oob_score = oob_score,\n",
    "    oos_score = oos_score,\n",
    "    save_fig = True,\n",
    "    output_path = './Daily_MDI_feature_importance.png'\n",
    ")\n",
    "plt.grid(False)\n",
    "plt.show()"
   ]
  },
  {
   "cell_type": "code",
   "execution_count": null,
   "id": "1b958430",
   "metadata": {},
   "outputs": [],
   "source": [
    "from sklearn.metrics import log_loss\n",
    "\n",
    "mda = mean_decrease_accuracy(fit, X_train, y_train, cv_gen, scoring = log_loss)"
   ]
  },
  {
   "cell_type": "code",
   "execution_count": null,
   "id": "0b090656",
   "metadata": {
    "scrolled": true
   },
   "outputs": [],
   "source": [
    "plot_feature_importance(\n",
    "    mda,\n",
    "    oob_score = oob_score,\n",
    "    oos_score = oos_score,\n",
    "    save_fig = True,\n",
    "    output_path = './Daily_MDI_feature_importance.png'\n",
    ")\n",
    "plt.grid(False)\n",
    "plt.show()"
   ]
  },
  {
   "cell_type": "markdown",
   "id": "643ac099",
   "metadata": {},
   "source": [
    "#### 결과 출력"
   ]
  },
  {
   "cell_type": "code",
   "execution_count": 30,
   "id": "9326e1f2",
   "metadata": {
    "ExecuteTime": {
     "end_time": "2024-01-18T15:26:02.203375Z",
     "start_time": "2024-01-18T15:26:02.113384Z"
    }
   },
   "outputs": [
    {
     "name": "stdout",
     "output_type": "stream",
     "text": [
      "Accuracy: 0.7266470009832842\n"
     ]
    }
   ],
   "source": [
    "from sklearn.metrics import accuracy_score, classification_report, confusion_matrix, roc_curve, auc\n",
    "\n",
    "y_prob = forest.predict_proba(X_test)[:, 1]\n",
    "y_pred = forest.predict(X_test)\n",
    "fpr, tpr, thresholds = roc_curve(y_test, y_prob)\n",
    "accuracy = accuracy_score(y_test, y_pred)\n",
    "print(f'Accuracy: {accuracy}')"
   ]
  },
  {
   "cell_type": "code",
   "execution_count": 31,
   "id": "29e76a4e",
   "metadata": {
    "scrolled": false,
    "ExecuteTime": {
     "end_time": "2024-01-18T15:26:03.719855Z",
     "start_time": "2024-01-18T15:26:03.711104Z"
    }
   },
   "outputs": [
    {
     "name": "stdout",
     "output_type": "stream",
     "text": [
      "              precision    recall  f1-score   support\n",
      "\n",
      "           0       0.71      0.66      0.68       450\n",
      "           1       0.74      0.78      0.76       567\n",
      "\n",
      "    accuracy                           0.73      1017\n",
      "   macro avg       0.72      0.72      0.72      1017\n",
      "weighted avg       0.73      0.73      0.73      1017\n"
     ]
    }
   ],
   "source": [
    "print(classification_report(y_test, y_pred))"
   ]
  },
  {
   "cell_type": "code",
   "execution_count": 32,
   "id": "c8553af7",
   "metadata": {
    "ExecuteTime": {
     "end_time": "2024-01-18T15:26:07.653449Z",
     "start_time": "2024-01-18T15:26:07.600272Z"
    }
   },
   "outputs": [
    {
     "data": {
      "text/plain": "<Figure size 300x300 with 1 Axes>",
      "image/png": "[encoded data removed]"
     },
     "metadata": {},
     "output_type": "display_data"
    }
   ],
   "source": [
    "import matplotlib.pyplot as plt\n",
    "import seaborn as sns\n",
    "\n",
    "cm = confusion_matrix(y_test, y_pred)\n",
    "plt.figure(figsize = (3, 3))\n",
    "sns.heatmap(cm, annot = True, fmt = 'd', cbar = False)\n",
    "plt.xlabel('Predicted')\n",
    "plt.ylabel('True')\n",
    "plt.title('Confusion Matrix', fontsize = 12, fontfamily = 'Serif')\n",
    "plt.show()"
   ]
  },
  {
   "cell_type": "code",
   "execution_count": 33,
   "id": "90bc910b",
   "metadata": {
    "ExecuteTime": {
     "end_time": "2024-01-18T15:26:11.711606Z",
     "start_time": "2024-01-18T15:26:11.638302Z"
    }
   },
   "outputs": [
    {
     "data": {
      "text/plain": "<Figure size 600x400 with 1 Axes>",
      "image/png": "[encoded data removed]"
     },
     "metadata": {},
     "output_type": "display_data"
    }
   ],
   "source": [
    "fpr, tpr, thresholds = roc_curve(y_test, y_prob)\n",
    "roc_auc = auc(fpr, tpr)\n",
    "\n",
    "plt.figure(figsize = (6, 4))\n",
    "plt.plot(fpr, tpr, label = 'Random Forest (area = {:.2f})'.format(roc_auc), color = 'navy', alpha = 0.8)\n",
    "plt.plot([0, 1], [0, 1], 'k:')\n",
    "plt.xlabel('False Positive Rate')\n",
    "plt.ylabel('True Positive Rate')\n",
    "plt.title('ROC Curve with Random Forest', fontsize = 12, fontfamily = 'Serif')\n",
    "plt.grid(False)\n",
    "plt.legend()\n",
    "plt.show()"
   ]
  },
  {
   "cell_type": "code",
   "outputs": [],
   "source": [],
   "metadata": {
    "collapsed": false
   },
   "id": "e288100a982f7787"
  }
 ],
 "metadata": {
  "kernelspec": {
   "display_name": "Python 3 (ipykernel)",
   "language": "python",
   "name": "python3"
  },
  "language_info": {
   "codemirror_mode": {
    "name": "ipython",
    "version": 3
   },
   "file_extension": ".py",
   "mimetype": "text/x-python",
   "name": "python",
   "nbconvert_exporter": "python",
   "pygments_lexer": "ipython3",
   "version": "3.9.12"
  }
 },
 "nbformat": 4,
 "nbformat_minor": 5
}
