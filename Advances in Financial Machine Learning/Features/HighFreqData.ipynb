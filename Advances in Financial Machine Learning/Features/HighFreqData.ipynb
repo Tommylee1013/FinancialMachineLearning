{
 "cells": [
  {
   "cell_type": "markdown",
   "id": "b1bbb935b187b48b",
   "metadata": {},
   "source": [
    "### Apple Inc. Tick Data"
   ]
  },
  {
   "cell_type": "code",
   "execution_count": 75,
   "id": "initial_id",
   "metadata": {
    "ExecuteTime": {
     "end_time": "2023-10-31T06:33:03.838724Z",
     "start_time": "2023-10-31T06:33:03.833210Z"
    },
    "collapsed": true
   },
   "outputs": [],
   "source": [
    "import pandas as pd\n",
    "import numpy as np\n",
    "from FinancialMachineLearning.features.microstructure import *"
   ]
  },
  {
   "cell_type": "code",
   "execution_count": 76,
   "id": "3ed124a470e74f72",
   "metadata": {
    "ExecuteTime": {
     "end_time": "2023-10-31T06:33:05.158374Z",
     "start_time": "2023-10-31T06:33:04.648574Z"
    }
   },
   "outputs": [],
   "source": [
    "apple = pd.read_csv('../../Data/AAPL_Tick.csv')"
   ]
  },
  {
   "cell_type": "code",
   "execution_count": 77,
   "id": "553f152cfe8ea51c",
   "metadata": {
    "ExecuteTime": {
     "end_time": "2023-10-31T06:33:05.164952Z",
     "start_time": "2023-10-31T06:33:05.161744Z"
    }
   },
   "outputs": [
    {
     "data": {
      "text/html": [
       "<div>\n",
       "<style scoped>\n",
       "    .dataframe tbody tr th:only-of-type {\n",
       "        vertical-align: middle;\n",
       "    }\n",
       "\n",
       "    .dataframe tbody tr th {\n",
       "        vertical-align: top;\n",
       "    }\n",
       "\n",
       "    .dataframe thead th {\n",
       "        text-align: right;\n",
       "    }\n",
       "</style>\n",
       "<table border=\"1\" class=\"dataframe\">\n",
       "  <thead>\n",
       "    <tr style=\"text-align: right;\">\n",
       "      <th></th>\n",
       "      <th>&lt;TICKER&gt;</th>\n",
       "      <th>&lt;PER&gt;</th>\n",
       "      <th>&lt;DATE&gt;</th>\n",
       "      <th>&lt;TIME&gt;</th>\n",
       "      <th>&lt;LAST&gt;</th>\n",
       "      <th>&lt;VOL&gt;</th>\n",
       "    </tr>\n",
       "  </thead>\n",
       "  <tbody>\n",
       "    <tr>\n",
       "      <th>0</th>\n",
       "      <td>US1.AAPL</td>\n",
       "      <td>0</td>\n",
       "      <td>20230403</td>\n",
       "      <td>93000</td>\n",
       "      <td>164.27</td>\n",
       "      <td>100</td>\n",
       "    </tr>\n",
       "    <tr>\n",
       "      <th>1</th>\n",
       "      <td>US1.AAPL</td>\n",
       "      <td>0</td>\n",
       "      <td>20230403</td>\n",
       "      <td>93000</td>\n",
       "      <td>164.26</td>\n",
       "      <td>100</td>\n",
       "    </tr>\n",
       "    <tr>\n",
       "      <th>2</th>\n",
       "      <td>US1.AAPL</td>\n",
       "      <td>0</td>\n",
       "      <td>20230403</td>\n",
       "      <td>93000</td>\n",
       "      <td>164.28</td>\n",
       "      <td>200</td>\n",
       "    </tr>\n",
       "    <tr>\n",
       "      <th>3</th>\n",
       "      <td>US1.AAPL</td>\n",
       "      <td>0</td>\n",
       "      <td>20230403</td>\n",
       "      <td>93000</td>\n",
       "      <td>164.27</td>\n",
       "      <td>119</td>\n",
       "    </tr>\n",
       "    <tr>\n",
       "      <th>4</th>\n",
       "      <td>US1.AAPL</td>\n",
       "      <td>0</td>\n",
       "      <td>20230403</td>\n",
       "      <td>93000</td>\n",
       "      <td>164.27</td>\n",
       "      <td>100</td>\n",
       "    </tr>\n",
       "  </tbody>\n",
       "</table>\n",
       "</div>"
      ],
      "text/plain": [
       "   <TICKER>  <PER>    <DATE>  <TIME>  <LAST>  <VOL>\n",
       "0  US1.AAPL      0  20230403   93000  164.27    100\n",
       "1  US1.AAPL      0  20230403   93000  164.26    100\n",
       "2  US1.AAPL      0  20230403   93000  164.28    200\n",
       "3  US1.AAPL      0  20230403   93000  164.27    119\n",
       "4  US1.AAPL      0  20230403   93000  164.27    100"
      ]
     },
     "execution_count": 77,
     "metadata": {},
     "output_type": "execute_result"
    }
   ],
   "source": [
    "apple.head()"
   ]
  },
  {
   "cell_type": "code",
   "execution_count": 78,
   "id": "70e45e776e8cdaa1",
   "metadata": {
    "ExecuteTime": {
     "end_time": "2023-10-31T06:33:05.645985Z",
     "start_time": "2023-10-31T06:33:05.643149Z"
    }
   },
   "outputs": [],
   "source": [
    "apple.columns = ['ticker','per','date','time','price','volume']"
   ]
  },
  {
   "cell_type": "code",
   "execution_count": 79,
   "id": "777a191f98d38f4",
   "metadata": {
    "ExecuteTime": {
     "end_time": "2023-10-31T06:33:06.541565Z",
     "start_time": "2023-10-31T06:33:06.495885Z"
    }
   },
   "outputs": [],
   "source": [
    "apple['side'] = tick_rule(apple.price)"
   ]
  },
  {
   "cell_type": "code",
   "execution_count": 80,
   "id": "60705281e0068eee",
   "metadata": {
    "ExecuteTime": {
     "end_time": "2023-10-31T06:33:09.983264Z",
     "start_time": "2023-10-31T06:33:09.184727Z"
    }
   },
   "outputs": [],
   "source": [
    "apple[['date','time']] = apple[['date','time']].astype(str)"
   ]
  },
  {
   "cell_type": "code",
   "execution_count": 81,
   "id": "2143963d2c900bb4",
   "metadata": {
    "ExecuteTime": {
     "end_time": "2023-10-31T06:33:23.963697Z",
     "start_time": "2023-10-31T06:33:10.465632Z"
    }
   },
   "outputs": [],
   "source": [
    "for i in apple['time'].index:\n",
    "    if len(apple['time'][i]) == 5:\n",
    "        apple.loc[i, 'time'] = '0' + apple['time'][i]"
   ]
  },
  {
   "cell_type": "code",
   "execution_count": 82,
   "id": "3198d846b5f6a26",
   "metadata": {
    "ExecuteTime": {
     "end_time": "2023-10-31T06:33:54.641698Z",
     "start_time": "2023-10-31T06:33:54.634441Z"
    }
   },
   "outputs": [
    {
     "data": {
      "text/html": [
       "<div>\n",
       "<style scoped>\n",
       "    .dataframe tbody tr th:only-of-type {\n",
       "        vertical-align: middle;\n",
       "    }\n",
       "\n",
       "    .dataframe tbody tr th {\n",
       "        vertical-align: top;\n",
       "    }\n",
       "\n",
       "    .dataframe thead th {\n",
       "        text-align: right;\n",
       "    }\n",
       "</style>\n",
       "<table border=\"1\" class=\"dataframe\">\n",
       "  <thead>\n",
       "    <tr style=\"text-align: right;\">\n",
       "      <th></th>\n",
       "      <th>ticker</th>\n",
       "      <th>per</th>\n",
       "      <th>date</th>\n",
       "      <th>time</th>\n",
       "      <th>price</th>\n",
       "      <th>volume</th>\n",
       "      <th>side</th>\n",
       "    </tr>\n",
       "  </thead>\n",
       "  <tbody>\n",
       "    <tr>\n",
       "      <th>0</th>\n",
       "      <td>US1.AAPL</td>\n",
       "      <td>0</td>\n",
       "      <td>20230403</td>\n",
       "      <td>093000</td>\n",
       "      <td>164.27</td>\n",
       "      <td>100</td>\n",
       "      <td>1.0</td>\n",
       "    </tr>\n",
       "    <tr>\n",
       "      <th>1</th>\n",
       "      <td>US1.AAPL</td>\n",
       "      <td>0</td>\n",
       "      <td>20230403</td>\n",
       "      <td>093000</td>\n",
       "      <td>164.26</td>\n",
       "      <td>100</td>\n",
       "      <td>-1.0</td>\n",
       "    </tr>\n",
       "    <tr>\n",
       "      <th>2</th>\n",
       "      <td>US1.AAPL</td>\n",
       "      <td>0</td>\n",
       "      <td>20230403</td>\n",
       "      <td>093000</td>\n",
       "      <td>164.28</td>\n",
       "      <td>200</td>\n",
       "      <td>1.0</td>\n",
       "    </tr>\n",
       "    <tr>\n",
       "      <th>3</th>\n",
       "      <td>US1.AAPL</td>\n",
       "      <td>0</td>\n",
       "      <td>20230403</td>\n",
       "      <td>093000</td>\n",
       "      <td>164.27</td>\n",
       "      <td>119</td>\n",
       "      <td>-1.0</td>\n",
       "    </tr>\n",
       "    <tr>\n",
       "      <th>4</th>\n",
       "      <td>US1.AAPL</td>\n",
       "      <td>0</td>\n",
       "      <td>20230403</td>\n",
       "      <td>093000</td>\n",
       "      <td>164.27</td>\n",
       "      <td>100</td>\n",
       "      <td>-1.0</td>\n",
       "    </tr>\n",
       "  </tbody>\n",
       "</table>\n",
       "</div>"
      ],
      "text/plain": [
       "     ticker  per      date    time   price  volume  side\n",
       "0  US1.AAPL    0  20230403  093000  164.27     100   1.0\n",
       "1  US1.AAPL    0  20230403  093000  164.26     100  -1.0\n",
       "2  US1.AAPL    0  20230403  093000  164.28     200   1.0\n",
       "3  US1.AAPL    0  20230403  093000  164.27     119  -1.0\n",
       "4  US1.AAPL    0  20230403  093000  164.27     100  -1.0"
      ]
     },
     "execution_count": 82,
     "metadata": {},
     "output_type": "execute_result"
    }
   ],
   "source": [
    "apple.head()"
   ]
  },
  {
   "cell_type": "code",
   "execution_count": 83,
   "id": "7ff4faf1f62800aa",
   "metadata": {
    "ExecuteTime": {
     "end_time": "2023-10-31T06:34:00.783617Z",
     "start_time": "2023-10-31T06:34:00.651800Z"
    }
   },
   "outputs": [],
   "source": [
    "apple.index = apple['date'] + apple['time']"
   ]
  },
  {
   "cell_type": "code",
   "execution_count": 85,
   "id": "347907092d06a022",
   "metadata": {
    "ExecuteTime": {
     "end_time": "2023-10-31T06:34:40.299461Z",
     "start_time": "2023-10-31T06:34:26.833691Z"
    }
   },
   "outputs": [],
   "source": [
    "apple.index = pd.to_datetime(apple.index)"
   ]
  },
  {
   "cell_type": "code",
   "execution_count": 86,
   "id": "1a075708b7fc8e07",
   "metadata": {
    "ExecuteTime": {
     "end_time": "2023-10-31T06:34:46.504610Z",
     "start_time": "2023-10-31T06:34:46.488817Z"
    }
   },
   "outputs": [],
   "source": [
    "apple['sidevol'] = apple['volume'] * apple['side']"
   ]
  },
  {
   "cell_type": "code",
   "execution_count": 87,
   "id": "34babcddf73bd224",
   "metadata": {
    "ExecuteTime": {
     "end_time": "2023-10-31T06:34:48.864139Z",
     "start_time": "2023-10-31T06:34:48.102892Z"
    }
   },
   "outputs": [],
   "source": [
    "new_apple = pd.DataFrame()\n",
    "new_apple = pd.concat([apple.price.groupby(apple.index).first(),\n",
    "                       apple.price.groupby(apple.index).max(),\n",
    "                       apple.price.groupby(apple.index).min(),\n",
    "                       apple.price.groupby(apple.index).last(),\n",
    "                       apple.volume.groupby(apple.index).sum(),\n",
    "                       apple.sidevol[apple.sidevol > 0].groupby(apple.sidevol[apple.sidevol > 0].index).sum(),\n",
    "                       np.abs(apple.sidevol[apple.sidevol < 0].groupby(apple.sidevol[apple.sidevol < 0].index).sum())], axis = 1)\n",
    "new_apple.columns = ['open','high','low','close','volume','sell_volume','buy_volume']"
   ]
  },
  {
   "cell_type": "code",
   "execution_count": 88,
   "id": "43bd2cf334780922",
   "metadata": {
    "ExecuteTime": {
     "end_time": "2023-10-31T06:34:49.942946Z",
     "start_time": "2023-10-31T06:34:49.907611Z"
    }
   },
   "outputs": [],
   "source": [
    "new_apple.fillna(0, inplace = True)"
   ]
  },
  {
   "cell_type": "code",
   "execution_count": 89,
   "id": "c09643213e6d23dc",
   "metadata": {
    "ExecuteTime": {
     "end_time": "2023-10-31T06:34:51.422290Z",
     "start_time": "2023-10-31T06:34:50.901613Z"
    }
   },
   "outputs": [
    {
     "data": {
      "image/png": "[encoded data removed]",
      "text/plain": [
       "<Figure size 800x400 with 1 Axes>"
      ]
     },
     "metadata": {},
     "output_type": "display_data"
    }
   ],
   "source": [
    "import matplotlib.pyplot as plt\n",
    "plt.figure(figsize = (8,4))\n",
    "new_apple.close.plot(color = 'navy', alpha = 0.8)\n",
    "plt.xticks(rotation = 45)\n",
    "plt.title('AAPL High Frequency Data', fontsize = 12, fontfamily = 'Serif')\n",
    "plt.show()"
   ]
  },
  {
   "cell_type": "code",
   "execution_count": 90,
   "id": "3f4b6c1bfa80d0e",
   "metadata": {
    "ExecuteTime": {
     "end_time": "2023-10-31T06:34:59.315214Z",
     "start_time": "2023-10-31T06:34:59.307672Z"
    }
   },
   "outputs": [
    {
     "data": {
      "text/html": [
       "<div>\n",
       "<style scoped>\n",
       "    .dataframe tbody tr th:only-of-type {\n",
       "        vertical-align: middle;\n",
       "    }\n",
       "\n",
       "    .dataframe tbody tr th {\n",
       "        vertical-align: top;\n",
       "    }\n",
       "\n",
       "    .dataframe thead th {\n",
       "        text-align: right;\n",
       "    }\n",
       "</style>\n",
       "<table border=\"1\" class=\"dataframe\">\n",
       "  <thead>\n",
       "    <tr style=\"text-align: right;\">\n",
       "      <th></th>\n",
       "      <th>open</th>\n",
       "      <th>high</th>\n",
       "      <th>low</th>\n",
       "      <th>close</th>\n",
       "      <th>volume</th>\n",
       "      <th>sell_volume</th>\n",
       "      <th>buy_volume</th>\n",
       "    </tr>\n",
       "  </thead>\n",
       "  <tbody>\n",
       "    <tr>\n",
       "      <th>2023-04-03 09:30:00</th>\n",
       "      <td>164.270</td>\n",
       "      <td>164.28</td>\n",
       "      <td>164.25</td>\n",
       "      <td>164.25</td>\n",
       "      <td>819</td>\n",
       "      <td>300.0</td>\n",
       "      <td>519.0</td>\n",
       "    </tr>\n",
       "    <tr>\n",
       "      <th>2023-04-03 09:30:01</th>\n",
       "      <td>164.380</td>\n",
       "      <td>164.38</td>\n",
       "      <td>164.30</td>\n",
       "      <td>164.30</td>\n",
       "      <td>500</td>\n",
       "      <td>200.0</td>\n",
       "      <td>300.0</td>\n",
       "    </tr>\n",
       "    <tr>\n",
       "      <th>2023-04-03 09:30:02</th>\n",
       "      <td>164.325</td>\n",
       "      <td>164.35</td>\n",
       "      <td>164.30</td>\n",
       "      <td>164.35</td>\n",
       "      <td>2306</td>\n",
       "      <td>1882.0</td>\n",
       "      <td>424.0</td>\n",
       "    </tr>\n",
       "    <tr>\n",
       "      <th>2023-04-03 09:30:03</th>\n",
       "      <td>164.410</td>\n",
       "      <td>164.48</td>\n",
       "      <td>164.41</td>\n",
       "      <td>164.48</td>\n",
       "      <td>1333</td>\n",
       "      <td>975.0</td>\n",
       "      <td>358.0</td>\n",
       "    </tr>\n",
       "    <tr>\n",
       "      <th>2023-04-03 09:30:04</th>\n",
       "      <td>164.530</td>\n",
       "      <td>164.55</td>\n",
       "      <td>164.53</td>\n",
       "      <td>164.53</td>\n",
       "      <td>900</td>\n",
       "      <td>700.0</td>\n",
       "      <td>200.0</td>\n",
       "    </tr>\n",
       "    <tr>\n",
       "      <th>...</th>\n",
       "      <td>...</td>\n",
       "      <td>...</td>\n",
       "      <td>...</td>\n",
       "      <td>...</td>\n",
       "      <td>...</td>\n",
       "      <td>...</td>\n",
       "      <td>...</td>\n",
       "    </tr>\n",
       "    <tr>\n",
       "      <th>2023-09-22 14:14:00</th>\n",
       "      <td>175.210</td>\n",
       "      <td>175.22</td>\n",
       "      <td>175.21</td>\n",
       "      <td>175.22</td>\n",
       "      <td>200</td>\n",
       "      <td>200.0</td>\n",
       "      <td>0.0</td>\n",
       "    </tr>\n",
       "    <tr>\n",
       "      <th>2023-09-22 14:14:01</th>\n",
       "      <td>175.220</td>\n",
       "      <td>175.22</td>\n",
       "      <td>175.22</td>\n",
       "      <td>175.22</td>\n",
       "      <td>100</td>\n",
       "      <td>100.0</td>\n",
       "      <td>0.0</td>\n",
       "    </tr>\n",
       "    <tr>\n",
       "      <th>2023-09-22 14:14:08</th>\n",
       "      <td>175.200</td>\n",
       "      <td>175.20</td>\n",
       "      <td>175.20</td>\n",
       "      <td>175.20</td>\n",
       "      <td>100</td>\n",
       "      <td>0.0</td>\n",
       "      <td>100.0</td>\n",
       "    </tr>\n",
       "    <tr>\n",
       "      <th>2023-09-22 14:14:21</th>\n",
       "      <td>175.220</td>\n",
       "      <td>175.22</td>\n",
       "      <td>175.22</td>\n",
       "      <td>175.22</td>\n",
       "      <td>116</td>\n",
       "      <td>116.0</td>\n",
       "      <td>0.0</td>\n",
       "    </tr>\n",
       "    <tr>\n",
       "      <th>2023-09-22 14:14:22</th>\n",
       "      <td>175.250</td>\n",
       "      <td>175.25</td>\n",
       "      <td>175.23</td>\n",
       "      <td>175.23</td>\n",
       "      <td>1260</td>\n",
       "      <td>560.0</td>\n",
       "      <td>700.0</td>\n",
       "    </tr>\n",
       "  </tbody>\n",
       "</table>\n",
       "<p>805638 rows × 7 columns</p>\n",
       "</div>"
      ],
      "text/plain": [
       "                        open    high     low   close  volume  sell_volume  \\\n",
       "2023-04-03 09:30:00  164.270  164.28  164.25  164.25     819        300.0   \n",
       "2023-04-03 09:30:01  164.380  164.38  164.30  164.30     500        200.0   \n",
       "2023-04-03 09:30:02  164.325  164.35  164.30  164.35    2306       1882.0   \n",
       "2023-04-03 09:30:03  164.410  164.48  164.41  164.48    1333        975.0   \n",
       "2023-04-03 09:30:04  164.530  164.55  164.53  164.53     900        700.0   \n",
       "...                      ...     ...     ...     ...     ...          ...   \n",
       "2023-09-22 14:14:00  175.210  175.22  175.21  175.22     200        200.0   \n",
       "2023-09-22 14:14:01  175.220  175.22  175.22  175.22     100        100.0   \n",
       "2023-09-22 14:14:08  175.200  175.20  175.20  175.20     100          0.0   \n",
       "2023-09-22 14:14:21  175.220  175.22  175.22  175.22     116        116.0   \n",
       "2023-09-22 14:14:22  175.250  175.25  175.23  175.23    1260        560.0   \n",
       "\n",
       "                     buy_volume  \n",
       "2023-04-03 09:30:00       519.0  \n",
       "2023-04-03 09:30:01       300.0  \n",
       "2023-04-03 09:30:02       424.0  \n",
       "2023-04-03 09:30:03       358.0  \n",
       "2023-04-03 09:30:04       200.0  \n",
       "...                         ...  \n",
       "2023-09-22 14:14:00         0.0  \n",
       "2023-09-22 14:14:01         0.0  \n",
       "2023-09-22 14:14:08       100.0  \n",
       "2023-09-22 14:14:21         0.0  \n",
       "2023-09-22 14:14:22       700.0  \n",
       "\n",
       "[805638 rows x 7 columns]"
      ]
     },
     "execution_count": 90,
     "metadata": {},
     "output_type": "execute_result"
    }
   ],
   "source": [
    "new_apple"
   ]
  },
  {
   "cell_type": "code",
   "execution_count": null,
   "id": "ea1ca452704d13e3",
   "metadata": {},
   "outputs": [],
   "source": []
  }
 ],
 "metadata": {
  "kernelspec": {
   "display_name": "Python 3 (ipykernel)",
   "language": "python",
   "name": "python3"
  },
  "language_info": {
   "codemirror_mode": {
    "name": "ipython",
    "version": 3
   },
   "file_extension": ".py",
   "mimetype": "text/x-python",
   "name": "python",
   "nbconvert_exporter": "python",
   "pygments_lexer": "ipython3",
   "version": "3.11.4"
  }
 },
 "nbformat": 4,
 "nbformat_minor": 5
}
