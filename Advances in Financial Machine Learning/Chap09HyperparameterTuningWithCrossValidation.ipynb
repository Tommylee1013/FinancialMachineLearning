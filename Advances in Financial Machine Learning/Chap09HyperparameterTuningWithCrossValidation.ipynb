{
 "cells": [
  {
   "cell_type": "code",
   "execution_count": 1,
   "id": "initial_id",
   "metadata": {
    "collapsed": true,
    "ExecuteTime": {
     "start_time": "2023-09-18T22:51:53.319498Z",
     "end_time": "2023-09-18T22:52:03.958928Z"
    }
   },
   "outputs": [
    {
     "name": "stderr",
     "output_type": "stream",
     "text": [
      "/Users/tommylee/Desktop/Pycharm/FinancialMachineLearning/FinancialMachineLearning/multiprocess/fast_ewma.py:5: NumbaDeprecationWarning: The keyword argument 'nopython=False' was supplied. From Numba 0.59.0 the default is being changed to True and use of 'nopython=False' will raise a warning as the argument will have no effect. See https://numba.readthedocs.io/en/stable/reference/deprecation.html#deprecation-of-object-mode-fall-back-behaviour-when-using-jit for details.\n",
      "  @jit((float64[:], int64), nopython = False, nogil = True)\n"
     ]
    }
   ],
   "source": [
    "import numpy as np\n",
    "import pandas as pd\n",
    "from sklearn.tree import DecisionTreeClassifier\n",
    "from sklearn.ensemble import BaggingClassifier\n",
    "from sklearn.metrics import accuracy_score\n",
    "\n",
    "from FinancialMachineLearning.feature_importance.importance import (\n",
    "    mean_decrease_impurity,\n",
    "    mean_decrease_accuracy,\n",
    "    single_feature_importance,\n",
    "    plot_feature_importance\n",
    ")\n",
    "from FinancialMachineLearning.feature_importance.orthogonal import get_orthogonal_features\n",
    "from FinancialMachineLearning.machine_learning.cross_validation import PurgedKFold, ml_cross_val_score\n",
    "from FinancialMachineLearning.multiprocess.multiprocess import process_jobs"
   ]
  },
  {
   "cell_type": "code",
   "execution_count": 2,
   "outputs": [
    {
     "data": {
      "text/plain": "'/Users/tommylee/Desktop/Pycharm/FinancialMachineLearning'"
     },
     "execution_count": 2,
     "metadata": {},
     "output_type": "execute_result"
    }
   ],
   "source": [
    "import os\n",
    "os.chdir('..')\n",
    "os.chdir('..')\n",
    "os.getcwd()"
   ],
   "metadata": {
    "collapsed": false,
    "ExecuteTime": {
     "start_time": "2023-09-18T22:52:03.961192Z",
     "end_time": "2023-09-18T22:52:03.965798Z"
    }
   },
   "id": "c48f6116a39c29b3"
  },
  {
   "cell_type": "code",
   "execution_count": 3,
   "outputs": [
    {
     "data": {
      "text/plain": "                        price    return   fracdiff  volatility  concurrency  \\\n2010-04-29 10:26:57   58.2801 -0.011465  10.476812    0.010964         20.0   \n2010-04-29 11:09:15   58.3600 -0.012819  10.507715    0.011247          7.0   \n2010-04-29 11:34:28   58.4100 -0.013664  10.488812    0.011638          5.0   \n2010-04-29 11:44:01   58.4900 -0.012306  10.540226    0.011979          6.0   \n2010-04-29 12:00:06   58.4498 -0.014335  10.465450    0.012262          7.0   \n...                       ...       ...        ...         ...          ...   \n2023-05-08 15:16:20  152.1563 -0.010951  26.030479    0.010701         46.0   \n2023-05-08 15:16:37  152.0900 -0.011112  25.963539    0.010595         47.0   \n2023-05-08 15:36:39  152.0701 -0.010391  25.952489    0.010387         48.0   \n2023-05-08 15:47:11  152.1800 -0.011105  26.065165    0.010283         49.0   \n2023-05-08 15:54:13  152.0900 -0.010520  25.952918    0.010182         50.0   \n\n                     uniqueness  side  label  \n2010-04-29 10:26:57    0.074445  -1.0      1  \n2010-04-29 11:09:15    0.075186  -1.0      1  \n2010-04-29 11:34:28    0.067364  -1.0      1  \n2010-04-29 11:44:01    0.066014  -1.0      1  \n2010-04-29 12:00:06    0.059366  -1.0      1  \n...                         ...   ...    ...  \n2023-05-08 15:16:20    0.020092  -1.0      1  \n2023-05-08 15:16:37    0.022152  -1.0      1  \n2023-05-08 15:36:39    0.020022  -1.0      1  \n2023-05-08 15:47:11    0.020007  -1.0      1  \n2023-05-08 15:54:13    0.020000  -1.0      1  \n\n[29415 rows x 8 columns]",
      "text/html": "<div>\n<style scoped>\n    .dataframe tbody tr th:only-of-type {\n        vertical-align: middle;\n    }\n\n    .dataframe tbody tr th {\n        vertical-align: top;\n    }\n\n    .dataframe thead th {\n        text-align: right;\n    }\n</style>\n<table border=\"1\" class=\"dataframe\">\n  <thead>\n    <tr style=\"text-align: right;\">\n      <th></th>\n      <th>price</th>\n      <th>return</th>\n      <th>fracdiff</th>\n      <th>volatility</th>\n      <th>concurrency</th>\n      <th>uniqueness</th>\n      <th>side</th>\n      <th>label</th>\n    </tr>\n  </thead>\n  <tbody>\n    <tr>\n      <th>2010-04-29 10:26:57</th>\n      <td>58.2801</td>\n      <td>-0.011465</td>\n      <td>10.476812</td>\n      <td>0.010964</td>\n      <td>20.0</td>\n      <td>0.074445</td>\n      <td>-1.0</td>\n      <td>1</td>\n    </tr>\n    <tr>\n      <th>2010-04-29 11:09:15</th>\n      <td>58.3600</td>\n      <td>-0.012819</td>\n      <td>10.507715</td>\n      <td>0.011247</td>\n      <td>7.0</td>\n      <td>0.075186</td>\n      <td>-1.0</td>\n      <td>1</td>\n    </tr>\n    <tr>\n      <th>2010-04-29 11:34:28</th>\n      <td>58.4100</td>\n      <td>-0.013664</td>\n      <td>10.488812</td>\n      <td>0.011638</td>\n      <td>5.0</td>\n      <td>0.067364</td>\n      <td>-1.0</td>\n      <td>1</td>\n    </tr>\n    <tr>\n      <th>2010-04-29 11:44:01</th>\n      <td>58.4900</td>\n      <td>-0.012306</td>\n      <td>10.540226</td>\n      <td>0.011979</td>\n      <td>6.0</td>\n      <td>0.066014</td>\n      <td>-1.0</td>\n      <td>1</td>\n    </tr>\n    <tr>\n      <th>2010-04-29 12:00:06</th>\n      <td>58.4498</td>\n      <td>-0.014335</td>\n      <td>10.465450</td>\n      <td>0.012262</td>\n      <td>7.0</td>\n      <td>0.059366</td>\n      <td>-1.0</td>\n      <td>1</td>\n    </tr>\n    <tr>\n      <th>...</th>\n      <td>...</td>\n      <td>...</td>\n      <td>...</td>\n      <td>...</td>\n      <td>...</td>\n      <td>...</td>\n      <td>...</td>\n      <td>...</td>\n    </tr>\n    <tr>\n      <th>2023-05-08 15:16:20</th>\n      <td>152.1563</td>\n      <td>-0.010951</td>\n      <td>26.030479</td>\n      <td>0.010701</td>\n      <td>46.0</td>\n      <td>0.020092</td>\n      <td>-1.0</td>\n      <td>1</td>\n    </tr>\n    <tr>\n      <th>2023-05-08 15:16:37</th>\n      <td>152.0900</td>\n      <td>-0.011112</td>\n      <td>25.963539</td>\n      <td>0.010595</td>\n      <td>47.0</td>\n      <td>0.022152</td>\n      <td>-1.0</td>\n      <td>1</td>\n    </tr>\n    <tr>\n      <th>2023-05-08 15:36:39</th>\n      <td>152.0701</td>\n      <td>-0.010391</td>\n      <td>25.952489</td>\n      <td>0.010387</td>\n      <td>48.0</td>\n      <td>0.020022</td>\n      <td>-1.0</td>\n      <td>1</td>\n    </tr>\n    <tr>\n      <th>2023-05-08 15:47:11</th>\n      <td>152.1800</td>\n      <td>-0.011105</td>\n      <td>26.065165</td>\n      <td>0.010283</td>\n      <td>49.0</td>\n      <td>0.020007</td>\n      <td>-1.0</td>\n      <td>1</td>\n    </tr>\n    <tr>\n      <th>2023-05-08 15:54:13</th>\n      <td>152.0900</td>\n      <td>-0.010520</td>\n      <td>25.952918</td>\n      <td>0.010182</td>\n      <td>50.0</td>\n      <td>0.020000</td>\n      <td>-1.0</td>\n      <td>1</td>\n    </tr>\n  </tbody>\n</table>\n<p>29415 rows × 8 columns</p>\n</div>"
     },
     "execution_count": 3,
     "metadata": {},
     "output_type": "execute_result"
    }
   ],
   "source": [
    "matrix = pd.read_csv('./Data/labeled_vertical10.csv', index_col = 0)\n",
    "matrix"
   ],
   "metadata": {
    "collapsed": false,
    "ExecuteTime": {
     "start_time": "2023-09-18T22:52:03.968486Z",
     "end_time": "2023-09-18T22:52:04.045010Z"
    }
   },
   "id": "4232d2c90e517f11"
  },
  {
   "cell_type": "code",
   "execution_count": 4,
   "outputs": [
    {
     "data": {
      "text/plain": "                                      t1      trgt  pt  sl\n2009-10-02 09:31:33  2009-10-02 10:35:54  0.010011   1   1\n2009-10-02 09:44:59  2009-10-02 10:35:54  0.010268   1   1\n2009-10-02 09:53:14  2009-10-05 09:59:08  0.010379   1   1\n2009-10-02 10:01:56  2009-10-05 09:59:08  0.010430   1   1\n2009-10-02 10:09:13  2009-10-05 09:59:08  0.010453   1   1\n...                                  ...       ...  ..  ..\n2023-05-08 15:16:20  2023-05-10 13:27:11  0.010701   1   1\n2023-05-08 15:16:37  2023-05-12 12:21:00  0.010595   1   1\n2023-05-08 15:36:39  2023-05-10 13:27:11  0.010387   1   1\n2023-05-08 15:47:11  2023-05-10 13:27:11  0.010283   1   1\n2023-05-08 15:54:13  2023-05-10 13:27:11  0.010182   1   1\n\n[30053 rows x 4 columns]",
      "text/html": "<div>\n<style scoped>\n    .dataframe tbody tr th:only-of-type {\n        vertical-align: middle;\n    }\n\n    .dataframe tbody tr th {\n        vertical-align: top;\n    }\n\n    .dataframe thead th {\n        text-align: right;\n    }\n</style>\n<table border=\"1\" class=\"dataframe\">\n  <thead>\n    <tr style=\"text-align: right;\">\n      <th></th>\n      <th>t1</th>\n      <th>trgt</th>\n      <th>pt</th>\n      <th>sl</th>\n    </tr>\n  </thead>\n  <tbody>\n    <tr>\n      <th>2009-10-02 09:31:33</th>\n      <td>2009-10-02 10:35:54</td>\n      <td>0.010011</td>\n      <td>1</td>\n      <td>1</td>\n    </tr>\n    <tr>\n      <th>2009-10-02 09:44:59</th>\n      <td>2009-10-02 10:35:54</td>\n      <td>0.010268</td>\n      <td>1</td>\n      <td>1</td>\n    </tr>\n    <tr>\n      <th>2009-10-02 09:53:14</th>\n      <td>2009-10-05 09:59:08</td>\n      <td>0.010379</td>\n      <td>1</td>\n      <td>1</td>\n    </tr>\n    <tr>\n      <th>2009-10-02 10:01:56</th>\n      <td>2009-10-05 09:59:08</td>\n      <td>0.010430</td>\n      <td>1</td>\n      <td>1</td>\n    </tr>\n    <tr>\n      <th>2009-10-02 10:09:13</th>\n      <td>2009-10-05 09:59:08</td>\n      <td>0.010453</td>\n      <td>1</td>\n      <td>1</td>\n    </tr>\n    <tr>\n      <th>...</th>\n      <td>...</td>\n      <td>...</td>\n      <td>...</td>\n      <td>...</td>\n    </tr>\n    <tr>\n      <th>2023-05-08 15:16:20</th>\n      <td>2023-05-10 13:27:11</td>\n      <td>0.010701</td>\n      <td>1</td>\n      <td>1</td>\n    </tr>\n    <tr>\n      <th>2023-05-08 15:16:37</th>\n      <td>2023-05-12 12:21:00</td>\n      <td>0.010595</td>\n      <td>1</td>\n      <td>1</td>\n    </tr>\n    <tr>\n      <th>2023-05-08 15:36:39</th>\n      <td>2023-05-10 13:27:11</td>\n      <td>0.010387</td>\n      <td>1</td>\n      <td>1</td>\n    </tr>\n    <tr>\n      <th>2023-05-08 15:47:11</th>\n      <td>2023-05-10 13:27:11</td>\n      <td>0.010283</td>\n      <td>1</td>\n      <td>1</td>\n    </tr>\n    <tr>\n      <th>2023-05-08 15:54:13</th>\n      <td>2023-05-10 13:27:11</td>\n      <td>0.010182</td>\n      <td>1</td>\n      <td>1</td>\n    </tr>\n  </tbody>\n</table>\n<p>30053 rows × 4 columns</p>\n</div>"
     },
     "execution_count": 4,
     "metadata": {},
     "output_type": "execute_result"
    }
   ],
   "source": [
    "t1 = pd.read_csv('./Data/t1_vertical.csv', index_col = 0)\n",
    "t1"
   ],
   "metadata": {
    "collapsed": false,
    "ExecuteTime": {
     "start_time": "2023-09-18T22:52:04.046439Z",
     "end_time": "2023-09-18T22:52:04.148882Z"
    }
   },
   "id": "4dbaae4a6ed46cc8"
  },
  {
   "cell_type": "code",
   "execution_count": 5,
   "outputs": [
    {
     "data": {
      "text/plain": "                     bin         w                   t1\n2010-04-29 10:26:57    1  0.010964  2010-04-30 15:47:16\n2010-04-29 11:09:15    1  0.011247  2010-04-30 15:47:16\n2010-04-29 11:34:28    1  0.011638  2010-04-30 15:47:16\n2010-04-29 11:44:01    1  0.011979  2010-04-30 14:55:47\n2010-04-29 12:00:06    1  0.012262  2010-04-30 15:47:16\n...                  ...       ...                  ...\n2023-05-08 15:16:20    1  0.010701  2023-05-10 13:27:11\n2023-05-08 15:16:37    1  0.010595  2023-05-12 12:21:00\n2023-05-08 15:36:39    1  0.010387  2023-05-10 13:27:11\n2023-05-08 15:47:11    1  0.010283  2023-05-10 13:27:11\n2023-05-08 15:54:13    1  0.010182  2023-05-10 13:27:11\n\n[29415 rows x 3 columns]",
      "text/html": "<div>\n<style scoped>\n    .dataframe tbody tr th:only-of-type {\n        vertical-align: middle;\n    }\n\n    .dataframe tbody tr th {\n        vertical-align: top;\n    }\n\n    .dataframe thead th {\n        text-align: right;\n    }\n</style>\n<table border=\"1\" class=\"dataframe\">\n  <thead>\n    <tr style=\"text-align: right;\">\n      <th></th>\n      <th>bin</th>\n      <th>w</th>\n      <th>t1</th>\n    </tr>\n  </thead>\n  <tbody>\n    <tr>\n      <th>2010-04-29 10:26:57</th>\n      <td>1</td>\n      <td>0.010964</td>\n      <td>2010-04-30 15:47:16</td>\n    </tr>\n    <tr>\n      <th>2010-04-29 11:09:15</th>\n      <td>1</td>\n      <td>0.011247</td>\n      <td>2010-04-30 15:47:16</td>\n    </tr>\n    <tr>\n      <th>2010-04-29 11:34:28</th>\n      <td>1</td>\n      <td>0.011638</td>\n      <td>2010-04-30 15:47:16</td>\n    </tr>\n    <tr>\n      <th>2010-04-29 11:44:01</th>\n      <td>1</td>\n      <td>0.011979</td>\n      <td>2010-04-30 14:55:47</td>\n    </tr>\n    <tr>\n      <th>2010-04-29 12:00:06</th>\n      <td>1</td>\n      <td>0.012262</td>\n      <td>2010-04-30 15:47:16</td>\n    </tr>\n    <tr>\n      <th>...</th>\n      <td>...</td>\n      <td>...</td>\n      <td>...</td>\n    </tr>\n    <tr>\n      <th>2023-05-08 15:16:20</th>\n      <td>1</td>\n      <td>0.010701</td>\n      <td>2023-05-10 13:27:11</td>\n    </tr>\n    <tr>\n      <th>2023-05-08 15:16:37</th>\n      <td>1</td>\n      <td>0.010595</td>\n      <td>2023-05-12 12:21:00</td>\n    </tr>\n    <tr>\n      <th>2023-05-08 15:36:39</th>\n      <td>1</td>\n      <td>0.010387</td>\n      <td>2023-05-10 13:27:11</td>\n    </tr>\n    <tr>\n      <th>2023-05-08 15:47:11</th>\n      <td>1</td>\n      <td>0.010283</td>\n      <td>2023-05-10 13:27:11</td>\n    </tr>\n    <tr>\n      <th>2023-05-08 15:54:13</th>\n      <td>1</td>\n      <td>0.010182</td>\n      <td>2023-05-10 13:27:11</td>\n    </tr>\n  </tbody>\n</table>\n<p>29415 rows × 3 columns</p>\n</div>"
     },
     "execution_count": 5,
     "metadata": {},
     "output_type": "execute_result"
    }
   ],
   "source": [
    "cont = pd.concat([matrix['label'], t1[-29415:]['trgt'], t1[-29415:]['t1']], axis = 1)\n",
    "cont.columns = ['bin','w','t1']\n",
    "cont"
   ],
   "metadata": {
    "collapsed": false,
    "ExecuteTime": {
     "start_time": "2023-09-18T22:52:04.105297Z",
     "end_time": "2023-09-18T22:52:04.158509Z"
    }
   },
   "id": "34591fc25e969741"
  },
  {
   "cell_type": "code",
   "execution_count": 6,
   "outputs": [],
   "source": [
    "X_mat = matrix.iloc[:, [0,2,3,4,5]]"
   ],
   "metadata": {
    "collapsed": false,
    "ExecuteTime": {
     "start_time": "2023-09-18T22:52:04.125212Z",
     "end_time": "2023-09-18T22:52:04.171613Z"
    }
   },
   "id": "65a823b1b079d170"
  },
  {
   "cell_type": "code",
   "execution_count": 7,
   "outputs": [],
   "source": [
    "from sklearn.svm import SVC\n",
    "\n",
    "clf = SVC(kernel = 'rbf', probability = True)\n",
    "param_grid = {'C' : [0.01, 0.1, 1, 10, 100], 'gamma' : [0.01, 0.1, 1, 10, 100]}"
   ],
   "metadata": {
    "collapsed": false,
    "ExecuteTime": {
     "start_time": "2023-09-18T22:52:04.130716Z",
     "end_time": "2023-09-18T22:52:04.171789Z"
    }
   },
   "id": "8a400f293d9b49c0"
  },
  {
   "cell_type": "code",
   "execution_count": 8,
   "outputs": [
    {
     "name": "stdout",
     "output_type": "stream",
     "text": [
      "Calculating time : 8472.86945 second\n"
     ]
    }
   ],
   "source": [
    "from sklearn.model_selection import GridSearchCV, RandomizedSearchCV\n",
    "import time\n",
    "start = time.time()\n",
    "gridSearch = GridSearchCV(estimator = clf, param_grid = param_grid, scoring = 'neg_log_loss', n_jobs = -1, cv = 10)\n",
    "gridSearch.fit(X_mat, cont['bin'], sample_weight = cont['w'])\n",
    "end = time.time()\n",
    "\n",
    "print('Calculating time : %.5f second' %(end - start))"
   ],
   "metadata": {
    "collapsed": false,
    "ExecuteTime": {
     "start_time": "2023-09-18T22:52:04.140461Z",
     "end_time": "2023-09-19T01:13:17.090006Z"
    }
   },
   "id": "f6907981a0101576"
  },
  {
   "cell_type": "code",
   "execution_count": 9,
   "outputs": [
    {
     "name": "stdout",
     "output_type": "stream",
     "text": [
      "25\n"
     ]
    }
   ],
   "source": [
    "from sklearn.model_selection import ParameterGrid\n",
    "grid = ParameterGrid(param_grid)\n",
    "num = 0\n",
    "for i in grid : num += 1\n",
    "\n",
    "print(num)"
   ],
   "metadata": {
    "collapsed": false,
    "ExecuteTime": {
     "start_time": "2023-09-19T01:22:58.840029Z",
     "end_time": "2023-09-19T01:22:58.840313Z"
    }
   },
   "id": "fd802455b7d7a348"
  },
  {
   "cell_type": "code",
   "execution_count": 10,
   "outputs": [
    {
     "data": {
      "text/plain": "{'C': 0.1, 'gamma': 100}"
     },
     "execution_count": 10,
     "metadata": {},
     "output_type": "execute_result"
    }
   ],
   "source": [
    "gridSearch.best_params_"
   ],
   "metadata": {
    "collapsed": false,
    "ExecuteTime": {
     "start_time": "2023-09-19T01:23:06.420547Z",
     "end_time": "2023-09-19T01:23:06.422334Z"
    }
   }
  },
  {
   "cell_type": "code",
   "execution_count": 11,
   "outputs": [
    {
     "data": {
      "text/plain": "-0.22677724126822446"
     },
     "execution_count": 11,
     "metadata": {},
     "output_type": "execute_result"
    }
   ],
   "source": [
    "gridSearch.best_score_"
   ],
   "metadata": {
    "collapsed": false,
    "ExecuteTime": {
     "start_time": "2023-09-19T01:23:21.198233Z",
     "end_time": "2023-09-19T01:23:21.198627Z"
    }
   }
  }
 ],
 "metadata": {
  "kernelspec": {
   "display_name": "Python 3",
   "language": "python",
   "name": "python3"
  },
  "language_info": {
   "codemirror_mode": {
    "name": "ipython",
    "version": 2
   },
   "file_extension": ".py",
   "mimetype": "text/x-python",
   "name": "python",
   "nbconvert_exporter": "python",
   "pygments_lexer": "ipython2",
   "version": "2.7.6"
  }
 },
 "nbformat": 4,
 "nbformat_minor": 5
}
