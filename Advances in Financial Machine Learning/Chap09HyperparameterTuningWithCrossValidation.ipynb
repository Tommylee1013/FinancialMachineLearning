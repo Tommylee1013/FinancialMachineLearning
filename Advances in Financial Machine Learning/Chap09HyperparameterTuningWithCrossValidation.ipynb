{
 "cells": [
  {
   "cell_type": "code",
   "execution_count": 2,
   "id": "initial_id",
   "metadata": {
    "collapsed": true,
    "ExecuteTime": {
     "end_time": "2024-03-19T04:16:30.967899Z",
     "start_time": "2024-03-19T04:16:30.508441Z"
    }
   },
   "outputs": [],
   "source": [
    "import numpy as np\n",
    "import pandas as pd\n",
    "from sklearn.tree import DecisionTreeClassifier\n",
    "from sklearn.ensemble import BaggingClassifier\n",
    "from sklearn.metrics import accuracy_score\n",
    "\n",
    "from FinancialMachineLearning.feature_importance.importance import (\n",
    "    mean_decrease_impurity,\n",
    "    mean_decrease_accuracy,\n",
    "    single_feature_importance,\n",
    "    plot_feature_importance\n",
    ")\n",
    "from FinancialMachineLearning.feature_importance.orthogonal import get_orthogonal_features\n",
    "from FinancialMachineLearning.cross_validation.cross_validation import PurgedKFold, ml_cross_val_score\n",
    "from FinancialMachineLearning.utils.multiprocess import process_jobs"
   ]
  },
  {
   "cell_type": "code",
   "execution_count": 3,
   "outputs": [
    {
     "data": {
      "text/plain": "                        price    return   fracdiff  volatility  concurrency  \\\n2010-04-29 10:26:57   58.2801 -0.011465  10.476812    0.010964         20.0   \n2010-04-29 11:09:15   58.3600 -0.012819  10.507715    0.011247          7.0   \n2010-04-29 11:34:28   58.4100 -0.013664  10.488812    0.011638          5.0   \n2010-04-29 11:44:01   58.4900 -0.012306  10.540226    0.011979          6.0   \n2010-04-29 12:00:06   58.4498 -0.014335  10.465450    0.012262          7.0   \n...                       ...       ...        ...         ...          ...   \n2023-05-08 15:16:20  152.1563 -0.010951  26.030479    0.010701         46.0   \n2023-05-08 15:16:37  152.0900 -0.011112  25.963539    0.010595         47.0   \n2023-05-08 15:36:39  152.0701 -0.010391  25.952489    0.010387         48.0   \n2023-05-08 15:47:11  152.1800 -0.011105  26.065165    0.010283         49.0   \n2023-05-08 15:54:13  152.0900 -0.010520  25.952918    0.010182         50.0   \n\n                     uniqueness  side  label  \n2010-04-29 10:26:57    0.074445  -1.0      1  \n2010-04-29 11:09:15    0.075186  -1.0      1  \n2010-04-29 11:34:28    0.067364  -1.0      1  \n2010-04-29 11:44:01    0.066014  -1.0      1  \n2010-04-29 12:00:06    0.059366  -1.0      1  \n...                         ...   ...    ...  \n2023-05-08 15:16:20    0.020092  -1.0      1  \n2023-05-08 15:16:37    0.022152  -1.0      1  \n2023-05-08 15:36:39    0.020022  -1.0      1  \n2023-05-08 15:47:11    0.020007  -1.0      1  \n2023-05-08 15:54:13    0.020000  -1.0      1  \n\n[29415 rows x 8 columns]",
      "text/html": "<div>\n<style scoped>\n    .dataframe tbody tr th:only-of-type {\n        vertical-align: middle;\n    }\n\n    .dataframe tbody tr th {\n        vertical-align: top;\n    }\n\n    .dataframe thead th {\n        text-align: right;\n    }\n</style>\n<table border=\"1\" class=\"dataframe\">\n  <thead>\n    <tr style=\"text-align: right;\">\n      <th></th>\n      <th>price</th>\n      <th>return</th>\n      <th>fracdiff</th>\n      <th>volatility</th>\n      <th>concurrency</th>\n      <th>uniqueness</th>\n      <th>side</th>\n      <th>label</th>\n    </tr>\n  </thead>\n  <tbody>\n    <tr>\n      <th>2010-04-29 10:26:57</th>\n      <td>58.2801</td>\n      <td>-0.011465</td>\n      <td>10.476812</td>\n      <td>0.010964</td>\n      <td>20.0</td>\n      <td>0.074445</td>\n      <td>-1.0</td>\n      <td>1</td>\n    </tr>\n    <tr>\n      <th>2010-04-29 11:09:15</th>\n      <td>58.3600</td>\n      <td>-0.012819</td>\n      <td>10.507715</td>\n      <td>0.011247</td>\n      <td>7.0</td>\n      <td>0.075186</td>\n      <td>-1.0</td>\n      <td>1</td>\n    </tr>\n    <tr>\n      <th>2010-04-29 11:34:28</th>\n      <td>58.4100</td>\n      <td>-0.013664</td>\n      <td>10.488812</td>\n      <td>0.011638</td>\n      <td>5.0</td>\n      <td>0.067364</td>\n      <td>-1.0</td>\n      <td>1</td>\n    </tr>\n    <tr>\n      <th>2010-04-29 11:44:01</th>\n      <td>58.4900</td>\n      <td>-0.012306</td>\n      <td>10.540226</td>\n      <td>0.011979</td>\n      <td>6.0</td>\n      <td>0.066014</td>\n      <td>-1.0</td>\n      <td>1</td>\n    </tr>\n    <tr>\n      <th>2010-04-29 12:00:06</th>\n      <td>58.4498</td>\n      <td>-0.014335</td>\n      <td>10.465450</td>\n      <td>0.012262</td>\n      <td>7.0</td>\n      <td>0.059366</td>\n      <td>-1.0</td>\n      <td>1</td>\n    </tr>\n    <tr>\n      <th>...</th>\n      <td>...</td>\n      <td>...</td>\n      <td>...</td>\n      <td>...</td>\n      <td>...</td>\n      <td>...</td>\n      <td>...</td>\n      <td>...</td>\n    </tr>\n    <tr>\n      <th>2023-05-08 15:16:20</th>\n      <td>152.1563</td>\n      <td>-0.010951</td>\n      <td>26.030479</td>\n      <td>0.010701</td>\n      <td>46.0</td>\n      <td>0.020092</td>\n      <td>-1.0</td>\n      <td>1</td>\n    </tr>\n    <tr>\n      <th>2023-05-08 15:16:37</th>\n      <td>152.0900</td>\n      <td>-0.011112</td>\n      <td>25.963539</td>\n      <td>0.010595</td>\n      <td>47.0</td>\n      <td>0.022152</td>\n      <td>-1.0</td>\n      <td>1</td>\n    </tr>\n    <tr>\n      <th>2023-05-08 15:36:39</th>\n      <td>152.0701</td>\n      <td>-0.010391</td>\n      <td>25.952489</td>\n      <td>0.010387</td>\n      <td>48.0</td>\n      <td>0.020022</td>\n      <td>-1.0</td>\n      <td>1</td>\n    </tr>\n    <tr>\n      <th>2023-05-08 15:47:11</th>\n      <td>152.1800</td>\n      <td>-0.011105</td>\n      <td>26.065165</td>\n      <td>0.010283</td>\n      <td>49.0</td>\n      <td>0.020007</td>\n      <td>-1.0</td>\n      <td>1</td>\n    </tr>\n    <tr>\n      <th>2023-05-08 15:54:13</th>\n      <td>152.0900</td>\n      <td>-0.010520</td>\n      <td>25.952918</td>\n      <td>0.010182</td>\n      <td>50.0</td>\n      <td>0.020000</td>\n      <td>-1.0</td>\n      <td>1</td>\n    </tr>\n  </tbody>\n</table>\n<p>29415 rows × 8 columns</p>\n</div>"
     },
     "execution_count": 3,
     "metadata": {},
     "output_type": "execute_result"
    }
   ],
   "source": [
    "matrix = pd.read_csv('../Data/labeled_vertical10.csv', index_col = 0)\n",
    "matrix"
   ],
   "metadata": {
    "collapsed": false,
    "ExecuteTime": {
     "end_time": "2024-03-19T04:19:19.588647Z",
     "start_time": "2024-03-19T04:19:19.543858Z"
    }
   },
   "id": "4232d2c90e517f11"
  },
  {
   "cell_type": "code",
   "execution_count": 5,
   "outputs": [
    {
     "data": {
      "text/plain": "                                      t1      trgt  pt  sl\n2009-10-02 09:31:33  2009-10-02 10:35:54  0.010011   1   1\n2009-10-02 09:44:59  2009-10-02 10:35:54  0.010268   1   1\n2009-10-02 09:53:14  2009-10-05 09:59:08  0.010379   1   1\n2009-10-02 10:01:56  2009-10-05 09:59:08  0.010430   1   1\n2009-10-02 10:09:13  2009-10-05 09:59:08  0.010453   1   1\n...                                  ...       ...  ..  ..\n2023-05-08 15:16:20  2023-05-10 13:27:11  0.010701   1   1\n2023-05-08 15:16:37  2023-05-12 12:21:00  0.010595   1   1\n2023-05-08 15:36:39  2023-05-10 13:27:11  0.010387   1   1\n2023-05-08 15:47:11  2023-05-10 13:27:11  0.010283   1   1\n2023-05-08 15:54:13  2023-05-10 13:27:11  0.010182   1   1\n\n[30053 rows x 4 columns]",
      "text/html": "<div>\n<style scoped>\n    .dataframe tbody tr th:only-of-type {\n        vertical-align: middle;\n    }\n\n    .dataframe tbody tr th {\n        vertical-align: top;\n    }\n\n    .dataframe thead th {\n        text-align: right;\n    }\n</style>\n<table border=\"1\" class=\"dataframe\">\n  <thead>\n    <tr style=\"text-align: right;\">\n      <th></th>\n      <th>t1</th>\n      <th>trgt</th>\n      <th>pt</th>\n      <th>sl</th>\n    </tr>\n  </thead>\n  <tbody>\n    <tr>\n      <th>2009-10-02 09:31:33</th>\n      <td>2009-10-02 10:35:54</td>\n      <td>0.010011</td>\n      <td>1</td>\n      <td>1</td>\n    </tr>\n    <tr>\n      <th>2009-10-02 09:44:59</th>\n      <td>2009-10-02 10:35:54</td>\n      <td>0.010268</td>\n      <td>1</td>\n      <td>1</td>\n    </tr>\n    <tr>\n      <th>2009-10-02 09:53:14</th>\n      <td>2009-10-05 09:59:08</td>\n      <td>0.010379</td>\n      <td>1</td>\n      <td>1</td>\n    </tr>\n    <tr>\n      <th>2009-10-02 10:01:56</th>\n      <td>2009-10-05 09:59:08</td>\n      <td>0.010430</td>\n      <td>1</td>\n      <td>1</td>\n    </tr>\n    <tr>\n      <th>2009-10-02 10:09:13</th>\n      <td>2009-10-05 09:59:08</td>\n      <td>0.010453</td>\n      <td>1</td>\n      <td>1</td>\n    </tr>\n    <tr>\n      <th>...</th>\n      <td>...</td>\n      <td>...</td>\n      <td>...</td>\n      <td>...</td>\n    </tr>\n    <tr>\n      <th>2023-05-08 15:16:20</th>\n      <td>2023-05-10 13:27:11</td>\n      <td>0.010701</td>\n      <td>1</td>\n      <td>1</td>\n    </tr>\n    <tr>\n      <th>2023-05-08 15:16:37</th>\n      <td>2023-05-12 12:21:00</td>\n      <td>0.010595</td>\n      <td>1</td>\n      <td>1</td>\n    </tr>\n    <tr>\n      <th>2023-05-08 15:36:39</th>\n      <td>2023-05-10 13:27:11</td>\n      <td>0.010387</td>\n      <td>1</td>\n      <td>1</td>\n    </tr>\n    <tr>\n      <th>2023-05-08 15:47:11</th>\n      <td>2023-05-10 13:27:11</td>\n      <td>0.010283</td>\n      <td>1</td>\n      <td>1</td>\n    </tr>\n    <tr>\n      <th>2023-05-08 15:54:13</th>\n      <td>2023-05-10 13:27:11</td>\n      <td>0.010182</td>\n      <td>1</td>\n      <td>1</td>\n    </tr>\n  </tbody>\n</table>\n<p>30053 rows × 4 columns</p>\n</div>"
     },
     "execution_count": 5,
     "metadata": {},
     "output_type": "execute_result"
    }
   ],
   "source": [
    "t1 = pd.read_csv('../Data/t1_vertical.csv', index_col = 0)\n",
    "t1"
   ],
   "metadata": {
    "collapsed": false,
    "ExecuteTime": {
     "end_time": "2024-03-19T04:19:26.405928Z",
     "start_time": "2024-03-19T04:19:26.383296Z"
    }
   },
   "id": "4dbaae4a6ed46cc8"
  },
  {
   "cell_type": "code",
   "execution_count": 6,
   "outputs": [
    {
     "data": {
      "text/plain": "                     bin         w                   t1\n2010-04-29 10:26:57    1  0.010964  2010-04-30 15:47:16\n2010-04-29 11:09:15    1  0.011247  2010-04-30 15:47:16\n2010-04-29 11:34:28    1  0.011638  2010-04-30 15:47:16\n2010-04-29 11:44:01    1  0.011979  2010-04-30 14:55:47\n2010-04-29 12:00:06    1  0.012262  2010-04-30 15:47:16\n...                  ...       ...                  ...\n2023-05-08 15:16:20    1  0.010701  2023-05-10 13:27:11\n2023-05-08 15:16:37    1  0.010595  2023-05-12 12:21:00\n2023-05-08 15:36:39    1  0.010387  2023-05-10 13:27:11\n2023-05-08 15:47:11    1  0.010283  2023-05-10 13:27:11\n2023-05-08 15:54:13    1  0.010182  2023-05-10 13:27:11\n\n[29415 rows x 3 columns]",
      "text/html": "<div>\n<style scoped>\n    .dataframe tbody tr th:only-of-type {\n        vertical-align: middle;\n    }\n\n    .dataframe tbody tr th {\n        vertical-align: top;\n    }\n\n    .dataframe thead th {\n        text-align: right;\n    }\n</style>\n<table border=\"1\" class=\"dataframe\">\n  <thead>\n    <tr style=\"text-align: right;\">\n      <th></th>\n      <th>bin</th>\n      <th>w</th>\n      <th>t1</th>\n    </tr>\n  </thead>\n  <tbody>\n    <tr>\n      <th>2010-04-29 10:26:57</th>\n      <td>1</td>\n      <td>0.010964</td>\n      <td>2010-04-30 15:47:16</td>\n    </tr>\n    <tr>\n      <th>2010-04-29 11:09:15</th>\n      <td>1</td>\n      <td>0.011247</td>\n      <td>2010-04-30 15:47:16</td>\n    </tr>\n    <tr>\n      <th>2010-04-29 11:34:28</th>\n      <td>1</td>\n      <td>0.011638</td>\n      <td>2010-04-30 15:47:16</td>\n    </tr>\n    <tr>\n      <th>2010-04-29 11:44:01</th>\n      <td>1</td>\n      <td>0.011979</td>\n      <td>2010-04-30 14:55:47</td>\n    </tr>\n    <tr>\n      <th>2010-04-29 12:00:06</th>\n      <td>1</td>\n      <td>0.012262</td>\n      <td>2010-04-30 15:47:16</td>\n    </tr>\n    <tr>\n      <th>...</th>\n      <td>...</td>\n      <td>...</td>\n      <td>...</td>\n    </tr>\n    <tr>\n      <th>2023-05-08 15:16:20</th>\n      <td>1</td>\n      <td>0.010701</td>\n      <td>2023-05-10 13:27:11</td>\n    </tr>\n    <tr>\n      <th>2023-05-08 15:16:37</th>\n      <td>1</td>\n      <td>0.010595</td>\n      <td>2023-05-12 12:21:00</td>\n    </tr>\n    <tr>\n      <th>2023-05-08 15:36:39</th>\n      <td>1</td>\n      <td>0.010387</td>\n      <td>2023-05-10 13:27:11</td>\n    </tr>\n    <tr>\n      <th>2023-05-08 15:47:11</th>\n      <td>1</td>\n      <td>0.010283</td>\n      <td>2023-05-10 13:27:11</td>\n    </tr>\n    <tr>\n      <th>2023-05-08 15:54:13</th>\n      <td>1</td>\n      <td>0.010182</td>\n      <td>2023-05-10 13:27:11</td>\n    </tr>\n  </tbody>\n</table>\n<p>29415 rows × 3 columns</p>\n</div>"
     },
     "execution_count": 6,
     "metadata": {},
     "output_type": "execute_result"
    }
   ],
   "source": [
    "cont = pd.concat([matrix['label'], t1[-29415:]['trgt'], t1[-29415:]['t1']], axis = 1)\n",
    "cont.columns = ['bin','w','t1']\n",
    "cont"
   ],
   "metadata": {
    "collapsed": false,
    "ExecuteTime": {
     "end_time": "2024-03-19T04:19:27.842558Z",
     "start_time": "2024-03-19T04:19:27.833135Z"
    }
   },
   "id": "34591fc25e969741"
  },
  {
   "cell_type": "code",
   "execution_count": 7,
   "outputs": [],
   "source": [
    "X_mat = matrix.iloc[:, [0,2,3,4,5]]"
   ],
   "metadata": {
    "collapsed": false,
    "ExecuteTime": {
     "end_time": "2024-03-19T04:19:29.516469Z",
     "start_time": "2024-03-19T04:19:29.513274Z"
    }
   },
   "id": "65a823b1b079d170"
  },
  {
   "cell_type": "code",
   "execution_count": 8,
   "outputs": [],
   "source": [
    "from sklearn.svm import SVC\n",
    "\n",
    "clf = SVC(kernel = 'rbf', probability = True)\n",
    "param_grid = {'C' : [0.01, 0.1, 1, 10, 100], 'gamma' : [0.01, 0.1, 1, 10, 100]}"
   ],
   "metadata": {
    "collapsed": false,
    "ExecuteTime": {
     "end_time": "2024-03-19T04:19:29.926890Z",
     "start_time": "2024-03-19T04:19:29.924534Z"
    }
   },
   "id": "8a400f293d9b49c0"
  },
  {
   "cell_type": "code",
   "execution_count": 10,
   "outputs": [
    {
     "ename": "KeyboardInterrupt",
     "evalue": "",
     "output_type": "error",
     "traceback": [
      "\u001B[1;31m---------------------------------------------------------------------------\u001B[0m",
      "\u001B[1;31mKeyboardInterrupt\u001B[0m                         Traceback (most recent call last)",
      "Cell \u001B[1;32mIn[10], line 5\u001B[0m\n\u001B[0;32m      3\u001B[0m start \u001B[38;5;241m=\u001B[39m time\u001B[38;5;241m.\u001B[39mtime()\n\u001B[0;32m      4\u001B[0m gridSearch \u001B[38;5;241m=\u001B[39m GridSearchCV(estimator \u001B[38;5;241m=\u001B[39m clf, param_grid \u001B[38;5;241m=\u001B[39m param_grid, scoring \u001B[38;5;241m=\u001B[39m \u001B[38;5;124m'\u001B[39m\u001B[38;5;124mneg_log_loss\u001B[39m\u001B[38;5;124m'\u001B[39m, n_jobs \u001B[38;5;241m=\u001B[39m \u001B[38;5;241m-\u001B[39m\u001B[38;5;241m1\u001B[39m, cv \u001B[38;5;241m=\u001B[39m \u001B[38;5;241m10\u001B[39m)\n\u001B[1;32m----> 5\u001B[0m gridSearch\u001B[38;5;241m.\u001B[39mfit(X_mat, cont[\u001B[38;5;124m'\u001B[39m\u001B[38;5;124mbin\u001B[39m\u001B[38;5;124m'\u001B[39m], sample_weight \u001B[38;5;241m=\u001B[39m cont[\u001B[38;5;124m'\u001B[39m\u001B[38;5;124mw\u001B[39m\u001B[38;5;124m'\u001B[39m])\n\u001B[0;32m      6\u001B[0m end \u001B[38;5;241m=\u001B[39m time\u001B[38;5;241m.\u001B[39mtime()\n\u001B[0;32m      8\u001B[0m \u001B[38;5;28mprint\u001B[39m(\u001B[38;5;124m'\u001B[39m\u001B[38;5;124mCalculating time : \u001B[39m\u001B[38;5;132;01m%.5f\u001B[39;00m\u001B[38;5;124m second\u001B[39m\u001B[38;5;124m'\u001B[39m \u001B[38;5;241m%\u001B[39m(end \u001B[38;5;241m-\u001B[39m start))\n",
      "File \u001B[1;32m~\\anaconda3\\envs\\FinancialMachineLearning\\Lib\\site-packages\\sklearn\\base.py:1474\u001B[0m, in \u001B[0;36m_fit_context.<locals>.decorator.<locals>.wrapper\u001B[1;34m(estimator, *args, **kwargs)\u001B[0m\n\u001B[0;32m   1467\u001B[0m     estimator\u001B[38;5;241m.\u001B[39m_validate_params()\n\u001B[0;32m   1469\u001B[0m \u001B[38;5;28;01mwith\u001B[39;00m config_context(\n\u001B[0;32m   1470\u001B[0m     skip_parameter_validation\u001B[38;5;241m=\u001B[39m(\n\u001B[0;32m   1471\u001B[0m         prefer_skip_nested_validation \u001B[38;5;129;01mor\u001B[39;00m global_skip_validation\n\u001B[0;32m   1472\u001B[0m     )\n\u001B[0;32m   1473\u001B[0m ):\n\u001B[1;32m-> 1474\u001B[0m     \u001B[38;5;28;01mreturn\u001B[39;00m fit_method(estimator, \u001B[38;5;241m*\u001B[39margs, \u001B[38;5;241m*\u001B[39m\u001B[38;5;241m*\u001B[39mkwargs)\n",
      "File \u001B[1;32m~\\anaconda3\\envs\\FinancialMachineLearning\\Lib\\site-packages\\sklearn\\model_selection\\_search.py:970\u001B[0m, in \u001B[0;36mBaseSearchCV.fit\u001B[1;34m(self, X, y, **params)\u001B[0m\n\u001B[0;32m    964\u001B[0m     results \u001B[38;5;241m=\u001B[39m \u001B[38;5;28mself\u001B[39m\u001B[38;5;241m.\u001B[39m_format_results(\n\u001B[0;32m    965\u001B[0m         all_candidate_params, n_splits, all_out, all_more_results\n\u001B[0;32m    966\u001B[0m     )\n\u001B[0;32m    968\u001B[0m     \u001B[38;5;28;01mreturn\u001B[39;00m results\n\u001B[1;32m--> 970\u001B[0m \u001B[38;5;28mself\u001B[39m\u001B[38;5;241m.\u001B[39m_run_search(evaluate_candidates)\n\u001B[0;32m    972\u001B[0m \u001B[38;5;66;03m# multimetric is determined here because in the case of a callable\u001B[39;00m\n\u001B[0;32m    973\u001B[0m \u001B[38;5;66;03m# self.scoring the return type is only known after calling\u001B[39;00m\n\u001B[0;32m    974\u001B[0m first_test_score \u001B[38;5;241m=\u001B[39m all_out[\u001B[38;5;241m0\u001B[39m][\u001B[38;5;124m\"\u001B[39m\u001B[38;5;124mtest_scores\u001B[39m\u001B[38;5;124m\"\u001B[39m]\n",
      "File \u001B[1;32m~\\anaconda3\\envs\\FinancialMachineLearning\\Lib\\site-packages\\sklearn\\model_selection\\_search.py:1527\u001B[0m, in \u001B[0;36mGridSearchCV._run_search\u001B[1;34m(self, evaluate_candidates)\u001B[0m\n\u001B[0;32m   1525\u001B[0m \u001B[38;5;28;01mdef\u001B[39;00m \u001B[38;5;21m_run_search\u001B[39m(\u001B[38;5;28mself\u001B[39m, evaluate_candidates):\n\u001B[0;32m   1526\u001B[0m \u001B[38;5;250m    \u001B[39m\u001B[38;5;124;03m\"\"\"Search all candidates in param_grid\"\"\"\u001B[39;00m\n\u001B[1;32m-> 1527\u001B[0m     evaluate_candidates(ParameterGrid(\u001B[38;5;28mself\u001B[39m\u001B[38;5;241m.\u001B[39mparam_grid))\n",
      "File \u001B[1;32m~\\anaconda3\\envs\\FinancialMachineLearning\\Lib\\site-packages\\sklearn\\model_selection\\_search.py:916\u001B[0m, in \u001B[0;36mBaseSearchCV.fit.<locals>.evaluate_candidates\u001B[1;34m(candidate_params, cv, more_results)\u001B[0m\n\u001B[0;32m    908\u001B[0m \u001B[38;5;28;01mif\u001B[39;00m \u001B[38;5;28mself\u001B[39m\u001B[38;5;241m.\u001B[39mverbose \u001B[38;5;241m>\u001B[39m \u001B[38;5;241m0\u001B[39m:\n\u001B[0;32m    909\u001B[0m     \u001B[38;5;28mprint\u001B[39m(\n\u001B[0;32m    910\u001B[0m         \u001B[38;5;124m\"\u001B[39m\u001B[38;5;124mFitting \u001B[39m\u001B[38;5;132;01m{0}\u001B[39;00m\u001B[38;5;124m folds for each of \u001B[39m\u001B[38;5;132;01m{1}\u001B[39;00m\u001B[38;5;124m candidates,\u001B[39m\u001B[38;5;124m\"\u001B[39m\n\u001B[0;32m    911\u001B[0m         \u001B[38;5;124m\"\u001B[39m\u001B[38;5;124m totalling \u001B[39m\u001B[38;5;132;01m{2}\u001B[39;00m\u001B[38;5;124m fits\u001B[39m\u001B[38;5;124m\"\u001B[39m\u001B[38;5;241m.\u001B[39mformat(\n\u001B[0;32m    912\u001B[0m             n_splits, n_candidates, n_candidates \u001B[38;5;241m*\u001B[39m n_splits\n\u001B[0;32m    913\u001B[0m         )\n\u001B[0;32m    914\u001B[0m     )\n\u001B[1;32m--> 916\u001B[0m out \u001B[38;5;241m=\u001B[39m parallel(\n\u001B[0;32m    917\u001B[0m     delayed(_fit_and_score)(\n\u001B[0;32m    918\u001B[0m         clone(base_estimator),\n\u001B[0;32m    919\u001B[0m         X,\n\u001B[0;32m    920\u001B[0m         y,\n\u001B[0;32m    921\u001B[0m         train\u001B[38;5;241m=\u001B[39mtrain,\n\u001B[0;32m    922\u001B[0m         test\u001B[38;5;241m=\u001B[39mtest,\n\u001B[0;32m    923\u001B[0m         parameters\u001B[38;5;241m=\u001B[39mparameters,\n\u001B[0;32m    924\u001B[0m         split_progress\u001B[38;5;241m=\u001B[39m(split_idx, n_splits),\n\u001B[0;32m    925\u001B[0m         candidate_progress\u001B[38;5;241m=\u001B[39m(cand_idx, n_candidates),\n\u001B[0;32m    926\u001B[0m         \u001B[38;5;241m*\u001B[39m\u001B[38;5;241m*\u001B[39mfit_and_score_kwargs,\n\u001B[0;32m    927\u001B[0m     )\n\u001B[0;32m    928\u001B[0m     \u001B[38;5;28;01mfor\u001B[39;00m (cand_idx, parameters), (split_idx, (train, test)) \u001B[38;5;129;01min\u001B[39;00m product(\n\u001B[0;32m    929\u001B[0m         \u001B[38;5;28menumerate\u001B[39m(candidate_params),\n\u001B[0;32m    930\u001B[0m         \u001B[38;5;28menumerate\u001B[39m(cv\u001B[38;5;241m.\u001B[39msplit(X, y, \u001B[38;5;241m*\u001B[39m\u001B[38;5;241m*\u001B[39mrouted_params\u001B[38;5;241m.\u001B[39msplitter\u001B[38;5;241m.\u001B[39msplit)),\n\u001B[0;32m    931\u001B[0m     )\n\u001B[0;32m    932\u001B[0m )\n\u001B[0;32m    934\u001B[0m \u001B[38;5;28;01mif\u001B[39;00m \u001B[38;5;28mlen\u001B[39m(out) \u001B[38;5;241m<\u001B[39m \u001B[38;5;241m1\u001B[39m:\n\u001B[0;32m    935\u001B[0m     \u001B[38;5;28;01mraise\u001B[39;00m \u001B[38;5;167;01mValueError\u001B[39;00m(\n\u001B[0;32m    936\u001B[0m         \u001B[38;5;124m\"\u001B[39m\u001B[38;5;124mNo fits were performed. \u001B[39m\u001B[38;5;124m\"\u001B[39m\n\u001B[0;32m    937\u001B[0m         \u001B[38;5;124m\"\u001B[39m\u001B[38;5;124mWas the CV iterator empty? \u001B[39m\u001B[38;5;124m\"\u001B[39m\n\u001B[0;32m    938\u001B[0m         \u001B[38;5;124m\"\u001B[39m\u001B[38;5;124mWere there no candidates?\u001B[39m\u001B[38;5;124m\"\u001B[39m\n\u001B[0;32m    939\u001B[0m     )\n",
      "File \u001B[1;32m~\\anaconda3\\envs\\FinancialMachineLearning\\Lib\\site-packages\\sklearn\\utils\\parallel.py:67\u001B[0m, in \u001B[0;36mParallel.__call__\u001B[1;34m(self, iterable)\u001B[0m\n\u001B[0;32m     62\u001B[0m config \u001B[38;5;241m=\u001B[39m get_config()\n\u001B[0;32m     63\u001B[0m iterable_with_config \u001B[38;5;241m=\u001B[39m (\n\u001B[0;32m     64\u001B[0m     (_with_config(delayed_func, config), args, kwargs)\n\u001B[0;32m     65\u001B[0m     \u001B[38;5;28;01mfor\u001B[39;00m delayed_func, args, kwargs \u001B[38;5;129;01min\u001B[39;00m iterable\n\u001B[0;32m     66\u001B[0m )\n\u001B[1;32m---> 67\u001B[0m \u001B[38;5;28;01mreturn\u001B[39;00m \u001B[38;5;28msuper\u001B[39m()\u001B[38;5;241m.\u001B[39m\u001B[38;5;21m__call__\u001B[39m(iterable_with_config)\n",
      "File \u001B[1;32m~\\anaconda3\\envs\\FinancialMachineLearning\\Lib\\site-packages\\joblib\\parallel.py:1952\u001B[0m, in \u001B[0;36mParallel.__call__\u001B[1;34m(self, iterable)\u001B[0m\n\u001B[0;32m   1946\u001B[0m \u001B[38;5;66;03m# The first item from the output is blank, but it makes the interpreter\u001B[39;00m\n\u001B[0;32m   1947\u001B[0m \u001B[38;5;66;03m# progress until it enters the Try/Except block of the generator and\u001B[39;00m\n\u001B[0;32m   1948\u001B[0m \u001B[38;5;66;03m# reach the first `yield` statement. This starts the aynchronous\u001B[39;00m\n\u001B[0;32m   1949\u001B[0m \u001B[38;5;66;03m# dispatch of the tasks to the workers.\u001B[39;00m\n\u001B[0;32m   1950\u001B[0m \u001B[38;5;28mnext\u001B[39m(output)\n\u001B[1;32m-> 1952\u001B[0m \u001B[38;5;28;01mreturn\u001B[39;00m output \u001B[38;5;28;01mif\u001B[39;00m \u001B[38;5;28mself\u001B[39m\u001B[38;5;241m.\u001B[39mreturn_generator \u001B[38;5;28;01melse\u001B[39;00m \u001B[38;5;28mlist\u001B[39m(output)\n",
      "File \u001B[1;32m~\\anaconda3\\envs\\FinancialMachineLearning\\Lib\\site-packages\\joblib\\parallel.py:1595\u001B[0m, in \u001B[0;36mParallel._get_outputs\u001B[1;34m(self, iterator, pre_dispatch)\u001B[0m\n\u001B[0;32m   1592\u001B[0m     \u001B[38;5;28;01myield\u001B[39;00m\n\u001B[0;32m   1594\u001B[0m     \u001B[38;5;28;01mwith\u001B[39;00m \u001B[38;5;28mself\u001B[39m\u001B[38;5;241m.\u001B[39m_backend\u001B[38;5;241m.\u001B[39mretrieval_context():\n\u001B[1;32m-> 1595\u001B[0m         \u001B[38;5;28;01myield from\u001B[39;00m \u001B[38;5;28mself\u001B[39m\u001B[38;5;241m.\u001B[39m_retrieve()\n\u001B[0;32m   1597\u001B[0m \u001B[38;5;28;01mexcept\u001B[39;00m \u001B[38;5;167;01mGeneratorExit\u001B[39;00m:\n\u001B[0;32m   1598\u001B[0m     \u001B[38;5;66;03m# The generator has been garbage collected before being fully\u001B[39;00m\n\u001B[0;32m   1599\u001B[0m     \u001B[38;5;66;03m# consumed. This aborts the remaining tasks if possible and warn\u001B[39;00m\n\u001B[0;32m   1600\u001B[0m     \u001B[38;5;66;03m# the user if necessary.\u001B[39;00m\n\u001B[0;32m   1601\u001B[0m     \u001B[38;5;28mself\u001B[39m\u001B[38;5;241m.\u001B[39m_exception \u001B[38;5;241m=\u001B[39m \u001B[38;5;28;01mTrue\u001B[39;00m\n",
      "File \u001B[1;32m~\\anaconda3\\envs\\FinancialMachineLearning\\Lib\\site-packages\\joblib\\parallel.py:1707\u001B[0m, in \u001B[0;36mParallel._retrieve\u001B[1;34m(self)\u001B[0m\n\u001B[0;32m   1702\u001B[0m \u001B[38;5;66;03m# If the next job is not ready for retrieval yet, we just wait for\u001B[39;00m\n\u001B[0;32m   1703\u001B[0m \u001B[38;5;66;03m# async callbacks to progress.\u001B[39;00m\n\u001B[0;32m   1704\u001B[0m \u001B[38;5;28;01mif\u001B[39;00m ((\u001B[38;5;28mlen\u001B[39m(\u001B[38;5;28mself\u001B[39m\u001B[38;5;241m.\u001B[39m_jobs) \u001B[38;5;241m==\u001B[39m \u001B[38;5;241m0\u001B[39m) \u001B[38;5;129;01mor\u001B[39;00m\n\u001B[0;32m   1705\u001B[0m     (\u001B[38;5;28mself\u001B[39m\u001B[38;5;241m.\u001B[39m_jobs[\u001B[38;5;241m0\u001B[39m]\u001B[38;5;241m.\u001B[39mget_status(\n\u001B[0;32m   1706\u001B[0m         timeout\u001B[38;5;241m=\u001B[39m\u001B[38;5;28mself\u001B[39m\u001B[38;5;241m.\u001B[39mtimeout) \u001B[38;5;241m==\u001B[39m TASK_PENDING)):\n\u001B[1;32m-> 1707\u001B[0m     time\u001B[38;5;241m.\u001B[39msleep(\u001B[38;5;241m0.01\u001B[39m)\n\u001B[0;32m   1708\u001B[0m     \u001B[38;5;28;01mcontinue\u001B[39;00m\n\u001B[0;32m   1710\u001B[0m \u001B[38;5;66;03m# We need to be careful: the job list can be filling up as\u001B[39;00m\n\u001B[0;32m   1711\u001B[0m \u001B[38;5;66;03m# we empty it and Python list are not thread-safe by\u001B[39;00m\n\u001B[0;32m   1712\u001B[0m \u001B[38;5;66;03m# default hence the use of the lock\u001B[39;00m\n",
      "\u001B[1;31mKeyboardInterrupt\u001B[0m: "
     ]
    }
   ],
   "source": [
    "from sklearn.model_selection import GridSearchCV, RandomizedSearchCV\n",
    "import time\n",
    "start = time.time()\n",
    "gridSearch = GridSearchCV(estimator = clf, param_grid = param_grid, scoring = 'neg_log_loss', n_jobs = -1, cv = 10)\n",
    "gridSearch.fit(X_mat, cont['bin'], sample_weight = cont['w'])\n",
    "end = time.time()\n",
    "\n",
    "print('Calculating time : %.5f second' %(end - start))"
   ],
   "metadata": {
    "collapsed": false,
    "ExecuteTime": {
     "end_time": "2024-03-19T09:56:36.909584Z",
     "start_time": "2024-03-19T09:53:22.107559Z"
    }
   },
   "id": "f6907981a0101576"
  },
  {
   "cell_type": "code",
   "execution_count": 9,
   "outputs": [
    {
     "name": "stdout",
     "output_type": "stream",
     "text": [
      "25\n"
     ]
    }
   ],
   "source": [
    "from sklearn.model_selection import ParameterGrid\n",
    "grid = ParameterGrid(param_grid)\n",
    "num = 0\n",
    "for i in grid : num += 1\n",
    "\n",
    "print(num)"
   ],
   "metadata": {
    "collapsed": false,
    "ExecuteTime": {
     "start_time": "2023-09-19T01:22:58.840029Z",
     "end_time": "2023-09-19T01:22:58.840313Z"
    }
   },
   "id": "fd802455b7d7a348"
  },
  {
   "cell_type": "code",
   "execution_count": 10,
   "outputs": [
    {
     "data": {
      "text/plain": "{'C': 0.1, 'gamma': 100}"
     },
     "execution_count": 10,
     "metadata": {},
     "output_type": "execute_result"
    }
   ],
   "source": [
    "gridSearch.best_params_"
   ],
   "metadata": {
    "collapsed": false,
    "ExecuteTime": {
     "start_time": "2023-09-19T01:23:06.420547Z",
     "end_time": "2023-09-19T01:23:06.422334Z"
    }
   },
   "id": "7dfeb908ed0d4462"
  },
  {
   "cell_type": "code",
   "execution_count": 11,
   "outputs": [
    {
     "data": {
      "text/plain": "-0.22677724126822446"
     },
     "execution_count": 11,
     "metadata": {},
     "output_type": "execute_result"
    }
   ],
   "source": [
    "gridSearch.best_score_"
   ],
   "metadata": {
    "collapsed": false,
    "ExecuteTime": {
     "start_time": "2023-09-19T01:23:21.198233Z",
     "end_time": "2023-09-19T01:23:21.198627Z"
    }
   },
   "id": "da0fe124b83188c2"
  }
 ],
 "metadata": {
  "kernelspec": {
   "display_name": "Python 3",
   "language": "python",
   "name": "python3"
  },
  "language_info": {
   "codemirror_mode": {
    "name": "ipython",
    "version": 2
   },
   "file_extension": ".py",
   "mimetype": "text/x-python",
   "name": "python",
   "nbconvert_exporter": "python",
   "pygments_lexer": "ipython2",
   "version": "2.7.6"
  }
 },
 "nbformat": 4,
 "nbformat_minor": 5
}
