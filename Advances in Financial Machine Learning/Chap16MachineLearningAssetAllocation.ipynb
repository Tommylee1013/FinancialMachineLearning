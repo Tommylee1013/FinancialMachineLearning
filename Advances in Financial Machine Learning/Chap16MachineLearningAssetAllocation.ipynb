{
 "cells": [
  {
   "cell_type": "markdown",
   "source": [
    "### Machine learning asset allocation"
   ],
   "metadata": {
    "collapsed": false
   },
   "id": "a1b2c6e1dcb86939"
  },
  {
   "cell_type": "markdown",
   "source": [
    "#### 1. motivation\n",
    "\n",
    "이번 장에서는 계층적 리스크 패리티(Hierarchical risk parity) 기법에 대해서 소개한다. HRP portfolio들은 일반적으로 이차 최적화 프로그램, 특히 markowitz의 Critical Line Algorithm(CLA)에서의 세 가지 문제인 불안정성, 집중, 저성과를 다룬다"
   ],
   "metadata": {
    "collapsed": false
   },
   "id": "607f4e7fd285761c"
  },
  {
   "cell_type": "markdown",
   "source": [
    "#### 2. The problem with convex portfolio optimization"
   ],
   "metadata": {
    "collapsed": false
   },
   "id": "295004a95b0d2e90"
  },
  {
   "cell_type": "markdown",
   "source": [
    "#### 3. Curse of markowitz\n",
    "\n",
    "공분산, 상관관계 행렬의 조건수는 최대와 최저 고유값 사이의 비율의 절대값이다"
   ],
   "metadata": {
    "collapsed": false
   },
   "id": "dca40141714aa8c5"
  },
  {
   "cell_type": "code",
   "execution_count": null,
   "id": "initial_id",
   "metadata": {
    "collapsed": true
   },
   "outputs": [],
   "source": []
  }
 ],
 "metadata": {
  "kernelspec": {
   "display_name": "Python 3",
   "language": "python",
   "name": "python3"
  },
  "language_info": {
   "codemirror_mode": {
    "name": "ipython",
    "version": 2
   },
   "file_extension": ".py",
   "mimetype": "text/x-python",
   "name": "python",
   "nbconvert_exporter": "python",
   "pygments_lexer": "ipython2",
   "version": "2.7.6"
  }
 },
 "nbformat": 4,
 "nbformat_minor": 5
}
