{
 "cells": [
  {
   "cell_type": "code",
   "execution_count": 1,
   "id": "initial_id",
   "metadata": {
    "collapsed": true,
    "ExecuteTime": {
     "end_time": "2023-09-08T12:07:32.898148Z",
     "start_time": "2023-09-08T12:07:31.813285Z"
    }
   },
   "outputs": [],
   "source": [
    "from FinancialMachineLearning.features import *\n",
    "import numpy as np\n",
    "import pandas as pd\n",
    "import matplotlib.pyplot as plt"
   ]
  },
  {
   "cell_type": "code",
   "execution_count": 2,
   "outputs": [
    {
     "data": {
      "text/plain": "'/Users/junghunlee/Desktop/Pycharm/FinancialMachineLearning'"
     },
     "execution_count": 2,
     "metadata": {},
     "output_type": "execute_result"
    }
   ],
   "source": [
    "import os\n",
    "os.chdir('..')\n",
    "os.chdir('..')\n",
    "os.getcwd()"
   ],
   "metadata": {
    "collapsed": false,
    "ExecuteTime": {
     "end_time": "2023-09-08T12:07:32.907120Z",
     "start_time": "2023-09-08T12:07:32.899098Z"
    }
   },
   "id": "e1e7497a5abe5321"
  },
  {
   "cell_type": "code",
   "execution_count": 3,
   "outputs": [],
   "source": [
    "data = pd.read_parquet('./Data/clean_IVE_fut_prices.parq')\n",
    "data_price = data.iloc[:,:3]\n",
    "data_volume = data.iloc[:,3:]"
   ],
   "metadata": {
    "collapsed": false,
    "ExecuteTime": {
     "end_time": "2023-09-08T12:07:32.983026Z",
     "start_time": "2023-09-08T12:07:32.903794Z"
    }
   },
   "id": "c3b6d9b5196d4b01"
  },
  {
   "cell_type": "code",
   "execution_count": 4,
   "outputs": [
    {
     "data": {
      "text/plain": "                          price         bid     ask   size      v          dv\ndates                                                                        \n2009-09-28 09:30:00   50.750000   50.700000   50.79    738    738    37431.98\n2009-09-28 09:31:32   50.750000   50.750000   50.76    100    100     5075.00\n2009-09-28 09:31:33   50.750000   50.720000   50.75    100    100     5075.00\n2009-09-28 09:31:50   50.750000   50.730000   50.76    300    300    15225.00\n2009-09-28 09:31:51   50.750000   50.740000   50.76    300    300    15225.00\n...                         ...         ...     ...    ...    ...         ...\n2018-10-05 15:59:57  116.200000  116.180000  116.20    200    200    23240.00\n2018-10-05 15:59:59  116.197778  116.177778  116.19   9493   9493  1103077.60\n2018-10-05 16:00:00  116.220000  116.200000  116.21  42884  42884  4983978.48\n2018-10-05 16:10:00  116.220000    0.000000  117.10      0      0        0.00\n2018-10-05 18:30:00  116.220000  114.710000  117.95      0      0        0.00\n\n[1022519 rows x 6 columns]",
      "text/html": "<div>\n<style scoped>\n    .dataframe tbody tr th:only-of-type {\n        vertical-align: middle;\n    }\n\n    .dataframe tbody tr th {\n        vertical-align: top;\n    }\n\n    .dataframe thead th {\n        text-align: right;\n    }\n</style>\n<table border=\"1\" class=\"dataframe\">\n  <thead>\n    <tr style=\"text-align: right;\">\n      <th></th>\n      <th>price</th>\n      <th>bid</th>\n      <th>ask</th>\n      <th>size</th>\n      <th>v</th>\n      <th>dv</th>\n    </tr>\n    <tr>\n      <th>dates</th>\n      <th></th>\n      <th></th>\n      <th></th>\n      <th></th>\n      <th></th>\n      <th></th>\n    </tr>\n  </thead>\n  <tbody>\n    <tr>\n      <th>2009-09-28 09:30:00</th>\n      <td>50.750000</td>\n      <td>50.700000</td>\n      <td>50.79</td>\n      <td>738</td>\n      <td>738</td>\n      <td>37431.98</td>\n    </tr>\n    <tr>\n      <th>2009-09-28 09:31:32</th>\n      <td>50.750000</td>\n      <td>50.750000</td>\n      <td>50.76</td>\n      <td>100</td>\n      <td>100</td>\n      <td>5075.00</td>\n    </tr>\n    <tr>\n      <th>2009-09-28 09:31:33</th>\n      <td>50.750000</td>\n      <td>50.720000</td>\n      <td>50.75</td>\n      <td>100</td>\n      <td>100</td>\n      <td>5075.00</td>\n    </tr>\n    <tr>\n      <th>2009-09-28 09:31:50</th>\n      <td>50.750000</td>\n      <td>50.730000</td>\n      <td>50.76</td>\n      <td>300</td>\n      <td>300</td>\n      <td>15225.00</td>\n    </tr>\n    <tr>\n      <th>2009-09-28 09:31:51</th>\n      <td>50.750000</td>\n      <td>50.740000</td>\n      <td>50.76</td>\n      <td>300</td>\n      <td>300</td>\n      <td>15225.00</td>\n    </tr>\n    <tr>\n      <th>...</th>\n      <td>...</td>\n      <td>...</td>\n      <td>...</td>\n      <td>...</td>\n      <td>...</td>\n      <td>...</td>\n    </tr>\n    <tr>\n      <th>2018-10-05 15:59:57</th>\n      <td>116.200000</td>\n      <td>116.180000</td>\n      <td>116.20</td>\n      <td>200</td>\n      <td>200</td>\n      <td>23240.00</td>\n    </tr>\n    <tr>\n      <th>2018-10-05 15:59:59</th>\n      <td>116.197778</td>\n      <td>116.177778</td>\n      <td>116.19</td>\n      <td>9493</td>\n      <td>9493</td>\n      <td>1103077.60</td>\n    </tr>\n    <tr>\n      <th>2018-10-05 16:00:00</th>\n      <td>116.220000</td>\n      <td>116.200000</td>\n      <td>116.21</td>\n      <td>42884</td>\n      <td>42884</td>\n      <td>4983978.48</td>\n    </tr>\n    <tr>\n      <th>2018-10-05 16:10:00</th>\n      <td>116.220000</td>\n      <td>0.000000</td>\n      <td>117.10</td>\n      <td>0</td>\n      <td>0</td>\n      <td>0.00</td>\n    </tr>\n    <tr>\n      <th>2018-10-05 18:30:00</th>\n      <td>116.220000</td>\n      <td>114.710000</td>\n      <td>117.95</td>\n      <td>0</td>\n      <td>0</td>\n      <td>0.00</td>\n    </tr>\n  </tbody>\n</table>\n<p>1022519 rows × 6 columns</p>\n</div>"
     },
     "execution_count": 4,
     "metadata": {},
     "output_type": "execute_result"
    }
   ],
   "source": [
    "data_price = data_price.groupby(data_price.index).mean()\n",
    "data_volume = data_volume.groupby(data_volume.index).sum()\n",
    "data = pd.concat([data_price,data_volume], axis = 1)\n",
    "data"
   ],
   "metadata": {
    "collapsed": false,
    "ExecuteTime": {
     "end_time": "2023-09-08T12:07:33.230369Z",
     "start_time": "2023-09-08T12:07:32.983574Z"
    }
   },
   "id": "286fe7c1f6d36cc6"
  },
  {
   "cell_type": "markdown",
   "source": [
    "#### Tick rule"
   ],
   "metadata": {
    "collapsed": false
   },
   "id": "63c0fbcfc2870566"
  },
  {
   "cell_type": "code",
   "execution_count": 5,
   "outputs": [],
   "source": [
    "def BarSampling(df, column, threshold, tick = False):\n",
    "    t = df[column]\n",
    "    ts = 0\n",
    "    idx = []\n",
    "    if tick:\n",
    "        for i, x in enumerate(t):\n",
    "            ts += 1\n",
    "            if ts >= threshold:\n",
    "                idx.append(i)\n",
    "                ts = 0\n",
    "    else:\n",
    "        for i, x in enumerate(t):\n",
    "            ts += x\n",
    "            if ts >= threshold:\n",
    "                idx.append(i)\n",
    "                ts = 0\n",
    "    return df.iloc[idx].drop_duplicates()\n"
   ],
   "metadata": {
    "collapsed": false,
    "ExecuteTime": {
     "end_time": "2023-09-08T12:07:33.257335Z",
     "start_time": "2023-09-08T12:07:33.227888Z"
    }
   },
   "id": "529a132f9a60da4"
  },
  {
   "cell_type": "code",
   "execution_count": 6,
   "outputs": [
    {
     "data": {
      "text/plain": "                          price         bid       ask   size      v  \\\ndates                                                                 \n2009-09-28 09:46:35   51.070000   51.055000   51.0725   6300   6300   \n2009-09-28 09:54:35   51.130000   51.110000   51.1300   1500   1500   \n2009-09-28 09:58:26   51.080000   51.068000   51.0800   1500   1500   \n2009-09-28 10:02:52   51.255364   51.244545   51.2600   9200   9200   \n2009-09-28 10:10:21   51.290000   51.280000   51.2900   5600   5600   \n...                         ...         ...       ...    ...    ...   \n2018-10-05 15:58:47  116.160000  116.160000  116.1700    800    800   \n2018-10-05 15:59:22  116.140000  116.140000  116.1500   1216   1216   \n2018-10-05 15:59:56  116.200000  116.180000  116.2000   3800   3800   \n2018-10-05 15:59:59  116.197778  116.177778  116.1900   9493   9493   \n2018-10-05 16:00:00  116.220000  116.200000  116.2100  42884  42884   \n\n                             dv  \ndates                            \n2009-09-28 09:46:35   321741.00  \n2009-09-28 09:54:35    76695.00  \n2009-09-28 09:58:26    76620.00  \n2009-09-28 10:02:52   471521.90  \n2009-09-28 10:10:21   287224.00  \n...                         ...  \n2018-10-05 15:58:47    92928.00  \n2018-10-05 15:59:22   141226.24  \n2018-10-05 15:59:56   441560.00  \n2018-10-05 15:59:59  1103077.60  \n2018-10-05 16:00:00  4983978.48  \n\n[47936 rows x 6 columns]",
      "text/html": "<div>\n<style scoped>\n    .dataframe tbody tr th:only-of-type {\n        vertical-align: middle;\n    }\n\n    .dataframe tbody tr th {\n        vertical-align: top;\n    }\n\n    .dataframe thead th {\n        text-align: right;\n    }\n</style>\n<table border=\"1\" class=\"dataframe\">\n  <thead>\n    <tr style=\"text-align: right;\">\n      <th></th>\n      <th>price</th>\n      <th>bid</th>\n      <th>ask</th>\n      <th>size</th>\n      <th>v</th>\n      <th>dv</th>\n    </tr>\n    <tr>\n      <th>dates</th>\n      <th></th>\n      <th></th>\n      <th></th>\n      <th></th>\n      <th></th>\n      <th></th>\n    </tr>\n  </thead>\n  <tbody>\n    <tr>\n      <th>2009-09-28 09:46:35</th>\n      <td>51.070000</td>\n      <td>51.055000</td>\n      <td>51.0725</td>\n      <td>6300</td>\n      <td>6300</td>\n      <td>321741.00</td>\n    </tr>\n    <tr>\n      <th>2009-09-28 09:54:35</th>\n      <td>51.130000</td>\n      <td>51.110000</td>\n      <td>51.1300</td>\n      <td>1500</td>\n      <td>1500</td>\n      <td>76695.00</td>\n    </tr>\n    <tr>\n      <th>2009-09-28 09:58:26</th>\n      <td>51.080000</td>\n      <td>51.068000</td>\n      <td>51.0800</td>\n      <td>1500</td>\n      <td>1500</td>\n      <td>76620.00</td>\n    </tr>\n    <tr>\n      <th>2009-09-28 10:02:52</th>\n      <td>51.255364</td>\n      <td>51.244545</td>\n      <td>51.2600</td>\n      <td>9200</td>\n      <td>9200</td>\n      <td>471521.90</td>\n    </tr>\n    <tr>\n      <th>2009-09-28 10:10:21</th>\n      <td>51.290000</td>\n      <td>51.280000</td>\n      <td>51.2900</td>\n      <td>5600</td>\n      <td>5600</td>\n      <td>287224.00</td>\n    </tr>\n    <tr>\n      <th>...</th>\n      <td>...</td>\n      <td>...</td>\n      <td>...</td>\n      <td>...</td>\n      <td>...</td>\n      <td>...</td>\n    </tr>\n    <tr>\n      <th>2018-10-05 15:58:47</th>\n      <td>116.160000</td>\n      <td>116.160000</td>\n      <td>116.1700</td>\n      <td>800</td>\n      <td>800</td>\n      <td>92928.00</td>\n    </tr>\n    <tr>\n      <th>2018-10-05 15:59:22</th>\n      <td>116.140000</td>\n      <td>116.140000</td>\n      <td>116.1500</td>\n      <td>1216</td>\n      <td>1216</td>\n      <td>141226.24</td>\n    </tr>\n    <tr>\n      <th>2018-10-05 15:59:56</th>\n      <td>116.200000</td>\n      <td>116.180000</td>\n      <td>116.2000</td>\n      <td>3800</td>\n      <td>3800</td>\n      <td>441560.00</td>\n    </tr>\n    <tr>\n      <th>2018-10-05 15:59:59</th>\n      <td>116.197778</td>\n      <td>116.177778</td>\n      <td>116.1900</td>\n      <td>9493</td>\n      <td>9493</td>\n      <td>1103077.60</td>\n    </tr>\n    <tr>\n      <th>2018-10-05 16:00:00</th>\n      <td>116.220000</td>\n      <td>116.200000</td>\n      <td>116.2100</td>\n      <td>42884</td>\n      <td>42884</td>\n      <td>4983978.48</td>\n    </tr>\n  </tbody>\n</table>\n<p>47936 rows × 6 columns</p>\n</div>"
     },
     "execution_count": 6,
     "metadata": {},
     "output_type": "execute_result"
    }
   ],
   "source": [
    "dv = BarSampling(data, 'dv', 1000000)\n",
    "dv"
   ],
   "metadata": {
    "collapsed": false,
    "ExecuteTime": {
     "end_time": "2023-09-08T12:07:33.325703Z",
     "start_time": "2023-09-08T12:07:33.294684Z"
    }
   },
   "id": "4db3a81f7936da83"
  },
  {
   "cell_type": "code",
   "execution_count": 8,
   "outputs": [],
   "source": [
    "from FinancialMachineLearning.features.microstructure import TickRule\n",
    "aggressor = TickRule(dv['price'])"
   ],
   "metadata": {
    "collapsed": false,
    "ExecuteTime": {
     "end_time": "2023-09-08T12:07:50.596141Z",
     "start_time": "2023-09-08T12:07:50.586294Z"
    }
   },
   "id": "447b5d2e171bced8"
  },
  {
   "cell_type": "code",
   "execution_count": 9,
   "outputs": [
    {
     "data": {
      "text/plain": "dates\n2009-09-28 09:46:35    1.0\n2009-09-28 09:54:35    1.0\n2009-09-28 09:58:26   -1.0\n2009-09-28 10:02:52    1.0\n2009-09-28 10:10:21    1.0\n                      ... \n2018-10-05 15:58:47   -1.0\n2018-10-05 15:59:22   -1.0\n2018-10-05 15:59:56    1.0\n2018-10-05 15:59:59   -1.0\n2018-10-05 16:00:00    1.0\nLength: 47936, dtype: float64"
     },
     "execution_count": 9,
     "metadata": {},
     "output_type": "execute_result"
    }
   ],
   "source": [
    "aggressor"
   ],
   "metadata": {
    "collapsed": false,
    "ExecuteTime": {
     "end_time": "2023-09-08T12:07:57.270876Z",
     "start_time": "2023-09-08T12:07:57.257140Z"
    }
   },
   "id": "177bbffaeb4cc5a3"
  },
  {
   "cell_type": "markdown",
   "source": [
    "#### The Roll Model"
   ],
   "metadata": {
    "collapsed": false
   },
   "id": "b3af8406ff7df4d6"
  },
  {
   "cell_type": "code",
   "execution_count": 10,
   "outputs": [
    {
     "data": {
      "text/plain": "(0.35672002824308546, -0.21981128335370995)"
     },
     "execution_count": 10,
     "metadata": {},
     "output_type": "execute_result"
    }
   ],
   "source": [
    "from FinancialMachineLearning.features.microstructure import RollModel\n",
    "\n",
    "spread, noise = RollModel(dv['price'])\n",
    "spread, noise"
   ],
   "metadata": {
    "collapsed": false,
    "ExecuteTime": {
     "end_time": "2023-09-08T12:08:57.572788Z",
     "start_time": "2023-09-08T12:08:57.560209Z"
    }
   },
   "id": "51cade930fb3e2c6"
  },
  {
   "cell_type": "markdown",
   "source": [
    "#### Range Volatility"
   ],
   "metadata": {
    "collapsed": false
   },
   "id": "6a5db9bb42314655"
  },
  {
   "cell_type": "code",
   "execution_count": null,
   "outputs": [],
   "source": [
    "from FinancialMachineLearning.features.microstructure import RangeVolatility\n",
    "\n",
    "vol = RangeVolatility()"
   ],
   "metadata": {
    "collapsed": false
   },
   "id": "2db8dfd06061a712"
  }
 ],
 "metadata": {
  "kernelspec": {
   "display_name": "Python 3",
   "language": "python",
   "name": "python3"
  },
  "language_info": {
   "codemirror_mode": {
    "name": "ipython",
    "version": 2
   },
   "file_extension": ".py",
   "mimetype": "text/x-python",
   "name": "python",
   "nbconvert_exporter": "python",
   "pygments_lexer": "ipython2",
   "version": "2.7.6"
  }
 },
 "nbformat": 4,
 "nbformat_minor": 5
}
