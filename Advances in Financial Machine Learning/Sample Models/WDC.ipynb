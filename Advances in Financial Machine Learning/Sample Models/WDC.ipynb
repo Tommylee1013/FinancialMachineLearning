{
 "cells": [
  {
   "cell_type": "code",
   "execution_count": 2,
   "id": "initial_id",
   "metadata": {
    "collapsed": true,
    "ExecuteTime": {
     "end_time": "2024-01-08T14:37:40.500261Z",
     "start_time": "2024-01-08T14:37:17.772216Z"
    }
   },
   "outputs": [
    {
     "data": {
      "text/plain": "                Date      time  price    bid    ask  volume\n0         02/17/2010  09:30:01  42.87  42.70  43.01    1161\n1         02/17/2010  09:30:01  42.87  42.70  43.01    1161\n2         02/17/2010  09:30:10  42.87  42.70  42.98     116\n3         02/17/2010  09:30:12  42.94  42.78  42.95   25800\n4         02/17/2010  09:30:12  42.94  42.78  42.94       9\n...              ...       ...    ...    ...    ...     ...\n72980602  10/27/2023  17:39:42  39.00  39.00  39.12     163\n72980603  10/27/2023  17:39:42  39.00  39.00  39.12    1377\n72980604  10/27/2023  18:31:34  39.15  38.95  39.15     200\n72980605  10/27/2023  18:49:30  39.08  38.95  39.08     200\n72980606  10/27/2023  19:13:19  38.95  38.95  39.08     100\n\n[72980607 rows x 6 columns]",
      "text/html": "<div>\n<style scoped>\n    .dataframe tbody tr th:only-of-type {\n        vertical-align: middle;\n    }\n\n    .dataframe tbody tr th {\n        vertical-align: top;\n    }\n\n    .dataframe thead th {\n        text-align: right;\n    }\n</style>\n<table border=\"1\" class=\"dataframe\">\n  <thead>\n    <tr style=\"text-align: right;\">\n      <th></th>\n      <th>Date</th>\n      <th>time</th>\n      <th>price</th>\n      <th>bid</th>\n      <th>ask</th>\n      <th>volume</th>\n    </tr>\n  </thead>\n  <tbody>\n    <tr>\n      <th>0</th>\n      <td>02/17/2010</td>\n      <td>09:30:01</td>\n      <td>42.87</td>\n      <td>42.70</td>\n      <td>43.01</td>\n      <td>1161</td>\n    </tr>\n    <tr>\n      <th>1</th>\n      <td>02/17/2010</td>\n      <td>09:30:01</td>\n      <td>42.87</td>\n      <td>42.70</td>\n      <td>43.01</td>\n      <td>1161</td>\n    </tr>\n    <tr>\n      <th>2</th>\n      <td>02/17/2010</td>\n      <td>09:30:10</td>\n      <td>42.87</td>\n      <td>42.70</td>\n      <td>42.98</td>\n      <td>116</td>\n    </tr>\n    <tr>\n      <th>3</th>\n      <td>02/17/2010</td>\n      <td>09:30:12</td>\n      <td>42.94</td>\n      <td>42.78</td>\n      <td>42.95</td>\n      <td>25800</td>\n    </tr>\n    <tr>\n      <th>4</th>\n      <td>02/17/2010</td>\n      <td>09:30:12</td>\n      <td>42.94</td>\n      <td>42.78</td>\n      <td>42.94</td>\n      <td>9</td>\n    </tr>\n    <tr>\n      <th>...</th>\n      <td>...</td>\n      <td>...</td>\n      <td>...</td>\n      <td>...</td>\n      <td>...</td>\n      <td>...</td>\n    </tr>\n    <tr>\n      <th>72980602</th>\n      <td>10/27/2023</td>\n      <td>17:39:42</td>\n      <td>39.00</td>\n      <td>39.00</td>\n      <td>39.12</td>\n      <td>163</td>\n    </tr>\n    <tr>\n      <th>72980603</th>\n      <td>10/27/2023</td>\n      <td>17:39:42</td>\n      <td>39.00</td>\n      <td>39.00</td>\n      <td>39.12</td>\n      <td>1377</td>\n    </tr>\n    <tr>\n      <th>72980604</th>\n      <td>10/27/2023</td>\n      <td>18:31:34</td>\n      <td>39.15</td>\n      <td>38.95</td>\n      <td>39.15</td>\n      <td>200</td>\n    </tr>\n    <tr>\n      <th>72980605</th>\n      <td>10/27/2023</td>\n      <td>18:49:30</td>\n      <td>39.08</td>\n      <td>38.95</td>\n      <td>39.08</td>\n      <td>200</td>\n    </tr>\n    <tr>\n      <th>72980606</th>\n      <td>10/27/2023</td>\n      <td>19:13:19</td>\n      <td>38.95</td>\n      <td>38.95</td>\n      <td>39.08</td>\n      <td>100</td>\n    </tr>\n  </tbody>\n</table>\n<p>72980607 rows × 6 columns</p>\n</div>"
     },
     "execution_count": 2,
     "metadata": {},
     "output_type": "execute_result"
    }
   ],
   "source": [
    "import pandas as pd\n",
    "\n",
    "wdc = pd.read_csv('../../Data/WDC_tickbidask.txt')\n",
    "wdc"
   ]
  },
  {
   "cell_type": "code",
   "execution_count": 6,
   "outputs": [],
   "source": [
    "wdc.index = pd.to_datetime(wdc['Date'] + ' ' + wdc['time'])"
   ],
   "metadata": {
    "collapsed": false,
    "ExecuteTime": {
     "end_time": "2024-01-08T14:43:54.010319Z",
     "start_time": "2024-01-08T14:42:24.491990Z"
    }
   },
   "id": "756bd6e824e3c3c"
  },
  {
   "cell_type": "code",
   "execution_count": 8,
   "outputs": [],
   "source": [
    "wdc = wdc.iloc[:,2:]"
   ],
   "metadata": {
    "collapsed": false,
    "ExecuteTime": {
     "end_time": "2024-01-08T14:45:23.105809Z",
     "start_time": "2024-01-08T14:45:21.898149Z"
    }
   },
   "id": "756d3e3c5958d9f8"
  },
  {
   "cell_type": "code",
   "execution_count": 12,
   "outputs": [],
   "source": [
    "wdc.loc[:'2022-10'].to_csv('../../Data/train.csv')"
   ],
   "metadata": {
    "collapsed": false,
    "ExecuteTime": {
     "end_time": "2024-01-08T14:48:51.540880Z",
     "start_time": "2024-01-08T14:46:55.203533Z"
    }
   },
   "id": "514abaacf952425a"
  },
  {
   "cell_type": "code",
   "execution_count": 13,
   "outputs": [],
   "source": [
    "wdc.loc['2022-11':].to_csv('../../Data/test.csv')"
   ],
   "metadata": {
    "collapsed": false,
    "ExecuteTime": {
     "end_time": "2024-01-08T14:49:09.024199Z",
     "start_time": "2024-01-08T14:49:02.025851Z"
    }
   },
   "id": "55a7c49e4fb77576"
  },
  {
   "cell_type": "code",
   "execution_count": null,
   "outputs": [],
   "source": [],
   "metadata": {
    "collapsed": false
   },
   "id": "e3ba8f89e50a1024"
  }
 ],
 "metadata": {
  "kernelspec": {
   "display_name": "Python 3",
   "language": "python",
   "name": "python3"
  },
  "language_info": {
   "codemirror_mode": {
    "name": "ipython",
    "version": 2
   },
   "file_extension": ".py",
   "mimetype": "text/x-python",
   "name": "python",
   "nbconvert_exporter": "python",
   "pygments_lexer": "ipython2",
   "version": "2.7.6"
  }
 },
 "nbformat": 4,
 "nbformat_minor": 5
}
