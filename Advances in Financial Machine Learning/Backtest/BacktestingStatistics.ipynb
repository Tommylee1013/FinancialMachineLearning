{
 "cells": [
  {
   "cell_type": "markdown",
   "source": [
    "### Backtesting Statistics"
   ],
   "metadata": {
    "collapsed": false
   },
   "id": "1bd9f69af01c97d8"
  },
  {
   "cell_type": "markdown",
   "source": [
    "#### 일반적인 특성\n",
    "\n",
    "다음 통계량은 백테스트의 일반적인 특성을 알려 준다\n",
    "\n",
    "- Time range : 시작 날짜와 종료 날짜를 지정한다. 전략을 테스트하는데 사용되는 기간이 충분히 길어 포괄적인 상황을 포함할 수 있어야 한다\n",
    "- Average AUM : 운용 중인 자산의 평균 달러 가치다. 이 평균을 계산하고자 매수와 매도 포지션의 달러 가치를 양의 실수로 간주한다\n",
    "- Capacity : 전략의 Capacity는 목표 리스크 조정 성과를 성취할 수 있는 최대 AUM으로 측정할 수 있다. 적절한 베팅 크기와 리스크 분산을 위해서는 최저 AUM이 필요하다. 최소 AUM을 넘어서면 AUM의 증가에 따라 더 높은 거래 비용과 더 낮은 거래량으로 성과가 저하된다\n",
    "- Leverage : 보고된 성과를 달성하고자 필요한 차입 총액을 측정한다. 레버리지가 일어나면 비용이 할당되어야 한다. 레버리지를 측정하는 한 가지 방법은 평균 AUM에 대한 평균 달러 포지션 크기의 비율을 계산하는 것이다\n",
    "- Maximum dollar position size : 전략이 어느 시점에 평균 AUM을 크게 초과하는 달러 포지션을 취하는지 알려 준다. 대개 평균 AUM에 근접한 최대 달러 포지션을 취하는 전략을 선호한다. 이는 극단적인 이벤트에 의존하지 않았음을 알려 준다\n",
    "- Ratio of longs : \n",
    "- Frequency of bets : \n",
    "- Average holding period :\n",
    "- Annualized turnover :\n",
    "- Correlation to underlying :"
   ],
   "metadata": {
    "collapsed": false
   },
   "id": "7190ab6c49aeca7e"
  },
  {
   "cell_type": "code",
   "execution_count": 1,
   "id": "initial_id",
   "metadata": {
    "collapsed": true,
    "ExecuteTime": {
     "end_time": "2024-01-08T16:16:22.517510Z",
     "start_time": "2024-01-08T16:16:20.480407Z"
    }
   },
   "outputs": [
    {
     "name": "stdout",
     "output_type": "stream",
     "text": [
      "[*********************100%%**********************]  1 of 1 completed\n"
     ]
    },
    {
     "data": {
      "text/plain": "Date\n1962-01-03    0.008703\n1962-01-04   -0.010015\n1962-01-05   -0.019890\n1962-01-08   -0.018928\n1962-01-09    0.011760\nName: Close, dtype: float64"
     },
     "execution_count": 1,
     "metadata": {},
     "output_type": "execute_result"
    }
   ],
   "source": [
    "import numpy as np\n",
    "import pandas as pd\n",
    "\n",
    "import yfinance as yf\n",
    "\n",
    "start_date = '1962-01-01'\n",
    "end_date = '2024-01-01'\n",
    "\n",
    "ibm = yf.download('IBM', start = start_date, end = end_date)\n",
    "ibm_ret = np.log(ibm.Close / ibm.Close.shift(1)).dropna()\n",
    "ibm_ret.head()"
   ]
  },
  {
   "cell_type": "code",
   "execution_count": 2,
   "outputs": [],
   "source": [
    "from FinancialMachineLearning.backtest.backtest_statistics import *\n",
    "\n",
    "tpos = timing_of_flattening_and_flips(target_positions = ibm_ret)"
   ],
   "metadata": {
    "collapsed": false,
    "ExecuteTime": {
     "end_time": "2024-01-08T16:16:22.523922Z",
     "start_time": "2024-01-08T16:16:22.517153Z"
    }
   },
   "id": "558db6a5a651caf"
  },
  {
   "cell_type": "code",
   "execution_count": 3,
   "outputs": [
    {
     "data": {
      "text/plain": "Date\n1962-01-04   -0.010015\n1962-01-09    0.011760\n1962-01-16   -0.010648\n1962-01-18    0.002716\n1962-01-22   -0.001808\n                ...   \n2023-12-13   -0.006640\n2023-12-18    0.003139\n2023-12-19   -0.007277\n2023-12-21    0.004551\n2023-12-29   -0.001222\nName: Close, Length: 7824, dtype: float64"
     },
     "execution_count": 3,
     "metadata": {},
     "output_type": "execute_result"
    }
   ],
   "source": [
    "ibm_ret[tpos]"
   ],
   "metadata": {
    "collapsed": false,
    "ExecuteTime": {
     "end_time": "2024-01-08T16:16:22.530156Z",
     "start_time": "2024-01-08T16:16:22.524789Z"
    }
   },
   "id": "950a0353e94692b5"
  },
  {
   "cell_type": "code",
   "execution_count": 4,
   "outputs": [
    {
     "data": {
      "text/plain": "1.9722818971740315"
     },
     "execution_count": 4,
     "metadata": {},
     "output_type": "execute_result"
    }
   ],
   "source": [
    "average_holding_period(ibm_ret)"
   ],
   "metadata": {
    "collapsed": false,
    "ExecuteTime": {
     "end_time": "2024-01-08T16:16:25.962639Z",
     "start_time": "2024-01-08T16:16:22.529448Z"
    }
   },
   "id": "aea948678f0b6a72"
  },
  {
   "cell_type": "code",
   "execution_count": 5,
   "outputs": [
    {
     "data": {
      "text/plain": "2.7516034013053217"
     },
     "execution_count": 5,
     "metadata": {},
     "output_type": "execute_result"
    }
   ],
   "source": [
    "average_holding_period(ibm_ret[tpos])"
   ],
   "metadata": {
    "collapsed": false,
    "ExecuteTime": {
     "end_time": "2024-01-08T16:16:27.828991Z",
     "start_time": "2024-01-08T16:16:25.958421Z"
    }
   },
   "id": "aad470defa11f0e2"
  },
  {
   "cell_type": "markdown",
   "source": [
    "#### Run\n",
    "\n",
    "투자 전략은 IID process로부터 추출된 수익률을 생성하는 경우가 드물다\n",
    "\n",
    "**수익률 집중**"
   ],
   "metadata": {
    "collapsed": false
   },
   "id": "d4d7fa3d29c30b38"
  },
  {
   "cell_type": "code",
   "execution_count": 6,
   "outputs": [],
   "source": [
    "rHHIPos = bets_concentration(ibm_ret[ibm_ret >= 0])\n",
    "rHHINeg = bets_concentration(ibm_ret[ibm_ret < 0])"
   ],
   "metadata": {
    "collapsed": false,
    "ExecuteTime": {
     "end_time": "2024-01-08T16:16:27.829259Z",
     "start_time": "2024-01-08T16:16:27.824566Z"
    }
   },
   "id": "95b3a8e1f434126d"
  },
  {
   "cell_type": "code",
   "execution_count": 7,
   "outputs": [
    {
     "name": "stdout",
     "output_type": "stream",
     "text": [
      "positive return concentration : 0.0001344589493353432\n",
      "negative return concentration : 0.0001434386472541928\n"
     ]
    }
   ],
   "source": [
    "print(f\"positive return concentration : {rHHIPos}\")\n",
    "print(f\"negative return concentration : {rHHINeg}\")"
   ],
   "metadata": {
    "collapsed": false,
    "ExecuteTime": {
     "end_time": "2024-01-08T16:16:27.830670Z",
     "start_time": "2024-01-08T16:16:27.828609Z"
    }
   },
   "id": "8e3f38962c53e94a"
  },
  {
   "cell_type": "code",
   "execution_count": 8,
   "outputs": [],
   "source": [
    "tHHI = bets_concentration(\n",
    "    ibm_ret.groupby(pd.Grouper(freq='M')).count()\n",
    ")"
   ],
   "metadata": {
    "collapsed": false,
    "ExecuteTime": {
     "end_time": "2024-01-08T16:16:27.839133Z",
     "start_time": "2024-01-08T16:16:27.836759Z"
    }
   },
   "id": "8743c185609d42e1"
  },
  {
   "cell_type": "code",
   "execution_count": 9,
   "outputs": [
    {
     "data": {
      "text/plain": "4.558249213681642e-06"
     },
     "execution_count": 9,
     "metadata": {},
     "output_type": "execute_result"
    }
   ],
   "source": [
    "tHHI"
   ],
   "metadata": {
    "collapsed": false,
    "ExecuteTime": {
     "end_time": "2024-01-08T16:16:27.865908Z",
     "start_time": "2024-01-08T16:16:27.841691Z"
    }
   },
   "id": "b476bf88893d3fb9"
  },
  {
   "cell_type": "markdown",
   "source": [
    "**Drawdown and Time under Water**"
   ],
   "metadata": {
    "collapsed": false
   },
   "id": "1e85dec40d12eaad"
  },
  {
   "cell_type": "code",
   "execution_count": 10,
   "outputs": [],
   "source": [
    "drawdown, time_under_water = drawdown_and_time_under_water(ibm_ret)"
   ],
   "metadata": {
    "collapsed": false,
    "ExecuteTime": {
     "end_time": "2024-01-08T16:16:27.866440Z",
     "start_time": "2024-01-08T16:16:27.844641Z"
    }
   },
   "id": "a76b0dfab29e8162"
  }
 ],
 "metadata": {
  "kernelspec": {
   "display_name": "Python 3",
   "language": "python",
   "name": "python3"
  },
  "language_info": {
   "codemirror_mode": {
    "name": "ipython",
    "version": 2
   },
   "file_extension": ".py",
   "mimetype": "text/x-python",
   "name": "python",
   "nbconvert_exporter": "python",
   "pygments_lexer": "ipython2",
   "version": "2.7.6"
  }
 },
 "nbformat": 4,
 "nbformat_minor": 5
}
